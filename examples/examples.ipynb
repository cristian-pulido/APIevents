{
 "cells": [
  {
   "cell_type": "code",
   "execution_count": 1,
   "metadata": {},
   "outputs": [],
   "source": [
    "import sys\n",
    "sys.path.append('../')"
   ]
  },
  {
   "cell_type": "code",
   "execution_count": 2,
   "metadata": {},
   "outputs": [],
   "source": [
    "import pandas as pd\n",
    "from constantmanager import EVENTS_TYPE, ADITIONAL_TYPES, DATETIME, EVENTS_TYPE, LATITUDE, LONGITUDE, ADITIONAL_TYPES, FREQUENCY"
   ]
  },
  {
   "cell_type": "code",
   "execution_count": 3,
   "metadata": {},
   "outputs": [],
   "source": [
    "#DATA LOAD\n",
    "xls = pd.ExcelFile('../../TM proyect/TM cases and logs.xlsx')\n",
    "calls = pd.read_excel(xls, 'WorkLog')\n",
    "events = pd.read_excel(xls, 'CaseLog')"
   ]
  },
  {
   "cell_type": "code",
   "execution_count": 4,
   "metadata": {},
   "outputs": [],
   "source": [
    "from descriptions.utils_description import create_Subdata"
   ]
  },
  {
   "cell_type": "code",
   "execution_count": 5,
   "metadata": {},
   "outputs": [
    {
     "data": {
      "text/html": [
       "<div>\n",
       "<style scoped>\n",
       "    .dataframe tbody tr th:only-of-type {\n",
       "        vertical-align: middle;\n",
       "    }\n",
       "\n",
       "    .dataframe tbody tr th {\n",
       "        vertical-align: top;\n",
       "    }\n",
       "\n",
       "    .dataframe thead th {\n",
       "        text-align: right;\n",
       "    }\n",
       "</style>\n",
       "<table border=\"1\" class=\"dataframe\">\n",
       "  <thead>\n",
       "    <tr style=\"text-align: right;\">\n",
       "      <th></th>\n",
       "      <th>CaseTypeName</th>\n",
       "      <th>Frequency</th>\n",
       "    </tr>\n",
       "  </thead>\n",
       "  <tbody>\n",
       "    <tr>\n",
       "      <th>0</th>\n",
       "      <td>Assistans</td>\n",
       "      <td>1505</td>\n",
       "    </tr>\n",
       "    <tr>\n",
       "      <th>2</th>\n",
       "      <td>Skadeärende</td>\n",
       "      <td>1036</td>\n",
       "    </tr>\n",
       "    <tr>\n",
       "      <th>1</th>\n",
       "      <td>Påringningsärende</td>\n",
       "      <td>333</td>\n",
       "    </tr>\n",
       "    <tr>\n",
       "      <th>3</th>\n",
       "      <td>Transport</td>\n",
       "      <td>35</td>\n",
       "    </tr>\n",
       "  </tbody>\n",
       "</table>\n",
       "</div>"
      ],
      "text/plain": [
       "        CaseTypeName  Frequency\n",
       "0          Assistans       1505\n",
       "2        Skadeärende       1036\n",
       "1  Påringningsärende        333\n",
       "3          Transport         35"
      ]
     },
     "execution_count": 5,
     "metadata": {},
     "output_type": "execute_result"
    }
   ],
   "source": [
    "create_Subdata(events,[EVENTS_TYPE])"
   ]
  },
  {
   "cell_type": "code",
   "execution_count": 6,
   "metadata": {},
   "outputs": [
    {
     "data": {
      "text/html": [
       "<div>\n",
       "<style scoped>\n",
       "    .dataframe tbody tr th:only-of-type {\n",
       "        vertical-align: middle;\n",
       "    }\n",
       "\n",
       "    .dataframe tbody tr th {\n",
       "        vertical-align: top;\n",
       "    }\n",
       "\n",
       "    .dataframe thead th {\n",
       "        text-align: right;\n",
       "    }\n",
       "</style>\n",
       "<table border=\"1\" class=\"dataframe\">\n",
       "  <thead>\n",
       "    <tr style=\"text-align: right;\">\n",
       "      <th></th>\n",
       "      <th>CaseTypeName</th>\n",
       "      <th>StartTime</th>\n",
       "      <th>Frequency</th>\n",
       "    </tr>\n",
       "  </thead>\n",
       "  <tbody>\n",
       "    <tr>\n",
       "      <th>2790</th>\n",
       "      <td>Skadeärende</td>\n",
       "      <td>2021-09-17 12:58:00.0000000</td>\n",
       "      <td>3</td>\n",
       "    </tr>\n",
       "    <tr>\n",
       "      <th>2483</th>\n",
       "      <td>Skadeärende</td>\n",
       "      <td>2021-05-19 13:01:00.0000000</td>\n",
       "      <td>2</td>\n",
       "    </tr>\n",
       "    <tr>\n",
       "      <th>2743</th>\n",
       "      <td>Skadeärende</td>\n",
       "      <td>2021-08-18 10:46:00.0000000</td>\n",
       "      <td>2</td>\n",
       "    </tr>\n",
       "    <tr>\n",
       "      <th>542</th>\n",
       "      <td>Assistans</td>\n",
       "      <td>2020-07-22 11:11:00.0000000</td>\n",
       "      <td>2</td>\n",
       "    </tr>\n",
       "    <tr>\n",
       "      <th>960</th>\n",
       "      <td>Assistans</td>\n",
       "      <td>2021-06-14 09:23:00.0000000</td>\n",
       "      <td>2</td>\n",
       "    </tr>\n",
       "    <tr>\n",
       "      <th>...</th>\n",
       "      <td>...</td>\n",
       "      <td>...</td>\n",
       "      <td>...</td>\n",
       "    </tr>\n",
       "    <tr>\n",
       "      <th>971</th>\n",
       "      <td>Assistans</td>\n",
       "      <td>2021-06-17 18:23:00.0000000</td>\n",
       "      <td>1</td>\n",
       "    </tr>\n",
       "    <tr>\n",
       "      <th>972</th>\n",
       "      <td>Assistans</td>\n",
       "      <td>2021-06-18 13:55:00.0000000</td>\n",
       "      <td>1</td>\n",
       "    </tr>\n",
       "    <tr>\n",
       "      <th>973</th>\n",
       "      <td>Assistans</td>\n",
       "      <td>2021-06-18 14:34:00.0000000</td>\n",
       "      <td>1</td>\n",
       "    </tr>\n",
       "    <tr>\n",
       "      <th>974</th>\n",
       "      <td>Assistans</td>\n",
       "      <td>2021-06-18 20:26:00.0000000</td>\n",
       "      <td>1</td>\n",
       "    </tr>\n",
       "    <tr>\n",
       "      <th>2898</th>\n",
       "      <td>Transport</td>\n",
       "      <td>2021-10-15 09:36:00.0000000</td>\n",
       "      <td>1</td>\n",
       "    </tr>\n",
       "  </tbody>\n",
       "</table>\n",
       "<p>2899 rows × 3 columns</p>\n",
       "</div>"
      ],
      "text/plain": [
       "     CaseTypeName                    StartTime  Frequency\n",
       "2790  Skadeärende  2021-09-17 12:58:00.0000000          3\n",
       "2483  Skadeärende  2021-05-19 13:01:00.0000000          2\n",
       "2743  Skadeärende  2021-08-18 10:46:00.0000000          2\n",
       "542     Assistans  2020-07-22 11:11:00.0000000          2\n",
       "960     Assistans  2021-06-14 09:23:00.0000000          2\n",
       "...           ...                          ...        ...\n",
       "971     Assistans  2021-06-17 18:23:00.0000000          1\n",
       "972     Assistans  2021-06-18 13:55:00.0000000          1\n",
       "973     Assistans  2021-06-18 14:34:00.0000000          1\n",
       "974     Assistans  2021-06-18 20:26:00.0000000          1\n",
       "2898    Transport  2021-10-15 09:36:00.0000000          1\n",
       "\n",
       "[2899 rows x 3 columns]"
      ]
     },
     "execution_count": 6,
     "metadata": {},
     "output_type": "execute_result"
    }
   ],
   "source": [
    "create_Subdata(events,[EVENTS_TYPE,DATETIME])"
   ]
  },
  {
   "cell_type": "code",
   "execution_count": 7,
   "metadata": {},
   "outputs": [],
   "source": [
    "from descriptions.utils_description import bar_figure_top_values"
   ]
  },
  {
   "cell_type": "code",
   "execution_count": 8,
   "metadata": {},
   "outputs": [
    {
     "data": {
      "application/vnd.plotly.v1+json": {
       "config": {
        "plotlyServerURL": "https://plot.ly"
       },
       "data": [
        {
         "alignmentgroup": "True",
         "hovertemplate": "CaseTypeName=%{y}<br>Frequency=%{x}<extra></extra>",
         "legendgroup": "Assistans",
         "marker": {
          "color": "rgb(56, 166, 165)",
          "pattern": {
           "shape": ""
          }
         },
         "name": "Assistans",
         "offsetgroup": "Assistans",
         "orientation": "h",
         "showlegend": true,
         "textposition": "auto",
         "type": "bar",
         "x": [
          1505
         ],
         "xaxis": "x",
         "y": [
          "Assistans"
         ],
         "yaxis": "y"
        },
        {
         "alignmentgroup": "True",
         "hovertemplate": "CaseTypeName=%{y}<br>Frequency=%{x}<extra></extra>",
         "legendgroup": "Skadeärende",
         "marker": {
          "color": "rgb(15, 133, 84)",
          "pattern": {
           "shape": ""
          }
         },
         "name": "Skadeärende",
         "offsetgroup": "Skadeärende",
         "orientation": "h",
         "showlegend": true,
         "textposition": "auto",
         "type": "bar",
         "x": [
          1036
         ],
         "xaxis": "x",
         "y": [
          "Skadeärende"
         ],
         "yaxis": "y"
        },
        {
         "alignmentgroup": "True",
         "hovertemplate": "CaseTypeName=%{y}<br>Frequency=%{x}<extra></extra>",
         "legendgroup": "Påringningsärende",
         "marker": {
          "color": "rgb(115, 175, 72)",
          "pattern": {
           "shape": ""
          }
         },
         "name": "Påringningsärende",
         "offsetgroup": "Påringningsärende",
         "orientation": "h",
         "showlegend": true,
         "textposition": "auto",
         "type": "bar",
         "x": [
          333
         ],
         "xaxis": "x",
         "y": [
          "Påringningsärende"
         ],
         "yaxis": "y"
        },
        {
         "alignmentgroup": "True",
         "hovertemplate": "CaseTypeName=%{y}<br>Frequency=%{x}<extra></extra>",
         "legendgroup": "Transport",
         "marker": {
          "color": "rgb(237, 173, 8)",
          "pattern": {
           "shape": ""
          }
         },
         "name": "Transport",
         "offsetgroup": "Transport",
         "orientation": "h",
         "showlegend": true,
         "textposition": "auto",
         "type": "bar",
         "x": [
          35
         ],
         "xaxis": "x",
         "y": [
          "Transport"
         ],
         "yaxis": "y"
        }
       ],
       "layout": {
        "barmode": "relative",
        "legend": {
         "title": {
          "text": "CaseTypeName"
         },
         "tracegroupgap": 0
        },
        "margin": {
         "t": 60
        },
        "showlegend": false,
        "template": {
         "data": {
          "bar": [
           {
            "error_x": {
             "color": "#2a3f5f"
            },
            "error_y": {
             "color": "#2a3f5f"
            },
            "marker": {
             "line": {
              "color": "#E5ECF6",
              "width": 0.5
             },
             "pattern": {
              "fillmode": "overlay",
              "size": 10,
              "solidity": 0.2
             }
            },
            "type": "bar"
           }
          ],
          "barpolar": [
           {
            "marker": {
             "line": {
              "color": "#E5ECF6",
              "width": 0.5
             },
             "pattern": {
              "fillmode": "overlay",
              "size": 10,
              "solidity": 0.2
             }
            },
            "type": "barpolar"
           }
          ],
          "carpet": [
           {
            "aaxis": {
             "endlinecolor": "#2a3f5f",
             "gridcolor": "white",
             "linecolor": "white",
             "minorgridcolor": "white",
             "startlinecolor": "#2a3f5f"
            },
            "baxis": {
             "endlinecolor": "#2a3f5f",
             "gridcolor": "white",
             "linecolor": "white",
             "minorgridcolor": "white",
             "startlinecolor": "#2a3f5f"
            },
            "type": "carpet"
           }
          ],
          "choropleth": [
           {
            "colorbar": {
             "outlinewidth": 0,
             "ticks": ""
            },
            "type": "choropleth"
           }
          ],
          "contour": [
           {
            "colorbar": {
             "outlinewidth": 0,
             "ticks": ""
            },
            "colorscale": [
             [
              0,
              "#0d0887"
             ],
             [
              0.1111111111111111,
              "#46039f"
             ],
             [
              0.2222222222222222,
              "#7201a8"
             ],
             [
              0.3333333333333333,
              "#9c179e"
             ],
             [
              0.4444444444444444,
              "#bd3786"
             ],
             [
              0.5555555555555556,
              "#d8576b"
             ],
             [
              0.6666666666666666,
              "#ed7953"
             ],
             [
              0.7777777777777778,
              "#fb9f3a"
             ],
             [
              0.8888888888888888,
              "#fdca26"
             ],
             [
              1,
              "#f0f921"
             ]
            ],
            "type": "contour"
           }
          ],
          "contourcarpet": [
           {
            "colorbar": {
             "outlinewidth": 0,
             "ticks": ""
            },
            "type": "contourcarpet"
           }
          ],
          "heatmap": [
           {
            "colorbar": {
             "outlinewidth": 0,
             "ticks": ""
            },
            "colorscale": [
             [
              0,
              "#0d0887"
             ],
             [
              0.1111111111111111,
              "#46039f"
             ],
             [
              0.2222222222222222,
              "#7201a8"
             ],
             [
              0.3333333333333333,
              "#9c179e"
             ],
             [
              0.4444444444444444,
              "#bd3786"
             ],
             [
              0.5555555555555556,
              "#d8576b"
             ],
             [
              0.6666666666666666,
              "#ed7953"
             ],
             [
              0.7777777777777778,
              "#fb9f3a"
             ],
             [
              0.8888888888888888,
              "#fdca26"
             ],
             [
              1,
              "#f0f921"
             ]
            ],
            "type": "heatmap"
           }
          ],
          "heatmapgl": [
           {
            "colorbar": {
             "outlinewidth": 0,
             "ticks": ""
            },
            "colorscale": [
             [
              0,
              "#0d0887"
             ],
             [
              0.1111111111111111,
              "#46039f"
             ],
             [
              0.2222222222222222,
              "#7201a8"
             ],
             [
              0.3333333333333333,
              "#9c179e"
             ],
             [
              0.4444444444444444,
              "#bd3786"
             ],
             [
              0.5555555555555556,
              "#d8576b"
             ],
             [
              0.6666666666666666,
              "#ed7953"
             ],
             [
              0.7777777777777778,
              "#fb9f3a"
             ],
             [
              0.8888888888888888,
              "#fdca26"
             ],
             [
              1,
              "#f0f921"
             ]
            ],
            "type": "heatmapgl"
           }
          ],
          "histogram": [
           {
            "marker": {
             "pattern": {
              "fillmode": "overlay",
              "size": 10,
              "solidity": 0.2
             }
            },
            "type": "histogram"
           }
          ],
          "histogram2d": [
           {
            "colorbar": {
             "outlinewidth": 0,
             "ticks": ""
            },
            "colorscale": [
             [
              0,
              "#0d0887"
             ],
             [
              0.1111111111111111,
              "#46039f"
             ],
             [
              0.2222222222222222,
              "#7201a8"
             ],
             [
              0.3333333333333333,
              "#9c179e"
             ],
             [
              0.4444444444444444,
              "#bd3786"
             ],
             [
              0.5555555555555556,
              "#d8576b"
             ],
             [
              0.6666666666666666,
              "#ed7953"
             ],
             [
              0.7777777777777778,
              "#fb9f3a"
             ],
             [
              0.8888888888888888,
              "#fdca26"
             ],
             [
              1,
              "#f0f921"
             ]
            ],
            "type": "histogram2d"
           }
          ],
          "histogram2dcontour": [
           {
            "colorbar": {
             "outlinewidth": 0,
             "ticks": ""
            },
            "colorscale": [
             [
              0,
              "#0d0887"
             ],
             [
              0.1111111111111111,
              "#46039f"
             ],
             [
              0.2222222222222222,
              "#7201a8"
             ],
             [
              0.3333333333333333,
              "#9c179e"
             ],
             [
              0.4444444444444444,
              "#bd3786"
             ],
             [
              0.5555555555555556,
              "#d8576b"
             ],
             [
              0.6666666666666666,
              "#ed7953"
             ],
             [
              0.7777777777777778,
              "#fb9f3a"
             ],
             [
              0.8888888888888888,
              "#fdca26"
             ],
             [
              1,
              "#f0f921"
             ]
            ],
            "type": "histogram2dcontour"
           }
          ],
          "mesh3d": [
           {
            "colorbar": {
             "outlinewidth": 0,
             "ticks": ""
            },
            "type": "mesh3d"
           }
          ],
          "parcoords": [
           {
            "line": {
             "colorbar": {
              "outlinewidth": 0,
              "ticks": ""
             }
            },
            "type": "parcoords"
           }
          ],
          "pie": [
           {
            "automargin": true,
            "type": "pie"
           }
          ],
          "scatter": [
           {
            "marker": {
             "colorbar": {
              "outlinewidth": 0,
              "ticks": ""
             }
            },
            "type": "scatter"
           }
          ],
          "scatter3d": [
           {
            "line": {
             "colorbar": {
              "outlinewidth": 0,
              "ticks": ""
             }
            },
            "marker": {
             "colorbar": {
              "outlinewidth": 0,
              "ticks": ""
             }
            },
            "type": "scatter3d"
           }
          ],
          "scattercarpet": [
           {
            "marker": {
             "colorbar": {
              "outlinewidth": 0,
              "ticks": ""
             }
            },
            "type": "scattercarpet"
           }
          ],
          "scattergeo": [
           {
            "marker": {
             "colorbar": {
              "outlinewidth": 0,
              "ticks": ""
             }
            },
            "type": "scattergeo"
           }
          ],
          "scattergl": [
           {
            "marker": {
             "colorbar": {
              "outlinewidth": 0,
              "ticks": ""
             }
            },
            "type": "scattergl"
           }
          ],
          "scattermapbox": [
           {
            "marker": {
             "colorbar": {
              "outlinewidth": 0,
              "ticks": ""
             }
            },
            "type": "scattermapbox"
           }
          ],
          "scatterpolar": [
           {
            "marker": {
             "colorbar": {
              "outlinewidth": 0,
              "ticks": ""
             }
            },
            "type": "scatterpolar"
           }
          ],
          "scatterpolargl": [
           {
            "marker": {
             "colorbar": {
              "outlinewidth": 0,
              "ticks": ""
             }
            },
            "type": "scatterpolargl"
           }
          ],
          "scatterternary": [
           {
            "marker": {
             "colorbar": {
              "outlinewidth": 0,
              "ticks": ""
             }
            },
            "type": "scatterternary"
           }
          ],
          "surface": [
           {
            "colorbar": {
             "outlinewidth": 0,
             "ticks": ""
            },
            "colorscale": [
             [
              0,
              "#0d0887"
             ],
             [
              0.1111111111111111,
              "#46039f"
             ],
             [
              0.2222222222222222,
              "#7201a8"
             ],
             [
              0.3333333333333333,
              "#9c179e"
             ],
             [
              0.4444444444444444,
              "#bd3786"
             ],
             [
              0.5555555555555556,
              "#d8576b"
             ],
             [
              0.6666666666666666,
              "#ed7953"
             ],
             [
              0.7777777777777778,
              "#fb9f3a"
             ],
             [
              0.8888888888888888,
              "#fdca26"
             ],
             [
              1,
              "#f0f921"
             ]
            ],
            "type": "surface"
           }
          ],
          "table": [
           {
            "cells": {
             "fill": {
              "color": "#EBF0F8"
             },
             "line": {
              "color": "white"
             }
            },
            "header": {
             "fill": {
              "color": "#C8D4E3"
             },
             "line": {
              "color": "white"
             }
            },
            "type": "table"
           }
          ]
         },
         "layout": {
          "annotationdefaults": {
           "arrowcolor": "#2a3f5f",
           "arrowhead": 0,
           "arrowwidth": 1
          },
          "autotypenumbers": "strict",
          "coloraxis": {
           "colorbar": {
            "outlinewidth": 0,
            "ticks": ""
           }
          },
          "colorscale": {
           "diverging": [
            [
             0,
             "#8e0152"
            ],
            [
             0.1,
             "#c51b7d"
            ],
            [
             0.2,
             "#de77ae"
            ],
            [
             0.3,
             "#f1b6da"
            ],
            [
             0.4,
             "#fde0ef"
            ],
            [
             0.5,
             "#f7f7f7"
            ],
            [
             0.6,
             "#e6f5d0"
            ],
            [
             0.7,
             "#b8e186"
            ],
            [
             0.8,
             "#7fbc41"
            ],
            [
             0.9,
             "#4d9221"
            ],
            [
             1,
             "#276419"
            ]
           ],
           "sequential": [
            [
             0,
             "#0d0887"
            ],
            [
             0.1111111111111111,
             "#46039f"
            ],
            [
             0.2222222222222222,
             "#7201a8"
            ],
            [
             0.3333333333333333,
             "#9c179e"
            ],
            [
             0.4444444444444444,
             "#bd3786"
            ],
            [
             0.5555555555555556,
             "#d8576b"
            ],
            [
             0.6666666666666666,
             "#ed7953"
            ],
            [
             0.7777777777777778,
             "#fb9f3a"
            ],
            [
             0.8888888888888888,
             "#fdca26"
            ],
            [
             1,
             "#f0f921"
            ]
           ],
           "sequentialminus": [
            [
             0,
             "#0d0887"
            ],
            [
             0.1111111111111111,
             "#46039f"
            ],
            [
             0.2222222222222222,
             "#7201a8"
            ],
            [
             0.3333333333333333,
             "#9c179e"
            ],
            [
             0.4444444444444444,
             "#bd3786"
            ],
            [
             0.5555555555555556,
             "#d8576b"
            ],
            [
             0.6666666666666666,
             "#ed7953"
            ],
            [
             0.7777777777777778,
             "#fb9f3a"
            ],
            [
             0.8888888888888888,
             "#fdca26"
            ],
            [
             1,
             "#f0f921"
            ]
           ]
          },
          "colorway": [
           "#636efa",
           "#EF553B",
           "#00cc96",
           "#ab63fa",
           "#FFA15A",
           "#19d3f3",
           "#FF6692",
           "#B6E880",
           "#FF97FF",
           "#FECB52"
          ],
          "font": {
           "color": "#2a3f5f"
          },
          "geo": {
           "bgcolor": "white",
           "lakecolor": "white",
           "landcolor": "#E5ECF6",
           "showlakes": true,
           "showland": true,
           "subunitcolor": "white"
          },
          "hoverlabel": {
           "align": "left"
          },
          "hovermode": "closest",
          "mapbox": {
           "style": "light"
          },
          "paper_bgcolor": "white",
          "plot_bgcolor": "#E5ECF6",
          "polar": {
           "angularaxis": {
            "gridcolor": "white",
            "linecolor": "white",
            "ticks": ""
           },
           "bgcolor": "#E5ECF6",
           "radialaxis": {
            "gridcolor": "white",
            "linecolor": "white",
            "ticks": ""
           }
          },
          "scene": {
           "xaxis": {
            "backgroundcolor": "#E5ECF6",
            "gridcolor": "white",
            "gridwidth": 2,
            "linecolor": "white",
            "showbackground": true,
            "ticks": "",
            "zerolinecolor": "white"
           },
           "yaxis": {
            "backgroundcolor": "#E5ECF6",
            "gridcolor": "white",
            "gridwidth": 2,
            "linecolor": "white",
            "showbackground": true,
            "ticks": "",
            "zerolinecolor": "white"
           },
           "zaxis": {
            "backgroundcolor": "#E5ECF6",
            "gridcolor": "white",
            "gridwidth": 2,
            "linecolor": "white",
            "showbackground": true,
            "ticks": "",
            "zerolinecolor": "white"
           }
          },
          "shapedefaults": {
           "line": {
            "color": "#2a3f5f"
           }
          },
          "ternary": {
           "aaxis": {
            "gridcolor": "white",
            "linecolor": "white",
            "ticks": ""
           },
           "baxis": {
            "gridcolor": "white",
            "linecolor": "white",
            "ticks": ""
           },
           "bgcolor": "#E5ECF6",
           "caxis": {
            "gridcolor": "white",
            "linecolor": "white",
            "ticks": ""
           }
          },
          "title": {
           "x": 0.05
          },
          "xaxis": {
           "automargin": true,
           "gridcolor": "white",
           "linecolor": "white",
           "ticks": "",
           "title": {
            "standoff": 15
           },
           "zerolinecolor": "white",
           "zerolinewidth": 2
          },
          "yaxis": {
           "automargin": true,
           "gridcolor": "white",
           "linecolor": "white",
           "ticks": "",
           "title": {
            "standoff": 15
           },
           "zerolinecolor": "white",
           "zerolinewidth": 2
          }
         }
        },
        "xaxis": {
         "anchor": "y",
         "domain": [
          0,
          1
         ],
         "title": {
          "text": "Frequency"
         }
        },
        "yaxis": {
         "anchor": "x",
         "categoryarray": [
          "Transport",
          "Påringningsärende",
          "Skadeärende",
          "Assistans"
         ],
         "categoryorder": "array",
         "domain": [
          0,
          1
         ],
         "title": {
          "text": "CaseTypeName"
         },
         "type": "category"
        }
       }
      }
     },
     "metadata": {},
     "output_type": "display_data"
    }
   ],
   "source": [
    "bar_figure_top_values(create_Subdata(events,EVENTS_TYPE),EVENTS_TYPE)"
   ]
  },
  {
   "cell_type": "code",
   "execution_count": 9,
   "metadata": {},
   "outputs": [],
   "source": [
    "from descriptions.utils_description import line_figure"
   ]
  },
  {
   "cell_type": "code",
   "execution_count": 10,
   "metadata": {},
   "outputs": [
    {
     "data": {
      "application/vnd.plotly.v1+json": {
       "config": {
        "plotlyServerURL": "https://plot.ly"
       },
       "data": [
        {
         "hovertemplate": "ShipType=%{x}<br>Frequency=%{y}<extra></extra>",
         "legendgroup": "",
         "line": {
          "color": "rgb(29, 105, 150)",
          "dash": "solid"
         },
         "marker": {
          "symbol": "circle"
         },
         "mode": "lines",
         "name": "",
         "orientation": "v",
         "showlegend": false,
         "type": "scatter",
         "x": [
          "Motorbåt",
          "Segelbåt",
          "Vattenskoter",
          "Annat",
          "Båttrailer"
         ],
         "xaxis": "x",
         "y": [
          2257,
          553,
          17,
          12,
          3
         ],
         "yaxis": "y"
        }
       ],
       "layout": {
        "annotations": [
         {
          "font": {
           "color": "black",
           "family": "Courier New, monospace",
           "size": 16
          },
          "showarrow": false,
          "text": "Båttrailer : 3",
          "x": "Båttrailer",
          "xref": "x",
          "y": 3,
          "yref": "y"
         },
         {
          "font": {
           "color": "black",
           "family": "Courier New, monospace",
           "size": 16
          },
          "showarrow": false,
          "text": "Motorbåt : 2257",
          "x": "Motorbåt",
          "xref": "x",
          "y": 2257,
          "yref": "y"
         }
        ],
        "legend": {
         "tracegroupgap": 0
        },
        "margin": {
         "t": 60
        },
        "template": {
         "data": {
          "bar": [
           {
            "error_x": {
             "color": "#2a3f5f"
            },
            "error_y": {
             "color": "#2a3f5f"
            },
            "marker": {
             "line": {
              "color": "#E5ECF6",
              "width": 0.5
             },
             "pattern": {
              "fillmode": "overlay",
              "size": 10,
              "solidity": 0.2
             }
            },
            "type": "bar"
           }
          ],
          "barpolar": [
           {
            "marker": {
             "line": {
              "color": "#E5ECF6",
              "width": 0.5
             },
             "pattern": {
              "fillmode": "overlay",
              "size": 10,
              "solidity": 0.2
             }
            },
            "type": "barpolar"
           }
          ],
          "carpet": [
           {
            "aaxis": {
             "endlinecolor": "#2a3f5f",
             "gridcolor": "white",
             "linecolor": "white",
             "minorgridcolor": "white",
             "startlinecolor": "#2a3f5f"
            },
            "baxis": {
             "endlinecolor": "#2a3f5f",
             "gridcolor": "white",
             "linecolor": "white",
             "minorgridcolor": "white",
             "startlinecolor": "#2a3f5f"
            },
            "type": "carpet"
           }
          ],
          "choropleth": [
           {
            "colorbar": {
             "outlinewidth": 0,
             "ticks": ""
            },
            "type": "choropleth"
           }
          ],
          "contour": [
           {
            "colorbar": {
             "outlinewidth": 0,
             "ticks": ""
            },
            "colorscale": [
             [
              0,
              "#0d0887"
             ],
             [
              0.1111111111111111,
              "#46039f"
             ],
             [
              0.2222222222222222,
              "#7201a8"
             ],
             [
              0.3333333333333333,
              "#9c179e"
             ],
             [
              0.4444444444444444,
              "#bd3786"
             ],
             [
              0.5555555555555556,
              "#d8576b"
             ],
             [
              0.6666666666666666,
              "#ed7953"
             ],
             [
              0.7777777777777778,
              "#fb9f3a"
             ],
             [
              0.8888888888888888,
              "#fdca26"
             ],
             [
              1,
              "#f0f921"
             ]
            ],
            "type": "contour"
           }
          ],
          "contourcarpet": [
           {
            "colorbar": {
             "outlinewidth": 0,
             "ticks": ""
            },
            "type": "contourcarpet"
           }
          ],
          "heatmap": [
           {
            "colorbar": {
             "outlinewidth": 0,
             "ticks": ""
            },
            "colorscale": [
             [
              0,
              "#0d0887"
             ],
             [
              0.1111111111111111,
              "#46039f"
             ],
             [
              0.2222222222222222,
              "#7201a8"
             ],
             [
              0.3333333333333333,
              "#9c179e"
             ],
             [
              0.4444444444444444,
              "#bd3786"
             ],
             [
              0.5555555555555556,
              "#d8576b"
             ],
             [
              0.6666666666666666,
              "#ed7953"
             ],
             [
              0.7777777777777778,
              "#fb9f3a"
             ],
             [
              0.8888888888888888,
              "#fdca26"
             ],
             [
              1,
              "#f0f921"
             ]
            ],
            "type": "heatmap"
           }
          ],
          "heatmapgl": [
           {
            "colorbar": {
             "outlinewidth": 0,
             "ticks": ""
            },
            "colorscale": [
             [
              0,
              "#0d0887"
             ],
             [
              0.1111111111111111,
              "#46039f"
             ],
             [
              0.2222222222222222,
              "#7201a8"
             ],
             [
              0.3333333333333333,
              "#9c179e"
             ],
             [
              0.4444444444444444,
              "#bd3786"
             ],
             [
              0.5555555555555556,
              "#d8576b"
             ],
             [
              0.6666666666666666,
              "#ed7953"
             ],
             [
              0.7777777777777778,
              "#fb9f3a"
             ],
             [
              0.8888888888888888,
              "#fdca26"
             ],
             [
              1,
              "#f0f921"
             ]
            ],
            "type": "heatmapgl"
           }
          ],
          "histogram": [
           {
            "marker": {
             "pattern": {
              "fillmode": "overlay",
              "size": 10,
              "solidity": 0.2
             }
            },
            "type": "histogram"
           }
          ],
          "histogram2d": [
           {
            "colorbar": {
             "outlinewidth": 0,
             "ticks": ""
            },
            "colorscale": [
             [
              0,
              "#0d0887"
             ],
             [
              0.1111111111111111,
              "#46039f"
             ],
             [
              0.2222222222222222,
              "#7201a8"
             ],
             [
              0.3333333333333333,
              "#9c179e"
             ],
             [
              0.4444444444444444,
              "#bd3786"
             ],
             [
              0.5555555555555556,
              "#d8576b"
             ],
             [
              0.6666666666666666,
              "#ed7953"
             ],
             [
              0.7777777777777778,
              "#fb9f3a"
             ],
             [
              0.8888888888888888,
              "#fdca26"
             ],
             [
              1,
              "#f0f921"
             ]
            ],
            "type": "histogram2d"
           }
          ],
          "histogram2dcontour": [
           {
            "colorbar": {
             "outlinewidth": 0,
             "ticks": ""
            },
            "colorscale": [
             [
              0,
              "#0d0887"
             ],
             [
              0.1111111111111111,
              "#46039f"
             ],
             [
              0.2222222222222222,
              "#7201a8"
             ],
             [
              0.3333333333333333,
              "#9c179e"
             ],
             [
              0.4444444444444444,
              "#bd3786"
             ],
             [
              0.5555555555555556,
              "#d8576b"
             ],
             [
              0.6666666666666666,
              "#ed7953"
             ],
             [
              0.7777777777777778,
              "#fb9f3a"
             ],
             [
              0.8888888888888888,
              "#fdca26"
             ],
             [
              1,
              "#f0f921"
             ]
            ],
            "type": "histogram2dcontour"
           }
          ],
          "mesh3d": [
           {
            "colorbar": {
             "outlinewidth": 0,
             "ticks": ""
            },
            "type": "mesh3d"
           }
          ],
          "parcoords": [
           {
            "line": {
             "colorbar": {
              "outlinewidth": 0,
              "ticks": ""
             }
            },
            "type": "parcoords"
           }
          ],
          "pie": [
           {
            "automargin": true,
            "type": "pie"
           }
          ],
          "scatter": [
           {
            "marker": {
             "colorbar": {
              "outlinewidth": 0,
              "ticks": ""
             }
            },
            "type": "scatter"
           }
          ],
          "scatter3d": [
           {
            "line": {
             "colorbar": {
              "outlinewidth": 0,
              "ticks": ""
             }
            },
            "marker": {
             "colorbar": {
              "outlinewidth": 0,
              "ticks": ""
             }
            },
            "type": "scatter3d"
           }
          ],
          "scattercarpet": [
           {
            "marker": {
             "colorbar": {
              "outlinewidth": 0,
              "ticks": ""
             }
            },
            "type": "scattercarpet"
           }
          ],
          "scattergeo": [
           {
            "marker": {
             "colorbar": {
              "outlinewidth": 0,
              "ticks": ""
             }
            },
            "type": "scattergeo"
           }
          ],
          "scattergl": [
           {
            "marker": {
             "colorbar": {
              "outlinewidth": 0,
              "ticks": ""
             }
            },
            "type": "scattergl"
           }
          ],
          "scattermapbox": [
           {
            "marker": {
             "colorbar": {
              "outlinewidth": 0,
              "ticks": ""
             }
            },
            "type": "scattermapbox"
           }
          ],
          "scatterpolar": [
           {
            "marker": {
             "colorbar": {
              "outlinewidth": 0,
              "ticks": ""
             }
            },
            "type": "scatterpolar"
           }
          ],
          "scatterpolargl": [
           {
            "marker": {
             "colorbar": {
              "outlinewidth": 0,
              "ticks": ""
             }
            },
            "type": "scatterpolargl"
           }
          ],
          "scatterternary": [
           {
            "marker": {
             "colorbar": {
              "outlinewidth": 0,
              "ticks": ""
             }
            },
            "type": "scatterternary"
           }
          ],
          "surface": [
           {
            "colorbar": {
             "outlinewidth": 0,
             "ticks": ""
            },
            "colorscale": [
             [
              0,
              "#0d0887"
             ],
             [
              0.1111111111111111,
              "#46039f"
             ],
             [
              0.2222222222222222,
              "#7201a8"
             ],
             [
              0.3333333333333333,
              "#9c179e"
             ],
             [
              0.4444444444444444,
              "#bd3786"
             ],
             [
              0.5555555555555556,
              "#d8576b"
             ],
             [
              0.6666666666666666,
              "#ed7953"
             ],
             [
              0.7777777777777778,
              "#fb9f3a"
             ],
             [
              0.8888888888888888,
              "#fdca26"
             ],
             [
              1,
              "#f0f921"
             ]
            ],
            "type": "surface"
           }
          ],
          "table": [
           {
            "cells": {
             "fill": {
              "color": "#EBF0F8"
             },
             "line": {
              "color": "white"
             }
            },
            "header": {
             "fill": {
              "color": "#C8D4E3"
             },
             "line": {
              "color": "white"
             }
            },
            "type": "table"
           }
          ]
         },
         "layout": {
          "annotationdefaults": {
           "arrowcolor": "#2a3f5f",
           "arrowhead": 0,
           "arrowwidth": 1
          },
          "autotypenumbers": "strict",
          "coloraxis": {
           "colorbar": {
            "outlinewidth": 0,
            "ticks": ""
           }
          },
          "colorscale": {
           "diverging": [
            [
             0,
             "#8e0152"
            ],
            [
             0.1,
             "#c51b7d"
            ],
            [
             0.2,
             "#de77ae"
            ],
            [
             0.3,
             "#f1b6da"
            ],
            [
             0.4,
             "#fde0ef"
            ],
            [
             0.5,
             "#f7f7f7"
            ],
            [
             0.6,
             "#e6f5d0"
            ],
            [
             0.7,
             "#b8e186"
            ],
            [
             0.8,
             "#7fbc41"
            ],
            [
             0.9,
             "#4d9221"
            ],
            [
             1,
             "#276419"
            ]
           ],
           "sequential": [
            [
             0,
             "#0d0887"
            ],
            [
             0.1111111111111111,
             "#46039f"
            ],
            [
             0.2222222222222222,
             "#7201a8"
            ],
            [
             0.3333333333333333,
             "#9c179e"
            ],
            [
             0.4444444444444444,
             "#bd3786"
            ],
            [
             0.5555555555555556,
             "#d8576b"
            ],
            [
             0.6666666666666666,
             "#ed7953"
            ],
            [
             0.7777777777777778,
             "#fb9f3a"
            ],
            [
             0.8888888888888888,
             "#fdca26"
            ],
            [
             1,
             "#f0f921"
            ]
           ],
           "sequentialminus": [
            [
             0,
             "#0d0887"
            ],
            [
             0.1111111111111111,
             "#46039f"
            ],
            [
             0.2222222222222222,
             "#7201a8"
            ],
            [
             0.3333333333333333,
             "#9c179e"
            ],
            [
             0.4444444444444444,
             "#bd3786"
            ],
            [
             0.5555555555555556,
             "#d8576b"
            ],
            [
             0.6666666666666666,
             "#ed7953"
            ],
            [
             0.7777777777777778,
             "#fb9f3a"
            ],
            [
             0.8888888888888888,
             "#fdca26"
            ],
            [
             1,
             "#f0f921"
            ]
           ]
          },
          "colorway": [
           "#636efa",
           "#EF553B",
           "#00cc96",
           "#ab63fa",
           "#FFA15A",
           "#19d3f3",
           "#FF6692",
           "#B6E880",
           "#FF97FF",
           "#FECB52"
          ],
          "font": {
           "color": "#2a3f5f"
          },
          "geo": {
           "bgcolor": "white",
           "lakecolor": "white",
           "landcolor": "#E5ECF6",
           "showlakes": true,
           "showland": true,
           "subunitcolor": "white"
          },
          "hoverlabel": {
           "align": "left"
          },
          "hovermode": "closest",
          "mapbox": {
           "style": "light"
          },
          "paper_bgcolor": "white",
          "plot_bgcolor": "#E5ECF6",
          "polar": {
           "angularaxis": {
            "gridcolor": "white",
            "linecolor": "white",
            "ticks": ""
           },
           "bgcolor": "#E5ECF6",
           "radialaxis": {
            "gridcolor": "white",
            "linecolor": "white",
            "ticks": ""
           }
          },
          "scene": {
           "xaxis": {
            "backgroundcolor": "#E5ECF6",
            "gridcolor": "white",
            "gridwidth": 2,
            "linecolor": "white",
            "showbackground": true,
            "ticks": "",
            "zerolinecolor": "white"
           },
           "yaxis": {
            "backgroundcolor": "#E5ECF6",
            "gridcolor": "white",
            "gridwidth": 2,
            "linecolor": "white",
            "showbackground": true,
            "ticks": "",
            "zerolinecolor": "white"
           },
           "zaxis": {
            "backgroundcolor": "#E5ECF6",
            "gridcolor": "white",
            "gridwidth": 2,
            "linecolor": "white",
            "showbackground": true,
            "ticks": "",
            "zerolinecolor": "white"
           }
          },
          "shapedefaults": {
           "line": {
            "color": "#2a3f5f"
           }
          },
          "ternary": {
           "aaxis": {
            "gridcolor": "white",
            "linecolor": "white",
            "ticks": ""
           },
           "baxis": {
            "gridcolor": "white",
            "linecolor": "white",
            "ticks": ""
           },
           "bgcolor": "#E5ECF6",
           "caxis": {
            "gridcolor": "white",
            "linecolor": "white",
            "ticks": ""
           }
          },
          "title": {
           "x": 0.05
          },
          "xaxis": {
           "automargin": true,
           "gridcolor": "white",
           "linecolor": "white",
           "ticks": "",
           "title": {
            "standoff": 15
           },
           "zerolinecolor": "white",
           "zerolinewidth": 2
          },
          "yaxis": {
           "automargin": true,
           "gridcolor": "white",
           "linecolor": "white",
           "ticks": "",
           "title": {
            "standoff": 15
           },
           "zerolinecolor": "white",
           "zerolinewidth": 2
          }
         }
        },
        "xaxis": {
         "anchor": "y",
         "domain": [
          0,
          1
         ],
         "title": {
          "text": "ShipType"
         }
        },
        "yaxis": {
         "anchor": "x",
         "domain": [
          0,
          1
         ],
         "title": {
          "text": "Frequency"
         }
        }
       }
      }
     },
     "metadata": {},
     "output_type": "display_data"
    }
   ],
   "source": [
    "line_figure(create_Subdata(events,ADITIONAL_TYPES[0]),ADITIONAL_TYPES[0],1,1)"
   ]
  },
  {
   "cell_type": "code",
   "execution_count": 11,
   "metadata": {},
   "outputs": [],
   "source": [
    "from descriptions.utils_description import bar_figure_probabilities"
   ]
  },
  {
   "cell_type": "code",
   "execution_count": 12,
   "metadata": {},
   "outputs": [
    {
     "data": {
      "application/vnd.plotly.v1+json": {
       "config": {
        "plotlyServerURL": "https://plot.ly"
       },
       "data": [
        {
         "alignmentgroup": "True",
         "hovertemplate": "CaseTypeName=%{y}<br>Percentage=%{x}<extra></extra>",
         "legendgroup": "Assistans",
         "marker": {
          "color": "rgb(29, 105, 150)",
          "pattern": {
           "shape": ""
          }
         },
         "name": "Assistans",
         "offsetgroup": "Assistans",
         "orientation": "h",
         "showlegend": true,
         "textposition": "auto",
         "type": "bar",
         "x": [
          51.73599174974218
         ],
         "xaxis": "x",
         "y": [
          "Assistans"
         ],
         "yaxis": "y"
        },
        {
         "alignmentgroup": "True",
         "hovertemplate": "CaseTypeName=%{y}<br>Percentage=%{x}<extra></extra>",
         "legendgroup": "Skadeärende",
         "marker": {
          "color": "rgb(56, 166, 165)",
          "pattern": {
           "shape": ""
          }
         },
         "name": "Skadeärende",
         "offsetgroup": "Skadeärende",
         "orientation": "h",
         "showlegend": true,
         "textposition": "auto",
         "type": "bar",
         "x": [
          35.61361292540392
         ],
         "xaxis": "x",
         "y": [
          "Skadeärende"
         ],
         "yaxis": "y"
        },
        {
         "alignmentgroup": "True",
         "hovertemplate": "CaseTypeName=%{y}<br>Percentage=%{x}<extra></extra>",
         "legendgroup": "Påringningsärende",
         "marker": {
          "color": "rgb(15, 133, 84)",
          "pattern": {
           "shape": ""
          }
         },
         "name": "Påringningsärende",
         "offsetgroup": "Påringningsärende",
         "orientation": "h",
         "showlegend": true,
         "textposition": "auto",
         "type": "bar",
         "x": [
          11.447232726022689
         ],
         "xaxis": "x",
         "y": [
          "Påringningsärende"
         ],
         "yaxis": "y"
        },
        {
         "alignmentgroup": "True",
         "hovertemplate": "CaseTypeName=%{y}<br>Percentage=%{x}<extra></extra>",
         "legendgroup": "Transport",
         "marker": {
          "color": "rgb(115, 175, 72)",
          "pattern": {
           "shape": ""
          }
         },
         "name": "Transport",
         "offsetgroup": "Transport",
         "orientation": "h",
         "showlegend": true,
         "textposition": "auto",
         "type": "bar",
         "x": [
          1.2031625988312133
         ],
         "xaxis": "x",
         "y": [
          "Transport"
         ],
         "yaxis": "y"
        },
        {
         "line": {
          "color": "black",
          "width": 2
         },
         "mode": "text+lines",
         "text": [
          "Mean=727.25",
          ""
         ],
         "type": "scatter",
         "x": [
          25.000000000000004,
          25.000000000000004
         ],
         "y": [
          "Assistans",
          "Transport"
         ]
        },
        {
         "line": {
          "color": "black",
          "dash": "dash",
          "width": 2
         },
         "mode": "text+lines",
         "text": [
          "",
          "std=667.05"
         ],
         "type": "scatter",
         "x": [
          47.93054008124565,
          47.93054008124565
         ],
         "y": [
          "Assistans",
          "Transport"
         ]
        },
        {
         "line": {
          "color": "black",
          "dash": "dash",
          "width": 2
         },
         "mode": "text+lines",
         "text": [
          "",
          "std=667.05"
         ],
         "type": "scatter",
         "x": [
          2.069459918754358,
          2.069459918754358
         ],
         "y": [
          "Assistans",
          "Transport"
         ]
        }
       ],
       "layout": {
        "barmode": "relative",
        "legend": {
         "title": {
          "text": "CaseTypeName"
         },
         "tracegroupgap": 0
        },
        "margin": {
         "t": 60
        },
        "showlegend": false,
        "template": {
         "data": {
          "bar": [
           {
            "error_x": {
             "color": "#2a3f5f"
            },
            "error_y": {
             "color": "#2a3f5f"
            },
            "marker": {
             "line": {
              "color": "#E5ECF6",
              "width": 0.5
             },
             "pattern": {
              "fillmode": "overlay",
              "size": 10,
              "solidity": 0.2
             }
            },
            "type": "bar"
           }
          ],
          "barpolar": [
           {
            "marker": {
             "line": {
              "color": "#E5ECF6",
              "width": 0.5
             },
             "pattern": {
              "fillmode": "overlay",
              "size": 10,
              "solidity": 0.2
             }
            },
            "type": "barpolar"
           }
          ],
          "carpet": [
           {
            "aaxis": {
             "endlinecolor": "#2a3f5f",
             "gridcolor": "white",
             "linecolor": "white",
             "minorgridcolor": "white",
             "startlinecolor": "#2a3f5f"
            },
            "baxis": {
             "endlinecolor": "#2a3f5f",
             "gridcolor": "white",
             "linecolor": "white",
             "minorgridcolor": "white",
             "startlinecolor": "#2a3f5f"
            },
            "type": "carpet"
           }
          ],
          "choropleth": [
           {
            "colorbar": {
             "outlinewidth": 0,
             "ticks": ""
            },
            "type": "choropleth"
           }
          ],
          "contour": [
           {
            "colorbar": {
             "outlinewidth": 0,
             "ticks": ""
            },
            "colorscale": [
             [
              0,
              "#0d0887"
             ],
             [
              0.1111111111111111,
              "#46039f"
             ],
             [
              0.2222222222222222,
              "#7201a8"
             ],
             [
              0.3333333333333333,
              "#9c179e"
             ],
             [
              0.4444444444444444,
              "#bd3786"
             ],
             [
              0.5555555555555556,
              "#d8576b"
             ],
             [
              0.6666666666666666,
              "#ed7953"
             ],
             [
              0.7777777777777778,
              "#fb9f3a"
             ],
             [
              0.8888888888888888,
              "#fdca26"
             ],
             [
              1,
              "#f0f921"
             ]
            ],
            "type": "contour"
           }
          ],
          "contourcarpet": [
           {
            "colorbar": {
             "outlinewidth": 0,
             "ticks": ""
            },
            "type": "contourcarpet"
           }
          ],
          "heatmap": [
           {
            "colorbar": {
             "outlinewidth": 0,
             "ticks": ""
            },
            "colorscale": [
             [
              0,
              "#0d0887"
             ],
             [
              0.1111111111111111,
              "#46039f"
             ],
             [
              0.2222222222222222,
              "#7201a8"
             ],
             [
              0.3333333333333333,
              "#9c179e"
             ],
             [
              0.4444444444444444,
              "#bd3786"
             ],
             [
              0.5555555555555556,
              "#d8576b"
             ],
             [
              0.6666666666666666,
              "#ed7953"
             ],
             [
              0.7777777777777778,
              "#fb9f3a"
             ],
             [
              0.8888888888888888,
              "#fdca26"
             ],
             [
              1,
              "#f0f921"
             ]
            ],
            "type": "heatmap"
           }
          ],
          "heatmapgl": [
           {
            "colorbar": {
             "outlinewidth": 0,
             "ticks": ""
            },
            "colorscale": [
             [
              0,
              "#0d0887"
             ],
             [
              0.1111111111111111,
              "#46039f"
             ],
             [
              0.2222222222222222,
              "#7201a8"
             ],
             [
              0.3333333333333333,
              "#9c179e"
             ],
             [
              0.4444444444444444,
              "#bd3786"
             ],
             [
              0.5555555555555556,
              "#d8576b"
             ],
             [
              0.6666666666666666,
              "#ed7953"
             ],
             [
              0.7777777777777778,
              "#fb9f3a"
             ],
             [
              0.8888888888888888,
              "#fdca26"
             ],
             [
              1,
              "#f0f921"
             ]
            ],
            "type": "heatmapgl"
           }
          ],
          "histogram": [
           {
            "marker": {
             "pattern": {
              "fillmode": "overlay",
              "size": 10,
              "solidity": 0.2
             }
            },
            "type": "histogram"
           }
          ],
          "histogram2d": [
           {
            "colorbar": {
             "outlinewidth": 0,
             "ticks": ""
            },
            "colorscale": [
             [
              0,
              "#0d0887"
             ],
             [
              0.1111111111111111,
              "#46039f"
             ],
             [
              0.2222222222222222,
              "#7201a8"
             ],
             [
              0.3333333333333333,
              "#9c179e"
             ],
             [
              0.4444444444444444,
              "#bd3786"
             ],
             [
              0.5555555555555556,
              "#d8576b"
             ],
             [
              0.6666666666666666,
              "#ed7953"
             ],
             [
              0.7777777777777778,
              "#fb9f3a"
             ],
             [
              0.8888888888888888,
              "#fdca26"
             ],
             [
              1,
              "#f0f921"
             ]
            ],
            "type": "histogram2d"
           }
          ],
          "histogram2dcontour": [
           {
            "colorbar": {
             "outlinewidth": 0,
             "ticks": ""
            },
            "colorscale": [
             [
              0,
              "#0d0887"
             ],
             [
              0.1111111111111111,
              "#46039f"
             ],
             [
              0.2222222222222222,
              "#7201a8"
             ],
             [
              0.3333333333333333,
              "#9c179e"
             ],
             [
              0.4444444444444444,
              "#bd3786"
             ],
             [
              0.5555555555555556,
              "#d8576b"
             ],
             [
              0.6666666666666666,
              "#ed7953"
             ],
             [
              0.7777777777777778,
              "#fb9f3a"
             ],
             [
              0.8888888888888888,
              "#fdca26"
             ],
             [
              1,
              "#f0f921"
             ]
            ],
            "type": "histogram2dcontour"
           }
          ],
          "mesh3d": [
           {
            "colorbar": {
             "outlinewidth": 0,
             "ticks": ""
            },
            "type": "mesh3d"
           }
          ],
          "parcoords": [
           {
            "line": {
             "colorbar": {
              "outlinewidth": 0,
              "ticks": ""
             }
            },
            "type": "parcoords"
           }
          ],
          "pie": [
           {
            "automargin": true,
            "type": "pie"
           }
          ],
          "scatter": [
           {
            "marker": {
             "colorbar": {
              "outlinewidth": 0,
              "ticks": ""
             }
            },
            "type": "scatter"
           }
          ],
          "scatter3d": [
           {
            "line": {
             "colorbar": {
              "outlinewidth": 0,
              "ticks": ""
             }
            },
            "marker": {
             "colorbar": {
              "outlinewidth": 0,
              "ticks": ""
             }
            },
            "type": "scatter3d"
           }
          ],
          "scattercarpet": [
           {
            "marker": {
             "colorbar": {
              "outlinewidth": 0,
              "ticks": ""
             }
            },
            "type": "scattercarpet"
           }
          ],
          "scattergeo": [
           {
            "marker": {
             "colorbar": {
              "outlinewidth": 0,
              "ticks": ""
             }
            },
            "type": "scattergeo"
           }
          ],
          "scattergl": [
           {
            "marker": {
             "colorbar": {
              "outlinewidth": 0,
              "ticks": ""
             }
            },
            "type": "scattergl"
           }
          ],
          "scattermapbox": [
           {
            "marker": {
             "colorbar": {
              "outlinewidth": 0,
              "ticks": ""
             }
            },
            "type": "scattermapbox"
           }
          ],
          "scatterpolar": [
           {
            "marker": {
             "colorbar": {
              "outlinewidth": 0,
              "ticks": ""
             }
            },
            "type": "scatterpolar"
           }
          ],
          "scatterpolargl": [
           {
            "marker": {
             "colorbar": {
              "outlinewidth": 0,
              "ticks": ""
             }
            },
            "type": "scatterpolargl"
           }
          ],
          "scatterternary": [
           {
            "marker": {
             "colorbar": {
              "outlinewidth": 0,
              "ticks": ""
             }
            },
            "type": "scatterternary"
           }
          ],
          "surface": [
           {
            "colorbar": {
             "outlinewidth": 0,
             "ticks": ""
            },
            "colorscale": [
             [
              0,
              "#0d0887"
             ],
             [
              0.1111111111111111,
              "#46039f"
             ],
             [
              0.2222222222222222,
              "#7201a8"
             ],
             [
              0.3333333333333333,
              "#9c179e"
             ],
             [
              0.4444444444444444,
              "#bd3786"
             ],
             [
              0.5555555555555556,
              "#d8576b"
             ],
             [
              0.6666666666666666,
              "#ed7953"
             ],
             [
              0.7777777777777778,
              "#fb9f3a"
             ],
             [
              0.8888888888888888,
              "#fdca26"
             ],
             [
              1,
              "#f0f921"
             ]
            ],
            "type": "surface"
           }
          ],
          "table": [
           {
            "cells": {
             "fill": {
              "color": "#EBF0F8"
             },
             "line": {
              "color": "white"
             }
            },
            "header": {
             "fill": {
              "color": "#C8D4E3"
             },
             "line": {
              "color": "white"
             }
            },
            "type": "table"
           }
          ]
         },
         "layout": {
          "annotationdefaults": {
           "arrowcolor": "#2a3f5f",
           "arrowhead": 0,
           "arrowwidth": 1
          },
          "autotypenumbers": "strict",
          "coloraxis": {
           "colorbar": {
            "outlinewidth": 0,
            "ticks": ""
           }
          },
          "colorscale": {
           "diverging": [
            [
             0,
             "#8e0152"
            ],
            [
             0.1,
             "#c51b7d"
            ],
            [
             0.2,
             "#de77ae"
            ],
            [
             0.3,
             "#f1b6da"
            ],
            [
             0.4,
             "#fde0ef"
            ],
            [
             0.5,
             "#f7f7f7"
            ],
            [
             0.6,
             "#e6f5d0"
            ],
            [
             0.7,
             "#b8e186"
            ],
            [
             0.8,
             "#7fbc41"
            ],
            [
             0.9,
             "#4d9221"
            ],
            [
             1,
             "#276419"
            ]
           ],
           "sequential": [
            [
             0,
             "#0d0887"
            ],
            [
             0.1111111111111111,
             "#46039f"
            ],
            [
             0.2222222222222222,
             "#7201a8"
            ],
            [
             0.3333333333333333,
             "#9c179e"
            ],
            [
             0.4444444444444444,
             "#bd3786"
            ],
            [
             0.5555555555555556,
             "#d8576b"
            ],
            [
             0.6666666666666666,
             "#ed7953"
            ],
            [
             0.7777777777777778,
             "#fb9f3a"
            ],
            [
             0.8888888888888888,
             "#fdca26"
            ],
            [
             1,
             "#f0f921"
            ]
           ],
           "sequentialminus": [
            [
             0,
             "#0d0887"
            ],
            [
             0.1111111111111111,
             "#46039f"
            ],
            [
             0.2222222222222222,
             "#7201a8"
            ],
            [
             0.3333333333333333,
             "#9c179e"
            ],
            [
             0.4444444444444444,
             "#bd3786"
            ],
            [
             0.5555555555555556,
             "#d8576b"
            ],
            [
             0.6666666666666666,
             "#ed7953"
            ],
            [
             0.7777777777777778,
             "#fb9f3a"
            ],
            [
             0.8888888888888888,
             "#fdca26"
            ],
            [
             1,
             "#f0f921"
            ]
           ]
          },
          "colorway": [
           "#636efa",
           "#EF553B",
           "#00cc96",
           "#ab63fa",
           "#FFA15A",
           "#19d3f3",
           "#FF6692",
           "#B6E880",
           "#FF97FF",
           "#FECB52"
          ],
          "font": {
           "color": "#2a3f5f"
          },
          "geo": {
           "bgcolor": "white",
           "lakecolor": "white",
           "landcolor": "#E5ECF6",
           "showlakes": true,
           "showland": true,
           "subunitcolor": "white"
          },
          "hoverlabel": {
           "align": "left"
          },
          "hovermode": "closest",
          "mapbox": {
           "style": "light"
          },
          "paper_bgcolor": "white",
          "plot_bgcolor": "#E5ECF6",
          "polar": {
           "angularaxis": {
            "gridcolor": "white",
            "linecolor": "white",
            "ticks": ""
           },
           "bgcolor": "#E5ECF6",
           "radialaxis": {
            "gridcolor": "white",
            "linecolor": "white",
            "ticks": ""
           }
          },
          "scene": {
           "xaxis": {
            "backgroundcolor": "#E5ECF6",
            "gridcolor": "white",
            "gridwidth": 2,
            "linecolor": "white",
            "showbackground": true,
            "ticks": "",
            "zerolinecolor": "white"
           },
           "yaxis": {
            "backgroundcolor": "#E5ECF6",
            "gridcolor": "white",
            "gridwidth": 2,
            "linecolor": "white",
            "showbackground": true,
            "ticks": "",
            "zerolinecolor": "white"
           },
           "zaxis": {
            "backgroundcolor": "#E5ECF6",
            "gridcolor": "white",
            "gridwidth": 2,
            "linecolor": "white",
            "showbackground": true,
            "ticks": "",
            "zerolinecolor": "white"
           }
          },
          "shapedefaults": {
           "line": {
            "color": "#2a3f5f"
           }
          },
          "ternary": {
           "aaxis": {
            "gridcolor": "white",
            "linecolor": "white",
            "ticks": ""
           },
           "baxis": {
            "gridcolor": "white",
            "linecolor": "white",
            "ticks": ""
           },
           "bgcolor": "#E5ECF6",
           "caxis": {
            "gridcolor": "white",
            "linecolor": "white",
            "ticks": ""
           }
          },
          "title": {
           "x": 0.05
          },
          "xaxis": {
           "automargin": true,
           "gridcolor": "white",
           "linecolor": "white",
           "ticks": "",
           "title": {
            "standoff": 15
           },
           "zerolinecolor": "white",
           "zerolinewidth": 2
          },
          "yaxis": {
           "automargin": true,
           "gridcolor": "white",
           "linecolor": "white",
           "ticks": "",
           "title": {
            "standoff": 15
           },
           "zerolinecolor": "white",
           "zerolinewidth": 2
          }
         }
        },
        "xaxis": {
         "anchor": "y",
         "domain": [
          0,
          1
         ],
         "title": {
          "text": "Percentage"
         }
        },
        "yaxis": {
         "anchor": "x",
         "categoryarray": [
          "Transport",
          "Påringningsärende",
          "Skadeärende",
          "Assistans"
         ],
         "categoryorder": "array",
         "domain": [
          0,
          1
         ],
         "title": {
          "text": "CaseTypeName"
         }
        }
       }
      }
     },
     "metadata": {},
     "output_type": "display_data"
    }
   ],
   "source": [
    "bar_figure_probabilities(create_Subdata(events,EVENTS_TYPE),EVENTS_TYPE)"
   ]
  },
  {
   "cell_type": "code",
   "execution_count": 13,
   "metadata": {},
   "outputs": [],
   "source": [
    "from descriptions.utils_description import bubbles_figure_probabilities"
   ]
  },
  {
   "cell_type": "code",
   "execution_count": 14,
   "metadata": {},
   "outputs": [
    {
     "data": {
      "application/vnd.plotly.v1+json": {
       "config": {
        "plotlyServerURL": "https://plot.ly"
       },
       "data": [
        {
         "hovertemplate": "<b>%{hovertext}</b><br><br>ShipType=Motorbåt<br>CaseTypeName=%{x}<br>Percentage=%{marker.size}<extra></extra>",
         "hovertext": [
          "Motorbåt",
          "Motorbåt",
          "Motorbåt",
          "Motorbåt"
         ],
         "legendgroup": "Motorbåt",
         "marker": {
          "color": "rgb(29, 105, 150)",
          "size": [
           41.55524278676988,
           28.8881069669247,
           8.937368050668542,
           0.03518648838845883
          ],
          "sizemode": "area",
          "sizeref": 0.025972026741731175,
          "symbol": "circle"
         },
         "mode": "markers",
         "name": "Motorbåt",
         "orientation": "v",
         "showlegend": true,
         "type": "scatter",
         "x": [
          "Assistans",
          "Skadeärende",
          "Påringningsärende",
          "Transport"
         ],
         "xaxis": "x",
         "y": [
          41.55524278676988,
          28.8881069669247,
          8.937368050668542,
          0.03518648838845883
         ],
         "yaxis": "y"
        },
        {
         "hovertemplate": "<b>%{hovertext}</b><br><br>ShipType=Segelbåt<br>CaseTypeName=%{x}<br>Percentage=%{marker.size}<extra></extra>",
         "hovertext": [
          "Segelbåt",
          "Segelbåt",
          "Segelbåt"
         ],
         "legendgroup": "Segelbåt",
         "marker": {
          "color": "rgb(56, 166, 165)",
          "size": [
           10.83743842364532,
           6.368754398311048,
           2.251935256861365
          ],
          "sizemode": "area",
          "sizeref": 0.025972026741731175,
          "symbol": "circle"
         },
         "mode": "markers",
         "name": "Segelbåt",
         "orientation": "v",
         "showlegend": true,
         "type": "scatter",
         "x": [
          "Assistans",
          "Skadeärende",
          "Påringningsärende"
         ],
         "xaxis": "x",
         "y": [
          10.83743842364532,
          6.368754398311048,
          2.251935256861365
         ],
         "yaxis": "y"
        },
        {
         "hovertemplate": "<b>%{hovertext}</b><br><br>ShipType=Vattenskoter<br>CaseTypeName=%{x}<br>Percentage=%{marker.size}<extra></extra>",
         "hovertext": [
          "Vattenskoter",
          "Vattenskoter",
          "Vattenskoter"
         ],
         "legendgroup": "Vattenskoter",
         "marker": {
          "color": "rgb(15, 133, 84)",
          "size": [
           0.3518648838845883,
           0.17593244194229415,
           0.07037297677691766
          ],
          "sizemode": "area",
          "sizeref": 0.025972026741731175,
          "symbol": "circle"
         },
         "mode": "markers",
         "name": "Vattenskoter",
         "orientation": "v",
         "showlegend": true,
         "type": "scatter",
         "x": [
          "Skadeärende",
          "Påringningsärende",
          "Assistans"
         ],
         "xaxis": "x",
         "y": [
          0.3518648838845883,
          0.17593244194229415,
          0.07037297677691766
         ],
         "yaxis": "y"
        },
        {
         "hovertemplate": "<b>%{hovertext}</b><br><br>ShipType=Annat<br>CaseTypeName=%{x}<br>Percentage=%{marker.size}<extra></extra>",
         "hovertext": [
          "Annat",
          "Annat",
          "Annat",
          "Annat"
         ],
         "legendgroup": "Annat",
         "marker": {
          "color": "rgb(115, 175, 72)",
          "size": [
           0.28149190710767064,
           0.07037297677691766,
           0.03518648838845883,
           0.03518648838845883
          ],
          "sizemode": "area",
          "sizeref": 0.025972026741731175,
          "symbol": "circle"
         },
         "mode": "markers",
         "name": "Annat",
         "orientation": "v",
         "showlegend": true,
         "type": "scatter",
         "x": [
          "Skadeärende",
          "Assistans",
          "Påringningsärende",
          "Transport"
         ],
         "xaxis": "x",
         "y": [
          0.28149190710767064,
          0.07037297677691766,
          0.03518648838845883,
          0.03518648838845883
         ],
         "yaxis": "y"
        },
        {
         "hovertemplate": "<b>%{hovertext}</b><br><br>ShipType=Båttrailer<br>CaseTypeName=%{x}<br>Percentage=%{marker.size}<extra></extra>",
         "hovertext": [
          "Båttrailer",
          "Båttrailer"
         ],
         "legendgroup": "Båttrailer",
         "marker": {
          "color": "rgb(237, 173, 8)",
          "size": [
           0.07037297677691766,
           0.03518648838845883
          ],
          "sizemode": "area",
          "sizeref": 0.025972026741731175,
          "symbol": "circle"
         },
         "mode": "markers",
         "name": "Båttrailer",
         "orientation": "v",
         "showlegend": true,
         "type": "scatter",
         "x": [
          "Påringningsärende",
          "Assistans"
         ],
         "xaxis": "x",
         "y": [
          0.07037297677691766,
          0.03518648838845883
         ],
         "yaxis": "y"
        }
       ],
       "layout": {
        "height": 600,
        "legend": {
         "itemsizing": "constant",
         "title": {
          "text": "ShipType"
         },
         "tracegroupgap": 0
        },
        "margin": {
         "t": 60
        },
        "template": {
         "data": {
          "bar": [
           {
            "error_x": {
             "color": "#2a3f5f"
            },
            "error_y": {
             "color": "#2a3f5f"
            },
            "marker": {
             "line": {
              "color": "#E5ECF6",
              "width": 0.5
             },
             "pattern": {
              "fillmode": "overlay",
              "size": 10,
              "solidity": 0.2
             }
            },
            "type": "bar"
           }
          ],
          "barpolar": [
           {
            "marker": {
             "line": {
              "color": "#E5ECF6",
              "width": 0.5
             },
             "pattern": {
              "fillmode": "overlay",
              "size": 10,
              "solidity": 0.2
             }
            },
            "type": "barpolar"
           }
          ],
          "carpet": [
           {
            "aaxis": {
             "endlinecolor": "#2a3f5f",
             "gridcolor": "white",
             "linecolor": "white",
             "minorgridcolor": "white",
             "startlinecolor": "#2a3f5f"
            },
            "baxis": {
             "endlinecolor": "#2a3f5f",
             "gridcolor": "white",
             "linecolor": "white",
             "minorgridcolor": "white",
             "startlinecolor": "#2a3f5f"
            },
            "type": "carpet"
           }
          ],
          "choropleth": [
           {
            "colorbar": {
             "outlinewidth": 0,
             "ticks": ""
            },
            "type": "choropleth"
           }
          ],
          "contour": [
           {
            "colorbar": {
             "outlinewidth": 0,
             "ticks": ""
            },
            "colorscale": [
             [
              0,
              "#0d0887"
             ],
             [
              0.1111111111111111,
              "#46039f"
             ],
             [
              0.2222222222222222,
              "#7201a8"
             ],
             [
              0.3333333333333333,
              "#9c179e"
             ],
             [
              0.4444444444444444,
              "#bd3786"
             ],
             [
              0.5555555555555556,
              "#d8576b"
             ],
             [
              0.6666666666666666,
              "#ed7953"
             ],
             [
              0.7777777777777778,
              "#fb9f3a"
             ],
             [
              0.8888888888888888,
              "#fdca26"
             ],
             [
              1,
              "#f0f921"
             ]
            ],
            "type": "contour"
           }
          ],
          "contourcarpet": [
           {
            "colorbar": {
             "outlinewidth": 0,
             "ticks": ""
            },
            "type": "contourcarpet"
           }
          ],
          "heatmap": [
           {
            "colorbar": {
             "outlinewidth": 0,
             "ticks": ""
            },
            "colorscale": [
             [
              0,
              "#0d0887"
             ],
             [
              0.1111111111111111,
              "#46039f"
             ],
             [
              0.2222222222222222,
              "#7201a8"
             ],
             [
              0.3333333333333333,
              "#9c179e"
             ],
             [
              0.4444444444444444,
              "#bd3786"
             ],
             [
              0.5555555555555556,
              "#d8576b"
             ],
             [
              0.6666666666666666,
              "#ed7953"
             ],
             [
              0.7777777777777778,
              "#fb9f3a"
             ],
             [
              0.8888888888888888,
              "#fdca26"
             ],
             [
              1,
              "#f0f921"
             ]
            ],
            "type": "heatmap"
           }
          ],
          "heatmapgl": [
           {
            "colorbar": {
             "outlinewidth": 0,
             "ticks": ""
            },
            "colorscale": [
             [
              0,
              "#0d0887"
             ],
             [
              0.1111111111111111,
              "#46039f"
             ],
             [
              0.2222222222222222,
              "#7201a8"
             ],
             [
              0.3333333333333333,
              "#9c179e"
             ],
             [
              0.4444444444444444,
              "#bd3786"
             ],
             [
              0.5555555555555556,
              "#d8576b"
             ],
             [
              0.6666666666666666,
              "#ed7953"
             ],
             [
              0.7777777777777778,
              "#fb9f3a"
             ],
             [
              0.8888888888888888,
              "#fdca26"
             ],
             [
              1,
              "#f0f921"
             ]
            ],
            "type": "heatmapgl"
           }
          ],
          "histogram": [
           {
            "marker": {
             "pattern": {
              "fillmode": "overlay",
              "size": 10,
              "solidity": 0.2
             }
            },
            "type": "histogram"
           }
          ],
          "histogram2d": [
           {
            "colorbar": {
             "outlinewidth": 0,
             "ticks": ""
            },
            "colorscale": [
             [
              0,
              "#0d0887"
             ],
             [
              0.1111111111111111,
              "#46039f"
             ],
             [
              0.2222222222222222,
              "#7201a8"
             ],
             [
              0.3333333333333333,
              "#9c179e"
             ],
             [
              0.4444444444444444,
              "#bd3786"
             ],
             [
              0.5555555555555556,
              "#d8576b"
             ],
             [
              0.6666666666666666,
              "#ed7953"
             ],
             [
              0.7777777777777778,
              "#fb9f3a"
             ],
             [
              0.8888888888888888,
              "#fdca26"
             ],
             [
              1,
              "#f0f921"
             ]
            ],
            "type": "histogram2d"
           }
          ],
          "histogram2dcontour": [
           {
            "colorbar": {
             "outlinewidth": 0,
             "ticks": ""
            },
            "colorscale": [
             [
              0,
              "#0d0887"
             ],
             [
              0.1111111111111111,
              "#46039f"
             ],
             [
              0.2222222222222222,
              "#7201a8"
             ],
             [
              0.3333333333333333,
              "#9c179e"
             ],
             [
              0.4444444444444444,
              "#bd3786"
             ],
             [
              0.5555555555555556,
              "#d8576b"
             ],
             [
              0.6666666666666666,
              "#ed7953"
             ],
             [
              0.7777777777777778,
              "#fb9f3a"
             ],
             [
              0.8888888888888888,
              "#fdca26"
             ],
             [
              1,
              "#f0f921"
             ]
            ],
            "type": "histogram2dcontour"
           }
          ],
          "mesh3d": [
           {
            "colorbar": {
             "outlinewidth": 0,
             "ticks": ""
            },
            "type": "mesh3d"
           }
          ],
          "parcoords": [
           {
            "line": {
             "colorbar": {
              "outlinewidth": 0,
              "ticks": ""
             }
            },
            "type": "parcoords"
           }
          ],
          "pie": [
           {
            "automargin": true,
            "type": "pie"
           }
          ],
          "scatter": [
           {
            "marker": {
             "colorbar": {
              "outlinewidth": 0,
              "ticks": ""
             }
            },
            "type": "scatter"
           }
          ],
          "scatter3d": [
           {
            "line": {
             "colorbar": {
              "outlinewidth": 0,
              "ticks": ""
             }
            },
            "marker": {
             "colorbar": {
              "outlinewidth": 0,
              "ticks": ""
             }
            },
            "type": "scatter3d"
           }
          ],
          "scattercarpet": [
           {
            "marker": {
             "colorbar": {
              "outlinewidth": 0,
              "ticks": ""
             }
            },
            "type": "scattercarpet"
           }
          ],
          "scattergeo": [
           {
            "marker": {
             "colorbar": {
              "outlinewidth": 0,
              "ticks": ""
             }
            },
            "type": "scattergeo"
           }
          ],
          "scattergl": [
           {
            "marker": {
             "colorbar": {
              "outlinewidth": 0,
              "ticks": ""
             }
            },
            "type": "scattergl"
           }
          ],
          "scattermapbox": [
           {
            "marker": {
             "colorbar": {
              "outlinewidth": 0,
              "ticks": ""
             }
            },
            "type": "scattermapbox"
           }
          ],
          "scatterpolar": [
           {
            "marker": {
             "colorbar": {
              "outlinewidth": 0,
              "ticks": ""
             }
            },
            "type": "scatterpolar"
           }
          ],
          "scatterpolargl": [
           {
            "marker": {
             "colorbar": {
              "outlinewidth": 0,
              "ticks": ""
             }
            },
            "type": "scatterpolargl"
           }
          ],
          "scatterternary": [
           {
            "marker": {
             "colorbar": {
              "outlinewidth": 0,
              "ticks": ""
             }
            },
            "type": "scatterternary"
           }
          ],
          "surface": [
           {
            "colorbar": {
             "outlinewidth": 0,
             "ticks": ""
            },
            "colorscale": [
             [
              0,
              "#0d0887"
             ],
             [
              0.1111111111111111,
              "#46039f"
             ],
             [
              0.2222222222222222,
              "#7201a8"
             ],
             [
              0.3333333333333333,
              "#9c179e"
             ],
             [
              0.4444444444444444,
              "#bd3786"
             ],
             [
              0.5555555555555556,
              "#d8576b"
             ],
             [
              0.6666666666666666,
              "#ed7953"
             ],
             [
              0.7777777777777778,
              "#fb9f3a"
             ],
             [
              0.8888888888888888,
              "#fdca26"
             ],
             [
              1,
              "#f0f921"
             ]
            ],
            "type": "surface"
           }
          ],
          "table": [
           {
            "cells": {
             "fill": {
              "color": "#EBF0F8"
             },
             "line": {
              "color": "white"
             }
            },
            "header": {
             "fill": {
              "color": "#C8D4E3"
             },
             "line": {
              "color": "white"
             }
            },
            "type": "table"
           }
          ]
         },
         "layout": {
          "annotationdefaults": {
           "arrowcolor": "#2a3f5f",
           "arrowhead": 0,
           "arrowwidth": 1
          },
          "autotypenumbers": "strict",
          "coloraxis": {
           "colorbar": {
            "outlinewidth": 0,
            "ticks": ""
           }
          },
          "colorscale": {
           "diverging": [
            [
             0,
             "#8e0152"
            ],
            [
             0.1,
             "#c51b7d"
            ],
            [
             0.2,
             "#de77ae"
            ],
            [
             0.3,
             "#f1b6da"
            ],
            [
             0.4,
             "#fde0ef"
            ],
            [
             0.5,
             "#f7f7f7"
            ],
            [
             0.6,
             "#e6f5d0"
            ],
            [
             0.7,
             "#b8e186"
            ],
            [
             0.8,
             "#7fbc41"
            ],
            [
             0.9,
             "#4d9221"
            ],
            [
             1,
             "#276419"
            ]
           ],
           "sequential": [
            [
             0,
             "#0d0887"
            ],
            [
             0.1111111111111111,
             "#46039f"
            ],
            [
             0.2222222222222222,
             "#7201a8"
            ],
            [
             0.3333333333333333,
             "#9c179e"
            ],
            [
             0.4444444444444444,
             "#bd3786"
            ],
            [
             0.5555555555555556,
             "#d8576b"
            ],
            [
             0.6666666666666666,
             "#ed7953"
            ],
            [
             0.7777777777777778,
             "#fb9f3a"
            ],
            [
             0.8888888888888888,
             "#fdca26"
            ],
            [
             1,
             "#f0f921"
            ]
           ],
           "sequentialminus": [
            [
             0,
             "#0d0887"
            ],
            [
             0.1111111111111111,
             "#46039f"
            ],
            [
             0.2222222222222222,
             "#7201a8"
            ],
            [
             0.3333333333333333,
             "#9c179e"
            ],
            [
             0.4444444444444444,
             "#bd3786"
            ],
            [
             0.5555555555555556,
             "#d8576b"
            ],
            [
             0.6666666666666666,
             "#ed7953"
            ],
            [
             0.7777777777777778,
             "#fb9f3a"
            ],
            [
             0.8888888888888888,
             "#fdca26"
            ],
            [
             1,
             "#f0f921"
            ]
           ]
          },
          "colorway": [
           "#636efa",
           "#EF553B",
           "#00cc96",
           "#ab63fa",
           "#FFA15A",
           "#19d3f3",
           "#FF6692",
           "#B6E880",
           "#FF97FF",
           "#FECB52"
          ],
          "font": {
           "color": "#2a3f5f"
          },
          "geo": {
           "bgcolor": "white",
           "lakecolor": "white",
           "landcolor": "#E5ECF6",
           "showlakes": true,
           "showland": true,
           "subunitcolor": "white"
          },
          "hoverlabel": {
           "align": "left"
          },
          "hovermode": "closest",
          "mapbox": {
           "style": "light"
          },
          "paper_bgcolor": "white",
          "plot_bgcolor": "#E5ECF6",
          "polar": {
           "angularaxis": {
            "gridcolor": "white",
            "linecolor": "white",
            "ticks": ""
           },
           "bgcolor": "#E5ECF6",
           "radialaxis": {
            "gridcolor": "white",
            "linecolor": "white",
            "ticks": ""
           }
          },
          "scene": {
           "xaxis": {
            "backgroundcolor": "#E5ECF6",
            "gridcolor": "white",
            "gridwidth": 2,
            "linecolor": "white",
            "showbackground": true,
            "ticks": "",
            "zerolinecolor": "white"
           },
           "yaxis": {
            "backgroundcolor": "#E5ECF6",
            "gridcolor": "white",
            "gridwidth": 2,
            "linecolor": "white",
            "showbackground": true,
            "ticks": "",
            "zerolinecolor": "white"
           },
           "zaxis": {
            "backgroundcolor": "#E5ECF6",
            "gridcolor": "white",
            "gridwidth": 2,
            "linecolor": "white",
            "showbackground": true,
            "ticks": "",
            "zerolinecolor": "white"
           }
          },
          "shapedefaults": {
           "line": {
            "color": "#2a3f5f"
           }
          },
          "ternary": {
           "aaxis": {
            "gridcolor": "white",
            "linecolor": "white",
            "ticks": ""
           },
           "baxis": {
            "gridcolor": "white",
            "linecolor": "white",
            "ticks": ""
           },
           "bgcolor": "#E5ECF6",
           "caxis": {
            "gridcolor": "white",
            "linecolor": "white",
            "ticks": ""
           }
          },
          "title": {
           "x": 0.05
          },
          "xaxis": {
           "automargin": true,
           "gridcolor": "white",
           "linecolor": "white",
           "ticks": "",
           "title": {
            "standoff": 15
           },
           "zerolinecolor": "white",
           "zerolinewidth": 2
          },
          "yaxis": {
           "automargin": true,
           "gridcolor": "white",
           "linecolor": "white",
           "ticks": "",
           "title": {
            "standoff": 15
           },
           "zerolinecolor": "white",
           "zerolinewidth": 2
          }
         }
        },
        "width": 1000,
        "xaxis": {
         "anchor": "y",
         "categoryarray": [
          "Assistans",
          "Skadeärende",
          "Påringningsärende",
          "Transport"
         ],
         "categoryorder": "array",
         "domain": [
          0,
          1
         ],
         "tickangle": 0,
         "title": {
          "text": "CaseTypeName"
         }
        },
        "yaxis": {
         "anchor": "x",
         "domain": [
          0,
          1
         ],
         "title": {
          "text": "Percentage"
         }
        }
       }
      }
     },
     "metadata": {},
     "output_type": "display_data"
    }
   ],
   "source": [
    "bubbles_figure_probabilities(create_Subdata(events,[EVENTS_TYPE,ADITIONAL_TYPES[0]]),EVENTS_TYPE,ADITIONAL_TYPES[0])"
   ]
  },
  {
   "cell_type": "code",
   "execution_count": 15,
   "metadata": {},
   "outputs": [],
   "source": [
    "from descriptions.utils_description import get_probabilities_matrices"
   ]
  },
  {
   "cell_type": "code",
   "execution_count": 16,
   "metadata": {},
   "outputs": [],
   "source": [
    "M=get_probabilities_matrices(create_Subdata(events,[EVENTS_TYPE,ADITIONAL_TYPES[0]]),EVENTS_TYPE,ADITIONAL_TYPES[0])"
   ]
  },
  {
   "cell_type": "code",
   "execution_count": 17,
   "metadata": {},
   "outputs": [
    {
     "data": {
      "text/html": [
       "<div>\n",
       "<style scoped>\n",
       "    .dataframe tbody tr th:only-of-type {\n",
       "        vertical-align: middle;\n",
       "    }\n",
       "\n",
       "    .dataframe tbody tr th {\n",
       "        vertical-align: top;\n",
       "    }\n",
       "\n",
       "    .dataframe thead th {\n",
       "        text-align: right;\n",
       "    }\n",
       "</style>\n",
       "<table border=\"1\" class=\"dataframe\">\n",
       "  <thead>\n",
       "    <tr style=\"text-align: right;\">\n",
       "      <th>ShipType</th>\n",
       "      <th>Motorbåt</th>\n",
       "      <th>Segelbåt</th>\n",
       "      <th>Vattenskoter</th>\n",
       "      <th>Annat</th>\n",
       "      <th>Båttrailer</th>\n",
       "    </tr>\n",
       "    <tr>\n",
       "      <th>CaseTypeName</th>\n",
       "      <th></th>\n",
       "      <th></th>\n",
       "      <th></th>\n",
       "      <th></th>\n",
       "      <th></th>\n",
       "    </tr>\n",
       "  </thead>\n",
       "  <tbody>\n",
       "    <tr>\n",
       "      <th>Assistans</th>\n",
       "      <td>0.415552</td>\n",
       "      <td>0.108374</td>\n",
       "      <td>0.000704</td>\n",
       "      <td>0.000704</td>\n",
       "      <td>0.000352</td>\n",
       "    </tr>\n",
       "    <tr>\n",
       "      <th>Skadeärende</th>\n",
       "      <td>0.288881</td>\n",
       "      <td>0.063688</td>\n",
       "      <td>0.003519</td>\n",
       "      <td>0.002815</td>\n",
       "      <td>0.000000</td>\n",
       "    </tr>\n",
       "    <tr>\n",
       "      <th>Påringningsärende</th>\n",
       "      <td>0.089374</td>\n",
       "      <td>0.022519</td>\n",
       "      <td>0.001759</td>\n",
       "      <td>0.000352</td>\n",
       "      <td>0.000704</td>\n",
       "    </tr>\n",
       "    <tr>\n",
       "      <th>Transport</th>\n",
       "      <td>0.000352</td>\n",
       "      <td>0.000000</td>\n",
       "      <td>0.000000</td>\n",
       "      <td>0.000352</td>\n",
       "      <td>0.000000</td>\n",
       "    </tr>\n",
       "  </tbody>\n",
       "</table>\n",
       "</div>"
      ],
      "text/plain": [
       "ShipType           Motorbåt  Segelbåt  Vattenskoter     Annat  Båttrailer\n",
       "CaseTypeName                                                             \n",
       "Assistans          0.415552  0.108374      0.000704  0.000704    0.000352\n",
       "Skadeärende        0.288881  0.063688      0.003519  0.002815    0.000000\n",
       "Påringningsärende  0.089374  0.022519      0.001759  0.000352    0.000704\n",
       "Transport          0.000352  0.000000      0.000000  0.000352    0.000000"
      ]
     },
     "execution_count": 17,
     "metadata": {},
     "output_type": "execute_result"
    }
   ],
   "source": [
    "M[0]"
   ]
  },
  {
   "cell_type": "code",
   "execution_count": 18,
   "metadata": {},
   "outputs": [
    {
     "data": {
      "text/html": [
       "<div>\n",
       "<style scoped>\n",
       "    .dataframe tbody tr th:only-of-type {\n",
       "        vertical-align: middle;\n",
       "    }\n",
       "\n",
       "    .dataframe tbody tr th {\n",
       "        vertical-align: top;\n",
       "    }\n",
       "\n",
       "    .dataframe thead th {\n",
       "        text-align: right;\n",
       "    }\n",
       "</style>\n",
       "<table border=\"1\" class=\"dataframe\">\n",
       "  <thead>\n",
       "    <tr style=\"text-align: right;\">\n",
       "      <th>ShipType</th>\n",
       "      <th>Motorbåt</th>\n",
       "      <th>Segelbåt</th>\n",
       "      <th>Vattenskoter</th>\n",
       "      <th>Annat</th>\n",
       "      <th>Båttrailer</th>\n",
       "    </tr>\n",
       "    <tr>\n",
       "      <th>CaseTypeName</th>\n",
       "      <th></th>\n",
       "      <th></th>\n",
       "      <th></th>\n",
       "      <th></th>\n",
       "      <th></th>\n",
       "    </tr>\n",
       "  </thead>\n",
       "  <tbody>\n",
       "    <tr>\n",
       "      <th>Assistans</th>\n",
       "      <td>0.523261</td>\n",
       "      <td>0.556962</td>\n",
       "      <td>0.117647</td>\n",
       "      <td>0.166667</td>\n",
       "      <td>0.333333</td>\n",
       "    </tr>\n",
       "    <tr>\n",
       "      <th>Skadeärende</th>\n",
       "      <td>0.363757</td>\n",
       "      <td>0.327306</td>\n",
       "      <td>0.588235</td>\n",
       "      <td>0.666667</td>\n",
       "      <td>0.000000</td>\n",
       "    </tr>\n",
       "    <tr>\n",
       "      <th>Påringningsärende</th>\n",
       "      <td>0.112539</td>\n",
       "      <td>0.115732</td>\n",
       "      <td>0.294118</td>\n",
       "      <td>0.083333</td>\n",
       "      <td>0.666667</td>\n",
       "    </tr>\n",
       "    <tr>\n",
       "      <th>Transport</th>\n",
       "      <td>0.000443</td>\n",
       "      <td>0.000000</td>\n",
       "      <td>0.000000</td>\n",
       "      <td>0.083333</td>\n",
       "      <td>0.000000</td>\n",
       "    </tr>\n",
       "  </tbody>\n",
       "</table>\n",
       "</div>"
      ],
      "text/plain": [
       "ShipType           Motorbåt  Segelbåt  Vattenskoter     Annat  Båttrailer\n",
       "CaseTypeName                                                             \n",
       "Assistans          0.523261  0.556962      0.117647  0.166667    0.333333\n",
       "Skadeärende        0.363757  0.327306      0.588235  0.666667    0.000000\n",
       "Påringningsärende  0.112539  0.115732      0.294118  0.083333    0.666667\n",
       "Transport          0.000443  0.000000      0.000000  0.083333    0.000000"
      ]
     },
     "execution_count": 18,
     "metadata": {},
     "output_type": "execute_result"
    }
   ],
   "source": [
    "M[1]"
   ]
  },
  {
   "cell_type": "code",
   "execution_count": 19,
   "metadata": {},
   "outputs": [
    {
     "data": {
      "text/html": [
       "<div>\n",
       "<style scoped>\n",
       "    .dataframe tbody tr th:only-of-type {\n",
       "        vertical-align: middle;\n",
       "    }\n",
       "\n",
       "    .dataframe tbody tr th {\n",
       "        vertical-align: top;\n",
       "    }\n",
       "\n",
       "    .dataframe thead th {\n",
       "        text-align: right;\n",
       "    }\n",
       "</style>\n",
       "<table border=\"1\" class=\"dataframe\">\n",
       "  <thead>\n",
       "    <tr style=\"text-align: right;\">\n",
       "      <th>ShipType</th>\n",
       "      <th>Motorbåt</th>\n",
       "      <th>Segelbåt</th>\n",
       "      <th>Vattenskoter</th>\n",
       "      <th>Annat</th>\n",
       "      <th>Båttrailer</th>\n",
       "    </tr>\n",
       "    <tr>\n",
       "      <th>CaseTypeName</th>\n",
       "      <th></th>\n",
       "      <th></th>\n",
       "      <th></th>\n",
       "      <th></th>\n",
       "      <th></th>\n",
       "    </tr>\n",
       "  </thead>\n",
       "  <tbody>\n",
       "    <tr>\n",
       "      <th>Assistans</th>\n",
       "      <td>0.790495</td>\n",
       "      <td>0.206158</td>\n",
       "      <td>0.001339</td>\n",
       "      <td>0.001339</td>\n",
       "      <td>0.000669</td>\n",
       "    </tr>\n",
       "    <tr>\n",
       "      <th>Skadeärende</th>\n",
       "      <td>0.804902</td>\n",
       "      <td>0.177451</td>\n",
       "      <td>0.009804</td>\n",
       "      <td>0.007843</td>\n",
       "      <td>0.000000</td>\n",
       "    </tr>\n",
       "    <tr>\n",
       "      <th>Påringningsärende</th>\n",
       "      <td>0.779141</td>\n",
       "      <td>0.196319</td>\n",
       "      <td>0.015337</td>\n",
       "      <td>0.003067</td>\n",
       "      <td>0.006135</td>\n",
       "    </tr>\n",
       "    <tr>\n",
       "      <th>Transport</th>\n",
       "      <td>0.500000</td>\n",
       "      <td>0.000000</td>\n",
       "      <td>0.000000</td>\n",
       "      <td>0.500000</td>\n",
       "      <td>0.000000</td>\n",
       "    </tr>\n",
       "  </tbody>\n",
       "</table>\n",
       "</div>"
      ],
      "text/plain": [
       "ShipType           Motorbåt  Segelbåt  Vattenskoter     Annat  Båttrailer\n",
       "CaseTypeName                                                             \n",
       "Assistans          0.790495  0.206158      0.001339  0.001339    0.000669\n",
       "Skadeärende        0.804902  0.177451      0.009804  0.007843    0.000000\n",
       "Påringningsärende  0.779141  0.196319      0.015337  0.003067    0.006135\n",
       "Transport          0.500000  0.000000      0.000000  0.500000    0.000000"
      ]
     },
     "execution_count": 19,
     "metadata": {},
     "output_type": "execute_result"
    }
   ],
   "source": [
    "M[2]"
   ]
  },
  {
   "cell_type": "code",
   "execution_count": 20,
   "metadata": {},
   "outputs": [],
   "source": [
    "from descriptions.utils_description import heatmap_figure_probabilities"
   ]
  },
  {
   "cell_type": "code",
   "execution_count": 21,
   "metadata": {},
   "outputs": [
    {
     "data": {
      "image/png": "[encoded data removed]",
      "text/plain": [
       "<Figure size 720x648 with 1 Axes>"
      ]
     },
     "execution_count": 21,
     "metadata": {},
     "output_type": "execute_result"
    }
   ],
   "source": [
    "heatmap_figure_probabilities(M[0])"
   ]
  },
  {
   "cell_type": "code",
   "execution_count": 22,
   "metadata": {},
   "outputs": [],
   "source": [
    "from descriptions.utils_description import heatmap_geo"
   ]
  },
  {
   "cell_type": "code",
   "execution_count": 23,
   "metadata": {},
   "outputs": [
    {
     "data": {
      "text/html": [
       "<div style=\"width:100%;\"><div style=\"position:relative;width:100%;height:0;padding-bottom:60%;\"><span style=\"color:#565656\">Make this Notebook Trusted to load map: File -> Trust Notebook</span><iframe src=\"about:blank\" style=\"position:absolute;width:100%;height:100%;left:0;top:0;border:none !important;\" data-html=%3C%21DOCTYPE%20html%3E%0A%3Chead%3E%20%20%20%20%0A%20%20%20%20%3Cmeta%20http-equiv%3D%22content-type%22%20content%3D%22text/html%3B%20charset%3DUTF-8%22%20/%3E%0A%20%20%20%20%0A%20%20%20%20%20%20%20%20%3Cscript%3E%0A%20%20%20%20%20%20%20%20%20%20%20%20L_NO_TOUCH%20%3D%20false%3B%0A%20%20%20%20%20%20%20%20%20%20%20%20L_DISABLE_3D%20%3D%20false%3B%0A%20%20%20%20%20%20%20%20%3C/script%3E%0A%20%20%20%20%0A%20%20%20%20%3Cstyle%3Ehtml%2C%20body%20%7Bwidth%3A%20100%25%3Bheight%3A%20100%25%3Bmargin%3A%200%3Bpadding%3A%200%3B%7D%3C/style%3E%0A%20%20%20%20%3Cstyle%3E%23map%20%7Bposition%3Aabsolute%3Btop%3A0%3Bbottom%3A0%3Bright%3A0%3Bleft%3A0%3B%7D%3C/style%3E%0A%20%20%20%20%3Cscript%20src%3D%22https%3A//cdn.jsdelivr.net/npm/leaflet%401.6.0/dist/leaflet.js%22%3E%3C/script%3E%0A%20%20%20%20%3Cscript%20src%3D%22https%3A//code.jquery.com/jquery-1.12.4.min.js%22%3E%3C/script%3E%0A%20%20%20%20%3Cscript%20src%3D%22https%3A//maxcdn.bootstrapcdn.com/bootstrap/3.2.0/js/bootstrap.min.js%22%3E%3C/script%3E%0A%20%20%20%20%3Cscript%20src%3D%22https%3A//cdnjs.cloudflare.com/ajax/libs/Leaflet.awesome-markers/2.0.2/leaflet.awesome-markers.js%22%3E%3C/script%3E%0A%20%20%20%20%3Clink%20rel%3D%22stylesheet%22%20href%3D%22https%3A//cdn.jsdelivr.net/npm/leaflet%401.6.0/dist/leaflet.css%22/%3E%0A%20%20%20%20%3Clink%20rel%3D%22stylesheet%22%20href%3D%22https%3A//maxcdn.bootstrapcdn.com/bootstrap/3.2.0/css/bootstrap.min.css%22/%3E%0A%20%20%20%20%3Clink%20rel%3D%22stylesheet%22%20href%3D%22https%3A//maxcdn.bootstrapcdn.com/bootstrap/3.2.0/css/bootstrap-theme.min.css%22/%3E%0A%20%20%20%20%3Clink%20rel%3D%22stylesheet%22%20href%3D%22https%3A//maxcdn.bootstrapcdn.com/font-awesome/4.6.3/css/font-awesome.min.css%22/%3E%0A%20%20%20%20%3Clink%20rel%3D%22stylesheet%22%20href%3D%22https%3A//cdnjs.cloudflare.com/ajax/libs/Leaflet.awesome-markers/2.0.2/leaflet.awesome-markers.css%22/%3E%0A%20%20%20%20%3Clink%20rel%3D%22stylesheet%22%20href%3D%22https%3A//cdn.jsdelivr.net/gh/python-visualization/folium/folium/templates/leaflet.awesome.rotate.min.css%22/%3E%0A%20%20%20%20%0A%20%20%20%20%20%20%20%20%20%20%20%20%3Cmeta%20name%3D%22viewport%22%20content%3D%22width%3Ddevice-width%2C%0A%20%20%20%20%20%20%20%20%20%20%20%20%20%20%20%20initial-scale%3D1.0%2C%20maximum-scale%3D1.0%2C%20user-scalable%3Dno%22%20/%3E%0A%20%20%20%20%20%20%20%20%20%20%20%20%3Cstyle%3E%0A%20%20%20%20%20%20%20%20%20%20%20%20%20%20%20%20%23map_eef35a1dd31b47788480a48e09673144%20%7B%0A%20%20%20%20%20%20%20%20%20%20%20%20%20%20%20%20%20%20%20%20position%3A%20relative%3B%0A%20%20%20%20%20%20%20%20%20%20%20%20%20%20%20%20%20%20%20%20width%3A%20100.0%25%3B%0A%20%20%20%20%20%20%20%20%20%20%20%20%20%20%20%20%20%20%20%20height%3A%20100.0%25%3B%0A%20%20%20%20%20%20%20%20%20%20%20%20%20%20%20%20%20%20%20%20left%3A%200.0%25%3B%0A%20%20%20%20%20%20%20%20%20%20%20%20%20%20%20%20%20%20%20%20top%3A%200.0%25%3B%0A%20%20%20%20%20%20%20%20%20%20%20%20%20%20%20%20%7D%0A%20%20%20%20%20%20%20%20%20%20%20%20%3C/style%3E%0A%20%20%20%20%20%20%20%20%0A%20%20%20%20%3Cscript%20src%3D%22https%3A//cdn.jsdelivr.net/gh/python-visualization/folium%40master/folium/templates/leaflet_heat.min.js%22%3E%3C/script%3E%0A%3C/head%3E%0A%3Cbody%3E%20%20%20%20%0A%20%20%20%20%0A%20%20%20%20%20%20%20%20%20%20%20%20%3Cdiv%20class%3D%22folium-map%22%20id%3D%22map_eef35a1dd31b47788480a48e09673144%22%20%3E%3C/div%3E%0A%20%20%20%20%20%20%20%20%0A%3C/body%3E%0A%3Cscript%3E%20%20%20%20%0A%20%20%20%20%0A%20%20%20%20%20%20%20%20%20%20%20%20var%20map_eef35a1dd31b47788480a48e09673144%20%3D%20L.map%28%0A%20%20%20%20%20%20%20%20%20%20%20%20%20%20%20%20%22map_eef35a1dd31b47788480a48e09673144%22%2C%0A%20%20%20%20%20%20%20%20%20%20%20%20%20%20%20%20%7B%0A%20%20%20%20%20%20%20%20%20%20%20%20%20%20%20%20%20%20%20%20center%3A%20%5B59.311196%2C%2018.111482%5D%2C%0A%20%20%20%20%20%20%20%20%20%20%20%20%20%20%20%20%20%20%20%20crs%3A%20L.CRS.EPSG3857%2C%0A%20%20%20%20%20%20%20%20%20%20%20%20%20%20%20%20%20%20%20%20zoom%3A%2010%2C%0A%20%20%20%20%20%20%20%20%20%20%20%20%20%20%20%20%20%20%20%20zoomControl%3A%20true%2C%0A%20%20%20%20%20%20%20%20%20%20%20%20%20%20%20%20%20%20%20%20preferCanvas%3A%20false%2C%0A%20%20%20%20%20%20%20%20%20%20%20%20%20%20%20%20%7D%0A%20%20%20%20%20%20%20%20%20%20%20%20%29%3B%0A%0A%20%20%20%20%20%20%20%20%20%20%20%20%0A%0A%20%20%20%20%20%20%20%20%0A%20%20%20%20%0A%20%20%20%20%20%20%20%20%20%20%20%20var%20tile_layer_ee17c6070b0340c5a85ddc2d44cdf607%20%3D%20L.tileLayer%28%0A%20%20%20%20%20%20%20%20%20%20%20%20%20%20%20%20%22https%3A//%7Bs%7D.tile.openstreetmap.org/%7Bz%7D/%7Bx%7D/%7By%7D.png%22%2C%0A%20%20%20%20%20%20%20%20%20%20%20%20%20%20%20%20%7B%22attribution%22%3A%20%22Data%20by%20%5Cu0026copy%3B%20%5Cu003ca%20href%3D%5C%22http%3A//openstreetmap.org%5C%22%5Cu003eOpenStreetMap%5Cu003c/a%5Cu003e%2C%20under%20%5Cu003ca%20href%3D%5C%22http%3A//www.openstreetmap.org/copyright%5C%22%5Cu003eODbL%5Cu003c/a%5Cu003e.%22%2C%20%22detectRetina%22%3A%20false%2C%20%22maxNativeZoom%22%3A%2018%2C%20%22maxZoom%22%3A%2018%2C%20%22minZoom%22%3A%200%2C%20%22noWrap%22%3A%20false%2C%20%22opacity%22%3A%201%2C%20%22subdomains%22%3A%20%22abc%22%2C%20%22tms%22%3A%20false%7D%0A%20%20%20%20%20%20%20%20%20%20%20%20%29.addTo%28map_eef35a1dd31b47788480a48e09673144%29%3B%0A%20%20%20%20%20%20%20%20%0A%20%20%20%20%0A%20%20%20%20%20%20%20%20%20%20%20%20var%20heat_map_d08a1c7d25664ca8ad02ce14d5f75926%20%3D%20L.heatLayer%28%0A%20%20%20%20%20%20%20%20%20%20%20%20%20%20%20%20%5B%5B59.265804%2C%2017.706564%5D%2C%20%5B55.581886%2C%2012.907274%5D%2C%20%5B59.332669%2C%2013.091052%5D%2C%20%5B59.289274%2C%2018.914775%5D%2C%20%5B59.376067%2C%2013.473402%5D%2C%20%5B59.505453%2C%2018.864675%5D%2C%20%5B58.76759%2C%2014.516065%5D%2C%20%5B58.63809%2C%2016.371182%5D%2C%20%5B55.42287%2C%2013.847861%5D%2C%20%5B59.849172%2C%2018.949405%5D%2C%20%5B59.466232%2C%2018.329587%5D%2C%20%5B59.413329%2C%2018.329993%5D%2C%20%5B59.524334%2C%2014.195065%5D%2C%20%5B58.901289%2C%2017.954234%5D%2C%20%5B59.298745%2C%2018.274943%5D%2C%20%5B59.277955%2C%2018.315172%5D%2C%20%5B59.285972%2C%2018.556504%5D%2C%20%5B58.222695%2C%2011.916145%5D%2C%20%5B55.582755%2C%2012.908775%5D%2C%20%5B59.384965%2C%2018.897167%5D%2C%20%5B62.23%2C%2017.56%5D%2C%20%5B57.66%2C%2011.85%5D%2C%20%5B58.24%2C%2011.68%5D%2C%20%5B57.55%2C%2011.92%5D%2C%20%5B58.48%2C%2011.32%5D%2C%20%5B57.900051%2C%2016.699663%5D%2C%20%5B58.27%2C%2011.44%5D%2C%20%5B58.48%2C%2011.32%5D%2C%20%5B59.31%2C%2018.11%5D%2C%20%5B59.5%2C%2016.99%5D%2C%20%5B59.22%2C%2018.34%5D%2C%20%5B56.88%2C%2012.46%5D%2C%20%5B61.65%2C%2017.17%5D%2C%20%5B59.77%2C%2019.06%5D%2C%20%5B59.97%2C%2018.81%5D%2C%20%5B59.538096%2C%2018.728728%5D%2C%20%5B59.36%2C%2018.23%5D%2C%20%5B59.67837%2C%2017.641619%5D%2C%20%5B59.43321%2C%2018.274004%5D%2C%20%5B59.277318%2C%2017.716127%5D%2C%20%5B58.52%2C%2016.87%5D%2C%20%5B56.16%2C%2015.17%5D%2C%20%5B56.647927%2C%2016.281665%5D%2C%20%5B56.091476%2C%2015.865057%5D%2C%20%5B59.299363%2C%2018.29174%5D%2C%20%5B56.12%2C%2015.46%5D%2C%20%5B59.36%2C%2018.5%5D%2C%20%5B59.36%2C%2018.23%5D%2C%20%5B57.71%2C%2011.97%5D%2C%20%5B59.31%2C%2017.41%5D%2C%20%5B59.29%2C%2018.69%5D%2C%20%5B59.36%2C%2018.32%5D%2C%20%5B59.24%2C%2018.0%5D%2C%20%5B59.14%2C%2018.42%5D%2C%20%5B57.77%2C%2011.82%5D%2C%20%5B68.36%2C%2018.83%5D%2C%20%5B59.31%2C%2018.14%5D%2C%20%5B59.12%2C%2017.78%5D%2C%20%5B59.46%2C%2018.35%5D%2C%20%5B59.12%2C%2018.31%5D%2C%20%5B59.51%2C%2018.49%5D%2C%20%5B59.44%2C%2018.31%5D%2C%20%5B59.29%2C%2018.63%5D%2C%20%5B59.27%2C%2017.87%5D%2C%20%5B59.59%2C%2018.8%5D%2C%20%5B59.3%2C%2018.71%5D%2C%20%5B59.48%2C%2018.45%5D%2C%20%5B59.24%2C%2018.55%5D%2C%20%5B59.32%2C%2018.83%5D%2C%20%5B58.63%2C%2015.9%5D%2C%20%5B59.41%2C%2018.37%5D%2C%20%5B59.5%2C%2018.85%5D%2C%20%5B59.51%2C%2015.96%5D%2C%20%5B59.52%2C%2017.09%5D%2C%20%5B58.11%2C%2014.45%5D%2C%20%5B59.45%2C%2018.74%5D%2C%20%5B59.7%2C%2018.86%5D%2C%20%5B57.95%2C%2011.57%5D%2C%20%5B59.46%2C%2018.7%5D%2C%20%5B57.63%2C%2011.88%5D%2C%20%5B59.19%2C%2017.64%5D%2C%20%5B59.26%2C%2018.55%5D%2C%20%5B59.69%2C%2018.81%5D%2C%20%5B59.33%2C%2018.66%5D%2C%20%5B59.2%2C%2017.88%5D%2C%20%5B59.44%2C%2018.92%5D%2C%20%5B59.44%2C%2018.35%5D%2C%20%5B59.32%2C%2017.98%5D%2C%20%5B59.83%2C%2018.93%5D%2C%20%5B58.54%2C%2011.27%5D%2C%20%5B58.9%2C%2017.95%5D%2C%20%5B58.67%2C%2017.09%5D%2C%20%5B59.36%2C%2018.05%5D%2C%20%5B58.83%2C%2017.87%5D%2C%20%5B59.23%2C%2016.08%5D%2C%20%5B57.64%2C%2011.87%5D%2C%20%5B59.44%2C%2018.44%5D%2C%20%5B59.35%2C%2018.38%5D%2C%20%5B58.9%2C%2017.95%5D%2C%20%5B59.4%2C%2018.14%5D%2C%20%5B59.27%2C%2018.76%5D%2C%20%5B56.16%2C%2014.87%5D%2C%20%5B59.69%2C%2018.08%5D%2C%20%5B59.44%2C%2018.8%5D%2C%20%5B59.48%2C%2018.52%5D%2C%20%5B58.11%2C%2011.37%5D%2C%20%5B59.31%2C%2018.22%5D%2C%20%5B59.28%2C%2018.29%5D%2C%20%5B59.42%2C%2018.13%5D%2C%20%5B57.93%2C%2011.61%5D%2C%20%5B58.9%2C%2017.95%5D%2C%20%5B59.41%2C%2018.57%5D%2C%20%5B58.81%2C%2017.47%5D%2C%20%5B57.66%2C%2011.84%5D%2C%20%5B57.65%2C%2011.85%5D%2C%20%5B59.42%2C%2018.55%5D%2C%20%5B58.55%2C%2011.27%5D%2C%20%5B59.3%2C%2018.2%5D%2C%20%5B59.27%2C%2018.31%5D%2C%20%5B59.34%2C%2017.97%5D%2C%20%5B59.39%2C%2018.31%5D%2C%20%5B59.24%2C%2017.39%5D%2C%20%5B59.4%2C%2018.4%5D%2C%20%5B58.07%2C%2011.48%5D%2C%20%5B55.57%2C%2012.91%5D%2C%20%5B58.4%2C%2016.83%5D%2C%20%5B59.36%2C%2017.21%5D%2C%20%5B59.36%2C%2017.21%5D%2C%20%5B59.36%2C%2017.21%5D%2C%20%5B57.84%2C%2016.54%5D%2C%20%5B59.31%2C%2017.98%5D%2C%20%5B59.34%2C%2018.22%5D%2C%20%5B57.99%2C%2011.54%5D%2C%20%5B59.4%2C%2018.33%5D%2C%20%5B59.44%2C%2018.22%5D%2C%20%5B59.28%2C%2018.31%5D%2C%20%5B59.54%2C%2018.74%5D%2C%20%5B59.31%2C%2018.05%5D%2C%20%5B59.34%2C%2017.97%5D%2C%20%5B59.29%2C%2018.91%5D%2C%20%5B59.3%2C%2018.08%5D%2C%20%5B59.41%2C%2018.3%5D%2C%20%5B57.66%2C%2011.85%5D%2C%20%5B56.42%2C%2012.62%5D%2C%20%5B59.3%2C%2018.82%5D%2C%20%5B58.71%2C%2013.82%5D%2C%20%5B58.94%2C%2011.17%5D%2C%20%5B59.36%2C%2018.12%5D%2C%20%5B59.25%2C%2018.3%5D%2C%20%5B58.95%2C%2017.76%5D%2C%20%5B59.37%2C%2018.93%5D%2C%20%5B59.54%2C%2018.75%5D%2C%20%5B59.31%2C%2013.5%5D%2C%20%5B59.42%2C%2018.52%5D%2C%20%5B59.37%2C%2018.11%5D%2C%20%5B60.14%2C%2018.64%5D%2C%20%5B57.62%2C%2011.91%5D%2C%20%5B59.28%2C%2017.8%5D%2C%20%5B58.25%2C%2011.46%5D%2C%20%5B59.34%2C%2017.87%5D%2C%20%5B57.89%2C%2011.6%5D%2C%20%5B56.17%2C%2015.28%5D%2C%20%5B59.78%2C%2018.96%5D%2C%20%5B58.11%2C%2011.37%5D%2C%20%5B58.68%2C%2013.16%5D%2C%20%5B59.35%2C%2018.6%5D%2C%20%5B59.39%2C%2018.8%5D%2C%20%5B59.3%2C%2018.08%5D%2C%20%5B59.29%2C%2017.81%5D%2C%20%5B59.32%2C%2018.13%5D%2C%20%5B59.43%2C%2017.75%5D%2C%20%5B59.59%2C%2019.17%5D%2C%20%5B59.4%2C%2018.33%5D%2C%20%5B59.48%2C%2018.41%5D%2C%20%5B59.29%2C%2017.72%5D%2C%20%5B59.41%2C%2018.41%5D%2C%20%5B59.46%2C%2018.68%5D%2C%20%5B59.36%2C%2018.15%5D%2C%20%5B59.48%2C%2018.81%5D%2C%20%5B59.38%2C%2018.09%5D%2C%20%5B59.28%2C%2017.84%5D%2C%20%5B59.42%2C%2018.33%5D%2C%20%5B59.29%2C%2018.91%5D%2C%20%5B59.11%2C%2018.5%5D%2C%20%5B59.32%2C%2017.91%5D%2C%20%5B59.37%2C%2018.12%5D%2C%20%5B58.96%2C%2017.71%5D%2C%20%5B59.76%2C%2018.75%5D%2C%20%5B59.42%2C%2018.08%5D%2C%20%5B59.41%2C%2018.41%5D%2C%20%5B57.62%2C%2011.87%5D%2C%20%5B59.38%2C%2018.58%5D%2C%20%5B59.39%2C%2017.61%5D%2C%20%5B59.33%2C%2018.18%5D%2C%20%5B59.28%2C%2017.85%5D%2C%20%5B58.95%2C%2018.32%5D%2C%20%5B59.42%2C%2018.48%5D%2C%20%5B57.64%2C%2011.82%5D%2C%20%5B58.02%2C%2015.16%5D%2C%20%5B59.12%2C%2018.54%5D%2C%20%5B59.42%2C%2018.3%5D%2C%20%5B58.44%2C%2011.29%5D%2C%20%5B59.3%2C%2018.08%5D%2C%20%5B59.44%2C%2018.92%5D%2C%20%5B59.61%2C%2016.54%5D%2C%20%5B59.31%2C%2018.32%5D%2C%20%5B59.48%2C%2018.42%5D%2C%20%5B59.27%2C%2017.8%5D%2C%20%5B58.21%2C%2011.42%5D%2C%20%5B59.85%2C%2017.64%5D%2C%20%5B57.76%2C%2011.68%5D%2C%20%5B57.89%2C%2011.59%5D%2C%20%5B59.34%2C%2018.63%5D%2C%20%5B59.24%2C%2018.61%5D%2C%20%5B57.86%2C%2012.0%5D%2C%20%5B59.0%2C%2018.13%5D%2C%20%5B56.84%2C%2013.67%5D%2C%20%5B66.25%2C%2017.49%5D%2C%20%5B59.4%2C%2018.34%5D%2C%20%5B57.64%2C%2011.78%5D%2C%20%5B59.4%2C%2018.64%5D%2C%20%5B59.32%2C%2018.31%5D%2C%20%5B59.41%2C%2018.55%5D%2C%20%5B59.08%2C%2017.75%5D%2C%20%5B59.32%2C%2018.1%5D%2C%20%5B62.3%2C%2017.46%5D%2C%20%5B59.36%2C%2018.13%5D%2C%20%5B59.41%2C%2018.39%5D%2C%20%5B55.61%2C%2012.76%5D%2C%20%5B56.16%2C%2015.53%5D%2C%20%5B57.93%2C%2019.29%5D%2C%20%5B59.29%2C%2018.91%5D%2C%20%5B58.83%2C%2014.99%5D%2C%20%5B59.29%2C%2018.95%5D%2C%20%5B57.86%2C%2019.05%5D%2C%20%5B59.35%2C%2018.65%5D%2C%20%5B57.79%2C%2014.28%5D%2C%20%5B59.61%2C%2016.54%5D%2C%20%5B59.77%2C%2018.87%5D%2C%20%5B59.76%2C%2019.04%5D%2C%20%5B58.16%2C%208.02%5D%2C%20%5B58.18%2C%2011.4%5D%2C%20%5B59.45%2C%2018.8%5D%2C%20%5B59.3%2C%2017.95%5D%2C%20%5B57.69%2C%2018.84%5D%2C%20%5B59.31%2C%2018.1%5D%2C%20%5B59.29%2C%2017.65%5D%2C%20%5B59.35%2C%2017.99%5D%2C%20%5B59.36%2C%2018.29%5D%2C%20%5B59.54%2C%2018.76%5D%2C%20%5B59.28%2C%2018.52%5D%2C%20%5B58.97%2C%2018.32%5D%2C%20%5B59.37%2C%2018.7%5D%2C%20%5B58.93%2C%2018.18%5D%2C%20%5B59.65%2C%2018.89%5D%2C%20%5B59.28%2C%2018.53%5D%2C%20%5B59.41%2C%2018.56%5D%2C%20%5B59.19%2C%2018.69%5D%2C%20%5B58.89%2C%2011.14%5D%2C%20%5B59.37%2C%2017.04%5D%2C%20%5B59.36%2C%2018.31%5D%2C%20%5B59.05%2C%2017.69%5D%2C%20%5B58.83%2C%2017.78%5D%2C%20%5B59.21%2C%2018.57%5D%2C%20%5B58.44%2C%2011.68%5D%2C%20%5B58.73%2C%2017.12%5D%2C%20%5B57.91%2C%2016.7%5D%2C%20%5B59.04%2C%2018.3%5D%2C%20%5B58.71%2C%2017.29%5D%2C%20%5B59.21%2C%2018.72%5D%2C%20%5B57.62%2C%2011.95%5D%2C%20%5B59.42%2C%2018.37%5D%2C%20%5B55.87%2C%2012.82%5D%2C%20%5B58.07%2C%2011.48%5D%2C%20%5B59.28%2C%2018.31%5D%2C%20%5B59.47%2C%2018.77%5D%2C%20%5B59.34%2C%2018.47%5D%2C%20%5B59.3%2C%2018.11%5D%2C%20%5B59.42%2C%2018.87%5D%2C%20%5B59.6%2C%2016.55%5D%2C%20%5B60.49%2C%2015.71%5D%2C%20%5B59.46%2C%2016.9%5D%2C%20%5B58.49%2C%2011.29%5D%2C%20%5B57.48%2C%2012.07%5D%2C%20%5B57.73%2C%2011.67%5D%2C%20%5B57.24%2C%2012.11%5D%2C%20%5B59.46%2C%2018.61%5D%2C%20%5B59.34%2C%2017.96%5D%2C%20%5B59.32%2C%2017.97%5D%2C%20%5B57.66%2C%2011.63%5D%2C%20%5B59.38%2C%2018.8%5D%2C%20%5B55.57%2C%2012.91%5D%2C%20%5B58.05%2C%2011.52%5D%2C%20%5B59.3%2C%2018.08%5D%2C%20%5B59.42%2C%2018.55%5D%2C%20%5B59.28%2C%2017.85%5D%2C%20%5B57.74%2C%2011.73%5D%2C%20%5B59.33%2C%2018.32%5D%2C%20%5B59.4%2C%2018.88%5D%2C%20%5B56.01%2C%2014.84%5D%2C%20%5B59.7%2C%2018.92%5D%2C%20%5B59.4%2C%2018.35%5D%2C%20%5B59.41%2C%2018.77%5D%2C%20%5B59.34%2C%2017.88%5D%2C%20%5B59.42%2C%2018.32%5D%2C%20%5B60.34%2C%2018.45%5D%2C%20%5B59.31%2C%2018.83%5D%2C%20%5B59.38%2C%2017.04%5D%2C%20%5B58.1%2C%2016.83%5D%2C%20%5B57.66%2C%2011.85%5D%2C%20%5B59.45%2C%2017.81%5D%2C%20%5B55.68%2C%2013.07%5D%2C%20%5B59.34%2C%2018.63%5D%2C%20%5B59.37%2C%2013.46%5D%2C%20%5B59.0%2C%2018.13%5D%2C%20%5B59.63%2C%2017.08%5D%2C%20%5B59.82%2C%2018.92%5D%2C%20%5B56.0%2C%2012.74%5D%2C%20%5B59.3%2C%2018.83%5D%2C%20%5B58.18%2C%2016.87%5D%2C%20%5B58.71%2C%2017.29%5D%2C%20%5B56.02%2C%2014.8%5D%2C%20%5B59.3%2C%2018.26%5D%2C%20%5B59.3%2C%2018.08%5D%2C%20%5B59.5%2C%2018.6%5D%2C%20%5B59.43%2C%2018.7%5D%2C%20%5B59.12%2C%2018.31%5D%2C%20%5B57.817278%2C%2011.636357%5D%2C%20%5B59.403432%2C%2018.355762%5D%2C%20%5B59.481374%2C%2018.820029%5D%2C%20%5B59.644869%2C%2018.968638%5D%2C%20%5B62.670481%2C%2017.981812%5D%2C%20%5B59.156581%2C%2018.806211%5D%2C%20%5B59.403467%2C%2018.355807%5D%2C%20%5B61.136862%2C%2017.193684%5D%2C%20%5B59.597373%2C%2017.727209%5D%2C%20%5B59.233601%2C%2018.647999%5D%2C%20%5B59.505591%2C%2019.173955%5D%2C%20%5B58.452835%2C%2014.855079%5D%2C%20%5B59.322183%2C%2017.419807%5D%2C%20%5B59.61787%2C%2017.736319%5D%2C%20%5B59.478884%2C%2018.563235%5D%2C%20%5B59.472645%2C%2018.511772%5D%2C%20%5B59.481117%2C%2018.803446%5D%2C%20%5B59.505784%2C%2019.171518%5D%2C%20%5B58.047825%2C%2011.778278%5D%2C%20%5B58.756452%2C%2011.180435%5D%2C%20%5B59.274534%2C%2017.848798%5D%2C%20%5B58.207686%2C%2011.421161%5D%2C%20%5B57.702192%2C%2011.953289%5D%2C%20%5B59.232073%2C%2017.878906%5D%2C%20%5B59.384337%2C%2018.527436%5D%2C%20%5B57.578244%2C%2011.916258%5D%2C%20%5B59.297937%2C%2018.703009%5D%2C%20%5B58.142568%2C%2011.394712%5D%2C%20%5B59.325171%2C%2017.667863%5D%2C%20%5B59.430812%2C%2018.707175%5D%2C%20%5B59.419824%2C%2018.975817%5D%2C%20%5B59.424054%2C%2018.417768%5D%2C%20%5B59.215638%2C%2018.312897%5D%2C%20%5B59.110127%2C%2018.489037%5D%2C%20%5B59.343451%2C%2013.589359%5D%2C%20%5B59.333051%2C%2018.203154%5D%2C%20%5B59.387578%2C%2018.178655%5D%2C%20%5B59.29109%2C%2018.736079%5D%2C%20%5B59.335679%2C%2017.991625%5D%2C%20%5B58.6914%2C%2011.25527%5D%2C%20%5B59.318596%2C%2017.943385%5D%2C%20%5B58.690176%2C%2011.255094%5D%2C%20%5B58.895717%2C%2017.921134%5D%2C%20%5B59.135329%2C%2018.410614%5D%2C%20%5B59.409231%2C%2018.774176%5D%2C%20%5B59.486644%2C%2016.522182%5D%2C%20%5B58.939182%2C%2011.168988%5D%2C%20%5B59.272914%2C%2017.718363%5D%2C%20%5B59.280083%2C%2017.498905%5D%2C%20%5B59.46951%2C%2018.756222%5D%2C%20%5B59.352925%2C%2018.233855%5D%2C%20%5B58.881373%2C%2018.111482%5D%2C%20%5B65.503304%2C%2022.103011%5D%2C%20%5B58.798796%2C%2017.865036%5D%2C%20%5B59.286193%2C%2018.61701%5D%2C%20%5B59.051117%2C%2012.697732%5D%2C%20%5B59.430595%2C%2018.701643%5D%2C%20%5B59.443164%2C%2018.312152%5D%2C%20%5B59.047177%2C%2018.546529%5D%2C%20%5B59.473652%2C%2018.76944%5D%2C%20%5B59.427272%2C%2017.97856%5D%2C%20%5B59.321846%2C%2018.110408%5D%2C%20%5B59.380137%2C%2018.797213%5D%2C%20%5B59.317101%2C%2018.677772%5D%2C%20%5B59.538199%2C%2018.751513%5D%2C%20%5B57.866478%2C%2011.559894%5D%2C%20%5B59.539265%2C%2018.790963%5D%2C%20%5B59.465412%2C%2018.751486%5D%2C%20%5B59.398842%2C%2018.867579%5D%2C%20%5B59.412625%2C%2018.319879%5D%2C%20%5B59.370213%2C%2018.804691%5D%2C%20%5B59.486646%2C%2018.54898%5D%2C%20%5B59.407283%2C%2018.327276%5D%2C%20%5B59.255001%2C%2018.613623%5D%2C%20%5B59.607886%2C%2018.917377%5D%2C%20%5B59.505313%2C%2018.908715%5D%2C%20%5B57.382637%2C%2011.877974%5D%2C%20%5B60.812758%2C%2017.249781%5D%2C%20%5B59.481018%2C%2017.801726%5D%2C%20%5B58.748155%2C%2017.770889%5D%2C%20%5B59.296106%2C%2018.260802%5D%2C%20%5B59.612778%2C%2017.715242%5D%2C%20%5B59.660317%2C%2017.63403%5D%2C%20%5B59.439077%2C%2018.35607%5D%2C%20%5B59.37873%2C%2018.079574%5D%2C%20%5B57.92287%2C%2011.585046%5D%2C%20%5B59.480554%2C%2018.408873%5D%2C%20%5B59.379386%2C%2018.686777%5D%2C%20%5B59.701327%2C%2019.062415%5D%2C%20%5B58.217436%2C%2011.896327%5D%2C%20%5B55.965493%2C%2012.753315%5D%2C%20%5B57.734241%2C%2011.671313%5D%2C%20%5B59.28787%2C%2018.91083%5D%2C%20%5B58.873897%2C%2017.736002%5D%2C%20%5B59.164389%2C%2018.582109%5D%2C%20%5B59.263359%2C%2018.732719%5D%2C%20%5B59.206876%2C%2018.366687%5D%2C%20%5B59.350064%2C%2018.664108%5D%2C%20%5B55.521788%2C%2012.894437%5D%2C%20%5B59.414829%2C%2018.371233%5D%2C%20%5B59.270718%2C%2018.674527%5D%2C%20%5B55.522544%2C%2012.890869%5D%2C%20%5B59.390088%2C%2018.887597%5D%2C%20%5B58.335344%2C%2011.215249%5D%2C%20%5B58.675485%2C%2017.074955%5D%2C%20%5B59.269705%2C%2018.667035%5D%2C%20%5B57.596847%2C%2016.741564%5D%2C%20%5B55.99124%2C%2012.742302%5D%2C%20%5B58.110213%2C%2011.363629%5D%2C%20%5B58.8996%2C%2017.951331%5D%2C%20%5B59.102411%2C%2018.483854%5D%2C%20%5B59.219192%2C%2018.741652%5D%2C%20%5B59.308212%2C%2017.982948%5D%2C%20%5B59.591622%2C%2018.879347%5D%2C%20%5B59.166859%2C%2018.58573%5D%2C%20%5B59.571574%2C%2018.829491%5D%2C%20%5B59.328023%2C%2018.091396%5D%2C%20%5B59.448706%2C%2016.614225%5D%2C%20%5B59.407424%2C%2018.327723%5D%2C%20%5B59.414793%2C%2018.554552%5D%2C%20%5B59.446449%2C%2018.695999%5D%2C%20%5B59.295885%2C%2018.259627%5D%2C%20%5B58.38998%2C%2016.761844%5D%2C%20%5B59.288609%2C%2018.915086%5D%2C%20%5B59.277921%2C%2019.017657%5D%2C%20%5B59.329046%2C%2018.175413%5D%2C%20%5B59.259525%2C%2017.847013%5D%2C%20%5B58.275173%2C%2011.44283%5D%2C%20%5B59.271113%2C%2018.7365%5D%2C%20%5B59.2992%2C%2018.869939%5D%2C%20%5B59.366968%2C%2018.274258%5D%2C%20%5B59.301084%2C%2018.207943%5D%2C%20%5B59.632175%2C%2018.855145%5D%2C%20%5B59.502306%2C%2018.842896%5D%2C%20%5B59.288221%2C%2018.91598%5D%2C%20%5B59.405526%2C%2018.658062%5D%2C%20%5B59.243637%2C%2017.589495%5D%2C%20%5B59.342403%2C%2018.161459%5D%2C%20%5B59.245539%2C%2017.587264%5D%2C%20%5B58.62605%2C%2016.800063%5D%2C%20%5B59.308677%2C%2018.101409%5D%2C%20%5B59.369801%2C%2018.036965%5D%2C%20%5B59.413745%2C%2017.732457%5D%2C%20%5B59.342406%2C%2018.211597%5D%2C%20%5B59.381767%2C%2018.953698%5D%2C%20%5B59.401393%2C%2018.351524%5D%2C%20%5B59.41172%2C%2017.989804%5D%2C%20%5B59.323326%2C%2018.000943%5D%2C%20%5B58.497457%2C%2015.556606%5D%2C%20%5B59.713825%2C%2018.983703%5D%2C%20%5B58.319876%2C%2011.558225%5D%2C%20%5B57.903763%2C%2011.764804%5D%2C%20%5B57.340661%2C%2012.131227%5D%2C%20%5B57.519955%2C%2011.939%5D%2C%20%5B55.676677%2C%2013.070195%5D%2C%20%5B59.292224%2C%2018.862108%5D%2C%20%5B59.42295%2C%2018.488479%5D%2C%20%5B57.428836%2C%2011.924546%5D%2C%20%5B58.532028%2C%2015.69697%5D%2C%20%5B59.106923%2C%2018.416286%5D%2C%20%5B59.332584%2C%2018.049404%5D%2C%20%5B59.395351%2C%2018.445418%5D%2C%20%5B57.510923%2C%2011.944361%5D%2C%20%5B59.225068%2C%2018.477105%5D%2C%20%5B59.910189%2C%2018.893966%5D%2C%20%5B59.123393%2C%2018.660191%5D%2C%20%5B59.359388%2C%2018.283486%5D%2C%20%5B58.052132%2C%2011.776819%5D%2C%20%5B59.300124%2C%2018.255893%5D%2C%20%5B58.263561%2C%2011.394498%5D%2C%20%5B59.232871%2C%2018.718483%5D%2C%20%5B58.850183%2C%2017.890092%5D%2C%20%5B58.071109%2C%2011.534222%5D%2C%20%5B58.249256%2C%2011.483291%5D%2C%20%5B59.469791%2C%2018.459243%5D%2C%20%5B57.372128%2C%2016.668487%5D%2C%20%5B57.685%2C%2011.838799%5D%2C%20%5B59.426109%2C%2018.416803%5D%2C%20%5B59.334146%2C%2017.487289%5D%2C%20%5B58.327754%2C%2011.825934%5D%2C%20%5B65.767755%2C%2022.734003%5D%2C%20%5B59.26291%2C%2017.843358%5D%2C%20%5B59.40345%2C%2018.355854%5D%2C%20%5B59.240414%2C%2018.329662%5D%2C%20%5B57.707047%2C%2011.68803%5D%2C%20%5B55.867866%2C%2012.823044%5D%2C%20%5B59.378081%2C%2018.048709%5D%2C%20%5B59.411532%2C%2018.367068%5D%2C%20%5B59.527444%2C%2017.023472%5D%2C%20%5B59.395094%2C%2017.753006%5D%2C%20%5B58.789501%2C%2013.865447%5D%2C%20%5B56.049931%2C%2014.261961%5D%2C%20%5B59.420993%2C%2017.979563%5D%2C%20%5B58.815269%2C%2011.207919%5D%2C%20%5B59.367526%2C%2018.436436%5D%2C%20%5B59.460841%2C%2018.571672%5D%2C%20%5B59.348244%2C%2017.863089%5D%2C%20%5B59.463465%2C%2018.319584%5D%2C%20%5B59.327099%2C%2017.995625%5D%2C%20%5B59.133568%2C%2013.977269%5D%2C%20%5B56.891372%2C%2012.489265%5D%2C%20%5B59.436082%2C%2017.962663%5D%2C%20%5B58.947342%2C%2017.959242%5D%2C%20%5B59.447491%2C%2016.52911%5D%2C%20%5B59.328634%2C%2014.536414%5D%2C%20%5B59.46522%2C%2018.519258%5D%2C%20%5B59.402962%2C%2018.367798%5D%2C%20%5B59.369755%2C%2018.604854%5D%2C%20%5B56.879977%2C%2016.6675%5D%2C%20%5B59.364122%2C%2018.677835%5D%2C%20%5B59.050804%2C%2018.043893%5D%2C%20%5B59.404442%2C%2018.336064%5D%2C%20%5B57.886913%2C%2011.5936%5D%2C%20%5B57.680909%2C%2016.750845%5D%2C%20%5B60.774894%2C%2017.27229%5D%2C%20%5B59.426067%2C%2018.349439%5D%2C%20%5B58.96267%2C%2018.227051%5D%2C%20%5B59.504693%2C%2018.637551%5D%2C%20%5B58.185059%2C%2011.947214%5D%2C%20%5B56.199218%2C%2012.546971%5D%2C%20%5B59.401582%2C%2018.350895%5D%2C%20%5B59.275524%2C%2017.74355%5D%2C%20%5B57.746545%2C%2011.633879%5D%2C%20%5B59.320949%2C%2018.457559%5D%2C%20%5B59.402606%2C%2018.368257%5D%2C%20%5B59.366112%2C%2018.310412%5D%2C%20%5B59.369121%2C%2018.119286%5D%2C%20%5B59.469124%2C%2017.678925%5D%2C%20%5B59.591819%2C%2016.59511%5D%2C%20%5B59.424518%2C%2018.079948%5D%2C%20%5B59.363682%2C%2017.803667%5D%2C%20%5B55.707967%2C%2013.962884%5D%2C%20%5B57.648302%2C%2011.848714%5D%2C%20%5B59.362336%2C%2018.342467%5D%2C%20%5B59.496707%2C%2016.582278%5D%2C%20%5B59.481454%2C%2018.403812%5D%2C%20%5B59.489054%2C%2018.448123%5D%2C%20%5B59.294367%2C%2017.907024%5D%2C%20%5B59.124569%2C%2016.014751%5D%2C%20%5B58.219759%2C%2011.85692%5D%2C%20%5B59.703348%2C%2018.873322%5D%2C%20%5B62.270899%2C%2017.385199%5D%2C%20%5B58.972658%2C%2018.059336%5D%2C%20%5B57.891261%2C%2011.691142%5D%2C%20%5B57.761603%2C%2011.80759%5D%2C%20%5B59.575518%2C%2018.734692%5D%2C%20%5B55.87828%2C%2012.813845%5D%2C%20%5B58.447782%2C%2014.87809%5D%2C%20%5B59.551698%2C%2018.610141%5D%2C%20%5B59.372367%2C%2018.699094%5D%2C%20%5B59.260671%2C%2018.406825%5D%2C%20%5B58.944303%2C%2018.303754%5D%2C%20%5B58.873619%2C%2018.107918%5D%2C%20%5B59.301015%2C%2018.300338%5D%2C%20%5B59.407378%2C%2018.094711%5D%2C%20%5B58.260905%2C%2011.573648%5D%2C%20%5B59.319619%2C%2018.868441%5D%2C%20%5B59.401243%2C%2018.351507%5D%2C%20%5B59.358703%2C%2018.232278%5D%2C%20%5B59.350213%2C%2018.592725%5D%2C%20%5B59.168688%2C%2018.437512%5D%2C%20%5B59.391494%2C%2018.102305%5D%2C%20%5B59.371965%2C%2018.292805%5D%2C%20%5B58.314724%2C%2014.294749%5D%2C%20%5B59.1889%2C%2018.394881%5D%2C%20%5B59.407899%2C%2018.336915%5D%2C%20%5B57.662526%2C%2011.857855%5D%2C%20%5B58.096484%2C%2011.415573%5D%2C%20%5B59.503101%2C%2016.593173%5D%2C%20%5B59.466937%2C%2018.746609%5D%2C%20%5B57.762%2C%2011.806917%5D%2C%20%5B59.293751%2C%2018.671124%5D%2C%20%5B59.303515%2C%2018.07027%5D%2C%20%5B59.340501%2C%2017.969448%5D%2C%20%5B59.197429%2C%2018.426701%5D%2C%20%5B59.479494%2C%2018.4184%5D%2C%20%5B59.303528%2C%2018.070123%5D%2C%20%5B59.303601%2C%2018.069395%5D%2C%20%5B59.419767%2C%2017.765557%5D%2C%20%5B59.307812%2C%2017.975681%5D%2C%20%5B59.311477%2C%2018.12758%5D%2C%20%5B59.29556%2C%2017.760325%5D%2C%20%5B59.455456%2C%2018.309743%5D%2C%20%5B59.39251%2C%2018.655321%5D%2C%20%5B59.384852%2C%2018.081944%5D%2C%20%5B59.220728%2C%2018.539794%5D%2C%20%5B59.114774%2C%2018.328823%5D%2C%20%5B59.320694%2C%2018.224032%5D%2C%20%5B59.448906%2C%2018.885107%5D%2C%20%5B59.376973%2C%2018.249014%5D%2C%20%5B59.288046%2C%2018.917354%5D%2C%20%5B59.504161%2C%2018.483975%5D%2C%20%5B59.288412%2C%2018.915921%5D%2C%20%5B59.355366%2C%2017.82669%5D%2C%20%5B59.354031%2C%2018.051558%5D%2C%20%5B59.463889%2C%2018.320172%5D%2C%20%5B59.302323%2C%2018.282819%5D%2C%20%5B59.339133%2C%2018.019238%5D%2C%20%5B59.382712%2C%2018.528372%5D%2C%20%5B55.752155%2C%2012.87731%5D%2C%20%5B59.458308%2C%2018.279628%5D%2C%20%5B59.302629%2C%2018.077334%5D%2C%20%5B55.595275%2C%2012.931052%5D%2C%20%5B55.675305%2C%2013.058187%5D%2C%20%5B59.327285%2C%2018.056577%5D%2C%20%5B59.322564%2C%2017.519353%5D%2C%20%5B55.631475%2C%2012.982165%5D%2C%20%5B59.173372%2C%2018.689454%5D%2C%20%5B59.354675%2C%2018.234107%5D%2C%20%5B59.324445%2C%2017.36682%5D%2C%20%5B58.310146%2C%2012.313081%5D%2C%20%5B59.401399%2C%2018.350658%5D%2C%20%5B59.454488%2C%2018.283652%5D%2C%20%5B59.318396%2C%2017.973241%5D%2C%20%5B59.405342%2C%2018.708004%5D%2C%20%5B58.357189%2C%2011.268593%5D%2C%20%5B59.524796%2C%2018.510015%5D%2C%20%5B59.185044%2C%2018.165064%5D%2C%20%5B57.698664%2C%2011.78693%5D%2C%20%5B58.488795%2C%2016.941826%5D%2C%20%5B59.608298%2C%2016.22364%5D%2C%20%5B59.414892%2C%2018.554817%5D%2C%20%5B59.336015%2C%2017.991337%5D%2C%20%5B59.12752%2C%2018.411088%5D%2C%20%5B59.401636%2C%2018.7324%5D%2C%20%5B58.711216%2C%2013.818818%5D%2C%20%5B57.569075%2C%2011.922988%5D%2C%20%5B59.145215%2C%2015.673285%5D%2C%20%5B57.668668%2C%2011.816474%5D%2C%20%5B59.446289%2C%2018.386794%5D%2C%20%5B57.90248%2C%2011.565951%5D%2C%20%5B59.357723%2C%2018.109378%5D%2C%20%5B59.303508%2C%2018.216196%5D%2C%20%5B59.318455%2C%2017.944641%5D%2C%20%5B57.684822%2C%2011.760257%5D%2C%20%5B59.331662%2C%2017.986771%5D%2C%20%5B59.188642%2C%2017.632816%5D%2C%20%5B58.44211%2C%2011.294726%5D%2C%20%5B59.307213%2C%2018.045231%5D%2C%20%5B59.351634%2C%2018.604212%5D%2C%20%5B59.495321%2C%2018.522753%5D%2C%20%5B59.462721%2C%2017.665777%5D%2C%20%5B59.296014%2C%2017.877718%5D%2C%20%5B57.661345%2C%2011.843356%5D%2C%20%5B59.54958%2C%2018.724325%5D%2C%20%5B59.550988%2C%2017.540836%5D%2C%20%5B59.321532%2C%2017.889729%5D%2C%20%5B59.178032%2C%2018.730565%5D%2C%20%5B59.228347%2C%2018.44826%5D%2C%20%5B58.889868%2C%2017.553141%5D%2C%20%5B59.600818%2C%2016.543206%5D%2C%20%5B59.286848%2C%2017.863445%5D%2C%20%5B59.32092%2C%2018.224044%5D%2C%20%5B59.326273%2C%2018.04269%5D%2C%20%5B59.308796%2C%2017.982364%5D%2C%20%5B59.329559%2C%2018.667673%5D%2C%20%5B59.369503%2C%2018.118326%5D%2C%20%5B59.315624%2C%2017.950047%5D%2C%20%5B59.457638%2C%2017.790927%5D%2C%20%5B59.286072%2C%2017.872018%5D%2C%20%5B59.287737%2C%2018.946155%5D%2C%20%5B59.066732%2C%2018.251346%5D%2C%20%5B59.319138%2C%2018.02677%5D%2C%20%5B59.136442%2C%2018.40339%5D%2C%20%5B59.361384%2C%2017.816747%5D%2C%20%5B59.308284%2C%2018.049493%5D%2C%20%5B59.367458%2C%2018.162778%5D%2C%20%5B59.322036%2C%2018.713848%5D%2C%20%5B59.437274%2C%2017.44135%5D%2C%20%5B58.319925%2C%2011.557789%5D%2C%20%5B59.389849%2C%2017.014775%5D%2C%20%5B57.901273%2C%2011.715055%5D%2C%20%5B59.254376%2C%2018.335619%5D%2C%20%5B57.622322%2C%2011.907033%5D%2C%20%5B59.333251%2C%2017.993457%5D%2C%20%5B59.401298%2C%2018.350476%5D%2C%20%5B59.438468%2C%2018.288487%5D%2C%20%5B59.402716%2C%2018.572675%5D%2C%20%5B59.339549%2C%2017.876719%5D%2C%20%5B55.406582%2C%2012.809156%5D%2C%20%5B59.598262%2C%2016.552362%5D%2C%20%5B56.891296%2C%2012.468624%5D%2C%20%5B58.976647%2C%2018.185297%5D%2C%20%5B59.614284%2C%2017.721702%5D%2C%20%5B56.17342%2C%2015.552028%5D%2C%20%5B59.323873%2C%2018.372713%5D%2C%20%5B59.246944%2C%2017.309167%5D%2C%20%5B59.438568%2C%2017.685813%5D%2C%20%5B59.320608%2C%2018.074693%5D%2C%20%5B59.396927%2C%2018.399435%5D%2C%20%5B59.416463%2C%2018.580811%5D%2C%20%5B59.280027%2C%2018.318734%5D%2C%20%5B59.352596%2C%2018.044036%5D%2C%20%5B58.948551%2C%2017.585684%5D%2C%20%5B59.538552%2C%2018.750555%5D%2C%20%5B59.278689%2C%2015.552011%5D%2C%20%5B59.434936%2C%2018.670278%5D%2C%20%5B57.574055%2C%2011.914104%5D%2C%20%5B59.427229%2C%2017.460971%5D%2C%20%5B59.374622%2C%2017.47225%5D%2C%20%5B59.379098%2C%2017.133127%5D%2C%20%5B59.599111%2C%2016.579493%5D%2C%20%5B59.40289%2C%2018.868641%5D%2C%20%5B59.769968%2C%2019.038006%5D%2C%20%5B59.14832%2C%2018.484212%5D%2C%20%5B59.375548%2C%2018.631968%5D%2C%20%5B59.305399%2C%2017.880645%5D%2C%20%5B59.303071%2C%2018.074386%5D%2C%20%5B59.303437%2C%2018.080589%5D%2C%20%5B62.490962%2C%2017.356411%5D%2C%20%5B59.322314%2C%2018.109834%5D%2C%20%5B59.357299%2C%2018.234996%5D%2C%20%5B59.370845%2C%2018.959909%5D%2C%20%5B59.594114%2C%2017.795401%5D%2C%20%5B59.252925%2C%2018.51847%5D%2C%20%5B59.423433%2C%2018.618001%5D%2C%20%5B59.349476%2C%2017.854672%5D%2C%20%5B58.064933%2C%2011.818791%5D%2C%20%5B59.414608%2C%2018.555081%5D%2C%20%5B59.329698%2C%2018.177674%5D%2C%20%5B59.391162%2C%2018.577088%5D%2C%20%5B59.321012%2C%2018.224289%5D%2C%20%5B59.42219%2C%2017.668395%5D%2C%20%5B59.303835%2C%2017.949615%5D%2C%20%5B59.277801%2C%2018.31663%5D%2C%20%5B59.109995%2C%2018.490231%5D%2C%20%5B59.314178%2C%2018.03239%5D%2C%20%5B59.452083%2C%2018.309138%5D%2C%20%5B59.302207%2C%2018.076969%5D%2C%20%5B59.111708%2C%2018.48847%5D%2C%20%5B57.575087%2C%2011.926732%5D%2C%20%5B57.709748%2C%2011.704365%5D%2C%20%5B57.991057%2C%2011.548243%5D%2C%20%5B59.039663%2C%2018.509629%5D%2C%20%5B58.805089%2C%2014.861621%5D%2C%20%5B57.066667%2C%2014.016667%5D%2C%20%5B59.291734%2C%2017.63018%5D%2C%20%5B57.7804%2C%2011.630521%5D%2C%20%5B59.519181%2C%2016.659907%5D%2C%20%5B59.386921%2C%2018.098048%5D%2C%20%5B59.340605%2C%2018.209672%5D%2C%20%5B59.313215%2C%2017.890529%5D%2C%20%5B57.601237%2C%2011.832704%5D%2C%20%5B59.380301%2C%2017.617125%5D%2C%20%5B64.146549%2C%2021.017172%5D%2C%20%5B59.366087%2C%2017.804832%5D%2C%20%5B58.179738%2C%2011.404133%5D%2C%20%5B57.733819%2C%2011.670124%5D%2C%20%5B59.359313%2C%2018.105241%5D%2C%20%5B59.452085%2C%2016.497916%5D%2C%20%5B59.287734%2C%2017.751263%5D%2C%20%5B59.467289%2C%2018.513683%5D%2C%20%5B59.453679%2C%2017.776564%5D%2C%20%5B57.762627%2C%2011.625504%5D%2C%20%5B59.118782%2C%2018.515454%5D%2C%20%5B59.222745%2C%2018.425795%5D%2C%20%5B58.756186%2C%2011.196071%5D%2C%20%5B59.317723%2C%2017.944672%5D%2C%20%5B59.234091%2C%2018.652009%5D%2C%20%5B55.521844%2C%2012.885365%5D%2C%20%5B59.330459%2C%2018.109368%5D%2C%20%5B59.454638%2C%2016.488894%5D%2C%20%5B59.413298%2C%2018.60379%5D%2C%20%5B59.227522%2C%2018.56079%5D%2C%20%5B59.37557%2C%2013.473087%5D%2C%20%5B58.321435%2C%2016.896976%5D%2C%20%5B59.470934%2C%2018.511299%5D%2C%20%5B58.871183%2C%2017.941258%5D%2C%20%5B59.343447%2C%2018.004442%5D%2C%20%5B59.383733%2C%2018.393362%5D%2C%20%5B59.316483%2C%2018.016194%5D%2C%20%5B58.757316%2C%2011.187793%5D%2C%20%5B63.36004%2C%2021.299223%5D%2C%20%5B58.220499%2C%2011.476267%5D%2C%20%5B58.756923%2C%2011.178881%5D%2C%20%5B57.991057%2C%2011.548243%5D%2C%20%5B57.605503%2C%2011.869495%5D%2C%20%5B59.299667%2C%2018.6493%5D%2C%20%5B58.07433%2C%2011.815036%5D%2C%20%5B55.430798%2C%2012.521169%5D%2C%20%5B59.105305%2C%2018.273507%5D%2C%20%5B59.323365%2C%2018.219995%5D%2C%20%5B59.390737%2C%2018.107137%5D%2C%20%5B59.251998%2C%2018.295236%5D%2C%20%5B58.529708%2C%2014.791235%5D%2C%20%5B59.120426%2C%2018.306316%5D%2C%20%5B59.354264%2C%2018.324342%5D%2C%20%5B59.325922%2C%2018.170077%5D%2C%20%5B59.405713%2C%2017.706829%5D%2C%20%5B59.748936%2C%2019.408506%5D%2C%20%5B58.989743%2C%2012.707497%5D%2C%20%5B59.112101%2C%2018.491115%5D%2C%20%5B59.192451%2C%2018.619955%5D%2C%20%5B60.698994%2C%2017.243304%5D%2C%20%5B60.738705%2C%2017.316279%5D%2C%20%5B59.417657%2C%2018.32952%5D%2C%20%5B59.309631%2C%2018.21768%5D%2C%20%5B59.338257%2C%2018.02687%5D%2C%20%5B59.411267%2C%2018.496074%5D%2C%20%5B59.343602%2C%2018.894957%5D%2C%20%5B59.212607%2C%2018.702157%5D%2C%20%5B59.376869%2C%2018.387104%5D%2C%20%5B59.482535%2C%2018.804871%5D%2C%20%5B59.286194%2C%2018.547965%5D%2C%20%5B59.418441%2C%2018.347087%5D%2C%20%5B59.392161%2C%2018.653947%5D%2C%20%5B59.13177%2C%2018.667569%5D%2C%20%5B59.467201%2C%2018.317674%5D%2C%20%5B59.330775%2C%2018.099685%5D%2C%20%5B59.322526%2C%2018.374612%5D%2C%20%5B58.890325%2C%2017.943288%5D%2C%20%5B62.38556%2C%2017.374562%5D%2C%20%5B59.606469%2C%2017.723762%5D%2C%20%5B59.240145%2C%2018.406542%5D%2C%20%5B59.37536%2C%2018.250815%5D%2C%20%5B59.466518%2C%2018.754505%5D%2C%20%5B59.329132%2C%2018.159634%5D%2C%20%5B59.355382%2C%2018.046986%5D%2C%20%5B57.812098%2C%2011.725533%5D%2C%20%5B59.415571%2C%2018.654815%5D%2C%20%5B59.037388%2C%2018.66102%5D%2C%20%5B59.237318%2C%2018.571445%5D%2C%20%5B59.438478%2C%2018.777094%5D%2C%20%5B59.426521%2C%2018.705234%5D%2C%20%5B59.398384%2C%2018.371976%5D%2C%20%5B59.308936%2C%2017.980657%5D%2C%20%5B59.323891%2C%2018.379178%5D%2C%20%5B59.424869%2C%2018.618977%5D%2C%20%5B60.532009%2C%2015.669566%5D%2C%20%5B59.372681%2C%2018.699184%5D%2C%20%5B59.665282%2C%2018.823289%5D%2C%20%5B59.254011%2C%2018.612074%5D%2C%20%5B59.503295%2C%2018.534702%5D%2C%20%5B59.31741%2C%2018.013828%5D%2C%20%5B59.272062%2C%2017.721255%5D%2C%20%5B59.471179%2C%2017.792032%5D%2C%20%5B59.363197%2C%2018.114808%5D%2C%20%5B58.971666%2C%2018.326712%5D%2C%20%5B59.135207%2C%2018.401882%5D%2C%20%5B59.301702%2C%2018.075167%5D%2C%20%5B59.335883%2C%2018.179112%5D%2C%20%5B59.406357%2C%2018.883798%5D%2C%20%5B60.1654%2C%2016.360162%5D%2C%20%5B59.387324%2C%2018.964729%5D%2C%20%5B57.619284%2C%2011.927437%5D%2C%20%5B59.292395%2C%2018.457893%5D%2C%20%5B59.292387%2C%2018.446577%5D%2C%20%5B59.239126%2C%2018.551294%5D%2C%20%5B59.306839%2C%2017.959214%5D%2C%20%5B58.549655%2C%2015.363775%5D%2C%20%5B59.361378%2C%2017.821388%5D%2C%20%5B59.420927%2C%2018.375518%5D%2C%20%5B59.49183%2C%2018.915161%5D%2C%20%5B59.312384%2C%2017.983214%5D%2C%20%5B59.430624%2C%2018.412001%5D%2C%20%5B59.433806%2C%2018.352312%5D%2C%20%5B60.703058%2C%2017.304724%5D%2C%20%5B59.61337%2C%2017.71725%5D%2C%20%5B59.1115%2C%2018.490047%5D%2C%20%5B59.33416%2C%2018.217401%5D%2C%20%5B59.296497%2C%2018.27675%5D%2C%20%5B59.570326%2C%2017.819554%5D%2C%20%5B57.646197%2C%2011.785529%5D%2C%20%5B58.268589%2C%2011.425052%5D%2C%20%5B59.439102%2C%2018.65093%5D%2C%20%5B57.662612%2C%2011.811377%5D%2C%20%5B59.291771%2C%2018.450633%5D%2C%20%5B59.437057%2C%2018.167052%5D%2C%20%5B65.678733%2C%2023.306003%5D%2C%20%5B56.167818%2C%2015.59171%5D%2C%20%5B59.388964%2C%2018.085861%5D%2C%20%5B59.405479%2C%2018.135649%5D%2C%20%5B59.35013%2C%2018.736599%5D%2C%20%5B59.348253%2C%2017.862706%5D%2C%20%5B59.390993%2C%2018.311718%5D%2C%20%5B60.340133%2C%2018.442802%5D%2C%20%5B59.291629%2C%2018.917368%5D%2C%20%5B59.362879%2C%2017.268405%5D%2C%20%5B59.584991%2C%2016.56987%5D%2C%20%5B61.658589%2C%2017.371107%5D%2C%20%5B59.369625%2C%2018.077672%5D%2C%20%5B59.327315%2C%2018.18135%5D%2C%20%5B58.900277%2C%2017.952275%5D%2C%20%5B59.425705%2C%2018.343734%5D%2C%20%5B59.331451%2C%2017.537049%5D%2C%20%5B58.09389%2C%2011.732485%5D%2C%20%5B59.378976%2C%2017.026166%5D%2C%20%5B59.681339%2C%2018.978363%5D%2C%20%5B59.308327%2C%2018.0503%5D%2C%20%5B59.552969%2C%2016.614963%5D%2C%20%5B59.433146%2C%2017.407011%5D%2C%20%5B59.391797%2C%2018.439118%5D%2C%20%5B57.565911%2C%2011.829388%5D%2C%20%5B59.089181%2C%2018.381444%5D%2C%20%5B59.283823%2C%2017.530145%5D%2C%20%5B59.331052%2C%2018.051514%5D%2C%20%5B59.295414%2C%2018.494929%5D%2C%20%5B57.645805%2C%2011.854557%5D%2C%20%5B59.407872%2C%2018.532093%5D%2C%20%5B59.457402%2C%2018.818529%5D%2C%20%5B58.696455%2C%2014.803718%5D%2C%20%5B59.2655%2C%2017.7194%5D%2C%20%5B59.405446%2C%2018.63325%5D%2C%20%5B59.16579%2C%2018.456347%5D%2C%20%5B58.963959%2C%2018.569213%5D%2C%20%5B57.927178%2C%2011.563283%5D%2C%20%5B59.333472%2C%2018.185423%5D%2C%20%5B59.383342%2C%2018.545685%5D%2C%20%5B57.626675%2C%2011.877364%5D%2C%20%5B59.330881%2C%2017.542514%5D%2C%20%5B59.31498%2C%2018.024525%5D%2C%20%5B59.38003%2C%2018.357567%5D%2C%20%5B59.384675%2C%2018.816642%5D%2C%20%5B59.118427%2C%2018.296859%5D%2C%20%5B59.752315%2C%2018.723811%5D%2C%20%5B59.154055%2C%2017.663699%5D%2C%20%5B59.581016%2C%2016.605541%5D%2C%20%5B55.909999%2C%2012.673333%5D%2C%20%5B59.769488%2C%2019.040771%5D%2C%20%5B57.736533%2C%2011.695145%5D%2C%20%5B58.065795%2C%2011.640466%5D%2C%20%5B59.423715%2C%2018.447989%5D%2C%20%5B59.301983%2C%2017.763889%5D%2C%20%5B59.404041%2C%2018.957308%5D%2C%20%5B57.737498%2C%2011.646965%5D%2C%20%5B59.228086%2C%2018.55999%5D%2C%20%5B59.458206%2C%2017.79709%5D%2C%20%5B59.369791%2C%2018.705342%5D%2C%20%5B59.307495%2C%2018.323889%5D%2C%20%5B59.297968%2C%2018.213026%5D%2C%20%5B59.124191%2C%2018.416029%5D%2C%20%5B58.895503%2C%2018.037663%5D%2C%20%5B59.308014%2C%2017.971555%5D%2C%20%5B59.312576%2C%2017.961937%5D%2C%20%5B59.342103%2C%2017.999207%5D%2C%20%5B58.890297%2C%2018.071183%5D%2C%20%5B59.313221%2C%2018.033434%5D%2C%20%5B59.555577%2C%2018.62307%5D%2C%20%5B59.234902%2C%2018.438505%5D%2C%20%5B59.641652%2C%2018.818682%5D%2C%20%5B59.147098%2C%2018.513901%5D%2C%20%5B59.426068%2C%2018.416689%5D%2C%20%5B59.423506%2C%2018.423475%5D%2C%20%5B59.025051%2C%2017.952582%5D%2C%20%5B56.011623%2C%2015.785007%5D%2C%20%5B59.376579%2C%2018.054817%5D%2C%20%5B59.49654%2C%2017.161777%5D%2C%20%5B59.343744%2C%2018.226402%5D%2C%20%5B59.608705%2C%2016.543813%5D%2C%20%5B59.396424%2C%2018.705902%5D%2C%20%5B59.312014%2C%2017.974353%5D%2C%20%5B57.595875%2C%2011.907993%5D%2C%20%5B59.466327%2C%2018.753991%5D%2C%20%5B60.496538%2C%2018.067119%5D%2C%20%5B59.660989%2C%2018.917902%5D%2C%20%5B59.487036%2C%2016.820204%5D%2C%20%5B59.411813%2C%2018.555468%5D%2C%20%5B57.63619%2C%2018.283156%5D%2C%20%5B58.889003%2C%2018.138425%5D%2C%20%5B59.47896%2C%2018.810878%5D%2C%20%5B59.664131%2C%2018.927398%5D%2C%20%5B58.249686%2C%2011.458126%5D%2C%20%5B58.952553%2C%2011.130299%5D%2C%20%5B58.964159%2C%2017.73831%5D%2C%20%5B58.889281%2C%2017.559759%5D%2C%20%5B58.970832%2C%2018.32517%5D%2C%20%5B59.039048%2C%2012.7206%5D%2C%20%5B57.703959%2C%2016.764802%5D%2C%20%5B58.876154%2C%2017.932062%5D%2C%20%5B59.76666%2C%2019.031952%5D%2C%20%5B58.995779%2C%2011.132193%5D%2C%20%5B58.439869%2C%2016.600746%5D%2C%20%5B55.411571%2C%2012.931911%5D%2C%20%5B58.043629%2C%2011.315773%5D%2C%20%5B58.208496%2C%2011.444663%5D%2C%20%5B56.165978%2C%2015.58751%5D%2C%20%5B57.711039%2C%2011.687376%5D%2C%20%5B59.418885%2C%2016.974835%5D%2C%20%5B59.279797%2C%2017.653055%5D%2C%20%5B59.501596%2C%2018.8456%5D%2C%20%5B58.841381%2C%2017.895626%5D%2C%20%5B58.981187%2C%2018.32599%5D%2C%20%5B59.114107%2C%2018.491073%5D%2C%20%5B56.118697%2C%2012.607322%5D%2C%20%5B58.214729%2C%2011.417803%5D%2C%20%5B59.076828%2C%2018.621869%5D%2C%20%5B59.226327%2C%2018.587613%5D%2C%20%5B59.253562%2C%2018.624518%5D%2C%20%5B62.417181%2C%2017.512195%5D%2C%20%5B59.431593%2C%2018.279511%5D%2C%20%5B59.180432%2C%2018.650637%5D%2C%20%5B58.897817%2C%2017.956064%5D%2C%20%5B59.330828%2C%2017.539347%5D%2C%20%5B59.405626%2C%2018.883519%5D%2C%20%5B59.414735%2C%2018.555458%5D%2C%20%5B57.681752%2C%2011.647384%5D%2C%20%5B59.401722%2C%2018.568051%5D%2C%20%5B58.710862%2C%2017.237884%5D%2C%20%5B58.852056%2C%2014.990281%5D%2C%20%5B59.396895%2C%2018.587569%5D%2C%20%5B59.337205%2C%2011.850556%5D%2C%20%5B59.319607%2C%2017.689711%5D%2C%20%5B59.411452%2C%2018.897123%5D%2C%20%5B59.358171%2C%2017.830317%5D%2C%20%5B59.373206%2C%2018.057854%5D%2C%20%5B59.578517%2C%2018.882696%5D%2C%20%5B59.431194%2C%2018.57158%5D%2C%20%5B59.214437%2C%2018.411641%5D%2C%20%5B58.581564%2C%2014.438686%5D%2C%20%5B59.112558%2C%2018.489941%5D%2C%20%5B60.219561%2C%2015.815826%5D%2C%20%5B59.323394%2C%2017.99723%5D%2C%20%5B59.523905%2C%2016.991837%5D%2C%20%5B59.444298%2C%2018.918708%5D%2C%20%5B59.205376%2C%2018.760248%5D%2C%20%5B59.228594%2C%2018.579252%5D%2C%20%5B59.597185%2C%2018.952625%5D%2C%20%5B59.439445%2C%2018.799721%5D%2C%20%5B59.401762%2C%2018.353724%5D%2C%20%5B59.401247%2C%2018.35116%5D%2C%20%5B59.090331%2C%2010.910927%5D%2C%20%5B59.448257%2C%2018.689832%5D%2C%20%5B59.633622%2C%2018.926939%5D%2C%20%5B59.548846%2C%2018.659836%5D%2C%20%5B56.173622%2C%2015.517851%5D%2C%20%5B59.305148%2C%2018.086845%5D%2C%20%5B59.408301%2C%2018.869385%5D%2C%20%5B59.646221%2C%2018.831023%5D%2C%20%5B59.339114%2C%2018.900342%5D%2C%20%5B59.322033%2C%2014.584025%5D%2C%20%5B59.477933%2C%2018.809934%5D%2C%20%5B59.476369%2C%2018.803917%5D%2C%20%5B59.517564%2C%2016.713416%5D%2C%20%5B57.750403%2C%2011.662684%5D%2C%20%5B59.563148%2C%2018.68813%5D%2C%20%5B59.845267%2C%2019.122843%5D%2C%20%5B59.292403%2C%2018.44655%5D%2C%20%5B58.965429%2C%2018.576996%5D%2C%20%5B59.20536%2C%2018.760467%5D%2C%20%5B59.423032%2C%2018.383899%5D%2C%20%5B59.554324%2C%2018.62588%5D%2C%20%5B59.311918%2C%2018.130873%5D%2C%20%5B59.517241%2C%2018.493813%5D%2C%20%5B59.342846%2C%2018.713147%5D%2C%20%5B59.506283%2C%2018.921991%5D%2C%20%5B59.414111%2C%2018.554267%5D%2C%20%5B59.468994%2C%2017.784843%5D%2C%20%5B59.29326%2C%2017.646567%5D%2C%20%5B57.730631%2C%2011.666973%5D%2C%20%5B59.472652%2C%2018.512159%5D%2C%20%5B56.427053%2C%2012.624553%5D%2C%20%5B59.467998%2C%2018.743422%5D%2C%20%5B58.77784%2C%2017.509371%5D%2C%20%5B59.400879%2C%2018.350499%5D%2C%20%5B59.136738%2C%2018.415078%5D%2C%20%5B59.311602%2C%2017.924871%5D%2C%20%5B59.099543%2C%2018.729274%5D%2C%20%5B57.681262%2C%2011.874977%5D%2C%20%5B59.457888%2C%2018.501957%5D%2C%20%5B56.657196%2C%2016.354161%5D%2C%20%5B59.07889%2C%2017.634044%5D%2C%20%5B59.259983%2C%2018.805775%5D%2C%20%5B59.405395%2C%2018.883677%5D%2C%20%5B58.959032%2C%2018.296172%5D%2C%20%5B60.207869%2C%2018.783672%5D%2C%20%5B59.438029%2C%2017.61454%5D%2C%20%5B59.446698%2C%2018.481105%5D%2C%20%5B59.245058%2C%2018.637007%5D%2C%20%5B55.416912%2C%2012.828209%5D%2C%20%5B59.448834%2C%2018.721889%5D%2C%20%5B59.642345%2C%2019.020817%5D%2C%20%5B55.558132%2C%2012.815371%5D%2C%20%5B56.035714%2C%2012.617026%5D%2C%20%5B59.034462%2C%2018.427366%5D%2C%20%5B58.834533%2C%2017.680828%5D%2C%20%5B59.584507%2C%2018.908622%5D%2C%20%5B59.404232%2C%2018.884128%5D%2C%20%5B59.36638%2C%2017.040089%5D%2C%20%5B59.485287%2C%2018.715788%5D%2C%20%5B58.851496%2C%2017.816664%5D%2C%20%5B59.554993%2C%2018.68495%5D%2C%20%5B59.395645%2C%2018.641117%5D%2C%20%5B59.035891%2C%2018.513381%5D%2C%20%5B59.295916%2C%2018.255905%5D%2C%20%5B57.264035%2C%2016.456567%5D%2C%20%5B59.394008%2C%2017.748981%5D%2C%20%5B59.456773%2C%2018.775462%5D%2C%20%5B59.330268%2C%2017.540278%5D%2C%20%5B57.42497%2C%2012.087055%5D%2C%20%5B59.435551%2C%2017.529809%5D%2C%20%5B59.017623%2C%2018.131676%5D%2C%20%5B59.339139%2C%2018.172504%5D%2C%20%5B59.41528%2C%2018.554245%5D%2C%20%5B59.343501%2C%2017.999287%5D%2C%20%5B59.340949%2C%2018.011016%5D%2C%20%5B39.953753%2C%204.096821%5D%2C%20%5B59.479077%2C%2018.810702%5D%2C%20%5B60.224151%2C%2018.455471%5D%2C%20%5B58.693753%2C%2014.759236%5D%2C%20%5B59.220389%2C%2018.431348%5D%2C%20%5B56.732559%2C%2016.438903%5D%2C%20%5B59.308927%2C%2017.502052%5D%2C%20%5B59.40262%2C%2018.660147%5D%2C%20%5B55.690942%2C%2012.649705%5D%2C%20%5B59.473493%2C%2017.793579%5D%2C%20%5B59.120435%2C%2018.30595%5D%2C%20%5B57.707882%2C%2011.701085%5D%2C%20%5B59.471962%2C%2018.514616%5D%2C%20%5B59.398086%2C%2018.111447%5D%2C%20%5B59.313101%2C%2017.953755%5D%2C%20%5B59.470002%2C%2018.511969%5D%2C%20%5B58.662795%2C%2017.099752%5D%2C%20%5B58.995595%2C%2018.383524%5D%2C%20%5B59.404612%2C%2018.000038%5D%2C%20%5B59.75152%2C%2019.08123%5D%2C%20%5B59.483226%2C%2018.824935%5D%2C%20%5B59.175894%2C%2018.688855%5D%2C%20%5B59.457885%2C%2018.783606%5D%2C%20%5B58.707%2C%2014.779026%5D%2C%20%5B59.377617%2C%2018.203369%5D%2C%20%5B59.130995%2C%2018.416286%5D%2C%20%5B59.482496%2C%2018.742406%5D%2C%20%5B59.407402%2C%2018.909496%5D%2C%20%5B57.881332%2C%2011.593312%5D%2C%20%5B59.438607%2C%2018.495596%5D%2C%20%5B58.048881%2C%2011.777731%5D%2C%20%5B59.321482%2C%2018.223769%5D%2C%20%5B59.082305%2C%2018.275552%5D%2C%20%5B58.93533%2C%2018.218078%5D%2C%20%5B58.071738%2C%2011.469054%5D%2C%20%5B59.272051%2C%2017.723834%5D%2C%20%5B56.508349%2C%2012.910339%5D%2C%20%5B55.687488%2C%2014.228001%5D%2C%20%5B58.203504%2C%2011.458578%5D%2C%20%5B59.430739%2C%2018.683816%5D%2C%20%5B58.020497%2C%2011.702257%5D%2C%20%5B58.543227%2C%2014.50531%5D%2C%20%5B59.369641%2C%2018.606111%5D%2C%20%5B59.277181%2C%2018.312906%5D%2C%20%5B58.013591%2C%2011.523046%5D%2C%20%5B59.450337%2C%2018.795535%5D%2C%20%5B59.200654%2C%2018.389795%5D%2C%20%5B58.663282%2C%2017.10307%5D%2C%20%5B58.113501%2C%2011.450588%5D%2C%20%5B58.732914%2C%2017.44336%5D%2C%20%5B59.46092%2C%2018.575428%5D%2C%20%5B59.247472%2C%2018.792772%5D%2C%20%5B59.331463%2C%2017.986714%5D%2C%20%5B58.869487%2C%2018.079182%5D%2C%20%5B59.408027%2C%2018.339084%5D%2C%20%5B59.255583%2C%2018.615607%5D%2C%20%5B58.542819%2C%2011.241503%5D%2C%20%5B59.282425%2C%2017.658422%5D%2C%20%5B59.580767%2C%2019.043631%5D%2C%20%5B58.64586%2C%2011.255928%5D%2C%20%5B57.962917%2C%2011.520954%5D%2C%20%5B59.27336%2C%2017.853536%5D%2C%20%5B59.504911%2C%2018.847151%5D%2C%20%5B59.42497%2C%2018.927013%5D%2C%20%5B59.288648%2C%2018.864816%5D%2C%20%5B59.300399%2C%2018.70366%5D%2C%20%5B56.174748%2C%2015.578297%5D%2C%20%5B59.431512%2C%2018.182402%5D%2C%20%5B59.454114%2C%2018.823912%5D%2C%20%5B59.426347%2C%2018.704038%5D%2C%20%5B59.082703%2C%2018.481274%5D%2C%20%5B59.844602%2C%2017.653065%5D%2C%20%5B59.40106%2C%2018.350927%5D%2C%20%5B59.276639%2C%2018.947783%5D%2C%20%5B59.273252%2C%2018.712113%5D%2C%20%5B59.407133%2C%2018.093706%5D%2C%20%5B59.396275%2C%2018.947217%5D%2C%20%5B59.427076%2C%2018.190785%5D%2C%20%5B57.599616%2C%2011.794166%5D%2C%20%5B59.322412%2C%2018.111572%5D%2C%20%5B58.088019%2C%2011.709017%5D%2C%20%5B58.760194%2C%2017.352351%5D%2C%20%5B62.909338%2C%2018.292282%5D%2C%20%5B59.315235%2C%2017.385116%5D%2C%20%5B58.909589%2C%2017.728764%5D%2C%20%5B59.014458%2C%2018.518045%5D%2C%20%5B59.262038%2C%2017.22311%5D%2C%20%5B59.473143%2C%2018.451665%5D%2C%20%5B58.890582%2C%2017.552605%5D%2C%20%5B59.429539%2C%2019.194978%5D%2C%20%5B60.384017%2C%2017.26402%5D%2C%20%5B59.492243%2C%2018.4488%5D%2C%20%5B58.81992%2C%2012.415835%5D%2C%20%5B59.431028%2C%2018.288465%5D%2C%20%5B59.403472%2C%2018.355781%5D%2C%20%5B56.962144%2C%2014.782894%5D%2C%20%5B59.110935%2C%2018.489091%5D%2C%20%5B56.177126%2C%2015.611606%5D%2C%20%5B59.431199%2C%2018.57217%5D%2C%20%5B59.390149%2C%2018.094807%5D%2C%20%5B59.414771%2C%2018.555564%5D%2C%20%5B57.635489%2C%2018.28145%5D%2C%20%5B59.306241%2C%2018.792678%5D%2C%20%5B57.817307%2C%2011.876365%5D%2C%20%5B58.646734%2C%2017.175003%5D%2C%20%5B57.781%2C%2011.774902%5D%2C%20%5B59.405144%2C%2018.871733%5D%2C%20%5B57.624282%2C%2011.9072%5D%2C%20%5B59.213398%2C%2018.706792%5D%2C%20%5B59.047273%2C%2017.690189%5D%2C%20%5B58.269856%2C%2011.436246%5D%2C%20%5B59.38875%2C%2018.847339%5D%2C%20%5B59.225716%2C%2018.58442%5D%2C%20%5B58.796342%2C%2017.698026%5D%2C%20%5B59.272041%2C%2017.722725%5D%2C%20%5B59.308069%2C%2017.974841%5D%2C%20%5B59.443052%2C%2018.762204%5D%2C%20%5B57.372037%2C%2011.983573%5D%2C%20%5B58.890492%2C%2017.552667%5D%2C%20%5B59.393257%2C%2017.106035%5D%2C%20%5B59.313932%2C%2018.105247%5D%2C%20%5B58.228528%2C%2011.396159%5D%2C%20%5B59.939573%2C%2018.848672%5D%2C%20%5B59.184843%2C%2018.467318%5D%2C%20%5B59.164301%2C%2018.58787%5D%2C%20%5B57.757716%2C%2016.636976%5D%2C%20%5B59.581411%2C%2018.781668%5D%2C%20%5B58.239575%2C%2011.867008%5D%2C%20%5B59.361398%2C%2018.09853%5D%2C%20%5B58.966393%2C%2018.094275%5D%2C%20%5B59.480617%2C%2018.824161%5D%2C%20%5B59.300882%2C%2018.277338%5D%2C%20%5B57.94578%2C%2011.536427%5D%2C%20%5B59.976499%2C%2018.810305%5D%2C%20%5B55.630121%2C%2012.991143%5D%2C%20%5B57.63351%2C%2011.7777%5D%2C%20%5B59.322523%2C%2018.110018%5D%2C%20%5B59.383016%2C%2018.615607%5D%2C%20%5B59.401751%2C%2018.354159%5D%2C%20%5B59.410192%2C%2018.615461%5D%2C%20%5B59.143277%2C%2017.671598%5D%2C%20%5B59.132921%2C%2018.587701%5D%2C%20%5B59.152644%2C%2018.812087%5D%2C%20%5B59.260634%2C%2017.221393%5D%2C%20%5B65.561212%2C%2022.139034%5D%2C%20%5B59.312752%2C%2017.465021%5D%2C%20%5B59.286953%2C%2018.705588%5D%2C%20%5B59.47676%2C%2018.808098%5D%2C%20%5B58.890617%2C%2017.553414%5D%2C%20%5B59.378342%2C%2018.994548%5D%2C%20%5B59.274505%2C%2018.536824%5D%2C%20%5B58.902926%2C%2017.946529%5D%2C%20%5B55.68779%2C%2014.227803%5D%2C%20%5B59.237372%2C%2018.722241%5D%2C%20%5B61.558068%2C%2017.325013%5D%2C%20%5B59.340146%2C%2018.806397%5D%2C%20%5B59.31976%2C%2018.021091%5D%2C%20%5B59.472996%2C%2018.51669%5D%2C%20%5B60.096081%2C%2018.805752%5D%2C%20%5B59.139047%2C%2018.683043%5D%2C%20%5B57.774594%2C%2016.68544%5D%2C%20%5B55.591545%2C%2012.952324%5D%2C%20%5B57.735123%2C%2016.698145%5D%2C%20%5B59.479325%2C%2018.794957%5D%2C%20%5B59.549182%2C%2016.626428%5D%2C%20%5B58.052222%2C%2011.521667%5D%2C%20%5B59.604655%2C%2019.165181%5D%2C%20%5B57.565463%2C%2011.840852%5D%2C%20%5B59.354763%2C%2018.411159%5D%2C%20%5B59.259757%2C%2017.227917%5D%2C%20%5B59.453007%2C%2018.600871%5D%2C%20%5B57.622808%2C%2011.905516%5D%2C%20%5B59.28581%2C%2018.541413%5D%2C%20%5B58.860723%2C%2017.881646%5D%2C%20%5B59.435234%2C%2018.430541%5D%2C%20%5B59.401192%2C%2018.350157%5D%2C%20%5B58.990437%2C%2018.451478%5D%2C%20%5B59.426893%2C%2018.667987%5D%2C%20%5B57.80179%2C%2011.851609%5D%2C%20%5B59.191351%2C%2017.632225%5D%2C%20%5B60.68061%2C%2017.181961%5D%2C%20%5B58.532022%2C%2014.513238%5D%2C%20%5B59.359663%2C%2013.552304%5D%2C%20%5B59.260059%2C%2018.336832%5D%2C%20%5B59.29097%2C%2018.930692%5D%2C%20%5B58.922506%2C%2018.225946%5D%2C%20%5B59.413897%2C%2018.646546%5D%2C%20%5B61.334694%2C%2017.200024%5D%2C%20%5B61.99861%2C%2017.514671%5D%2C%20%5B59.466253%2C%2018.754496%5D%2C%20%5B57.881149%2C%2011.563786%5D%2C%20%5B59.158689%2C%2018.655452%5D%2C%20%5B59.660525%2C%2018.916551%5D%2C%20%5B59.425332%2C%2018.435502%5D%2C%20%5B59.127526%2C%2012.924285%5D%2C%20%5B59.627105%2C%2019.012825%5D%2C%20%5B57.766823%2C%2016.756703%5D%2C%20%5B59.478415%2C%2018.809861%5D%2C%20%5B59.469597%2C%2018.773248%5D%2C%20%5B59.405197%2C%2018.351872%5D%2C%20%5B59.105646%2C%2018.274317%5D%2C%20%5B59.402193%2C%2018.151074%5D%2C%20%5B59.187423%2C%2018.520297%5D%2C%20%5B59.329267%2C%2018.10011%5D%2C%20%5B60.709011%2C%2017.313106%5D%2C%20%5B59.315978%2C%2017.942141%5D%2C%20%5B59.138546%2C%2018.67822%5D%2C%20%5B57.832233%2C%2016.732131%5D%2C%20%5B59.328956%2C%2017.791403%5D%2C%20%5B59.331919%2C%2018.158452%5D%2C%20%5B59.293362%2C%2018.667443%5D%2C%20%5B59.42512%2C%2017.987853%5D%2C%20%5B59.401411%2C%2018.352049%5D%2C%20%5B62.7274%2C%2017.987298%5D%2C%20%5B59.743597%2C%2019.165974%5D%2C%20%5B56.115954%2C%2015.734129%5D%2C%20%5B59.259731%2C%2017.856091%5D%2C%20%5B58.775895%2C%2014.900949%5D%2C%20%5B57.089325%2C%2015.104978%5D%2C%20%5B59.633609%2C%2018.643267%5D%2C%20%5B59.329821%2C%2018.182228%5D%2C%20%5B58.813015%2C%2014.966282%5D%2C%20%5B59.262849%2C%2018.383631%5D%2C%20%5B59.216776%2C%2018.416364%5D%2C%20%5B59.701732%2C%2018.866734%5D%2C%20%5B59.463992%2C%2018.694627%5D%2C%20%5B59.42901%2C%2018.695165%5D%2C%20%5B57.678465%2C%2011.863129%5D%2C%20%5B59.387373%2C%2018.554071%5D%2C%20%5B57.618702%2C%2011.761499%5D%2C%20%5B57.706626%2C%2011.941981%5D%2C%20%5B56.10196%2C%2015.474793%5D%2C%20%5B59.400984%2C%2018.350992%5D%2C%20%5B59.370975%2C%2018.982708%5D%2C%20%5B58.800958%2C%2017.836215%5D%2C%20%5B59.320869%2C%2018.136137%5D%2C%20%5B59.526053%2C%2018.511434%5D%2C%20%5B59.319713%2C%2018.022479%5D%2C%20%5B59.26184%2C%2018.348387%5D%2C%20%5B59.166161%2C%2018.754586%5D%2C%20%5B59.270292%2C%2018.367451%5D%2C%20%5B59.450561%2C%2017.785934%5D%2C%20%5B57.761356%2C%2011.793955%5D%2C%20%5B59.416277%2C%2018.371242%5D%2C%20%5B55.383297%2C%2013.604075%5D%2C%20%5B59.414707%2C%2018.663311%5D%2C%20%5B56.26683%2C%2012.489842%5D%2C%20%5B59.42002%2C%2018.520236%5D%2C%20%5B59.505144%2C%2018.511094%5D%2C%20%5B59.31002%2C%2018.654546%5D%2C%20%5B59.048347%2C%2018.525222%5D%2C%20%5B59.290748%2C%2018.455633%5D%2C%20%5B59.415249%2C%2018.554294%5D%2C%20%5B59.394579%2C%2018.799873%5D%2C%20%5B59.298153%2C%2018.65017%5D%2C%20%5B58.84912%2C%2017.634226%5D%2C%20%5B59.433317%2C%2019.00349%5D%2C%20%5B59.119659%2C%2018.300519%5D%2C%20%5B58.488788%2C%2016.946835%5D%2C%20%5B59.397762%2C%2018.548336%5D%2C%20%5B59.321505%2C%2018.016252%5D%2C%20%5B59.361038%2C%2018.690696%5D%2C%20%5B59.316036%2C%2017.950777%5D%2C%20%5B63.155325%2C%2018.605996%5D%2C%20%5B59.416725%2C%2018.584052%5D%2C%20%5B59.565135%2C%2018.792168%5D%2C%20%5B60.277462%2C%2018.613325%5D%2C%20%5B59.441913%2C%2018.919898%5D%2C%20%5B59.254998%2C%2018.614132%5D%2C%20%5B59.32885%2C%2018.17389%5D%2C%20%5B59.4954%2C%2018.927876%5D%2C%20%5B59.381289%2C%2018.04956%5D%2C%20%5B59.068104%2C%2018.308764%5D%2C%20%5B59.437721%2C%2018.41111%5D%2C%20%5B57.663913%2C%2011.802046%5D%2C%20%5B59.286695%2C%2018.704566%5D%2C%20%5B59.421013%2C%2018.658163%5D%2C%20%5B57.682331%2C%2011.645567%5D%2C%20%5B59.381762%2C%2018.047354%5D%2C%20%5B59.059063%2C%2018.486534%5D%2C%20%5B58.113023%2C%2011.42462%5D%2C%20%5B59.496938%2C%2019.162632%5D%2C%20%5B59.407713%2C%2018.318914%5D%2C%20%5B59.224188%2C%2018.749847%5D%2C%20%5B59.632983%2C%2018.840885%5D%2C%20%5B58.475003%2C%2016.95974%5D%2C%20%5B57.925475%2C%2011.618663%5D%2C%20%5B59.480648%2C%2018.413276%5D%2C%20%5B63.803255%2C%2020.871003%5D%2C%20%5B59.438927%2C%2018.241319%5D%2C%20%5B59.307022%2C%2018.057205%5D%2C%20%5B58.735884%2C%2017.534127%5D%2C%20%5B58.970219%2C%2018.322822%5D%2C%20%5B59.19512%2C%2018.57425%5D%2C%20%5B59.483933%2C%2018.47023%5D%2C%20%5B59.255747%2C%2018.278455%5D%2C%20%5B59.394046%2C%2017.748348%5D%2C%20%5B57.877522%2C%2014.119597%5D%2C%20%5B57.657953%2C%2011.838448%5D%2C%20%5B58.464104%2C%2011.280738%5D%2C%20%5B57.636977%2C%2011.872379%5D%2C%20%5B59.401287%2C%2018.352925%5D%2C%20%5B59.386673%2C%2018.280399%5D%2C%20%5B59.289763%2C%2018.86944%5D%2C%20%5B59.777016%2C%2018.994726%5D%2C%20%5B57.61148%2C%2011.876677%5D%2C%20%5B59.035784%2C%2018.510452%5D%2C%20%5B59.226126%2C%2018.415617%5D%2C%20%5B59.332962%2C%2018.210248%5D%2C%20%5B59.480849%2C%2017.577915%5D%2C%20%5B59.189521%2C%2018.468543%5D%2C%20%5B59.072852%2C%2018.204479%5D%2C%20%5B57.888387%2C%2011.588451%5D%2C%20%5B58.975095%2C%2018.256483%5D%2C%20%5B59.419577%2C%2018.603406%5D%2C%20%5B59.378253%2C%2018.187469%5D%2C%20%5B59.300311%2C%2018.648615%5D%2C%20%5B59.300479%2C%2018.255767%5D%2C%20%5B55.867605%2C%2012.817807%5D%2C%20%5B59.445048%2C%2018.804849%5D%2C%20%5B57.685655%2C%2011.891211%5D%2C%20%5B59.062082%2C%2018.540628%5D%2C%20%5B59.442718%2C%2018.543212%5D%2C%20%5B58.962331%2C%2018.212892%5D%2C%20%5B59.165649%2C%2018.588336%5D%2C%20%5B57.90285%2C%2016.782735%5D%2C%20%5B59.524905%2C%2016.889267%5D%2C%20%5B59.12081%2C%2018.306078%5D%2C%20%5B57.59928%2C%2011.89691%5D%2C%20%5B59.424002%2C%2018.728508%5D%2C%20%5B59.3048%2C%2018.104259%5D%2C%20%5B58.349635%2C%2011.236776%5D%2C%20%5B59.368298%2C%2018.1576%5D%2C%20%5B59.504502%2C%2016.259444%5D%2C%20%5B59.414783%2C%2018.555339%5D%2C%20%5B59.321392%2C%2018.124064%5D%2C%20%5B59.298385%2C%2018.666675%5D%2C%20%5B57.458509%2C%2012.090684%5D%2C%20%5B59.296123%2C%2018.319882%5D%2C%20%5B58.510673%2C%2016.955418%5D%2C%20%5B59.11245%2C%2018.386993%5D%2C%20%5B58.935989%2C%2018.221354%5D%2C%20%5B59.50703%2C%2016.591808%5D%2C%20%5B59.319416%2C%2013.287856%5D%2C%20%5B59.4014%2C%2018.353664%5D%2C%20%5B59.760214%2C%2018.773956%5D%2C%20%5B57.58359%2C%2011.753181%5D%2C%20%5B59.686336%2C%2018.804781%5D%2C%20%5B59.613208%2C%2017.716983%5D%2C%20%5B58.052831%2C%2011.523646%5D%2C%20%5B58.016941%2C%2011.711126%5D%2C%20%5B59.212935%2C%2018.510117%5D%2C%20%5B59.156399%2C%2018.814705%5D%2C%20%5B57.77203%2C%2011.620383%5D%2C%20%5B59.615332%2C%2017.723702%5D%2C%20%5B59.216195%2C%2018.559961%5D%2C%20%5B58.236249%2C%2011.57566%5D%2C%20%5B58.941397%2C%2017.647059%5D%2C%20%5B59.175697%2C%2018.398563%5D%2C%20%5B59.476323%2C%2018.821392%5D%2C%20%5B59.411884%2C%2018.320337%5D%2C%20%5B59.435926%2C%2018.405522%5D%2C%20%5B59.425793%2C%2018.509251%5D%2C%20%5B57.738455%2C%2011.731309%5D%2C%20%5B57.585454%2C%2011.7365%5D%2C%20%5B59.275345%2C%2018.315715%5D%2C%20%5B57.885197%2C%2011.585311%5D%2C%20%5B57.622686%2C%2011.597247%5D%2C%20%5B58.493305%2C%2016.937786%5D%2C%20%5B57.646944%2C%2011.802924%5D%2C%20%5B59.256929%2C%2017.226507%5D%2C%20%5B55.919777%2C%2012.69503%5D%2C%20%5B59.260158%2C%2018.559934%5D%2C%20%5B57.817688%2C%2011.620923%5D%2C%20%5B57.577012%2C%2011.926238%5D%2C%20%5B59.323696%2C%2018.380865%5D%2C%20%5B58.79574%2C%2014.897768%5D%2C%20%5B59.340287%2C%2018.00546%5D%2C%20%5B57.319851%2C%2011.126435%5D%2C%20%5B59.361709%2C%2013.527179%5D%2C%20%5B59.36615%2C%2013.516953%5D%2C%20%5B59.400418%2C%2018.338826%5D%2C%20%5B59.434378%2C%2017.956862%5D%2C%20%5B59.465689%2C%2018.461064%5D%2C%20%5B57.113052%2C%2012.226328%5D%2C%20%5B57.795973%2C%2014.240752%5D%2C%20%5B59.311525%2C%2017.983572%5D%2C%20%5B59.455979%2C%2018.420417%5D%2C%20%5B59.239011%2C%2018.398289%5D%2C%20%5B59.434566%2C%2018.561164%5D%2C%20%5B58.495634%2C%2016.891388%5D%2C%20%5B59.300013%2C%2018.648756%5D%2C%20%5B59.311196%2C%2018.725313%5D%2C%20%5B58.230955%2C%2016.810952%5D%2C%20%5B60.71461%2C%2017.259988%5D%2C%20%5B57.733294%2C%2011.673433%5D%2C%20%5B59.410994%2C%2018.897398%5D%2C%20%5B59.329338%2C%2018.174569%5D%2C%20%5B59.448881%2C%2017.220659%5D%2C%20%5B59.604948%2C%2017.508801%5D%2C%20%5B59.395825%2C%2018.360717%5D%2C%20%5B58.838046%2C%2017.898768%5D%2C%20%5B59.481246%2C%2018.406509%5D%2C%20%5B58.55767%2C%2011.262747%5D%2C%20%5B57.682564%2C%2011.816141%5D%2C%20%5B59.326359%2C%2018.381056%5D%2C%20%5B62.17488%2C%2014.94114%5D%2C%20%5B59.259655%2C%2017.855567%5D%2C%20%5B59.320179%2C%2018.34321%5D%2C%20%5B59.251539%2C%2018.523297%5D%2C%20%5B57.403451%2C%2012.028197%5D%2C%20%5B59.620832%2C%2018.826694%5D%2C%20%5B59.450519%2C%2016.097873%5D%2C%20%5B58.319416%2C%2011.832835%5D%2C%20%5B59.553994%2C%2018.623833%5D%2C%20%5B59.409238%2C%2018.357623%5D%2C%20%5B59.320863%2C%2018.010965%5D%2C%20%5B59.432683%2C%2017.7335%5D%2C%20%5B57.598603%2C%2011.792096%5D%2C%20%5B59.340051%2C%2017.998429%5D%2C%20%5B59.379939%2C%2018.357815%5D%2C%20%5B59.47178%2C%2018.511623%5D%2C%20%5B59.260973%2C%2017.859106%5D%2C%20%5B59.031427%2C%2018.428991%5D%2C%20%5B59.381732%2C%2018.529723%5D%2C%20%5B58.466946%2C%2015.606915%5D%2C%20%5B60.889025%2C%2015.123373%5D%2C%20%5B59.075218%2C%2018.521939%5D%2C%20%5B54.938766%2C%2010.713089%5D%2C%20%5B59.215638%2C%2018.312897%5D%2C%20%5B59.313385%2C%2018.033099%5D%2C%20%5B59.395701%2C%2018.63558%5D%2C%20%5B59.061152%2C%2018.36583%5D%2C%20%5B58.112838%2C%2011.366673%5D%2C%20%5B59.459365%2C%2017.793941%5D%2C%20%5B59.312114%2C%2017.949145%5D%2C%20%5B59.165476%2C%2018.733009%5D%2C%20%5B59.822362%2C%2018.923221%5D%2C%20%5B59.323453%2C%2018.028929%5D%2C%20%5B59.290069%2C%2012.147004%5D%2C%20%5B59.651102%2C%2019.155616%5D%2C%20%5B60.736673%2C%2017.31018%5D%2C%20%5B57.987504%2C%2011.535114%5D%2C%20%5B59.312078%2C%2017.962562%5D%2C%20%5B59.360004%2C%2017.960267%5D%2C%20%5B59.13511%2C%2018.402131%5D%2C%20%5B59.217101%2C%2018.309612%5D%2C%20%5B59.328814%2C%2018.17404%5D%2C%20%5B57.374972%2C%2011.959653%5D%2C%20%5B59.321414%2C%2018.223229%5D%2C%20%5B58.364769%2C%2011.362847%5D%2C%20%5B59.278057%2C%2017.86174%5D%2C%20%5B59.369502%2C%2018.118101%5D%2C%20%5B59.352229%2C%2018.045461%5D%2C%20%5B59.493102%2C%2017.522715%5D%2C%20%5B59.349755%2C%2018.466642%5D%2C%20%5B59.382782%2C%2018.323338%5D%2C%20%5B59.746154%2C%2019.075578%5D%2C%20%5B59.190881%2C%2018.399337%5D%2C%20%5B61.51977%2C%2017.142365%5D%2C%20%5B56.163725%2C%2015.05463%5D%2C%20%5B58.625966%2C%2016.799007%5D%2C%20%5B59.473652%2C%2018.76944%5D%2C%20%5B60.827893%2C%2014.977464%5D%2C%20%5B59.405645%2C%2018.572339%5D%2C%20%5B59.405584%2C%2018.572704%5D%2C%20%5B58.382086%2C%2011.260373%5D%2C%20%5B59.447322%2C%2017.677791%5D%2C%20%5B59.300141%2C%2018.649254%5D%2C%20%5B60.524391%2C%2015.694566%5D%2C%20%5B59.461229%2C%2017.134913%5D%2C%20%5B55.63298%2C%2012.7055%5D%2C%20%5B60.473373%2C%2015.615212%5D%2C%20%5B59.039561%2C%2012.192813%5D%2C%20%5B59.40799%2C%2018.336249%5D%2C%20%5B59.508033%2C%2018.842184%5D%2C%20%5B59.679032%2C%2018.771105%5D%2C%20%5B59.189352%2C%2018.400662%5D%2C%20%5B58.902347%2C%2017.770758%5D%2C%20%5B57.700738%2C%2011.78375%5D%2C%20%5B59.027264%2C%2018.333493%5D%2C%20%5B59.408392%2C%2018.326935%5D%2C%20%5B59.403259%2C%2018.355457%5D%2C%20%5B59.267996%2C%2017.296902%5D%2C%20%5B59.339783%2C%2017.939713%5D%2C%20%5B59.460194%2C%2018.316163%5D%2C%20%5B61.703463%2C%2017.150901%5D%2C%20%5B59.150639%2C%2018.428338%5D%2C%20%5B59.247142%2C%2017.584762%5D%2C%20%5B59.080806%2C%2018.314348%5D%2C%20%5B59.669869%2C%2018.785209%5D%2C%20%5B58.856203%2C%2017.916691%5D%2C%20%5B59.404908%2C%2018.872629%5D%2C%20%5B59.45191%2C%2017.768585%5D%2C%20%5B59.380501%2C%2018.193641%5D%2C%20%5B59.304186%2C%2018.832658%5D%2C%20%5B59.295183%2C%2017.907626%5D%2C%20%5B59.761194%2C%2016.856987%5D%2C%20%5B60.931846%2C%2017.147032%5D%2C%20%5B59.321047%2C%2018.125171%5D%2C%20%5B58.487711%2C%2016.941685%5D%2C%20%5B58.10735%2C%2011.764635%5D%2C%20%5B59.476006%2C%2018.782143%5D%2C%20%5B57.695846%2C%2011.777145%5D%2C%20%5B57.744224%2C%2011.744759%5D%2C%20%5B57.845412%2C%2013.290892%5D%2C%20%5B57.762157%2C%2011.804537%5D%2C%20%5B56.138793%2C%2015.747133%5D%2C%20%5B57.759577%2C%2011.775891%5D%2C%20%5B59.277734%2C%2018.538679%5D%2C%20%5B57.37584%2C%2012.046496%5D%2C%20%5B59.255755%2C%2018.280407%5D%2C%20%5B59.25606%2C%2018.278964%5D%2C%20%5B59.402421%2C%2018.883332%5D%2C%20%5B57.405616%2C%2012.02224%5D%2C%20%5B59.435243%2C%2018.10963%5D%2C%20%5B59.111437%2C%2018.489275%5D%2C%20%5B62.865983%2C%2018.402365%5D%2C%20%5B59.671358%2C%2017.602997%5D%2C%20%5B55.859364%2C%2014.2317%5D%2C%20%5B59.335612%2C%2018.043031%5D%2C%20%5B58.260664%2C%2011.596779%5D%2C%20%5B58.848811%2C%2017.890427%5D%2C%20%5B59.52794%2C%2017.840998%5D%2C%20%5B59.304392%2C%2018.068043%5D%2C%20%5B59.117789%2C%2018.324205%5D%2C%20%5B57.74519%2C%2011.743241%5D%2C%20%5B59.29651%2C%2018.260665%5D%2C%20%5B60.67488%2C%2017.141273%5D%2C%20%5B59.316591%2C%2018.016208%5D%2C%20%5B61.637395%2C%2017.088974%5D%2C%20%5B58.507988%2C%2011.293585%5D%2C%20%5B59.400815%2C%2018.101109%5D%2C%20%5B59.39688%2C%2018.602449%5D%2C%20%5B59.097975%2C%2018.290835%5D%2C%20%5B59.617973%2C%2018.759123%5D%2C%20%5B59.50867%2C%2018.253106%5D%2C%20%5B59.292215%2C%2017.813934%5D%2C%20%5B58.773424%2C%2014.851023%5D%2C%20%5B59.26774%2C%2018.30012%5D%2C%20%5B59.302938%2C%2018.107564%5D%2C%20%5B59.329052%2C%2018.100242%5D%2C%20%5B59.007418%2C%2013.958103%5D%2C%20%5B59.446964%2C%2016.626615%5D%2C%20%5B59.352141%2C%2018.045558%5D%2C%20%5B57.695813%2C%2011.91017%5D%2C%20%5B59.36746%2C%2018.437582%5D%2C%20%5B57.988346%2C%2011.543948%5D%2C%20%5B56.715734%2C%2011.512928%5D%2C%20%5B59.467452%2C%2018.294078%5D%2C%20%5B58.447415%2C%2011.281585%5D%2C%20%5B59.316361%2C%2018.314449%5D%2C%20%5B56.053904%2C%2014.605879%5D%2C%20%5B59.375421%2C%2018.088255%5D%2C%20%5B57.449913%2C%2012.052849%5D%2C%20%5B59.288637%2C%2018.916924%5D%2C%20%5B59.401708%2C%2018.354163%5D%2C%20%5B57.667718%2C%2016.714199%5D%2C%20%5B57.646542%2C%2011.854247%5D%2C%20%5B59.215577%2C%2018.58787%5D%2C%20%5B59.307384%2C%2018.294057%5D%2C%20%5B61.227006%2C%2017.240093%5D%2C%20%5B59.414765%2C%2018.555671%5D%2C%20%5B59.784984%2C%2014.520338%5D%2C%20%5B57.92295%2C%2012.064359%5D%2C%20%5B55.991041%2C%2012.744529%5D%2C%20%5B59.328212%2C%2018.174574%5D%2C%20%5B62.927474%2C%2017.911758%5D%2C%20%5B58.270874%2C%2016.971109%5D%2C%20%5B57.620856%2C%2011.908611%5D%2C%20%5B59.266625%2C%2017.778598%5D%2C%20%5B59.545034%2C%2016.229138%5D%2C%20%5B59.26116%2C%2017.233742%5D%2C%20%5B58.452146%2C%2015.621373%5D%2C%20%5B59.34024%2C%2017.969422%5D%2C%20%5B58.448749%2C%2014.853314%5D%2C%20%5B59.379067%2C%2018.19455%5D%2C%20%5B59.480727%2C%2018.41207%5D%2C%20%5B59.370641%2C%2018.69845%5D%2C%20%5B59.75%2C%2019.066667%5D%2C%20%5B59.184995%2C%2018.404673%5D%2C%20%5B58.868589%2C%2011.057596%5D%2C%20%5B58.875744%2C%2014.908036%5D%2C%20%5B58.90176%2C%2017.772504%5D%2C%20%5B57.646552%2C%2011.784901%5D%2C%20%5B59.371613%2C%2017.807213%5D%2C%20%5B59.390045%2C%2018.086541%5D%2C%20%5B59.40993%2C%2018.770142%5D%2C%20%5B59.306666%2C%2018.346781%5D%2C%20%5B55.991444%2C%2012.744902%5D%2C%20%5B59.216176%2C%2018.325385%5D%2C%20%5B59.224432%2C%2018.563213%5D%2C%20%5B58.559769%2C%2012.711391%5D%2C%20%5B59.352298%2C%2018.045339%5D%2C%20%5B59.260081%2C%2018.34344%5D%2C%20%5B58.649835%2C%2016.269576%5D%2C%20%5B59.161052%2C%2017.880176%5D%2C%20%5B59.4262%2C%2018.493347%5D%2C%20%5B59.22797%2C%2018.559747%5D%2C%20%5B59.375421%2C%2018.088255%5D%2C%20%5B59.307221%2C%2017.921437%5D%2C%20%5B59.082056%2C%2018.173065%5D%2C%20%5B59.456857%2C%2018.595461%5D%2C%20%5B59.460154%2C%2018.316347%5D%2C%20%5B57.364836%2C%2017.063231%5D%2C%20%5B59.318743%2C%2018.862433%5D%2C%20%5B58.707748%2C%2012.505499%5D%2C%20%5B59.528165%2C%2018.511869%5D%2C%20%5B59.303043%2C%2018.226092%5D%2C%20%5B59.369584%2C%2018.60646%5D%2C%20%5B58.436939%2C%2015.621991%5D%2C%20%5B59.176077%2C%2018.673978%5D%2C%20%5B59.395125%2C%2018.438977%5D%2C%20%5B59.466018%2C%2018.352923%5D%2C%20%5B56.041186%2C%2012.689809%5D%2C%20%5B59.295196%2C%2017.907312%5D%2C%20%5B59.393185%2C%2018.134647%5D%2C%20%5B59.526892%2C%2018.512815%5D%2C%20%5B59.39569%2C%2018.127871%5D%2C%20%5B59.396741%2C%2018.144518%5D%2C%20%5B59.393558%2C%2018.781156%5D%2C%20%5B59.477604%2C%2018.293818%5D%2C%20%5B59.368778%2C%2018.256365%5D%2C%20%5B59.421022%2C%2018.292982%5D%2C%20%5B56.083032%2C%2012.655229%5D%2C%20%5B59.372903%2C%2018.699487%5D%2C%20%5B58.801746%2C%2017.835471%5D%2C%20%5B57.84482%2C%2012.009318%5D%2C%20%5B59.402379%2C%2018.357748%5D%2C%20%5B58.347223%2C%2016.719584%5D%2C%20%5B59.491738%2C%2018.450556%5D%2C%20%5B58.9185%2C%2017.703581%5D%2C%20%5B60.402832%2C%2021.806831%5D%2C%20%5B59.154632%2C%2018.628842%5D%2C%20%5B59.462995%2C%2018.954235%5D%2C%20%5B59.300579%2C%2018.8074%5D%2C%20%5B59.456769%2C%2018.35651%5D%2C%20%5B58.836813%2C%2013.201901%5D%2C%20%5B59.414338%2C%2018.091199%5D%2C%20%5B59.316249%2C%2018.13065%5D%2C%20%5B59.089956%2C%2017.738964%5D%2C%20%5B59.087842%2C%2017.686669%5D%2C%20%5B59.48963%2C%2018.911091%5D%2C%20%5B59.526994%2C%2017.840906%5D%2C%20%5B59.325976%2C%2018.087258%5D%2C%20%5B59.291%2C%2018.368841%5D%2C%20%5B58.743942%2C%2017.01185%5D%2C%20%5B59.37306%2C%2018.698782%5D%2C%20%5B59.313603%2C%2018.034434%5D%2C%20%5B59.473957%2C%2018.296991%5D%2C%20%5B59.414214%2C%2018.091344%5D%2C%20%5B59.349029%2C%2017.853803%5D%2C%20%5B59.326475%2C%2017.999694%5D%2C%20%5B59.320373%2C%2018.457696%5D%2C%20%5B59.37146%2C%2019.260981%5D%2C%20%5B59.347816%2C%2017.862501%5D%2C%20%5B59.387134%2C%2016.855484%5D%2C%20%5B59.224973%2C%2018.478878%5D%2C%20%5B59.758997%2C%2018.747386%5D%2C%20%5B59.282018%2C%2018.626975%5D%2C%20%5B59.278621%2C%2010.432227%5D%2C%20%5B59.279453%2C%2018.294431%5D%2C%20%5B59.313294%2C%2018.103867%5D%2C%20%5B59.354019%2C%2018.052255%5D%2C%20%5B55.675613%2C%2013.060347%5D%2C%20%5B59.414525%2C%2017.988481%5D%2C%20%5B59.434972%2C%2018.110389%5D%2C%20%5B58.424973%2C%2016.951811%5D%2C%20%5B59.410471%2C%2018.312845%5D%2C%20%5B56.157687%2C%2015.586814%5D%2C%20%5B59.326353%2C%2018.025606%5D%2C%20%5B59.434863%2C%2018.110318%5D%2C%20%5B57.644709%2C%2011.78676%5D%2C%20%5B59.420953%2C%2018.348361%5D%2C%20%5B59.490245%2C%2018.581899%5D%2C%20%5B59.434711%2C%2016.430375%5D%2C%20%5B57.761841%2C%2011.806558%5D%2C%20%5B56.163537%2C%2015.596619%5D%2C%20%5B59.295635%2C%2018.253683%5D%2C%20%5B59.129363%2C%2018.403926%5D%2C%20%5B59.272747%2C%2018.353635%5D%2C%20%5B59.21206%2C%2018.427929%5D%2C%20%5B59.356833%2C%2017.833411%5D%2C%20%5B59.306739%2C%2018.42865%5D%2C%20%5B59.338818%2C%2018.904521%5D%2C%20%5B58.322252%2C%2011.839005%5D%2C%20%5B55.583329%2C%2012.913577%5D%2C%20%5B59.380323%2C%2018.331524%5D%2C%20%5B59.702219%2C%2018.899896%5D%2C%20%5B59.378261%2C%2018.19666%5D%2C%20%5B57.691706%2C%2011.766293%5D%2C%20%5B59.275107%2C%2018.734746%5D%2C%20%5B59.309338%2C%2017.577065%5D%2C%20%5B59.403445%2C%2018.355579%5D%2C%20%5B59.310174%2C%2018.22187%5D%2C%20%5B59.634739%2C%2018.648325%5D%2C%20%5B56.162674%2C%2015.600699%5D%2C%20%5B56.426948%2C%2012.62659%5D%2C%20%5B56.149202%2C%2015.58522%5D%2C%20%5B59.302938%2C%2018.079404%5D%2C%20%5B59.237696%2C%2018.402684%5D%2C%20%5B59.124751%2C%2018.48874%5D%2C%20%5B57.674601%2C%2016.700296%5D%2C%20%5B58.04137%2C%2011.7891%5D%2C%20%5B59.299352%2C%2018.273475%5D%2C%20%5B59.391221%2C%2018.106404%5D%2C%20%5B59.413596%2C%2018.643176%5D%2C%20%5B57.796515%2C%2014.267509%5D%2C%20%5B62.362488%2C%2017.527964%5D%2C%20%5B59.11105%2C%2018.489529%5D%2C%20%5B59.294511%2C%2017.906443%5D%2C%20%5B59.380985%2C%2018.050389%5D%2C%20%5B59.368452%2C%2018.117603%5D%2C%20%5B59.480277%2C%2018.310783%5D%2C%20%5B58.684207%2C%2011.257033%5D%2C%20%5B59.222024%2C%2018.538959%5D%2C%20%5B59.775813%2C%2017.643528%5D%2C%20%5B59.428133%2C%2017.595675%5D%2C%20%5B59.317275%2C%2017.946335%5D%2C%20%5B59.781766%2C%2018.954973%5D%2C%20%5B59.776524%2C%2018.994449%5D%2C%20%5B59.780536%2C%2018.997545%5D%2C%20%5B64.71038%2C%2021.029195%5D%2C%20%5B60.671714%2C%2017.153501%5D%2C%20%5B59.118827%2C%2018.308108%5D%2C%20%5B59.367809%2C%2018.442175%5D%2C%20%5B55.683264%2C%2013.067169%5D%2C%20%5B59.256988%2C%2018.33606%5D%2C%20%5B57.762237%2C%2011.802461%5D%2C%20%5B59.414601%2C%2018.555344%5D%2C%20%5B59.519662%2C%2018.683424%5D%2C%20%5B59.472678%2C%2018.51173%5D%2C%20%5B57.579598%2C%2016.711762%5D%2C%20%5B59.519514%2C%2018.683889%5D%2C%20%5B59.081856%2C%2018.173454%5D%2C%20%5B59.424368%2C%2018.08005%5D%2C%20%5B59.518728%2C%2015.044088%5D%2C%20%5B59.424537%2C%2018.350386%5D%2C%20%5B59.763724%2C%2018.792165%5D%2C%20%5B59.45061%2C%2016.430586%5D%2C%20%5B59.379238%2C%2018.055382%5D%2C%20%5B59.231593%2C%2016.074627%5D%2C%20%5B59.476452%2C%2018.522729%5D%2C%20%5B59.457179%2C%2018.576715%5D%2C%20%5B59.317951%2C%2017.944793%5D%2C%20%5B59.22989%2C%2018.360458%5D%2C%20%5B57.665125%2C%2011.859127%5D%2C%20%5B59.237495%2C%2018.402373%5D%2C%20%5B59.083973%2C%2018.310298%5D%2C%20%5B59.420829%2C%2018.293184%5D%2C%20%5B57.981957%2C%2011.535969%5D%2C%20%5B59.323548%2C%2017.998084%5D%2C%20%5B59.454744%2C%2018.321953%5D%2C%20%5B59.366269%2C%2017.812557%5D%2C%20%5B59.4775%2C%2018.815556%5D%2C%20%5B59.405432%2C%2018.133573%5D%2C%20%5B59.421699%2C%2018.449184%5D%2C%20%5B59.328709%2C%2018.173831%5D%2C%20%5B57.700822%2C%2011.918996%5D%2C%20%5B59.387315%2C%2017.783966%5D%2C%20%5B59.284227%2C%2018.289019%5D%2C%20%5B57.661591%2C%2011.844551%5D%2C%20%5B55.60317%2C%2012.957374%5D%2C%20%5B59.30987%2C%2018.21894%5D%2C%20%5B59.285743%2C%2018.555981%5D%2C%20%5B59.509036%2C%2016.264805%5D%2C%20%5B57.453183%2C%2011.916615%5D%2C%20%5B59.293741%2C%2017.646887%5D%2C%20%5B59.426457%2C%2018.500751%5D%2C%20%5B59.373026%2C%2018.698765%5D%2C%20%5B59.28584%2C%2018.704845%5D%2C%20%5B58.797009%2C%2014.871822%5D%2C%20%5B59.408913%2C%2018.615136%5D%2C%20%5B57.620458%2C%2011.759233%5D%2C%20%5B59.569935%2C%2018.859806%5D%2C%20%5B59.569178%2C%2018.860018%5D%2C%20%5B59.569077%2C%2018.859431%5D%2C%20%5B59.57011%2C%2018.859943%5D%2C%20%5B59.226155%2C%2018.332469%5D%2C%20%5B59.426927%2C%2016.472755%5D%2C%20%5B59.330175%2C%2018.686305%5D%2C%20%5B59.359807%2C%2018.814137%5D%2C%20%5B62.95368%2C%2017.800637%5D%2C%20%5B59.820215%2C%2019.027709%5D%2C%20%5B59.352185%2C%2018.40363%5D%2C%20%5B59.7381%2C%2018.93174%5D%2C%20%5B59.082589%2C%2018.173838%5D%2C%20%5B59.453296%2C%2018.315792%5D%2C%20%5B57.976662%2C%2016.817462%5D%2C%20%5B59.411339%2C%2018.16621%5D%2C%20%5B58.642032%2C%2014.338067%5D%2C%20%5B59.383008%2C%2018.355434%5D%2C%20%5B59.319638%2C%2018.016324%5D%2C%20%5B59.287073%2C%2018.487017%5D%2C%20%5B59.343378%2C%2018.002197%5D%2C%20%5B62.392589%2C%2017.307681%5D%2C%20%5B59.704357%2C%2019.000728%5D%2C%20%5B56.649554%2C%2016.462069%5D%2C%20%5B59.458266%2C%2018.620743%5D%2C%20%5B59.32198%2C%2018.096609%5D%2C%20%5B59.391658%2C%2018.378437%5D%2C%20%5B59.288113%2C%2018.91762%5D%2C%20%5B59.33367%2C%2017.994276%5D%2C%20%5B59.593621%2C%2017.758271%5D%2C%20%5B59.475985%2C%2018.519246%5D%2C%20%5B57.667593%2C%2011.847562%5D%2C%20%5B59.321838%2C%2018.112261%5D%2C%20%5B58.600505%2C%2016.856263%5D%2C%20%5B57.883444%2C%2011.37532%5D%2C%20%5B59.432589%2C%2018.173307%5D%2C%20%5B59.553223%2C%2018.630249%5D%2C%20%5B59.328802%2C%2018.173259%5D%2C%20%5B59.081112%2C%2018.171869%5D%2C%20%5B59.322684%2C%2017.98504%5D%2C%20%5B59.286286%2C%2018.704842%5D%2C%20%5B59.340615%2C%2017.969509%5D%2C%20%5B59.093212%2C%2018.358017%5D%2C%20%5B59.418684%2C%2018.351679%5D%2C%20%5B59.564809%2C%2016.618345%5D%2C%20%5B59.391418%2C%2018.347702%5D%2C%20%5B59.544949%2C%2018.751863%5D%2C%20%5B59.382109%2C%2017.023813%5D%2C%20%5B59.547329%2C%2018.725698%5D%2C%20%5B59.379272%2C%2017.790468%5D%2C%20%5B57.614053%2C%2011.883808%5D%2C%20%5B57.646279%2C%2011.848246%5D%2C%20%5B59.002432%2C%2018.283331%5D%2C%20%5B59.376069%2C%2017.039501%5D%2C%20%5B55.61292%2C%2012.390804%5D%2C%20%5B59.288275%2C%2018.917927%5D%2C%20%5B67.931013%2C%2020.062745%5D%2C%20%5B59.590949%2C%2018.848171%5D%2C%20%5B59.455818%2C%2018.421059%5D%2C%20%5B60.727742%2C%2017.286602%5D%2C%20%5B60.694816%2C%2017.242561%5D%2C%20%5B59.28787%2C%2018.91083%5D%2C%20%5B59.319427%2C%2018.671241%5D%2C%20%5B59.395959%2C%2018.139098%5D%2C%20%5B59.406026%2C%2018.572931%5D%2C%20%5B59.226176%2C%2017.871473%5D%2C%20%5B57.824964%2C%2016.703688%5D%2C%20%5B59.362786%2C%2017.441245%5D%2C%20%5B55.991421%2C%2012.744928%5D%2C%20%5B59.283963%2C%2017.618059%5D%2C%20%5B59.292019%2C%2018.444882%5D%2C%20%5B58.645209%2C%2013.065227%5D%2C%20%5B59.622177%2C%2018.883524%5D%2C%20%5B59.292347%2C%2017.814215%5D%2C%20%5B59.356869%2C%2017.349157%5D%2C%20%5B59.293556%2C%2016.001916%5D%2C%20%5B58.768783%2C%2017.858782%5D%2C%20%5B59.356196%2C%2017.051383%5D%2C%20%5B59.43088%2C%2017.75111%5D%2C%20%5B59.287026%2C%2017.890813%5D%2C%20%5B59.221239%2C%2017.872633%5D%2C%20%5B59.659725%2C%2017.583689%5D%2C%20%5B59.373436%2C%2017.805384%5D%2C%20%5B57.803533%2C%2014.260947%5D%2C%20%5B59.34371%2C%2018.006607%5D%2C%20%5B59.311552%2C%2017.89709%5D%2C%20%5B57.637047%2C%2011.870025%5D%2C%20%5B59.173804%2C%2018.6901%5D%2C%20%5B57.076904%2C%2016.786551%5D%2C%20%5B59.336329%2C%2018.195267%5D%2C%20%5B58.891196%2C%2018.140508%5D%2C%20%5B59.464995%2C%2016.437161%5D%2C%20%5B59.263091%2C%2017.858295%5D%2C%20%5B57.834676%2C%2012.008909%5D%2C%20%5B57.701292%2C%2011.917274%5D%2C%20%5B60.220675%2C%2018.671138%5D%2C%20%5B63.586401%2C%2019.857269%5D%2C%20%5B59.307653%2C%2018.29525%5D%2C%20%5B57.861594%2C%2019.061994%5D%2C%20%5B59.304399%2C%2018.045269%5D%2C%20%5B59.313701%2C%2018.221087%5D%2C%20%5B59.782825%2C%2017.625928%5D%2C%20%5B59.784729%2C%2017.627455%5D%2C%20%5B59.241283%2C%2018.447786%5D%2C%20%5B59.119346%2C%2018.493951%5D%2C%20%5B59.600754%2C%2016.544775%5D%2C%20%5B59.101367%2C%2018.368632%5D%2C%20%5B59.478628%2C%2018.812051%5D%2C%20%5B56.716019%2C%2011.510485%5D%2C%20%5B59.541729%2C%2018.572075%5D%2C%20%5B56.579356%2C%2012.799149%5D%2C%20%5B56.229498%2C%2012.80421%5D%2C%20%5B56.242098%2C%2012.530438%5D%2C%20%5B59.523316%2C%2017.486041%5D%2C%20%5B59.29685%2C%2018.263699%5D%2C%20%5B59.430197%2C%2018.363261%5D%2C%20%5B59.415233%2C%2018.34605%5D%2C%20%5B58.889246%2C%2017.465923%5D%2C%20%5B57.664387%2C%2011.80861%5D%2C%20%5B59.32694%2C%2018.151731%5D%2C%20%5B59.275885%2C%2017.84605%5D%2C%20%5B59.426631%2C%2018.129292%5D%2C%20%5B59.347545%2C%2018.324208%5D%2C%20%5B59.466383%2C%2018.754563%5D%2C%20%5B59.279948%2C%2017.857693%5D%2C%20%5B59.472184%2C%2018.511536%5D%2C%20%5B60.29076%2C%2018.569164%5D%2C%20%5B59.319339%2C%2018.671292%5D%2C%20%5B58.432577%2C%2016.666207%5D%2C%20%5B59.320562%2C%2018.347465%5D%2C%20%5B57.457729%2C%2012.217233%5D%2C%20%5B57.865414%2C%2011.988315%5D%2C%20%5B56.849923%2C%2013.699153%5D%2C%20%5B59.317951%2C%2017.944751%5D%2C%20%5B59.256141%2C%2016.004765%5D%2C%20%5B57.469448%2C%2011.915349%5D%2C%20%5B57.667828%2C%2011.84799%5D%2C%20%5B59.326268%2C%2018.025786%5D%2C%20%5B58.252904%2C%2016.913348%5D%2C%20%5B58.920697%2C%2017.591244%5D%2C%20%5B59.410055%2C%2018.678493%5D%2C%20%5B59.289807%2C%2017.847211%5D%2C%20%5B59.391257%2C%2018.119975%5D%2C%20%5B59.332413%2C%2017.992002%5D%2C%20%5B59.563384%2C%2018.700893%5D%2C%20%5B59.783271%2C%2017.617324%5D%2C%20%5B59.16398%2C%2018.728948%5D%2C%20%5B59.28425%2C%2017.88581%5D%2C%20%5B59.839921%2C%2018.942258%5D%2C%20%5B58.447064%2C%2014.878868%5D%2C%20%5B56.21759%2C%2016.046948%5D%2C%20%5B59.10012%2C%2018.298615%5D%2C%20%5B59.479935%2C%2018.793553%5D%2C%20%5B59.370483%2C%2018.263009%5D%2C%20%5B59.313686%2C%2017.980013%5D%2C%20%5B59.537414%2C%2018.74972%5D%2C%20%5B59.360336%2C%2017.82535%5D%2C%20%5B58.921042%2C%2011.148137%5D%2C%20%5B60.676496%2C%2017.335739%5D%2C%20%5B58.110238%2C%2011.363806%5D%2C%20%5B59.147299%2C%2018.814916%5D%2C%20%5B59.41537%2C%2013.490742%5D%2C%20%5B59.456299%2C%2018.314623%5D%2C%20%5B59.330146%2C%2017.499286%5D%2C%20%5B59.12327%2C%2018.682689%5D%2C%20%5B58.973615%2C%205.733931%5D%2C%20%5B59.253206%2C%2018.379894%5D%2C%20%5B59.581854%2C%2016.607875%5D%2C%20%5B59.300382%2C%2018.649405%5D%2C%20%5B57.855667%2C%2019.066086%5D%2C%20%5B59.260798%2C%2017.861321%5D%2C%20%5B58.601803%2C%2011.265335%5D%2C%20%5B58.670929%2C%2017.177253%5D%2C%20%5B65.86021%2C%2022.715792%5D%2C%20%5B63.993079%2C%2020.891405%5D%2C%20%5B59.253456%2C%2018.407475%5D%2C%20%5B59.05428%2C%2017.684023%5D%2C%20%5B59.03919%2C%2012.785972%5D%2C%20%5B59.412722%2C%2018.603349%5D%2C%20%5B58.533249%2C%2015.038493%5D%2C%20%5B59.341862%2C%2018.13588%5D%2C%20%5B59.46295%2C%2018.321725%5D%2C%20%5B57.7477%2C%2011.654645%5D%2C%20%5B59.326245%2C%2018.0421%5D%2C%20%5B58.7398%2C%2013.698897%5D%2C%20%5B59.424984%2C%2018.6236%5D%2C%20%5B57.886473%2C%2011.640118%5D%2C%20%5B59.328256%2C%2018.063976%5D%2C%20%5B59.323717%2C%2017.984249%5D%2C%20%5B58.50471%2C%2016.083188%5D%2C%20%5B56.172969%2C%2015.563421%5D%2C%20%5B59.165055%2C%2018.83021%5D%2C%20%5B56.124653%2C%2014.975783%5D%2C%20%5B59.469918%2C%2017.680266%5D%2C%20%5B60.334869%2C%2018.463771%5D%2C%20%5B59.318417%2C%2018.161073%5D%2C%20%5B59.2604%2C%2017.858065%5D%2C%20%5B56.837315%2C%2013.673761%5D%2C%20%5B59.433284%2C%2018.557923%5D%2C%20%5B59.407113%2C%2018.659597%5D%2C%20%5B59.480755%2C%2018.407022%5D%2C%20%5B59.436033%2C%2018.430689%5D%2C%20%5B57.75612%2C%2011.796771%5D%2C%20%5B59.449728%2C%2016.499577%5D%2C%20%5B59.208595%2C%2018.850992%5D%2C%20%5B58.324514%2C%2016.829067%5D%2C%20%5B58.946127%2C%2016.091288%5D%2C%20%5B59.442123%2C%2016.438507%5D%2C%20%5B59.348864%2C%2018.641605%5D%2C%20%5B59.057829%2C%2014.144532%5D%2C%20%5B58.795183%2C%2017.386155%5D%2C%20%5B58.738646%2C%2017.389033%5D%2C%20%5B59.123534%2C%2018.576841%5D%2C%20%5B59.40112%2C%2018.351365%5D%2C%20%5B58.579225%2C%2011.073718%5D%2C%20%5B59.320285%2C%2018.315535%5D%2C%20%5B59.336154%2C%2017.992852%5D%2C%20%5B56.627584%2C%2012.666985%5D%2C%20%5B59.300866%2C%2013.896287%5D%2C%20%5B56.042605%2C%2012.613987%5D%2C%20%5B59.869574%2C%2019.034284%5D%2C%20%5B59.053836%2C%2010.029546%5D%2C%20%5B58.899171%2C%2017.951682%5D%2C%20%5B59.406255%2C%2018.572919%5D%2C%20%5B59.259064%2C%2017.75997%5D%2C%20%5B59.208724%2C%2018.395106%5D%2C%20%5B59.527924%2C%2018.512832%5D%2C%20%5B59.546766%2C%2019.097702%5D%2C%20%5B58.491294%2C%2016.920914%5D%2C%20%5B58.332467%2C%2014.340202%5D%2C%20%5B59.335044%2C%2018.045368%5D%2C%20%5B56.042422%2C%2014.769247%5D%2C%20%5B59.407586%2C%2018.369291%5D%2C%20%5B58.2448%2C%2011.460711%5D%2C%20%5B59.218001%2C%2018.421202%5D%2C%20%5B58.539214%2C%2014.509513%5D%2C%20%5B63.271683%2C%2018.667895%5D%2C%20%5B59.4327%2C%2018.431893%5D%2C%20%5B59.437943%2C%2018.656584%5D%2C%20%5B59.401206%2C%2018.351202%5D%2C%20%5B59.342971%2C%2018.208739%5D%2C%20%5B59.257165%2C%2017.221852%5D%2C%20%5B59.338106%2C%2018.201609%5D%2C%20%5B59.311277%2C%2018.032791%5D%2C%20%5B59.336221%2C%2017.991319%5D%2C%20%5B59.472011%2C%2018.287784%5D%2C%20%5B59.458819%2C%2018.736132%5D%2C%20%5B59.401206%2C%2018.351202%5D%2C%20%5B57.608721%2C%2011.844402%5D%2C%20%5B58.696802%2C%2017.10209%5D%2C%20%5B59.340777%2C%2018.143899%5D%2C%20%5B59.613521%2C%2017.715023%5D%2C%20%5B59.295372%2C%2017.638936%5D%2C%20%5B59.370976%2C%2018.746782%5D%2C%20%5B59.414051%2C%2018.555898%5D%2C%20%5B57.604425%2C%2011.761412%5D%2C%20%5B59.267625%2C%2017.845056%5D%2C%20%5B57.923844%2C%2011.587897%5D%2C%20%5B57.923651%2C%2011.58543%5D%2C%20%5B59.338261%2C%2018.142346%5D%2C%20%5B57.311065%2C%2018.073694%5D%2C%20%5B59.221822%2C%2017.872134%5D%2C%20%5B59.321874%2C%2017.887842%5D%2C%20%5B59.294837%2C%2017.907172%5D%2C%20%5B61.048803%2C%2017.160126%5D%2C%20%5B59.482234%2C%2017.492487%5D%2C%20%5B59.433253%2C%2018.179479%5D%2C%20%5B57.90207%2C%2011.652696%5D%2C%20%5B59.396195%2C%2018.639807%5D%2C%20%5B59.336236%2C%2017.888542%5D%2C%20%5B59.415196%2C%2018.448209%5D%2C%20%5B57.751571%2C%2011.662749%5D%2C%20%5B59.322292%2C%2018.095647%5D%2C%20%5B59.325954%2C%2018.025427%5D%2C%20%5B59.595706%2C%2016.574287%5D%2C%20%5B59.43335%2C%2019.216847%5D%2C%20%5B59.114391%2C%2018.515308%5D%2C%20%5B60.230659%2C%2018.436535%5D%2C%20%5B59.398258%2C%2018.01%5D%2C%20%5B57.884811%2C%2011.585475%5D%2C%20%5B59.569195%2C%2019.06051%5D%2C%20%5B59.302286%2C%2018.076378%5D%2C%20%5B59.413455%2C%2018.552768%5D%2C%20%5B59.328238%2C%2018.151791%5D%2C%20%5B59.764859%2C%2017.567268%5D%2C%20%5B59.380094%2C%2018.633631%5D%2C%20%5B61.339401%2C%2017.014485%5D%2C%20%5B56.951267%2C%2018.343276%5D%2C%20%5B59.417152%2C%2018.344371%5D%2C%20%5B57.556047%2C%2016.857874%5D%2C%20%5B59.409301%2C%2018.003778%5D%2C%20%5B59.493788%2C%2018.488767%5D%2C%20%5B58.92634%2C%2017.698438%5D%2C%20%5B59.401248%2C%2018.350782%5D%2C%20%5B59.308478%2C%2018.049765%5D%2C%20%5B58.05927%2C%2018.185688%5D%2C%20%5B59.876445%2C%2019.080727%5D%2C%20%5B59.294452%2C%2018.342904%5D%2C%20%5B59.21127%2C%2018.316136%5D%2C%20%5B59.320636%2C%2018.223939%5D%2C%20%5B59.320617%2C%2018.006853%5D%2C%20%5B59.181443%2C%2018.766965%5D%2C%20%5B59.414463%2C%2018.663629%5D%2C%20%5B59.634464%2C%2018.837494%5D%2C%20%5B59.414002%2C%2018.737102%5D%2C%20%5B59.405049%2C%2018.563031%5D%2C%20%5B59.180975%2C%2018.690651%5D%2C%20%5B59.146869%2C%2018.425528%5D%2C%20%5B59.42038%2C%2018.375179%5D%2C%20%5B59.534613%2C%2016.31609%5D%2C%20%5B58.970989%2C%2018.32591%5D%2C%20%5B59.265832%2C%2018.353165%5D%2C%20%5B59.057497%2C%2018.429502%5D%2C%20%5B58.711464%2C%2017.239894%5D%2C%20%5B59.290355%2C%2018.928812%5D%2C%20%5B58.320897%2C%2016.997027%5D%2C%20%5B59.261276%2C%2017.233033%5D%2C%20%5B59.20692%2C%2018.566036%5D%2C%20%5B59.752642%2C%2019.101819%5D%2C%20%5B58.474887%2C%2016.401999%5D%2C%20%5B59.395575%2C%2018.093338%5D%2C%20%5B59.401645%2C%2018.353442%5D%2C%20%5B59.422261%2C%2018.468622%5D%2C%20%5B59.272256%2C%2018.727697%5D%2C%20%5B59.403835%2C%2018.109803%5D%2C%20%5B59.302309%2C%2017.881956%5D%2C%20%5B59.303001%2C%2018.737977%5D%2C%20%5B59.324782%2C%2018.076552%5D%2C%20%5B59.226883%2C%2018.634103%5D%2C%20%5B59.329162%2C%2018.175072%5D%2C%20%5B59.325805%2C%2018.443425%5D%2C%20%5B58.384386%2C%2012.309209%5D%2C%20%5B59.308483%2C%2017.981339%5D%2C%20%5B59.443998%2C%2018.417898%5D%2C%20%5B56.164923%2C%2015.511276%5D%2C%20%5B59.438037%2C%2018.375401%5D%2C%20%5B57.887407%2C%2011.595819%5D%2C%20%5B59.374101%2C%2018.699855%5D%2C%20%5B59.427914%2C%2018.740477%5D%2C%20%5B59.548105%2C%2018.574377%5D%2C%20%5B57.773183%2C%2011.616592%5D%2C%20%5B58.970455%2C%2018.326848%5D%2C%20%5B59.43469%2C%2017.957621%5D%2C%20%5B55.819019%2C%2012.838445%5D%2C%20%5B59.343561%2C%2018.006342%5D%2C%20%5B59.447451%2C%2018.377262%5D%2C%20%5B64.518107%2C%2021.413332%5D%2C%20%5B59.343481%2C%2018.894935%5D%2C%20%5B59.642485%2C%2019.020852%5D%2C%20%5B59.390263%2C%2018.708297%5D%2C%20%5B59.414827%2C%2018.738367%5D%2C%20%5B59.250895%2C%2018.738729%5D%2C%20%5B59.325901%2C%2018.15361%5D%2C%20%5B59.462621%2C%2018.320993%5D%2C%20%5B59.116874%2C%2018.393077%5D%2C%20%5B59.389757%2C%2018.892888%5D%2C%20%5B57.783472%2C%2016.732903%5D%2C%20%5B59.435775%2C%2018.231625%5D%2C%20%5B59.288241%2C%2018.62725%5D%2C%20%5B59.39692%2C%2018.643177%5D%2C%20%5B58.33081%2C%2011.902556%5D%2C%20%5B59.306893%2C%2018.10142%5D%2C%20%5B59.435668%2C%2018.197285%5D%2C%20%5B59.296901%2C%2018.664275%5D%2C%20%5B59.132796%2C%2018.789714%5D%2C%20%5B59.332805%2C%2018.301872%5D%2C%20%5B59.307398%2C%2018.101795%5D%2C%20%5B59.348483%2C%2018.223742%5D%2C%20%5B59.407205%2C%2018.320938%5D%2C%20%5B59.618291%2C%2018.78342%5D%2C%20%5B59.087882%2C%2018.396725%5D%2C%20%5B59.635254%2C%2018.921787%5D%2C%20%5B57.321364%2C%2016.584093%5D%2C%20%5B59.396358%2C%2018.09938%5D%2C%20%5B59.07264%2C%2018.340129%5D%2C%20%5B62.937503%2C%2016.111464%5D%2C%20%5B59.615135%2C%2018.888559%5D%2C%20%5B60.341041%2C%2018.442618%5D%2C%20%5B59.409251%2C%2018.610858%5D%2C%20%5B59.402876%2C%2018.355597%5D%2C%20%5B58.131826%2C%2012.120021%5D%2C%20%5B59.262046%2C%2017.860412%5D%2C%20%5B59.468166%2C%2018.721818%5D%2C%20%5B59.766999%2C%2019.031161%5D%2C%20%5B59.320283%2C%2017.891539%5D%2C%20%5B59.302912%2C%2018.665377%5D%2C%20%5B58.109514%2C%2011.464905%5D%2C%20%5B59.553138%2C%2017.535966%5D%2C%20%5B59.401805%2C%2017.854781%5D%2C%20%5B59.430605%2C%2018.619506%5D%2C%20%5B59.077626%2C%2018.192753%5D%2C%20%5B59.466316%2C%2018.754557%5D%2C%20%5B56.775972%2C%2016.478293%5D%2C%20%5B59.409854%2C%2018.389784%5D%2C%20%5B59.419671%2C%2018.377565%5D%2C%20%5B56.28007%2C%2012.718541%5D%2C%20%5B59.369757%2C%2018.631334%5D%2C%20%5B59.4531%2C%2016.433704%5D%2C%20%5B59.400738%2C%2018.340031%5D%2C%20%5B59.31652%2C%2018.12443%5D%2C%20%5B59.167269%2C%2018.587374%5D%2C%20%5B56.727315%2C%2012.641878%5D%2C%20%5B59.285732%2C%2018.703919%5D%2C%20%5B57.761997%2C%2011.80335%5D%2C%20%5B60.143193%2C%2015.415992%5D%2C%20%5B59.320685%2C%2018.038685%5D%2C%20%5B58.344655%2C%2016.731895%5D%2C%20%5B59.42035%2C%2018.349656%5D%2C%20%5B58.533565%2C%2015.038512%5D%2C%20%5B59.299495%2C%2018.243512%5D%2C%20%5B59.402212%2C%2018.356052%5D%2C%20%5B59.325765%2C%2018.365018%5D%2C%20%5B57.975979%2C%2013.165143%5D%2C%20%5B59.191287%2C%2018.397356%5D%2C%20%5B59.488616%2C%2018.884331%5D%2C%20%5B58.081468%2C%2016.832727%5D%2C%20%5B59.441109%2C%2017.770694%5D%2C%20%5B59.452949%2C%2018.50466%5D%2C%20%5B59.34021%2C%2018.021961%5D%2C%20%5B57.761276%2C%2011.789607%5D%2C%20%5B59.453608%2C%2018.373775%5D%2C%20%5B59.317714%2C%2017.895489%5D%2C%20%5B58.889474%2C%2014.873389%5D%2C%20%5B58.991244%2C%2018.449567%5D%2C%20%5B59.325249%2C%2017.277769%5D%2C%20%5B57.756743%2C%2016.633138%5D%2C%20%5B57.509206%2C%2011.921263%5D%2C%20%5B58.902%2C%2017.953824%5D%2C%20%5B59.745477%2C%2018.922044%5D%2C%20%5B58.921561%2C%2017.58619%5D%2C%20%5B59.396069%2C%2018.363177%5D%2C%20%5B57.258897%2C%2017.057763%5D%2C%20%5B59.048847%2C%2017.696704%5D%2C%20%5B59.290744%2C%2018.926691%5D%2C%20%5B59.167869%2C%2018.684843%5D%2C%20%5B59.437159%2C%2018.641777%5D%2C%20%5B59.441213%2C%2018.920292%5D%2C%20%5B59.30098%2C%2018.648174%5D%2C%20%5B60.102386%2C%2018.801242%5D%2C%20%5B61.678107%2C%2016.160477%5D%2C%20%5B57.750028%2C%2011.65393%5D%2C%20%5B58.683043%2C%2014.817784%5D%2C%20%5B59.303366%2C%2018.076034%5D%2C%20%5B63.170774%2C%2018.693096%5D%2C%20%5B59.30804%2C%2018.294226%5D%2C%20%5B57.264753%2C%2011.033738%5D%2C%20%5B57.071415%2C%2016.854468%5D%2C%20%5B57.70405%2C%2016.76435%5D%2C%20%5B57.328375%2C%2017.001799%5D%2C%20%5B58.227774%2C%2011.380143%5D%2C%20%5B57.588798%2C%2011.856342%5D%2C%20%5B59.437444%2C%2018.142485%5D%2C%20%5B56.426861%2C%2012.625008%5D%2C%20%5B59.365421%2C%2019.120441%5D%2C%20%5B59.452263%2C%2018.468588%5D%2C%20%5B59.300384%2C%2018.649378%5D%2C%20%5B59.391033%2C%2018.107476%5D%2C%20%5B59.678262%2C%2017.638264%5D%2C%20%5B59.242118%2C%2017.87035%5D%2C%20%5B58.878746%2C%2017.960386%5D%2C%20%5B57.734883%2C%2016.697173%5D%2C%20%5B57.685018%2C%2011.889936%5D%2C%20%5B59.493459%2C%2016.981131%5D%2C%20%5B58.898731%2C%2011.126128%5D%2C%20%5B59.182741%2C%2018.786312%5D%2C%20%5B59.401065%2C%2018.350983%5D%2C%20%5B59.45799%2C%2018.67333%5D%2C%20%5B59.466757%2C%2018.754957%5D%2C%20%5B59.516808%2C%2018.791919%5D%2C%20%5B58.74373%2C%2017.023033%5D%2C%20%5B59.050418%2C%2018.064573%5D%2C%20%5B59.303045%2C%2018.803418%5D%2C%20%5B58.635645%2C%2016.597553%5D%2C%20%5B59.17225%2C%2018.656924%5D%2C%20%5B59.288424%2C%2018.915895%5D%2C%20%5B59.416631%2C%2018.731805%5D%2C%20%5B59.425623%2C%2018.737032%5D%2C%20%5B59.765612%2C%2019.031621%5D%2C%20%5B59.034876%2C%2018.373632%5D%2C%20%5B59.675804%2C%2018.744089%5D%2C%20%5B59.355653%2C%2018.841802%5D%2C%20%5B59.316283%2C%2018.151321%5D%2C%20%5B59.253428%2C%2018.624864%5D%2C%20%5B59.425498%2C%2018.704556%5D%2C%20%5B59.286954%2C%2018.705371%5D%2C%20%5B59.455366%2C%2018.811602%5D%2C%20%5B59.593902%2C%2019.149323%5D%2C%20%5B59.293527%2C%2017.648724%5D%2C%20%5B59.462395%2C%2018.931695%5D%2C%20%5B54.891704%2C%2010.622381%5D%2C%20%5B59.407187%2C%2018.320002%5D%2C%20%5B59.401527%2C%2018.350874%5D%2C%20%5B58.717346%2C%2013.214605%5D%2C%20%5B59.368766%2C%2018.113634%5D%2C%20%5B59.298339%2C%2018.65052%5D%2C%20%5B58.178936%2C%2011.404179%5D%2C%20%5B59.192355%2C%2018.718201%5D%2C%20%5B59.374593%2C%2016.41737%5D%2C%20%5B58.173468%2C%2016.865248%5D%2C%20%5B59.364037%2C%2019.128445%5D%2C%20%5B58.705465%2C%2014.129237%5D%2C%20%5B57.791969%2C%2011.680151%5D%2C%20%5B55.864238%2C%2012.813777%5D%2C%20%5B59.326585%2C%2017.386937%5D%2C%20%5B59.326544%2C%2018.094433%5D%2C%20%5B59.129418%2C%2018.404348%5D%2C%20%5B59.503613%2C%2018.854481%5D%2C%20%5B59.446303%2C%2013.165384%5D%2C%20%5B59.017056%2C%2018.275446%5D%2C%20%5B59.289843%2C%2018.911764%5D%2C%20%5B59.093618%2C%2018.723476%5D%2C%20%5B59.292428%2C%2018.9183%5D%2C%20%5B59.076225%2C%2018.619365%5D%2C%20%5B59.171762%2C%2018.666264%5D%2C%20%5B58.86591%2C%2017.925146%5D%2C%20%5B59.358443%2C%2017.829318%5D%2C%20%5B58.234773%2C%2011.428809%5D%2C%20%5B59.300185%2C%2018.699903%5D%2C%20%5B59.413223%2C%2018.367796%5D%2C%20%5B59.152572%2C%2018.465139%5D%2C%20%5B59.459924%2C%2018.68713%5D%2C%20%5B59.283322%2C%2018.310164%5D%2C%20%5B59.2882%2C%2018.91671%5D%2C%20%5B59.426843%2C%2018.643555%5D%2C%20%5B58.697559%2C%2011.216257%5D%2C%20%5B59.298792%2C%2018.211941%5D%2C%20%5B58.482606%2C%2014.912324%5D%2C%20%5B57.886302%2C%2011.589857%5D%2C%20%5B57.661528%2C%2011.841671%5D%2C%20%5B57.80171%2C%2016.799146%5D%2C%20%5B57.907474%2C%2016.819538%5D%2C%20%5B59.566233%2C%2018.676655%5D%2C%20%5B59.440155%2C%2018.623547%5D%2C%20%5B59.370313%2C%2018.338079%5D%2C%20%5B59.364775%2C%2017.205481%5D%2C%20%5B59.412149%2C%2018.16348%5D%2C%20%5B59.42531%2C%2018.738318%5D%2C%20%5B59.405826%2C%2017.763197%5D%2C%20%5B59.486835%2C%2018.451569%5D%2C%20%5B58.062624%2C%2011.450439%5D%2C%20%5B60.33896%2C%2018.442698%5D%2C%20%5B59.780293%2C%2019.019768%5D%2C%20%5B59.400956%2C%2018.351178%5D%2C%20%5B59.468015%2C%2018.743927%5D%2C%20%5B58.1842%2C%2011.465852%5D%2C%20%5B59.394179%2C%2018.453332%5D%2C%20%5B57.709819%2C%2011.704812%5D%2C%20%5B58.76993%2C%2017.858424%5D%2C%20%5B59.386359%2C%2018.188163%5D%2C%20%5B59.389802%2C%2018.182363%5D%2C%20%5B57.769839%2C%2016.623029%5D%2C%20%5B57.604756%2C%2011.79105%5D%2C%20%5B59.381274%2C%2018.35703%5D%2C%20%5B57.89168%2C%2011.684565%5D%2C%20%5B58.804357%2C%2013.235898%5D%2C%20%5B59.221111%2C%2018.5375%5D%2C%20%5B59.334639%2C%2018.210785%5D%2C%20%5B59.421462%2C%2018.450433%5D%2C%20%5B57.266593%2C%2016.453756%5D%2C%20%5B59.32423%2C%2018.380677%5D%2C%20%5B55.585108%2C%2012.91909%5D%2C%20%5B57.886405%2C%2011.598226%5D%2C%20%5B58.310977%2C%2012.315017%5D%2C%20%5B57.75688%2C%2011.67255%5D%2C%20%5B57.537502%2C%2016.707012%5D%2C%20%5B59.481327%2C%2018.826006%5D%2C%20%5B59.318017%2C%2017.94488%5D%2C%20%5B59.290833%2C%2018.92709%5D%2C%20%5B57.701748%2C%2011.641559%5D%2C%20%5B59.453825%2C%2017.457188%5D%2C%20%5B56.093823%2C%2015.855281%5D%2C%20%5B58.212613%2C%2011.418617%5D%2C%20%5B58.247304%2C%2011.290044%5D%2C%20%5B59.706481%2C%2017.53678%5D%2C%20%5B59.462237%2C%2018.776746%5D%2C%20%5B59.225977%2C%2018.595278%5D%2C%20%5B57.7299%2C%2011.721292%5D%2C%20%5B59.401242%2C%2018.352336%5D%2C%20%5B59.048272%2C%2018.522711%5D%2C%20%5B59.376918%2C%2018.852419%5D%2C%20%5B56.157618%2C%2015.567937%5D%2C%20%5B59.189916%2C%2018.570033%5D%2C%20%5B57.732998%2C%2011.673464%5D%2C%20%5B65.506875%2C%2022.360785%5D%2C%20%5B58.277975%2C%2011.508654%5D%2C%20%5B59.390607%2C%2017.017173%5D%2C%20%5B59.332205%2C%2018.179299%5D%2C%20%5B59.450568%2C%2018.900861%5D%2C%20%5B59.463894%2C%2018.711503%5D%2C%20%5B59.399808%2C%2018.654653%5D%2C%20%5B58.533757%2C%2014.521741%5D%2C%20%5B59.315148%2C%2018.110205%5D%2C%20%5B59.502974%2C%2018.635528%5D%2C%20%5B59.286764%2C%2018.542321%5D%2C%20%5B59.603978%2C%2018.712275%5D%2C%20%5B59.425304%2C%2018.657548%5D%2C%20%5B59.41995%2C%2018.970302%5D%2C%20%5B58.277229%2C%2011.423724%5D%2C%20%5B59.238092%2C%2018.405033%5D%2C%20%5B59.441761%2C%2019.206705%5D%2C%20%5B59.469717%2C%2018.770672%5D%2C%20%5B59.443696%2C%2018.779905%5D%2C%20%5B59.052151%2C%2018.433012%5D%2C%20%5B59.713675%2C%2019.046668%5D%2C%20%5B58.970572%2C%2018.324092%5D%2C%20%5B59.480687%2C%2018.824001%5D%2C%20%5B61.659746%2C%2017.206469%5D%2C%20%5B59.298914%2C%2018.277442%5D%2C%20%5B59.513935%2C%2019.363434%5D%2C%20%5B55.895365%2C%2012.803423%5D%2C%20%5B59.323252%2C%2018.181644%5D%2C%20%5B55.514709%2C%2014.350135%5D%2C%20%5B59.431408%2C%2019.207055%5D%2C%20%5B61.856554%2C%2021.469626%5D%2C%20%5B57.945893%2C%2016.820496%5D%2C%20%5B56.172809%2C%2014.819878%5D%2C%20%5B59.3%2C%2018.866667%5D%2C%20%5B57.885393%2C%2011.586101%5D%2C%20%5B59.537711%2C%2018.749955%5D%2C%20%5B58.93576%2C%2018.180663%5D%2C%20%5B59.502709%2C%2018.84563%5D%2C%20%5B58.759013%2C%2017.352824%5D%2C%20%5B58.631856%2C%2017.029801%5D%2C%20%5B59.282177%2C%2017.83685%5D%2C%20%5B59.843771%2C%2017.653893%5D%2C%20%5B59.463375%2C%2018.722033%5D%2C%20%5B58.440891%2C%2011.295506%5D%2C%20%5B59.245034%2C%2018.384947%5D%2C%20%5B59.632013%2C%2019.277438%5D%2C%20%5B58.923201%2C%2017.586883%5D%2C%20%5B59.234064%2C%2018.469824%5D%2C%20%5B58.008601%2C%2011.525995%5D%2C%20%5B58.364641%2C%2011.246105%5D%2C%20%5B57.952888%2C%2011.753176%5D%2C%20%5B59.407907%2C%2018.640863%5D%2C%20%5B59.378083%2C%2018.764094%5D%2C%20%5B59.359307%2C%2017.229571%5D%2C%20%5B59.354316%2C%2018.32547%5D%2C%20%5B58.92281%2C%2012.306717%5D%2C%20%5B59.342924%2C%2018.212452%5D%2C%20%5B59.448877%2C%2018.737867%5D%2C%20%5B59.40113%2C%2018.351352%5D%2C%20%5B58.735257%2C%2017.434496%5D%2C%20%5B59.463741%2C%2017.780247%5D%2C%20%5B58.893255%2C%2017.954984%5D%2C%20%5B56.78355%2C%2015.132564%5D%2C%20%5B57.63787%2C%2018.280462%5D%2C%20%5B59.162496%2C%2018.706654%5D%2C%20%5B59.267249%2C%2018.309079%5D%2C%20%5B59.285904%2C%2018.558254%5D%2C%20%5B59.303148%2C%2018.060426%5D%2C%20%5B59.392157%2C%2018.365268%5D%2C%20%5B59.264057%2C%2018.554253%5D%2C%20%5B56.001547%2C%2014.730994%5D%2C%20%5B58.836752%2C%2013.981287%5D%2C%20%5B59.41857%2C%2018.32998%5D%2C%20%5B56.158816%2C%2015.5972%5D%2C%20%5B59.171154%2C%2018.639043%5D%2C%20%5B59.419096%2C%2018.548591%5D%2C%20%5B55.958333%2C%2014.566667%5D%2C%20%5B59.400742%2C%2018.352964%5D%2C%20%5B59.288115%2C%2018.920602%5D%2C%20%5B57.691672%2C%2011.909158%5D%2C%20%5B59.971591%2C%2018.902066%5D%2C%20%5B59.433786%2C%2016.166917%5D%2C%20%5B59.401206%2C%2018.351202%5D%2C%20%5B57.613527%2C%2011.803334%5D%2C%20%5B59.426297%2C%2019.196016%5D%2C%20%5B65.73866%2C%2023.715747%5D%2C%20%5B59.48042%2C%2018.803872%5D%2C%20%5B57.681742%2C%2011.645694%5D%2C%20%5B59.152562%2C%2018.46848%5D%2C%20%5B59.404314%2C%2018.66256%5D%2C%20%5B59.401431%2C%2018.352794%5D%2C%20%5B56.158213%2C%2015.598694%5D%2C%20%5B58.968872%2C%2018.319156%5D%2C%20%5B56.172296%2C%2015.597589%5D%2C%20%5B59.401199%2C%2018.351207%5D%2C%20%5B59.288343%2C%2018.916443%5D%2C%20%5B59.553914%2C%2018.623039%5D%2C%20%5B59.226213%2C%2018.588261%5D%2C%20%5B59.288824%2C%2018.915504%5D%2C%20%5B59.680623%2C%2019.022864%5D%2C%20%5B55.590951%2C%2012.678425%5D%2C%20%5B59.034484%2C%2018.354483%5D%2C%20%5B58.962092%2C%2018.304188%5D%2C%20%5B59.425749%2C%2018.704835%5D%2C%20%5B65.75053%2C%2023.815127%5D%2C%20%5B59.370426%2C%2019.141463%5D%2C%20%5B58.132158%2C%2012.124134%5D%2C%20%5B59.313343%2C%2018.033377%5D%2C%20%5B59.405838%2C%2018.109398%5D%2C%20%5B59.261432%2C%2012.359681%5D%2C%20%5B57.952671%2C%2019.081843%5D%2C%20%5B59.852481%2C%2019.134466%5D%2C%20%5B59.396823%2C%2018.143643%5D%2C%20%5B59.371878%2C%2018.651323%5D%2C%20%5B59.291982%2C%2018.696152%5D%2C%20%5B59.299879%2C%2018.649418%5D%2C%20%5B57.667584%2C%2011.849045%5D%2C%20%5B59.260613%2C%2017.853153%5D%2C%20%5B59.374405%2C%2018.412004%5D%2C%20%5B59.205618%2C%2018.352525%5D%2C%20%5B59.129703%2C%2018.406484%5D%2C%20%5B60.67957%2C%2017.181176%5D%2C%20%5B58.153717%2C%2011.390268%5D%2C%20%5B57.259923%2C%2016.483741%5D%2C%20%5B59.500918%2C%2016.98144%5D%2C%20%5B59.307701%2C%2017.975457%5D%2C%20%5B59.102196%2C%2018.401441%5D%2C%20%5B59.34371%2C%2018.711935%5D%2C%20%5B59.135545%2C%2018.401708%5D%2C%20%5B59.502342%2C%2016.984836%5D%2C%20%5B55.921083%2C%2012.679624%5D%2C%20%5B59.315614%2C%2018.02798%5D%2C%20%5B59.291067%2C%2017.853752%5D%2C%20%5B59.111283%2C%2018.489175%5D%2C%20%5B57.938671%2C%2011.560726%5D%2C%20%5B59.419033%2C%2018.972115%5D%2C%20%5B59.373535%2C%2018.656348%5D%2C%20%5B59.320666%2C%2018.729838%5D%2C%20%5B59.146557%2C%2018.458343%5D%2C%20%5B58.867468%2C%2017.653501%5D%2C%20%5B59.418421%2C%2017.764764%5D%2C%20%5B56.16122%2C%2015.598618%5D%2C%20%5B59.414167%2C%2018.556198%5D%2C%20%5B58.360166%2C%2011.411197%5D%2C%20%5B59.436268%2C%2019.200449%5D%2C%20%5B59.255648%2C%2018.279104%5D%2C%20%5B59.478927%2C%2018.809517%5D%2C%20%5B59.242698%2C%2018.630415%5D%2C%20%5B57.709353%2C%2011.705244%5D%2C%20%5B59.216249%2C%2018.418085%5D%2C%20%5B59.317412%2C%2018.688841%5D%2C%20%5B59.42078%2C%2018.977152%5D%2C%20%5B59.303075%2C%2018.077449%5D%2C%20%5B59.323782%2C%2017.996691%5D%2C%20%5B59.206814%2C%2018.3688%5D%2C%20%5B59.484944%2C%2016.823828%5D%2C%20%5B59.055116%2C%2018.490252%5D%2C%20%5B59.462324%2C%2018.320624%5D%2C%20%5B59.425902%2C%2018.704391%5D%2C%20%5B59.124401%2C%2018.365323%5D%2C%20%5B57.720269%2C%2011.978859%5D%2C%20%5B59.427868%2C%2018.426063%5D%2C%20%5B59.389785%2C%2018.54617%5D%2C%20%5B59.424553%2C%2018.35024%5D%2C%20%5B59.17698%2C%2018.558531%5D%2C%20%5B59.190526%2C%2018.720258%5D%2C%20%5B59.466327%2C%2018.75459%5D%2C%20%5B59.302914%2C%2018.107759%5D%2C%20%5B59.939816%2C%2018.847393%5D%2C%20%5B59.414427%2C%2018.554564%5D%2C%20%5B59.297399%2C%2018.861982%5D%2C%20%5B58.801033%2C%2017.836107%5D%2C%20%5B59.068615%2C%2018.222863%5D%2C%20%5B59.273024%2C%2018.672463%5D%2C%20%5B59.369856%2C%2018.605612%5D%2C%20%5B59.418259%2C%2019.014704%5D%2C%20%5B60.679552%2C%2017.180482%5D%2C%20%5B60.680577%2C%2017.214075%5D%2C%20%5B56.66973%2C%2012.857997%5D%2C%20%5B60.729552%2C%2017.306345%5D%2C%20%5B59.613035%2C%2017.716799%5D%2C%20%5B59.329329%2C%2018.0882%5D%2C%20%5B57.866399%2C%2011.639637%5D%2C%20%5B58.563624%2C%2011.183828%5D%2C%20%5B58.900158%2C%2017.951887%5D%2C%20%5B59.386924%2C%2013.561527%5D%2C%20%5B58.213059%2C%2011.416075%5D%2C%20%5B55.860703%2C%2012.850862%5D%2C%20%5B57.711277%2C%2011.961924%5D%2C%20%5B55.92918%2C%2012.715912%5D%2C%20%5B58.116163%2C%2016.845022%5D%2C%20%5B59.343754%2C%2018.005584%5D%2C%20%5B57.886333%2C%2011.594095%5D%2C%20%5B59.293864%2C%2018.669306%5D%2C%20%5B59.401457%2C%2018.350987%5D%2C%20%5B55.584358%2C%2012.918037%5D%2C%20%5B59.433737%2C%2017.957497%5D%2C%20%5B55.886271%2C%2012.556806%5D%2C%20%5B59.184597%2C%2018.700389%5D%2C%20%5B58.542869%2C%2012.918798%5D%2C%20%5B58.576836%2C%2011.261129%5D%2C%20%5B57.775831%2C%2011.745454%5D%2C%20%5B59.31089%2C%2017.883815%5D%2C%20%5B57.888539%2C%2011.587562%5D%2C%20%5B59.598606%2C%2018.693965%5D%2C%20%5B59.120664%2C%2018.306559%5D%2C%20%5B55.595982%2C%2012.93331%5D%2C%20%5B59.701393%2C%2015.150475%5D%2C%20%5B59.261255%2C%2017.232589%5D%2C%20%5B57.707514%2C%2011.974039%5D%2C%20%5B59.410772%2C%2018.896927%5D%2C%20%5B57.700065%2C%2011.736514%5D%2C%20%5B58.866298%2C%2016.592477%5D%2C%20%5B59.459351%2C%2018.316447%5D%2C%20%5B59.370484%2C%2018.677985%5D%2C%20%5B59.546296%2C%2013.34122%5D%2C%20%5B58.172878%2C%2011.456378%5D%2C%20%5B59.328853%2C%2018.315446%5D%2C%20%5B57.680792%2C%2011.874701%5D%2C%20%5B59.601638%2C%2016.54983%5D%2C%20%5B59.132822%2C%2018.411094%5D%2C%20%5B58.218918%2C%2011.410071%5D%2C%20%5B60.140428%2C%2018.608018%5D%2C%20%5B58.034818%2C%2015.033324%5D%2C%20%5B59.381117%2C%2018.050132%5D%2C%20%5B59.688231%2C%2018.792384%5D%2C%20%5B59.240669%2C%2018.45058%5D%2C%20%5B59.325938%2C%2018.024751%5D%2C%20%5B59.328226%2C%2018.17929%5D%2C%20%5B59.278016%2C%2018.703003%5D%2C%20%5B59.292344%2C%2018.918483%5D%2C%20%5B58.336532%2C%2011.701967%5D%2C%20%5B57.645675%2C%2011.852476%5D%2C%20%5B59.347956%2C%2018.32379%5D%2C%20%5B62.193997%2C%2017.512039%5D%2C%20%5B59.306715%2C%2018.055049%5D%2C%20%5B58.544153%2C%2016.947455%5D%2C%20%5B59.045747%2C%2018.051006%5D%2C%20%5B60.467261%2C%2026.935097%5D%2C%20%5B59.401462%2C%2018.352883%5D%2C%20%5B59.424444%2C%2018.081459%5D%2C%20%5B57.751989%2C%2011.699214%5D%2C%20%5B59.349198%2C%2017.853653%5D%2C%20%5B59.455687%2C%2018.358417%5D%2C%20%5B59.111992%2C%2018.437357%5D%2C%20%5B60.093423%2C%2018.766737%5D%2C%20%5B59.382433%2C%2018.328863%5D%2C%20%5B59.467306%2C%2018.518976%5D%2C%20%5B59.33361%2C%2018.46271%5D%2C%20%5B57.611361%2C%2011.59635%5D%2C%20%5B59.536649%2C%2018.577354%5D%2C%20%5B57.762378%2C%2016.645099%5D%2C%20%5B58.768956%2C%2014.842207%5D%2C%20%5B58.677648%2C%2017.020137%5D%2C%20%5B59.544876%2C%2019.292791%5D%2C%20%5B59.414136%2C%2018.556359%5D%2C%20%5B59.613068%2C%2017.6972%5D%2C%20%5B60.164798%2C%2018.715573%5D%2C%20%5B59.55233%2C%2018.80017%5D%2C%20%5B57.483271%2C%2011.930833%5D%2C%20%5B59.522598%2C%2018.54681%5D%2C%20%5B59.375288%2C%2017.799397%5D%2C%20%5B58.957949%2C%2018.295684%5D%2C%20%5B59.451699%2C%2018.578103%5D%2C%20%5B57.763758%2C%2016.644856%5D%2C%20%5B59.131287%2C%2018.592882%5D%2C%20%5B59.02359%2C%2018.229377%5D%2C%20%5B59.023447%2C%2018.229987%5D%2C%20%5B59.023498%2C%2018.229336%5D%2C%20%5B59.205058%2C%2018.366134%5D%2C%20%5B58.964619%2C%2017.752731%5D%2C%20%5B58.85066%2C%2014.936033%5D%2C%20%5B58.054842%2C%2011.589418%5D%2C%20%5B59.357275%2C%2018.314474%5D%2C%20%5B59.401783%2C%2018.819434%5D%2C%20%5B55.736456%2C%2013.006823%5D%2C%20%5B59.481564%2C%2018.804174%5D%2C%20%5B59.283681%2C%2017.88644%5D%2C%20%5B58.269957%2C%2011.435864%5D%2C%20%5B59.418364%2C%2018.792125%5D%2C%20%5B59.425449%2C%2018.705974%5D%2C%20%5B59.343181%2C%2017.999801%5D%2C%20%5B59.313716%2C%2017.932186%5D%2C%20%5B59.285913%2C%2018.704302%5D%2C%20%5B59.254319%2C%2015.5937%5D%2C%20%5B59.292389%2C%2018.66906%5D%2C%20%5B59.786108%2C%2017.659225%5D%2C%20%5B59.048733%2C%2017.689411%5D%2C%20%5B59.614367%2C%2017.872286%5D%2C%20%5B59.286362%2C%2018.545844%5D%2C%20%5B59.323196%2C%2018.181746%5D%2C%20%5B59.262732%2C%2018.372771%5D%2C%20%5B58.751322%2C%2017.338963%5D%2C%20%5B59.418093%2C%2018.342421%5D%2C%20%5B59.329452%2C%2018.088%5D%2C%20%5B58.907281%2C%2017.722784%5D%2C%20%5B58.906903%2C%2017.721346%5D%2C%20%5B58.908329%2C%2017.72126%5D%2C%20%5B57.900377%2C%2011.661127%5D%2C%20%5B59.413935%2C%2018.091424%5D%2C%20%5B59.418863%2C%2018.53634%5D%2C%20%5B59.380767%2C%2018.051186%5D%2C%20%5B59.258659%2C%2018.324825%5D%2C%20%5B59.067113%2C%2017.667685%5D%2C%20%5B59.314805%2C%2018.832498%5D%2C%20%5B59.436731%2C%2016.41063%5D%2C%20%5B55.974841%2C%2012.751677%5D%2C%20%5B59.377332%2C%2018.055408%5D%2C%20%5B58.651564%2C%2016.271263%5D%2C%20%5B59.620735%2C%2017.073595%5D%2C%20%5B59.361404%2C%2018.108207%5D%2C%20%5B59.47358%2C%2017.745887%5D%2C%20%5B56.096661%2C%2012.635572%5D%2C%20%5B58.49804%2C%2016.937916%5D%2C%20%5B56.139101%2C%2014.962564%5D%2C%20%5B59.45792%2C%2018.278688%5D%2C%20%5B59.406636%2C%2018.347994%5D%2C%20%5B59.120471%2C%2017.691515%5D%2C%20%5B57.620006%2C%2011.817185%5D%2C%20%5B58.74081%2C%2017.045046%5D%2C%20%5B59.477145%2C%2017.578566%5D%2C%20%5B59.308624%2C%2018.099145%5D%2C%20%5B59.31785%2C%2017.944845%5D%2C%20%5B59.320901%2C%2018.127039%5D%2C%20%5B59.222811%2C%2018.470995%5D%2C%20%5B59.137374%2C%2018.67141%5D%2C%20%5B59.343328%2C%2018.006107%5D%2C%20%5B59.17466%2C%2018.161335%5D%2C%20%5B59.44513%2C%2018.730548%5D%2C%20%5B59.318017%2C%2017.94488%5D%2C%20%5B59.474347%2C%2017.793608%5D%2C%20%5B59.513467%2C%2011.832573%5D%2C%20%5B58.529909%2C%2014.982994%5D%2C%20%5B59.348609%2C%2017.862949%5D%2C%20%5B59.403352%2C%2018.355576%5D%2C%20%5B59.434836%2C%2017.956463%5D%2C%20%5B59.294929%2C%2017.907251%5D%2C%20%5B59.372395%2C%2018.111884%5D%2C%20%5B60.3675%2C%2018.554486%5D%2C%20%5B59.702032%2C%2018.999157%5D%2C%20%5B58.90619%2C%2013.274619%5D%2C%20%5B59.274089%2C%2018.312072%5D%2C%20%5B59.469478%2C%2018.28989%5D%2C%20%5B59.466822%2C%2018.293549%5D%2C%20%5B58.851287%2C%2014.939462%5D%2C%20%5B58.624427%2C%2016.183857%5D%2C%20%5B58.52758%2C%2014.981258%5D%2C%20%5B59.425797%2C%2018.425645%5D%2C%20%5B59.569515%2C%2017.853173%5D%2C%20%5B57.587511%2C%2011.926174%5D%2C%20%5B59.30352%2C%2018.073094%5D%2C%20%5B58.783733%2C%2014.923013%5D%2C%20%5B58.78271%2C%2014.920518%5D%2C%20%5B58.21255%2C%2011.83637%5D%2C%20%5B59.222359%2C%2018.539005%5D%2C%20%5B59.284432%2C%2018.701948%5D%2C%20%5B59.331394%2C%2017.986494%5D%2C%20%5B59.4692%2C%2018.291021%5D%2C%20%5B57.699318%2C%2011.70505%5D%2C%20%5B60.331277%2C%2018.465864%5D%2C%20%5B59.221816%2C%2018.338236%5D%2C%20%5B59.457492%2C%2018.279267%5D%2C%20%5B65.786329%2C%2023.426294%5D%2C%20%5B59.153312%2C%2018.423559%5D%2C%20%5B59.467987%2C%2018.519494%5D%2C%20%5B58.352948%2C%2011.272248%5D%2C%20%5B59.391142%2C%2018.404637%5D%2C%20%5B59.353736%2C%2018.572644%5D%2C%20%5B58.946265%2C%2018.136021%5D%2C%20%5B59.326299%2C%2018.025795%5D%2C%20%5B65.843024%2C%2022.369154%5D%2C%20%5B58.841221%2C%2014.932225%5D%2C%20%5B59.357043%2C%2018.635263%5D%2C%20%5B58.929713%2C%2017.740864%5D%2C%20%5B58.872682%2C%2018.09775%5D%2C%20%5B59.428263%2C%2018.91254%5D%2C%20%5B59.389099%2C%2018.369596%5D%2C%20%5B59.455456%2C%2018.309235%5D%2C%20%5B55.75661%2C%2012.904779%5D%2C%20%5B59.372619%2C%2018.698463%5D%2C%20%5B59.403359%2C%2018.355601%5D%2C%20%5B57.883764%2C%2016.790377%5D%2C%20%5B59.322265%2C%2018.129751%5D%2C%20%5B58.662373%2C%2011.14573%5D%2C%20%5B59.371311%2C%2018.698736%5D%2C%20%5B59.302039%2C%2018.072709%5D%2C%20%5B57.889475%2C%2012.037437%5D%2C%20%5B59.375992%2C%2018.915206%5D%2C%20%5B65.817911%2C%2024.050778%5D%2C%20%5B59.193733%2C%2017.802586%5D%2C%20%5B59.340389%2C%2018.005978%5D%2C%20%5B59.350874%2C%2018.680376%5D%2C%20%5B58.960733%2C%2017.703749%5D%2C%20%5B57.922426%2C%2018.700112%5D%2C%20%5B59.390607%2C%2018.144806%5D%2C%20%5B57.660465%2C%2011.852434%5D%2C%20%5B59.325234%2C%2018.042839%5D%2C%20%5B60.679577%2C%2017.182605%5D%2C%20%5B62.985582%2C%2018.432259%5D%2C%20%5B57.587027%2C%2011.924609%5D%2C%20%5B59.401206%2C%2018.351202%5D%2C%20%5B59.349911%2C%2018.411276%5D%2C%20%5B59.599531%2C%2016.543983%5D%2C%20%5B59.288356%2C%2018.298928%5D%2C%20%5B56.156996%2C%2015.57654%5D%2C%20%5B59.522554%2C%2018.668479%5D%2C%20%5B59.303984%2C%2018.081212%5D%2C%20%5B59.407439%2C%2018.373501%5D%2C%20%5B59.660724%2C%2018.874857%5D%2C%20%5B59.660788%2C%2018.876147%5D%2C%20%5B59.472629%2C%2018.512006%5D%2C%20%5B59.473109%2C%2017.791962%5D%2C%20%5B58.218271%2C%2011.908893%5D%2C%20%5B58.754088%2C%2013.665105%5D%2C%20%5B59.26742%2C%2017.719904%5D%2C%20%5B57.686222%2C%2011.885571%5D%2C%20%5B59.359132%2C%2017.062174%5D%2C%20%5B57.890771%2C%2011.684983%5D%2C%20%5B56.929758%2C%2012.354378%5D%2C%20%5B59.689236%2C%2018.799896%5D%2C%20%5B57.647499%2C%2011.838112%5D%2C%20%5B58.201745%2C%2011.427184%5D%2C%20%5B59.173806%2C%2018.655809%5D%2C%20%5B59.286674%2C%2018.48778%5D%2C%20%5B59.306865%2C%2018.293351%5D%2C%20%5B59.257826%2C%2017.869962%5D%2C%20%5B59.553585%2C%2016.6089%5D%2C%20%5B56.150399%2C%2014.890214%5D%2C%20%5B56.152488%2C%2014.888422%5D%2C%20%5B57.661031%2C%2011.838959%5D%5D%2C%0A%20%20%20%20%20%20%20%20%20%20%20%20%20%20%20%20%7B%22blur%22%3A%2015%2C%20%22maxZoom%22%3A%2018%2C%20%22minOpacity%22%3A%200.5%2C%20%22radius%22%3A%2010%7D%0A%20%20%20%20%20%20%20%20%20%20%20%20%29.addTo%28map_eef35a1dd31b47788480a48e09673144%29%3B%0A%20%20%20%20%20%20%20%20%0A%3C/script%3E onload=\"this.contentDocument.open();this.contentDocument.write(    decodeURIComponent(this.getAttribute('data-html')));this.contentDocument.close();\" allowfullscreen webkitallowfullscreen mozallowfullscreen></iframe></div></div>"
      ],
      "text/plain": [
       "<folium.folium.Map at 0x7fa6b97bd3d0>"
      ]
     },
     "execution_count": 23,
     "metadata": {},
     "output_type": "execute_result"
    }
   ],
   "source": [
    "heatmap_geo(events)"
   ]
  },
  {
   "cell_type": "code",
   "execution_count": 24,
   "metadata": {},
   "outputs": [],
   "source": [
    "from descriptions.utils_description import verify_inside_poly,verify_inside_for_perm, get_name_poly,refill_geo"
   ]
  },
  {
   "cell_type": "code",
   "execution_count": 25,
   "metadata": {},
   "outputs": [],
   "source": [
    "# JSON DATA\n",
    "import geopandas as gpd\n",
    "from constantmanager import NAME_POLYGON\n",
    "Json_data=gpd.read_file('../../TM proyect/sweden-counties.geojson')"
   ]
  },
  {
   "cell_type": "code",
   "execution_count": 26,
   "metadata": {},
   "outputs": [
    {
     "data": {
      "text/html": [
       "<div>\n",
       "<style scoped>\n",
       "    .dataframe tbody tr th:only-of-type {\n",
       "        vertical-align: middle;\n",
       "    }\n",
       "\n",
       "    .dataframe tbody tr th {\n",
       "        vertical-align: top;\n",
       "    }\n",
       "\n",
       "    .dataframe thead th {\n",
       "        text-align: right;\n",
       "    }\n",
       "</style>\n",
       "<table border=\"1\" class=\"dataframe\">\n",
       "  <thead>\n",
       "    <tr style=\"text-align: right;\">\n",
       "      <th></th>\n",
       "      <th>name</th>\n",
       "      <th>cartodb_id</th>\n",
       "      <th>created_at</th>\n",
       "      <th>updated_at</th>\n",
       "      <th>geometry</th>\n",
       "    </tr>\n",
       "  </thead>\n",
       "  <tbody>\n",
       "    <tr>\n",
       "      <th>0</th>\n",
       "      <td>Stockholm</td>\n",
       "      <td>1</td>\n",
       "      <td>2014-09-16T07:35:21+00:00</td>\n",
       "      <td>2014-09-16T07:35:21+00:00</td>\n",
       "      <td>MULTIPOLYGON (((18.22066 58.91485, 18.19383 58...</td>\n",
       "    </tr>\n",
       "    <tr>\n",
       "      <th>1</th>\n",
       "      <td>Västmanland</td>\n",
       "      <td>15</td>\n",
       "      <td>2014-09-16T07:35:21+00:00</td>\n",
       "      <td>2014-09-16T07:35:21+00:00</td>\n",
       "      <td>MULTIPOLYGON (((15.53465 59.70831, 15.48160 59...</td>\n",
       "    </tr>\n",
       "    <tr>\n",
       "      <th>2</th>\n",
       "      <td>Värmland</td>\n",
       "      <td>13</td>\n",
       "      <td>2014-09-16T07:35:21+00:00</td>\n",
       "      <td>2014-09-16T07:35:21+00:00</td>\n",
       "      <td>MULTIPOLYGON (((13.10028 59.25040, 13.16590 59...</td>\n",
       "    </tr>\n",
       "  </tbody>\n",
       "</table>\n",
       "</div>"
      ],
      "text/plain": [
       "          name  cartodb_id                 created_at  \\\n",
       "0    Stockholm           1  2014-09-16T07:35:21+00:00   \n",
       "1  Västmanland          15  2014-09-16T07:35:21+00:00   \n",
       "2     Värmland          13  2014-09-16T07:35:21+00:00   \n",
       "\n",
       "                  updated_at  \\\n",
       "0  2014-09-16T07:35:21+00:00   \n",
       "1  2014-09-16T07:35:21+00:00   \n",
       "2  2014-09-16T07:35:21+00:00   \n",
       "\n",
       "                                            geometry  \n",
       "0  MULTIPOLYGON (((18.22066 58.91485, 18.19383 58...  \n",
       "1  MULTIPOLYGON (((15.53465 59.70831, 15.48160 59...  \n",
       "2  MULTIPOLYGON (((13.10028 59.25040, 13.16590 59...  "
      ]
     },
     "execution_count": 26,
     "metadata": {},
     "output_type": "execute_result"
    }
   ],
   "source": [
    "Json_data.head(3)"
   ]
  },
  {
   "cell_type": "code",
   "execution_count": 27,
   "metadata": {},
   "outputs": [
    {
     "data": {
      "text/plain": [
       "True"
      ]
     },
     "execution_count": 27,
     "metadata": {},
     "output_type": "execute_result"
    }
   ],
   "source": [
    "verify_inside_poly(Json_data.geometry.values[0],events[[LONGITUDE,LATITUDE]].values[0])"
   ]
  },
  {
   "cell_type": "code",
   "execution_count": 28,
   "metadata": {},
   "outputs": [
    {
     "data": {
      "text/plain": [
       "array([17.706564, 59.265804])"
      ]
     },
     "execution_count": 28,
     "metadata": {},
     "output_type": "execute_result"
    }
   ],
   "source": [
    "verify_inside_for_perm(Json_data.geometry.values[0],events[[LONGITUDE,LATITUDE]].values[0])"
   ]
  },
  {
   "cell_type": "code",
   "execution_count": 29,
   "metadata": {},
   "outputs": [
    {
     "data": {
      "text/plain": [
       "'Stockholm'"
      ]
     },
     "execution_count": 29,
     "metadata": {},
     "output_type": "execute_result"
    }
   ],
   "source": [
    "get_name_poly(Json_data,\"name\",events[[LONGITUDE,LATITUDE]].values[0])"
   ]
  },
  {
   "cell_type": "code",
   "execution_count": 30,
   "metadata": {},
   "outputs": [
    {
     "data": {
      "text/plain": [
       "array([['Stockholm', 17.706564, 59.265804],\n",
       "       [None, 0, 0],\n",
       "       ['Värmland', 13.091052, 59.332669],\n",
       "       ...,\n",
       "       [None, 0, 0],\n",
       "       [None, 0, 0],\n",
       "       [None, 0, 0]], dtype=object)"
      ]
     },
     "execution_count": 30,
     "metadata": {},
     "output_type": "execute_result"
    }
   ],
   "source": [
    "real_polys=refill_geo(events[[LONGITUDE,LATITUDE]].values,Json_data,\"name\")\n",
    "real_polys"
   ]
  },
  {
   "cell_type": "code",
   "execution_count": 31,
   "metadata": {},
   "outputs": [],
   "source": [
    "import numpy as np\n",
    "from descriptions.utils_description import map_polygons,merge_geoNdata"
   ]
  },
  {
   "cell_type": "code",
   "execution_count": 32,
   "metadata": {},
   "outputs": [],
   "source": [
    "events[['poly_name',LONGITUDE,LATITUDE]] = real_polys"
   ]
  },
  {
   "cell_type": "code",
   "execution_count": 33,
   "metadata": {},
   "outputs": [
    {
     "data": {
      "image/png": "[encoded data removed]",
      "text/plain": [
       "<Figure size 720x720 with 2 Axes>"
      ]
     },
     "execution_count": 33,
     "metadata": {},
     "output_type": "execute_result"
    }
   ],
   "source": [
    "map_polygons(merge_geoNdata(Json_data,\"name\",create_Subdata(events,[\"poly_name\"]),\"poly_name\"),FREQUENCY)"
   ]
  },
  {
   "cell_type": "code",
   "execution_count": 34,
   "metadata": {},
   "outputs": [],
   "source": [
    "from descriptions.utils_description import map_polygons_html"
   ]
  },
  {
   "cell_type": "code",
   "execution_count": 35,
   "metadata": {},
   "outputs": [
    {
     "name": "stderr",
     "output_type": "stream",
     "text": [
      "/home/combios/Desktop/TM/general_proyect/examples/../descriptions/utils_description.py:569: UserWarning:\n",
      "\n",
      "Geometry is in a geographic CRS. Results from 'centroid' are likely incorrect. Use 'GeoSeries.to_crs()' to re-project geometries to a projected CRS before this operation.\n",
      "\n",
      "\n",
      "/home/combios/Desktop/TM/general_proyect/examples/../descriptions/utils_description.py:570: UserWarning:\n",
      "\n",
      "Geometry is in a geographic CRS. Results from 'centroid' are likely incorrect. Use 'GeoSeries.to_crs()' to re-project geometries to a projected CRS before this operation.\n",
      "\n",
      "\n"
     ]
    },
    {
     "data": {
      "text/html": [
       "<div style=\"width:100%;\"><div style=\"position:relative;width:100%;height:0;padding-bottom:60%;\"><span style=\"color:#565656\">Make this Notebook Trusted to load map: File -> Trust Notebook</span><iframe src=\"about:blank\" style=\"position:absolute;width:100%;height:100%;left:0;top:0;border:none !important;\" data-html=%3C%21DOCTYPE%20html%3E%0A%3Chead%3E%20%20%20%20%0A%20%20%20%20%3Cmeta%20http-equiv%3D%22content-type%22%20content%3D%22text/html%3B%20charset%3DUTF-8%22%20/%3E%0A%20%20%20%20%0A%20%20%20%20%20%20%20%20%3Cscript%3E%0A%20%20%20%20%20%20%20%20%20%20%20%20L_NO_TOUCH%20%3D%20false%3B%0A%20%20%20%20%20%20%20%20%20%20%20%20L_DISABLE_3D%20%3D%20false%3B%0A%20%20%20%20%20%20%20%20%3C/script%3E%0A%20%20%20%20%0A%20%20%20%20%3Cstyle%3Ehtml%2C%20body%20%7Bwidth%3A%20100%25%3Bheight%3A%20100%25%3Bmargin%3A%200%3Bpadding%3A%200%3B%7D%3C/style%3E%0A%20%20%20%20%3Cstyle%3E%23map%20%7Bposition%3Aabsolute%3Btop%3A0%3Bbottom%3A0%3Bright%3A0%3Bleft%3A0%3B%7D%3C/style%3E%0A%20%20%20%20%3Cscript%20src%3D%22https%3A//cdn.jsdelivr.net/npm/leaflet%401.6.0/dist/leaflet.js%22%3E%3C/script%3E%0A%20%20%20%20%3Cscript%20src%3D%22https%3A//code.jquery.com/jquery-1.12.4.min.js%22%3E%3C/script%3E%0A%20%20%20%20%3Cscript%20src%3D%22https%3A//maxcdn.bootstrapcdn.com/bootstrap/3.2.0/js/bootstrap.min.js%22%3E%3C/script%3E%0A%20%20%20%20%3Cscript%20src%3D%22https%3A//cdnjs.cloudflare.com/ajax/libs/Leaflet.awesome-markers/2.0.2/leaflet.awesome-markers.js%22%3E%3C/script%3E%0A%20%20%20%20%3Clink%20rel%3D%22stylesheet%22%20href%3D%22https%3A//cdn.jsdelivr.net/npm/leaflet%401.6.0/dist/leaflet.css%22/%3E%0A%20%20%20%20%3Clink%20rel%3D%22stylesheet%22%20href%3D%22https%3A//maxcdn.bootstrapcdn.com/bootstrap/3.2.0/css/bootstrap.min.css%22/%3E%0A%20%20%20%20%3Clink%20rel%3D%22stylesheet%22%20href%3D%22https%3A//maxcdn.bootstrapcdn.com/bootstrap/3.2.0/css/bootstrap-theme.min.css%22/%3E%0A%20%20%20%20%3Clink%20rel%3D%22stylesheet%22%20href%3D%22https%3A//maxcdn.bootstrapcdn.com/font-awesome/4.6.3/css/font-awesome.min.css%22/%3E%0A%20%20%20%20%3Clink%20rel%3D%22stylesheet%22%20href%3D%22https%3A//cdnjs.cloudflare.com/ajax/libs/Leaflet.awesome-markers/2.0.2/leaflet.awesome-markers.css%22/%3E%0A%20%20%20%20%3Clink%20rel%3D%22stylesheet%22%20href%3D%22https%3A//cdn.jsdelivr.net/gh/python-visualization/folium/folium/templates/leaflet.awesome.rotate.min.css%22/%3E%0A%20%20%20%20%0A%20%20%20%20%20%20%20%20%20%20%20%20%3Cmeta%20name%3D%22viewport%22%20content%3D%22width%3Ddevice-width%2C%0A%20%20%20%20%20%20%20%20%20%20%20%20%20%20%20%20initial-scale%3D1.0%2C%20maximum-scale%3D1.0%2C%20user-scalable%3Dno%22%20/%3E%0A%20%20%20%20%20%20%20%20%20%20%20%20%3Cstyle%3E%0A%20%20%20%20%20%20%20%20%20%20%20%20%20%20%20%20%23map_a5b3333b31514985a21012c384d9dada%20%7B%0A%20%20%20%20%20%20%20%20%20%20%20%20%20%20%20%20%20%20%20%20position%3A%20relative%3B%0A%20%20%20%20%20%20%20%20%20%20%20%20%20%20%20%20%20%20%20%20width%3A%20100.0%25%3B%0A%20%20%20%20%20%20%20%20%20%20%20%20%20%20%20%20%20%20%20%20height%3A%20100.0%25%3B%0A%20%20%20%20%20%20%20%20%20%20%20%20%20%20%20%20%20%20%20%20left%3A%200.0%25%3B%0A%20%20%20%20%20%20%20%20%20%20%20%20%20%20%20%20%20%20%20%20top%3A%200.0%25%3B%0A%20%20%20%20%20%20%20%20%20%20%20%20%20%20%20%20%7D%0A%20%20%20%20%20%20%20%20%20%20%20%20%3C/style%3E%0A%20%20%20%20%20%20%20%20%0A%20%20%20%20%3Cscript%20src%3D%22https%3A//cdnjs.cloudflare.com/ajax/libs/d3/3.5.5/d3.min.js%22%3E%3C/script%3E%0A%20%20%20%20%0A%20%20%20%20%20%20%20%20%20%20%20%20%20%20%20%20%20%20%20%20%3Cstyle%3E%0A%20%20%20%20%20%20%20%20%20%20%20%20%20%20%20%20%20%20%20%20%20%20%20%20.foliumtooltip%20%7B%0A%20%20%20%20%20%20%20%20%20%20%20%20%20%20%20%20%20%20%20%20%20%20%20%20%20%20%20%20background-color%3A%20white%3B%20color%3A%20%23333333%3B%20font-family%3A%20arial%3B%20font-size%3A%2012px%3B%20padding%3A%2010px%3B%0A%20%20%20%20%20%20%20%20%20%20%20%20%20%20%20%20%20%20%20%20%20%20%20%20%7D%0A%20%20%20%20%20%20%20%20%20%20%20%20%20%20%20%20%20%20%20%20%20%20%20.foliumtooltip%20table%7B%0A%20%20%20%20%20%20%20%20%20%20%20%20%20%20%20%20%20%20%20%20%20%20%20%20%20%20%20%20margin%3A%20auto%3B%0A%20%20%20%20%20%20%20%20%20%20%20%20%20%20%20%20%20%20%20%20%20%20%20%20%7D%0A%20%20%20%20%20%20%20%20%20%20%20%20%20%20%20%20%20%20%20%20%20%20%20%20.foliumtooltip%20tr%7B%0A%20%20%20%20%20%20%20%20%20%20%20%20%20%20%20%20%20%20%20%20%20%20%20%20%20%20%20%20text-align%3A%20left%3B%0A%20%20%20%20%20%20%20%20%20%20%20%20%20%20%20%20%20%20%20%20%20%20%20%20%7D%0A%20%20%20%20%20%20%20%20%20%20%20%20%20%20%20%20%20%20%20%20%20%20%20%20.foliumtooltip%20th%7B%0A%20%20%20%20%20%20%20%20%20%20%20%20%20%20%20%20%20%20%20%20%20%20%20%20%20%20%20%20padding%3A%202px%3B%20padding-right%3A%208px%3B%0A%20%20%20%20%20%20%20%20%20%20%20%20%20%20%20%20%20%20%20%20%20%20%20%20%7D%0A%20%20%20%20%20%20%20%20%20%20%20%20%20%20%20%20%20%20%20%20%3C/style%3E%0A%20%20%20%20%20%20%20%20%20%20%20%20%0A%3C/head%3E%0A%3Cbody%3E%20%20%20%20%0A%20%20%20%20%0A%20%20%20%20%20%20%20%20%20%20%20%20%3Cdiv%20class%3D%22folium-map%22%20id%3D%22map_a5b3333b31514985a21012c384d9dada%22%20%3E%3C/div%3E%0A%20%20%20%20%20%20%20%20%0A%3C/body%3E%0A%3Cscript%3E%20%20%20%20%0A%20%20%20%20%0A%20%20%20%20%20%20%20%20%20%20%20%20var%20map_a5b3333b31514985a21012c384d9dada%20%3D%20L.map%28%0A%20%20%20%20%20%20%20%20%20%20%20%20%20%20%20%20%22map_a5b3333b31514985a21012c384d9dada%22%2C%0A%20%20%20%20%20%20%20%20%20%20%20%20%20%20%20%20%7B%0A%20%20%20%20%20%20%20%20%20%20%20%20%20%20%20%20%20%20%20%20center%3A%20%5B59.67568708881043%2C%2015.740768016527143%5D%2C%0A%20%20%20%20%20%20%20%20%20%20%20%20%20%20%20%20%20%20%20%20crs%3A%20L.CRS.EPSG3857%2C%0A%20%20%20%20%20%20%20%20%20%20%20%20%20%20%20%20%20%20%20%20zoom%3A%205%2C%0A%20%20%20%20%20%20%20%20%20%20%20%20%20%20%20%20%20%20%20%20zoomControl%3A%20true%2C%0A%20%20%20%20%20%20%20%20%20%20%20%20%20%20%20%20%20%20%20%20preferCanvas%3A%20false%2C%0A%20%20%20%20%20%20%20%20%20%20%20%20%20%20%20%20%7D%0A%20%20%20%20%20%20%20%20%20%20%20%20%29%3B%0A%0A%20%20%20%20%20%20%20%20%20%20%20%20%0A%20%20%20%20%20%20%20%20%20%20%20%20function%20objects_in_front%28%29%20%7B%0A%20%20%20%20%20%20%20%20%20%20%20%20%20%20%20%20%20%20%20%20geo_json_5c73c6f5eb6044b98f99154ade2270e2.bringToFront%28%29%3B%0A%20%20%20%20%20%20%20%20%20%20%20%20%7D%3B%0A%20%20%20%20%20%20%20%20%20%20%20%20map_a5b3333b31514985a21012c384d9dada.on%28%22overlayadd%22%2C%20objects_in_front%29%3B%0A%20%20%20%20%20%20%20%20%20%20%20%20%24%28document%29.ready%28objects_in_front%29%3B%0A%0A%20%20%20%20%20%20%20%20%0A%20%20%20%20%0A%20%20%20%20%20%20%20%20%20%20%20%20var%20tile_layer_53c3286837374482bc518d479198c805%20%3D%20L.tileLayer%28%0A%20%20%20%20%20%20%20%20%20%20%20%20%20%20%20%20%22https%3A//cartodb-basemaps-%7Bs%7D.global.ssl.fastly.net/light_all/%7Bz%7D/%7Bx%7D/%7By%7D.png%22%2C%0A%20%20%20%20%20%20%20%20%20%20%20%20%20%20%20%20%7B%22attribution%22%3A%20%22%5Cu0026copy%3B%20%5Cu003ca%20href%3D%5C%22http%3A//www.openstreetmap.org/copyright%5C%22%5Cu003eOpenStreetMap%5Cu003c/a%5Cu003e%20contributors%20%5Cu0026copy%3B%20%5Cu003ca%20href%3D%5C%22http%3A//cartodb.com/attributions%5C%22%5Cu003eCartoDB%5Cu003c/a%5Cu003e%2C%20CartoDB%20%5Cu003ca%20href%20%3D%5C%22http%3A//cartodb.com/attributions%5C%22%5Cu003eattributions%5Cu003c/a%5Cu003e%22%2C%20%22detectRetina%22%3A%20false%2C%20%22maxNativeZoom%22%3A%2018%2C%20%22maxZoom%22%3A%2018%2C%20%22minZoom%22%3A%200%2C%20%22noWrap%22%3A%20false%2C%20%22opacity%22%3A%201%2C%20%22subdomains%22%3A%20%22abc%22%2C%20%22tms%22%3A%20false%7D%0A%20%20%20%20%20%20%20%20%20%20%20%20%29.addTo%28map_a5b3333b31514985a21012c384d9dada%29%3B%0A%20%20%20%20%20%20%20%20%0A%20%20%20%20%0A%20%20%20%20%20%20%20%20%20%20%20%20var%20choropleth_6866993382dd444797401057356798b2%20%3D%20L.featureGroup%28%0A%20%20%20%20%20%20%20%20%20%20%20%20%20%20%20%20%7B%7D%0A%20%20%20%20%20%20%20%20%20%20%20%20%29.addTo%28map_a5b3333b31514985a21012c384d9dada%29%3B%0A%20%20%20%20%20%20%20%20%0A%20%20%20%20%0A%20%20%20%20%20%20%20%20function%20geo_json_ec14714c558b4fc1b629fd112770927d_styler%28feature%29%20%7B%0A%20%20%20%20%20%20%20%20%20%20%20%20switch%28feature.id%29%20%7B%0A%20%20%20%20%20%20%20%20%20%20%20%20%20%20%20%20case%20%22Stockholm%22%3A%20%0A%20%20%20%20%20%20%20%20%20%20%20%20%20%20%20%20%20%20%20%20return%20%7B%22color%22%3A%20%22black%22%2C%20%22fillColor%22%3A%20%22%23253494%22%2C%20%22fillOpacity%22%3A%200.5%2C%20%22opacity%22%3A%201%2C%20%22weight%22%3A%201%7D%3B%0A%20%20%20%20%20%20%20%20%20%20%20%20%20%20%20%20case%20%22V%5Cu00e4stra%20G%5Cu00f6taland%22%3A%20%0A%20%20%20%20%20%20%20%20%20%20%20%20%20%20%20%20%20%20%20%20return%20%7B%22color%22%3A%20%22black%22%2C%20%22fillColor%22%3A%20%22%23c7e9b4%22%2C%20%22fillOpacity%22%3A%200.5%2C%20%22opacity%22%3A%201%2C%20%22weight%22%3A%201%7D%3B%0A%20%20%20%20%20%20%20%20%20%20%20%20%20%20%20%20default%3A%0A%20%20%20%20%20%20%20%20%20%20%20%20%20%20%20%20%20%20%20%20return%20%7B%22color%22%3A%20%22black%22%2C%20%22fillColor%22%3A%20%22%23ffffcc%22%2C%20%22fillOpacity%22%3A%200.5%2C%20%22opacity%22%3A%201%2C%20%22weight%22%3A%201%7D%3B%0A%20%20%20%20%20%20%20%20%20%20%20%20%7D%0A%20%20%20%20%20%20%20%20%7D%0A%0A%20%20%20%20%20%20%20%20function%20geo_json_ec14714c558b4fc1b629fd112770927d_onEachFeature%28feature%2C%20layer%29%20%7B%0A%20%20%20%20%20%20%20%20%20%20%20%20layer.on%28%7B%0A%20%20%20%20%20%20%20%20%20%20%20%20%7D%29%3B%0A%20%20%20%20%20%20%20%20%7D%3B%0A%20%20%20%20%20%20%20%20var%20geo_json_ec14714c558b4fc1b629fd112770927d%20%3D%20L.geoJson%28null%2C%20%7B%0A%20%20%20%20%20%20%20%20%20%20%20%20%20%20%20%20smoothFactor%3A%200%2C%0A%20%20%20%20%20%20%20%20%20%20%20%20%20%20%20%20onEachFeature%3A%20geo_json_ec14714c558b4fc1b629fd112770927d_onEachFeature%2C%0A%20%20%20%20%20%20%20%20%20%20%20%20%0A%20%20%20%20%20%20%20%20%20%20%20%20%20%20%20%20style%3A%20geo_json_ec14714c558b4fc1b629fd112770927d_styler%2C%0A%20%20%20%20%20%20%20%20%7D%29%3B%0A%0A%20%20%20%20%20%20%20%20function%20geo_json_ec14714c558b4fc1b629fd112770927d_add%20%28data%29%20%7B%0A%20%20%20%20%20%20%20%20%20%20%20%20geo_json_ec14714c558b4fc1b629fd112770927d%0A%20%20%20%20%20%20%20%20%20%20%20%20%20%20%20%20.addData%28data%29%0A%20%20%20%20%20%20%20%20%20%20%20%20%20%20%20%20.addTo%28choropleth_6866993382dd444797401057356798b2%29%3B%0A%20%20%20%20%20%20%20%20%7D%0A%20%20%20%20%20%20%20%20%20%20%20%20geo_json_ec14714c558b4fc1b629fd112770927d_add%28%7B%22bbox%22%3A%20%5B11.131293%2C%2055.340044%2C%2024.149845%2C%2069.04774%5D%2C%20%22features%22%3A%20%5B%7B%22bbox%22%3A%20%5B17.2402%2C%2058.802358%2C%2019.084355%2C%2060.212805%5D%2C%20%22geometry%22%3A%20%7B%22coordinates%22%3A%20%5B%5B%5B%5B18.220655%2C%2058.91485%5D%2C%20%5B18.193831%2C%2058.916893%5D%2C%20%5B18.193392%2C%2058.924624%5D%2C%20%5B18.188053%2C%2058.9288%5D%2C%20%5B18.171758%2C%2058.921151%5D%2C%20%5B18.156478%2C%2058.916832%5D%2C%20%5B18.147338%2C%2058.915713%5D%2C%20%5B18.14697%2C%2058.924135%5D%2C%20%5B18.171306%2C%2058.934603%5D%2C%20%5B18.199549%2C%2058.94531%5D%2C%20%5B18.210995%2C%2058.949723%5D%2C%20%5B18.271648%2C%2058.967647%5D%2C%20%5B18.289367%2C%2058.964497%5D%2C%20%5B18.3221%2C%2058.974382%5D%2C%20%5B18.333256%2C%2058.981825%5D%2C%20%5B18.345373%2C%2058.986205%5D%2C%20%5B18.352715%2C%2058.982648%5D%2C%20%5B18.35147%2C%2058.971913%5D%2C%20%5B18.341859%2C%2058.966802%5D%2C%20%5B18.289962%2C%2058.952703%5D%2C%20%5B18.282019%2C%2058.945194%5D%2C%20%5B18.296826%2C%2058.939423%5D%2C%20%5B18.307072%2C%2058.933091%5D%2C%20%5B18.274589%2C%2058.924878%5D%2C%20%5B18.254858%2C%2058.927076%5D%2C%20%5B18.242295%2C%2058.924044%5D%2C%20%5B18.233213%2C%2058.917884%5D%2C%20%5B18.220655%2C%2058.91485%5D%5D%5D%2C%20%5B%5B%5B18.073404%2C%2058.971003%5D%2C%20%5B18.058293%2C%2058.968357%5D%2C%20%5B18.051991%2C%2058.969859%5D%2C%20%5B18.057964%2C%2058.977442%5D%2C%20%5B18.055924%2C%2058.988577%5D%2C%20%5B18.058954%2C%2058.99288%5D%2C%20%5B18.081424%2C%2059.003757%5D%2C%20%5B18.08333%2C%2059.009417%5D%2C%20%5B18.080998%2C%2059.017882%5D%2C%20%5B18.081178%2C%2059.019549%5D%2C%20%5B18.090344%2C%2059.026725%5D%2C%20%5B18.101561%2C%2059.028798%5D%2C%20%5B18.133728%2C%2059.027659%5D%2C%20%5B18.16169%2C%2059.035352%5D%2C%20%5B18.193524%2C%2059.030845%5D%2C%20%5B18.20579%2C%2059.03087%5D%2C%20%5B18.201266%2C%2059.024937%5D%2C%20%5B18.187286%2C%2059.021261%5D%2C%20%5B18.172392%2C%2059.020968%5D%2C%20%5B18.163148%2C%2059.013135%5D%2C%20%5B18.164196%2C%2059.005033%5D%2C%20%5B18.157301%2C%2059.001189%5D%2C%20%5B18.146015%2C%2059.00416%5D%2C%20%5B18.136424%2C%2058.999025%5D%2C%20%5B18.138763%2C%2058.990892%5D%2C%20%5B18.15031%2C%2058.978497%5D%2C%20%5B18.138839%2C%2058.973747%5D%2C%20%5B18.121254%2C%2058.972176%5D%2C%20%5B18.111361%2C%2058.976125%5D%2C%20%5B18.108356%2C%2058.984261%5D%2C%20%5B18.100404%2C%2058.988156%5D%2C%20%5B18.090424%2C%2058.985378%5D%2C%20%5B18.082916%2C%2058.975479%5D%2C%20%5B18.073404%2C%2058.971003%5D%5D%5D%2C%20%5B%5B%5B18.405631%2C%2059.010462%5D%2C%20%5B18.394058%2C%2059.010774%5D%2C%20%5B18.387944%2C%2059.019348%5D%2C%20%5B18.363574%2C%2059.015296%5D%2C%20%5B18.344953%2C%2059.02185%5D%2C%20%5B18.341099%2C%2059.033376%5D%2C%20%5B18.350188%2C%2059.039189%5D%2C%20%5B18.359754%2C%2059.043635%5D%2C%20%5B18.36469%2C%2059.047202%5D%2C%20%5B18.361842%2C%2059.050635%5D%2C%20%5B18.348775%2C%2059.049311%5D%2C%20%5B18.345434%2C%2059.05411%5D%2C%20%5B18.374735%2C%2059.072483%5D%2C%20%5B18.373862%2C%2059.0762%5D%2C%20%5B18.365665%2C%2059.078105%5D%2C%20%5B18.370564%2C%2059.081331%5D%2C%20%5B18.411055%2C%2059.08999%5D%2C%20%5B18.465161%2C%2059.120444%5D%2C%20%5B18.466625%2C%2059.121752%5D%2C%20%5B18.484829%2C%2059.100738%5D%2C%20%5B18.477913%2C%2059.091513%5D%2C%20%5B18.454017%2C%2059.081081%5D%2C%20%5B18.452444%2C%2059.067677%5D%2C%20%5B18.425671%2C%2059.054623%5D%2C%20%5B18.416893%2C%2059.01822%5D%2C%20%5B18.405631%2C%2059.010462%5D%5D%5D%2C%20%5B%5B%5B18.675986%2C%2059.205234%5D%2C%20%5B18.683414%2C%2059.212749%5D%2C%20%5B18.69393%2C%2059.21883%5D%2C%20%5B18.704637%2C%2059.216167%5D%2C%20%5B18.698645%2C%2059.20457%5D%2C%20%5B18.724723%2C%2059.210535%5D%2C%20%5B18.738223%2C%2059.209449%5D%2C%20%5B18.731892%2C%2059.200565%5D%2C%20%5B18.720341%2C%2059.196531%5D%2C%20%5B18.70259%2C%2059.194709%5D%2C%20%5B18.682536%2C%2059.190251%5D%2C%20%5B18.666427%2C%2059.186016%5D%2C%20%5B18.650039%2C%2059.179433%5D%2C%20%5B18.652813%2C%2059.186064%5D%2C%20%5B18.675986%2C%2059.205234%5D%5D%5D%2C%20%5B%5B%5B18.736569%2C%2059.28818%5D%2C%20%5B18.765911%2C%2059.298744%5D%2C%20%5B18.779756%2C%2059.300019%5D%2C%20%5B18.799998%2C%2059.29033%5D%2C%20%5B18.77699%2C%2059.278578%5D%2C%20%5B18.771376%2C%2059.265295%5D%2C%20%5B18.756347%2C%2059.259691%5D%2C%20%5B18.741868%2C%2059.263485%5D%2C%20%5B18.724618%2C%2059.260972%5D%2C%20%5B18.714259%2C%2059.261276%5D%2C%20%5B18.714149%2C%2059.270692%5D%2C%20%5B18.724202%2C%2059.283177%5D%2C%20%5B18.736569%2C%2059.28818%5D%5D%5D%2C%20%5B%5B%5B17.777515%2C%2059.096603%5D%2C%20%5B17.772393%2C%2059.110159%5D%2C%20%5B17.774107%2C%2059.120881%5D%2C%20%5B17.737907%2C%2059.108235%5D%2C%20%5B17.732073%2C%2059.101641%5D%2C%20%5B17.737399%2C%2059.083378%5D%2C%20%5B17.735588%2C%2059.071319%5D%2C%20%5B17.70533%2C%2059.065929%5D%2C%20%5B17.691281%2C%2059.067921%5D%2C%20%5B17.688868%2C%2059.083095%5D%2C%20%5B17.689553%2C%2059.096859%5D%2C%20%5B17.700994%2C%2059.11475%5D%2C%20%5B17.691577%2C%2059.142624%5D%2C%20%5B17.685497%2C%2059.149033%5D%2C%20%5B17.679416%2C%2059.159923%5D%2C%20%5B17.673725%2C%2059.168104%5D%2C%20%5B17.666902%2C%2059.171281%5D%2C%20%5B17.656725%2C%2059.166785%5D%2C%20%5B17.659099%2C%2059.157664%5D%2C%20%5B17.675791%2C%2059.14252%5D%2C%20%5B17.680758%2C%2059.126618%5D%2C%20%5B17.679825%2C%2059.116889%5D%2C%20%5B17.673517%2C%2059.111988%5D%2C%20%5B17.663695%2C%2059.110853%5D%2C%20%5B17.654787%2C%2059.11239%5D%2C%20%5B17.648393%2C%2059.106474%5D%2C%20%5B17.653092%2C%2059.101343%5D%2C%20%5B17.624976%2C%2059.091513%5D%2C%20%5B17.618176%2C%2059.087963%5D%2C%20%5B17.617977%2C%2059.078897%5D%2C%20%5B17.631718%2C%2059.073901%5D%2C%20%5B17.633104%2C%2059.06782%5D%2C%20%5B17.614822%2C%2059.052076%5D%2C%20%5B17.614916%2C%2059.01175%5D%2C%20%5B17.621373%2C%2058.998173%5D%2C%20%5B17.632729%2C%2059.002305%5D%2C%20%5B17.647988%2C%2059.02046%5D%2C%20%5B17.653125%2C%2059.033784%5D%2C%20%5B17.656744%2C%2059.05152%5D%2C%20%5B17.672165%2C%2059.057243%5D%2C%20%5B17.685853%2C%2059.051568%5D%2C%20%5B17.68848%2C%2059.038735%5D%2C%20%5B17.692862%2C%2058.990255%5D%2C%20%5B17.695064%2C%2058.959289%5D%2C%20%5B17.686853%2C%2058.940651%5D%2C%20%5B17.675993%2C%2058.935169%5D%2C%20%5B17.657837%2C%2058.940602%5D%2C%20%5B17.636825%2C%2058.943065%5D%2C%20%5B17.618799%2C%2058.904807%5D%2C%20%5B17.599992%2C%2058.947757%5D%2C%20%5B17.525158%2C%2058.967763%5D%2C%20%5B17.521423%2C%2058.991624%5D%2C%20%5B17.363874%2C%2058.992116%5D%2C%20%5B17.288877%2C%2059.050081%5D%2C%20%5B17.303785%2C%2059.141533%5D%2C%20%5B17.254024%2C%2059.1904%5D%2C%20%5B17.2402%2C%2059.242159%5D%2C%20%5B17.284619%2C%2059.267922%5D%2C%20%5B17.302205%2C%2059.251821%5D%2C%20%5B17.331237%2C%2059.256997%5D%2C%20%5B17.3618%2C%2059.257084%5D%2C%20%5B17.384659%2C%2059.250946%5D%2C%20%5B17.417677%2C%2059.242236%5D%2C%20%5B17.414503%2C%2059.250365%5D%2C%20%5B17.380602%2C%2059.2789%5D%2C%20%5B17.376652%2C%2059.285699%5D%2C%20%5B17.378265%2C%2059.311546%5D%2C%20%5B17.368368%2C%2059.317447%5D%2C%20%5B17.366441%2C%2059.325209%5D%2C%20%5B17.38364%2C%2059.328243%5D%2C%20%5B17.389559%2C%2059.321402%5D%2C%20%5B17.399751%2C%2059.318853%5D%2C%20%5B17.424974%2C%2059.309627%5D%2C%20%5B17.438008%2C%2059.309716%5D%2C%20%5B17.465699%2C%2059.292029%5D%2C%20%5B17.544274%2C%2059.268943%5D%2C%20%5B17.566333%2C%2059.268494%5D%2C%20%5B17.577899%2C%2059.260194%5D%2C%20%5B17.590315%2C%2059.2401%5D%2C%20%5B17.607179%2C%2059.218912%5D%2C%20%5B17.6148%2C%2059.210357%5D%2C%20%5B17.628912%2C%2059.208373%5D%2C%20%5B17.632192%2C%2059.215699%5D%2C%20%5B17.61965%2C%2059.23411%5D%2C%20%5B17.614148%2C%2059.256292%5D%2C%20%5B17.610602%2C%2059.262187%5D%2C%20%5B17.60323%2C%2059.266715%5D%2C%20%5B17.597923%2C%2059.272535%5D%2C%20%5B17.603938%2C%2059.281152%5D%2C%20%5B17.623836%2C%2059.285105%5D%2C%20%5B17.634541%2C%2059.281516%5D%2C%20%5B17.65475%2C%2059.281761%5D%2C%20%5B17.656026%2C%2059.288459%5D%2C%20%5B17.683696%2C%2059.285172%5D%2C%20%5B17.70826%2C%2059.276914%5D%2C%20%5B17.716297%2C%2059.265985%5D%2C%20%5B17.73654%2C%2059.256115%5D%2C%20%5B17.759106%2C%2059.264703%5D%2C%20%5B17.780778%2C%2059.260363%5D%2C%20%5B17.804356%2C%2059.262023%5D%2C%20%5B17.84083%2C%2059.262545%5D%2C%20%5B17.858383%2C%2059.2561%5D%2C%20%5B17.867073%2C%2059.245816%5D%2C%20%5B17.872041%2C%2059.236955%5D%2C%20%5B17.882334%2C%2059.244559%5D%2C%20%5B17.882449%2C%2059.273237%5D%2C%20%5B17.875727%2C%2059.279558%5D%2C%20%5B17.880688%2C%2059.289859%5D%2C%20%5B17.904724%2C%2059.295688%5D%2C%20%5B17.921752%2C%2059.303018%5D%2C%20%5B17.941049%2C%2059.306942%5D%2C%20%5B17.96163%2C%2059.310823%5D%2C%20%5B17.985302%2C%2059.312961%5D%2C%20%5B17.992951%2C%2059.317476%5D%2C%20%5B18.015761%2C%2059.317603%5D%2C%20%5B18.038322%2C%2059.32143%5D%2C%20%5B18.06328%2C%2059.323173%5D%2C%20%5B18.079809%2C%2059.31941%5D%2C%20%5B18.102331%2C%2059.317058%5D%2C%20%5B18.120399%2C%2059.315382%5D%2C%20%5B18.142848%2C%2059.318187%5D%2C%20%5B18.17829%2C%2059.326365%5D%2C%20%5B18.197818%2C%2059.331926%5D%2C%20%5B18.204894%2C%2059.331077%5D%2C%20%5B18.2042%2C%2059.318985%5D%2C%20%5B18.20694%2C%2059.302788%5D%2C%20%5B18.213466%2C%2059.297234%5D%2C%20%5B18.25186%2C%2059.296923%5D%2C%20%5B18.271522%2C%2059.298097%5D%2C%20%5B18.286801%2C%2059.295004%5D%2C%20%5B18.294806%2C%2059.285386%5D%2C%20%5B18.298548%2C%2059.278229%5D%2C%20%5B18.324226%2C%2059.275202%5D%2C%20%5B18.337613%2C%2059.272823%5D%2C%20%5B18.341387%2C%2059.265996%5D%2C%20%5B18.330617%2C%2059.262927%5D%2C%20%5B18.310779%2C%2059.265807%5D%2C%20%5B18.276253%2C%2059.271083%5D%2C%20%5B18.258616%2C%2059.270527%5D%2C%20%5B18.254389%2C%2059.267617%5D%2C%20%5B18.257288%2C%2059.264509%5D%2C%20%5B18.264573%2C%2059.259953%5D%2C%20%5B18.288465%2C%2059.258323%5D%2C%20%5B18.340149%2C%2059.238476%5D%2C%20%5B18.357032%2C%2059.227261%5D%2C%20%5B18.371625%2C%2059.22418%5D%2C%20%5B18.386973%2C%2059.222089%5D%2C%20%5B18.403837%2C%2059.205165%5D%2C%20%5B18.395962%2C%2059.198982%5D%2C%20%5B18.375102%2C%2059.192822%5D%2C%20%5B18.365331%2C%2059.181321%5D%2C%20%5B18.378747%2C%2059.173791%5D%2C%20%5B18.410412%2C%2059.167331%5D%2C%20%5B18.424923%2C%2059.169294%5D%2C%20%5B18.440839%2C%2059.172214%5D%2C%20%5B18.448855%2C%2059.168629%5D%2C%20%5B18.426532%2C%2059.144365%5D%2C%20%5B18.412307%2C%2059.139371%5D%2C%20%5B18.400255%2C%2059.136001%5D%2C%20%5B18.38993%2C%2059.136279%5D%2C%20%5B18.38594%2C%2059.141092%5D%2C%20%5B18.376303%2C%2059.141696%5D%2C%20%5B18.351502%2C%2059.129252%5D%2C%20%5B18.34309%2C%2059.129138%5D%2C%20%5B18.328316%2C%2059.130199%5D%2C%20%5B18.315009%2C%2059.127187%5D%2C%20%5B18.284406%2C%2059.120258%5D%2C%20%5B18.269238%2C%2059.106546%5D%2C%20%5B18.315364%2C%2059.107683%5D%2C%20%5B18.317801%2C%2059.1009%5D%2C%20%5B18.30075%2C%2059.093281%5D%2C%20%5B18.251947%2C%2059.085149%5D%2C%20%5B18.22796%2C%2059.079043%5D%2C%20%5B18.213435%2C%2059.070674%5D%2C%20%5B18.201612%2C%2059.068962%5D%2C%20%5B18.198869%2C%2059.073405%5D%2C%20%5B18.198947%2C%2059.079788%5D%2C%20%5B18.215243%2C%2059.08677%5D%2C%20%5B18.225326%2C%2059.090201%5D%2C%20%5B18.228298%2C%2059.093487%5D%2C%20%5B18.220423%2C%2059.098402%5D%2C%20%5B18.227598%2C%2059.1046%5D%2C%20%5B18.23831%2C%2059.107686%5D%2C%20%5B18.248089%2C%2059.108437%5D%2C%20%5B18.257727%2C%2059.113563%5D%2C%20%5B18.25694%2C%2059.117951%5D%2C%20%5B18.247708%2C%2059.122229%5D%2C%20%5B18.224864%2C%2059.120807%5D%2C%20%5B18.211546%2C%2059.117453%5D%2C%20%5B18.202871%2C%2059.109271%5D%2C%20%5B18.210798%2C%2059.105038%5D%2C%20%5B18.206304%2C%2059.099437%5D%2C%20%5B18.188721%2C%2059.092828%5D%2C%20%5B18.14244%2C%2059.083908%5D%2C%20%5B18.136792%2C%2059.079349%5D%2C%20%5B18.108524%2C%2059.075355%5D%2C%20%5B18.100771%2C%2059.069484%5D%2C%20%5B18.09449%2C%2059.059223%5D%2C%20%5B18.082598%2C%2059.056837%5D%2C%20%5B18.059217%2C%2059.055728%5D%2C%20%5B18.042097%2C%2059.052782%5D%2C%20%5B18.035332%2C%2059.043874%5D%2C%20%5B18.033758%2C%2059.035172%5D%2C%20%5B18.026067%2C%2059.029647%5D%2C%20%5B18.014742%2C%2059.032606%5D%2C%20%5B18.012449%2C%2059.041401%5D%2C%20%5B17.999881%2C%2059.04271%5D%2C%20%5B17.997778%2C%2059.037052%5D%2C%20%5B18.005442%2C%2059.011652%5D%2C%20%5B18.00711%2C%2059.002877%5D%2C%20%5B18.002179%2C%2058.998965%5D%2C%20%5B17.993743%2C%2058.998497%5D%2C%20%5B17.990164%2C%2059.007654%5D%2C%20%5B17.983616%2C%2059.012856%5D%2C%20%5B17.976055%2C%2059.002279%5D%2C%20%5B17.973796%2C%2058.992924%5D%2C%20%5B17.955776%2C%2058.968475%5D%2C%20%5B17.963382%2C%2058.936038%5D%2C%20%5B17.952026%2C%2058.913445%5D%2C%20%5B17.929321%2C%2058.905576%5D%2C%20%5B17.906789%2C%2058.892663%5D%2C%20%5B17.890775%2C%2058.868164%5D%2C%20%5B17.875194%2C%2058.860135%5D%2C%20%5B17.848452%2C%2058.811342%5D%2C%20%5B17.785316%2C%2058.802358%5D%2C%20%5B17.785629%2C%2058.812097%5D%2C%20%5B17.803528%2C%2058.824464%5D%2C%20%5B17.817414%2C%2058.834908%5D%2C%20%5B17.821548%2C%2058.850612%5D%2C%20%5B17.800399%2C%2058.877296%5D%2C%20%5B17.77638%2C%2058.90137%5D%2C%20%5B17.7538%2C%2058.91397%5D%2C%20%5B17.747066%2C%2058.9242%5D%2C%20%5B17.753442%2C%2058.930111%5D%2C%20%5B17.757107%2C%2058.967671%5D%2C%20%5B17.745773%2C%2058.976992%5D%2C%20%5B17.747199%2C%2058.985034%5D%2C%20%5B17.756615%2C%2058.995569%5D%2C%20%5B17.747848%2C%2059.024668%5D%2C%20%5B17.736451%2C%2059.040391%5D%2C%20%5B17.737396%2C%2059.050101%5D%2C%20%5B17.748961%2C%2059.062625%5D%2C%20%5B17.760793%2C%2059.071095%5D%2C%20%5B17.757327%2C%2059.081931%5D%2C%20%5B17.764286%2C%2059.093535%5D%2C%20%5B17.777515%2C%2059.096603%5D%5D%5D%2C%20%5B%5B%5B17.890465%2C%2059.33434%5D%2C%20%5B17.891071%2C%2059.327605%5D%2C%20%5B17.884921%2C%2059.324722%5D%2C%20%5B17.88216%2C%2059.320069%5D%2C%20%5B17.876937%2C%2059.310446%5D%2C%20%5B17.860547%2C%2059.3031%5D%2C%20%5B17.846482%2C%2059.305431%5D%2C%20%5B17.833841%2C%2059.315802%5D%2C%20%5B17.808198%2C%2059.332855%5D%2C%20%5B17.806219%2C%2059.338937%5D%2C%20%5B17.814378%2C%2059.348833%5D%2C%20%5B17.820697%2C%2059.353404%5D%2C%20%5B17.841715%2C%2059.354946%5D%2C%20%5B17.856314%2C%2059.35091%5D%2C%20%5B17.869974%2C%2059.337836%5D%2C%20%5B17.879311%2C%2059.333584%5D%2C%20%5B17.890465%2C%2059.33434%5D%5D%5D%2C%20%5B%5B%5B18.359343%2C%2059.35865%5D%2C%20%5B18.394719%2C%2059.360054%5D%2C%20%5B18.415789%2C%2059.356113%5D%2C%20%5B18.447141%2C%2059.340133%5D%2C%20%5B18.446963%2C%2059.333087%5D%2C%20%5B18.433452%2C%2059.329076%5D%2C%20%5B18.439498%2C%2059.325218%5D%2C%20%5B18.437021%2C%2059.320912%5D%2C%20%5B18.41845%2C%2059.30697%5D%2C%20%5B18.412182%2C%2059.298051%5D%2C%20%5B18.421268%2C%2059.292436%5D%2C%20%5B18.451539%2C%2059.294968%5D%2C%20%5B18.476409%2C%2059.29058%5D%2C%20%5B18.498906%2C%2059.282904%5D%2C%20%5B18.507831%2C%2059.27593%5D%2C%20%5B18.538854%2C%2059.268671%5D%2C%20%5B18.547159%2C%2059.267437%5D%2C%20%5B18.551749%2C%2059.273025%5D%2C%20%5B18.539372%2C%2059.278415%5D%2C%20%5B18.540722%2C%2059.284089%5D%2C%20%5B18.610263%2C%2059.288502%5D%2C%20%5B18.680398%2C%2059.297238%5D%2C%20%5B18.684966%2C%2059.292063%5D%2C%20%5B18.635734%2C%2059.262891%5D%2C%20%5B18.638963%2C%2059.257423%5D%2C%20%5B18.619898%2C%2059.255941%5D%2C%20%5B18.603326%2C%2059.253398%5D%2C%20%5B18.592168%2C%2059.247332%5D%2C%20%5B18.566288%2C%2059.243016%5D%2C%20%5B18.564939%2C%2059.231961%5D%2C%20%5B18.548293%2C%2059.228729%5D%2C%20%5B18.535195%2C%2059.222718%5D%2C%20%5B18.524279%2C%2059.218312%5D%2C%20%5B18.482125%2C%2059.224531%5D%2C%20%5B18.47095%2C%2059.239633%5D%2C%20%5B18.449153%2C%2059.242251%5D%2C%20%5B18.424151%2C%2059.250661%5D%2C%20%5B18.414091%2C%2059.26472%5D%2C%20%5B18.397782%2C%2059.269878%5D%2C%20%5B18.378112%2C%2059.285195%5D%2C%20%5B18.346343%2C%2059.286375%5D%2C%20%5B18.333188%2C%2059.290762%5D%2C%20%5B18.339624%2C%2059.295631%5D%2C%20%5B18.349807%2C%2059.299393%5D%2C%20%5B18.342981%2C%2059.313365%5D%2C%20%5B18.34681%2C%2059.318302%5D%2C%20%5B18.363029%2C%2059.323247%5D%2C%20%5B18.370979%2C%2059.330096%5D%2C%20%5B18.360834%2C%2059.332388%5D%2C%20%5B18.343113%2C%2059.331396%5D%2C%20%5B18.329838%2C%2059.334887%5D%2C%20%5B18.304681%2C%2059.337231%5D%2C%20%5B18.298922%2C%2059.321248%5D%2C%20%5B18.293567%2C%2059.314327%5D%2C%20%5B18.279915%2C%2059.308974%5D%2C%20%5B18.25846%2C%2059.30348%5D%2C%20%5B18.234552%2C%2059.305104%5D%2C%20%5B18.22322%2C%2059.308755%5D%2C%20%5B18.222384%2C%2059.312811%5D%2C%20%5B18.221967%2C%2059.320551%5D%2C%20%5B18.226567%2C%2059.343968%5D%2C%20%5B18.250748%2C%2059.350404%5D%2C%20%5B18.259633%2C%2059.353874%5D%2C%20%5B18.264337%2C%2059.3608%5D%2C%20%5B18.306833%2C%2059.361716%5D%2C%20%5B18.324256%2C%2059.359916%5D%2C%20%5B18.345229%2C%2059.36092%5D%2C%20%5B18.359343%2C%2059.35865%5D%5D%5D%2C%20%5B%5B%5B18.904417%2C%2059.355742%5D%2C%20%5B18.906362%2C%2059.350639%5D%2C%20%5B18.893995%2C%2059.345974%5D%2C%20%5B18.893105%2C%2059.339276%5D%2C%20%5B18.881154%2C%2059.327872%5D%2C%20%5B18.883053%2C%2059.322437%5D%2C%20%5B18.893662%2C%2059.314048%5D%2C%20%5B18.884647%2C%2059.30995%5D%2C%20%5B18.85174%2C%2059.312304%5D%2C%20%5B18.85901%2C%2059.318135%5D%2C%20%5B18.863244%2C%2059.33044%5D%2C%20%5B18.868286%2C%2059.344074%5D%2C%20%5B18.874364%2C%2059.350615%5D%2C%20%5B18.887698%2C%2059.357612%5D%2C%20%5B18.895631%2C%2059.358367%5D%2C%20%5B18.904417%2C%2059.355742%5D%5D%5D%2C%20%5B%5B%5B18.105711%2C%2059.3897%5D%2C%20%5B18.113187%2C%2059.392199%5D%2C%20%5B18.128691%2C%2059.39081%5D%2C%20%5B18.148454%2C%2059.386614%5D%2C%20%5B18.175089%2C%2059.379559%5D%2C%20%5B18.203472%2C%2059.37649%5D%2C%20%5B18.214391%2C%2059.374861%5D%2C%20%5B18.229028%2C%2059.377517%5D%2C%20%5B18.242522%2C%2059.375488%5D%2C%20%5B18.244413%2C%2059.36922%5D%2C%20%5B18.238427%2C%2059.368191%5D%2C%20%5B18.222749%2C%2059.367926%5D%2C%20%5B18.216546%2C%2059.365059%5D%2C%20%5B18.218117%2C%2059.361654%5D%2C%20%5B18.223543%2C%2059.357818%5D%2C%20%5B18.217673%2C%2059.351927%5D%2C%20%5B18.20548%2C%2059.347869%5D%2C%20%5B18.188079%2C%2059.34394%5D%2C%20%5B18.165982%2C%2059.344495%5D%2C%20%5B18.143589%2C%2059.348419%5D%2C%20%5B18.129928%2C%2059.360526%5D%2C%20%5B18.126038%2C%2059.366674%5D%2C%20%5B18.12615%2C%2059.373722%5D%2C%20%5B18.119513%2C%2059.37859%5D%2C%20%5B18.10741%2C%2059.381256%5D%2C%20%5B18.10459%2C%2059.385355%5D%2C%20%5B18.105711%2C%2059.3897%5D%5D%5D%2C%20%5B%5B%5B18.720766%2C%2059.363635%5D%2C%20%5B18.729915%2C%2059.353612%5D%2C%20%5B18.73177%2C%2059.342469%5D%2C%20%5B18.731305%2C%2059.328692%5D%2C%20%5B18.724229%2C%2059.31915%5D%2C%20%5B18.708442%2C%2059.312883%5D%2C%20%5B18.682707%2C%2059.305235%5D%2C%20%5B18.672031%2C%2059.303189%5D%2C%20%5B18.664491%2C%2059.30543%5D%2C%20%5B18.670659%2C%2059.323411%5D%2C%20%5B18.671399%2C%2059.334487%5D%2C%20%5B18.664652%2C%2059.348126%5D%2C%20%5B18.637027%2C%2059.372459%5D%2C%20%5B18.668394%2C%2059.377945%5D%2C%20%5B18.684242%2C%2059.369081%5D%2C%20%5B18.69529%2C%2059.373795%5D%2C%20%5B18.720766%2C%2059.363635%5D%5D%5D%2C%20%5B%5B%5B17.487842%2C%2059.377946%5D%2C%20%5B17.469742%2C%2059.38704%5D%2C%20%5B17.467512%2C%2059.391117%5D%2C%20%5B17.469938%2C%2059.396447%5D%2C%20%5B17.470617%2C%2059.403818%5D%2C%20%5B17.469105%2C%2059.408892%5D%2C%20%5B17.471086%2C%2059.416247%5D%2C%20%5B17.491784%2C%2059.421216%5D%2C%20%5B17.505323%2C%2059.419263%5D%2C%20%5B17.509211%2C%2059.411796%5D%2C%20%5B17.521593%2C%2059.404487%5D%2C%20%5B17.534659%2C%2059.383386%5D%2C%20%5B17.542681%2C%2059.378521%5D%2C%20%5B17.544554%2C%2059.370415%5D%2C%20%5B17.538113%2C%2059.364494%5D%2C%20%5B17.534959%2C%2059.358512%5D%2C%20%5B17.539753%2C%2059.347%5D%2C%20%5B17.530719%2C%2059.340799%5D%2C%20%5B17.519076%2C%2059.341698%5D%2C%20%5B17.502919%2C%2059.35043%5D%2C%20%5B17.492809%2C%2059.361048%5D%2C%20%5B17.496246%2C%2059.370044%5D%2C%20%5B17.487842%2C%2059.377946%5D%5D%5D%2C%20%5B%5B%5B17.613013%2C%2059.363289%5D%2C%20%5B17.599256%2C%2059.362573%5D%2C%20%5B17.588012%2C%2059.367835%5D%2C%20%5B17.572366%2C%2059.389004%5D%2C%20%5B17.563821%2C%2059.388168%5D%2C%20%5B17.553906%2C%2059.387026%5D%2C%20%5B17.543827%2C%2059.390932%5D%2C%20%5B17.540547%2C%2059.397718%5D%2C%20%5B17.535539%2C%2059.406889%5D%2C%20%5B17.532551%2C%2059.417038%5D%2C%20%5B17.548257%2C%2059.424443%5D%2C%20%5B17.562865%2C%2059.426833%5D%2C%20%5B17.580748%2C%2059.429482%5D%2C%20%5B17.593141%2C%2059.429224%5D%2C%20%5B17.636342%2C%2059.361788%5D%2C%20%5B17.653553%2C%2059.32379%5D%2C%20%5B17.681326%2C%2059.321184%5D%2C%20%5B17.700001%2C%2059.312375%5D%2C%20%5B17.735407%2C%2059.301521%5D%2C%20%5B17.759524%2C%2059.29528%5D%2C%20%5B17.773016%2C%2059.29364%5D%2C%20%5B17.797593%2C%2059.298475%5D%2C%20%5B17.809842%2C%2059.297191%5D%2C%20%5B17.808818%2C%2059.293517%5D%2C%20%5B17.83923%2C%2059.285431%5D%2C%20%5B17.843067%2C%2059.278286%5D%2C%20%5B17.839523%2C%2059.275343%5D%2C%20%5B17.812957%2C%2059.2699%5D%2C%20%5B17.784051%2C%2059.273566%5D%2C%20%5B17.775996%2C%2059.277774%5D%2C%20%5B17.763808%2C%2059.279394%5D%2C%20%5B17.726705%2C%2059.279202%5D%2C%20%5B17.685412%2C%2059.296227%5D%2C%20%5B17.647958%2C%2059.3061%5D%2C%20%5B17.632197%2C%2059.311475%5D%2C%20%5B17.626205%2C%2059.316982%5D%2C%20%5B17.624336%2C%2059.324748%5D%2C%20%5B17.628258%2C%2059.331715%5D%2C%20%5B17.624395%2C%2059.34591%5D%2C%20%5B17.611613%2C%2059.348539%5D%2C%20%5B17.617539%2C%2059.356143%5D%2C%20%5B17.613013%2C%2059.363289%5D%5D%5D%2C%20%5B%5B%5B18.46251%2C%2059.397542%5D%2C%20%5B18.456057%2C%2059.403763%5D%2C%20%5B18.444578%2C%2059.406097%5D%2C%20%5B18.438069%2C%2059.411653%5D%2C%20%5B18.436007%2C%2059.416419%5D%2C%20%5B18.44477%2C%2059.418532%5D%2C%20%5B18.454389%2C%2059.416918%5D%2C%20%5B18.465202%2C%2059.419985%5D%2C%20%5B18.478839%2C%2059.419276%5D%2C%20%5B18.499447%2C%2059.416696%5D%2C%20%5B18.504982%2C%2059.413843%5D%2C%20%5B18.519049%2C%2059.389921%5D%2C%20%5B18.584156%2C%2059.367255%5D%2C%20%5B18.602381%2C%2059.372111%5D%2C%20%5B18.615346%2C%2059.37141%5D%2C%20%5B18.622485%2C%2059.365813%5D%2C%20%5B18.621694%2C%2059.359453%5D%2C%20%5B18.612022%2C%2059.355027%5D%2C%20%5B18.601497%2C%2059.354319%5D%2C%20%5B18.589927%2C%2059.355654%5D%2C%20%5B18.568978%2C%2059.355237%5D%2C%20%5B18.549203%2C%2059.353446%5D%2C%20%5B18.554224%2C%2059.346577%5D%2C%20%5B18.575987%2C%2059.348649%5D%2C%20%5B18.605278%2C%2059.342778%5D%2C%20%5B18.626663%2C%2059.336451%5D%2C%20%5B18.634508%2C%2059.326141%5D%2C%20%5B18.633459%2C%2059.317757%5D%2C%20%5B18.62489%2C%2059.30658%5D%2C%20%5B18.611601%2C%2059.299215%5D%2C%20%5B18.58714%2C%2059.296219%5D%2C%20%5B18.537813%2C%2059.292243%5D%2C%20%5B18.517969%2C%2059.289766%5D%2C%20%5B18.483568%2C%2059.30148%5D%2C%20%5B18.469329%2C%2059.302203%5D%2C%20%5B18.456141%2C%2059.306271%5D%2C%20%5B18.457144%2C%2059.314648%5D%2C%20%5B18.468641%2C%2059.339884%5D%2C%20%5B18.469026%2C%2059.348615%5D%2C%20%5B18.464374%2C%2059.353452%5D%2C%20%5B18.45844%2C%2059.358315%5D%2C%20%5B18.455752%2C%2059.363094%5D%2C%20%5B18.459936%2C%2059.370714%5D%2C%20%5B18.466906%2C%2059.37994%5D%2C%20%5B18.467308%2C%2059.38867%5D%2C%20%5B18.46251%2C%2059.397542%5D%5D%5D%2C%20%5B%5B%5B18.934964%2C%2059.393809%5D%2C%20%5B18.93918%2C%2059.376524%5D%2C%20%5B18.931314%2C%2059.371395%5D%2C%20%5B18.914443%2C%2059.372247%5D%2C%20%5B18.910567%2C%2059.377406%5D%2C%20%5B18.912476%2C%2059.39653%5D%2C%20%5B18.906058%2C%2059.402432%5D%2C%20%5B18.920349%2C%2059.406699%5D%2C%20%5B18.923945%2C%2059.413988%5D%2C%20%5B18.934294%2C%2059.418043%5D%2C%20%5B18.951642%2C%2059.415821%5D%2C%20%5B18.955161%2C%2059.407975%5D%2C%20%5B18.934964%2C%2059.393809%5D%5D%5D%2C%20%5B%5B%5B17.786655%2C%2059.325938%5D%2C%20%5B17.789765%2C%2059.317801%5D%2C%20%5B17.781194%2C%2059.310254%5D%2C%20%5B17.760709%2C%2059.307357%5D%2C%20%5B17.733154%2C%2059.311655%5D%2C%20%5B17.71992%2C%2059.323038%5D%2C%20%5B17.713198%2C%2059.327555%5D%2C%20%5B17.696928%2C%2059.327567%5D%2C%20%5B17.678913%2C%2059.343414%5D%2C%20%5B17.654215%2C%2059.364436%5D%2C%20%5B17.636785%2C%2059.386985%5D%2C%20%5B17.630513%2C%2059.403252%5D%2C%20%5B17.604408%2C%2059.431008%5D%2C%20%5B17.60151%2C%2059.441831%5D%2C%20%5B17.598077%2C%2059.446933%5D%2C%20%5B17.599664%2C%2059.449928%5D%2C%20%5B17.613759%2C%2059.453667%5D%2C%20%5B17.628562%2C%2059.444285%5D%2C%20%5B17.643226%2C%2059.440623%5D%2C%20%5B17.6629%2C%2059.427765%5D%2C%20%5B17.679342%2C%2059.422035%5D%2C%20%5B17.690812%2C%2059.42583%5D%2C%20%5B17.709329%2C%2059.421395%5D%2C%20%5B17.730435%2C%2059.410177%5D%2C%20%5B17.724953%2C%2059.407617%5D%2C%20%5B17.713888%2C%2059.407851%5D%2C%20%5B17.703816%2C%2059.405044%5D%2C%20%5B17.70193%2C%2059.399038%5D%2C%20%5B17.713049%2C%2059.386027%5D%2C%20%5B17.723235%2C%2059.383454%5D%2C%20%5B17.731315%2C%2059.385966%5D%2C%20%5B17.730676%2C%2059.3927%5D%2C%20%5B17.734892%2C%2059.395637%5D%2C%20%5B17.762032%2C%2059.379915%5D%2C%20%5B17.764819%2C%2059.37515%5D%2C%20%5B17.775646%2C%2059.365837%5D%2C%20%5B17.780858%2C%2059.352613%5D%2C%20%5B17.778181%2C%2059.338898%5D%2C%20%5B17.776119%2C%2059.331207%5D%2C%20%5B17.786655%2C%2059.325938%5D%5D%5D%2C%20%5B%5B%5B18.312451%2C%2059.432833%5D%2C%20%5B18.313948%2C%2059.440195%5D%2C%20%5B18.323623%2C%2059.444634%5D%2C%20%5B18.332217%2C%2059.44542%5D%2C%20%5B18.344474%2C%2059.438375%5D%2C%20%5B18.358464%2C%2059.434977%5D%2C%20%5B18.359981%2C%2059.431238%5D%2C%20%5B18.336789%2C%2059.428493%5D%2C%20%5B18.317294%2C%2059.418254%5D%2C%20%5B18.305452%2C%2059.423268%5D%2C%20%5B18.312451%2C%2059.432833%5D%5D%5D%2C%20%5B%5B%5B18.851129%2C%2059.407148%5D%2C%20%5B18.853964%2C%2059.413792%5D%2C%20%5B18.851215%2C%2059.422614%5D%2C%20%5B18.850798%2C%2059.429352%5D%2C%20%5B18.858237%2C%2059.436193%5D%2C%20%5B18.873584%2C%2059.443451%5D%2C%20%5B18.891161%2C%2059.447618%5D%2C%20%5B18.904926%2C%2059.447875%5D%2C%20%5B18.919184%2C%2059.446764%5D%2C%20%5B18.922318%2C%2059.440949%5D%2C%20%5B18.922689%2C%2059.43387%5D%2C%20%5B18.91289%2C%2059.429128%5D%2C%20%5B18.903084%2C%2059.429091%5D%2C%20%5B18.900949%2C%2059.418066%5D%2C%20%5B18.884783%2C%2059.409484%5D%2C%20%5B18.869622%2C%2059.403553%5D%2C%20%5B18.864312%2C%2059.39801%5D%2C%20%5B18.859778%2C%2059.393427%5D%2C%20%5B18.845327%2C%2059.387818%5D%2C%20%5B18.835925%2C%2059.390795%5D%2C%20%5B18.840197%2C%2059.398393%5D%2C%20%5B18.851129%2C%2059.407148%5D%5D%5D%2C%20%5B%5B%5B18.578819%2C%2059.45616%5D%2C%20%5B18.573637%2C%2059.451267%5D%2C%20%5B18.57214%2C%2059.439201%5D%2C%20%5B18.560556%2C%2059.430114%5D%2C%20%5B18.544714%2C%2059.428876%5D%2C%20%5B18.543513%2C%2059.434964%5D%2C%20%5B18.54624%2C%2059.446654%5D%2C%20%5B18.539295%2C%2059.453913%5D%2C%20%5B18.526332%2C%2059.460327%5D%2C%20%5B18.523199%2C%2059.466795%5D%2C%20%5B18.525127%2C%2059.477165%5D%2C%20%5B18.522351%2C%2059.481282%5D%2C%20%5B18.513617%2C%2059.484876%5D%2C%20%5B18.519902%2C%2059.493448%5D%2C%20%5B18.53205%2C%2059.496465%5D%2C%20%5B18.54434%2C%2059.495121%5D%2C%20%5B18.546792%2C%2059.488334%5D%2C%20%5B18.559461%2C%2059.484951%5D%2C%20%5B18.570249%2C%2059.492716%5D%2C%20%5B18.575762%2C%2059.500288%5D%2C%20%5B18.568841%2C%2059.5025%5D%2C%20%5B18.552564%2C%2059.503292%5D%2C%20%5B18.552353%2C%2059.506997%5D%2C%20%5B18.562169%2C%2059.512098%5D%2C%20%5B18.561604%2C%2059.518173%5D%2C%20%5B18.568707%2C%2059.522675%5D%2C%20%5B18.584658%2C%2059.529621%5D%2C%20%5B18.590435%2C%2059.539207%5D%2C%20%5B18.634702%2C%2059.552062%5D%2C%20%5B18.644499%2C%2059.556834%5D%2C%20%5B18.660933%2C%2059.562414%5D%2C%20%5B18.672375%2C%2059.559388%5D%2C%20%5B18.661773%2C%2059.553315%5D%2C%20%5B18.662653%2C%2059.549919%5D%2C%20%5B18.676459%2C%2059.5502%5D%2C%20%5B18.676271%2C%2059.538429%5D%2C%20%5B18.687704%2C%2059.535412%5D%2C%20%5B18.688443%2C%2059.531021%5D%2C%20%5B18.67252%2C%2059.529467%5D%2C%20%5B18.662516%2C%2059.52303%5D%2C%20%5B18.646422%2C%2059.509711%5D%2C%20%5B18.636613%2C%2059.499568%5D%2C%20%5B18.620406%2C%2059.495661%5D%2C%20%5B18.608743%2C%2059.496666%5D%2C%20%5B18.599179%2C%2059.493574%5D%2C%20%5B18.592992%2C%2059.486018%5D%2C%20%5B18.599884%2C%2059.473045%5D%2C%20%5B18.598276%2C%2059.459985%5D%2C%20%5B18.591861%2C%2059.455784%5D%2C%20%5B18.578819%2C%2059.45616%5D%5D%5D%2C%20%5B%5B%5B18.972064%2C%2059.641328%5D%2C%20%5B18.970129%2C%2059.620786%5D%2C%20%5B18.913901%2C%2059.619438%5D%2C%20%5B18.90537%2C%2059.594597%5D%2C%20%5B18.857532%2C%2059.599277%5D%2C%20%5B18.772293%2C%2059.569008%5D%2C%20%5B18.754338%2C%2059.577462%5D%2C%20%5B18.807577%2C%2059.598636%5D%2C%20%5B18.856431%2C%2059.638718%5D%2C%20%5B18.91721%2C%2059.655182%5D%2C%20%5B18.972064%2C%2059.641328%5D%5D%5D%2C%20%5B%5B%5B18.06328%2C%2059.323173%5D%2C%20%5B18.067536%2C%2059.332483%5D%2C%20%5B18.045794%2C%2059.330317%5D%2C%20%5B18.028819%2C%2059.33006%5D%2C%20%5B18.0111%2C%2059.33486%5D%2C%20%5B17.993153%2C%2059.346046%5D%2C%20%5B17.988285%2C%2059.347169%5D%2C%20%5B17.983937%2C%2059.343237%5D%2C%20%5B17.9822%2C%2059.332858%5D%2C%20%5B17.975216%2C%2059.322271%5D%2C%20%5B17.960566%2C%2059.319264%5D%2C%20%5B17.948118%2C%2059.318544%5D%2C%20%5B17.931588%2C%2059.328674%5D%2C%20%5B17.912879%2C%2059.33046%5D%2C%20%5B17.902344%2C%2059.335748%5D%2C%20%5B17.894751%2C%2059.344319%5D%2C%20%5B17.856849%2C%2059.35628%5D%2C%20%5B17.830902%2C%2059.370316%5D%2C%20%5B17.79688%2C%2059.388995%5D%2C%20%5B17.786621%2C%2059.397187%5D%2C%20%5B17.776716%2C%2059.402779%5D%2C%20%5B17.773612%2C%2059.410907%5D%2C%20%5B17.775569%2C%2059.423977%5D%2C%20%5B17.795687%2C%2059.455117%5D%2C%20%5B17.799954%2C%2059.458383%5D%2C%20%5B17.803439%2C%2059.460655%5D%2C%20%5B17.806687%2C%2059.466963%5D%2C%20%5B17.79833%2C%2059.472756%5D%2C%20%5B17.782548%2C%2059.46751%5D%2C%20%5B17.772269%2C%2059.482516%5D%2C%20%5B17.759711%2C%2059.481456%5D%2C%20%5B17.750884%2C%2059.464842%5D%2C%20%5B17.752121%2C%2059.444316%5D%2C%20%5B17.739471%2C%2059.435525%5D%2C%20%5B17.72916%2C%2059.437087%5D%2C%20%5B17.729767%2C%2059.443121%5D%2C%20%5B17.716196%2C%2059.444766%5D%2C%20%5B17.699566%2C%2059.448483%5D%2C%20%5B17.697969%2C%2059.465664%5D%2C%20%5B17.688699%2C%2059.47123%5D%2C%20%5B17.68769%2C%2059.481004%5D%2C%20%5B17.669336%2C%2059.487445%5D%2C%20%5B17.646568%2C%2059.49565%5D%2C%20%5B17.625758%2C%2059.4971%5D%2C%20%5B17.611816%2C%2059.488324%5D%2C%20%5B17.61516%2C%2059.482208%5D%2C%20%5B17.621675%2C%2059.475007%5D%2C%20%5B17.617174%2C%2059.469053%5D%2C%20%5B17.600872%2C%2059.469395%5D%2C%20%5B17.595747%2C%2059.477564%5D%2C%20%5B17.596354%2C%2059.497712%5D%2C%20%5B17.588947%2C%2059.502572%5D%2C%20%5B17.576439%2C%2059.501817%5D%2C%20%5B17.570619%2C%2059.495557%5D%2C%20%5B17.57586%2C%2059.488734%5D%2C%20%5B17.567889%2C%2059.48754%5D%2C%20%5B17.531971%2C%2059.50945%5D%2C%20%5B17.527268%2C%2059.515258%5D%2C%20%5B17.531089%2C%2059.521224%5D%2C%20%5B17.54552%2C%2059.528323%5D%2C%20%5B17.560348%2C%2059.532731%5D%2C%20%5B17.571732%2C%2059.549295%5D%2C%20%5B17.568373%2C%2059.555419%5D%2C%20%5B17.566803%2C%2059.56194%5D%2C%20%5B17.572272%2C%2059.575828%5D%2C%20%5B17.534039%2C%2059.595093%5D%2C%20%5B17.531076%2C%2059.612622%5D%2C%20%5B17.54506%2C%2059.628804%5D%2C%20%5B17.560992%2C%2059.637211%5D%2C%20%5B17.575552%2C%2059.638263%5D%2C%20%5B17.590883%2C%2059.649817%5D%2C%20%5B17.582479%2C%2059.655929%5D%2C%20%5B17.611378%2C%2059.669109%5D%2C%20%5B17.639668%2C%2059.675908%5D%2C%20%5B17.635471%2C%2059.694983%5D%2C%20%5B17.664943%2C%2059.692181%5D%2C%20%5B17.69249%2C%2059.690917%5D%2C%20%5B17.705425%2C%2059.681913%5D%2C%20%5B17.730847%2C%2059.679352%5D%2C%20%5B17.736142%2C%2059.666462%5D%2C%20%5B17.755084%2C%2059.665033%5D%2C%20%5B17.768353%2C%2059.679201%5D%2C%20%5B17.791375%2C%2059.685409%5D%2C%20%5B17.813047%2C%2059.684935%5D%2C%20%5B17.823724%2C%2059.679986%5D%2C%20%5B17.843324%2C%2059.684927%5D%2C%20%5B17.838109%2C%2059.69176%5D%2C%20%5B17.917439%2C%2059.707092%5D%2C%20%5B17.937252%2C%2059.707643%5D%2C%20%5B17.954933%2C%2059.712607%5D%2C%20%5B17.987989%2C%2059.725944%5D%2C%20%5B18.009106%2C%2059.726121%5D%2C%20%5B18.036655%2C%2059.736889%5D%2C%20%5B18.046224%2C%2059.733969%5D%2C%20%5B18.067611%2C%2059.736476%5D%2C%20%5B18.089003%2C%2059.736124%5D%2C%20%5B18.139746%2C%2059.814136%5D%2C%20%5B18.297296%2C%2059.832933%5D%2C%20%5B18.373688%2C%2059.868859%5D%2C%20%5B18.402974%2C%2059.995796%5D%2C%20%5B18.441823%2C%2060.003674%5D%2C%20%5B18.381651%2C%2060.045272%5D%2C%20%5B18.462378%2C%2060.056678%5D%2C%20%5B18.488981%2C%2060.105569%5D%2C%20%5B18.510938%2C%2060.154819%5D%2C%20%5B18.610063%2C%2060.141523%5D%2C%20%5B18.675926%2C%2060.130825%5D%2C%20%5B18.708345%2C%2060.162836%5D%2C%20%5B18.721155%2C%2060.212805%5D%2C%20%5B18.799047%2C%2060.171928%5D%2C%20%5B18.781452%2C%2060.107765%5D%2C%20%5B18.81998%2C%2060.091902%5D%2C%20%5B18.859702%2C%2060.003048%5D%2C%20%5B18.928683%2C%2059.937247%5D%2C%20%5B19.021565%2C%2059.900412%5D%2C%20%5B19.084355%2C%2059.871483%5D%2C%20%5B19.041212%2C%2059.818581%5D%2C%20%5B18.969619%2C%2059.820898%5D%2C%20%5B18.969519%2C%2059.777155%5D%2C%20%5B19.068498%2C%2059.759795%5D%2C%20%5B19.075275%2C%2059.715475%5D%2C%20%5B19.014947%2C%2059.696824%5D%2C%20%5B18.859398%2C%2059.706079%5D%2C%20%5B18.741369%2C%2059.675656%5D%2C%20%5B18.724113%2C%2059.62242%5D%2C%20%5B18.667136%2C%2059.577313%5D%2C%20%5B18.629752%2C%2059.564985%5D%2C%20%5B18.608078%2C%2059.55955%5D%2C%20%5B18.577278%2C%2059.549339%5D%2C%20%5B18.545009%2C%2059.537795%5D%2C%20%5B18.536261%2C%2059.530649%5D%2C%20%5B18.517806%2C%2059.529821%5D%2C%20%5B18.476439%2C%2059.507761%5D%2C%20%5B18.466927%2C%2059.505001%5D%2C%20%5B18.453728%2C%2059.493252%5D%2C%20%5B18.436535%2C%2059.486334%5D%2C%20%5B18.41661%2C%2059.484174%5D%2C%20%5B18.410274%2C%2059.480313%5D%2C%20%5B18.410849%2C%2059.474257%5D%2C%20%5B18.389919%2C%2059.457663%5D%2C%20%5B18.375981%2C%2059.456016%5D%2C%20%5B18.363784%2C%2059.458034%5D%2C%20%5B18.347309%2C%2059.457125%5D%2C%20%5B18.341511%2C%2059.463327%5D%2C%20%5B18.328444%2C%2059.463669%5D%2C%20%5B18.316411%2C%2059.461297%5D%2C%20%5B18.30888%2C%2059.464189%5D%2C%20%5B18.299687%2C%2059.469466%5D%2C%20%5B18.285248%2C%2059.469175%5D%2C%20%5B18.277332%2C%2059.462994%5D%2C%20%5B18.289384%2C%2059.459649%5D%2C%20%5B18.302238%2C%2059.457635%5D%2C%20%5B18.307409%2C%2059.451447%5D%2C%20%5B18.300644%2C%2059.443898%5D%2C%20%5B18.290971%2C%2059.43944%5D%2C%20%5B18.269098%2C%2059.436648%5D%2C%20%5B18.252583%2C%2059.441108%5D%2C%20%5B18.235486%2C%2059.440206%5D%2C%20%5B18.228678%2C%2059.435007%5D%2C%20%5B18.234342%2C%2059.430151%5D%2C%20%5B18.245385%2C%2059.429532%5D%2C%20%5B18.263128%2C%2059.430421%5D%2C%20%5B18.271573%2C%2059.424146%5D%2C%20%5B18.285444%2C%2059.41404%5D%2C%20%5B18.280962%2C%2059.409114%5D%2C%20%5B18.268851%2C%2059.406075%5D%2C%20%5B18.272344%2C%2059.402282%5D%2C%20%5B18.294603%2C%2059.402712%5D%2C%20%5B18.302561%2C%2059.398133%5D%2C%20%5B18.294075%2C%2059.392637%5D%2C%20%5B18.271564%2C%2059.389859%5D%2C%20%5B18.214588%2C%2059.388301%5D%2C%20%5B18.200684%2C%2059.392355%5D%2C%20%5B18.185124%2C%2059.393421%5D%2C%20%5B18.163352%2C%2059.397337%5D%2C%20%5B18.165165%2C%2059.407703%5D%2C%20%5B18.168427%2C%2059.41939%5D%2C%20%5B18.175035%2C%2059.425942%5D%2C%20%5B18.194913%2C%2059.422419%5D%2C%20%5B18.202912%2C%2059.423898%5D%2C%20%5B18.203025%2C%2059.433469%5D%2C%20%5B18.202744%2C%2059.439706%5D%2C%20%5B18.197178%2C%2059.442529%5D%2C%20%5B18.172905%2C%2059.436084%5D%2C%20%5B18.161167%2C%2059.436377%5D%2C%20%5B18.157147%2C%2059.441191%5D%2C%20%5B18.15369%2C%2059.451355%5D%2C%20%5B18.142053%2C%2059.448843%5D%2C%20%5B18.109527%2C%2059.436319%5D%2C%20%5B18.116217%2C%2059.431783%5D%2C%20%5B18.101139%2C%2059.42544%5D%2C%20%5B18.096731%2C%2059.41915%5D%2C%20%5B18.09564%2C%2059.405071%5D%2C%20%5B18.087816%2C%2059.393238%5D%2C%20%5B18.060215%2C%2059.377949%5D%2C%20%5B18.097385%2C%2059.355282%5D%2C%20%5B18.124142%2C%2059.343522%5D%2C%20%5B18.137335%2C%2059.333112%5D%2C%20%5B18.137244%2C%2059.326396%5D%2C%20%5B18.124358%2C%2059.321678%5D%2C%20%5B18.108299%2C%2059.32375%5D%2C%20%5B18.091086%2C%2059.333258%5D%2C%20%5B18.068623%2C%2059.332698%5D%2C%20%5B18.077417%2C%2059.327534%5D%2C%20%5B18.06328%2C%2059.323173%5D%5D%5D%5D%2C%20%22type%22%3A%20%22MultiPolygon%22%7D%2C%20%22id%22%3A%20%22Stockholm%22%2C%20%22properties%22%3A%20%7B%7D%2C%20%22type%22%3A%20%22Feature%22%7D%2C%20%7B%22bbox%22%3A%20%5B15.401702%2C%2059.285219%2C%2016.904703%2C%2060.199881%5D%2C%20%22geometry%22%3A%20%7B%22coordinates%22%3A%20%5B%5B%5B%5B15.534653%2C%2059.708315%5D%2C%20%5B15.481595%2C%2059.795765%5D%2C%20%5B15.407201%2C%2059.816187%5D%2C%20%5B15.401702%2C%2059.86114%5D%2C%20%5B15.481482%2C%2059.906177%5D%2C%20%5B15.530114%2C%2059.96139%5D%2C%20%5B15.608909%2C%2059.958767%5D%2C%20%5B15.67789%2C%2059.945182%5D%2C%20%5B15.709452%2C%2060.018217%5D%2C%20%5B15.662605%2C%2060.049858%5D%2C%20%5B15.71848%2C%2060.1028%5D%2C%20%5B15.715352%2C%2060.135576%5D%2C%20%5B15.754954%2C%2060.149599%5D%2C%20%5B15.779051%2C%2060.182169%5D%2C%20%5B15.893911%2C%2060.168725%5D%2C%20%5B15.966668%2C%2060.198868%5D%2C%20%5B16.019263%2C%2060.190922%5D%2C%20%5B16.052881%2C%2060.150286%5D%2C%20%5B16.10659%2C%2060.14707%5D%2C%20%5B16.170559%2C%2060.126903%5D%2C%20%5B16.153167%2C%2060.086272%5D%2C%20%5B16.191697%2C%2060.076077%5D%2C%20%5B16.377732%2C%2060.08517%5D%2C%20%5B16.420431%2C%2060.124212%5D%2C%20%5B16.515507%2C%2060.154497%5D%2C%20%5B16.516243%2C%2060.185271%5D%2C%20%5B16.5701%2C%2060.196362%5D%2C%20%5B16.720361%2C%2060.199881%5D%2C%20%5B16.735034%2C%2060.118663%5D%2C%20%5B16.692888%2C%2060.110514%5D%2C%20%5B16.721706%2C%2060.041525%5D%2C%20%5B16.691831%2C%2060.010815%5D%2C%20%5B16.789547%2C%2059.969982%5D%2C%20%5B16.79845%2C%2059.922215%5D%2C%20%5B16.77806%2C%2059.899971%5D%2C%20%5B16.831155%2C%2059.860189%5D%2C%20%5B16.79965%2C%2059.818725%5D%2C%20%5B16.744107%2C%2059.781261%5D%2C%20%5B16.794534%2C%2059.731978%5D%2C%20%5B16.868926%2C%2059.674413%5D%2C%20%5B16.904703%2C%2059.567374%5D%2C%20%5B16.820251%2C%2059.572426%5D%2C%20%5B16.792578%2C%2059.548867%5D%2C%20%5B16.713236%2C%2059.532349%5D%2C%20%5B16.655816%2C%2059.572393%5D%2C%20%5B16.58404%2C%2059.598827%5D%2C%20%5B16.515234%2C%2059.581506%5D%2C%20%5B16.550512%2C%2059.55202%5D%2C%20%5B16.484775%2C%2059.518176%5D%2C%20%5B16.445956%2C%2059.491649%5D%2C%20%5B16.324828%2C%2059.47758%5D%2C%20%5B16.240879%2C%2059.498236%5D%2C%20%5B16.1753%2C%2059.477846%5D%2C%20%5B16.058245%2C%2059.479587%5D%2C%20%5B16.086893%2C%2059.436163%5D%2C%20%5B16.230719%2C%2059.442687%5D%2C%20%5B16.223928%2C%2059.415025%5D%2C%20%5B16.272445%2C%2059.395678%5D%2C%20%5B16.259268%2C%2059.37112%5D%2C%20%5B16.135169%2C%2059.357093%5D%2C%20%5B16.051708%2C%2059.364027%5D%2C%20%5B15.997484%2C%2059.374585%5D%2C%20%5B15.926026%2C%2059.342651%5D%2C%20%5B15.854282%2C%2059.299654%5D%2C%20%5B15.7957%2C%2059.285219%5D%2C%20%5B15.757756%2C%2059.320058%5D%2C%20%5B15.616753%2C%2059.322846%5D%2C%20%5B15.641542%2C%2059.354002%5D%2C%20%5B15.579321%2C%2059.428799%5D%2C%20%5B15.707383%2C%2059.424426%5D%2C%20%5B15.705742%2C%2059.478839%5D%2C%20%5B15.673484%2C%2059.493379%5D%2C%20%5B15.709248%2C%2059.529935%5D%2C%20%5B15.613282%2C%2059.525825%5D%2C%20%5B15.610412%2C%2059.591168%5D%2C%20%5B15.598662%2C%2059.633482%5D%2C%20%5B15.533532%2C%2059.629934%5D%2C%20%5B15.489794%2C%2059.657742%5D%2C%20%5B15.534653%2C%2059.708315%5D%5D%5D%5D%2C%20%22type%22%3A%20%22MultiPolygon%22%7D%2C%20%22id%22%3A%20%22V%5Cu00e4stmanland%22%2C%20%22properties%22%3A%20%7B%7D%2C%20%22type%22%3A%20%22Feature%22%7D%2C%20%7B%22bbox%22%3A%20%5B11.696134%2C%2058.897811%2C%2014.463339%2C%2061.058109%5D%2C%20%22geometry%22%3A%20%7B%22coordinates%22%3A%20%5B%5B%5B%5B13.100279%2C%2059.250401%5D%2C%20%5B13.165903%2C%2059.17391%5D%2C%20%5B13.223856%2C%2059.072411%5D%2C%20%5B13.259445%2C%2058.919466%5D%2C%20%5B13.214266%2C%2058.897811%5D%2C%20%5B13.107242%2C%2058.927272%5D%2C%20%5B13.07675%2C%2059.025836%5D%2C%20%5B13.02433%2C%2059.02605%5D%2C%20%5B12.995154%2C%2059.065022%5D%2C%20%5B12.906321%2C%2059.055735%5D%2C%20%5B12.898145%2C%2059.095703%5D%2C%20%5B12.772443%2C%2059.070446%5D%2C%20%5B12.766164%2C%2059.152815%5D%2C%20%5B12.710107%2C%2059.178242%5D%2C%20%5B12.638742%2C%2059.195179%5D%2C%20%5B12.574241%2C%2059.134316%5D%2C%20%5B12.464286%2C%2059.144925%5D%2C%20%5B12.421316%2C%2059.19716%5D%2C%20%5B12.346281%2C%2059.187016%5D%2C%20%5B12.267497%2C%2059.20217%5D%2C%20%5B12.230906%2C%2059.273605%5D%2C%20%5B12.061838%2C%2059.271632%5D%2C%20%5B12.084338%2C%2059.197095%5D%2C%20%5B11.948192%2C%2059.262415%5D%2C%20%5B11.820183%2C%2059.235573%5D%2C%20%5B11.816902%2C%2059.343649%5D%2C%20%5B11.779473%2C%2059.386129%5D%2C%20%5B11.745303%2C%2059.489708%5D%2C%20%5B11.696134%2C%2059.588281%5D%2C%20%5B11.744468%2C%2059.639175%5D%2C%20%5B11.856385%2C%2059.654057%5D%2C%20%5B11.885405%2C%2059.689248%5D%2C%20%5B11.941949%2C%2059.725443%5D%2C%20%5B11.932417%2C%2059.785153%5D%2C%20%5B11.864665%2C%2059.846509%5D%2C%20%5B11.971592%2C%2059.902875%5D%2C%20%5B12.055739%2C%2059.887814%5D%2C%20%5B12.160815%2C%2059.897271%5D%2C%20%5B12.222985%2C%2059.935006%5D%2C%20%5B12.34922%2C%2059.967109%5D%2C%20%5B12.380461%2C%2060.012959%5D%2C%20%5B12.447545%2C%2060.039019%5D%2C%20%5B12.506083%2C%2060.133227%5D%2C%20%5B12.541099%2C%2060.18615%5D%2C%20%5B12.49888%2C%2060.32626%5D%2C%20%5B12.609446%2C%2060.414559%5D%2C%20%5B12.602919%2C%2060.522898%5D%2C%20%5B12.50815%2C%2060.603461%5D%2C%20%5B12.511253%2C%2060.652016%5D%2C%20%5B12.391956%2C%2060.74586%5D%2C%20%5B12.33584%2C%2060.848471%5D%2C%20%5B12.341859%2C%2060.893326%5D%2C%20%5B12.232791%2C%2061.019088%5D%2C%20%5B12.48608%2C%2061.052799%5D%2C%20%5B12.615224%2C%2061.046888%5D%2C%20%5B12.67632%2C%2061.058109%5D%2C%20%5B12.702387%2C%2061.007994%5D%2C%20%5B13.175439%2C%2060.766119%5D%2C%20%5B13.204982%2C%2060.69829%5D%2C%20%5B13.260102%2C%2060.698038%5D%2C%20%5B13.305194%2C%2060.636806%5D%2C%20%5B13.437233%2C%2060.527082%5D%2C%20%5B13.496855%2C%2060.447148%5D%2C%20%5B13.567866%2C%2060.421451%5D%2C%20%5B13.692454%2C%2060.41757%5D%2C%20%5B13.848025%2C%2060.268447%5D%2C%20%5B13.967804%2C%2060.188652%5D%2C%20%5B13.949398%2C%2060.266798%5D%2C%20%5B14.018711%2C%2060.268288%5D%2C%20%5B14.038642%2C%2060.238516%5D%2C%20%5B14.137722%2C%2060.244332%5D%2C%20%5B14.186498%2C%2060.175911%5D%2C%20%5B14.215313%2C%2060.098742%5D%2C%20%5B14.438386%2C%2060.025714%5D%2C%20%5B14.462839%2C%2059.978774%5D%2C%20%5B14.343046%2C%2059.955533%5D%2C%20%5B14.375701%2C%2059.919678%5D%2C%20%5B14.431005%2C%2059.908021%5D%2C%20%5B14.415991%2C%2059.831038%5D%2C%20%5B14.437498%2C%2059.775802%5D%2C%20%5B14.384006%2C%2059.758474%5D%2C%20%5B14.438439%2C%2059.707092%5D%2C%20%5B14.42087%2C%2059.671788%5D%2C%20%5B14.459988%2C%2059.591606%5D%2C%20%5B14.463339%2C%2059.532416%5D%2C%20%5B14.417155%2C%2059.541872%5D%2C%20%5B14.397898%2C%2059.515694%5D%2C%20%5B14.462847%2C%2059.447502%5D%2C%20%5B14.375271%2C%2059.397526%5D%2C%20%5B14.318646%2C%2059.322986%5D%2C%20%5B14.319132%2C%2059.312658%5D%2C%20%5B14.283942%2C%2059.23205%5D%2C%20%5B14.299317%2C%2059.182535%5D%2C%20%5B14.280654%2C%2059.15813%5D%2C%20%5B14.329118%2C%2059.097997%5D%2C%20%5B14.267813%2C%2058.999752%5D%2C%20%5B14.21002%2C%2059.042257%5D%2C%20%5B14.116709%2C%2059.041012%5D%2C%20%5B14.147732%2C%2059.084914%5D%2C%20%5B14.095629%2C%2059.107214%5D%2C%20%5B14.023722%2C%2059.078008%5D%2C%20%5B13.981626%2C%2059.03839%5D%2C%20%5B13.947853%2C%2059.045336%5D%2C%20%5B13.946891%2C%2059.099556%5D%2C%20%5B14.003327%2C%2059.160206%5D%2C%20%5B14.068541%2C%2059.229468%5D%2C%20%5B14.032265%2C%2059.321422%5D%2C%20%5B13.946915%2C%2059.31806%5D%2C%20%5B13.886883%2C%2059.338182%5D%2C%20%5B13.814243%2C%2059.367262%5D%2C%20%5B13.745212%2C%2059.335964%5D%2C%20%5B13.692335%2C%2059.377949%5D%2C%20%5B13.604938%2C%2059.355787%5D%2C%20%5B13.578262%2C%2059.308783%5D%2C%20%5B13.504902%2C%2059.27033%5D%2C%20%5B13.43751%2C%2059.339867%5D%2C%20%5B13.380725%2C%2059.374654%5D%2C%20%5B13.283936%2C%2059.365894%5D%2C%20%5B13.255685%2C%2059.343565%5D%2C%20%5B13.282733%2C%2059.313629%5D%2C%20%5B13.222018%2C%2059.308811%5D%2C%20%5B13.183029%2C%2059.330169%5D%2C%20%5B13.148929%2C%2059.353144%5D%2C%20%5B13.153958%2C%2059.27899%5D%2C%20%5B13.100279%2C%2059.250401%5D%5D%5D%5D%2C%20%22type%22%3A%20%22MultiPolygon%22%7D%2C%20%22id%22%3A%20%22V%5Cu00e4rmland%22%2C%20%22properties%22%3A%20%7B%7D%2C%20%22type%22%3A%20%22Feature%22%7D%2C%20%7B%22bbox%22%3A%20%5B14.267813%2C%2058.696942%2C%2015.77157%2C%2060.122621%5D%2C%20%22geometry%22%3A%20%7B%22coordinates%22%3A%20%5B%5B%5B%5B15.579321%2C%2059.428799%5D%2C%20%5B15.641542%2C%2059.354002%5D%2C%20%5B15.616753%2C%2059.322846%5D%2C%20%5B15.550725%2C%2059.328461%5D%2C%20%5B15.422014%2C%2059.306789%5D%2C%20%5B15.281043%2C%2059.309215%5D%2C%20%5B15.286069%2C%2059.283606%5D%2C%20%5B15.428008%2C%2059.253979%5D%2C%20%5B15.560813%2C%2059.278992%5D%2C%20%5B15.64098%2C%2059.227296%5D%2C%20%5B15.60194%2C%2059.195158%5D%2C%20%5B15.652999%2C%2059.155982%5D%2C%20%5B15.76967%2C%2059.150025%5D%2C%20%5B15.77157%2C%2059.120034%5D%2C%20%5B15.67838%2C%2059.112848%5D%2C%20%5B15.626191%2C%2059.068818%5D%2C%20%5B15.60572%2C%2059.024738%5D%2C%20%5B15.632189%2C%2059.003186%5D%2C%20%5B15.530518%2C%2058.944605%5D%2C%20%5B15.566239%2C%2058.911155%5D%2C%20%5B15.523369%2C%2058.875627%5D%2C%20%5B15.439796%2C%2058.876808%5D%2C%20%5B15.419244%2C%2058.83091%5D%2C%20%5B15.387174%2C%2058.859897%5D%2C%20%5B15.339033%2C%2058.847226%5D%2C%20%5B15.247245%2C%2058.874997%5D%2C%20%5B15.186749%2C%2058.836737%5D%2C%20%5B15.134257%2C%2058.83599%5D%2C%20%5B15.085787%2C%2058.80428%5D%2C%20%5B15.049677%2C%2058.764626%5D%2C%20%5B15.028138%2C%2058.727797%5D%2C%20%5B14.939411%2C%2058.699058%5D%2C%20%5B14.979515%2C%2058.744911%5D%2C%20%5B14.972726%2C%2058.779629%5D%2C%20%5B14.940255%2C%2058.774136%5D%2C%20%5B14.937056%2C%2058.82676%5D%2C%20%5B14.873363%2C%2058.804814%5D%2C%20%5B14.817254%2C%2058.733623%5D%2C%20%5B14.721309%2C%2058.701787%5D%2C%20%5B14.684126%2C%2058.745955%5D%2C%20%5B14.624916%2C%2058.745372%5D%2C%20%5B14.596271%2C%2058.705252%5D%2C%20%5B14.546088%2C%2058.696942%5D%2C%20%5B14.537479%2C%2058.724502%5D%2C%20%5B14.467983%2C%2058.724364%5D%2C%20%5B14.457483%2C%2058.797169%5D%2C%20%5B14.402287%2C%2058.799166%5D%2C%20%5B14.326612%2C%2058.834155%5D%2C%20%5B14.370254%2C%2058.87013%5D%2C%20%5B14.308242%2C%2058.893022%5D%2C%20%5B14.267813%2C%2058.999752%5D%2C%20%5B14.329118%2C%2059.097997%5D%2C%20%5B14.280654%2C%2059.15813%5D%2C%20%5B14.299317%2C%2059.182535%5D%2C%20%5B14.283942%2C%2059.23205%5D%2C%20%5B14.319132%2C%2059.312658%5D%2C%20%5B14.318646%2C%2059.322986%5D%2C%20%5B14.375271%2C%2059.397526%5D%2C%20%5B14.462847%2C%2059.447502%5D%2C%20%5B14.397898%2C%2059.515694%5D%2C%20%5B14.417155%2C%2059.541872%5D%2C%20%5B14.463339%2C%2059.532416%5D%2C%20%5B14.459988%2C%2059.591606%5D%2C%20%5B14.42087%2C%2059.671788%5D%2C%20%5B14.438439%2C%2059.707092%5D%2C%20%5B14.384006%2C%2059.758474%5D%2C%20%5B14.437498%2C%2059.775802%5D%2C%20%5B14.415991%2C%2059.831038%5D%2C%20%5B14.431005%2C%2059.908021%5D%2C%20%5B14.375701%2C%2059.919678%5D%2C%20%5B14.343046%2C%2059.955533%5D%2C%20%5B14.462839%2C%2059.978774%5D%2C%20%5B14.438386%2C%2060.025714%5D%2C%20%5B14.745337%2C%2060.002925%5D%2C%20%5B14.717224%2C%2060.094704%5D%2C%20%5B14.791183%2C%2060.11995%5D%2C%20%5B14.846076%2C%2060.122621%5D%2C%20%5B14.852924%2C%2060.086111%5D%2C%20%5B14.923553%2C%2060.060822%5D%2C%20%5B14.993258%2C%2060.08256%5D%2C%20%5B15.018435%2C%2060.064976%5D%2C%20%5B15.066472%2C%2060.069705%5D%2C%20%5B15.12429%2C%2060.025065%5D%2C%20%5B15.21681%2C%2059.991204%5D%2C%20%5B15.324547%2C%2059.929304%5D%2C%20%5B15.401702%2C%2059.86114%5D%2C%20%5B15.407201%2C%2059.816187%5D%2C%20%5B15.481595%2C%2059.795765%5D%2C%20%5B15.534653%2C%2059.708315%5D%2C%20%5B15.489794%2C%2059.657742%5D%2C%20%5B15.533532%2C%2059.629934%5D%2C%20%5B15.598662%2C%2059.633482%5D%2C%20%5B15.610412%2C%2059.591168%5D%2C%20%5B15.613282%2C%2059.525825%5D%2C%20%5B15.709248%2C%2059.529935%5D%2C%20%5B15.673484%2C%2059.493379%5D%2C%20%5B15.705742%2C%2059.478839%5D%2C%20%5B15.707383%2C%2059.424426%5D%2C%20%5B15.579321%2C%2059.428799%5D%5D%5D%5D%2C%20%22type%22%3A%20%22MultiPolygon%22%7D%2C%20%22id%22%3A%20%22%5Cu00d6rebro%22%2C%20%22properties%22%3A%20%7B%7D%2C%20%22type%22%3A%20%22Feature%22%7D%2C%20%7B%22bbox%22%3A%20%5B11.962305%2C%2061.586199%2C%2017.011966%2C%2065.131043%5D%2C%20%22geometry%22%3A%20%7B%22coordinates%22%3A%20%5B%5B%5B%5B16.472705%2C%2062.821948%5D%2C%20%5B16.397626%2C%2062.77552%5D%2C%20%5B16.368134%2C%2062.707739%5D%2C%20%5B16.252958%2C%2062.723953%5D%2C%20%5B16.128164%2C%2062.70015%5D%2C%20%5B15.963469%2C%2062.718241%5D%2C%20%5B15.595481%2C%2062.634596%5D%2C%20%5B15.256146%2C%2062.611961%5D%2C%20%5B15.141298%2C%2062.574191%5D%2C%20%5B15.077826%2C%2062.604382%5D%2C%20%5B14.916465%2C%2062.613257%5D%2C%20%5B14.794852%2C%2062.601458%5D%2C%20%5B14.801025%2C%2062.541527%5D%2C%20%5B14.835259%2C%2062.46766%5D%2C%20%5B14.780401%2C%2062.466586%5D%2C%20%5B14.805508%2C%2062.416016%5D%2C%20%5B14.868697%2C%2062.408254%5D%2C%20%5B14.947128%2C%2062.325005%5D%2C%20%5B15.159058%2C%2062.26774%5D%2C%20%5B15.273172%2C%2062.307283%5D%2C%20%5B15.324458%2C%2062.289022%5D%2C%20%5B15.334493%2C%2062.222802%5D%2C%20%5B15.395662%2C%2062.203418%5D%2C%20%5B15.412374%2C%2062.128381%5D%2C%20%5B15.083342%2C%2062.007467%5D%2C%20%5B15.111489%2C%2061.962674%5D%2C%20%5B15.102949%2C%2061.908844%5D%2C%20%5B15.103666%2C%2061.861808%5D%2C%20%5B15.040013%2C%2061.884827%5D%2C%20%5B14.895676%2C%2061.890023%5D%2C%20%5B14.872821%2C%2061.838701%5D%2C%20%5B14.798338%2C%2061.900077%5D%2C%20%5B14.72885%2C%2061.879853%5D%2C%20%5B14.689947%2C%2061.912379%5D%2C%20%5B14.526671%2C%2061.791608%5D%2C%20%5B14.500716%2C%2061.630198%5D%2C%20%5B14.41477%2C%2061.586199%5D%2C%20%5B14.356786%2C%2061.613177%5D%2C%20%5B14.201418%2C%2061.632642%5D%2C%20%5B13.983116%2C%2061.634682%5D%2C%20%5B13.89015%2C%2061.651166%5D%2C%20%5B13.613103%2C%2061.671244%5D%2C%20%5B13.56471%2C%2061.655073%5D%2C%20%5B13.506641%2C%2061.691581%5D%2C%20%5B13.514506%2C%2061.736383%5D%2C%20%5B13.416074%2C%2061.82666%5D%2C%20%5B13.20924%2C%2061.935186%5D%2C%20%5B13.371377%2C%2062.010471%5D%2C%20%5B13.322772%2C%2062.017658%5D%2C%20%5B13.295778%2C%2062.061914%5D%2C%20%5B13.159416%2C%2062.027092%5D%2C%20%5B13.038443%2C%2062.08537%5D%2C%20%5B12.940514%2C%2062.146344%5D%2C%20%5B12.795656%2C%2062.23038%5D%2C%20%5B12.616807%2C%2062.221612%5D%2C%20%5B12.302202%2C%2062.261592%5D%2C%20%5B12.050883%2C%2062.616022%5D%2C%20%5B12.130183%2C%2062.751334%5D%2C%20%5B12.074434%2C%2062.903435%5D%2C%20%5B12.1962%2C%2062.995639%5D%2C%20%5B11.962305%2C%2063.26815%5D%2C%20%5B12.198054%2C%2063.470903%5D%2C%20%5B12.133106%2C%2063.584238%5D%2C%20%5B12.273086%2C%2063.659766%5D%2C%20%5B12.297209%2C%2063.714934%5D%2C%20%5B12.363616%2C%2063.752757%5D%2C%20%5B12.657924%2C%2063.971397%5D%2C%20%5B12.871677%2C%2064.049722%5D%2C%20%5B13.179891%2C%2064.095894%5D%2C%20%5B13.281162%2C%2064.086548%5D%2C%20%5B13.70626%2C%2064.048973%5D%2C%20%5B13.962507%2C%2064.014205%5D%2C%20%5B14.162523%2C%2064.201395%5D%2C%20%5B14.130003%2C%2064.406%5D%2C%20%5B14.123828%2C%2064.468206%5D%2C%20%5B14.078629%2C%2064.491602%5D%2C%20%5B13.915959%2C%2064.513937%5D%2C%20%5B13.663074%2C%2064.589792%5D%2C%20%5B14.210872%2C%2065.062247%5D%2C%20%5B14.330409%2C%2065.131043%5D%2C%20%5B14.620805%2C%2065.024379%5D%2C%20%5B14.674495%2C%2065.016749%5D%2C%20%5B14.720448%2C%2064.988942%5D%2C%20%5B14.791616%2C%2064.954046%5D%2C%20%5B14.786702%2C%2064.91632%5D%2C%20%5B14.865919%2C%2064.875005%5D%2C%20%5B14.950443%2C%2064.873165%5D%2C%20%5B15.031683%2C%2064.824446%5D%2C%20%5B15.046683%2C%2064.765941%5D%2C%20%5B15.231793%2C%2064.728705%5D%2C%20%5B15.332943%2C%2064.66257%5D%2C%20%5B15.264455%2C%2064.642234%5D%2C%20%5B15.335205%2C%2064.622689%5D%2C%20%5B15.361526%2C%2064.594345%5D%2C%20%5B15.422533%2C%2064.602329%5D%2C%20%5B15.424268%2C%2064.576922%5D%2C%20%5B15.542991%2C%2064.533292%5D%2C%20%5B15.573138%2C%2064.457665%5D%2C%20%5B15.639758%2C%2064.456239%5D%2C%20%5B15.626895%2C%2064.532844%5D%2C%20%5B15.703184%2C%2064.550821%5D%2C%20%5B15.749737%2C%2064.490632%5D%2C%20%5B15.757897%2C%2064.428699%5D%2C%20%5B16.028569%2C%2064.3498%5D%2C%20%5B16.033083%2C%2064.277145%5D%2C%20%5B16.205936%2C%2064.284373%5D%2C%20%5B16.724291%2C%2064.026835%5D%2C%20%5B16.587966%2C%2063.893795%5D%2C%20%5B16.574807%2C%2063.822034%5D%2C%20%5B16.613574%2C%2063.718331%5D%2C%20%5B16.371423%2C%2063.672135%5D%2C%20%5B16.302706%2C%2063.688617%5D%2C%20%5B16.251437%2C%2063.666061%5D%2C%20%5B16.097767%2C%2063.699727%5D%2C%20%5B15.988516%2C%2063.658453%5D%2C%20%5B15.878331%2C%2063.68775%5D%2C%20%5B15.797167%2C%2063.673845%5D%2C%20%5B15.991134%2C%2063.564156%5D%2C%20%5B15.972622%2C%2063.516247%5D%2C%20%5B15.983423%2C%2063.446879%5D%2C%20%5B16.05556%2C%2063.459322%5D%2C%20%5B16.135344%2C%2063.440536%5D%2C%20%5B16.126467%2C%2063.379445%5D%2C%20%5B16.602047%2C%2063.184227%5D%2C%20%5B17.011966%2C%2062.954213%5D%2C%20%5B16.660556%2C%2062.932433%5D%2C%20%5B16.472705%2C%2062.821948%5D%5D%2C%20%5B%5B14.591905%2C%2063.219426%5D%2C%20%5B14.478459%2C%2063.249619%5D%2C%20%5B14.412261%2C%2063.239798%5D%2C%20%5B14.308383%2C%2063.278458%5D%2C%20%5B14.173006%2C%2063.302077%5D%2C%20%5B14.00628%2C%2063.323769%5D%2C%20%5B14.149049%2C%2063.205559%5D%2C%20%5B14.048493%2C%2063.202377%5D%2C%20%5B14.129802%2C%2063.170237%5D%2C%20%5B14.249512%2C%2063.150898%5D%2C%20%5B14.346283%2C%2063.11799%5D%2C%20%5B14.369153%2C%2063.069463%5D%2C%20%5B14.422848%2C%2062.99194%5D%2C%20%5B14.423634%2C%2062.921472%5D%2C%20%5B14.35856%2C%2062.913408%5D%2C%20%5B14.417869%2C%2062.838646%5D%2C%20%5B14.48128%2C%2062.821445%5D%2C%20%5B14.525677%2C%2062.898988%5D%2C%20%5B14.48793%2C%2063.005385%5D%2C%20%5B14.457057%2C%2063.077156%5D%2C%20%5B14.441772%2C%2063.135595%5D%2C%20%5B14.516426%2C%2063.148648%5D%2C%20%5B14.575319%2C%2063.162352%5D%2C%20%5B14.525863%2C%2063.173525%5D%2C%20%5B14.45926%2C%2063.19806%5D%2C%20%5B14.473024%2C%2063.22457%5D%2C%20%5B14.591905%2C%2063.219426%5D%5D%5D%5D%2C%20%22type%22%3A%20%22MultiPolygon%22%7D%2C%20%22id%22%3A%20%22J%5Cu00e4mtland%22%2C%20%22properties%22%3A%20%7B%7D%2C%20%22type%22%3A%20%22Feature%22%7D%2C%20%7B%22bbox%22%3A%20%5B14.389346%2C%2055.999622%2C%2016.051779%2C%2056.515332%5D%2C%20%22geometry%22%3A%20%7B%22coordinates%22%3A%20%5B%5B%5B%5B14.571692%2C%2056.199631%5D%2C%20%5B14.549294%2C%2056.22433%5D%2C%20%5B14.493297%2C%2056.218306%5D%2C%20%5B14.440534%2C%2056.230139%5D%2C%20%5B14.432274%2C%2056.273924%5D%2C%20%5B14.410644%2C%2056.306663%5D%2C%20%5B14.389346%2C%2056.34119%5D%2C%20%5B14.411509%2C%2056.392395%5D%2C%20%5B14.468415%2C%2056.40204%5D%2C%20%5B14.524113%2C%2056.458071%5D%2C%20%5B14.596628%2C%2056.451776%5D%2C%20%5B14.668357%2C%2056.40091%5D%2C%20%5B14.709738%2C%2056.390819%5D%2C%20%5B14.802183%2C%2056.382091%5D%2C%20%5B14.879696%2C%2056.363295%5D%2C%20%5B14.920314%2C%2056.383279%5D%2C%20%5B14.965603%2C%2056.437939%5D%2C%20%5B15.018739%2C%2056.46021%5D%2C%20%5B15.1263%2C%2056.461223%5D%2C%20%5B15.134868%2C%2056.439024%5D%2C%20%5B15.193455%2C%2056.439219%5D%2C%20%5B15.202063%2C%2056.465826%5D%2C%20%5B15.251069%2C%2056.482822%5D%2C%20%5B15.295673%2C%2056.462098%5D%2C%20%5B15.335467%2C%2056.486835%5D%2C%20%5B15.397778%2C%2056.499377%5D%2C%20%5B15.481077%2C%2056.482255%5D%2C%20%5B15.492359%2C%2056.515332%5D%2C%20%5B15.56411%2C%2056.500064%5D%2C%20%5B15.590232%2C%2056.469506%5D%2C%20%5B15.639212%2C%2056.470076%5D%2C%20%5B15.655409%2C%2056.444331%5D%2C%20%5B15.677092%2C%2056.418851%5D%2C%20%5B15.730499%2C%2056.410058%5D%2C%20%5B15.793941%2C%2056.342689%5D%2C%20%5B15.850886%2C%2056.320939%5D%2C%20%5B15.945668%2C%2056.32385%5D%2C%20%5B15.987303%2C%2056.306643%5D%2C%20%5B16.051779%2C%2056.324125%5D%2C%20%5B16.010612%2C%2056.236313%5D%2C%20%5B15.954949%2C%2056.174791%5D%2C%20%5B15.912381%2C%2056.157663%5D%2C%20%5B15.851109%2C%2056.083813%5D%2C%20%5B15.787262%2C%2056.116888%5D%2C%20%5B15.71074%2C%2056.091014%5D%2C%20%5B15.664136%2C%2056.099394%5D%2C%20%5B15.726235%2C%2056.133452%5D%2C%20%5B15.742301%2C%2056.163198%5D%2C%20%5B15.69267%2C%2056.188067%5D%2C%20%5B15.593546%2C%2056.178012%5D%2C%20%5B15.560697%2C%2056.19091%5D%2C%20%5B15.495396%2C%2056.177472%5D%2C%20%5B15.456451%2C%2056.15575%5D%2C%20%5B15.410572%2C%2056.183893%5D%2C%20%5B15.385923%2C%2056.15826%5D%2C%20%5B15.317038%2C%2056.137108%5D%2C%20%5B15.293481%2C%2056.180122%5D%2C%20%5B15.253007%2C%2056.171703%5D%2C%20%5B15.163987%2C%2056.162516%5D%2C%20%5B15.09662%2C%2056.164662%5D%2C%20%5B15.060275%2C%2056.187871%5D%2C%20%5B15.022164%2C%2056.163574%5D%2C%20%5B14.950904%2C%2056.162249%5D%2C%20%5B14.850227%2C%2056.158942%5D%2C%20%5B14.774776%2C%2056.152336%5D%2C%20%5B14.732955%2C%2056.15286%5D%2C%20%5B14.679337%2C%2056.159433%5D%2C%20%5B14.684451%2C%2056.117607%5D%2C%20%5B14.721067%2C%2056.072208%5D%2C%20%5B14.781885%2C%2056.036298%5D%2C%20%5B14.726788%2C%2055.999622%5D%2C%20%5B14.662864%2C%2056.001363%5D%2C%20%5B14.607912%2C%2056.017027%5D%2C%20%5B14.545672%2C%2056.045697%5D%2C%20%5B14.55409%2C%2056.074148%5D%2C%20%5B14.594618%2C%2056.084594%5D%2C%20%5B14.571692%2C%2056.199631%5D%5D%5D%5D%2C%20%22type%22%3A%20%22MultiPolygon%22%7D%2C%20%22id%22%3A%20%22Blekinge%22%2C%20%22properties%22%3A%20%7B%7D%2C%20%22type%22%3A%20%22Feature%22%7D%2C%20%7B%22bbox%22%3A%20%5B16.691831%2C%2059.474315%2C%2018.600384%2C%2060.652299%5D%2C%20%22geometry%22%3A%20%7B%22coordinates%22%3A%20%5B%5B%5B%5B17.365944%2C%2059.612204%5D%2C%20%5B17.354637%2C%2059.602885%5D%2C%20%5B17.422739%2C%2059.527204%5D%2C%20%5B17.425629%2C%2059.474315%5D%2C%20%5B17.340654%2C%2059.47674%5D%2C%20%5B17.216958%2C%2059.532646%5D%2C%20%5B17.10309%2C%2059.560514%5D%2C%20%5B17.043533%2C%2059.551906%5D%2C%20%5B16.973619%2C%2059.531246%5D%2C%20%5B16.904703%2C%2059.567374%5D%2C%20%5B16.868926%2C%2059.674413%5D%2C%20%5B16.794534%2C%2059.731978%5D%2C%20%5B16.744107%2C%2059.781261%5D%2C%20%5B16.79965%2C%2059.818725%5D%2C%20%5B16.831155%2C%2059.860189%5D%2C%20%5B16.77806%2C%2059.899971%5D%2C%20%5B16.79845%2C%2059.922215%5D%2C%20%5B16.789547%2C%2059.969982%5D%2C%20%5B16.691831%2C%2060.010815%5D%2C%20%5B16.721706%2C%2060.041525%5D%2C%20%5B16.692888%2C%2060.110514%5D%2C%20%5B16.735034%2C%2060.118663%5D%2C%20%5B16.720361%2C%2060.199881%5D%2C%20%5B16.797354%2C%2060.20168%5D%2C%20%5B16.881085%2C%2060.241555%5D%2C%20%5B16.864918%2C%2060.262563%5D%2C%20%5B16.905685%2C%2060.287104%5D%2C%20%5B17.100329%2C%2060.268682%5D%2C%20%5B17.199449%2C%2060.30916%5D%2C%20%5B17.204033%2C%2060.428678%5D%2C%20%5B17.300719%2C%2060.471103%5D%2C%20%5B17.350723%2C%2060.652299%5D%2C%20%5B17.607619%2C%2060.649564%5D%2C%20%5B17.6027%2C%2060.59601%5D%2C%20%5B17.65509%2C%2060.524456%5D%2C%20%5B17.731006%2C%2060.531741%5D%2C%20%5B17.789452%2C%2060.578432%5D%2C%20%5B17.907688%2C%2060.60258%5D%2C%20%5B17.987809%2C%2060.574883%5D%2C%20%5B17.997374%2C%2060.510549%5D%2C%20%5B18.101741%2C%2060.43807%5D%2C%20%5B18.270508%2C%2060.360885%5D%2C%20%5B18.368631%2C%2060.346091%5D%2C%20%5B18.404703%2C%2060.36697%5D%2C%20%5B18.366341%2C%2060.45364%5D%2C%20%5B18.37286%2C%2060.496823%5D%2C%20%5B18.408685%2C%2060.504992%5D%2C%20%5B18.442838%2C%2060.416812%5D%2C%20%5B18.511639%2C%2060.356836%5D%2C%20%5B18.580964%2C%2060.344128%5D%2C%20%5B18.566944%2C%2060.312458%5D%2C%20%5B18.48179%2C%2060.310016%5D%2C%20%5B18.561962%2C%2060.27461%5D%2C%20%5B18.600384%2C%2060.235163%5D%2C%20%5B18.569724%2C%2060.208441%5D%2C%20%5B18.507949%2C%2060.20967%5D%2C%20%5B18.510938%2C%2060.154819%5D%2C%20%5B18.488981%2C%2060.105569%5D%2C%20%5B18.462378%2C%2060.056678%5D%2C%20%5B18.381651%2C%2060.045272%5D%2C%20%5B18.441823%2C%2060.003674%5D%2C%20%5B18.402974%2C%2059.995796%5D%2C%20%5B18.373688%2C%2059.868859%5D%2C%20%5B18.297296%2C%2059.832933%5D%2C%20%5B18.139746%2C%2059.814136%5D%2C%20%5B18.089003%2C%2059.736124%5D%2C%20%5B18.067611%2C%2059.736476%5D%2C%20%5B18.046224%2C%2059.733969%5D%2C%20%5B18.036655%2C%2059.736889%5D%2C%20%5B18.009106%2C%2059.726121%5D%2C%20%5B17.987989%2C%2059.725944%5D%2C%20%5B17.954933%2C%2059.712607%5D%2C%20%5B17.937252%2C%2059.707643%5D%2C%20%5B17.917439%2C%2059.707092%5D%2C%20%5B17.838109%2C%2059.69176%5D%2C%20%5B17.843324%2C%2059.684927%5D%2C%20%5B17.823724%2C%2059.679986%5D%2C%20%5B17.813047%2C%2059.684935%5D%2C%20%5B17.791375%2C%2059.685409%5D%2C%20%5B17.768353%2C%2059.679201%5D%2C%20%5B17.755084%2C%2059.665033%5D%2C%20%5B17.736142%2C%2059.666462%5D%2C%20%5B17.730847%2C%2059.679352%5D%2C%20%5B17.705425%2C%2059.681913%5D%2C%20%5B17.69249%2C%2059.690917%5D%2C%20%5B17.664943%2C%2059.692181%5D%2C%20%5B17.635471%2C%2059.694983%5D%2C%20%5B17.639668%2C%2059.675908%5D%2C%20%5B17.611378%2C%2059.669109%5D%2C%20%5B17.582479%2C%2059.655929%5D%2C%20%5B17.590883%2C%2059.649817%5D%2C%20%5B17.575552%2C%2059.638263%5D%2C%20%5B17.560992%2C%2059.637211%5D%2C%20%5B17.54506%2C%2059.628804%5D%2C%20%5B17.531076%2C%2059.612622%5D%2C%20%5B17.534039%2C%2059.595093%5D%2C%20%5B17.572272%2C%2059.575828%5D%2C%20%5B17.566803%2C%2059.56194%5D%2C%20%5B17.552448%2C%2059.560436%5D%2C%20%5B17.539902%2C%2059.545573%5D%2C%20%5B17.52639%2C%2059.534088%5D%2C%20%5B17.507355%2C%2059.533799%5D%2C%20%5B17.473833%2C%2059.546898%5D%2C%20%5B17.441631%2C%2059.568035%5D%2C%20%5B17.414038%2C%2059.589403%5D%2C%20%5B17.404097%2C%2059.603027%5D%2C%20%5B17.398345%2C%2059.619598%5D%2C%20%5B17.365944%2C%2059.612204%5D%5D%5D%5D%2C%20%22type%22%3A%20%22MultiPolygon%22%7D%2C%20%22id%22%3A%20%22Uppsala%22%2C%20%22properties%22%3A%20%7B%7D%2C%20%22type%22%3A%20%22Feature%22%7D%2C%20%7B%22bbox%22%3A%20%5B15.60572%2C%2058.622002%2C%2017.618799%2C%2059.499396%5D%2C%20%22geometry%22%3A%20%7B%22coordinates%22%3A%20%5B%5B%5B%5B15.957998%2C%2058.964954%5D%2C%20%5B15.861152%2C%2058.998543%5D%2C%20%5B15.842913%2C%2059.024969%5D%2C%20%5B15.793686%2C%2059.038744%5D%2C%20%5B15.741645%2C%2058.980315%5D%2C%20%5B15.632189%2C%2059.003186%5D%2C%20%5B15.60572%2C%2059.024738%5D%2C%20%5B15.626191%2C%2059.068818%5D%2C%20%5B15.67838%2C%2059.112848%5D%2C%20%5B15.77157%2C%2059.120034%5D%2C%20%5B15.76967%2C%2059.150025%5D%2C%20%5B15.836473%2C%2059.146553%5D%2C%20%5B15.88547%2C%2059.17077%5D%2C%20%5B15.8928%2C%2059.206528%5D%2C%20%5B16.003208%2C%2059.227019%5D%2C%20%5B16.071096%2C%2059.240992%5D%2C%20%5B16.18053%2C%2059.246935%5D%2C%20%5B16.262136%2C%2059.263578%5D%2C%20%5B16.298367%2C%2059.295709%5D%2C%20%5B16.256686%2C%2059.29831%5D%2C%20%5B16.065614%2C%2059.266667%5D%2C%20%5B15.994806%2C%2059.294491%5D%2C%20%5B15.854282%2C%2059.299654%5D%2C%20%5B15.926026%2C%2059.342651%5D%2C%20%5B15.997484%2C%2059.374585%5D%2C%20%5B16.051708%2C%2059.364027%5D%2C%20%5B16.135169%2C%2059.357093%5D%2C%20%5B16.259268%2C%2059.37112%5D%2C%20%5B16.272445%2C%2059.395678%5D%2C%20%5B16.223928%2C%2059.415025%5D%2C%20%5B16.230719%2C%2059.442687%5D%2C%20%5B16.418483%2C%2059.449285%5D%2C%20%5B16.516766%2C%2059.459317%5D%2C%20%5B16.606516%2C%2059.449902%5D%2C%20%5B16.704018%2C%2059.465472%5D%2C%20%5B16.785448%2C%2059.467688%5D%2C%20%5B16.838723%2C%2059.480475%5D%2C%20%5B16.952543%2C%2059.452837%5D%2C%20%5B16.969108%2C%2059.487998%5D%2C%20%5B17.015002%2C%2059.499396%5D%2C%20%5B17.073235%2C%2059.477254%5D%2C%20%5B17.042047%2C%2059.441275%5D%2C%20%5B17.078064%2C%2059.377072%5D%2C%20%5B17.153305%2C%2059.379127%5D%2C%20%5B17.119961%2C%2059.439536%5D%2C%20%5B17.147294%2C%2059.461235%5D%2C%20%5B17.28126%2C%2059.442797%5D%2C%20%5B17.324243%2C%2059.39254%5D%2C%20%5B17.272472%2C%2059.359868%5D%2C%20%5B17.303352%2C%2059.355882%5D%2C%20%5B17.312383%2C%2059.324364%5D%2C%20%5B17.257208%2C%2059.304654%5D%2C%20%5B17.284619%2C%2059.267922%5D%2C%20%5B17.2402%2C%2059.242159%5D%2C%20%5B17.254024%2C%2059.1904%5D%2C%20%5B17.303785%2C%2059.141533%5D%2C%20%5B17.288877%2C%2059.050081%5D%2C%20%5B17.363874%2C%2058.992116%5D%2C%20%5B17.521423%2C%2058.991624%5D%2C%20%5B17.525158%2C%2058.967763%5D%2C%20%5B17.599992%2C%2058.947757%5D%2C%20%5B17.618799%2C%2058.904807%5D%2C%20%5B17.568235%2C%2058.878021%5D%2C%20%5B17.590801%2C%2058.850163%5D%2C%20%5B17.557265%2C%2058.83938%5D%2C%20%5B17.492754%2C%2058.867787%5D%2C%20%5B17.474671%2C%2058.804702%5D%2C%20%5B17.500854%2C%2058.788054%5D%2C%20%5B17.44982%2C%2058.785626%5D%2C%20%5B17.430488%2C%2058.787918%5D%2C%20%5B17.403733%2C%2058.791341%5D%2C%20%5B17.388204%2C%2058.746566%5D%2C%20%5B17.322767%2C%2058.754499%5D%2C%20%5B17.281343%2C%2058.729444%5D%2C%20%5B17.179821%2C%2058.742193%5D%2C%20%5B17.127679%2C%2058.742245%5D%2C%20%5B17.07932%2C%2058.769217%5D%2C%20%5B17.013081%2C%2058.755686%5D%2C%20%5B17.082624%2C%2058.721222%5D%2C%20%5B17.132711%2C%2058.696555%5D%2C%20%5B17.088578%2C%2058.661573%5D%2C%20%5B17.028652%2C%2058.683893%5D%2C%20%5B16.969577%2C%2058.687986%5D%2C%20%5B16.926079%2C%2058.676485%5D%2C%20%5B17.009309%2C%2058.663478%5D%2C%20%5B17.010452%2C%2058.641641%5D%2C%20%5B16.901324%2C%2058.622002%5D%2C%20%5B16.81966%2C%2058.627582%5D%2C%20%5B16.748196%2C%2058.632426%5D%2C%20%5B16.687673%2C%2058.679989%5D%2C%20%5B16.545128%2C%2058.705745%5D%2C%20%5B16.369292%2C%2058.709946%5D%2C%20%5B16.252765%2C%2058.829031%5D%2C%20%5B16.226436%2C%2058.849408%5D%2C%20%5B16.166874%2C%2058.857371%5D%2C%20%5B16.098733%2C%2058.897205%5D%2C%20%5B16.053636%2C%2058.941628%5D%2C%20%5B15.957998%2C%2058.964954%5D%5D%5D%5D%2C%20%22type%22%3A%20%22MultiPolygon%22%7D%2C%20%22id%22%3A%20%22S%5Cu00f6dermanland%22%2C%20%22properties%22%3A%20%7B%7D%2C%20%22type%22%3A%20%22Feature%22%7D%2C%20%7B%22bbox%22%3A%20%5B14.537452%2C%2057.700903%2C%2016.902913%2C%2059.038744%5D%2C%20%22geometry%22%3A%20%7B%22coordinates%22%3A%20%5B%5B%5B%5B14.933493%2C%2058.131114%5D%2C%20%5B14.894522%2C%2058.089862%5D%2C%20%5B14.755391%2C%2058.073778%5D%2C%20%5B14.747946%2C%2058.104873%5D%2C%20%5B14.603931%2C%2058.092498%5D%2C%20%5B14.537452%2C%2058.106139%5D%2C%20%5B14.590567%2C%2058.205149%5D%2C%20%5B14.613906%2C%2058.272567%5D%2C%20%5B14.638739%2C%2058.294768%5D%2C%20%5B14.625658%2C%2058.315308%5D%2C%20%5B14.646079%2C%2058.349767%5D%2C%20%5B14.659641%2C%2058.38399%5D%2C%20%5B14.772442%2C%2058.434125%5D%2C%20%5B14.775502%2C%2058.466481%5D%2C%20%5B14.818804%2C%2058.47685%5D%2C%20%5B14.862041%2C%2058.45289%5D%2C%20%5B14.923453%2C%2058.467692%5D%2C%20%5B14.961297%2C%2058.518072%5D%2C%20%5B15.023965%2C%2058.538176%5D%2C%20%5B14.989468%2C%2058.55449%5D%2C%20%5B14.928881%2C%2058.561354%5D%2C%20%5B14.858994%2C%2058.590342%5D%2C%20%5B14.926516%2C%2058.633737%5D%2C%20%5B14.939411%2C%2058.699058%5D%2C%20%5B15.028138%2C%2058.727797%5D%2C%20%5B15.049677%2C%2058.764626%5D%2C%20%5B15.085787%2C%2058.80428%5D%2C%20%5B15.134257%2C%2058.83599%5D%2C%20%5B15.186749%2C%2058.836737%5D%2C%20%5B15.247245%2C%2058.874997%5D%2C%20%5B15.339033%2C%2058.847226%5D%2C%20%5B15.387174%2C%2058.859897%5D%2C%20%5B15.419244%2C%2058.83091%5D%2C%20%5B15.439796%2C%2058.876808%5D%2C%20%5B15.523369%2C%2058.875627%5D%2C%20%5B15.566239%2C%2058.911155%5D%2C%20%5B15.530518%2C%2058.944605%5D%2C%20%5B15.632189%2C%2059.003186%5D%2C%20%5B15.741645%2C%2058.980315%5D%2C%20%5B15.793686%2C%2059.038744%5D%2C%20%5B15.842913%2C%2059.024969%5D%2C%20%5B15.861152%2C%2058.998543%5D%2C%20%5B15.957998%2C%2058.964954%5D%2C%20%5B16.053636%2C%2058.941628%5D%2C%20%5B16.098733%2C%2058.897205%5D%2C%20%5B16.166874%2C%2058.857371%5D%2C%20%5B16.226436%2C%2058.849408%5D%2C%20%5B16.252765%2C%2058.829031%5D%2C%20%5B16.369292%2C%2058.709946%5D%2C%20%5B16.545128%2C%2058.705745%5D%2C%20%5B16.687673%2C%2058.679989%5D%2C%20%5B16.748196%2C%2058.632426%5D%2C%20%5B16.683062%2C%2058.634996%5D%2C%20%5B16.578406%2C%2058.645587%5D%2C%20%5B16.44436%2C%2058.663433%5D%2C%20%5B16.375294%2C%2058.664277%5D%2C%20%5B16.273429%2C%2058.672624%5D%2C%20%5B16.23412%2C%2058.653396%5D%2C%20%5B16.232669%2C%2058.619088%5D%2C%20%5B16.265422%2C%2058.611569%5D%2C%20%5B16.345581%2C%2058.628163%5D%2C%20%5B16.399362%2C%2058.593909%5D%2C%20%5B16.421109%2C%2058.639594%5D%2C%20%5B16.571834%2C%2058.633336%5D%2C%20%5B16.711804%2C%2058.598633%5D%2C%20%5B16.827392%2C%2058.550928%5D%2C%20%5B16.902913%2C%2058.509499%5D%2C%20%5B16.828129%2C%2058.447572%5D%2C%20%5B16.719703%2C%2058.427758%5D%2C%20%5B16.612306%2C%2058.438606%5D%2C%20%5B16.564746%2C%2058.441167%5D%2C%20%5B16.59629%2C%2058.416116%5D%2C%20%5B16.688751%2C%2058.400861%5D%2C%20%5B16.714378%2C%2058.36651%5D%2C%20%5B16.809403%2C%2058.361841%5D%2C%20%5B16.883508%2C%2058.329554%5D%2C%20%5B16.847424%2C%2058.283109%5D%2C%20%5B16.680798%2C%2058.266095%5D%2C%20%5B16.765867%2C%2058.232524%5D%2C%20%5B16.81971%2C%2058.188948%5D%2C%20%5B16.768808%2C%2058.123573%5D%2C%20%5B16.678904%2C%2058.14602%5D%2C%20%5B16.691381%2C%2058.114365%5D%2C%20%5B16.772402%2C%2058.070759%5D%2C%20%5B16.709123%2C%2058.049728%5D%2C%20%5B16.748618%2C%2058.004125%5D%2C%20%5B16.688696%2C%2057.98226%5D%2C%20%5B16.612264%2C%2057.989259%5D%2C%20%5B16.561449%2C%2058.099578%5D%2C%20%5B16.500808%2C%2058.116299%5D%2C%20%5B16.468973%2C%2058.084002%5D%2C%20%5B16.371791%2C%2058.151378%5D%2C%20%5B16.293527%2C%2058.133538%5D%2C%20%5B16.25165%2C%2058.157968%5D%2C%20%5B16.178839%2C%2058.124623%5D%2C%20%5B16.151071%2C%2058.108289%5D%2C%20%5B16.175307%2C%2058.066911%5D%2C%20%5B16.116604%2C%2058.063405%5D%2C%20%5B16.091884%2C%2058.088512%5D%2C%20%5B15.998622%2C%2058.087735%5D%2C%20%5B15.984207%2C%2058.035556%5D%2C%20%5B16.064651%2C%2057.972569%5D%2C%20%5B16.019522%2C%2057.95369%5D%2C%20%5B16.066557%2C%2057.864742%5D%2C%20%5B16.018421%2C%2057.861455%5D%2C%20%5B15.919418%2C%2057.813367%5D%2C%20%5B15.866439%2C%2057.832949%5D%2C%20%5B15.79452%2C%2057.813856%5D%2C%20%5B15.778024%2C%2057.845629%5D%2C%20%5B15.670724%2C%2057.86481%5D%2C%20%5B15.580388%2C%2057.853943%5D%2C%20%5B15.590788%2C%2057.824377%5D%2C%20%5B15.536255%2C%2057.796277%5D%2C%20%5B15.516402%2C%2057.761889%5D%2C%20%5B15.456846%2C%2057.767216%5D%2C%20%5B15.428928%2C%2057.747149%5D%2C%20%5B15.41564%2C%2057.700903%5D%2C%20%5B15.284171%2C%2057.715765%5D%2C%20%5B15.141132%2C%2057.707642%5D%2C%20%5B15.100044%2C%2057.758744%5D%2C%20%5B15.064367%2C%2057.825793%5D%2C%20%5B15.076171%2C%2057.850437%5D%2C%20%5B15.004374%2C%2057.895976%5D%2C%20%5B14.982904%2C%2057.934493%5D%2C%20%5B15.014114%2C%2057.976757%5D%2C%20%5B15.049417%2C%2058.000111%5D%2C%20%5B15.025449%2C%2058.032155%5D%2C%20%5B14.981789%2C%2058.117653%5D%2C%20%5B14.933493%2C%2058.131114%5D%5D%5D%5D%2C%20%22type%22%3A%20%22MultiPolygon%22%7D%2C%20%22id%22%3A%20%22%5Cu00d6sterg%5Cu00f6tland%22%2C%20%22properties%22%3A%20%7B%7D%2C%20%22type%22%3A%20%22Feature%22%7D%2C%20%7B%22bbox%22%3A%20%5B18.082496%2C%2056.912849%2C%2019.305591%2C%2058.004495%5D%2C%20%22geometry%22%3A%20%7B%22coordinates%22%3A%20%5B%5B%5B%5B18.480172%2C%2057.836026%5D%2C%20%5B18.537503%2C%2057.845809%5D%2C%20%5B18.583853%2C%2057.852851%5D%2C%20%5B18.606794%2C%2057.894586%5D%2C%20%5B18.653701%2C%2057.914294%5D%2C%20%5B18.706205%2C%2057.929877%5D%2C%20%5B18.769997%2C%2057.849859%5D%2C%20%5B18.818016%2C%2057.916737%5D%2C%20%5B18.858981%2C%2057.938713%5D%2C%20%5B18.999512%2C%2057.9193%5D%2C%20%5B19.05443%2C%2057.941815%5D%2C%20%5B19.074086%2C%2057.981985%5D%2C%20%5B19.149663%2C%2058.004495%5D%2C%20%5B19.233224%2C%2057.98801%5D%2C%20%5B19.288693%2C%2057.990365%5D%2C%20%5B19.305591%2C%2057.968821%5D%2C%20%5B19.276005%2C%2057.951409%5D%2C%20%5B19.201245%2C%2057.952594%5D%2C%20%5B19.139685%2C%2057.941628%5D%2C%20%5B19.114657%2C%2057.927448%5D%2C%20%5B19.133809%2C%2057.902085%5D%2C%20%5B19.0937%2C%2057.861908%5D%2C%20%5B19.029497%2C%2057.842037%5D%2C%20%5B18.995214%2C%2057.83046%5D%2C%20%5B18.99725%2C%2057.793877%5D%2C%20%5B18.932737%2C%2057.794021%5D%2C%20%5B18.923207%2C%2057.731131%5D%2C%20%5B18.848347%2C%2057.73032%5D%2C%20%5B18.797142%2C%2057.751099%5D%2C%20%5B18.784006%2C%2057.69763%5D%2C%20%5B18.748418%2C%2057.62607%5D%2C%20%5B18.78192%2C%2057.614109%5D%2C%20%5B18.766681%2C%2057.553546%5D%2C%20%5B18.733893%2C%2057.523604%5D%2C%20%5B18.776123%2C%2057.474488%5D%2C%20%5B18.83897%2C%2057.449039%5D%2C%20%5B18.900144%2C%2057.440085%5D%2C%20%5B18.866809%2C%2057.397476%5D%2C%20%5B18.788828%2C%2057.384219%5D%2C%20%5B18.725619%2C%2057.375109%5D%2C%20%5B18.654512%2C%2057.317516%5D%2C%20%5B18.655202%2C%2057.286523%5D%2C%20%5B18.693879%2C%2057.270475%5D%2C%20%5B18.656563%2C%2057.235472%5D%2C%20%5B18.543236%2C%2057.214195%5D%2C%20%5B18.527126%2C%2057.19373%5D%2C%20%5B18.383553%2C%2057.136707%5D%2C%20%5B18.42376%2C%2057.126064%5D%2C%20%5B18.318219%2C%2057.083963%5D%2C%20%5B18.319697%2C%2057.020206%5D%2C%20%5B18.372248%2C%2057.006734%5D%2C%20%5B18.300193%2C%2056.952754%5D%2C%20%5B18.189322%2C%2056.912849%5D%2C%20%5B18.1241%2C%2056.916385%5D%2C%20%5B18.180456%2C%2056.986284%5D%2C%20%5B18.192137%2C%2057.027132%5D%2C%20%5B18.258213%2C%2057.048941%5D%2C%20%5B18.283161%2C%2057.077789%5D%2C%20%5B18.273599%2C%2057.102206%5D%2C%20%5B18.209135%2C%2057.074812%5D%2C%20%5B18.187907%2C%2057.081999%5D%2C%20%5B18.204725%2C%2057.140606%5D%2C%20%5B18.159964%2C%2057.158809%5D%2C%20%5B18.13094%2C%2057.173893%5D%2C%20%5B18.136495%2C%2057.251597%5D%2C%20%5B18.082496%2C%2057.261426%5D%2C%20%5B18.096924%2C%2057.300229%5D%2C%20%5B18.149644%2C%2057.332304%5D%2C%20%5B18.164789%2C%2057.396506%5D%2C%20%5B18.128801%2C%2057.423053%5D%2C%20%5B18.110283%2C%2057.475427%5D%2C%20%5B18.090705%2C%2057.524242%5D%2C%20%5B18.108547%2C%2057.562793%5D%2C%20%5B18.190922%2C%2057.614295%5D%2C%20%5B18.245067%2C%2057.626259%5D%2C%20%5B18.314049%2C%2057.676981%5D%2C%20%5B18.390109%2C%2057.750726%5D%2C%20%5B18.42577%2C%2057.81325%5D%2C%20%5B18.480172%2C%2057.836026%5D%5D%5D%5D%2C%20%22type%22%3A%20%22MultiPolygon%22%7D%2C%20%22id%22%3A%20%22Gotland%22%2C%20%22properties%22%3A%20%7B%7D%2C%20%22type%22%3A%20%22Feature%22%7D%2C%20%7B%22bbox%22%3A%20%5B13.085785%2C%2056.882473%2C%2015.653016%2C%2058.151675%5D%2C%20%22geometry%22%3A%20%7B%22coordinates%22%3A%20%5B%5B%5B%5B14.982904%2C%2057.934493%5D%2C%20%5B15.004374%2C%2057.895976%5D%2C%20%5B15.076171%2C%2057.850437%5D%2C%20%5B15.064367%2C%2057.825793%5D%2C%20%5B15.100044%2C%2057.758744%5D%2C%20%5B15.141132%2C%2057.707642%5D%2C%20%5B15.284171%2C%2057.715765%5D%2C%20%5B15.41564%2C%2057.700903%5D%2C%20%5B15.440178%2C%2057.674156%5D%2C%20%5B15.512473%2C%2057.666273%5D%2C%20%5B15.653016%2C%2057.607188%5D%2C%20%5B15.577978%2C%2057.555643%5D%2C%20%5B15.621515%2C%2057.534937%5D%2C%20%5B15.635469%2C%2057.50695%5D%2C%20%5B15.605147%2C%2057.490698%5D%2C%20%5B15.602013%2C%2057.445663%5D%2C%20%5B15.546469%2C%2057.467093%5D%2C%20%5B15.498566%2C%2057.446449%5D%2C%20%5B15.50353%2C%2057.391894%5D%2C%20%5B15.489426%2C%2057.372841%5D%2C%20%5B15.506575%2C%2057.328408%5D%2C%20%5B15.459605%2C%2057.311317%5D%2C%20%5B15.465022%2C%2057.25855%5D%2C%20%5B15.498833%2C%2057.24568%5D%2C%20%5B15.529736%2C%2057.199947%5D%2C%20%5B15.376503%2C%2057.233055%5D%2C%20%5B15.217452%2C%2057.218833%5D%2C%20%5B15.171525%2C%2057.237745%5D%2C%20%5B15.111677%2C%2057.237554%5D%2C%20%5B15.154359%2C%2057.202582%5D%2C%20%5B15.085108%2C%2057.204718%5D%2C%20%5B15.067522%2C%2057.188847%5D%2C%20%5B15.025798%2C%2057.173733%5D%2C%20%5B14.984682%2C%2057.167005%5D%2C%20%5B14.966587%2C%2057.142711%5D%2C%20%5B14.90985%2C%2057.14045%5D%2C%20%5B14.893132%2C%2057.190151%5D%2C%20%5B14.851394%2C%2057.214141%5D%2C%20%5B14.787426%2C%2057.232074%5D%2C%20%5B14.728704%2C%2057.231638%5D%2C%20%5B14.672048%2C%2057.212999%5D%2C%20%5B14.607963%2C%2057.207366%5D%2C%20%5B14.592126%2C%2057.193761%5D%2C%20%5B14.553088%2C%2057.197626%5D%2C%20%5B14.543757%2C%2057.165607%5D%2C%20%5B14.487092%2C%2057.157714%5D%2C%20%5B14.387274%2C%2057.155035%5D%2C%20%5B14.339753%2C%2057.154452%5D%2C%20%5B14.339561%2C%2057.062396%5D%2C%20%5B14.319967%2C%2057.045335%5D%2C%20%5B14.330163%2C%2057.010519%5D%2C%20%5B14.391922%2C%2056.969435%5D%2C%20%5B14.339491%2C%2056.898104%5D%2C%20%5B14.291757%2C%2056.882473%5D%2C%20%5B14.246998%2C%2056.895574%5D%2C%20%5B14.203745%2C%2056.948287%5D%2C%20%5B14.194718%2C%2056.990266%5D%2C%20%5B14.134599%2C%2057.041974%5D%2C%20%5B14.113097%2C%2057.032209%5D%2C%20%5B14.074017%2C%2057.053976%5D%2C%20%5B14.019631%2C%2057.063828%5D%2C%20%5B13.931482%2C%2057.050019%5D%2C%20%5B13.920673%2C%2057.025265%5D%2C%20%5B13.861778%2C%2057.008223%5D%2C%20%5B13.818448%2C%2057.064372%5D%2C%20%5B13.746509%2C%2057.068311%5D%2C%20%5B13.704496%2C%2057.053413%5D%2C%20%5B13.684731%2C%2056.986377%5D%2C%20%5B13.619938%2C%2056.999543%5D%2C%20%5B13.592135%2C%2057.031454%5D%2C%20%5B13.608011%2C%2057.068616%5D%2C%20%5B13.52657%2C%2057.095698%5D%2C%20%5B13.496227%2C%2057.09163%5D%2C%20%5B13.484658%2C%2057.122793%5D%2C%20%5B13.45944%2C%2057.109478%5D%2C%20%5B13.358339%2C%2057.117461%5D%2C%20%5B13.269247%2C%2057.096025%5D%2C%20%5B13.227982%2C%2057.10678%5D%2C%20%5B13.22009%2C%2057.07646%5D%2C%20%5B13.130984%2C%2057.031503%5D%2C%20%5B13.089936%2C%2057.095662%5D%2C%20%5B13.085785%2C%2057.127078%5D%2C%20%5B13.133071%2C%2057.149162%5D%2C%20%5B13.180235%2C%2057.184467%5D%2C%20%5B13.197654%2C%2057.234212%5D%2C%20%5B13.227497%2C%2057.256397%5D%2C%20%5B13.272494%2C%2057.247305%5D%2C%20%5B13.293275%2C%2057.303508%5D%2C%20%5B13.36894%2C%2057.313522%5D%2C%20%5B13.385212%2C%2057.332655%5D%2C%20%5B13.429498%2C%2057.339761%5D%2C%20%5B13.429862%2C%2057.363185%5D%2C%20%5B13.485828%2C%2057.380595%5D%2C%20%5B13.508062%2C%2057.415684%5D%2C%20%5B13.62086%2C%2057.515298%5D%2C%20%5B13.667189%2C%2057.533059%5D%2C%20%5B13.681863%2C%2057.561258%5D%2C%20%5B13.672666%2C%2057.606756%5D%2C%20%5B13.676211%2C%2057.628246%5D%2C%20%5B13.721829%2C%2057.64062%5D%2C%20%5B13.736587%2C%2057.668812%5D%2C%20%5B13.707236%2C%2057.707407%5D%2C%20%5B13.710713%2C%2057.734912%5D%2C%20%5B13.742481%2C%2057.764137%5D%2C%20%5B13.74124%2C%2057.843556%5D%2C%20%5B13.748984%2C%2057.882884%5D%2C%20%5B13.70867%2C%2057.937584%5D%2C%20%5B13.70825%2C%2057.982097%5D%2C%20%5B13.757648%2C%2058.014156%5D%2C%20%5B13.776144%2C%2058.049999%5D%2C%20%5B13.798256%2C%2058.053807%5D%2C%20%5B13.846553%2C%2058.038987%5D%2C%20%5B13.875628%2C%2058.050289%5D%2C%20%5B13.950773%2C%2058.0342%5D%2C%20%5B13.959974%2C%2058.009422%5D%2C%20%5B14.068404%2C%2058.028694%5D%2C%20%5B14.071584%2C%2058.046581%5D%2C%20%5B14.114025%2C%2058.075251%5D%2C%20%5B14.113049%2C%2058.151675%5D%2C%20%5B14.212836%2C%2058.145696%5D%2C%20%5B14.193783%2C%2058.066012%5D%2C%20%5B14.157633%2C%2057.997373%5D%2C%20%5B14.116689%2C%2057.957826%5D%2C%20%5B14.113916%2C%2057.885777%5D%2C%20%5B14.141808%2C%2057.871813%5D%2C%20%5B14.158137%2C%2057.831319%5D%2C%20%5B14.150731%2C%2057.790164%5D%2C%20%5B14.17918%2C%2057.779765%5D%2C%20%5B14.208461%2C%2057.792782%5D%2C%20%5B14.259509%2C%2057.795696%5D%2C%20%5B14.266616%2C%2057.853102%5D%2C%20%5B14.285504%2C%2057.900915%5D%2C%20%5B14.351997%2C%2057.968027%5D%2C%20%5B14.449941%2C%2058.002837%5D%2C%20%5B14.468131%2C%2058.045251%5D%2C%20%5B14.537452%2C%2058.106139%5D%2C%20%5B14.603931%2C%2058.092498%5D%2C%20%5B14.747946%2C%2058.104873%5D%2C%20%5B14.755391%2C%2058.073778%5D%2C%20%5B14.894522%2C%2058.089862%5D%2C%20%5B14.933493%2C%2058.131114%5D%2C%20%5B14.981789%2C%2058.117653%5D%2C%20%5B15.025449%2C%2058.032155%5D%2C%20%5B15.049417%2C%2058.000111%5D%2C%20%5B15.014114%2C%2057.976757%5D%2C%20%5B14.982904%2C%2057.934493%5D%5D%5D%5D%2C%20%22type%22%3A%20%22MultiPolygon%22%7D%2C%20%22id%22%3A%20%22J%5Cu00f6nk%5Cu00f6ping%22%2C%20%22properties%22%3A%20%7B%7D%2C%20%22type%22%3A%20%22Feature%22%7D%2C%20%7B%22bbox%22%3A%20%5B13.296026%2C%2056.363295%2C%2015.841191%2C%2057.237745%5D%2C%20%22geometry%22%3A%20%7B%22coordinates%22%3A%20%5B%5B%5B%5B15.067522%2C%2057.188847%5D%2C%20%5B15.085108%2C%2057.204718%5D%2C%20%5B15.154359%2C%2057.202582%5D%2C%20%5B15.111677%2C%2057.237554%5D%2C%20%5B15.171525%2C%2057.237745%5D%2C%20%5B15.217452%2C%2057.218833%5D%2C%20%5B15.376503%2C%2057.233055%5D%2C%20%5B15.529736%2C%2057.199947%5D%2C%20%5B15.555451%2C%2057.184385%5D%2C%20%5B15.535439%2C%2057.153032%5D%2C%20%5B15.626899%2C%2057.131195%5D%2C%20%5B15.66376%2C%2057.087323%5D%2C%20%5B15.73628%2C%2057.070772%5D%2C%20%5B15.798508%2C%2057.022857%5D%2C%20%5B15.841191%2C%2056.976732%5D%2C%20%5B15.809022%2C%2056.920846%5D%2C%20%5B15.692473%2C%2056.915478%5D%2C%20%5B15.651908%2C%2056.910756%5D%2C%20%5B15.553748%2C%2056.929436%5D%2C%20%5B15.511649%2C%2056.917527%5D%2C%20%5B15.509765%2C%2056.898341%5D%2C%20%5B15.551395%2C%2056.836111%5D%2C%20%5B15.540488%2C%2056.80543%5D%2C%20%5B15.436933%2C%2056.797228%5D%2C%20%5B15.357503%2C%2056.778477%5D%2C%20%5B15.419726%2C%2056.715069%5D%2C%20%5B15.40757%2C%2056.672401%5D%2C%20%5B15.418521%2C%2056.646428%5D%2C%20%5B15.361895%2C%2056.604605%5D%2C%20%5B15.370937%2C%2056.558855%5D%2C%20%5B15.341842%2C%2056.544326%5D%2C%20%5B15.335467%2C%2056.486835%5D%2C%20%5B15.295673%2C%2056.462098%5D%2C%20%5B15.251069%2C%2056.482822%5D%2C%20%5B15.202063%2C%2056.465826%5D%2C%20%5B15.193455%2C%2056.439219%5D%2C%20%5B15.134868%2C%2056.439024%5D%2C%20%5B15.1263%2C%2056.461223%5D%2C%20%5B15.018739%2C%2056.46021%5D%2C%20%5B14.965603%2C%2056.437939%5D%2C%20%5B14.920314%2C%2056.383279%5D%2C%20%5B14.879696%2C%2056.363295%5D%2C%20%5B14.802183%2C%2056.382091%5D%2C%20%5B14.709738%2C%2056.390819%5D%2C%20%5B14.668357%2C%2056.40091%5D%2C%20%5B14.596628%2C%2056.451776%5D%2C%20%5B14.524113%2C%2056.458071%5D%2C%20%5B14.414471%2C%2056.480728%5D%2C%20%5B14.2527%2C%2056.503536%5D%2C%20%5B14.237598%2C%2056.49167%5D%2C%20%5B14.133104%2C%2056.507785%5D%2C%20%5B14.101653%2C%2056.532822%5D%2C%20%5B14.062312%2C%2056.531162%5D%2C%20%5B14.05449%2C%2056.504483%5D%2C%20%5B14.01584%2C%2056.468487%5D%2C%20%5B13.927959%2C%2056.467359%5D%2C%20%5B13.869608%2C%2056.448524%5D%2C%20%5B13.788513%2C%2056.448777%5D%2C%20%5B13.704803%2C%2056.427904%5D%2C%20%5B13.576733%2C%2056.409336%5D%2C%20%5B13.496908%2C%2056.40995%5D%2C%20%5B13.456948%2C%2056.430976%5D%2C%20%5B13.471123%2C%2056.452579%5D%2C%20%5B13.448121%2C%2056.471648%5D%2C%20%5B13.474169%2C%2056.51376%5D%2C%20%5B13.443759%2C%2056.569216%5D%2C%20%5B13.416884%2C%2056.584827%5D%2C%20%5B13.401812%2C%2056.613742%5D%2C%20%5B13.373456%2C%2056.662475%5D%2C%20%5B13.325975%2C%2056.693385%5D%2C%20%5B13.321794%2C%2056.772887%5D%2C%20%5B13.296026%2C%2056.847312%5D%2C%20%5B13.340123%2C%2056.87126%5D%2C%20%5B13.371326%2C%2056.860895%5D%2C%20%5B13.469148%2C%2056.878251%5D%2C%20%5B13.486996%2C%2056.866637%5D%2C%20%5B13.533333%2C%2056.88982%5D%2C%20%5B13.612393%2C%2056.891674%5D%2C%20%5B13.621803%2C%2056.909283%5D%2C%20%5B13.660061%2C%2056.902122%5D%2C%20%5B13.692812%2C%2056.961956%5D%2C%20%5B13.684731%2C%2056.986377%5D%2C%20%5B13.704496%2C%2057.053413%5D%2C%20%5B13.746509%2C%2057.068311%5D%2C%20%5B13.818448%2C%2057.064372%5D%2C%20%5B13.861778%2C%2057.008223%5D%2C%20%5B13.920673%2C%2057.025265%5D%2C%20%5B13.931482%2C%2057.050019%5D%2C%20%5B14.019631%2C%2057.063828%5D%2C%20%5B14.074017%2C%2057.053976%5D%2C%20%5B14.113097%2C%2057.032209%5D%2C%20%5B14.134599%2C%2057.041974%5D%2C%20%5B14.194718%2C%2056.990266%5D%2C%20%5B14.203745%2C%2056.948287%5D%2C%20%5B14.246998%2C%2056.895574%5D%2C%20%5B14.291757%2C%2056.882473%5D%2C%20%5B14.339491%2C%2056.898104%5D%2C%20%5B14.391922%2C%2056.969435%5D%2C%20%5B14.330163%2C%2057.010519%5D%2C%20%5B14.319967%2C%2057.045335%5D%2C%20%5B14.339561%2C%2057.062396%5D%2C%20%5B14.339753%2C%2057.154452%5D%2C%20%5B14.387274%2C%2057.155035%5D%2C%20%5B14.487092%2C%2057.157714%5D%2C%20%5B14.543757%2C%2057.165607%5D%2C%20%5B14.553088%2C%2057.197626%5D%2C%20%5B14.592126%2C%2057.193761%5D%2C%20%5B14.607963%2C%2057.207366%5D%2C%20%5B14.672048%2C%2057.212999%5D%2C%20%5B14.728704%2C%2057.231638%5D%2C%20%5B14.787426%2C%2057.232074%5D%2C%20%5B14.851394%2C%2057.214141%5D%2C%20%5B14.893132%2C%2057.190151%5D%2C%20%5B14.90985%2C%2057.14045%5D%2C%20%5B14.966587%2C%2057.142711%5D%2C%20%5B14.984682%2C%2057.167005%5D%2C%20%5B15.025798%2C%2057.173733%5D%2C%20%5B15.067522%2C%2057.188847%5D%5D%5D%5D%2C%20%22type%22%3A%20%22MultiPolygon%22%7D%2C%20%22id%22%3A%20%22Kronoberg%22%2C%20%22properties%22%3A%20%7B%7D%2C%20%22type%22%3A%20%22Feature%22%7D%2C%20%7B%22bbox%22%3A%20%5B14.780401%2C%2062.147357%2C%2019.278277%2C%2064.026835%5D%2C%20%22geometry%22%3A%20%7B%22coordinates%22%3A%20%5B%5B%5B%5B16.240344%2C%2062.253612%5D%2C%20%5B16.060189%2C%2062.250909%5D%2C%20%5B16.021537%2C%2062.270777%5D%2C%20%5B15.620056%2C%2062.358247%5D%2C%20%5B15.478617%2C%2062.352934%5D%2C%20%5B15.324458%2C%2062.289022%5D%2C%20%5B15.273172%2C%2062.307283%5D%2C%20%5B15.159058%2C%2062.26774%5D%2C%20%5B14.947128%2C%2062.325005%5D%2C%20%5B14.868697%2C%2062.408254%5D%2C%20%5B14.805508%2C%2062.416016%5D%2C%20%5B14.780401%2C%2062.466586%5D%2C%20%5B14.835259%2C%2062.46766%5D%2C%20%5B14.801025%2C%2062.541527%5D%2C%20%5B14.794852%2C%2062.601458%5D%2C%20%5B14.916465%2C%2062.613257%5D%2C%20%5B15.077826%2C%2062.604382%5D%2C%20%5B15.141298%2C%2062.574191%5D%2C%20%5B15.256146%2C%2062.611961%5D%2C%20%5B15.595481%2C%2062.634596%5D%2C%20%5B15.963469%2C%2062.718241%5D%2C%20%5B16.128164%2C%2062.70015%5D%2C%20%5B16.252958%2C%2062.723953%5D%2C%20%5B16.368134%2C%2062.707739%5D%2C%20%5B16.397626%2C%2062.77552%5D%2C%20%5B16.472705%2C%2062.821948%5D%2C%20%5B16.660556%2C%2062.932433%5D%2C%20%5B17.011966%2C%2062.954213%5D%2C%20%5B16.602047%2C%2063.184227%5D%2C%20%5B16.126467%2C%2063.379445%5D%2C%20%5B16.135344%2C%2063.440536%5D%2C%20%5B16.05556%2C%2063.459322%5D%2C%20%5B15.983423%2C%2063.446879%5D%2C%20%5B15.972622%2C%2063.516247%5D%2C%20%5B15.991134%2C%2063.564156%5D%2C%20%5B15.797167%2C%2063.673845%5D%2C%20%5B15.878331%2C%2063.68775%5D%2C%20%5B15.988516%2C%2063.658453%5D%2C%20%5B16.097767%2C%2063.699727%5D%2C%20%5B16.251437%2C%2063.666061%5D%2C%20%5B16.302706%2C%2063.688617%5D%2C%20%5B16.371423%2C%2063.672135%5D%2C%20%5B16.613574%2C%2063.718331%5D%2C%20%5B16.574807%2C%2063.822034%5D%2C%20%5B16.587966%2C%2063.893795%5D%2C%20%5B16.724291%2C%2064.026835%5D%2C%20%5B16.845236%2C%2063.967878%5D%2C%20%5B17.260747%2C%2063.929773%5D%2C%20%5B17.707624%2C%2063.893245%5D%2C%20%5B18.381942%2C%2064.00829%5D%2C%20%5B18.473282%2C%2063.967387%5D%2C%20%5B18.424754%2C%2063.925266%5D%2C%20%5B18.487956%2C%2063.849883%5D%2C%20%5B18.6326%2C%2063.839684%5D%2C%20%5B18.751064%2C%2063.825746%5D%2C%20%5B18.800519%2C%2063.796672%5D%2C%20%5B18.902779%2C%2063.801993%5D%2C%20%5B18.964029%2C%2063.768351%5D%2C%20%5B19.181385%2C%2063.608157%5D%2C%20%5B19.177499%2C%2063.566526%5D%2C%20%5B19.278277%2C%2063.479233%5D%2C%20%5B19.228351%2C%2063.340229%5D%2C%20%5B19.114491%2C%2063.328837%5D%2C%20%5B19.099144%2C%2063.246162%5D%2C%20%5B19.018195%2C%2063.20307%5D%2C%20%5B18.935877%2C%2063.231118%5D%2C%20%5B18.719234%2C%2063.168825%5D%2C%20%5B18.608069%2C%2063.173271%5D%2C%20%5B18.501343%2C%2063.081461%5D%2C%20%5B18.485984%2C%2063.034639%5D%2C%20%5B18.401437%2C%2063.033415%5D%2C%20%5B18.379081%2C%2063.004073%5D%2C%20%5B18.542346%2C%2062.990531%5D%2C%20%5B18.489797%2C%2062.921514%5D%2C%20%5B18.382678%2C%2062.843678%5D%2C%20%5B18.26945%2C%2062.884483%5D%2C%20%5B18.218713%2C%2062.864419%5D%2C%20%5B18.276776%2C%2062.836662%5D%2C%20%5B18.135396%2C%2062.772037%5D%2C%20%5B18.007748%2C%2062.785754%5D%2C%20%5B18.021163%2C%2062.750897%5D%2C%20%5B18.157089%2C%2062.754154%5D%2C%20%5B18.048175%2C%2062.678104%5D%2C%20%5B17.976248%2C%2062.652173%5D%2C%20%5B18.062627%2C%2062.615273%5D%2C%20%5B17.906459%2C%2062.560644%5D%2C%20%5B17.846163%2C%2062.484796%5D%2C%20%5B17.74874%2C%2062.511415%5D%2C%20%5B17.676342%2C%2062.48178%5D%2C%20%5B17.696044%2C%2062.43321%5D%2C%20%5B17.548662%2C%2062.450342%5D%2C%20%5B17.477133%2C%2062.522269%5D%2C%20%5B17.388714%2C%2062.507458%5D%2C%20%5B17.389571%2C%2062.480786%5D%2C%20%5B17.493282%2C%2062.461272%5D%2C%20%5B17.511441%2C%2062.381976%5D%2C%20%5B17.434163%2C%2062.372535%5D%2C%20%5B17.414353%2C%2062.333888%5D%2C%20%5B17.492703%2C%2062.272416%5D%2C%20%5B17.641981%2C%2062.251532%5D%2C%20%5B17.612077%2C%2062.206312%5D%2C%20%5B17.52385%2C%2062.197695%5D%2C%20%5B17.479641%2C%2062.147357%5D%2C%20%5B17.328438%2C%2062.168828%5D%2C%20%5B17.237118%2C%2062.162065%5D%2C%20%5B17.142944%2C%2062.184445%5D%2C%20%5B17.092458%2C%2062.171327%5D%2C%20%5B16.969356%2C%2062.188173%5D%2C%20%5B16.905774%2C%2062.183075%5D%2C%20%5B16.794786%2C%2062.215318%5D%2C%20%5B16.512874%2C%2062.248643%5D%2C%20%5B16.240344%2C%2062.253612%5D%5D%5D%5D%2C%20%22type%22%3A%20%22MultiPolygon%22%7D%2C%20%22id%22%3A%20%22V%5Cu00e4sternorrland%22%2C%20%22properties%22%3A%20%7B%7D%2C%20%22type%22%3A%20%22Feature%22%7D%2C%20%7B%22bbox%22%3A%20%5B15.335467%2C%2056.202265%2C%2017.129441%2C%2058.157968%5D%2C%20%22geometry%22%3A%20%7B%22coordinates%22%3A%20%5B%5B%5B%5B15.73628%2C%2057.070772%5D%2C%20%5B15.66376%2C%2057.087323%5D%2C%20%5B15.626899%2C%2057.131195%5D%2C%20%5B15.535439%2C%2057.153032%5D%2C%20%5B15.555451%2C%2057.184385%5D%2C%20%5B15.529736%2C%2057.199947%5D%2C%20%5B15.498833%2C%2057.24568%5D%2C%20%5B15.465022%2C%2057.25855%5D%2C%20%5B15.459605%2C%2057.311317%5D%2C%20%5B15.506575%2C%2057.328408%5D%2C%20%5B15.489426%2C%2057.372841%5D%2C%20%5B15.50353%2C%2057.391894%5D%2C%20%5B15.498566%2C%2057.446449%5D%2C%20%5B15.546469%2C%2057.467093%5D%2C%20%5B15.602013%2C%2057.445663%5D%2C%20%5B15.605147%2C%2057.490698%5D%2C%20%5B15.635469%2C%2057.50695%5D%2C%20%5B15.621515%2C%2057.534937%5D%2C%20%5B15.577978%2C%2057.555643%5D%2C%20%5B15.653016%2C%2057.607188%5D%2C%20%5B15.512473%2C%2057.666273%5D%2C%20%5B15.440178%2C%2057.674156%5D%2C%20%5B15.41564%2C%2057.700903%5D%2C%20%5B15.428928%2C%2057.747149%5D%2C%20%5B15.456846%2C%2057.767216%5D%2C%20%5B15.516402%2C%2057.761889%5D%2C%20%5B15.536255%2C%2057.796277%5D%2C%20%5B15.590788%2C%2057.824377%5D%2C%20%5B15.580388%2C%2057.853943%5D%2C%20%5B15.670724%2C%2057.86481%5D%2C%20%5B15.778024%2C%2057.845629%5D%2C%20%5B15.79452%2C%2057.813856%5D%2C%20%5B15.866439%2C%2057.832949%5D%2C%20%5B15.919418%2C%2057.813367%5D%2C%20%5B16.018421%2C%2057.861455%5D%2C%20%5B16.066557%2C%2057.864742%5D%2C%20%5B16.019522%2C%2057.95369%5D%2C%20%5B16.064651%2C%2057.972569%5D%2C%20%5B15.984207%2C%2058.035556%5D%2C%20%5B15.998622%2C%2058.087735%5D%2C%20%5B16.091884%2C%2058.088512%5D%2C%20%5B16.116604%2C%2058.063405%5D%2C%20%5B16.175307%2C%2058.066911%5D%2C%20%5B16.151071%2C%2058.108289%5D%2C%20%5B16.178839%2C%2058.124623%5D%2C%20%5B16.25165%2C%2058.157968%5D%2C%20%5B16.293527%2C%2058.133538%5D%2C%20%5B16.371791%2C%2058.151378%5D%2C%20%5B16.468973%2C%2058.084002%5D%2C%20%5B16.500808%2C%2058.116299%5D%2C%20%5B16.561449%2C%2058.099578%5D%2C%20%5B16.612264%2C%2057.989259%5D%2C%20%5B16.688696%2C%2057.98226%5D%2C%20%5B16.748618%2C%2058.004125%5D%2C%20%5B16.76535%2C%2057.922632%5D%2C%20%5B16.743799%2C%2057.864294%5D%2C%20%5B16.685862%2C%2057.890021%5D%2C%20%5B16.600067%2C%2057.899484%5D%2C%20%5B16.533051%2C%2057.847835%5D%2C%20%5B16.617894%2C%2057.780498%5D%2C%20%5B16.69229%2C%2057.753673%5D%2C%20%5B16.693541%2C%2057.704646%5D%2C%20%5B16.635165%2C%2057.686904%5D%2C%20%5B16.605138%2C%2057.647274%5D%2C%20%5B16.639129%2C%2057.621401%5D%2C%20%5B16.706455%2C%2057.634893%5D%2C%20%5B16.705049%2C%2057.602371%5D%2C%20%5B16.670409%2C%2057.584824%5D%2C%20%5B16.578656%2C%2057.58083%5D%2C%20%5B16.668145%2C%2057.521552%5D%2C%20%5B16.689441%2C%2057.485649%5D%2C%20%5B16.654672%2C%2057.426424%5D%2C%20%5B16.618044%2C%2057.37277%5D%2C%20%5B16.547704%2C%2057.372153%5D%2C%20%5B16.557682%2C%2057.317111%5D%2C%20%5B16.480141%2C%2057.286166%5D%2C%20%5B16.498453%2C%2057.23781%5D%2C%20%5B16.462398%2C%2057.198591%5D%2C%20%5B16.497532%2C%2057.132787%5D%2C%20%5B16.58075%2C%2057.110784%5D%2C%20%5B16.490503%2C%2057.039056%5D%2C%20%5B16.454498%2C%2056.985349%5D%2C%20%5B16.460554%2C%2056.94145%5D%2C%20%5B16.435644%2C%2056.887589%5D%2C%20%5B16.406444%2C%2056.796592%5D%2C%20%5B16.442195%2C%2056.808637%5D%2C%20%5B16.469087%2C%2056.783244%5D%2C%20%5B16.438115%2C%2056.76363%5D%2C%20%5B16.39662%2C%2056.782773%5D%2C%20%5B16.353361%2C%2056.682444%5D%2C%20%5B16.279036%2C%2056.672977%5D%2C%20%5B16.23525%2C%2056.625207%5D%2C%20%5B16.221823%2C%2056.59532%5D%2C%20%5B16.224069%2C%2056.548075%5D%2C%20%5B16.186234%2C%2056.539746%5D%2C%20%5B16.162806%2C%2056.494221%5D%2C%20%5B16.119376%2C%2056.470539%5D%2C%20%5B16.083646%2C%2056.403502%5D%2C%20%5B16.051779%2C%2056.324125%5D%2C%20%5B15.987303%2C%2056.306643%5D%2C%20%5B15.945668%2C%2056.32385%5D%2C%20%5B15.850886%2C%2056.320939%5D%2C%20%5B15.793941%2C%2056.342689%5D%2C%20%5B15.730499%2C%2056.410058%5D%2C%20%5B15.677092%2C%2056.418851%5D%2C%20%5B15.655409%2C%2056.444331%5D%2C%20%5B15.639212%2C%2056.470076%5D%2C%20%5B15.590232%2C%2056.469506%5D%2C%20%5B15.56411%2C%2056.500064%5D%2C%20%5B15.492359%2C%2056.515332%5D%2C%20%5B15.481077%2C%2056.482255%5D%2C%20%5B15.397778%2C%2056.499377%5D%2C%20%5B15.335467%2C%2056.486835%5D%2C%20%5B15.341842%2C%2056.544326%5D%2C%20%5B15.370937%2C%2056.558855%5D%2C%20%5B15.361895%2C%2056.604605%5D%2C%20%5B15.418521%2C%2056.646428%5D%2C%20%5B15.40757%2C%2056.672401%5D%2C%20%5B15.419726%2C%2056.715069%5D%2C%20%5B15.357503%2C%2056.778477%5D%2C%20%5B15.436933%2C%2056.797228%5D%2C%20%5B15.540488%2C%2056.80543%5D%2C%20%5B15.551395%2C%2056.836111%5D%2C%20%5B15.509765%2C%2056.898341%5D%2C%20%5B15.511649%2C%2056.917527%5D%2C%20%5B15.553748%2C%2056.929436%5D%2C%20%5B15.651908%2C%2056.910756%5D%2C%20%5B15.692473%2C%2056.915478%5D%2C%20%5B15.809022%2C%2056.920846%5D%2C%20%5B15.841191%2C%2056.976732%5D%2C%20%5B15.798508%2C%2057.022857%5D%2C%20%5B15.73628%2C%2057.070772%5D%5D%5D%2C%20%5B%5B%5B16.520688%2C%2056.765196%5D%2C%20%5B16.574051%2C%2056.823108%5D%2C%20%5B16.608106%2C%2056.882362%5D%2C%20%5B16.648983%2C%2056.901258%5D%2C%20%5B16.708283%2C%2056.900727%5D%2C%20%5B16.739829%2C%2056.961948%5D%2C%20%5B16.771627%2C%2057.010453%5D%2C%20%5B16.81317%2C%2057.031077%5D%2C%20%5B16.843359%2C%2057.072445%5D%2C%20%5B16.889814%2C%2057.125333%5D%2C%20%5B16.915868%2C%2057.176059%5D%2C%20%5B16.904344%2C%2057.209513%5D%2C%20%5B16.944394%2C%2057.222977%5D%2C%20%5B16.955796%2C%2057.254789%5D%2C%20%5B16.965191%2C%2057.304893%5D%2C%20%5B17.019677%2C%2057.348122%5D%2C%20%5B17.061281%2C%2057.366878%5D%2C%20%5B17.083872%2C%2057.350729%5D%2C%20%5B17.112891%2C%2057.359501%5D%2C%20%5B17.129441%2C%2057.320201%5D%2C%20%5B17.078943%2C%2057.305742%5D%2C%20%5B17.053387%2C%2057.271325%5D%2C%20%5B17.067561%2C%2057.248536%5D%2C%20%5B17.065542%2C%2057.188827%5D%2C%20%5B17.038566%2C%2057.174466%5D%2C%20%5B16.987234%2C%2057.116532%5D%2C%20%5B16.950107%2C%2057.048481%5D%2C%20%5B16.910592%2C%2057.049519%5D%2C%20%5B16.935506%2C%2057.016895%5D%2C%20%5B16.879121%2C%2056.990126%5D%2C%20%5B16.87523%2C%2056.921503%5D%2C%20%5B16.853233%2C%2056.899507%5D%2C%20%5B16.855434%2C%2056.868532%5D%2C%20%5B16.826708%2C%2056.832515%5D%2C%20%5B16.778744%2C%2056.825049%5D%2C%20%5B16.702273%2C%2056.678204%5D%2C%20%5B16.683492%2C%2056.62334%5D%2C%20%5B16.691198%2C%2056.601058%5D%2C%20%5B16.638396%2C%2056.572153%5D%2C%20%5B16.630485%2C%2056.525587%5D%2C%20%5B16.599486%2C%2056.464341%5D%2C%20%5B16.557049%2C%2056.409318%5D%2C%20%5B16.571843%2C%2056.375665%5D%2C%20%5B16.506417%2C%2056.29145%5D%2C%20%5B16.473472%2C%2056.233946%5D%2C%20%5B16.407764%2C%2056.202265%5D%2C%20%5B16.416581%2C%2056.254205%5D%2C%20%5B16.397976%2C%2056.271791%5D%2C%20%5B16.405709%2C%2056.43069%5D%2C%20%5B16.384099%2C%2056.435795%5D%2C%20%5B16.378481%2C%2056.537627%5D%2C%20%5B16.388066%2C%2056.578642%5D%2C%20%5B16.438856%2C%2056.627706%5D%2C%20%5B16.45792%2C%2056.680746%5D%2C%20%5B16.520688%2C%2056.765196%5D%5D%5D%5D%2C%20%22type%22%3A%20%22MultiPolygon%22%7D%2C%20%22id%22%3A%20%22Kalmar%22%2C%20%22properties%22%3A%20%7B%7D%2C%20%22type%22%3A%20%22Feature%22%7D%2C%20%7B%22bbox%22%3A%20%5B12.459082%2C%2055.340044%2C%2014.594618%2C%2056.532822%5D%2C%20%22geometry%22%3A%20%7B%22coordinates%22%3A%20%5B%5B%5B%5B13.704803%2C%2056.427904%5D%2C%20%5B13.788513%2C%2056.448777%5D%2C%20%5B13.869608%2C%2056.448524%5D%2C%20%5B13.927959%2C%2056.467359%5D%2C%20%5B14.01584%2C%2056.468487%5D%2C%20%5B14.05449%2C%2056.504483%5D%2C%20%5B14.062312%2C%2056.531162%5D%2C%20%5B14.101653%2C%2056.532822%5D%2C%20%5B14.133104%2C%2056.507785%5D%2C%20%5B14.237598%2C%2056.49167%5D%2C%20%5B14.2527%2C%2056.503536%5D%2C%20%5B14.414471%2C%2056.480728%5D%2C%20%5B14.524113%2C%2056.458071%5D%2C%20%5B14.468415%2C%2056.40204%5D%2C%20%5B14.411509%2C%2056.392395%5D%2C%20%5B14.389346%2C%2056.34119%5D%2C%20%5B14.410644%2C%2056.306663%5D%2C%20%5B14.432274%2C%2056.273924%5D%2C%20%5B14.440534%2C%2056.230139%5D%2C%20%5B14.493297%2C%2056.218306%5D%2C%20%5B14.549294%2C%2056.22433%5D%2C%20%5B14.571692%2C%2056.199631%5D%2C%20%5B14.594618%2C%2056.084594%5D%2C%20%5B14.55409%2C%2056.074148%5D%2C%20%5B14.545672%2C%2056.045697%5D%2C%20%5B14.467821%2C%2056.030021%5D%2C%20%5B14.429347%2C%2055.988728%5D%2C%20%5B14.354007%2C%2055.96203%5D%2C%20%5B14.32357%2C%2055.916674%5D%2C%20%5B14.279805%2C%2055.904525%5D%2C%20%5B14.209043%2C%2055.828756%5D%2C%20%5B14.198599%2C%2055.758876%5D%2C%20%5B14.217529%2C%2055.692909%5D%2C%20%5B14.277534%2C%2055.671708%5D%2C%20%5B14.295962%2C%2055.612954%5D%2C%20%5B14.348581%2C%2055.586696%5D%2C%20%5B14.363047%2C%2055.542572%5D%2C%20%5B14.331026%2C%2055.504551%5D%2C%20%5B14.259872%2C%2055.459566%5D%2C%20%5B14.209366%2C%2055.405035%5D%2C%20%5B14.190251%2C%2055.385577%5D%2C%20%5B14.102839%2C%2055.391919%5D%2C%20%5B14.061222%2C%2055.388628%5D%2C%20%5B13.95773%2C%2055.431783%5D%2C%20%5B13.914987%2C%2055.441147%5D%2C%20%5B13.850202%2C%2055.431719%5D%2C%20%5B13.736974%2C%2055.435453%5D%2C%20%5B13.700214%2C%2055.422796%5D%2C%20%5B13.64868%2C%2055.421152%5D%2C%20%5B13.593587%2C%2055.381246%5D%2C%20%5B13.484584%2C%2055.382144%5D%2C%20%5B13.451594%2C%2055.374837%5D%2C%20%5B13.419997%2C%2055.359777%5D%2C%20%5B13.380004%2C%2055.356823%5D%2C%20%5B13.335422%2C%2055.340044%5D%2C%20%5B13.319586%2C%2055.350496%5D%2C%20%5B13.285192%2C%2055.347024%5D%2C%20%5B13.26192%2C%2055.352651%5D%2C%20%5B13.211635%2C%2055.367003%5D%2C%20%5B13.118506%2C%2055.37934%5D%2C%20%5B13.082277%2C%2055.374198%5D%2C%20%5B13.059933%2C%2055.373967%5D%2C%20%5B13.010637%2C%2055.391621%5D%2C%20%5B12.973969%2C%2055.404786%5D%2C%20%5B12.944233%2C%2055.401272%5D%2C%20%5B12.929407%2C%2055.39581%5D%2C%20%5B12.924851%2C%2055.388343%5D%2C%20%5B12.908101%2C%2055.388145%5D%2C%20%5B12.894024%2C%2055.396455%5D%2C%20%5B12.874441%2C%2055.398853%5D%2C%20%5B12.816009%2C%2055.385962%5D%2C%20%5B12.863454%2C%2055.447421%5D%2C%20%5B12.870093%2C%2055.440625%5D%2C%20%5B12.879738%2C%2055.419038%5D%2C%20%5B12.910534%2C%2055.41358%5D%2C%20%5B12.93291%2C%2055.411726%5D%2C%20%5B12.944868%2C%2055.423509%5D%2C%20%5B12.957595%2C%2055.446415%5D%2C%20%5B12.960098%2C%2055.470269%5D%2C%20%5B12.95056%2C%2055.487093%5D%2C%20%5B12.936791%2C%2055.504941%5D%2C%20%5B12.915426%2C%2055.531145%5D%2C%20%5B12.908531%2C%2055.555954%5D%2C%20%5B12.907326%2C%2055.574455%5D%2C%20%5B12.925854%2C%2055.586331%5D%2C%20%5B12.976143%2C%2055.6049%5D%2C%20%5B13.005933%2C%2055.617409%5D%2C%20%5B13.046103%2C%2055.624197%5D%2C%20%5B13.054254%2C%2055.636142%5D%2C%20%5B13.052877%2C%2055.646705%5D%2C%20%5B13.051403%2C%2055.653888%5D%2C%20%5B13.065254%2C%2055.674685%5D%2C%20%5B13.064222%2C%2055.682614%5D%2C%20%5B13.050888%2C%2055.702587%5D%2C%20%5B13.03394%2C%2055.708226%5D%2C%20%5B12.997595%2C%2055.724795%5D%2C%20%5B12.972754%2C%2055.723955%5D%2C%20%5B12.955803%2C%2055.726941%5D%2C%20%5B12.966938%2C%2055.73871%5D%2C%20%5B12.95454%2C%2055.752333%5D%2C%20%5B12.926462%2C%2055.744605%5D%2C%20%5B12.909361%2C%2055.758688%5D%2C%20%5B12.924224%2C%2055.769983%5D%2C%20%5B12.936385%2C%2055.775416%5D%2C%20%5B12.926168%2C%2055.826351%5D%2C%20%5B12.904456%2C%2055.863222%5D%2C%20%5B12.835021%2C%2055.871475%5D%2C%20%5B12.776238%2C%2055.961439%5D%2C%20%5B12.755568%2C%2056.010514%5D%2C%20%5B12.713062%2C%2056.051815%5D%2C%20%5B12.662877%2C%2056.084406%5D%2C%20%5B12.619252%2C%2056.118513%5D%2C%20%5B12.585542%2C%2056.139008%5D%2C%20%5B12.572806%2C%2056.156307%5D%2C%20%5B12.551969%2C%2056.218332%5D%2C%20%5B12.536479%2C%2056.247741%5D%2C%20%5B12.501946%2C%2056.279642%5D%2C%20%5B12.459082%2C%2056.297443%5D%2C%20%5B12.504727%2C%2056.301149%5D%2C%20%5B12.597509%2C%2056.270647%5D%2C%20%5B12.678047%2C%2056.245949%5D%2C%20%5B12.704247%2C%2056.225124%5D%2C%20%5B12.733341%2C%2056.225788%5D%2C%20%5B12.76797%2C%2056.219922%5D%2C%20%5B12.790147%2C%2056.217239%5D%2C%20%5B12.82775%2C%2056.232861%5D%2C%20%5B12.847986%2C%2056.262693%5D%2C%20%5B12.820131%2C%2056.294435%5D%2C%20%5B12.769041%2C%2056.322269%5D%2C%20%5B12.744681%2C%2056.356866%5D%2C%20%5B12.692902%2C%2056.380484%5D%2C%20%5B12.63893%2C%2056.387958%5D%2C%20%5B12.631311%2C%2056.427886%5D%2C%20%5B12.679777%2C%2056.45125%5D%2C%20%5B12.726867%2C%2056.463849%5D%2C%20%5B12.796072%2C%2056.448529%5D%2C%20%5B12.845413%2C%2056.430363%5D%2C%20%5B12.90351%2C%2056.444262%5D%2C%20%5B12.970531%2C%2056.421723%5D%2C%20%5B12.946641%2C%2056.367426%5D%2C%20%5B12.991069%2C%2056.361417%5D%2C%20%5B13.151296%2C%2056.351128%5D%2C%20%5B13.201848%2C%2056.328545%5D%2C%20%5B13.245562%2C%2056.354316%5D%2C%20%5B13.30239%2C%2056.38791%5D%2C%20%5B13.377822%2C%2056.415257%5D%2C%20%5B13.419671%2C%2056.413411%5D%2C%20%5B13.456948%2C%2056.430976%5D%2C%20%5B13.496908%2C%2056.40995%5D%2C%20%5B13.576733%2C%2056.409336%5D%2C%20%5B13.704803%2C%2056.427904%5D%5D%5D%5D%2C%20%22type%22%3A%20%22MultiPolygon%22%7D%2C%20%22id%22%3A%20%22Sk%5Cu00e5ne%22%2C%20%22properties%22%3A%20%7B%7D%2C%20%22type%22%3A%20%22Feature%22%7D%2C%20%7B%22bbox%22%3A%20%5B11.926583%2C%2056.328545%2C%2013.692812%2C%2057.604219%5D%2C%20%22geometry%22%3A%20%7B%22coordinates%22%3A%20%5B%5B%5B%5B13.296026%2C%2056.847312%5D%2C%20%5B13.321794%2C%2056.772887%5D%2C%20%5B13.325975%2C%2056.693385%5D%2C%20%5B13.373456%2C%2056.662475%5D%2C%20%5B13.401812%2C%2056.613742%5D%2C%20%5B13.416884%2C%2056.584827%5D%2C%20%5B13.443759%2C%2056.569216%5D%2C%20%5B13.474169%2C%2056.51376%5D%2C%20%5B13.448121%2C%2056.471648%5D%2C%20%5B13.471123%2C%2056.452579%5D%2C%20%5B13.456948%2C%2056.430976%5D%2C%20%5B13.419671%2C%2056.413411%5D%2C%20%5B13.377822%2C%2056.415257%5D%2C%20%5B13.30239%2C%2056.38791%5D%2C%20%5B13.245562%2C%2056.354316%5D%2C%20%5B13.201848%2C%2056.328545%5D%2C%20%5B13.151296%2C%2056.351128%5D%2C%20%5B12.991069%2C%2056.361417%5D%2C%20%5B12.946641%2C%2056.367426%5D%2C%20%5B12.970531%2C%2056.421723%5D%2C%20%5B12.90351%2C%2056.444262%5D%2C%20%5B12.935497%2C%2056.471808%5D%2C%20%5B12.95273%2C%2056.501739%5D%2C%20%5B12.954111%2C%2056.549732%5D%2C%20%5B12.939851%2C%2056.594158%5D%2C%20%5B12.907849%2C%2056.6441%5D%2C%20%5B12.848533%2C%2056.662677%5D%2C%20%5B12.79345%2C%2056.641417%5D%2C%20%5B12.738123%2C%2056.641763%5D%2C%20%5B12.695595%2C%2056.688429%5D%2C%20%5B12.658728%2C%2056.729456%5D%2C%20%5B12.622124%2C%2056.781272%5D%2C%20%5B12.623209%2C%2056.829868%5D%2C%20%5B12.564654%2C%2056.857258%5D%2C%20%5B12.486918%2C%2056.888921%5D%2C%20%5B12.410002%2C%2056.902488%5D%2C%20%5B12.358411%2C%2056.934926%5D%2C%20%5B12.372324%2C%2056.966843%5D%2C%20%5B12.369216%2C%2056.993591%5D%2C%20%5B12.340646%2C%2057.028146%5D%2C%20%5B12.293082%2C%2057.044227%5D%2C%20%5B12.261487%2C%2057.083183%5D%2C%20%5B12.248511%2C%2057.139504%5D%2C%20%5B12.197422%2C%2057.182699%5D%2C%20%5B12.132524%2C%2057.22273%5D%2C%20%5B12.133919%2C%2057.262323%5D%2C%20%5B12.182224%2C%2057.27692%5D%2C%20%5B12.174475%2C%2057.303846%5D%2C%20%5B12.163444%2C%2057.337614%5D%2C%20%5B12.148925%2C%2057.346736%5D%2C%20%5B12.114319%2C%2057.341222%5D%2C%20%5B12.10071%2C%2057.350914%5D%2C%20%5B12.122603%2C%2057.387075%5D%2C%20%5B12.121925%2C%2057.43474%5D%2C%20%5B12.111085%2C%2057.455794%5D%2C%20%5B12.091944%2C%2057.46154%5D%2C%20%5B12.072513%2C%2057.450127%5D%2C%20%5B12.059222%2C%2057.426068%5D%2C%20%5B12.039651%2C%2057.376592%5D%2C%20%5B12.02846%2C%2057.361176%5D%2C%20%5B12.011443%2C%2057.355738%5D%2C%20%5B11.987485%2C%2057.361295%5D%2C%20%5B11.970097%2C%2057.378876%5D%2C%20%5B11.93306%2C%2057.426275%5D%2C%20%5B11.926583%2C%2057.442119%5D%2C%20%5B11.933512%2C%2057.460596%5D%2C%20%5B11.957738%2C%2057.501684%5D%2C%20%5B11.952149%2C%2057.52774%5D%2C%20%5B11.947128%2C%2057.561146%5D%2C%20%5B12.01304%2C%2057.56284%5D%2C%20%5B12.038235%2C%2057.549647%5D%2C%20%5B12.138047%2C%2057.562313%5D%2C%20%5B12.205408%2C%2057.576467%5D%2C%20%5B12.28382%2C%2057.604219%5D%2C%20%5B12.342632%2C%2057.567772%5D%2C%20%5B12.326534%2C%2057.529183%5D%2C%20%5B12.343708%2C%2057.512618%5D%2C%20%5B12.354384%2C%2057.492073%5D%2C%20%5B12.344697%2C%2057.469243%5D%2C%20%5B12.355498%2C%2057.457821%5D%2C%20%5B12.381394%2C%2057.452795%5D%2C%20%5B12.396931%2C%2057.443134%5D%2C%20%5B12.411514%2C%2057.410946%5D%2C%20%5B12.395482%2C%2057.341994%5D%2C%20%5B12.430555%2C%2057.320584%5D%2C%20%5B12.427689%2C%2057.272028%5D%2C%20%5B12.505214%2C%2057.280047%5D%2C%20%5B12.527399%2C%2057.32251%5D%2C%20%5B12.652677%2C%2057.337719%5D%2C%20%5B12.705254%2C%2057.332145%5D%2C%20%5B12.798433%2C%2057.289108%5D%2C%20%5B12.858092%2C%2057.267657%5D%2C%20%5B12.930822%2C%2057.266621%5D%2C%20%5B12.953051%2C%2057.236923%5D%2C%20%5B12.932%2C%2057.228743%5D%2C%20%5B12.940984%2C%2057.176131%5D%2C%20%5B13.011819%2C%2057.185922%5D%2C%20%5B13.057045%2C%2057.178701%5D%2C%20%5B13.047313%2C%2057.157465%5D%2C%20%5B13.072537%2C%2057.14924%5D%2C%20%5B13.100658%2C%2057.160712%5D%2C%20%5B13.133071%2C%2057.149162%5D%2C%20%5B13.085785%2C%2057.127078%5D%2C%20%5B13.089936%2C%2057.095662%5D%2C%20%5B13.130984%2C%2057.031503%5D%2C%20%5B13.22009%2C%2057.07646%5D%2C%20%5B13.227982%2C%2057.10678%5D%2C%20%5B13.269247%2C%2057.096025%5D%2C%20%5B13.358339%2C%2057.117461%5D%2C%20%5B13.45944%2C%2057.109478%5D%2C%20%5B13.484658%2C%2057.122793%5D%2C%20%5B13.496227%2C%2057.09163%5D%2C%20%5B13.52657%2C%2057.095698%5D%2C%20%5B13.608011%2C%2057.068616%5D%2C%20%5B13.592135%2C%2057.031454%5D%2C%20%5B13.619938%2C%2056.999543%5D%2C%20%5B13.684731%2C%2056.986377%5D%2C%20%5B13.692812%2C%2056.961956%5D%2C%20%5B13.660061%2C%2056.902122%5D%2C%20%5B13.621803%2C%2056.909283%5D%2C%20%5B13.612393%2C%2056.891674%5D%2C%20%5B13.533333%2C%2056.88982%5D%2C%20%5B13.486996%2C%2056.866637%5D%2C%20%5B13.469148%2C%2056.878251%5D%2C%20%5B13.371326%2C%2056.860895%5D%2C%20%5B13.340123%2C%2056.87126%5D%2C%20%5B13.296026%2C%2056.847312%5D%5D%5D%5D%2C%20%22type%22%3A%20%22MultiPolygon%22%7D%2C%20%22id%22%3A%20%22Halland%22%2C%20%22properties%22%3A%20%7B%7D%2C%20%22type%22%3A%20%22Feature%22%7D%2C%20%7B%22bbox%22%3A%20%5B14.500716%2C%2060.199881%2C%2017.507291%2C%2062.358247%5D%2C%20%22geometry%22%3A%20%7B%22coordinates%22%3A%20%5B%5B%5B%5B16.400903%2C%2060.787688%5D%2C%20%5B16.240161%2C%2060.878355%5D%2C%20%5B16.142542%2C%2061.000705%5D%2C%20%5B15.934091%2C%2061.012191%5D%2C%20%5B15.758098%2C%2061.060165%5D%2C%20%5B15.68075%2C%2061.131433%5D%2C%20%5B15.654308%2C%2061.223408%5D%2C%20%5B15.230175%2C%2061.512417%5D%2C%20%5B15.159007%2C%2061.604053%5D%2C%20%5B15.069327%2C%2061.492816%5D%2C%20%5B14.917187%2C%2061.505747%5D%2C%20%5B14.802598%2C%2061.500438%5D%2C%20%5B14.7484%2C%2061.512063%5D%2C%20%5B14.647643%2C%2061.500556%5D%2C%20%5B14.684107%2C%2061.547636%5D%2C%20%5B14.657637%2C%2061.601272%5D%2C%20%5B14.500716%2C%2061.630198%5D%2C%20%5B14.526671%2C%2061.791608%5D%2C%20%5B14.689947%2C%2061.912379%5D%2C%20%5B14.72885%2C%2061.879853%5D%2C%20%5B14.798338%2C%2061.900077%5D%2C%20%5B14.872821%2C%2061.838701%5D%2C%20%5B14.895676%2C%2061.890023%5D%2C%20%5B15.040013%2C%2061.884827%5D%2C%20%5B15.103666%2C%2061.861808%5D%2C%20%5B15.102949%2C%2061.908844%5D%2C%20%5B15.111489%2C%2061.962674%5D%2C%20%5B15.083342%2C%2062.007467%5D%2C%20%5B15.412374%2C%2062.128381%5D%2C%20%5B15.395662%2C%2062.203418%5D%2C%20%5B15.334493%2C%2062.222802%5D%2C%20%5B15.324458%2C%2062.289022%5D%2C%20%5B15.478617%2C%2062.352934%5D%2C%20%5B15.620056%2C%2062.358247%5D%2C%20%5B16.021537%2C%2062.270777%5D%2C%20%5B16.060189%2C%2062.250909%5D%2C%20%5B16.240344%2C%2062.253612%5D%2C%20%5B16.512874%2C%2062.248643%5D%2C%20%5B16.794786%2C%2062.215318%5D%2C%20%5B16.905774%2C%2062.183075%5D%2C%20%5B16.969356%2C%2062.188173%5D%2C%20%5B17.092458%2C%2062.171327%5D%2C%20%5B17.142944%2C%2062.184445%5D%2C%20%5B17.237118%2C%2062.162065%5D%2C%20%5B17.328438%2C%2062.168828%5D%2C%20%5B17.479641%2C%2062.147357%5D%2C%20%5B17.435511%2C%2062.012866%5D%2C%20%5B17.359166%2C%2061.952556%5D%2C%20%5B17.316862%2C%2061.863951%5D%2C%20%5B17.386407%2C%2061.82726%5D%2C%20%5B17.37985%2C%2061.767777%5D%2C%20%5B17.413586%2C%2061.740101%5D%2C%20%5B17.507291%2C%2061.721092%5D%2C%20%5B17.469909%2C%2061.636428%5D%2C%20%5B17.40851%2C%2061.647814%5D%2C%20%5B17.373822%2C%2061.684646%5D%2C%20%5B17.269431%2C%2061.706085%5D%2C%20%5B17.2246%2C%2061.658208%5D%2C%20%5B17.174063%2C%2061.60342%5D%2C%20%5B17.113034%2C%2061.551137%5D%2C%20%5B17.178911%2C%2061.477847%5D%2C%20%5B17.105967%2C%2061.418484%5D%2C%20%5B17.120133%2C%2061.367343%5D%2C%20%5B17.239516%2C%2061.297763%5D%2C%20%5B17.202239%2C%2061.234876%5D%2C%20%5B17.1323%2C%2061.201373%5D%2C%20%5B17.158032%2C%2061.056875%5D%2C%20%5B17.14333%2C%2061.031836%5D%2C%20%5B17.220497%2C%2061.001286%5D%2C%20%5B17.161579%2C%2060.952561%5D%2C%20%5B17.27052%2C%2060.852668%5D%2C%20%5B17.237354%2C%2060.802248%5D%2C%20%5B17.343995%2C%2060.747795%5D%2C%20%5B17.216431%2C%2060.691094%5D%2C%20%5B17.350723%2C%2060.652299%5D%2C%20%5B17.300719%2C%2060.471103%5D%2C%20%5B17.204033%2C%2060.428678%5D%2C%20%5B17.199449%2C%2060.30916%5D%2C%20%5B17.100329%2C%2060.268682%5D%2C%20%5B16.905685%2C%2060.287104%5D%2C%20%5B16.864918%2C%2060.262563%5D%2C%20%5B16.881085%2C%2060.241555%5D%2C%20%5B16.797354%2C%2060.20168%5D%2C%20%5B16.720361%2C%2060.199881%5D%2C%20%5B16.639214%2C%2060.237297%5D%2C%20%5B16.628302%2C%2060.292395%5D%2C%20%5B16.587553%2C%2060.304058%5D%2C%20%5B16.579017%2C%2060.340872%5D%2C%20%5B16.52059%2C%2060.364499%5D%2C%20%5B16.40304%2C%2060.381503%5D%2C%20%5B16.300985%2C%2060.483233%5D%2C%20%5B16.275301%2C%2060.511983%5D%2C%20%5B16.233247%2C%2060.519969%5D%2C%20%5B16.147161%2C%2060.604859%5D%2C%20%5B16.241252%2C%2060.618551%5D%2C%20%5B16.322127%2C%2060.679508%5D%2C%20%5B16.304972%2C%2060.713166%5D%2C%20%5B16.374772%2C%2060.73975%5D%2C%20%5B16.400903%2C%2060.787688%5D%5D%5D%5D%2C%20%22type%22%3A%20%22MultiPolygon%22%7D%2C%20%22id%22%3A%20%22G%5Cu00e4vleborg%22%2C%20%22properties%22%3A%20%7B%7D%2C%20%22type%22%3A%20%22Feature%22%7D%2C%20%7B%22bbox%22%3A%20%5B11.131293%2C%2057.149162%2C%2014.721309%2C%2059.273605%5D%2C%20%22geometry%22%3A%20%7B%22coordinates%22%3A%20%5B%5B%5B%5B12.28382%2C%2057.604219%5D%2C%20%5B12.205408%2C%2057.576467%5D%2C%20%5B12.138047%2C%2057.562313%5D%2C%20%5B12.038235%2C%2057.549647%5D%2C%20%5B12.01304%2C%2057.56284%5D%2C%20%5B11.947128%2C%2057.561146%5D%2C%20%5B11.951252%2C%2057.585063%5D%2C%20%5B11.95174%2C%2057.628488%5D%2C%20%5B11.941955%2C%2057.637779%5D%2C%20%5B11.925858%2C%2057.622177%5D%2C%20%5B11.91307%2C%2057.622241%5D%2C%20%5B11.881982%2C%2057.666102%5D%2C%20%5B11.880221%2C%2057.673543%5D%2C%20%5B11.887225%2C%2057.68184%5D%2C%20%5B11.957646%2C%2057.70588%5D%2C%20%5B11.938011%2C%2057.705164%5D%2C%20%5B11.90815%2C%2057.698692%5D%2C%20%5B11.893788%2C%2057.704055%5D%2C%20%5B11.849106%2C%2057.698098%5D%2C%20%5B11.830715%2C%2057.713484%5D%2C%20%5B11.814672%2C%2057.716106%5D%2C%20%5B11.801218%2C%2057.712922%5D%2C%20%5B11.7967%2C%2057.69988%5D%2C%20%5B11.785194%2C%2057.696755%5D%2C%20%5B11.772456%2C%2057.696278%5D%2C%20%5B11.755433%2C%2057.698834%5D%2C%20%5B11.739093%2C%2057.71323%5D%2C%20%5B11.73149%2C%2057.719898%5D%2C%20%5B11.731252%2C%2057.728735%5D%2C%20%5B11.748637%2C%2057.743613%5D%2C%20%5B11.783166%2C%2057.752958%5D%2C%20%5B11.818884%2C%2057.760209%5D%2C%20%5B11.828031%2C%2057.792001%5D%2C%20%5B11.80768%2C%2057.791413%5D%2C%20%5B11.778343%2C%2057.788695%5D%2C%20%5B11.766144%2C%2057.791982%5D%2C%20%5B11.759913%2C%2057.813185%5D%2C%20%5B11.751147%2C%2057.820895%5D%2C%20%5B11.729207%2C%2057.83184%5D%2C%20%5B11.716338%2C%2057.840998%5D%2C%20%5B11.72179%2C%2057.854611%5D%2C%20%5B11.740914%2C%2057.869815%5D%2C%20%5B11.752337%2C%2057.883115%5D%2C%20%5B11.760183%2C%2057.902169%5D%2C%20%5B11.790193%2C%2057.936541%5D%2C%20%5B11.776086%2C%2057.947796%5D%2C%20%5B11.77563%2C%2057.961183%5D%2C%20%5B11.78147%2C%2057.971228%5D%2C%20%5B11.830825%2C%2058.001778%5D%2C%20%5B11.841445%2C%2058.026188%5D%2C%20%5B11.841733%2C%2058.048047%5D%2C%20%5B11.833854%2C%2058.070136%5D%2C%20%5B11.828889%2C%2058.092019%5D%2C%20%5B11.845925%2C%2058.104755%5D%2C%20%5B11.865616%2C%2058.11954%5D%2C%20%5B11.880358%2C%2058.137126%5D%2C%20%5B11.883465%2C%2058.162459%5D%2C%20%5B11.876274%2C%2058.185686%5D%2C%20%5B11.89552%2C%2058.189405%5D%2C%20%5B11.918856%2C%2058.204301%5D%2C%20%5B11.919807%2C%2058.220669%5D%2C%20%5B11.88959%2C%2058.219897%5D%2C%20%5B11.886804%2C%2058.241741%5D%2C%20%5B11.865851%2C%2058.262657%5D%2C%20%5B11.833171%2C%2058.289326%5D%2C%20%5B11.839332%2C%2058.302118%5D%2C%20%5B11.878747%2C%2058.326946%5D%2C%20%5B11.816703%2C%2058.324593%5D%2C%20%5B11.771208%2C%2058.331774%5D%2C%20%5B11.733538%2C%2058.328575%5D%2C%20%5B11.753517%2C%2058.317058%5D%2C%20%5B11.743979%2C%2058.30685%5D%2C%20%5B11.70483%2C%2058.306642%5D%2C%20%5B11.68391%2C%2058.283048%5D%2C%20%5B11.658211%2C%2058.267582%5D%2C%20%5B11.634091%2C%2058.257438%5D%2C%20%5B11.60329%2C%2058.253569%5D%2C%20%5B11.589573%2C%2058.233988%5D%2C%20%5B11.565505%2C%2058.216902%5D%2C%20%5B11.530363%2C%2058.207701%5D%2C%20%5B11.481945%2C%2058.200979%5D%2C%20%5B11.438972%2C%2058.198714%5D%2C%20%5B11.431412%2C%2058.204792%5D%2C%20%5B11.455638%2C%2058.229183%5D%2C%20%5B11.470954%2C%2058.241913%5D%2C%20%5B11.499673%2C%2058.24632%5D%2C%20%5B11.525143%2C%2058.256499%5D%2C%20%5B11.54892%2C%2058.272091%5D%2C%20%5B11.563354%2C%2058.28477%5D%2C%20%5B11.559542%2C%2058.311565%5D%2C%20%5B11.53676%2C%2058.301771%5D%2C%20%5B11.512772%2C%2058.28119%5D%2C%20%5B11.493368%2C%2058.269695%5D%2C%20%5B11.453017%2C%2058.265547%5D%2C%20%5B11.448132%2C%2058.273219%5D%2C%20%5B11.464362%2C%2058.282942%5D%2C%20%5B11.471228%2C%2058.300606%5D%2C%20%5B11.446979%2C%2058.302828%5D%2C%20%5B11.42899%2C%2058.308676%5D%2C%20%5B11.437189%2C%2058.326235%5D%2C%20%5B11.445232%2C%2058.347608%5D%2C%20%5B11.414529%2C%2058.342601%5D%2C%20%5B11.413625%2C%2058.373927%5D%2C%20%5B11.384347%2C%2058.35794%5D%2C%20%5B11.359483%2C%2058.361959%5D%2C%20%5B11.349293%2C%2058.371259%5D%2C%20%5B11.334611%2C%2058.372616%5D%2C%20%5B11.326014%2C%2058.360808%5D%2C%20%5B11.293368%2C%2058.349212%5D%2C%20%5B11.25874%2C%2058.348263%5D%2C%20%5B11.253238%2C%2058.357912%5D%2C%20%5B11.279146%2C%2058.375573%5D%2C%20%5B11.273666%2C%2058.387318%5D%2C%20%5B11.269261%2C%2058.401061%5D%2C%20%5B11.265779%2C%2058.418775%5D%2C%20%5B11.272819%2C%2058.432241%5D%2C%20%5B11.2919%2C%2058.435433%5D%2C%20%5B11.299707%2C%2058.421054%5D%2C%20%5B11.312036%2C%2058.420319%5D%2C%20%5B11.332528%2C%2058.427618%5D%2C%20%5B11.336929%2C%2058.439935%5D%2C%20%5B11.330107%2C%2058.453398%5D%2C%20%5B11.326823%2C%2058.46773%5D%2C%20%5B11.270949%2C%2058.562789%5D%2C%20%5B11.309444%2C%2058.5957%5D%2C%20%5B11.254891%2C%2058.683206%5D%2C%20%5B11.177406%2C%2058.747358%5D%2C%20%5B11.17934%2C%2058.834801%5D%2C%20%5B11.171769%2C%2058.858076%5D%2C%20%5B11.131452%2C%2058.90947%5D%2C%20%5B11.131539%2C%2058.924489%5D%2C%20%5B11.136189%2C%2058.927903%5D%2C%20%5B11.160145%2C%2058.924083%5D%2C%20%5B11.173121%2C%2058.926239%5D%2C%20%5B11.170864%2C%2058.935797%5D%2C%20%5B11.141765%2C%2058.955482%5D%2C%20%5B11.134045%2C%2058.967494%5D%2C%20%5B11.131293%2C%2059.011891%5D%2C%20%5B11.211269%2C%2059.089757%5D%2C%20%5B11.252596%2C%2059.095218%5D%2C%20%5B11.278303%2C%2059.102718%5D%2C%20%5B11.315514%2C%2059.116563%5D%2C%20%5B11.359249%2C%2059.111365%5D%2C%20%5B11.454773%2C%2059.018137%5D%2C%20%5B11.444851%2C%2058.923398%5D%2C%20%5B11.451974%2C%2058.898477%5D%2C%20%5B11.504781%2C%2058.881173%5D%2C%20%5B11.649788%2C%2058.918813%5D%2C%20%5B11.676187%2C%2058.960799%5D%2C%20%5B11.673254%2C%2058.994994%5D%2C%20%5B11.7063%2C%2059.045551%5D%2C%20%5B11.776201%2C%2059.106587%5D%2C%20%5B11.754602%2C%2059.125083%5D%2C%20%5B11.758427%2C%2059.208831%5D%2C%20%5B11.820183%2C%2059.235573%5D%2C%20%5B11.948192%2C%2059.262415%5D%2C%20%5B12.084338%2C%2059.197095%5D%2C%20%5B12.061838%2C%2059.271632%5D%2C%20%5B12.230906%2C%2059.273605%5D%2C%20%5B12.267497%2C%2059.20217%5D%2C%20%5B12.346281%2C%2059.187016%5D%2C%20%5B12.421316%2C%2059.19716%5D%2C%20%5B12.464286%2C%2059.144925%5D%2C%20%5B12.574241%2C%2059.134316%5D%2C%20%5B12.638742%2C%2059.195179%5D%2C%20%5B12.710107%2C%2059.178242%5D%2C%20%5B12.766164%2C%2059.152815%5D%2C%20%5B12.772443%2C%2059.070446%5D%2C%20%5B12.688351%2C%2058.986802%5D%2C%20%5B12.652686%2C%2058.955636%5D%2C%20%5B12.63839%2C%2058.878711%5D%2C%20%5B12.558393%2C%2058.809461%5D%2C%20%5B12.492763%2C%2058.750499%5D%2C%20%5B12.49869%2C%2058.692684%5D%2C%20%5B12.546692%2C%2058.665834%5D%2C%20%5B12.649465%2C%2058.662252%5D%2C%20%5B12.67118%2C%2058.645274%5D%2C%20%5B12.623171%2C%2058.621761%5D%2C%20%5B12.566165%2C%2058.582334%5D%2C%20%5B12.525799%2C%2058.538121%5D%2C%20%5B12.465242%2C%2058.495786%5D%2C%20%5B12.386182%2C%2058.467852%5D%2C%20%5B12.328986%2C%2058.42295%5D%2C%20%5B12.328423%2C%2058.392375%5D%2C%20%5B12.41974%2C%2058.385714%5D%2C%20%5B12.455889%2C%2058.400691%5D%2C%20%5B12.513214%2C%2058.395125%5D%2C%20%5B12.594494%2C%2058.464311%5D%2C%20%5B12.652406%2C%2058.462264%5D%2C%20%5B12.63377%2C%2058.40215%5D%2C%20%5B12.704497%2C%2058.418985%5D%2C%20%5B12.700731%2C%2058.440733%5D%2C%20%5B12.772562%2C%2058.488557%5D%2C%20%5B12.890811%2C%2058.5004%5D%2C%20%5B12.950172%2C%2058.554006%5D%2C%20%5B12.945991%2C%2058.572184%5D%2C%20%5B13.009982%2C%2058.609379%5D%2C%20%5B13.113446%2C%2058.700888%5D%2C%20%5B13.181431%2C%2058.694621%5D%2C%20%5B13.223476%2C%2058.676736%5D%2C%20%5B13.18945%2C%2058.613221%5D%2C%20%5B13.136942%2C%2058.517982%5D%2C%20%5B13.175926%2C%2058.503833%5D%2C%20%5B13.255062%2C%2058.498272%5D%2C%20%5B13.301454%2C%2058.516826%5D%2C%20%5B13.319078%2C%2058.562966%5D%2C%20%5B13.344444%2C%2058.614199%5D%2C%20%5B13.432596%2C%2058.648431%5D%2C%20%5B13.528538%2C%2058.666052%5D%2C%20%5B13.612691%2C%2058.694932%5D%2C%20%5B13.702671%2C%2058.69646%5D%2C%20%5B13.769925%2C%2058.706144%5D%2C%20%5B13.860304%2C%2058.749028%5D%2C%20%5B13.888718%2C%2058.773007%5D%2C%20%5B13.852538%2C%2058.783644%5D%2C%20%5B13.780747%2C%2058.768788%5D%2C%20%5B13.736479%2C%2058.752693%5D%2C%20%5B13.725446%2C%2058.789244%5D%2C%20%5B13.664751%2C%2058.818909%5D%2C%20%5B13.684298%2C%2058.852333%5D%2C%20%5B13.855077%2C%2058.837632%5D%2C%20%5B13.907244%2C%2058.819077%5D%2C%20%5B13.964893%2C%2058.850748%5D%2C%20%5B14.004635%2C%2058.898252%5D%2C%20%5B14.021771%2C%2058.954591%5D%2C%20%5B14.002573%2C%2059.002372%5D%2C%20%5B14.116709%2C%2059.041012%5D%2C%20%5B14.21002%2C%2059.042257%5D%2C%20%5B14.267813%2C%2058.999752%5D%2C%20%5B14.308242%2C%2058.893022%5D%2C%20%5B14.370254%2C%2058.87013%5D%2C%20%5B14.326612%2C%2058.834155%5D%2C%20%5B14.402287%2C%2058.799166%5D%2C%20%5B14.457483%2C%2058.797169%5D%2C%20%5B14.467983%2C%2058.724364%5D%2C%20%5B14.537479%2C%2058.724502%5D%2C%20%5B14.546088%2C%2058.696942%5D%2C%20%5B14.596271%2C%2058.705252%5D%2C%20%5B14.624916%2C%2058.745372%5D%2C%20%5B14.684126%2C%2058.745955%5D%2C%20%5B14.721309%2C%2058.701787%5D%2C%20%5B14.671165%2C%2058.668719%5D%2C%20%5B14.587619%2C%2058.647682%5D%2C%20%5B14.541718%2C%2058.624721%5D%2C%20%5B14.540202%2C%2058.581456%5D%2C%20%5B14.532587%2C%2058.542127%5D%2C%20%5B14.490209%2C%2058.482861%5D%2C%20%5B14.450056%2C%2058.470421%5D%2C%20%5B14.397493%2C%2058.404415%5D%2C%20%5B14.351322%2C%2058.347124%5D%2C%20%5B14.281005%2C%2058.300016%5D%2C%20%5B14.253929%2C%2058.227334%5D%2C%20%5B14.219037%2C%2058.185715%5D%2C%20%5B14.212836%2C%2058.145696%5D%2C%20%5B14.113049%2C%2058.151675%5D%2C%20%5B14.114025%2C%2058.075251%5D%2C%20%5B14.071584%2C%2058.046581%5D%2C%20%5B14.068404%2C%2058.028694%5D%2C%20%5B13.959974%2C%2058.009422%5D%2C%20%5B13.950773%2C%2058.0342%5D%2C%20%5B13.875628%2C%2058.050289%5D%2C%20%5B13.846553%2C%2058.038987%5D%2C%20%5B13.798256%2C%2058.053807%5D%2C%20%5B13.776144%2C%2058.049999%5D%2C%20%5B13.757648%2C%2058.014156%5D%2C%20%5B13.70825%2C%2057.982097%5D%2C%20%5B13.70867%2C%2057.937584%5D%2C%20%5B13.748984%2C%2057.882884%5D%2C%20%5B13.74124%2C%2057.843556%5D%2C%20%5B13.742481%2C%2057.764137%5D%2C%20%5B13.710713%2C%2057.734912%5D%2C%20%5B13.707236%2C%2057.707407%5D%2C%20%5B13.736587%2C%2057.668812%5D%2C%20%5B13.721829%2C%2057.64062%5D%2C%20%5B13.676211%2C%2057.628246%5D%2C%20%5B13.672666%2C%2057.606756%5D%2C%20%5B13.681863%2C%2057.561258%5D%2C%20%5B13.667189%2C%2057.533059%5D%2C%20%5B13.62086%2C%2057.515298%5D%2C%20%5B13.508062%2C%2057.415684%5D%2C%20%5B13.485828%2C%2057.380595%5D%2C%20%5B13.429862%2C%2057.363185%5D%2C%20%5B13.429498%2C%2057.339761%5D%2C%20%5B13.385212%2C%2057.332655%5D%2C%20%5B13.36894%2C%2057.313522%5D%2C%20%5B13.293275%2C%2057.303508%5D%2C%20%5B13.272494%2C%2057.247305%5D%2C%20%5B13.227497%2C%2057.256397%5D%2C%20%5B13.197654%2C%2057.234212%5D%2C%20%5B13.180235%2C%2057.184467%5D%2C%20%5B13.133071%2C%2057.149162%5D%2C%20%5B13.100658%2C%2057.160712%5D%2C%20%5B13.072537%2C%2057.14924%5D%2C%20%5B13.047313%2C%2057.157465%5D%2C%20%5B13.057045%2C%2057.178701%5D%2C%20%5B13.011819%2C%2057.185922%5D%2C%20%5B12.940984%2C%2057.176131%5D%2C%20%5B12.932%2C%2057.228743%5D%2C%20%5B12.953051%2C%2057.236923%5D%2C%20%5B12.930822%2C%2057.266621%5D%2C%20%5B12.858092%2C%2057.267657%5D%2C%20%5B12.798433%2C%2057.289108%5D%2C%20%5B12.705254%2C%2057.332145%5D%2C%20%5B12.652677%2C%2057.337719%5D%2C%20%5B12.527399%2C%2057.32251%5D%2C%20%5B12.505214%2C%2057.280047%5D%2C%20%5B12.427689%2C%2057.272028%5D%2C%20%5B12.430555%2C%2057.320584%5D%2C%20%5B12.395482%2C%2057.341994%5D%2C%20%5B12.411514%2C%2057.410946%5D%2C%20%5B12.396931%2C%2057.443134%5D%2C%20%5B12.381394%2C%2057.452795%5D%2C%20%5B12.355498%2C%2057.457821%5D%2C%20%5B12.344697%2C%2057.469243%5D%2C%20%5B12.354384%2C%2057.492073%5D%2C%20%5B12.343708%2C%2057.512618%5D%2C%20%5B12.326534%2C%2057.529183%5D%2C%20%5B12.342632%2C%2057.567772%5D%2C%20%5B12.28382%2C%2057.604219%5D%5D%5D%2C%20%5B%5B%5B11.844999%2C%2058.11997%5D%2C%20%5B11.809487%2C%2058.117035%5D%2C%20%5B11.780832%2C%2058.114344%5D%2C%20%5B11.770611%2C%2058.112816%5D%2C%20%5B11.750718%2C%2058.10555%5D%2C%20%5B11.732959%2C%2058.089775%5D%2C%20%5B11.709945%2C%2058.092434%5D%2C%20%5B11.71233%2C%2058.105373%5D%2C%20%5B11.695684%2C%2058.113079%5D%2C%20%5B11.665568%2C%2058.123491%5D%2C%20%5B11.64218%2C%2058.129551%5D%2C%20%5B11.609345%2C%2058.11791%5D%2C%20%5B11.596711%2C%2058.106077%5D%2C%20%5B11.590482%2C%2058.090536%5D%2C%20%5B11.575295%2C%2058.075182%5D%2C%20%5B11.554368%2C%2058.062699%5D%2C%20%5B11.535709%2C%2058.05988%5D%2C%20%5B11.519786%2C%2058.063533%5D%2C%20%5B11.507649%2C%2058.071214%5D%2C%20%5B11.489341%2C%2058.060705%5D%2C%20%5B11.473464%2C%2058.068688%5D%2C%20%5B11.483028%2C%2058.07349%5D%2C%20%5B11.497958%2C%2058.086429%5D%2C%20%5B11.502493%2C%2058.099626%5D%2C%20%5B11.487112%2C%2058.112509%5D%2C%20%5B11.464124%2C%2058.125525%5D%2C%20%5B11.444324%2C%2058.13569%5D%2C%20%5B11.439298%2C%2058.147016%5D%2C%20%5B11.41694%2C%2058.148252%5D%2C%20%5B11.404107%2C%2058.136661%5D%2C%20%5B11.391393%2C%2058.132409%5D%2C%20%5B11.408135%2C%2058.15772%5D%2C%20%5B11.435355%2C%2058.178291%5D%2C%20%5B11.461684%2C%2058.174643%5D%2C%20%5B11.486499%2C%2058.173608%5D%2C%20%5B11.504662%2C%2058.181558%5D%2C%20%5B11.520868%2C%2058.18872%5D%2C%20%5B11.55077%2C%2058.195017%5D%2C%20%5B11.569862%2C%2058.202376%5D%2C%20%5B11.595374%2C%2058.211815%5D%2C%20%5B11.614843%2C%2058.225508%5D%2C%20%5B11.636272%2C%2058.239335%5D%2C%20%5B11.658098%2C%2058.242752%5D%2C%20%5B11.682266%2C%2058.240587%5D%2C%20%5B11.696251%2C%2058.241101%5D%2C%20%5B11.701307%2C%2058.253093%5D%2C%20%5B11.696757%2C%2058.267777%5D%2C%20%5B11.701232%2C%2058.282303%5D%2C%20%5B11.732905%2C%2058.292979%5D%2C%20%5B11.752692%2C%2058.295191%5D%2C%20%5B11.790159%2C%2058.293553%5D%2C%20%5B11.791156%2C%2058.275132%5D%2C%20%5B11.800474%2C%2058.257898%5D%2C%20%5B11.819922%2C%2058.2504%5D%2C%20%5B11.839386%2C%2058.242666%5D%2C%20%5B11.858521%2C%2058.230318%5D%2C%20%5B11.866836%2C%2058.217264%5D%2C%20%5B11.856102%2C%2058.19999%5D%2C%20%5B11.849304%2C%2058.183224%5D%2C%20%5B11.855803%2C%2058.163015%5D%2C%20%5B11.853121%2C%2058.136939%5D%2C%20%5B11.844999%2C%2058.11997%5D%5D%5D%2C%20%5B%5B%5B11.700389%2C%2057.977603%5D%2C%20%5B11.702143%2C%2057.970702%5D%2C%20%5B11.685853%2C%2057.965258%5D%2C%20%5B11.663598%2C%2057.960102%5D%2C%20%5B11.652347%2C%2057.954305%5D%2C%20%5B11.642678%2C%2057.943202%5D%2C%20%5B11.634797%2C%2057.933784%5D%2C%20%5B11.602306%2C%2057.931704%5D%2C%20%5B11.595448%2C%2057.939747%5D%2C%20%5B11.594191%2C%2057.959535%5D%2C%20%5B11.574808%2C%2057.964131%5D%2C%20%5B11.567607%2C%2057.966525%5D%2C%20%5B11.561003%2C%2057.972156%5D%2C%20%5B11.557375%2C%2057.98649%5D%2C%20%5B11.560245%2C%2057.996258%5D%2C%20%5B11.571919%2C%2057.998329%5D%2C%20%5B11.598505%2C%2058.000444%5D%2C%20%5B11.60069%2C%2058.007501%5D%2C%20%5B11.596753%2C%2058.015919%5D%2C%20%5B11.556253%2C%2058.013779%5D%2C%20%5B11.539173%2C%2058.015248%5D%2C%20%5B11.530342%2C%2058.022951%5D%2C%20%5B11.529293%2C%2058.032013%5D%2C%20%5B11.540511%2C%2058.046935%5D%2C%20%5B11.551916%2C%2058.051677%5D%2C%20%5B11.567382%2C%2058.05551%5D%2C%20%5B11.6236%2C%2058.051278%5D%2C%20%5B11.643104%2C%2058.054722%5D%2C%20%5B11.654277%2C%2058.061587%5D%2C%20%5B11.672186%2C%2058.088552%5D%2C%20%5B11.680631%2C%2058.093167%5D%2C%20%5B11.698723%2C%2058.091712%5D%2C%20%5B11.720487%2C%2058.083973%5D%2C%20%5B11.717584%2C%2058.074208%5D%2C%20%5B11.705914%2C%2058.062516%5D%2C%20%5B11.724278%2C%2058.058388%5D%2C%20%5B11.753907%2C%2058.069708%5D%2C%20%5B11.77198%2C%2058.059128%5D%2C%20%5B11.775797%2C%2058.042127%5D%2C%20%5B11.775955%2C%2058.017873%5D%2C%20%5B11.768207%2C%2058.002176%5D%2C%20%5B11.753146%2C%2057.994632%5D%2C%20%5B11.740208%2C%2057.994677%5D%2C%20%5B11.733985%2C%2058.006234%5D%2C%20%5B11.714901%2C%2058.008174%5D%2C%20%5B11.707991%2C%2057.989686%5D%2C%20%5B11.700389%2C%2057.977603%5D%5D%5D%2C%20%5B%5B%5B11.686709%2C%2057.753961%5D%2C%20%5B11.705887%2C%2057.75862%5D%2C%20%5B11.72054%2C%2057.741755%5D%2C%20%5B11.707912%2C%2057.729041%5D%2C%20%5B11.697599%2C%2057.710208%5D%2C%20%5B11.698828%2C%2057.692854%5D%2C%20%5B11.694375%2C%2057.681501%5D%2C%20%5B11.68379%2C%2057.677335%5D%2C%20%5B11.632745%2C%2057.696155%5D%2C%20%5B11.630851%2C%2057.705162%5D%2C%20%5B11.654804%2C%2057.704513%5D%2C%20%5B11.65721%2C%2057.7143%5D%2C%20%5B11.650139%2C%2057.718248%5D%2C%20%5B11.649799%2C%2057.727935%5D%2C%20%5B11.667385%2C%2057.727254%5D%2C%20%5B11.66768%2C%2057.745394%5D%2C%20%5B11.686709%2C%2057.753961%5D%5D%5D%2C%20%5B%5B%5B11.669868%2C%2057.903525%5D%2C%20%5B11.713516%2C%2057.903062%5D%2C%20%5B11.701016%2C%2057.881679%5D%2C%20%5B11.629152%2C%2057.860122%5D%2C%20%5B11.598142%2C%2057.871771%5D%2C%20%5B11.630896%2C%2057.897717%5D%2C%20%5B11.669868%2C%2057.903525%5D%5D%5D%2C%20%5B%5B%5B11.601305%2C%2057.743411%5D%2C%20%5B11.622553%2C%2057.79397%5D%2C%20%5B11.658865%2C%2057.770948%5D%2C%20%5B11.618078%2C%2057.740103%5D%2C%20%5B11.601305%2C%2057.743411%5D%5D%5D%2C%20%5B%5B%5B11.77996%2C%2058.078454%5D%2C%20%5B11.783196%2C%2058.092038%5D%2C%20%5B11.785502%2C%2058.105764%5D%2C%20%5B11.802585%2C%2058.101215%5D%2C%20%5B11.803077%2C%2058.08987%5D%2C%20%5B11.791213%2C%2058.080526%5D%2C%20%5B11.77996%2C%2058.078454%5D%5D%5D%2C%20%5B%5B%5B11.751343%2C%2058.08363%5D%2C%20%5B11.765787%2C%2058.101284%5D%2C%20%5B11.772146%2C%2058.082889%5D%2C%20%5B11.751343%2C%2058.08363%5D%5D%5D%5D%2C%20%22type%22%3A%20%22MultiPolygon%22%7D%2C%20%22id%22%3A%20%22V%5Cu00e4stra%20G%5Cu00f6taland%22%2C%20%22properties%22%3A%20%7B%7D%2C%20%22type%22%3A%20%22Feature%22%7D%2C%20%7B%22bbox%22%3A%20%5B12.160884%2C%2059.86114%2C%2016.720361%2C%2062.261592%5D%2C%20%22geometry%22%3A%20%7B%22coordinates%22%3A%20%5B%5B%5B%5B13.949398%2C%2060.266798%5D%2C%20%5B13.967804%2C%2060.188652%5D%2C%20%5B13.848025%2C%2060.268447%5D%2C%20%5B13.692454%2C%2060.41757%5D%2C%20%5B13.567866%2C%2060.421451%5D%2C%20%5B13.496855%2C%2060.447148%5D%2C%20%5B13.437233%2C%2060.527082%5D%2C%20%5B13.305194%2C%2060.636806%5D%2C%20%5B13.260102%2C%2060.698038%5D%2C%20%5B13.204982%2C%2060.69829%5D%2C%20%5B13.175439%2C%2060.766119%5D%2C%20%5B12.702387%2C%2061.007994%5D%2C%20%5B12.67632%2C%2061.058109%5D%2C%20%5B12.697828%2C%2061.154121%5D%2C%20%5B12.781101%2C%2061.187406%5D%2C%20%5B12.827458%2C%2061.247131%5D%2C%20%5B12.86223%2C%2061.360709%5D%2C%20%5B12.582828%2C%2061.57406%5D%2C%20%5B12.434673%2C%2061.567841%5D%2C%20%5B12.160884%2C%2061.725341%5D%2C%20%5B12.302202%2C%2062.261592%5D%2C%20%5B12.616807%2C%2062.221612%5D%2C%20%5B12.795656%2C%2062.23038%5D%2C%20%5B12.940514%2C%2062.146344%5D%2C%20%5B13.038443%2C%2062.08537%5D%2C%20%5B13.159416%2C%2062.027092%5D%2C%20%5B13.295778%2C%2062.061914%5D%2C%20%5B13.322772%2C%2062.017658%5D%2C%20%5B13.371377%2C%2062.010471%5D%2C%20%5B13.20924%2C%2061.935186%5D%2C%20%5B13.416074%2C%2061.82666%5D%2C%20%5B13.514506%2C%2061.736383%5D%2C%20%5B13.506641%2C%2061.691581%5D%2C%20%5B13.56471%2C%2061.655073%5D%2C%20%5B13.613103%2C%2061.671244%5D%2C%20%5B13.89015%2C%2061.651166%5D%2C%20%5B13.983116%2C%2061.634682%5D%2C%20%5B14.201418%2C%2061.632642%5D%2C%20%5B14.356786%2C%2061.613177%5D%2C%20%5B14.41477%2C%2061.586199%5D%2C%20%5B14.500716%2C%2061.630198%5D%2C%20%5B14.657637%2C%2061.601272%5D%2C%20%5B14.684107%2C%2061.547636%5D%2C%20%5B14.647643%2C%2061.500556%5D%2C%20%5B14.7484%2C%2061.512063%5D%2C%20%5B14.802598%2C%2061.500438%5D%2C%20%5B14.917187%2C%2061.505747%5D%2C%20%5B15.069327%2C%2061.492816%5D%2C%20%5B15.159007%2C%2061.604053%5D%2C%20%5B15.230175%2C%2061.512417%5D%2C%20%5B15.654308%2C%2061.223408%5D%2C%20%5B15.68075%2C%2061.131433%5D%2C%20%5B15.758098%2C%2061.060165%5D%2C%20%5B15.934091%2C%2061.012191%5D%2C%20%5B16.142542%2C%2061.000705%5D%2C%20%5B16.240161%2C%2060.878355%5D%2C%20%5B16.400903%2C%2060.787688%5D%2C%20%5B16.374772%2C%2060.73975%5D%2C%20%5B16.304972%2C%2060.713166%5D%2C%20%5B16.322127%2C%2060.679508%5D%2C%20%5B16.241252%2C%2060.618551%5D%2C%20%5B16.147161%2C%2060.604859%5D%2C%20%5B16.233247%2C%2060.519969%5D%2C%20%5B16.275301%2C%2060.511983%5D%2C%20%5B16.300985%2C%2060.483233%5D%2C%20%5B16.40304%2C%2060.381503%5D%2C%20%5B16.52059%2C%2060.364499%5D%2C%20%5B16.579017%2C%2060.340872%5D%2C%20%5B16.587553%2C%2060.304058%5D%2C%20%5B16.628302%2C%2060.292395%5D%2C%20%5B16.639214%2C%2060.237297%5D%2C%20%5B16.720361%2C%2060.199881%5D%2C%20%5B16.5701%2C%2060.196362%5D%2C%20%5B16.516243%2C%2060.185271%5D%2C%20%5B16.515507%2C%2060.154497%5D%2C%20%5B16.420431%2C%2060.124212%5D%2C%20%5B16.377732%2C%2060.08517%5D%2C%20%5B16.191697%2C%2060.076077%5D%2C%20%5B16.153167%2C%2060.086272%5D%2C%20%5B16.170559%2C%2060.126903%5D%2C%20%5B16.10659%2C%2060.14707%5D%2C%20%5B16.052881%2C%2060.150286%5D%2C%20%5B16.019263%2C%2060.190922%5D%2C%20%5B15.966668%2C%2060.198868%5D%2C%20%5B15.893911%2C%2060.168725%5D%2C%20%5B15.779051%2C%2060.182169%5D%2C%20%5B15.754954%2C%2060.149599%5D%2C%20%5B15.715352%2C%2060.135576%5D%2C%20%5B15.71848%2C%2060.1028%5D%2C%20%5B15.662605%2C%2060.049858%5D%2C%20%5B15.709452%2C%2060.018217%5D%2C%20%5B15.67789%2C%2059.945182%5D%2C%20%5B15.608909%2C%2059.958767%5D%2C%20%5B15.530114%2C%2059.96139%5D%2C%20%5B15.481482%2C%2059.906177%5D%2C%20%5B15.401702%2C%2059.86114%5D%2C%20%5B15.324547%2C%2059.929304%5D%2C%20%5B15.21681%2C%2059.991204%5D%2C%20%5B15.12429%2C%2060.025065%5D%2C%20%5B15.066472%2C%2060.069705%5D%2C%20%5B15.018435%2C%2060.064976%5D%2C%20%5B14.993258%2C%2060.08256%5D%2C%20%5B14.923553%2C%2060.060822%5D%2C%20%5B14.852924%2C%2060.086111%5D%2C%20%5B14.846076%2C%2060.122621%5D%2C%20%5B14.791183%2C%2060.11995%5D%2C%20%5B14.717224%2C%2060.094704%5D%2C%20%5B14.745337%2C%2060.002925%5D%2C%20%5B14.438386%2C%2060.025714%5D%2C%20%5B14.215313%2C%2060.098742%5D%2C%20%5B14.186498%2C%2060.175911%5D%2C%20%5B14.137722%2C%2060.244332%5D%2C%20%5B14.038642%2C%2060.238516%5D%2C%20%5B14.018711%2C%2060.268288%5D%2C%20%5B13.949398%2C%2060.266798%5D%5D%2C%20%5B%5B14.6713%2C%2060.828977%5D%2C%20%5B14.735164%2C%2060.780703%5D%2C%20%5B14.907237%2C%2060.82466%5D%2C%20%5B14.965694%2C%2060.753031%5D%2C%20%5B14.98241%2C%2060.829943%5D%2C%20%5B15.057387%2C%2060.845433%5D%2C%20%5B15.119606%2C%2060.88083%5D%2C%20%5B15.036685%2C%2060.90858%5D%2C%20%5B14.983113%2C%2060.884147%5D%2C%20%5B14.90762%2C%2060.860805%5D%2C%20%5B14.746317%2C%2060.939222%5D%2C%20%5B14.686737%2C%2060.938489%5D%2C%20%5B14.602222%2C%2060.996719%5D%2C%20%5B14.552503%2C%2060.971952%5D%2C%20%5B14.567232%2C%2060.935127%5D%2C%20%5B14.640738%2C%2060.931646%5D%2C%20%5B14.691018%2C%2060.905747%5D%2C%20%5B14.643971%2C%2060.893537%5D%2C%20%5B14.566134%2C%2060.893615%5D%2C%20%5B14.6713%2C%2060.828977%5D%5D%5D%5D%2C%20%22type%22%3A%20%22MultiPolygon%22%7D%2C%20%22id%22%3A%20%22Dalarna%22%2C%20%22properties%22%3A%20%7B%7D%2C%20%22type%22%3A%20%22Feature%22%7D%2C%20%7B%22bbox%22%3A%20%5B14.330409%2C%2063.443113%2C%2021.568673%2C%2066.354476%5D%2C%20%22geometry%22%3A%20%7B%22coordinates%22%3A%20%5B%5B%5B%5B19.747503%2C%2063.542902%5D%2C%20%5B19.715459%2C%2063.521124%5D%2C%20%5B19.746751%2C%2063.467513%5D%2C%20%5B19.663447%2C%2063.443113%5D%2C%20%5B19.577247%2C%2063.522927%5D%2C%20%5B19.462651%2C%2063.573854%5D%2C%20%5B19.414282%2C%2063.544766%5D%2C%20%5B19.474985%2C%2063.48167%5D%2C%20%5B19.386767%2C%2063.464802%5D%2C%20%5B19.278277%2C%2063.479233%5D%2C%20%5B19.177499%2C%2063.566526%5D%2C%20%5B19.181385%2C%2063.608157%5D%2C%20%5B18.964029%2C%2063.768351%5D%2C%20%5B18.902779%2C%2063.801993%5D%2C%20%5B18.800519%2C%2063.796672%5D%2C%20%5B18.751064%2C%2063.825746%5D%2C%20%5B18.6326%2C%2063.839684%5D%2C%20%5B18.487956%2C%2063.849883%5D%2C%20%5B18.424754%2C%2063.925266%5D%2C%20%5B18.473282%2C%2063.967387%5D%2C%20%5B18.381942%2C%2064.00829%5D%2C%20%5B17.707624%2C%2063.893245%5D%2C%20%5B17.260747%2C%2063.929773%5D%2C%20%5B16.845236%2C%2063.967878%5D%2C%20%5B16.724291%2C%2064.026835%5D%2C%20%5B16.205936%2C%2064.284373%5D%2C%20%5B16.033083%2C%2064.277145%5D%2C%20%5B16.028569%2C%2064.3498%5D%2C%20%5B15.757897%2C%2064.428699%5D%2C%20%5B15.749737%2C%2064.490632%5D%2C%20%5B15.703184%2C%2064.550821%5D%2C%20%5B15.626895%2C%2064.532844%5D%2C%20%5B15.639758%2C%2064.456239%5D%2C%20%5B15.573138%2C%2064.457665%5D%2C%20%5B15.542991%2C%2064.533292%5D%2C%20%5B15.424268%2C%2064.576922%5D%2C%20%5B15.422533%2C%2064.602329%5D%2C%20%5B15.361526%2C%2064.594345%5D%2C%20%5B15.335205%2C%2064.622689%5D%2C%20%5B15.264455%2C%2064.642234%5D%2C%20%5B15.332943%2C%2064.66257%5D%2C%20%5B15.231793%2C%2064.728705%5D%2C%20%5B15.046683%2C%2064.765941%5D%2C%20%5B15.031683%2C%2064.824446%5D%2C%20%5B14.950443%2C%2064.873165%5D%2C%20%5B14.865919%2C%2064.875005%5D%2C%20%5B14.786702%2C%2064.91632%5D%2C%20%5B14.791616%2C%2064.954046%5D%2C%20%5B14.720448%2C%2064.988942%5D%2C%20%5B14.674495%2C%2065.016749%5D%2C%20%5B14.620805%2C%2065.024379%5D%2C%20%5B14.330409%2C%2065.131043%5D%2C%20%5B14.371274%2C%2065.260035%5D%2C%20%5B14.500314%2C%2065.314538%5D%2C%20%5B14.50226%2C%2065.457702%5D%2C%20%5B14.543711%2C%2065.699209%5D%2C%20%5B14.638823%2C%2065.820032%5D%2C%20%5B14.534875%2C%2066.138284%5D%2C%20%5B14.980546%2C%2066.149332%5D%2C%20%5B15.037858%2C%2066.152371%5D%2C%20%5B15.483404%2C%2066.29219%5D%2C%20%5B15.465048%2C%2066.354476%5D%2C%20%5B15.822678%2C%2066.300218%5D%2C%20%5B16.579049%2C%2066.054594%5D%2C%20%5B16.779193%2C%2066.053085%5D%2C%20%5B17.661291%2C%2065.670906%5D%2C%20%5B17.793266%2C%2065.646552%5D%2C%20%5B18.073337%2C%2065.607358%5D%2C%20%5B18.180348%2C%2065.592085%5D%2C%20%5B18.230943%2C%2065.548221%5D%2C%20%5B18.293836%2C%2065.52537%5D%2C%20%5B18.426727%2C%2065.510038%5D%2C%20%5B18.514454%2C%2065.487862%5D%2C%20%5B18.580069%2C%2065.454381%5D%2C%20%5B18.701512%2C%2065.451675%5D%2C%20%5B18.750524%2C%2065.442875%5D%2C%20%5B18.766815%2C%2065.418096%5D%2C%20%5B18.822811%2C%2065.405167%5D%2C%20%5B18.852481%2C%2065.381267%5D%2C%20%5B18.943659%2C%2065.358563%5D%2C%20%5B19.041098%2C%2065.340811%5D%2C%20%5B19.044366%2C%2065.316895%5D%2C%20%5B19.08963%2C%2065.320997%5D%2C%20%5B19.285443%2C%2065.257795%5D%2C%20%5B19.250513%2C%2065.2366%5D%2C%20%5B19.253559%2C%2065.212672%5D%2C%20%5B19.334676%2C%2065.188571%5D%2C%20%5B19.413849%2C%2065.149967%5D%2C%20%5B19.599065%2C%2065.191012%5D%2C%20%5B19.653998%2C%2065.214296%5D%2C%20%5B19.881292%2C%2065.394348%5D%2C%20%5B20.755287%2C%2065.213666%5D%2C%20%5B21.29237%2C%2065.170224%5D%2C%20%5B21.312535%2C%2065.131809%5D%2C%20%5B21.501578%2C%2065.080467%5D%2C%20%5B21.357536%2C%2064.968373%5D%2C%20%5B21.236689%2C%2064.95136%5D%2C%20%5B21.26735%2C%2064.899197%5D%2C%20%5B21.13049%2C%2064.830395%5D%2C%20%5B21.016441%2C%2064.843818%5D%2C%20%5B21.070464%2C%2064.786069%5D%2C%20%5B21.253581%2C%2064.773912%5D%2C%20%5B21.24312%2C%2064.690488%5D%2C%20%5B21.191743%2C%2064.663803%5D%2C%20%5B21.251692%2C%2064.610913%5D%2C%20%5B21.365504%2C%2064.599068%5D%2C%20%5B21.450557%2C%2064.554831%5D%2C%20%5B21.486995%2C%2064.472682%5D%2C%20%5B21.568673%2C%2064.474526%5D%2C%20%5B21.568534%2C%2064.439671%5D%2C%20%5B21.436043%2C%2064.350693%5D%2C%20%5B21.224596%2C%2064.285776%5D%2C%20%5B21.079606%2C%2064.213613%5D%2C%20%5B20.957981%2C%2064.150933%5D%2C%20%5B20.914119%2C%2064.055838%5D%2C%20%5B20.822494%2C%2063.946577%5D%2C%20%5B20.739672%2C%2063.870727%5D%2C%20%5B20.663084%2C%2063.813853%5D%2C%20%5B20.514855%2C%2063.806338%5D%2C%20%5B20.429416%2C%2063.762345%5D%2C%20%5B20.397913%2C%2063.690009%5D%2C%20%5B20.312154%2C%2063.691708%5D%2C%20%5B20.286565%2C%2063.660925%5D%2C%20%5B20.117641%2C%2063.660281%5D%2C%20%5B20.014995%2C%2063.670496%5D%2C%20%5B19.995018%2C%2063.622792%5D%2C%20%5B19.910152%2C%2063.626026%5D%2C%20%5B19.747503%2C%2063.542902%5D%5D%5D%5D%2C%20%22type%22%3A%20%22MultiPolygon%22%7D%2C%20%22id%22%3A%20%22V%5Cu00e4sterbotten%22%2C%20%22properties%22%3A%20%7B%7D%2C%20%22type%22%3A%20%22Feature%22%7D%2C%20%7B%22bbox%22%3A%20%5B15.38887%2C%2065.080467%2C%2024.149845%2C%2069.04774%5D%2C%20%22geometry%22%3A%20%7B%22coordinates%22%3A%20%5B%5B%5B%5B18.180348%2C%2065.592085%5D%2C%20%5B18.073337%2C%2065.607358%5D%2C%20%5B17.793266%2C%2065.646552%5D%2C%20%5B17.661291%2C%2065.670906%5D%2C%20%5B16.779193%2C%2066.053085%5D%2C%20%5B16.579049%2C%2066.054594%5D%2C%20%5B15.822678%2C%2066.300218%5D%2C%20%5B15.465048%2C%2066.354476%5D%2C%20%5B15.38887%2C%2066.484402%5D%2C%20%5B15.634687%2C%2066.598284%5D%2C%20%5B15.998186%2C%2066.878322%5D%2C%20%5B16.106345%2C%2066.929347%5D%2C%20%5B16.375812%2C%2067.01959%5D%2C%20%5B16.425061%2C%2067.168708%5D%2C%20%5B16.390316%2C%2067.232602%5D%2C%20%5B16.11439%2C%2067.421335%5D%2C%20%5B16.199174%2C%2067.507901%5D%2C%20%5B16.416947%2C%2067.5229%5D%2C%20%5B16.529978%2C%2067.604381%5D%2C%20%5B16.71192%2C%2067.892611%5D%2C%20%5B16.770616%2C%2067.913277%5D%2C%20%5B17.201236%2C%2068.029221%5D%2C%20%5B17.299725%2C%2068.096648%5D%2C%20%5B17.659005%2C%2068.022929%5D%2C%20%5B17.917821%2C%2067.944926%5D%2C%20%5B17.945843%2C%2067.977861%5D%2C%20%5B18.166618%2C%2068.168816%5D%2C%20%5B18.090545%2C%2068.382224%5D%2C%20%5B18.112096%2C%2068.513696%5D%2C%20%5B18.399895%2C%2068.559038%5D%2C%20%5B18.601893%2C%2068.488934%5D%2C%20%5B18.981032%2C%2068.50418%5D%2C%20%5B19.913597%2C%2068.363445%5D%2C%20%5B20.245201%2C%2068.495962%5D%2C%20%5B19.95245%2C%2068.556251%5D%2C%20%5B20.083278%2C%2068.596674%5D%2C%20%5B20.234179%2C%2068.674053%5D%2C%20%5B20.342706%2C%2068.801838%5D%2C%20%5B20.320676%2C%2068.911248%5D%2C%20%5B20.114416%2C%2069.029481%5D%2C%20%5B20.594156%2C%2069.04774%5D%2C%20%5B20.803601%2C%2069.029251%5D%2C%20%5B20.882777%2C%2068.988769%5D%2C%20%5B20.942493%2C%2068.977135%5D%2C%20%5B20.91678%2C%2068.958847%5D%2C%20%5B20.863632%2C%2068.937048%5D%2C%20%5B20.939507%2C%2068.90042%5D%2C%20%5B21.022621%2C%2068.903519%5D%2C%20%5B21.244251%2C%2068.821142%5D%2C%20%5B21.305017%2C%2068.768896%5D%2C%20%5B21.366547%2C%2068.77892%5D%2C%20%5B21.424403%2C%2068.765366%5D%2C%20%5B21.432862%2C%2068.70234%5D%2C%20%5B21.513573%2C%2068.68515%5D%2C%20%5B21.625138%2C%2068.669193%5D%2C%20%5B21.729815%2C%2068.633483%5D%2C%20%5B21.715742%2C%2068.601533%5D%2C%20%5B21.849631%2C%2068.598333%5D%2C%20%5B22.01481%2C%2068.555748%5D%2C%20%5B22.011025%2C%2068.524798%5D%2C%20%5B22.030631%2C%2068.499327%5D%2C%20%5B22.126602%2C%2068.48419%5D%2C%20%5B22.234756%2C%2068.480874%5D%2C%20%5B22.317553%2C%2068.485107%5D%2C%20%5B22.353638%2C%2068.454519%5D%2C%20%5B22.403734%2C%2068.4706%5D%2C%20%5B22.58924%2C%2068.431128%5D%2C%20%5B22.625497%2C%2068.440967%5D%2C%20%5B22.661885%2C%2068.419449%5D%2C%20%5B22.763484%2C%2068.39052%5D%2C%20%5B22.793643%2C%2068.406365%5D%2C%20%5B22.843793%2C%2068.390991%5D%2C%20%5B22.836419%2C%2068.363979%5D%2C%20%5B22.940948%2C%2068.340175%5D%2C%20%5B22.973988%2C%2068.3373%5D%2C%20%5B23.07825%2C%2068.31342%5D%2C%20%5B23.084927%2C%2068.277766%5D%2C%20%5B23.164243%2C%2068.246777%5D%2C%20%5B23.161405%2C%2068.211962%5D%2C%20%5B23.145775%2C%2068.172757%5D%2C%20%5B23.181418%2C%2068.143756%5D%2C%20%5B23.280888%2C%2068.159462%5D%2C%20%5B23.340466%2C%2068.129484%5D%2C%20%5B23.397214%2C%2068.050462%5D%2C%20%5B23.46938%2C%2068.047587%5D%2C%20%5B23.481168%2C%2068.020641%5D%2C%20%5B23.542741%2C%2068.016844%5D%2C%20%5B23.561429%2C%2067.978162%5D%2C%20%5B23.644925%2C%2067.970447%5D%2C%20%5B23.655244%2C%2067.912172%5D%2C%20%5B23.536194%2C%2067.895488%5D%2C%20%5B23.488023%2C%2067.829721%5D%2C%20%5B23.506671%2C%2067.791055%5D%2C%20%5B23.483184%2C%2067.687922%5D%2C%20%5B23.556682%2C%2067.629351%5D%2C%20%5B23.51585%2C%2067.566645%5D%2C%20%5B23.469088%2C%2067.569153%5D%2C%20%5B23.494343%2C%2067.540943%5D%2C%20%5B23.415128%2C%2067.492912%5D%2C%20%5B23.507353%2C%2067.456597%5D%2C%20%5B23.541319%2C%2067.471877%5D%2C%20%5B23.685388%2C%2067.441635%5D%2C%20%5B23.723982%2C%2067.456445%5D%2C%20%5B23.786167%2C%2067.42649%5D%2C%20%5B23.749791%2C%2067.392979%5D%2C%20%5B23.746234%2C%2067.350789%5D%2C%20%5B23.793587%2C%2067.342555%5D%2C%20%5B23.740352%2C%2067.290335%5D%2C%20%5B23.613093%2C%2067.278464%5D%2C%20%5B23.580588%2C%2067.23535%5D%2C%20%5B23.606505%2C%2067.208858%5D%2C%20%5B23.576289%2C%2067.176627%5D%2C%20%5B23.678272%2C%2067.105875%5D%2C%20%5B23.68381%2C%2067.055441%5D%2C%20%5B23.770574%2C%2067.00637%5D%2C%20%5B23.82283%2C%2066.999432%5D%2C%20%5B23.831548%2C%2066.969006%5D%2C%20%5B23.888098%2C%2066.954212%5D%2C%20%5B23.88995%2C%2066.913332%5D%2C%20%5B23.981289%2C%2066.858066%5D%2C%20%5B24.013985%2C%2066.821521%5D%2C%20%5B23.99473%2C%2066.784578%5D%2C%20%5B23.935266%2C%2066.79418%5D%2C%20%5B23.917329%2C%2066.766357%5D%2C%20%5B23.917694%2C%2066.68677%5D%2C%20%5B23.891069%2C%2066.65242%5D%2C%20%5B23.889414%2C%2066.584147%5D%2C%20%5B23.820341%2C%2066.555871%5D%2C%20%5B23.819118%2C%2066.524553%5D%2C%20%5B23.739434%2C%2066.515791%5D%2C%20%5B23.728455%2C%2066.483593%5D%2C%20%5B23.654398%2C%2066.468712%5D%2C%20%5B23.646824%2C%2066.44173%5D%2C%20%5B23.696891%2C%2066.403541%5D%2C%20%5B23.634142%2C%2066.31733%5D%2C%20%5B23.72932%2C%2066.189608%5D%2C%20%5B23.861971%2C%2066.1652%5D%2C%20%5B23.939041%2C%2066.159275%5D%2C%20%5B23.928015%2C%2066.1271%5D%2C%20%5B23.953637%2C%2066.109698%5D%2C%20%5B23.946973%2C%2066.08448%5D%2C%20%5B24.021316%2C%2066.021395%5D%2C%20%5B24.041939%2C%2065.96007%5D%2C%20%5B24.149845%2C%2065.803639%5D%2C%20%5B23.839584%2C%2065.793967%5D%2C%20%5B23.755849%2C%2065.826502%5D%2C%20%5B23.686844%2C%2065.831624%5D%2C%20%5B23.666708%2C%2065.805934%5D%2C%20%5B23.59568%2C%2065.797666%5D%2C%20%5B23.488307%2C%2065.823769%5D%2C%20%5B23.430479%2C%2065.779655%5D%2C%20%5B23.284761%2C%2065.80694%5D%2C%20%5B23.220845%2C%2065.820573%5D%2C%20%5B23.173648%2C%2065.793808%5D%2C%20%5B23.110872%2C%2065.716916%5D%2C%20%5B23.014484%2C%2065.759423%5D%2C%20%5B22.834121%2C%2065.796941%5D%2C%20%5B22.782533%2C%2065.871838%5D%2C%20%5B22.701758%2C%2065.896009%5D%2C%20%5B22.667166%2C%2065.88268%5D%2C%20%5B22.686622%2C%2065.79798%5D%2C%20%5B22.7787%2C%2065.746936%5D%2C%20%5B22.777842%2C%2065.713854%5D%2C%20%5B22.705352%2C%2065.728067%5D%2C%20%5B22.619484%2C%2065.779714%5D%2C%20%5B22.506998%2C%2065.781598%5D%2C%20%5B22.513775%2C%2065.817787%5D%2C%20%5B22.439926%2C%2065.870609%5D%2C%20%5B22.336527%2C%2065.854331%5D%2C%20%5B22.29654%2C%2065.789927%5D%2C%20%5B22.293158%2C%2065.718505%5D%2C%20%5B22.305915%2C%2065.660308%5D%2C%20%5B22.322477%2C%2065.609123%5D%2C%20%5B22.373337%2C%2065.56397%5D%2C%20%5B22.324392%2C%2065.555611%5D%2C%20%5B22.202224%2C%2065.576018%5D%2C%20%5B22.143872%2C%2065.56663%5D%2C%20%5B22.139141%2C%2065.524776%5D%2C%20%5B22.029716%2C%2065.52734%5D%2C%20%5B21.862508%2C%2065.529475%5D%2C%20%5B21.984474%2C%2065.467102%5D%2C%20%5B21.910153%2C%2065.421118%5D%2C%20%5B21.797316%2C%2065.404889%5D%2C%20%5B21.635406%2C%2065.415531%5D%2C%20%5B21.484368%2C%2065.395696%5D%2C%20%5B21.435513%2C%2065.368748%5D%2C%20%5B21.6543%2C%2065.298221%5D%2C%20%5B21.634798%2C%2065.268751%5D%2C%20%5B21.54327%2C%2065.243771%5D%2C%20%5B21.577317%2C%2065.147188%5D%2C%20%5B21.501578%2C%2065.080467%5D%2C%20%5B21.312535%2C%2065.131809%5D%2C%20%5B21.29237%2C%2065.170224%5D%2C%20%5B20.755287%2C%2065.213666%5D%2C%20%5B19.881292%2C%2065.394348%5D%2C%20%5B19.653998%2C%2065.214296%5D%2C%20%5B19.599065%2C%2065.191012%5D%2C%20%5B19.413849%2C%2065.149967%5D%2C%20%5B19.334676%2C%2065.188571%5D%2C%20%5B19.253559%2C%2065.212672%5D%2C%20%5B19.250513%2C%2065.2366%5D%2C%20%5B19.285443%2C%2065.257795%5D%2C%20%5B19.08963%2C%2065.320997%5D%2C%20%5B19.044366%2C%2065.316895%5D%2C%20%5B19.041098%2C%2065.340811%5D%2C%20%5B18.943659%2C%2065.358563%5D%2C%20%5B18.852481%2C%2065.381267%5D%2C%20%5B18.822811%2C%2065.405167%5D%2C%20%5B18.766815%2C%2065.418096%5D%2C%20%5B18.750524%2C%2065.442875%5D%2C%20%5B18.701512%2C%2065.451675%5D%2C%20%5B18.580069%2C%2065.454381%5D%2C%20%5B18.514454%2C%2065.487862%5D%2C%20%5B18.426727%2C%2065.510038%5D%2C%20%5B18.293836%2C%2065.52537%5D%2C%20%5B18.230943%2C%2065.548221%5D%2C%20%5B18.180348%2C%2065.592085%5D%5D%2C%20%5B%5B18.407484%2C%2065.697488%5D%2C%20%5B18.355958%2C%2065.723872%5D%2C%20%5B18.376954%2C%2065.766183%5D%2C%20%5B18.30109%2C%2065.787443%5D%2C%20%5B18.173033%2C%2065.78833%5D%2C%20%5B17.922683%2C%2065.923909%5D%2C%20%5B17.969577%2C%2065.977377%5D%2C%20%5B17.926976%2C%2066.041788%5D%2C%20%5B18.073547%2C%2066.050945%5D%2C%20%5B18.109319%2C%2066.074165%5D%2C%20%5B18.053266%2C%2066.103094%5D%2C%20%5B17.961957%2C%2066.086899%5D%2C%20%5B17.868939%2C%2066.125268%5D%2C%20%5B17.815024%2C%2066.184849%5D%2C%20%5B17.657181%2C%2066.219667%5D%2C%20%5B17.550122%2C%2066.271322%5D%2C%20%5B17.428748%2C%2066.321892%5D%2C%20%5B17.322074%2C%2066.376957%5D%2C%20%5B17.08993%2C%2066.424326%5D%2C%20%5B17.062207%2C%2066.39682%5D%2C%20%5B17.319436%2C%2066.331739%5D%2C%20%5B17.451024%2C%2066.258903%5D%2C%20%5B17.461382%2C%2066.212911%5D%2C%20%5B17.616378%2C%2066.182113%5D%2C%20%5B17.738474%2C%2066.124029%5D%2C%20%5B17.850904%2C%2066.077303%5D%2C%20%5B17.765545%2C%2066.064271%5D%2C%20%5B17.645067%2C%2066.040572%5D%2C%20%5B17.75073%2C%2065.976144%5D%2C%20%5B17.760046%2C%2065.941073%5D%2C%20%5B17.720202%2C%2065.905321%5D%2C%20%5B17.737055%2C%2065.842552%5D%2C%20%5B17.821409%2C%2065.842874%5D%2C%20%5B17.873604%2C%2065.899662%5D%2C%20%5B18.024364%2C%2065.804951%5D%2C%20%5B18.117405%2C%2065.677295%5D%2C%20%5B18.209606%2C%2065.687813%5D%2C%20%5B18.27058%2C%2065.67057%5D%2C%20%5B18.498145%2C%2065.636357%5D%2C%20%5B18.50863%2C%2065.662961%5D%2C%20%5B18.407484%2C%2065.697488%5D%5D%5D%5D%2C%20%22type%22%3A%20%22MultiPolygon%22%7D%2C%20%22id%22%3A%20%22Norrbotten%22%2C%20%22properties%22%3A%20%7B%7D%2C%20%22type%22%3A%20%22Feature%22%7D%5D%2C%20%22type%22%3A%20%22FeatureCollection%22%7D%29%3B%0A%0A%20%20%20%20%20%20%20%20%0A%20%20%20%20%0A%20%20%20%20var%20color_map_53115daa3ef249e9b29d5cff8fd96f1a%20%3D%20%7B%7D%3B%0A%0A%20%20%20%20%0A%20%20%20%20color_map_53115daa3ef249e9b29d5cff8fd96f1a.color%20%3D%20d3.scale.threshold%28%29%0A%20%20%20%20%20%20%20%20%20%20%20%20%20%20.domain%28%5B2.0%2C%203.0020040080160317%2C%204.0040080160320635%2C%205.006012024048096%2C%206.008016032064128%2C%207.01002004008016%2C%208.012024048096192%2C%209.014028056112224%2C%2010.016032064128256%2C%2011.01803607214429%2C%2012.02004008016032%2C%2013.022044088176353%2C%2014.024048096192384%2C%2015.026052104208416%2C%2016.028056112224448%2C%2017.03006012024048%2C%2018.03206412825651%2C%2019.034068136272545%2C%2020.03607214428858%2C%2021.03807615230461%2C%2022.04008016032064%2C%2023.04208416833667%2C%2024.044088176352705%2C%2025.04609218436874%2C%2026.04809619238477%2C%2027.050100200400802%2C%2028.052104208416832%2C%2029.054108216432866%2C%2030.0561122244489%2C%2031.05811623246493%2C%2032.06012024048096%2C%2033.06212424849699%2C%2034.06412825651302%2C%2035.06613226452906%2C%2036.06813627254509%2C%2037.07014028056112%2C%2038.07214428857716%2C%2039.07414829659319%2C%2040.07615230460922%2C%2041.078156312625254%2C%2042.08016032064128%2C%2043.08216432865731%2C%2044.08416833667334%2C%2045.08617234468938%2C%2046.08817635270541%2C%2047.09018036072144%2C%2048.09218436873748%2C%2049.09418837675351%2C%2050.09619238476954%2C%2051.098196392785574%2C%2052.100200400801604%2C%2053.102204408817634%2C%2054.104208416833664%2C%2055.1062124248497%2C%2056.10821643286573%2C%2057.11022044088176%2C%2058.1122244488978%2C%2059.11422845691383%2C%2060.11623246492986%2C%2061.11823647294589%2C%2062.120240480961925%2C%2063.122244488977955%2C%2064.12424849699399%2C%2065.12625250501003%2C%2066.12825651302605%2C%2067.13026052104209%2C%2068.13226452905812%2C%2069.13426853707415%2C%2070.13627254509018%2C%2071.13827655310621%2C%2072.14028056112224%2C%2073.14228456913828%2C%2074.14428857715431%2C%2075.14629258517034%2C%2076.14829659318637%2C%2077.1503006012024%2C%2078.15230460921843%2C%2079.15430861723446%2C%2080.15631262525051%2C%2081.15831663326654%2C%2082.16032064128257%2C%2083.1623246492986%2C%2084.16432865731463%2C%2085.16633266533066%2C%2086.16833667334669%2C%2087.17034068136273%2C%2088.17234468937876%2C%2089.17434869739479%2C%2090.17635270541082%2C%2091.17835671342685%2C%2092.18036072144288%2C%2093.18236472945891%2C%2094.18436873747495%2C%2095.18637274549098%2C%2096.18837675350701%2C%2097.19038076152304%2C%2098.19238476953907%2C%2099.1943887775551%2C%20100.19639278557115%2C%20101.19839679358718%2C%20102.20040080160321%2C%20103.20240480961924%2C%20104.20440881763527%2C%20105.2064128256513%2C%20106.20841683366733%2C%20107.21042084168337%2C%20108.2124248496994%2C%20109.21442885771543%2C%20110.21643286573146%2C%20111.21843687374749%2C%20112.22044088176352%2C%20113.22244488977955%2C%20114.2244488977956%2C%20115.22645290581163%2C%20116.22845691382766%2C%20117.23046092184369%2C%20118.23246492985972%2C%20119.23446893787575%2C%20120.23647294589178%2C%20121.23847695390782%2C%20122.24048096192385%2C%20123.24248496993988%2C%20124.24448897795591%2C%20125.24649298597194%2C%20126.24849699398797%2C%20127.25050100200401%2C%20128.25250501002006%2C%20129.25450901803606%2C%20130.2565130260521%2C%20131.25851703406815%2C%20132.26052104208418%2C%20133.2625250501002%2C%20134.26452905811624%2C%20135.26653306613227%2C%20136.2685370741483%2C%20137.27054108216433%2C%20138.27254509018036%2C%20139.2745490981964%2C%20140.27655310621242%2C%20141.27855711422845%2C%20142.28056112224448%2C%20143.2825651302605%2C%20144.28456913827657%2C%20145.2865731462926%2C%20146.28857715430863%2C%20147.29058116232466%2C%20148.2925851703407%2C%20149.29458917835672%2C%20150.29659318637275%2C%20151.29859719438878%2C%20152.3006012024048%2C%20153.30260521042084%2C%20154.30460921843687%2C%20155.3066132264529%2C%20156.30861723446893%2C%20157.31062124248496%2C%20158.31262525050101%2C%20159.31462925851704%2C%20160.31663326653307%2C%20161.3186372745491%2C%20162.32064128256513%2C%20163.32264529058116%2C%20164.3246492985972%2C%20165.32665330661322%2C%20166.32865731462925%2C%20167.33066132264528%2C%20168.3326653306613%2C%20169.33466933867734%2C%20170.33667334669337%2C%20171.33867735470943%2C%20172.34068136272546%2C%20173.3426853707415%2C%20174.34468937875752%2C%20175.34669338677355%2C%20176.34869739478958%2C%20177.3507014028056%2C%20178.35270541082164%2C%20179.35470941883767%2C%20180.3567134268537%2C%20181.35871743486973%2C%20182.36072144288576%2C%20183.3627254509018%2C%20184.36472945891782%2C%20185.36673346693388%2C%20186.3687374749499%2C%20187.37074148296594%2C%20188.37274549098197%2C%20189.374749498998%2C%20190.37675350701403%2C%20191.37875751503006%2C%20192.3807615230461%2C%20193.38276553106212%2C%20194.38476953907815%2C%20195.38677354709418%2C%20196.3887775551102%2C%20197.39078156312624%2C%20198.3927855711423%2C%20199.39478957915833%2C%20200.39679358717436%2C%20201.3987975951904%2C%20202.40080160320642%2C%20203.40280561122245%2C%20204.40480961923848%2C%20205.4068136272545%2C%20206.40881763527054%2C%20207.41082164328657%2C%20208.4128256513026%2C%20209.41482965931863%2C%20210.41683366733466%2C%20211.4188376753507%2C%20212.42084168336675%2C%20213.42284569138278%2C%20214.4248496993988%2C%20215.42685370741484%2C%20216.42885771543087%2C%20217.4308617234469%2C%20218.43286573146293%2C%20219.43486973947896%2C%20220.43687374749499%2C%20221.43887775551102%2C%20222.44088176352705%2C%20223.44288577154308%2C%20224.4448897795591%2C%20225.44689378757516%2C%20226.4488977955912%2C%20227.45090180360722%2C%20228.45290581162325%2C%20229.45490981963928%2C%20230.4569138276553%2C%20231.45891783567134%2C%20232.46092184368737%2C%20233.4629258517034%2C%20234.46492985971943%2C%20235.46693386773546%2C%20236.4689378757515%2C%20237.47094188376752%2C%20238.47294589178355%2C%20239.4749498997996%2C%20240.47695390781564%2C%20241.47895791583167%2C%20242.4809619238477%2C%20243.48296593186373%2C%20244.48496993987976%2C%20245.4869739478958%2C%20246.48897795591182%2C%20247.49098196392785%2C%20248.49298597194388%2C%20249.4949899799599%2C%20250.49699398797594%2C%20251.49899799599197%2C%20252.50100200400803%2C%20253.50300601202406%2C%20254.5050100200401%2C%20255.50701402805612%2C%20256.5090180360721%2C%20257.5110220440882%2C%20258.5130260521042%2C%20259.51503006012024%2C%20260.5170340681363%2C%20261.5190380761523%2C%20262.52104208416836%2C%20263.52304609218436%2C%20264.5250501002004%2C%20265.5270541082164%2C%20266.5290581162325%2C%20267.5310621242485%2C%20268.53306613226454%2C%20269.53507014028054%2C%20270.5370741482966%2C%20271.5390781563126%2C%20272.54108216432866%2C%20273.5430861723447%2C%20274.5450901803607%2C%20275.5470941883768%2C%20276.5490981963928%2C%20277.55110220440883%2C%20278.55310621242484%2C%20279.5551102204409%2C%20280.5571142284569%2C%20281.55911823647295%2C%20282.56112224448896%2C%20283.563126252505%2C%20284.565130260521%2C%20285.5671342685371%2C%20286.56913827655313%2C%20287.57114228456913%2C%20288.5731462925852%2C%20289.5751503006012%2C%20290.57715430861725%2C%20291.57915831663325%2C%20292.5811623246493%2C%20293.5831663326653%2C%20294.5851703406814%2C%20295.5871743486974%2C%20296.58917835671343%2C%20297.59118236472943%2C%20298.5931863727455%2C%20299.59519038076155%2C%20300.59719438877755%2C%20301.5991983967936%2C%20302.6012024048096%2C%20303.60320641282567%2C%20304.6052104208417%2C%20305.60721442885773%2C%20306.60921843687373%2C%20307.6112224448898%2C%20308.6132264529058%2C%20309.61523046092185%2C%20310.61723446893785%2C%20311.6192384769539%2C%20312.6212424849699%2C%20313.62324649298597%2C%20314.62525050100203%2C%20315.62725450901803%2C%20316.6292585170341%2C%20317.6312625250501%2C%20318.63326653306615%2C%20319.63527054108215%2C%20320.6372745490982%2C%20321.6392785571142%2C%20322.64128256513027%2C%20323.64328657314627%2C%20324.6452905811623%2C%20325.64729458917833%2C%20326.6492985971944%2C%20327.65130260521045%2C%20328.65330661322645%2C%20329.6553106212425%2C%20330.6573146292585%2C%20331.65931863727457%2C%20332.66132264529057%2C%20333.6633266533066%2C%20334.6653306613226%2C%20335.6673346693387%2C%20336.6693386773547%2C%20337.67134268537075%2C%20338.67334669338675%2C%20339.6753507014028%2C%20340.67735470941886%2C%20341.67935871743487%2C%20342.6813627254509%2C%20343.6833667334669%2C%20344.685370741483%2C%20345.687374749499%2C%20346.68937875751504%2C%20347.69138276553105%2C%20348.6933867735471%2C%20349.6953907815631%2C%20350.69739478957916%2C%20351.69939879759517%2C%20352.7014028056112%2C%20353.7034068136273%2C%20354.7054108216433%2C%20355.70741482965934%2C%20356.70941883767534%2C%20357.7114228456914%2C%20358.7134268537074%2C%20359.71543086172346%2C%20360.71743486973946%2C%20361.7194388777555%2C%20362.7214428857715%2C%20363.7234468937876%2C%20364.7254509018036%2C%20365.72745490981964%2C%20366.72945891783564%2C%20367.7314629258517%2C%20368.73346693386776%2C%20369.73547094188376%2C%20370.7374749498998%2C%20371.7394789579158%2C%20372.7414829659319%2C%20373.7434869739479%2C%20374.74549098196394%2C%20375.74749498997994%2C%20376.749498997996%2C%20377.751503006012%2C%20378.75350701402806%2C%20379.75551102204406%2C%20380.7575150300601%2C%20381.7595190380762%2C%20382.7615230460922%2C%20383.76352705410824%2C%20384.76553106212424%2C%20385.7675350701403%2C%20386.7695390781563%2C%20387.77154308617236%2C%20388.77354709418836%2C%20389.7755511022044%2C%20390.7775551102204%2C%20391.7795591182365%2C%20392.7815631262525%2C%20393.78356713426854%2C%20394.7855711422846%2C%20395.7875751503006%2C%20396.78957915831666%2C%20397.79158316633266%2C%20398.7935871743487%2C%20399.7955911823647%2C%20400.7975951903808%2C%20401.7995991983968%2C%20402.80160320641284%2C%20403.80360721442884%2C%20404.8056112224449%2C%20405.8076152304609%2C%20406.80961923847696%2C%20407.811623246493%2C%20408.813627254509%2C%20409.8156312625251%2C%20410.8176352705411%2C%20411.81963927855713%2C%20412.82164328657313%2C%20413.8236472945892%2C%20414.8256513026052%2C%20415.82765531062125%2C%20416.82965931863725%2C%20417.8316633266533%2C%20418.8336673346693%2C%20419.8356713426854%2C%20420.8376753507014%2C%20421.83967935871743%2C%20422.8416833667335%2C%20423.8436873747495%2C%20424.84569138276555%2C%20425.84769539078155%2C%20426.8496993987976%2C%20427.8517034068136%2C%20428.85370741482967%2C%20429.8557114228457%2C%20430.85771543086173%2C%20431.85971943887773%2C%20432.8617234468938%2C%20433.8637274549098%2C%20434.86573146292585%2C%20435.8677354709419%2C%20436.8697394789579%2C%20437.87174348697397%2C%20438.87374749498997%2C%20439.87575150300603%2C%20440.87775551102203%2C%20441.8797595190381%2C%20442.8817635270541%2C%20443.88376753507015%2C%20444.88577154308615%2C%20445.8877755511022%2C%20446.8897795591182%2C%20447.89178356713427%2C%20448.8937875751503%2C%20449.89579158316633%2C%20450.8977955911824%2C%20451.8997995991984%2C%20452.90180360721445%2C%20453.90380761523045%2C%20454.9058116232465%2C%20455.9078156312625%2C%20456.90981963927857%2C%20457.91182364729457%2C%20458.9138276553106%2C%20459.9158316633266%2C%20460.9178356713427%2C%20461.91983967935874%2C%20462.92184368737475%2C%20463.9238476953908%2C%20464.9258517034068%2C%20465.92785571142286%2C%20466.92985971943887%2C%20467.9318637274549%2C%20468.9338677354709%2C%20469.935871743487%2C%20470.937875751503%2C%20471.93987975951904%2C%20472.94188376753505%2C%20473.9438877755511%2C%20474.9458917835671%2C%20475.94789579158316%2C%20476.9498997995992%2C%20477.9519038076152%2C%20478.9539078156313%2C%20479.9559118236473%2C%20480.95791583166334%2C%20481.95991983967934%2C%20482.9619238476954%2C%20483.9639278557114%2C%20484.96593186372746%2C%20485.96793587174346%2C%20486.9699398797595%2C%20487.9719438877755%2C%20488.9739478957916%2C%20489.97595190380764%2C%20490.97795591182364%2C%20491.9799599198397%2C%20492.9819639278557%2C%20493.98396793587176%2C%20494.98597194388776%2C%20495.9879759519038%2C%20496.9899799599198%2C%20497.9919839679359%2C%20498.9939879759519%2C%20499.99599198396794%2C%20500.99799599198394%2C%20502.0%5D%29%0A%20%20%20%20%20%20%20%20%20%20%20%20%20%20.range%28%5B%27%23ffffccff%27%2C%20%27%23ffffccff%27%2C%20%27%23ffffccff%27%2C%20%27%23ffffccff%27%2C%20%27%23ffffccff%27%2C%20%27%23ffffccff%27%2C%20%27%23ffffccff%27%2C%20%27%23ffffccff%27%2C%20%27%23ffffccff%27%2C%20%27%23ffffccff%27%2C%20%27%23ffffccff%27%2C%20%27%23ffffccff%27%2C%20%27%23ffffccff%27%2C%20%27%23ffffccff%27%2C%20%27%23ffffccff%27%2C%20%27%23ffffccff%27%2C%20%27%23ffffccff%27%2C%20%27%23ffffccff%27%2C%20%27%23ffffccff%27%2C%20%27%23ffffccff%27%2C%20%27%23ffffccff%27%2C%20%27%23ffffccff%27%2C%20%27%23ffffccff%27%2C%20%27%23ffffccff%27%2C%20%27%23ffffccff%27%2C%20%27%23ffffccff%27%2C%20%27%23ffffccff%27%2C%20%27%23ffffccff%27%2C%20%27%23ffffccff%27%2C%20%27%23ffffccff%27%2C%20%27%23ffffccff%27%2C%20%27%23ffffccff%27%2C%20%27%23ffffccff%27%2C%20%27%23ffffccff%27%2C%20%27%23ffffccff%27%2C%20%27%23ffffccff%27%2C%20%27%23ffffccff%27%2C%20%27%23ffffccff%27%2C%20%27%23ffffccff%27%2C%20%27%23ffffccff%27%2C%20%27%23ffffccff%27%2C%20%27%23ffffccff%27%2C%20%27%23ffffccff%27%2C%20%27%23ffffccff%27%2C%20%27%23ffffccff%27%2C%20%27%23ffffccff%27%2C%20%27%23ffffccff%27%2C%20%27%23ffffccff%27%2C%20%27%23ffffccff%27%2C%20%27%23ffffccff%27%2C%20%27%23ffffccff%27%2C%20%27%23ffffccff%27%2C%20%27%23ffffccff%27%2C%20%27%23ffffccff%27%2C%20%27%23ffffccff%27%2C%20%27%23ffffccff%27%2C%20%27%23ffffccff%27%2C%20%27%23ffffccff%27%2C%20%27%23ffffccff%27%2C%20%27%23ffffccff%27%2C%20%27%23ffffccff%27%2C%20%27%23ffffccff%27%2C%20%27%23ffffccff%27%2C%20%27%23ffffccff%27%2C%20%27%23ffffccff%27%2C%20%27%23ffffccff%27%2C%20%27%23ffffccff%27%2C%20%27%23ffffccff%27%2C%20%27%23ffffccff%27%2C%20%27%23ffffccff%27%2C%20%27%23ffffccff%27%2C%20%27%23ffffccff%27%2C%20%27%23ffffccff%27%2C%20%27%23ffffccff%27%2C%20%27%23ffffccff%27%2C%20%27%23ffffccff%27%2C%20%27%23ffffccff%27%2C%20%27%23ffffccff%27%2C%20%27%23ffffccff%27%2C%20%27%23ffffccff%27%2C%20%27%23ffffccff%27%2C%20%27%23ffffccff%27%2C%20%27%23ffffccff%27%2C%20%27%23ffffccff%27%2C%20%27%23c7e9b4ff%27%2C%20%27%23c7e9b4ff%27%2C%20%27%23c7e9b4ff%27%2C%20%27%23c7e9b4ff%27%2C%20%27%23c7e9b4ff%27%2C%20%27%23c7e9b4ff%27%2C%20%27%23c7e9b4ff%27%2C%20%27%23c7e9b4ff%27%2C%20%27%23c7e9b4ff%27%2C%20%27%23c7e9b4ff%27%2C%20%27%23c7e9b4ff%27%2C%20%27%23c7e9b4ff%27%2C%20%27%23c7e9b4ff%27%2C%20%27%23c7e9b4ff%27%2C%20%27%23c7e9b4ff%27%2C%20%27%23c7e9b4ff%27%2C%20%27%23c7e9b4ff%27%2C%20%27%23c7e9b4ff%27%2C%20%27%23c7e9b4ff%27%2C%20%27%23c7e9b4ff%27%2C%20%27%23c7e9b4ff%27%2C%20%27%23c7e9b4ff%27%2C%20%27%23c7e9b4ff%27%2C%20%27%23c7e9b4ff%27%2C%20%27%23c7e9b4ff%27%2C%20%27%23c7e9b4ff%27%2C%20%27%23c7e9b4ff%27%2C%20%27%23c7e9b4ff%27%2C%20%27%23c7e9b4ff%27%2C%20%27%23c7e9b4ff%27%2C%20%27%23c7e9b4ff%27%2C%20%27%23c7e9b4ff%27%2C%20%27%23c7e9b4ff%27%2C%20%27%23c7e9b4ff%27%2C%20%27%23c7e9b4ff%27%2C%20%27%23c7e9b4ff%27%2C%20%27%23c7e9b4ff%27%2C%20%27%23c7e9b4ff%27%2C%20%27%23c7e9b4ff%27%2C%20%27%23c7e9b4ff%27%2C%20%27%23c7e9b4ff%27%2C%20%27%23c7e9b4ff%27%2C%20%27%23c7e9b4ff%27%2C%20%27%23c7e9b4ff%27%2C%20%27%23c7e9b4ff%27%2C%20%27%23c7e9b4ff%27%2C%20%27%23c7e9b4ff%27%2C%20%27%23c7e9b4ff%27%2C%20%27%23c7e9b4ff%27%2C%20%27%23c7e9b4ff%27%2C%20%27%23c7e9b4ff%27%2C%20%27%23c7e9b4ff%27%2C%20%27%23c7e9b4ff%27%2C%20%27%23c7e9b4ff%27%2C%20%27%23c7e9b4ff%27%2C%20%27%23c7e9b4ff%27%2C%20%27%23c7e9b4ff%27%2C%20%27%23c7e9b4ff%27%2C%20%27%23c7e9b4ff%27%2C%20%27%23c7e9b4ff%27%2C%20%27%23c7e9b4ff%27%2C%20%27%23c7e9b4ff%27%2C%20%27%23c7e9b4ff%27%2C%20%27%23c7e9b4ff%27%2C%20%27%23c7e9b4ff%27%2C%20%27%23c7e9b4ff%27%2C%20%27%23c7e9b4ff%27%2C%20%27%23c7e9b4ff%27%2C%20%27%23c7e9b4ff%27%2C%20%27%23c7e9b4ff%27%2C%20%27%23c7e9b4ff%27%2C%20%27%23c7e9b4ff%27%2C%20%27%23c7e9b4ff%27%2C%20%27%23c7e9b4ff%27%2C%20%27%23c7e9b4ff%27%2C%20%27%23c7e9b4ff%27%2C%20%27%23c7e9b4ff%27%2C%20%27%23c7e9b4ff%27%2C%20%27%23c7e9b4ff%27%2C%20%27%23c7e9b4ff%27%2C%20%27%23c7e9b4ff%27%2C%20%27%23c7e9b4ff%27%2C%20%27%23c7e9b4ff%27%2C%20%27%237fcdbbff%27%2C%20%27%237fcdbbff%27%2C%20%27%237fcdbbff%27%2C%20%27%237fcdbbff%27%2C%20%27%237fcdbbff%27%2C%20%27%237fcdbbff%27%2C%20%27%237fcdbbff%27%2C%20%27%237fcdbbff%27%2C%20%27%237fcdbbff%27%2C%20%27%237fcdbbff%27%2C%20%27%237fcdbbff%27%2C%20%27%237fcdbbff%27%2C%20%27%237fcdbbff%27%2C%20%27%237fcdbbff%27%2C%20%27%237fcdbbff%27%2C%20%27%237fcdbbff%27%2C%20%27%237fcdbbff%27%2C%20%27%237fcdbbff%27%2C%20%27%237fcdbbff%27%2C%20%27%237fcdbbff%27%2C%20%27%237fcdbbff%27%2C%20%27%237fcdbbff%27%2C%20%27%237fcdbbff%27%2C%20%27%237fcdbbff%27%2C%20%27%237fcdbbff%27%2C%20%27%237fcdbbff%27%2C%20%27%237fcdbbff%27%2C%20%27%237fcdbbff%27%2C%20%27%237fcdbbff%27%2C%20%27%237fcdbbff%27%2C%20%27%237fcdbbff%27%2C%20%27%237fcdbbff%27%2C%20%27%237fcdbbff%27%2C%20%27%237fcdbbff%27%2C%20%27%237fcdbbff%27%2C%20%27%237fcdbbff%27%2C%20%27%237fcdbbff%27%2C%20%27%237fcdbbff%27%2C%20%27%237fcdbbff%27%2C%20%27%237fcdbbff%27%2C%20%27%237fcdbbff%27%2C%20%27%237fcdbbff%27%2C%20%27%237fcdbbff%27%2C%20%27%237fcdbbff%27%2C%20%27%237fcdbbff%27%2C%20%27%237fcdbbff%27%2C%20%27%237fcdbbff%27%2C%20%27%237fcdbbff%27%2C%20%27%237fcdbbff%27%2C%20%27%237fcdbbff%27%2C%20%27%237fcdbbff%27%2C%20%27%237fcdbbff%27%2C%20%27%237fcdbbff%27%2C%20%27%237fcdbbff%27%2C%20%27%237fcdbbff%27%2C%20%27%237fcdbbff%27%2C%20%27%237fcdbbff%27%2C%20%27%237fcdbbff%27%2C%20%27%237fcdbbff%27%2C%20%27%237fcdbbff%27%2C%20%27%237fcdbbff%27%2C%20%27%237fcdbbff%27%2C%20%27%237fcdbbff%27%2C%20%27%237fcdbbff%27%2C%20%27%237fcdbbff%27%2C%20%27%237fcdbbff%27%2C%20%27%237fcdbbff%27%2C%20%27%237fcdbbff%27%2C%20%27%237fcdbbff%27%2C%20%27%237fcdbbff%27%2C%20%27%237fcdbbff%27%2C%20%27%237fcdbbff%27%2C%20%27%237fcdbbff%27%2C%20%27%237fcdbbff%27%2C%20%27%237fcdbbff%27%2C%20%27%237fcdbbff%27%2C%20%27%237fcdbbff%27%2C%20%27%237fcdbbff%27%2C%20%27%237fcdbbff%27%2C%20%27%237fcdbbff%27%2C%20%27%237fcdbbff%27%2C%20%27%237fcdbbff%27%2C%20%27%237fcdbbff%27%2C%20%27%2341b6c4ff%27%2C%20%27%2341b6c4ff%27%2C%20%27%2341b6c4ff%27%2C%20%27%2341b6c4ff%27%2C%20%27%2341b6c4ff%27%2C%20%27%2341b6c4ff%27%2C%20%27%2341b6c4ff%27%2C%20%27%2341b6c4ff%27%2C%20%27%2341b6c4ff%27%2C%20%27%2341b6c4ff%27%2C%20%27%2341b6c4ff%27%2C%20%27%2341b6c4ff%27%2C%20%27%2341b6c4ff%27%2C%20%27%2341b6c4ff%27%2C%20%27%2341b6c4ff%27%2C%20%27%2341b6c4ff%27%2C%20%27%2341b6c4ff%27%2C%20%27%2341b6c4ff%27%2C%20%27%2341b6c4ff%27%2C%20%27%2341b6c4ff%27%2C%20%27%2341b6c4ff%27%2C%20%27%2341b6c4ff%27%2C%20%27%2341b6c4ff%27%2C%20%27%2341b6c4ff%27%2C%20%27%2341b6c4ff%27%2C%20%27%2341b6c4ff%27%2C%20%27%2341b6c4ff%27%2C%20%27%2341b6c4ff%27%2C%20%27%2341b6c4ff%27%2C%20%27%2341b6c4ff%27%2C%20%27%2341b6c4ff%27%2C%20%27%2341b6c4ff%27%2C%20%27%2341b6c4ff%27%2C%20%27%2341b6c4ff%27%2C%20%27%2341b6c4ff%27%2C%20%27%2341b6c4ff%27%2C%20%27%2341b6c4ff%27%2C%20%27%2341b6c4ff%27%2C%20%27%2341b6c4ff%27%2C%20%27%2341b6c4ff%27%2C%20%27%2341b6c4ff%27%2C%20%27%2341b6c4ff%27%2C%20%27%2341b6c4ff%27%2C%20%27%2341b6c4ff%27%2C%20%27%2341b6c4ff%27%2C%20%27%2341b6c4ff%27%2C%20%27%2341b6c4ff%27%2C%20%27%2341b6c4ff%27%2C%20%27%2341b6c4ff%27%2C%20%27%2341b6c4ff%27%2C%20%27%2341b6c4ff%27%2C%20%27%2341b6c4ff%27%2C%20%27%2341b6c4ff%27%2C%20%27%2341b6c4ff%27%2C%20%27%2341b6c4ff%27%2C%20%27%2341b6c4ff%27%2C%20%27%2341b6c4ff%27%2C%20%27%2341b6c4ff%27%2C%20%27%2341b6c4ff%27%2C%20%27%2341b6c4ff%27%2C%20%27%2341b6c4ff%27%2C%20%27%2341b6c4ff%27%2C%20%27%2341b6c4ff%27%2C%20%27%2341b6c4ff%27%2C%20%27%2341b6c4ff%27%2C%20%27%2341b6c4ff%27%2C%20%27%2341b6c4ff%27%2C%20%27%2341b6c4ff%27%2C%20%27%2341b6c4ff%27%2C%20%27%2341b6c4ff%27%2C%20%27%2341b6c4ff%27%2C%20%27%2341b6c4ff%27%2C%20%27%2341b6c4ff%27%2C%20%27%2341b6c4ff%27%2C%20%27%2341b6c4ff%27%2C%20%27%2341b6c4ff%27%2C%20%27%2341b6c4ff%27%2C%20%27%2341b6c4ff%27%2C%20%27%2341b6c4ff%27%2C%20%27%2341b6c4ff%27%2C%20%27%2341b6c4ff%27%2C%20%27%2341b6c4ff%27%2C%20%27%2341b6c4ff%27%2C%20%27%232c7fb8ff%27%2C%20%27%232c7fb8ff%27%2C%20%27%232c7fb8ff%27%2C%20%27%232c7fb8ff%27%2C%20%27%232c7fb8ff%27%2C%20%27%232c7fb8ff%27%2C%20%27%232c7fb8ff%27%2C%20%27%232c7fb8ff%27%2C%20%27%232c7fb8ff%27%2C%20%27%232c7fb8ff%27%2C%20%27%232c7fb8ff%27%2C%20%27%232c7fb8ff%27%2C%20%27%232c7fb8ff%27%2C%20%27%232c7fb8ff%27%2C%20%27%232c7fb8ff%27%2C%20%27%232c7fb8ff%27%2C%20%27%232c7fb8ff%27%2C%20%27%232c7fb8ff%27%2C%20%27%232c7fb8ff%27%2C%20%27%232c7fb8ff%27%2C%20%27%232c7fb8ff%27%2C%20%27%232c7fb8ff%27%2C%20%27%232c7fb8ff%27%2C%20%27%232c7fb8ff%27%2C%20%27%232c7fb8ff%27%2C%20%27%232c7fb8ff%27%2C%20%27%232c7fb8ff%27%2C%20%27%232c7fb8ff%27%2C%20%27%232c7fb8ff%27%2C%20%27%232c7fb8ff%27%2C%20%27%232c7fb8ff%27%2C%20%27%232c7fb8ff%27%2C%20%27%232c7fb8ff%27%2C%20%27%232c7fb8ff%27%2C%20%27%232c7fb8ff%27%2C%20%27%232c7fb8ff%27%2C%20%27%232c7fb8ff%27%2C%20%27%232c7fb8ff%27%2C%20%27%232c7fb8ff%27%2C%20%27%232c7fb8ff%27%2C%20%27%232c7fb8ff%27%2C%20%27%232c7fb8ff%27%2C%20%27%232c7fb8ff%27%2C%20%27%232c7fb8ff%27%2C%20%27%232c7fb8ff%27%2C%20%27%232c7fb8ff%27%2C%20%27%232c7fb8ff%27%2C%20%27%232c7fb8ff%27%2C%20%27%232c7fb8ff%27%2C%20%27%232c7fb8ff%27%2C%20%27%232c7fb8ff%27%2C%20%27%232c7fb8ff%27%2C%20%27%232c7fb8ff%27%2C%20%27%232c7fb8ff%27%2C%20%27%232c7fb8ff%27%2C%20%27%232c7fb8ff%27%2C%20%27%232c7fb8ff%27%2C%20%27%232c7fb8ff%27%2C%20%27%232c7fb8ff%27%2C%20%27%232c7fb8ff%27%2C%20%27%232c7fb8ff%27%2C%20%27%232c7fb8ff%27%2C%20%27%232c7fb8ff%27%2C%20%27%232c7fb8ff%27%2C%20%27%232c7fb8ff%27%2C%20%27%232c7fb8ff%27%2C%20%27%232c7fb8ff%27%2C%20%27%232c7fb8ff%27%2C%20%27%232c7fb8ff%27%2C%20%27%232c7fb8ff%27%2C%20%27%232c7fb8ff%27%2C%20%27%232c7fb8ff%27%2C%20%27%232c7fb8ff%27%2C%20%27%232c7fb8ff%27%2C%20%27%232c7fb8ff%27%2C%20%27%232c7fb8ff%27%2C%20%27%232c7fb8ff%27%2C%20%27%232c7fb8ff%27%2C%20%27%232c7fb8ff%27%2C%20%27%232c7fb8ff%27%2C%20%27%232c7fb8ff%27%2C%20%27%232c7fb8ff%27%2C%20%27%232c7fb8ff%27%2C%20%27%23253494ff%27%2C%20%27%23253494ff%27%2C%20%27%23253494ff%27%2C%20%27%23253494ff%27%2C%20%27%23253494ff%27%2C%20%27%23253494ff%27%2C%20%27%23253494ff%27%2C%20%27%23253494ff%27%2C%20%27%23253494ff%27%2C%20%27%23253494ff%27%2C%20%27%23253494ff%27%2C%20%27%23253494ff%27%2C%20%27%23253494ff%27%2C%20%27%23253494ff%27%2C%20%27%23253494ff%27%2C%20%27%23253494ff%27%2C%20%27%23253494ff%27%2C%20%27%23253494ff%27%2C%20%27%23253494ff%27%2C%20%27%23253494ff%27%2C%20%27%23253494ff%27%2C%20%27%23253494ff%27%2C%20%27%23253494ff%27%2C%20%27%23253494ff%27%2C%20%27%23253494ff%27%2C%20%27%23253494ff%27%2C%20%27%23253494ff%27%2C%20%27%23253494ff%27%2C%20%27%23253494ff%27%2C%20%27%23253494ff%27%2C%20%27%23253494ff%27%2C%20%27%23253494ff%27%2C%20%27%23253494ff%27%2C%20%27%23253494ff%27%2C%20%27%23253494ff%27%2C%20%27%23253494ff%27%2C%20%27%23253494ff%27%2C%20%27%23253494ff%27%2C%20%27%23253494ff%27%2C%20%27%23253494ff%27%2C%20%27%23253494ff%27%2C%20%27%23253494ff%27%2C%20%27%23253494ff%27%2C%20%27%23253494ff%27%2C%20%27%23253494ff%27%2C%20%27%23253494ff%27%2C%20%27%23253494ff%27%2C%20%27%23253494ff%27%2C%20%27%23253494ff%27%2C%20%27%23253494ff%27%2C%20%27%23253494ff%27%2C%20%27%23253494ff%27%2C%20%27%23253494ff%27%2C%20%27%23253494ff%27%2C%20%27%23253494ff%27%2C%20%27%23253494ff%27%2C%20%27%23253494ff%27%2C%20%27%23253494ff%27%2C%20%27%23253494ff%27%2C%20%27%23253494ff%27%2C%20%27%23253494ff%27%2C%20%27%23253494ff%27%2C%20%27%23253494ff%27%2C%20%27%23253494ff%27%2C%20%27%23253494ff%27%2C%20%27%23253494ff%27%2C%20%27%23253494ff%27%2C%20%27%23253494ff%27%2C%20%27%23253494ff%27%2C%20%27%23253494ff%27%2C%20%27%23253494ff%27%2C%20%27%23253494ff%27%2C%20%27%23253494ff%27%2C%20%27%23253494ff%27%2C%20%27%23253494ff%27%2C%20%27%23253494ff%27%2C%20%27%23253494ff%27%2C%20%27%23253494ff%27%2C%20%27%23253494ff%27%2C%20%27%23253494ff%27%2C%20%27%23253494ff%27%2C%20%27%23253494ff%27%2C%20%27%23253494ff%27%2C%20%27%23253494ff%27%5D%29%3B%0A%20%20%20%20%0A%0A%20%20%20%20color_map_53115daa3ef249e9b29d5cff8fd96f1a.x%20%3D%20d3.scale.linear%28%29%0A%20%20%20%20%20%20%20%20%20%20%20%20%20%20.domain%28%5B2.0%2C%20502.0%5D%29%0A%20%20%20%20%20%20%20%20%20%20%20%20%20%20.range%28%5B0%2C%20400%5D%29%3B%0A%0A%20%20%20%20color_map_53115daa3ef249e9b29d5cff8fd96f1a.legend%20%3D%20L.control%28%7Bposition%3A%20%27topright%27%7D%29%3B%0A%20%20%20%20color_map_53115daa3ef249e9b29d5cff8fd96f1a.legend.onAdd%20%3D%20function%20%28map%29%20%7Bvar%20div%20%3D%20L.DomUtil.create%28%27div%27%2C%20%27legend%27%29%3B%20return%20div%7D%3B%0A%20%20%20%20color_map_53115daa3ef249e9b29d5cff8fd96f1a.legend.addTo%28map_a5b3333b31514985a21012c384d9dada%29%3B%0A%0A%20%20%20%20color_map_53115daa3ef249e9b29d5cff8fd96f1a.xAxis%20%3D%20d3.svg.axis%28%29%0A%20%20%20%20%20%20%20%20.scale%28color_map_53115daa3ef249e9b29d5cff8fd96f1a.x%29%0A%20%20%20%20%20%20%20%20.orient%28%22top%22%29%0A%20%20%20%20%20%20%20%20.tickSize%281%29%0A%20%20%20%20%20%20%20%20.tickValues%28%5B2.0%2C%2085.33333333333333%2C%20168.66666666666666%2C%20252.0%2C%20335.3333333333333%2C%20418.66666666666663%2C%20502.0%5D%29%3B%0A%0A%20%20%20%20color_map_53115daa3ef249e9b29d5cff8fd96f1a.svg%20%3D%20d3.select%28%22.legend.leaflet-control%22%29.append%28%22svg%22%29%0A%20%20%20%20%20%20%20%20.attr%28%22id%22%2C%20%27legend%27%29%0A%20%20%20%20%20%20%20%20.attr%28%22width%22%2C%20450%29%0A%20%20%20%20%20%20%20%20.attr%28%22height%22%2C%2040%29%3B%0A%0A%20%20%20%20color_map_53115daa3ef249e9b29d5cff8fd96f1a.g%20%3D%20color_map_53115daa3ef249e9b29d5cff8fd96f1a.svg.append%28%22g%22%29%0A%20%20%20%20%20%20%20%20.attr%28%22class%22%2C%20%22key%22%29%0A%20%20%20%20%20%20%20%20.attr%28%22transform%22%2C%20%22translate%2825%2C16%29%22%29%3B%0A%0A%20%20%20%20color_map_53115daa3ef249e9b29d5cff8fd96f1a.g.selectAll%28%22rect%22%29%0A%20%20%20%20%20%20%20%20.data%28color_map_53115daa3ef249e9b29d5cff8fd96f1a.color.range%28%29.map%28function%28d%2C%20i%29%20%7B%0A%20%20%20%20%20%20%20%20%20%20return%20%7B%0A%20%20%20%20%20%20%20%20%20%20%20%20x0%3A%20i%20%3F%20color_map_53115daa3ef249e9b29d5cff8fd96f1a.x%28color_map_53115daa3ef249e9b29d5cff8fd96f1a.color.domain%28%29%5Bi%20-%201%5D%29%20%3A%20color_map_53115daa3ef249e9b29d5cff8fd96f1a.x.range%28%29%5B0%5D%2C%0A%20%20%20%20%20%20%20%20%20%20%20%20x1%3A%20i%20%3C%20color_map_53115daa3ef249e9b29d5cff8fd96f1a.color.domain%28%29.length%20%3F%20color_map_53115daa3ef249e9b29d5cff8fd96f1a.x%28color_map_53115daa3ef249e9b29d5cff8fd96f1a.color.domain%28%29%5Bi%5D%29%20%3A%20color_map_53115daa3ef249e9b29d5cff8fd96f1a.x.range%28%29%5B1%5D%2C%0A%20%20%20%20%20%20%20%20%20%20%20%20z%3A%20d%0A%20%20%20%20%20%20%20%20%20%20%7D%3B%0A%20%20%20%20%20%20%20%20%7D%29%29%0A%20%20%20%20%20%20.enter%28%29.append%28%22rect%22%29%0A%20%20%20%20%20%20%20%20.attr%28%22height%22%2C%2010%29%0A%20%20%20%20%20%20%20%20.attr%28%22x%22%2C%20function%28d%29%20%7B%20return%20d.x0%3B%20%7D%29%0A%20%20%20%20%20%20%20%20.attr%28%22width%22%2C%20function%28d%29%20%7B%20return%20d.x1%20-%20d.x0%3B%20%7D%29%0A%20%20%20%20%20%20%20%20.style%28%22fill%22%2C%20function%28d%29%20%7B%20return%20d.z%3B%20%7D%29%3B%0A%0A%20%20%20%20color_map_53115daa3ef249e9b29d5cff8fd96f1a.g.call%28color_map_53115daa3ef249e9b29d5cff8fd96f1a.xAxis%29.append%28%22text%22%29%0A%20%20%20%20%20%20%20%20.attr%28%22class%22%2C%20%22caption%22%29%0A%20%20%20%20%20%20%20%20.attr%28%22y%22%2C%2021%29%0A%20%20%20%20%20%20%20%20.text%28%27Frequency%27%29%3B%0A%20%20%20%20%0A%20%20%20%20%20%20%20%20function%20geo_json_5c73c6f5eb6044b98f99154ade2270e2_styler%28feature%29%20%7B%0A%20%20%20%20%20%20%20%20%20%20%20%20switch%28feature.id%29%20%7B%0A%20%20%20%20%20%20%20%20%20%20%20%20%20%20%20%20default%3A%0A%20%20%20%20%20%20%20%20%20%20%20%20%20%20%20%20%20%20%20%20return%20%7B%22color%22%3A%20%22%23000000%22%2C%20%22fillColor%22%3A%20%22%23ffffff%22%2C%20%22fillOpacity%22%3A%200.1%2C%20%22weight%22%3A%200.1%7D%3B%0A%20%20%20%20%20%20%20%20%20%20%20%20%7D%0A%20%20%20%20%20%20%20%20%7D%0A%20%20%20%20%20%20%20%20function%20geo_json_5c73c6f5eb6044b98f99154ade2270e2_highlighter%28feature%29%20%7B%0A%20%20%20%20%20%20%20%20%20%20%20%20switch%28feature.id%29%20%7B%0A%20%20%20%20%20%20%20%20%20%20%20%20%20%20%20%20default%3A%0A%20%20%20%20%20%20%20%20%20%20%20%20%20%20%20%20%20%20%20%20return%20%7B%22color%22%3A%20%22%23000000%22%2C%20%22fillColor%22%3A%20%22%23000000%22%2C%20%22fillOpacity%22%3A%200.5%2C%20%22weight%22%3A%200.1%7D%3B%0A%20%20%20%20%20%20%20%20%20%20%20%20%7D%0A%20%20%20%20%20%20%20%20%7D%0A%0A%20%20%20%20%20%20%20%20function%20geo_json_5c73c6f5eb6044b98f99154ade2270e2_onEachFeature%28feature%2C%20layer%29%20%7B%0A%20%20%20%20%20%20%20%20%20%20%20%20layer.on%28%7B%0A%20%20%20%20%20%20%20%20%20%20%20%20%20%20%20%20mouseout%3A%20function%28e%29%20%7B%0A%20%20%20%20%20%20%20%20%20%20%20%20%20%20%20%20%20%20%20%20if%28typeof%20e.target.setStyle%20%3D%3D%3D%20%22function%22%29%7B%0A%20%20%20%20%20%20%20%20%20%20%20%20%20%20%20%20%20%20%20%20%20%20%20%20geo_json_5c73c6f5eb6044b98f99154ade2270e2.resetStyle%28e.target%29%3B%0A%20%20%20%20%20%20%20%20%20%20%20%20%20%20%20%20%20%20%20%20%7D%0A%20%20%20%20%20%20%20%20%20%20%20%20%20%20%20%20%7D%2C%0A%20%20%20%20%20%20%20%20%20%20%20%20%20%20%20%20mouseover%3A%20function%28e%29%20%7B%0A%20%20%20%20%20%20%20%20%20%20%20%20%20%20%20%20%20%20%20%20if%28typeof%20e.target.setStyle%20%3D%3D%3D%20%22function%22%29%7B%0A%20%20%20%20%20%20%20%20%20%20%20%20%20%20%20%20%20%20%20%20%20%20%20%20const%20highlightStyle%20%3D%20geo_json_5c73c6f5eb6044b98f99154ade2270e2_highlighter%28e.target.feature%29%0A%20%20%20%20%20%20%20%20%20%20%20%20%20%20%20%20%20%20%20%20%20%20%20%20e.target.setStyle%28highlightStyle%29%3B%0A%20%20%20%20%20%20%20%20%20%20%20%20%20%20%20%20%20%20%20%20%7D%0A%20%20%20%20%20%20%20%20%20%20%20%20%20%20%20%20%7D%2C%0A%20%20%20%20%20%20%20%20%20%20%20%20%7D%29%3B%0A%20%20%20%20%20%20%20%20%7D%3B%0A%20%20%20%20%20%20%20%20var%20geo_json_5c73c6f5eb6044b98f99154ade2270e2%20%3D%20L.geoJson%28null%2C%20%7B%0A%20%20%20%20%20%20%20%20%20%20%20%20%20%20%20%20onEachFeature%3A%20geo_json_5c73c6f5eb6044b98f99154ade2270e2_onEachFeature%2C%0A%20%20%20%20%20%20%20%20%20%20%20%20%0A%20%20%20%20%20%20%20%20%20%20%20%20%20%20%20%20style%3A%20geo_json_5c73c6f5eb6044b98f99154ade2270e2_styler%2C%0A%20%20%20%20%20%20%20%20%7D%29%3B%0A%0A%20%20%20%20%20%20%20%20function%20geo_json_5c73c6f5eb6044b98f99154ade2270e2_add%20%28data%29%20%7B%0A%20%20%20%20%20%20%20%20%20%20%20%20geo_json_5c73c6f5eb6044b98f99154ade2270e2%0A%20%20%20%20%20%20%20%20%20%20%20%20%20%20%20%20.addData%28data%29%0A%20%20%20%20%20%20%20%20%20%20%20%20%20%20%20%20.addTo%28map_a5b3333b31514985a21012c384d9dada%29%3B%0A%20%20%20%20%20%20%20%20%7D%0A%20%20%20%20%20%20%20%20%20%20%20%20geo_json_5c73c6f5eb6044b98f99154ade2270e2_add%28%7B%22bbox%22%3A%20%5B11.131293%2C%2055.340044%2C%2024.149845%2C%2069.04774%5D%2C%20%22features%22%3A%20%5B%7B%22bbox%22%3A%20%5B17.2402%2C%2058.802358%2C%2019.084355%2C%2060.212805%5D%2C%20%22geometry%22%3A%20%7B%22coordinates%22%3A%20%5B%5B%5B%5B18.220655%2C%2058.91485%5D%2C%20%5B18.193831%2C%2058.916893%5D%2C%20%5B18.193392%2C%2058.924624%5D%2C%20%5B18.188053%2C%2058.9288%5D%2C%20%5B18.171758%2C%2058.921151%5D%2C%20%5B18.156478%2C%2058.916832%5D%2C%20%5B18.147338%2C%2058.915713%5D%2C%20%5B18.14697%2C%2058.924135%5D%2C%20%5B18.171306%2C%2058.934603%5D%2C%20%5B18.199549%2C%2058.94531%5D%2C%20%5B18.210995%2C%2058.949723%5D%2C%20%5B18.271648%2C%2058.967647%5D%2C%20%5B18.289367%2C%2058.964497%5D%2C%20%5B18.3221%2C%2058.974382%5D%2C%20%5B18.333256%2C%2058.981825%5D%2C%20%5B18.345373%2C%2058.986205%5D%2C%20%5B18.352715%2C%2058.982648%5D%2C%20%5B18.35147%2C%2058.971913%5D%2C%20%5B18.341859%2C%2058.966802%5D%2C%20%5B18.289962%2C%2058.952703%5D%2C%20%5B18.282019%2C%2058.945194%5D%2C%20%5B18.296826%2C%2058.939423%5D%2C%20%5B18.307072%2C%2058.933091%5D%2C%20%5B18.274589%2C%2058.924878%5D%2C%20%5B18.254858%2C%2058.927076%5D%2C%20%5B18.242295%2C%2058.924044%5D%2C%20%5B18.233213%2C%2058.917884%5D%2C%20%5B18.220655%2C%2058.91485%5D%5D%5D%2C%20%5B%5B%5B18.073404%2C%2058.971003%5D%2C%20%5B18.058293%2C%2058.968357%5D%2C%20%5B18.051991%2C%2058.969859%5D%2C%20%5B18.057964%2C%2058.977442%5D%2C%20%5B18.055924%2C%2058.988577%5D%2C%20%5B18.058954%2C%2058.99288%5D%2C%20%5B18.081424%2C%2059.003757%5D%2C%20%5B18.08333%2C%2059.009417%5D%2C%20%5B18.080998%2C%2059.017882%5D%2C%20%5B18.081178%2C%2059.019549%5D%2C%20%5B18.090344%2C%2059.026725%5D%2C%20%5B18.101561%2C%2059.028798%5D%2C%20%5B18.133728%2C%2059.027659%5D%2C%20%5B18.16169%2C%2059.035352%5D%2C%20%5B18.193524%2C%2059.030845%5D%2C%20%5B18.20579%2C%2059.03087%5D%2C%20%5B18.201266%2C%2059.024937%5D%2C%20%5B18.187286%2C%2059.021261%5D%2C%20%5B18.172392%2C%2059.020968%5D%2C%20%5B18.163148%2C%2059.013135%5D%2C%20%5B18.164196%2C%2059.005033%5D%2C%20%5B18.157301%2C%2059.001189%5D%2C%20%5B18.146015%2C%2059.00416%5D%2C%20%5B18.136424%2C%2058.999025%5D%2C%20%5B18.138763%2C%2058.990892%5D%2C%20%5B18.15031%2C%2058.978497%5D%2C%20%5B18.138839%2C%2058.973747%5D%2C%20%5B18.121254%2C%2058.972176%5D%2C%20%5B18.111361%2C%2058.976125%5D%2C%20%5B18.108356%2C%2058.984261%5D%2C%20%5B18.100404%2C%2058.988156%5D%2C%20%5B18.090424%2C%2058.985378%5D%2C%20%5B18.082916%2C%2058.975479%5D%2C%20%5B18.073404%2C%2058.971003%5D%5D%5D%2C%20%5B%5B%5B18.405631%2C%2059.010462%5D%2C%20%5B18.394058%2C%2059.010774%5D%2C%20%5B18.387944%2C%2059.019348%5D%2C%20%5B18.363574%2C%2059.015296%5D%2C%20%5B18.344953%2C%2059.02185%5D%2C%20%5B18.341099%2C%2059.033376%5D%2C%20%5B18.350188%2C%2059.039189%5D%2C%20%5B18.359754%2C%2059.043635%5D%2C%20%5B18.36469%2C%2059.047202%5D%2C%20%5B18.361842%2C%2059.050635%5D%2C%20%5B18.348775%2C%2059.049311%5D%2C%20%5B18.345434%2C%2059.05411%5D%2C%20%5B18.374735%2C%2059.072483%5D%2C%20%5B18.373862%2C%2059.0762%5D%2C%20%5B18.365665%2C%2059.078105%5D%2C%20%5B18.370564%2C%2059.081331%5D%2C%20%5B18.411055%2C%2059.08999%5D%2C%20%5B18.465161%2C%2059.120444%5D%2C%20%5B18.466625%2C%2059.121752%5D%2C%20%5B18.484829%2C%2059.100738%5D%2C%20%5B18.477913%2C%2059.091513%5D%2C%20%5B18.454017%2C%2059.081081%5D%2C%20%5B18.452444%2C%2059.067677%5D%2C%20%5B18.425671%2C%2059.054623%5D%2C%20%5B18.416893%2C%2059.01822%5D%2C%20%5B18.405631%2C%2059.010462%5D%5D%5D%2C%20%5B%5B%5B18.675986%2C%2059.205234%5D%2C%20%5B18.683414%2C%2059.212749%5D%2C%20%5B18.69393%2C%2059.21883%5D%2C%20%5B18.704637%2C%2059.216167%5D%2C%20%5B18.698645%2C%2059.20457%5D%2C%20%5B18.724723%2C%2059.210535%5D%2C%20%5B18.738223%2C%2059.209449%5D%2C%20%5B18.731892%2C%2059.200565%5D%2C%20%5B18.720341%2C%2059.196531%5D%2C%20%5B18.70259%2C%2059.194709%5D%2C%20%5B18.682536%2C%2059.190251%5D%2C%20%5B18.666427%2C%2059.186016%5D%2C%20%5B18.650039%2C%2059.179433%5D%2C%20%5B18.652813%2C%2059.186064%5D%2C%20%5B18.675986%2C%2059.205234%5D%5D%5D%2C%20%5B%5B%5B18.736569%2C%2059.28818%5D%2C%20%5B18.765911%2C%2059.298744%5D%2C%20%5B18.779756%2C%2059.300019%5D%2C%20%5B18.799998%2C%2059.29033%5D%2C%20%5B18.77699%2C%2059.278578%5D%2C%20%5B18.771376%2C%2059.265295%5D%2C%20%5B18.756347%2C%2059.259691%5D%2C%20%5B18.741868%2C%2059.263485%5D%2C%20%5B18.724618%2C%2059.260972%5D%2C%20%5B18.714259%2C%2059.261276%5D%2C%20%5B18.714149%2C%2059.270692%5D%2C%20%5B18.724202%2C%2059.283177%5D%2C%20%5B18.736569%2C%2059.28818%5D%5D%5D%2C%20%5B%5B%5B17.777515%2C%2059.096603%5D%2C%20%5B17.772393%2C%2059.110159%5D%2C%20%5B17.774107%2C%2059.120881%5D%2C%20%5B17.737907%2C%2059.108235%5D%2C%20%5B17.732073%2C%2059.101641%5D%2C%20%5B17.737399%2C%2059.083378%5D%2C%20%5B17.735588%2C%2059.071319%5D%2C%20%5B17.70533%2C%2059.065929%5D%2C%20%5B17.691281%2C%2059.067921%5D%2C%20%5B17.688868%2C%2059.083095%5D%2C%20%5B17.689553%2C%2059.096859%5D%2C%20%5B17.700994%2C%2059.11475%5D%2C%20%5B17.691577%2C%2059.142624%5D%2C%20%5B17.685497%2C%2059.149033%5D%2C%20%5B17.679416%2C%2059.159923%5D%2C%20%5B17.673725%2C%2059.168104%5D%2C%20%5B17.666902%2C%2059.171281%5D%2C%20%5B17.656725%2C%2059.166785%5D%2C%20%5B17.659099%2C%2059.157664%5D%2C%20%5B17.675791%2C%2059.14252%5D%2C%20%5B17.680758%2C%2059.126618%5D%2C%20%5B17.679825%2C%2059.116889%5D%2C%20%5B17.673517%2C%2059.111988%5D%2C%20%5B17.663695%2C%2059.110853%5D%2C%20%5B17.654787%2C%2059.11239%5D%2C%20%5B17.648393%2C%2059.106474%5D%2C%20%5B17.653092%2C%2059.101343%5D%2C%20%5B17.624976%2C%2059.091513%5D%2C%20%5B17.618176%2C%2059.087963%5D%2C%20%5B17.617977%2C%2059.078897%5D%2C%20%5B17.631718%2C%2059.073901%5D%2C%20%5B17.633104%2C%2059.06782%5D%2C%20%5B17.614822%2C%2059.052076%5D%2C%20%5B17.614916%2C%2059.01175%5D%2C%20%5B17.621373%2C%2058.998173%5D%2C%20%5B17.632729%2C%2059.002305%5D%2C%20%5B17.647988%2C%2059.02046%5D%2C%20%5B17.653125%2C%2059.033784%5D%2C%20%5B17.656744%2C%2059.05152%5D%2C%20%5B17.672165%2C%2059.057243%5D%2C%20%5B17.685853%2C%2059.051568%5D%2C%20%5B17.68848%2C%2059.038735%5D%2C%20%5B17.692862%2C%2058.990255%5D%2C%20%5B17.695064%2C%2058.959289%5D%2C%20%5B17.686853%2C%2058.940651%5D%2C%20%5B17.675993%2C%2058.935169%5D%2C%20%5B17.657837%2C%2058.940602%5D%2C%20%5B17.636825%2C%2058.943065%5D%2C%20%5B17.618799%2C%2058.904807%5D%2C%20%5B17.599992%2C%2058.947757%5D%2C%20%5B17.525158%2C%2058.967763%5D%2C%20%5B17.521423%2C%2058.991624%5D%2C%20%5B17.363874%2C%2058.992116%5D%2C%20%5B17.288877%2C%2059.050081%5D%2C%20%5B17.303785%2C%2059.141533%5D%2C%20%5B17.254024%2C%2059.1904%5D%2C%20%5B17.2402%2C%2059.242159%5D%2C%20%5B17.284619%2C%2059.267922%5D%2C%20%5B17.302205%2C%2059.251821%5D%2C%20%5B17.331237%2C%2059.256997%5D%2C%20%5B17.3618%2C%2059.257084%5D%2C%20%5B17.384659%2C%2059.250946%5D%2C%20%5B17.417677%2C%2059.242236%5D%2C%20%5B17.414503%2C%2059.250365%5D%2C%20%5B17.380602%2C%2059.2789%5D%2C%20%5B17.376652%2C%2059.285699%5D%2C%20%5B17.378265%2C%2059.311546%5D%2C%20%5B17.368368%2C%2059.317447%5D%2C%20%5B17.366441%2C%2059.325209%5D%2C%20%5B17.38364%2C%2059.328243%5D%2C%20%5B17.389559%2C%2059.321402%5D%2C%20%5B17.399751%2C%2059.318853%5D%2C%20%5B17.424974%2C%2059.309627%5D%2C%20%5B17.438008%2C%2059.309716%5D%2C%20%5B17.465699%2C%2059.292029%5D%2C%20%5B17.544274%2C%2059.268943%5D%2C%20%5B17.566333%2C%2059.268494%5D%2C%20%5B17.577899%2C%2059.260194%5D%2C%20%5B17.590315%2C%2059.2401%5D%2C%20%5B17.607179%2C%2059.218912%5D%2C%20%5B17.6148%2C%2059.210357%5D%2C%20%5B17.628912%2C%2059.208373%5D%2C%20%5B17.632192%2C%2059.215699%5D%2C%20%5B17.61965%2C%2059.23411%5D%2C%20%5B17.614148%2C%2059.256292%5D%2C%20%5B17.610602%2C%2059.262187%5D%2C%20%5B17.60323%2C%2059.266715%5D%2C%20%5B17.597923%2C%2059.272535%5D%2C%20%5B17.603938%2C%2059.281152%5D%2C%20%5B17.623836%2C%2059.285105%5D%2C%20%5B17.634541%2C%2059.281516%5D%2C%20%5B17.65475%2C%2059.281761%5D%2C%20%5B17.656026%2C%2059.288459%5D%2C%20%5B17.683696%2C%2059.285172%5D%2C%20%5B17.70826%2C%2059.276914%5D%2C%20%5B17.716297%2C%2059.265985%5D%2C%20%5B17.73654%2C%2059.256115%5D%2C%20%5B17.759106%2C%2059.264703%5D%2C%20%5B17.780778%2C%2059.260363%5D%2C%20%5B17.804356%2C%2059.262023%5D%2C%20%5B17.84083%2C%2059.262545%5D%2C%20%5B17.858383%2C%2059.2561%5D%2C%20%5B17.867073%2C%2059.245816%5D%2C%20%5B17.872041%2C%2059.236955%5D%2C%20%5B17.882334%2C%2059.244559%5D%2C%20%5B17.882449%2C%2059.273237%5D%2C%20%5B17.875727%2C%2059.279558%5D%2C%20%5B17.880688%2C%2059.289859%5D%2C%20%5B17.904724%2C%2059.295688%5D%2C%20%5B17.921752%2C%2059.303018%5D%2C%20%5B17.941049%2C%2059.306942%5D%2C%20%5B17.96163%2C%2059.310823%5D%2C%20%5B17.985302%2C%2059.312961%5D%2C%20%5B17.992951%2C%2059.317476%5D%2C%20%5B18.015761%2C%2059.317603%5D%2C%20%5B18.038322%2C%2059.32143%5D%2C%20%5B18.06328%2C%2059.323173%5D%2C%20%5B18.079809%2C%2059.31941%5D%2C%20%5B18.102331%2C%2059.317058%5D%2C%20%5B18.120399%2C%2059.315382%5D%2C%20%5B18.142848%2C%2059.318187%5D%2C%20%5B18.17829%2C%2059.326365%5D%2C%20%5B18.197818%2C%2059.331926%5D%2C%20%5B18.204894%2C%2059.331077%5D%2C%20%5B18.2042%2C%2059.318985%5D%2C%20%5B18.20694%2C%2059.302788%5D%2C%20%5B18.213466%2C%2059.297234%5D%2C%20%5B18.25186%2C%2059.296923%5D%2C%20%5B18.271522%2C%2059.298097%5D%2C%20%5B18.286801%2C%2059.295004%5D%2C%20%5B18.294806%2C%2059.285386%5D%2C%20%5B18.298548%2C%2059.278229%5D%2C%20%5B18.324226%2C%2059.275202%5D%2C%20%5B18.337613%2C%2059.272823%5D%2C%20%5B18.341387%2C%2059.265996%5D%2C%20%5B18.330617%2C%2059.262927%5D%2C%20%5B18.310779%2C%2059.265807%5D%2C%20%5B18.276253%2C%2059.271083%5D%2C%20%5B18.258616%2C%2059.270527%5D%2C%20%5B18.254389%2C%2059.267617%5D%2C%20%5B18.257288%2C%2059.264509%5D%2C%20%5B18.264573%2C%2059.259953%5D%2C%20%5B18.288465%2C%2059.258323%5D%2C%20%5B18.340149%2C%2059.238476%5D%2C%20%5B18.357032%2C%2059.227261%5D%2C%20%5B18.371625%2C%2059.22418%5D%2C%20%5B18.386973%2C%2059.222089%5D%2C%20%5B18.403837%2C%2059.205165%5D%2C%20%5B18.395962%2C%2059.198982%5D%2C%20%5B18.375102%2C%2059.192822%5D%2C%20%5B18.365331%2C%2059.181321%5D%2C%20%5B18.378747%2C%2059.173791%5D%2C%20%5B18.410412%2C%2059.167331%5D%2C%20%5B18.424923%2C%2059.169294%5D%2C%20%5B18.440839%2C%2059.172214%5D%2C%20%5B18.448855%2C%2059.168629%5D%2C%20%5B18.426532%2C%2059.144365%5D%2C%20%5B18.412307%2C%2059.139371%5D%2C%20%5B18.400255%2C%2059.136001%5D%2C%20%5B18.38993%2C%2059.136279%5D%2C%20%5B18.38594%2C%2059.141092%5D%2C%20%5B18.376303%2C%2059.141696%5D%2C%20%5B18.351502%2C%2059.129252%5D%2C%20%5B18.34309%2C%2059.129138%5D%2C%20%5B18.328316%2C%2059.130199%5D%2C%20%5B18.315009%2C%2059.127187%5D%2C%20%5B18.284406%2C%2059.120258%5D%2C%20%5B18.269238%2C%2059.106546%5D%2C%20%5B18.315364%2C%2059.107683%5D%2C%20%5B18.317801%2C%2059.1009%5D%2C%20%5B18.30075%2C%2059.093281%5D%2C%20%5B18.251947%2C%2059.085149%5D%2C%20%5B18.22796%2C%2059.079043%5D%2C%20%5B18.213435%2C%2059.070674%5D%2C%20%5B18.201612%2C%2059.068962%5D%2C%20%5B18.198869%2C%2059.073405%5D%2C%20%5B18.198947%2C%2059.079788%5D%2C%20%5B18.215243%2C%2059.08677%5D%2C%20%5B18.225326%2C%2059.090201%5D%2C%20%5B18.228298%2C%2059.093487%5D%2C%20%5B18.220423%2C%2059.098402%5D%2C%20%5B18.227598%2C%2059.1046%5D%2C%20%5B18.23831%2C%2059.107686%5D%2C%20%5B18.248089%2C%2059.108437%5D%2C%20%5B18.257727%2C%2059.113563%5D%2C%20%5B18.25694%2C%2059.117951%5D%2C%20%5B18.247708%2C%2059.122229%5D%2C%20%5B18.224864%2C%2059.120807%5D%2C%20%5B18.211546%2C%2059.117453%5D%2C%20%5B18.202871%2C%2059.109271%5D%2C%20%5B18.210798%2C%2059.105038%5D%2C%20%5B18.206304%2C%2059.099437%5D%2C%20%5B18.188721%2C%2059.092828%5D%2C%20%5B18.14244%2C%2059.083908%5D%2C%20%5B18.136792%2C%2059.079349%5D%2C%20%5B18.108524%2C%2059.075355%5D%2C%20%5B18.100771%2C%2059.069484%5D%2C%20%5B18.09449%2C%2059.059223%5D%2C%20%5B18.082598%2C%2059.056837%5D%2C%20%5B18.059217%2C%2059.055728%5D%2C%20%5B18.042097%2C%2059.052782%5D%2C%20%5B18.035332%2C%2059.043874%5D%2C%20%5B18.033758%2C%2059.035172%5D%2C%20%5B18.026067%2C%2059.029647%5D%2C%20%5B18.014742%2C%2059.032606%5D%2C%20%5B18.012449%2C%2059.041401%5D%2C%20%5B17.999881%2C%2059.04271%5D%2C%20%5B17.997778%2C%2059.037052%5D%2C%20%5B18.005442%2C%2059.011652%5D%2C%20%5B18.00711%2C%2059.002877%5D%2C%20%5B18.002179%2C%2058.998965%5D%2C%20%5B17.993743%2C%2058.998497%5D%2C%20%5B17.990164%2C%2059.007654%5D%2C%20%5B17.983616%2C%2059.012856%5D%2C%20%5B17.976055%2C%2059.002279%5D%2C%20%5B17.973796%2C%2058.992924%5D%2C%20%5B17.955776%2C%2058.968475%5D%2C%20%5B17.963382%2C%2058.936038%5D%2C%20%5B17.952026%2C%2058.913445%5D%2C%20%5B17.929321%2C%2058.905576%5D%2C%20%5B17.906789%2C%2058.892663%5D%2C%20%5B17.890775%2C%2058.868164%5D%2C%20%5B17.875194%2C%2058.860135%5D%2C%20%5B17.848452%2C%2058.811342%5D%2C%20%5B17.785316%2C%2058.802358%5D%2C%20%5B17.785629%2C%2058.812097%5D%2C%20%5B17.803528%2C%2058.824464%5D%2C%20%5B17.817414%2C%2058.834908%5D%2C%20%5B17.821548%2C%2058.850612%5D%2C%20%5B17.800399%2C%2058.877296%5D%2C%20%5B17.77638%2C%2058.90137%5D%2C%20%5B17.7538%2C%2058.91397%5D%2C%20%5B17.747066%2C%2058.9242%5D%2C%20%5B17.753442%2C%2058.930111%5D%2C%20%5B17.757107%2C%2058.967671%5D%2C%20%5B17.745773%2C%2058.976992%5D%2C%20%5B17.747199%2C%2058.985034%5D%2C%20%5B17.756615%2C%2058.995569%5D%2C%20%5B17.747848%2C%2059.024668%5D%2C%20%5B17.736451%2C%2059.040391%5D%2C%20%5B17.737396%2C%2059.050101%5D%2C%20%5B17.748961%2C%2059.062625%5D%2C%20%5B17.760793%2C%2059.071095%5D%2C%20%5B17.757327%2C%2059.081931%5D%2C%20%5B17.764286%2C%2059.093535%5D%2C%20%5B17.777515%2C%2059.096603%5D%5D%5D%2C%20%5B%5B%5B17.890465%2C%2059.33434%5D%2C%20%5B17.891071%2C%2059.327605%5D%2C%20%5B17.884921%2C%2059.324722%5D%2C%20%5B17.88216%2C%2059.320069%5D%2C%20%5B17.876937%2C%2059.310446%5D%2C%20%5B17.860547%2C%2059.3031%5D%2C%20%5B17.846482%2C%2059.305431%5D%2C%20%5B17.833841%2C%2059.315802%5D%2C%20%5B17.808198%2C%2059.332855%5D%2C%20%5B17.806219%2C%2059.338937%5D%2C%20%5B17.814378%2C%2059.348833%5D%2C%20%5B17.820697%2C%2059.353404%5D%2C%20%5B17.841715%2C%2059.354946%5D%2C%20%5B17.856314%2C%2059.35091%5D%2C%20%5B17.869974%2C%2059.337836%5D%2C%20%5B17.879311%2C%2059.333584%5D%2C%20%5B17.890465%2C%2059.33434%5D%5D%5D%2C%20%5B%5B%5B18.359343%2C%2059.35865%5D%2C%20%5B18.394719%2C%2059.360054%5D%2C%20%5B18.415789%2C%2059.356113%5D%2C%20%5B18.447141%2C%2059.340133%5D%2C%20%5B18.446963%2C%2059.333087%5D%2C%20%5B18.433452%2C%2059.329076%5D%2C%20%5B18.439498%2C%2059.325218%5D%2C%20%5B18.437021%2C%2059.320912%5D%2C%20%5B18.41845%2C%2059.30697%5D%2C%20%5B18.412182%2C%2059.298051%5D%2C%20%5B18.421268%2C%2059.292436%5D%2C%20%5B18.451539%2C%2059.294968%5D%2C%20%5B18.476409%2C%2059.29058%5D%2C%20%5B18.498906%2C%2059.282904%5D%2C%20%5B18.507831%2C%2059.27593%5D%2C%20%5B18.538854%2C%2059.268671%5D%2C%20%5B18.547159%2C%2059.267437%5D%2C%20%5B18.551749%2C%2059.273025%5D%2C%20%5B18.539372%2C%2059.278415%5D%2C%20%5B18.540722%2C%2059.284089%5D%2C%20%5B18.610263%2C%2059.288502%5D%2C%20%5B18.680398%2C%2059.297238%5D%2C%20%5B18.684966%2C%2059.292063%5D%2C%20%5B18.635734%2C%2059.262891%5D%2C%20%5B18.638963%2C%2059.257423%5D%2C%20%5B18.619898%2C%2059.255941%5D%2C%20%5B18.603326%2C%2059.253398%5D%2C%20%5B18.592168%2C%2059.247332%5D%2C%20%5B18.566288%2C%2059.243016%5D%2C%20%5B18.564939%2C%2059.231961%5D%2C%20%5B18.548293%2C%2059.228729%5D%2C%20%5B18.535195%2C%2059.222718%5D%2C%20%5B18.524279%2C%2059.218312%5D%2C%20%5B18.482125%2C%2059.224531%5D%2C%20%5B18.47095%2C%2059.239633%5D%2C%20%5B18.449153%2C%2059.242251%5D%2C%20%5B18.424151%2C%2059.250661%5D%2C%20%5B18.414091%2C%2059.26472%5D%2C%20%5B18.397782%2C%2059.269878%5D%2C%20%5B18.378112%2C%2059.285195%5D%2C%20%5B18.346343%2C%2059.286375%5D%2C%20%5B18.333188%2C%2059.290762%5D%2C%20%5B18.339624%2C%2059.295631%5D%2C%20%5B18.349807%2C%2059.299393%5D%2C%20%5B18.342981%2C%2059.313365%5D%2C%20%5B18.34681%2C%2059.318302%5D%2C%20%5B18.363029%2C%2059.323247%5D%2C%20%5B18.370979%2C%2059.330096%5D%2C%20%5B18.360834%2C%2059.332388%5D%2C%20%5B18.343113%2C%2059.331396%5D%2C%20%5B18.329838%2C%2059.334887%5D%2C%20%5B18.304681%2C%2059.337231%5D%2C%20%5B18.298922%2C%2059.321248%5D%2C%20%5B18.293567%2C%2059.314327%5D%2C%20%5B18.279915%2C%2059.308974%5D%2C%20%5B18.25846%2C%2059.30348%5D%2C%20%5B18.234552%2C%2059.305104%5D%2C%20%5B18.22322%2C%2059.308755%5D%2C%20%5B18.222384%2C%2059.312811%5D%2C%20%5B18.221967%2C%2059.320551%5D%2C%20%5B18.226567%2C%2059.343968%5D%2C%20%5B18.250748%2C%2059.350404%5D%2C%20%5B18.259633%2C%2059.353874%5D%2C%20%5B18.264337%2C%2059.3608%5D%2C%20%5B18.306833%2C%2059.361716%5D%2C%20%5B18.324256%2C%2059.359916%5D%2C%20%5B18.345229%2C%2059.36092%5D%2C%20%5B18.359343%2C%2059.35865%5D%5D%5D%2C%20%5B%5B%5B18.904417%2C%2059.355742%5D%2C%20%5B18.906362%2C%2059.350639%5D%2C%20%5B18.893995%2C%2059.345974%5D%2C%20%5B18.893105%2C%2059.339276%5D%2C%20%5B18.881154%2C%2059.327872%5D%2C%20%5B18.883053%2C%2059.322437%5D%2C%20%5B18.893662%2C%2059.314048%5D%2C%20%5B18.884647%2C%2059.30995%5D%2C%20%5B18.85174%2C%2059.312304%5D%2C%20%5B18.85901%2C%2059.318135%5D%2C%20%5B18.863244%2C%2059.33044%5D%2C%20%5B18.868286%2C%2059.344074%5D%2C%20%5B18.874364%2C%2059.350615%5D%2C%20%5B18.887698%2C%2059.357612%5D%2C%20%5B18.895631%2C%2059.358367%5D%2C%20%5B18.904417%2C%2059.355742%5D%5D%5D%2C%20%5B%5B%5B18.105711%2C%2059.3897%5D%2C%20%5B18.113187%2C%2059.392199%5D%2C%20%5B18.128691%2C%2059.39081%5D%2C%20%5B18.148454%2C%2059.386614%5D%2C%20%5B18.175089%2C%2059.379559%5D%2C%20%5B18.203472%2C%2059.37649%5D%2C%20%5B18.214391%2C%2059.374861%5D%2C%20%5B18.229028%2C%2059.377517%5D%2C%20%5B18.242522%2C%2059.375488%5D%2C%20%5B18.244413%2C%2059.36922%5D%2C%20%5B18.238427%2C%2059.368191%5D%2C%20%5B18.222749%2C%2059.367926%5D%2C%20%5B18.216546%2C%2059.365059%5D%2C%20%5B18.218117%2C%2059.361654%5D%2C%20%5B18.223543%2C%2059.357818%5D%2C%20%5B18.217673%2C%2059.351927%5D%2C%20%5B18.20548%2C%2059.347869%5D%2C%20%5B18.188079%2C%2059.34394%5D%2C%20%5B18.165982%2C%2059.344495%5D%2C%20%5B18.143589%2C%2059.348419%5D%2C%20%5B18.129928%2C%2059.360526%5D%2C%20%5B18.126038%2C%2059.366674%5D%2C%20%5B18.12615%2C%2059.373722%5D%2C%20%5B18.119513%2C%2059.37859%5D%2C%20%5B18.10741%2C%2059.381256%5D%2C%20%5B18.10459%2C%2059.385355%5D%2C%20%5B18.105711%2C%2059.3897%5D%5D%5D%2C%20%5B%5B%5B18.720766%2C%2059.363635%5D%2C%20%5B18.729915%2C%2059.353612%5D%2C%20%5B18.73177%2C%2059.342469%5D%2C%20%5B18.731305%2C%2059.328692%5D%2C%20%5B18.724229%2C%2059.31915%5D%2C%20%5B18.708442%2C%2059.312883%5D%2C%20%5B18.682707%2C%2059.305235%5D%2C%20%5B18.672031%2C%2059.303189%5D%2C%20%5B18.664491%2C%2059.30543%5D%2C%20%5B18.670659%2C%2059.323411%5D%2C%20%5B18.671399%2C%2059.334487%5D%2C%20%5B18.664652%2C%2059.348126%5D%2C%20%5B18.637027%2C%2059.372459%5D%2C%20%5B18.668394%2C%2059.377945%5D%2C%20%5B18.684242%2C%2059.369081%5D%2C%20%5B18.69529%2C%2059.373795%5D%2C%20%5B18.720766%2C%2059.363635%5D%5D%5D%2C%20%5B%5B%5B17.487842%2C%2059.377946%5D%2C%20%5B17.469742%2C%2059.38704%5D%2C%20%5B17.467512%2C%2059.391117%5D%2C%20%5B17.469938%2C%2059.396447%5D%2C%20%5B17.470617%2C%2059.403818%5D%2C%20%5B17.469105%2C%2059.408892%5D%2C%20%5B17.471086%2C%2059.416247%5D%2C%20%5B17.491784%2C%2059.421216%5D%2C%20%5B17.505323%2C%2059.419263%5D%2C%20%5B17.509211%2C%2059.411796%5D%2C%20%5B17.521593%2C%2059.404487%5D%2C%20%5B17.534659%2C%2059.383386%5D%2C%20%5B17.542681%2C%2059.378521%5D%2C%20%5B17.544554%2C%2059.370415%5D%2C%20%5B17.538113%2C%2059.364494%5D%2C%20%5B17.534959%2C%2059.358512%5D%2C%20%5B17.539753%2C%2059.347%5D%2C%20%5B17.530719%2C%2059.340799%5D%2C%20%5B17.519076%2C%2059.341698%5D%2C%20%5B17.502919%2C%2059.35043%5D%2C%20%5B17.492809%2C%2059.361048%5D%2C%20%5B17.496246%2C%2059.370044%5D%2C%20%5B17.487842%2C%2059.377946%5D%5D%5D%2C%20%5B%5B%5B17.613013%2C%2059.363289%5D%2C%20%5B17.599256%2C%2059.362573%5D%2C%20%5B17.588012%2C%2059.367835%5D%2C%20%5B17.572366%2C%2059.389004%5D%2C%20%5B17.563821%2C%2059.388168%5D%2C%20%5B17.553906%2C%2059.387026%5D%2C%20%5B17.543827%2C%2059.390932%5D%2C%20%5B17.540547%2C%2059.397718%5D%2C%20%5B17.535539%2C%2059.406889%5D%2C%20%5B17.532551%2C%2059.417038%5D%2C%20%5B17.548257%2C%2059.424443%5D%2C%20%5B17.562865%2C%2059.426833%5D%2C%20%5B17.580748%2C%2059.429482%5D%2C%20%5B17.593141%2C%2059.429224%5D%2C%20%5B17.636342%2C%2059.361788%5D%2C%20%5B17.653553%2C%2059.32379%5D%2C%20%5B17.681326%2C%2059.321184%5D%2C%20%5B17.700001%2C%2059.312375%5D%2C%20%5B17.735407%2C%2059.301521%5D%2C%20%5B17.759524%2C%2059.29528%5D%2C%20%5B17.773016%2C%2059.29364%5D%2C%20%5B17.797593%2C%2059.298475%5D%2C%20%5B17.809842%2C%2059.297191%5D%2C%20%5B17.808818%2C%2059.293517%5D%2C%20%5B17.83923%2C%2059.285431%5D%2C%20%5B17.843067%2C%2059.278286%5D%2C%20%5B17.839523%2C%2059.275343%5D%2C%20%5B17.812957%2C%2059.2699%5D%2C%20%5B17.784051%2C%2059.273566%5D%2C%20%5B17.775996%2C%2059.277774%5D%2C%20%5B17.763808%2C%2059.279394%5D%2C%20%5B17.726705%2C%2059.279202%5D%2C%20%5B17.685412%2C%2059.296227%5D%2C%20%5B17.647958%2C%2059.3061%5D%2C%20%5B17.632197%2C%2059.311475%5D%2C%20%5B17.626205%2C%2059.316982%5D%2C%20%5B17.624336%2C%2059.324748%5D%2C%20%5B17.628258%2C%2059.331715%5D%2C%20%5B17.624395%2C%2059.34591%5D%2C%20%5B17.611613%2C%2059.348539%5D%2C%20%5B17.617539%2C%2059.356143%5D%2C%20%5B17.613013%2C%2059.363289%5D%5D%5D%2C%20%5B%5B%5B18.46251%2C%2059.397542%5D%2C%20%5B18.456057%2C%2059.403763%5D%2C%20%5B18.444578%2C%2059.406097%5D%2C%20%5B18.438069%2C%2059.411653%5D%2C%20%5B18.436007%2C%2059.416419%5D%2C%20%5B18.44477%2C%2059.418532%5D%2C%20%5B18.454389%2C%2059.416918%5D%2C%20%5B18.465202%2C%2059.419985%5D%2C%20%5B18.478839%2C%2059.419276%5D%2C%20%5B18.499447%2C%2059.416696%5D%2C%20%5B18.504982%2C%2059.413843%5D%2C%20%5B18.519049%2C%2059.389921%5D%2C%20%5B18.584156%2C%2059.367255%5D%2C%20%5B18.602381%2C%2059.372111%5D%2C%20%5B18.615346%2C%2059.37141%5D%2C%20%5B18.622485%2C%2059.365813%5D%2C%20%5B18.621694%2C%2059.359453%5D%2C%20%5B18.612022%2C%2059.355027%5D%2C%20%5B18.601497%2C%2059.354319%5D%2C%20%5B18.589927%2C%2059.355654%5D%2C%20%5B18.568978%2C%2059.355237%5D%2C%20%5B18.549203%2C%2059.353446%5D%2C%20%5B18.554224%2C%2059.346577%5D%2C%20%5B18.575987%2C%2059.348649%5D%2C%20%5B18.605278%2C%2059.342778%5D%2C%20%5B18.626663%2C%2059.336451%5D%2C%20%5B18.634508%2C%2059.326141%5D%2C%20%5B18.633459%2C%2059.317757%5D%2C%20%5B18.62489%2C%2059.30658%5D%2C%20%5B18.611601%2C%2059.299215%5D%2C%20%5B18.58714%2C%2059.296219%5D%2C%20%5B18.537813%2C%2059.292243%5D%2C%20%5B18.517969%2C%2059.289766%5D%2C%20%5B18.483568%2C%2059.30148%5D%2C%20%5B18.469329%2C%2059.302203%5D%2C%20%5B18.456141%2C%2059.306271%5D%2C%20%5B18.457144%2C%2059.314648%5D%2C%20%5B18.468641%2C%2059.339884%5D%2C%20%5B18.469026%2C%2059.348615%5D%2C%20%5B18.464374%2C%2059.353452%5D%2C%20%5B18.45844%2C%2059.358315%5D%2C%20%5B18.455752%2C%2059.363094%5D%2C%20%5B18.459936%2C%2059.370714%5D%2C%20%5B18.466906%2C%2059.37994%5D%2C%20%5B18.467308%2C%2059.38867%5D%2C%20%5B18.46251%2C%2059.397542%5D%5D%5D%2C%20%5B%5B%5B18.934964%2C%2059.393809%5D%2C%20%5B18.93918%2C%2059.376524%5D%2C%20%5B18.931314%2C%2059.371395%5D%2C%20%5B18.914443%2C%2059.372247%5D%2C%20%5B18.910567%2C%2059.377406%5D%2C%20%5B18.912476%2C%2059.39653%5D%2C%20%5B18.906058%2C%2059.402432%5D%2C%20%5B18.920349%2C%2059.406699%5D%2C%20%5B18.923945%2C%2059.413988%5D%2C%20%5B18.934294%2C%2059.418043%5D%2C%20%5B18.951642%2C%2059.415821%5D%2C%20%5B18.955161%2C%2059.407975%5D%2C%20%5B18.934964%2C%2059.393809%5D%5D%5D%2C%20%5B%5B%5B17.786655%2C%2059.325938%5D%2C%20%5B17.789765%2C%2059.317801%5D%2C%20%5B17.781194%2C%2059.310254%5D%2C%20%5B17.760709%2C%2059.307357%5D%2C%20%5B17.733154%2C%2059.311655%5D%2C%20%5B17.71992%2C%2059.323038%5D%2C%20%5B17.713198%2C%2059.327555%5D%2C%20%5B17.696928%2C%2059.327567%5D%2C%20%5B17.678913%2C%2059.343414%5D%2C%20%5B17.654215%2C%2059.364436%5D%2C%20%5B17.636785%2C%2059.386985%5D%2C%20%5B17.630513%2C%2059.403252%5D%2C%20%5B17.604408%2C%2059.431008%5D%2C%20%5B17.60151%2C%2059.441831%5D%2C%20%5B17.598077%2C%2059.446933%5D%2C%20%5B17.599664%2C%2059.449928%5D%2C%20%5B17.613759%2C%2059.453667%5D%2C%20%5B17.628562%2C%2059.444285%5D%2C%20%5B17.643226%2C%2059.440623%5D%2C%20%5B17.6629%2C%2059.427765%5D%2C%20%5B17.679342%2C%2059.422035%5D%2C%20%5B17.690812%2C%2059.42583%5D%2C%20%5B17.709329%2C%2059.421395%5D%2C%20%5B17.730435%2C%2059.410177%5D%2C%20%5B17.724953%2C%2059.407617%5D%2C%20%5B17.713888%2C%2059.407851%5D%2C%20%5B17.703816%2C%2059.405044%5D%2C%20%5B17.70193%2C%2059.399038%5D%2C%20%5B17.713049%2C%2059.386027%5D%2C%20%5B17.723235%2C%2059.383454%5D%2C%20%5B17.731315%2C%2059.385966%5D%2C%20%5B17.730676%2C%2059.3927%5D%2C%20%5B17.734892%2C%2059.395637%5D%2C%20%5B17.762032%2C%2059.379915%5D%2C%20%5B17.764819%2C%2059.37515%5D%2C%20%5B17.775646%2C%2059.365837%5D%2C%20%5B17.780858%2C%2059.352613%5D%2C%20%5B17.778181%2C%2059.338898%5D%2C%20%5B17.776119%2C%2059.331207%5D%2C%20%5B17.786655%2C%2059.325938%5D%5D%5D%2C%20%5B%5B%5B18.312451%2C%2059.432833%5D%2C%20%5B18.313948%2C%2059.440195%5D%2C%20%5B18.323623%2C%2059.444634%5D%2C%20%5B18.332217%2C%2059.44542%5D%2C%20%5B18.344474%2C%2059.438375%5D%2C%20%5B18.358464%2C%2059.434977%5D%2C%20%5B18.359981%2C%2059.431238%5D%2C%20%5B18.336789%2C%2059.428493%5D%2C%20%5B18.317294%2C%2059.418254%5D%2C%20%5B18.305452%2C%2059.423268%5D%2C%20%5B18.312451%2C%2059.432833%5D%5D%5D%2C%20%5B%5B%5B18.851129%2C%2059.407148%5D%2C%20%5B18.853964%2C%2059.413792%5D%2C%20%5B18.851215%2C%2059.422614%5D%2C%20%5B18.850798%2C%2059.429352%5D%2C%20%5B18.858237%2C%2059.436193%5D%2C%20%5B18.873584%2C%2059.443451%5D%2C%20%5B18.891161%2C%2059.447618%5D%2C%20%5B18.904926%2C%2059.447875%5D%2C%20%5B18.919184%2C%2059.446764%5D%2C%20%5B18.922318%2C%2059.440949%5D%2C%20%5B18.922689%2C%2059.43387%5D%2C%20%5B18.91289%2C%2059.429128%5D%2C%20%5B18.903084%2C%2059.429091%5D%2C%20%5B18.900949%2C%2059.418066%5D%2C%20%5B18.884783%2C%2059.409484%5D%2C%20%5B18.869622%2C%2059.403553%5D%2C%20%5B18.864312%2C%2059.39801%5D%2C%20%5B18.859778%2C%2059.393427%5D%2C%20%5B18.845327%2C%2059.387818%5D%2C%20%5B18.835925%2C%2059.390795%5D%2C%20%5B18.840197%2C%2059.398393%5D%2C%20%5B18.851129%2C%2059.407148%5D%5D%5D%2C%20%5B%5B%5B18.578819%2C%2059.45616%5D%2C%20%5B18.573637%2C%2059.451267%5D%2C%20%5B18.57214%2C%2059.439201%5D%2C%20%5B18.560556%2C%2059.430114%5D%2C%20%5B18.544714%2C%2059.428876%5D%2C%20%5B18.543513%2C%2059.434964%5D%2C%20%5B18.54624%2C%2059.446654%5D%2C%20%5B18.539295%2C%2059.453913%5D%2C%20%5B18.526332%2C%2059.460327%5D%2C%20%5B18.523199%2C%2059.466795%5D%2C%20%5B18.525127%2C%2059.477165%5D%2C%20%5B18.522351%2C%2059.481282%5D%2C%20%5B18.513617%2C%2059.484876%5D%2C%20%5B18.519902%2C%2059.493448%5D%2C%20%5B18.53205%2C%2059.496465%5D%2C%20%5B18.54434%2C%2059.495121%5D%2C%20%5B18.546792%2C%2059.488334%5D%2C%20%5B18.559461%2C%2059.484951%5D%2C%20%5B18.570249%2C%2059.492716%5D%2C%20%5B18.575762%2C%2059.500288%5D%2C%20%5B18.568841%2C%2059.5025%5D%2C%20%5B18.552564%2C%2059.503292%5D%2C%20%5B18.552353%2C%2059.506997%5D%2C%20%5B18.562169%2C%2059.512098%5D%2C%20%5B18.561604%2C%2059.518173%5D%2C%20%5B18.568707%2C%2059.522675%5D%2C%20%5B18.584658%2C%2059.529621%5D%2C%20%5B18.590435%2C%2059.539207%5D%2C%20%5B18.634702%2C%2059.552062%5D%2C%20%5B18.644499%2C%2059.556834%5D%2C%20%5B18.660933%2C%2059.562414%5D%2C%20%5B18.672375%2C%2059.559388%5D%2C%20%5B18.661773%2C%2059.553315%5D%2C%20%5B18.662653%2C%2059.549919%5D%2C%20%5B18.676459%2C%2059.5502%5D%2C%20%5B18.676271%2C%2059.538429%5D%2C%20%5B18.687704%2C%2059.535412%5D%2C%20%5B18.688443%2C%2059.531021%5D%2C%20%5B18.67252%2C%2059.529467%5D%2C%20%5B18.662516%2C%2059.52303%5D%2C%20%5B18.646422%2C%2059.509711%5D%2C%20%5B18.636613%2C%2059.499568%5D%2C%20%5B18.620406%2C%2059.495661%5D%2C%20%5B18.608743%2C%2059.496666%5D%2C%20%5B18.599179%2C%2059.493574%5D%2C%20%5B18.592992%2C%2059.486018%5D%2C%20%5B18.599884%2C%2059.473045%5D%2C%20%5B18.598276%2C%2059.459985%5D%2C%20%5B18.591861%2C%2059.455784%5D%2C%20%5B18.578819%2C%2059.45616%5D%5D%5D%2C%20%5B%5B%5B18.972064%2C%2059.641328%5D%2C%20%5B18.970129%2C%2059.620786%5D%2C%20%5B18.913901%2C%2059.619438%5D%2C%20%5B18.90537%2C%2059.594597%5D%2C%20%5B18.857532%2C%2059.599277%5D%2C%20%5B18.772293%2C%2059.569008%5D%2C%20%5B18.754338%2C%2059.577462%5D%2C%20%5B18.807577%2C%2059.598636%5D%2C%20%5B18.856431%2C%2059.638718%5D%2C%20%5B18.91721%2C%2059.655182%5D%2C%20%5B18.972064%2C%2059.641328%5D%5D%5D%2C%20%5B%5B%5B18.06328%2C%2059.323173%5D%2C%20%5B18.067536%2C%2059.332483%5D%2C%20%5B18.045794%2C%2059.330317%5D%2C%20%5B18.028819%2C%2059.33006%5D%2C%20%5B18.0111%2C%2059.33486%5D%2C%20%5B17.993153%2C%2059.346046%5D%2C%20%5B17.988285%2C%2059.347169%5D%2C%20%5B17.983937%2C%2059.343237%5D%2C%20%5B17.9822%2C%2059.332858%5D%2C%20%5B17.975216%2C%2059.322271%5D%2C%20%5B17.960566%2C%2059.319264%5D%2C%20%5B17.948118%2C%2059.318544%5D%2C%20%5B17.931588%2C%2059.328674%5D%2C%20%5B17.912879%2C%2059.33046%5D%2C%20%5B17.902344%2C%2059.335748%5D%2C%20%5B17.894751%2C%2059.344319%5D%2C%20%5B17.856849%2C%2059.35628%5D%2C%20%5B17.830902%2C%2059.370316%5D%2C%20%5B17.79688%2C%2059.388995%5D%2C%20%5B17.786621%2C%2059.397187%5D%2C%20%5B17.776716%2C%2059.402779%5D%2C%20%5B17.773612%2C%2059.410907%5D%2C%20%5B17.775569%2C%2059.423977%5D%2C%20%5B17.795687%2C%2059.455117%5D%2C%20%5B17.799954%2C%2059.458383%5D%2C%20%5B17.803439%2C%2059.460655%5D%2C%20%5B17.806687%2C%2059.466963%5D%2C%20%5B17.79833%2C%2059.472756%5D%2C%20%5B17.782548%2C%2059.46751%5D%2C%20%5B17.772269%2C%2059.482516%5D%2C%20%5B17.759711%2C%2059.481456%5D%2C%20%5B17.750884%2C%2059.464842%5D%2C%20%5B17.752121%2C%2059.444316%5D%2C%20%5B17.739471%2C%2059.435525%5D%2C%20%5B17.72916%2C%2059.437087%5D%2C%20%5B17.729767%2C%2059.443121%5D%2C%20%5B17.716196%2C%2059.444766%5D%2C%20%5B17.699566%2C%2059.448483%5D%2C%20%5B17.697969%2C%2059.465664%5D%2C%20%5B17.688699%2C%2059.47123%5D%2C%20%5B17.68769%2C%2059.481004%5D%2C%20%5B17.669336%2C%2059.487445%5D%2C%20%5B17.646568%2C%2059.49565%5D%2C%20%5B17.625758%2C%2059.4971%5D%2C%20%5B17.611816%2C%2059.488324%5D%2C%20%5B17.61516%2C%2059.482208%5D%2C%20%5B17.621675%2C%2059.475007%5D%2C%20%5B17.617174%2C%2059.469053%5D%2C%20%5B17.600872%2C%2059.469395%5D%2C%20%5B17.595747%2C%2059.477564%5D%2C%20%5B17.596354%2C%2059.497712%5D%2C%20%5B17.588947%2C%2059.502572%5D%2C%20%5B17.576439%2C%2059.501817%5D%2C%20%5B17.570619%2C%2059.495557%5D%2C%20%5B17.57586%2C%2059.488734%5D%2C%20%5B17.567889%2C%2059.48754%5D%2C%20%5B17.531971%2C%2059.50945%5D%2C%20%5B17.527268%2C%2059.515258%5D%2C%20%5B17.531089%2C%2059.521224%5D%2C%20%5B17.54552%2C%2059.528323%5D%2C%20%5B17.560348%2C%2059.532731%5D%2C%20%5B17.571732%2C%2059.549295%5D%2C%20%5B17.568373%2C%2059.555419%5D%2C%20%5B17.566803%2C%2059.56194%5D%2C%20%5B17.572272%2C%2059.575828%5D%2C%20%5B17.534039%2C%2059.595093%5D%2C%20%5B17.531076%2C%2059.612622%5D%2C%20%5B17.54506%2C%2059.628804%5D%2C%20%5B17.560992%2C%2059.637211%5D%2C%20%5B17.575552%2C%2059.638263%5D%2C%20%5B17.590883%2C%2059.649817%5D%2C%20%5B17.582479%2C%2059.655929%5D%2C%20%5B17.611378%2C%2059.669109%5D%2C%20%5B17.639668%2C%2059.675908%5D%2C%20%5B17.635471%2C%2059.694983%5D%2C%20%5B17.664943%2C%2059.692181%5D%2C%20%5B17.69249%2C%2059.690917%5D%2C%20%5B17.705425%2C%2059.681913%5D%2C%20%5B17.730847%2C%2059.679352%5D%2C%20%5B17.736142%2C%2059.666462%5D%2C%20%5B17.755084%2C%2059.665033%5D%2C%20%5B17.768353%2C%2059.679201%5D%2C%20%5B17.791375%2C%2059.685409%5D%2C%20%5B17.813047%2C%2059.684935%5D%2C%20%5B17.823724%2C%2059.679986%5D%2C%20%5B17.843324%2C%2059.684927%5D%2C%20%5B17.838109%2C%2059.69176%5D%2C%20%5B17.917439%2C%2059.707092%5D%2C%20%5B17.937252%2C%2059.707643%5D%2C%20%5B17.954933%2C%2059.712607%5D%2C%20%5B17.987989%2C%2059.725944%5D%2C%20%5B18.009106%2C%2059.726121%5D%2C%20%5B18.036655%2C%2059.736889%5D%2C%20%5B18.046224%2C%2059.733969%5D%2C%20%5B18.067611%2C%2059.736476%5D%2C%20%5B18.089003%2C%2059.736124%5D%2C%20%5B18.139746%2C%2059.814136%5D%2C%20%5B18.297296%2C%2059.832933%5D%2C%20%5B18.373688%2C%2059.868859%5D%2C%20%5B18.402974%2C%2059.995796%5D%2C%20%5B18.441823%2C%2060.003674%5D%2C%20%5B18.381651%2C%2060.045272%5D%2C%20%5B18.462378%2C%2060.056678%5D%2C%20%5B18.488981%2C%2060.105569%5D%2C%20%5B18.510938%2C%2060.154819%5D%2C%20%5B18.610063%2C%2060.141523%5D%2C%20%5B18.675926%2C%2060.130825%5D%2C%20%5B18.708345%2C%2060.162836%5D%2C%20%5B18.721155%2C%2060.212805%5D%2C%20%5B18.799047%2C%2060.171928%5D%2C%20%5B18.781452%2C%2060.107765%5D%2C%20%5B18.81998%2C%2060.091902%5D%2C%20%5B18.859702%2C%2060.003048%5D%2C%20%5B18.928683%2C%2059.937247%5D%2C%20%5B19.021565%2C%2059.900412%5D%2C%20%5B19.084355%2C%2059.871483%5D%2C%20%5B19.041212%2C%2059.818581%5D%2C%20%5B18.969619%2C%2059.820898%5D%2C%20%5B18.969519%2C%2059.777155%5D%2C%20%5B19.068498%2C%2059.759795%5D%2C%20%5B19.075275%2C%2059.715475%5D%2C%20%5B19.014947%2C%2059.696824%5D%2C%20%5B18.859398%2C%2059.706079%5D%2C%20%5B18.741369%2C%2059.675656%5D%2C%20%5B18.724113%2C%2059.62242%5D%2C%20%5B18.667136%2C%2059.577313%5D%2C%20%5B18.629752%2C%2059.564985%5D%2C%20%5B18.608078%2C%2059.55955%5D%2C%20%5B18.577278%2C%2059.549339%5D%2C%20%5B18.545009%2C%2059.537795%5D%2C%20%5B18.536261%2C%2059.530649%5D%2C%20%5B18.517806%2C%2059.529821%5D%2C%20%5B18.476439%2C%2059.507761%5D%2C%20%5B18.466927%2C%2059.505001%5D%2C%20%5B18.453728%2C%2059.493252%5D%2C%20%5B18.436535%2C%2059.486334%5D%2C%20%5B18.41661%2C%2059.484174%5D%2C%20%5B18.410274%2C%2059.480313%5D%2C%20%5B18.410849%2C%2059.474257%5D%2C%20%5B18.389919%2C%2059.457663%5D%2C%20%5B18.375981%2C%2059.456016%5D%2C%20%5B18.363784%2C%2059.458034%5D%2C%20%5B18.347309%2C%2059.457125%5D%2C%20%5B18.341511%2C%2059.463327%5D%2C%20%5B18.328444%2C%2059.463669%5D%2C%20%5B18.316411%2C%2059.461297%5D%2C%20%5B18.30888%2C%2059.464189%5D%2C%20%5B18.299687%2C%2059.469466%5D%2C%20%5B18.285248%2C%2059.469175%5D%2C%20%5B18.277332%2C%2059.462994%5D%2C%20%5B18.289384%2C%2059.459649%5D%2C%20%5B18.302238%2C%2059.457635%5D%2C%20%5B18.307409%2C%2059.451447%5D%2C%20%5B18.300644%2C%2059.443898%5D%2C%20%5B18.290971%2C%2059.43944%5D%2C%20%5B18.269098%2C%2059.436648%5D%2C%20%5B18.252583%2C%2059.441108%5D%2C%20%5B18.235486%2C%2059.440206%5D%2C%20%5B18.228678%2C%2059.435007%5D%2C%20%5B18.234342%2C%2059.430151%5D%2C%20%5B18.245385%2C%2059.429532%5D%2C%20%5B18.263128%2C%2059.430421%5D%2C%20%5B18.271573%2C%2059.424146%5D%2C%20%5B18.285444%2C%2059.41404%5D%2C%20%5B18.280962%2C%2059.409114%5D%2C%20%5B18.268851%2C%2059.406075%5D%2C%20%5B18.272344%2C%2059.402282%5D%2C%20%5B18.294603%2C%2059.402712%5D%2C%20%5B18.302561%2C%2059.398133%5D%2C%20%5B18.294075%2C%2059.392637%5D%2C%20%5B18.271564%2C%2059.389859%5D%2C%20%5B18.214588%2C%2059.388301%5D%2C%20%5B18.200684%2C%2059.392355%5D%2C%20%5B18.185124%2C%2059.393421%5D%2C%20%5B18.163352%2C%2059.397337%5D%2C%20%5B18.165165%2C%2059.407703%5D%2C%20%5B18.168427%2C%2059.41939%5D%2C%20%5B18.175035%2C%2059.425942%5D%2C%20%5B18.194913%2C%2059.422419%5D%2C%20%5B18.202912%2C%2059.423898%5D%2C%20%5B18.203025%2C%2059.433469%5D%2C%20%5B18.202744%2C%2059.439706%5D%2C%20%5B18.197178%2C%2059.442529%5D%2C%20%5B18.172905%2C%2059.436084%5D%2C%20%5B18.161167%2C%2059.436377%5D%2C%20%5B18.157147%2C%2059.441191%5D%2C%20%5B18.15369%2C%2059.451355%5D%2C%20%5B18.142053%2C%2059.448843%5D%2C%20%5B18.109527%2C%2059.436319%5D%2C%20%5B18.116217%2C%2059.431783%5D%2C%20%5B18.101139%2C%2059.42544%5D%2C%20%5B18.096731%2C%2059.41915%5D%2C%20%5B18.09564%2C%2059.405071%5D%2C%20%5B18.087816%2C%2059.393238%5D%2C%20%5B18.060215%2C%2059.377949%5D%2C%20%5B18.097385%2C%2059.355282%5D%2C%20%5B18.124142%2C%2059.343522%5D%2C%20%5B18.137335%2C%2059.333112%5D%2C%20%5B18.137244%2C%2059.326396%5D%2C%20%5B18.124358%2C%2059.321678%5D%2C%20%5B18.108299%2C%2059.32375%5D%2C%20%5B18.091086%2C%2059.333258%5D%2C%20%5B18.068623%2C%2059.332698%5D%2C%20%5B18.077417%2C%2059.327534%5D%2C%20%5B18.06328%2C%2059.323173%5D%5D%5D%5D%2C%20%22type%22%3A%20%22MultiPolygon%22%7D%2C%20%22id%22%3A%20%220%22%2C%20%22properties%22%3A%20%7B%22Frequency%22%3A%20502%2C%20%22cartodb_id%22%3A%201%2C%20%22created_at%22%3A%20%222014-09-16T07%3A35%3A21%2B00%3A00%22%2C%20%22name%22%3A%20%22Stockholm%22%2C%20%22poly_name%22%3A%20%22Stockholm%22%2C%20%22updated_at%22%3A%20%222014-09-16T07%3A35%3A21%2B00%3A00%22%7D%2C%20%22type%22%3A%20%22Feature%22%7D%2C%20%7B%22bbox%22%3A%20%5B15.401702%2C%2059.285219%2C%2016.904703%2C%2060.199881%5D%2C%20%22geometry%22%3A%20%7B%22coordinates%22%3A%20%5B%5B%5B%5B15.534653%2C%2059.708315%5D%2C%20%5B15.481595%2C%2059.795765%5D%2C%20%5B15.407201%2C%2059.816187%5D%2C%20%5B15.401702%2C%2059.86114%5D%2C%20%5B15.481482%2C%2059.906177%5D%2C%20%5B15.530114%2C%2059.96139%5D%2C%20%5B15.608909%2C%2059.958767%5D%2C%20%5B15.67789%2C%2059.945182%5D%2C%20%5B15.709452%2C%2060.018217%5D%2C%20%5B15.662605%2C%2060.049858%5D%2C%20%5B15.71848%2C%2060.1028%5D%2C%20%5B15.715352%2C%2060.135576%5D%2C%20%5B15.754954%2C%2060.149599%5D%2C%20%5B15.779051%2C%2060.182169%5D%2C%20%5B15.893911%2C%2060.168725%5D%2C%20%5B15.966668%2C%2060.198868%5D%2C%20%5B16.019263%2C%2060.190922%5D%2C%20%5B16.052881%2C%2060.150286%5D%2C%20%5B16.10659%2C%2060.14707%5D%2C%20%5B16.170559%2C%2060.126903%5D%2C%20%5B16.153167%2C%2060.086272%5D%2C%20%5B16.191697%2C%2060.076077%5D%2C%20%5B16.377732%2C%2060.08517%5D%2C%20%5B16.420431%2C%2060.124212%5D%2C%20%5B16.515507%2C%2060.154497%5D%2C%20%5B16.516243%2C%2060.185271%5D%2C%20%5B16.5701%2C%2060.196362%5D%2C%20%5B16.720361%2C%2060.199881%5D%2C%20%5B16.735034%2C%2060.118663%5D%2C%20%5B16.692888%2C%2060.110514%5D%2C%20%5B16.721706%2C%2060.041525%5D%2C%20%5B16.691831%2C%2060.010815%5D%2C%20%5B16.789547%2C%2059.969982%5D%2C%20%5B16.79845%2C%2059.922215%5D%2C%20%5B16.77806%2C%2059.899971%5D%2C%20%5B16.831155%2C%2059.860189%5D%2C%20%5B16.79965%2C%2059.818725%5D%2C%20%5B16.744107%2C%2059.781261%5D%2C%20%5B16.794534%2C%2059.731978%5D%2C%20%5B16.868926%2C%2059.674413%5D%2C%20%5B16.904703%2C%2059.567374%5D%2C%20%5B16.820251%2C%2059.572426%5D%2C%20%5B16.792578%2C%2059.548867%5D%2C%20%5B16.713236%2C%2059.532349%5D%2C%20%5B16.655816%2C%2059.572393%5D%2C%20%5B16.58404%2C%2059.598827%5D%2C%20%5B16.515234%2C%2059.581506%5D%2C%20%5B16.550512%2C%2059.55202%5D%2C%20%5B16.484775%2C%2059.518176%5D%2C%20%5B16.445956%2C%2059.491649%5D%2C%20%5B16.324828%2C%2059.47758%5D%2C%20%5B16.240879%2C%2059.498236%5D%2C%20%5B16.1753%2C%2059.477846%5D%2C%20%5B16.058245%2C%2059.479587%5D%2C%20%5B16.086893%2C%2059.436163%5D%2C%20%5B16.230719%2C%2059.442687%5D%2C%20%5B16.223928%2C%2059.415025%5D%2C%20%5B16.272445%2C%2059.395678%5D%2C%20%5B16.259268%2C%2059.37112%5D%2C%20%5B16.135169%2C%2059.357093%5D%2C%20%5B16.051708%2C%2059.364027%5D%2C%20%5B15.997484%2C%2059.374585%5D%2C%20%5B15.926026%2C%2059.342651%5D%2C%20%5B15.854282%2C%2059.299654%5D%2C%20%5B15.7957%2C%2059.285219%5D%2C%20%5B15.757756%2C%2059.320058%5D%2C%20%5B15.616753%2C%2059.322846%5D%2C%20%5B15.641542%2C%2059.354002%5D%2C%20%5B15.579321%2C%2059.428799%5D%2C%20%5B15.707383%2C%2059.424426%5D%2C%20%5B15.705742%2C%2059.478839%5D%2C%20%5B15.673484%2C%2059.493379%5D%2C%20%5B15.709248%2C%2059.529935%5D%2C%20%5B15.613282%2C%2059.525825%5D%2C%20%5B15.610412%2C%2059.591168%5D%2C%20%5B15.598662%2C%2059.633482%5D%2C%20%5B15.533532%2C%2059.629934%5D%2C%20%5B15.489794%2C%2059.657742%5D%2C%20%5B15.534653%2C%2059.708315%5D%5D%5D%5D%2C%20%22type%22%3A%20%22MultiPolygon%22%7D%2C%20%22id%22%3A%20%221%22%2C%20%22properties%22%3A%20%7B%22Frequency%22%3A%2017%2C%20%22cartodb_id%22%3A%2015%2C%20%22created_at%22%3A%20%222014-09-16T07%3A35%3A21%2B00%3A00%22%2C%20%22name%22%3A%20%22V%5Cu00e4stmanland%22%2C%20%22poly_name%22%3A%20%22V%5Cu00e4stmanland%22%2C%20%22updated_at%22%3A%20%222014-09-16T07%3A35%3A21%2B00%3A00%22%7D%2C%20%22type%22%3A%20%22Feature%22%7D%2C%20%7B%22bbox%22%3A%20%5B11.696134%2C%2058.897811%2C%2014.463339%2C%2061.058109%5D%2C%20%22geometry%22%3A%20%7B%22coordinates%22%3A%20%5B%5B%5B%5B13.100279%2C%2059.250401%5D%2C%20%5B13.165903%2C%2059.17391%5D%2C%20%5B13.223856%2C%2059.072411%5D%2C%20%5B13.259445%2C%2058.919466%5D%2C%20%5B13.214266%2C%2058.897811%5D%2C%20%5B13.107242%2C%2058.927272%5D%2C%20%5B13.07675%2C%2059.025836%5D%2C%20%5B13.02433%2C%2059.02605%5D%2C%20%5B12.995154%2C%2059.065022%5D%2C%20%5B12.906321%2C%2059.055735%5D%2C%20%5B12.898145%2C%2059.095703%5D%2C%20%5B12.772443%2C%2059.070446%5D%2C%20%5B12.766164%2C%2059.152815%5D%2C%20%5B12.710107%2C%2059.178242%5D%2C%20%5B12.638742%2C%2059.195179%5D%2C%20%5B12.574241%2C%2059.134316%5D%2C%20%5B12.464286%2C%2059.144925%5D%2C%20%5B12.421316%2C%2059.19716%5D%2C%20%5B12.346281%2C%2059.187016%5D%2C%20%5B12.267497%2C%2059.20217%5D%2C%20%5B12.230906%2C%2059.273605%5D%2C%20%5B12.061838%2C%2059.271632%5D%2C%20%5B12.084338%2C%2059.197095%5D%2C%20%5B11.948192%2C%2059.262415%5D%2C%20%5B11.820183%2C%2059.235573%5D%2C%20%5B11.816902%2C%2059.343649%5D%2C%20%5B11.779473%2C%2059.386129%5D%2C%20%5B11.745303%2C%2059.489708%5D%2C%20%5B11.696134%2C%2059.588281%5D%2C%20%5B11.744468%2C%2059.639175%5D%2C%20%5B11.856385%2C%2059.654057%5D%2C%20%5B11.885405%2C%2059.689248%5D%2C%20%5B11.941949%2C%2059.725443%5D%2C%20%5B11.932417%2C%2059.785153%5D%2C%20%5B11.864665%2C%2059.846509%5D%2C%20%5B11.971592%2C%2059.902875%5D%2C%20%5B12.055739%2C%2059.887814%5D%2C%20%5B12.160815%2C%2059.897271%5D%2C%20%5B12.222985%2C%2059.935006%5D%2C%20%5B12.34922%2C%2059.967109%5D%2C%20%5B12.380461%2C%2060.012959%5D%2C%20%5B12.447545%2C%2060.039019%5D%2C%20%5B12.506083%2C%2060.133227%5D%2C%20%5B12.541099%2C%2060.18615%5D%2C%20%5B12.49888%2C%2060.32626%5D%2C%20%5B12.609446%2C%2060.414559%5D%2C%20%5B12.602919%2C%2060.522898%5D%2C%20%5B12.50815%2C%2060.603461%5D%2C%20%5B12.511253%2C%2060.652016%5D%2C%20%5B12.391956%2C%2060.74586%5D%2C%20%5B12.33584%2C%2060.848471%5D%2C%20%5B12.341859%2C%2060.893326%5D%2C%20%5B12.232791%2C%2061.019088%5D%2C%20%5B12.48608%2C%2061.052799%5D%2C%20%5B12.615224%2C%2061.046888%5D%2C%20%5B12.67632%2C%2061.058109%5D%2C%20%5B12.702387%2C%2061.007994%5D%2C%20%5B13.175439%2C%2060.766119%5D%2C%20%5B13.204982%2C%2060.69829%5D%2C%20%5B13.260102%2C%2060.698038%5D%2C%20%5B13.305194%2C%2060.636806%5D%2C%20%5B13.437233%2C%2060.527082%5D%2C%20%5B13.496855%2C%2060.447148%5D%2C%20%5B13.567866%2C%2060.421451%5D%2C%20%5B13.692454%2C%2060.41757%5D%2C%20%5B13.848025%2C%2060.268447%5D%2C%20%5B13.967804%2C%2060.188652%5D%2C%20%5B13.949398%2C%2060.266798%5D%2C%20%5B14.018711%2C%2060.268288%5D%2C%20%5B14.038642%2C%2060.238516%5D%2C%20%5B14.137722%2C%2060.244332%5D%2C%20%5B14.186498%2C%2060.175911%5D%2C%20%5B14.215313%2C%2060.098742%5D%2C%20%5B14.438386%2C%2060.025714%5D%2C%20%5B14.462839%2C%2059.978774%5D%2C%20%5B14.343046%2C%2059.955533%5D%2C%20%5B14.375701%2C%2059.919678%5D%2C%20%5B14.431005%2C%2059.908021%5D%2C%20%5B14.415991%2C%2059.831038%5D%2C%20%5B14.437498%2C%2059.775802%5D%2C%20%5B14.384006%2C%2059.758474%5D%2C%20%5B14.438439%2C%2059.707092%5D%2C%20%5B14.42087%2C%2059.671788%5D%2C%20%5B14.459988%2C%2059.591606%5D%2C%20%5B14.463339%2C%2059.532416%5D%2C%20%5B14.417155%2C%2059.541872%5D%2C%20%5B14.397898%2C%2059.515694%5D%2C%20%5B14.462847%2C%2059.447502%5D%2C%20%5B14.375271%2C%2059.397526%5D%2C%20%5B14.318646%2C%2059.322986%5D%2C%20%5B14.319132%2C%2059.312658%5D%2C%20%5B14.283942%2C%2059.23205%5D%2C%20%5B14.299317%2C%2059.182535%5D%2C%20%5B14.280654%2C%2059.15813%5D%2C%20%5B14.329118%2C%2059.097997%5D%2C%20%5B14.267813%2C%2058.999752%5D%2C%20%5B14.21002%2C%2059.042257%5D%2C%20%5B14.116709%2C%2059.041012%5D%2C%20%5B14.147732%2C%2059.084914%5D%2C%20%5B14.095629%2C%2059.107214%5D%2C%20%5B14.023722%2C%2059.078008%5D%2C%20%5B13.981626%2C%2059.03839%5D%2C%20%5B13.947853%2C%2059.045336%5D%2C%20%5B13.946891%2C%2059.099556%5D%2C%20%5B14.003327%2C%2059.160206%5D%2C%20%5B14.068541%2C%2059.229468%5D%2C%20%5B14.032265%2C%2059.321422%5D%2C%20%5B13.946915%2C%2059.31806%5D%2C%20%5B13.886883%2C%2059.338182%5D%2C%20%5B13.814243%2C%2059.367262%5D%2C%20%5B13.745212%2C%2059.335964%5D%2C%20%5B13.692335%2C%2059.377949%5D%2C%20%5B13.604938%2C%2059.355787%5D%2C%20%5B13.578262%2C%2059.308783%5D%2C%20%5B13.504902%2C%2059.27033%5D%2C%20%5B13.43751%2C%2059.339867%5D%2C%20%5B13.380725%2C%2059.374654%5D%2C%20%5B13.283936%2C%2059.365894%5D%2C%20%5B13.255685%2C%2059.343565%5D%2C%20%5B13.282733%2C%2059.313629%5D%2C%20%5B13.222018%2C%2059.308811%5D%2C%20%5B13.183029%2C%2059.330169%5D%2C%20%5B13.148929%2C%2059.353144%5D%2C%20%5B13.153958%2C%2059.27899%5D%2C%20%5B13.100279%2C%2059.250401%5D%5D%5D%5D%2C%20%22type%22%3A%20%22MultiPolygon%22%7D%2C%20%22id%22%3A%20%222%22%2C%20%22properties%22%3A%20%7B%22Frequency%22%3A%2020%2C%20%22cartodb_id%22%3A%2013%2C%20%22created_at%22%3A%20%222014-09-16T07%3A35%3A21%2B00%3A00%22%2C%20%22name%22%3A%20%22V%5Cu00e4rmland%22%2C%20%22poly_name%22%3A%20%22V%5Cu00e4rmland%22%2C%20%22updated_at%22%3A%20%222014-09-16T07%3A35%3A21%2B00%3A00%22%7D%2C%20%22type%22%3A%20%22Feature%22%7D%2C%20%7B%22bbox%22%3A%20%5B14.267813%2C%2058.696942%2C%2015.77157%2C%2060.122621%5D%2C%20%22geometry%22%3A%20%7B%22coordinates%22%3A%20%5B%5B%5B%5B15.579321%2C%2059.428799%5D%2C%20%5B15.641542%2C%2059.354002%5D%2C%20%5B15.616753%2C%2059.322846%5D%2C%20%5B15.550725%2C%2059.328461%5D%2C%20%5B15.422014%2C%2059.306789%5D%2C%20%5B15.281043%2C%2059.309215%5D%2C%20%5B15.286069%2C%2059.283606%5D%2C%20%5B15.428008%2C%2059.253979%5D%2C%20%5B15.560813%2C%2059.278992%5D%2C%20%5B15.64098%2C%2059.227296%5D%2C%20%5B15.60194%2C%2059.195158%5D%2C%20%5B15.652999%2C%2059.155982%5D%2C%20%5B15.76967%2C%2059.150025%5D%2C%20%5B15.77157%2C%2059.120034%5D%2C%20%5B15.67838%2C%2059.112848%5D%2C%20%5B15.626191%2C%2059.068818%5D%2C%20%5B15.60572%2C%2059.024738%5D%2C%20%5B15.632189%2C%2059.003186%5D%2C%20%5B15.530518%2C%2058.944605%5D%2C%20%5B15.566239%2C%2058.911155%5D%2C%20%5B15.523369%2C%2058.875627%5D%2C%20%5B15.439796%2C%2058.876808%5D%2C%20%5B15.419244%2C%2058.83091%5D%2C%20%5B15.387174%2C%2058.859897%5D%2C%20%5B15.339033%2C%2058.847226%5D%2C%20%5B15.247245%2C%2058.874997%5D%2C%20%5B15.186749%2C%2058.836737%5D%2C%20%5B15.134257%2C%2058.83599%5D%2C%20%5B15.085787%2C%2058.80428%5D%2C%20%5B15.049677%2C%2058.764626%5D%2C%20%5B15.028138%2C%2058.727797%5D%2C%20%5B14.939411%2C%2058.699058%5D%2C%20%5B14.979515%2C%2058.744911%5D%2C%20%5B14.972726%2C%2058.779629%5D%2C%20%5B14.940255%2C%2058.774136%5D%2C%20%5B14.937056%2C%2058.82676%5D%2C%20%5B14.873363%2C%2058.804814%5D%2C%20%5B14.817254%2C%2058.733623%5D%2C%20%5B14.721309%2C%2058.701787%5D%2C%20%5B14.684126%2C%2058.745955%5D%2C%20%5B14.624916%2C%2058.745372%5D%2C%20%5B14.596271%2C%2058.705252%5D%2C%20%5B14.546088%2C%2058.696942%5D%2C%20%5B14.537479%2C%2058.724502%5D%2C%20%5B14.467983%2C%2058.724364%5D%2C%20%5B14.457483%2C%2058.797169%5D%2C%20%5B14.402287%2C%2058.799166%5D%2C%20%5B14.326612%2C%2058.834155%5D%2C%20%5B14.370254%2C%2058.87013%5D%2C%20%5B14.308242%2C%2058.893022%5D%2C%20%5B14.267813%2C%2058.999752%5D%2C%20%5B14.329118%2C%2059.097997%5D%2C%20%5B14.280654%2C%2059.15813%5D%2C%20%5B14.299317%2C%2059.182535%5D%2C%20%5B14.283942%2C%2059.23205%5D%2C%20%5B14.319132%2C%2059.312658%5D%2C%20%5B14.318646%2C%2059.322986%5D%2C%20%5B14.375271%2C%2059.397526%5D%2C%20%5B14.462847%2C%2059.447502%5D%2C%20%5B14.397898%2C%2059.515694%5D%2C%20%5B14.417155%2C%2059.541872%5D%2C%20%5B14.463339%2C%2059.532416%5D%2C%20%5B14.459988%2C%2059.591606%5D%2C%20%5B14.42087%2C%2059.671788%5D%2C%20%5B14.438439%2C%2059.707092%5D%2C%20%5B14.384006%2C%2059.758474%5D%2C%20%5B14.437498%2C%2059.775802%5D%2C%20%5B14.415991%2C%2059.831038%5D%2C%20%5B14.431005%2C%2059.908021%5D%2C%20%5B14.375701%2C%2059.919678%5D%2C%20%5B14.343046%2C%2059.955533%5D%2C%20%5B14.462839%2C%2059.978774%5D%2C%20%5B14.438386%2C%2060.025714%5D%2C%20%5B14.745337%2C%2060.002925%5D%2C%20%5B14.717224%2C%2060.094704%5D%2C%20%5B14.791183%2C%2060.11995%5D%2C%20%5B14.846076%2C%2060.122621%5D%2C%20%5B14.852924%2C%2060.086111%5D%2C%20%5B14.923553%2C%2060.060822%5D%2C%20%5B14.993258%2C%2060.08256%5D%2C%20%5B15.018435%2C%2060.064976%5D%2C%20%5B15.066472%2C%2060.069705%5D%2C%20%5B15.12429%2C%2060.025065%5D%2C%20%5B15.21681%2C%2059.991204%5D%2C%20%5B15.324547%2C%2059.929304%5D%2C%20%5B15.401702%2C%2059.86114%5D%2C%20%5B15.407201%2C%2059.816187%5D%2C%20%5B15.481595%2C%2059.795765%5D%2C%20%5B15.534653%2C%2059.708315%5D%2C%20%5B15.489794%2C%2059.657742%5D%2C%20%5B15.533532%2C%2059.629934%5D%2C%20%5B15.598662%2C%2059.633482%5D%2C%20%5B15.610412%2C%2059.591168%5D%2C%20%5B15.613282%2C%2059.525825%5D%2C%20%5B15.709248%2C%2059.529935%5D%2C%20%5B15.673484%2C%2059.493379%5D%2C%20%5B15.705742%2C%2059.478839%5D%2C%20%5B15.707383%2C%2059.424426%5D%2C%20%5B15.579321%2C%2059.428799%5D%5D%5D%5D%2C%20%22type%22%3A%20%22MultiPolygon%22%7D%2C%20%22id%22%3A%20%223%22%2C%20%22properties%22%3A%20%7B%22Frequency%22%3A%2018%2C%20%22cartodb_id%22%3A%2014%2C%20%22created_at%22%3A%20%222014-09-16T07%3A35%3A21%2B00%3A00%22%2C%20%22name%22%3A%20%22%5Cu00d6rebro%22%2C%20%22poly_name%22%3A%20%22%5Cu00d6rebro%22%2C%20%22updated_at%22%3A%20%222014-09-16T07%3A35%3A21%2B00%3A00%22%7D%2C%20%22type%22%3A%20%22Feature%22%7D%2C%20%7B%22bbox%22%3A%20%5B11.962305%2C%2061.586199%2C%2017.011966%2C%2065.131043%5D%2C%20%22geometry%22%3A%20%7B%22coordinates%22%3A%20%5B%5B%5B%5B16.472705%2C%2062.821948%5D%2C%20%5B16.397626%2C%2062.77552%5D%2C%20%5B16.368134%2C%2062.707739%5D%2C%20%5B16.252958%2C%2062.723953%5D%2C%20%5B16.128164%2C%2062.70015%5D%2C%20%5B15.963469%2C%2062.718241%5D%2C%20%5B15.595481%2C%2062.634596%5D%2C%20%5B15.256146%2C%2062.611961%5D%2C%20%5B15.141298%2C%2062.574191%5D%2C%20%5B15.077826%2C%2062.604382%5D%2C%20%5B14.916465%2C%2062.613257%5D%2C%20%5B14.794852%2C%2062.601458%5D%2C%20%5B14.801025%2C%2062.541527%5D%2C%20%5B14.835259%2C%2062.46766%5D%2C%20%5B14.780401%2C%2062.466586%5D%2C%20%5B14.805508%2C%2062.416016%5D%2C%20%5B14.868697%2C%2062.408254%5D%2C%20%5B14.947128%2C%2062.325005%5D%2C%20%5B15.159058%2C%2062.26774%5D%2C%20%5B15.273172%2C%2062.307283%5D%2C%20%5B15.324458%2C%2062.289022%5D%2C%20%5B15.334493%2C%2062.222802%5D%2C%20%5B15.395662%2C%2062.203418%5D%2C%20%5B15.412374%2C%2062.128381%5D%2C%20%5B15.083342%2C%2062.007467%5D%2C%20%5B15.111489%2C%2061.962674%5D%2C%20%5B15.102949%2C%2061.908844%5D%2C%20%5B15.103666%2C%2061.861808%5D%2C%20%5B15.040013%2C%2061.884827%5D%2C%20%5B14.895676%2C%2061.890023%5D%2C%20%5B14.872821%2C%2061.838701%5D%2C%20%5B14.798338%2C%2061.900077%5D%2C%20%5B14.72885%2C%2061.879853%5D%2C%20%5B14.689947%2C%2061.912379%5D%2C%20%5B14.526671%2C%2061.791608%5D%2C%20%5B14.500716%2C%2061.630198%5D%2C%20%5B14.41477%2C%2061.586199%5D%2C%20%5B14.356786%2C%2061.613177%5D%2C%20%5B14.201418%2C%2061.632642%5D%2C%20%5B13.983116%2C%2061.634682%5D%2C%20%5B13.89015%2C%2061.651166%5D%2C%20%5B13.613103%2C%2061.671244%5D%2C%20%5B13.56471%2C%2061.655073%5D%2C%20%5B13.506641%2C%2061.691581%5D%2C%20%5B13.514506%2C%2061.736383%5D%2C%20%5B13.416074%2C%2061.82666%5D%2C%20%5B13.20924%2C%2061.935186%5D%2C%20%5B13.371377%2C%2062.010471%5D%2C%20%5B13.322772%2C%2062.017658%5D%2C%20%5B13.295778%2C%2062.061914%5D%2C%20%5B13.159416%2C%2062.027092%5D%2C%20%5B13.038443%2C%2062.08537%5D%2C%20%5B12.940514%2C%2062.146344%5D%2C%20%5B12.795656%2C%2062.23038%5D%2C%20%5B12.616807%2C%2062.221612%5D%2C%20%5B12.302202%2C%2062.261592%5D%2C%20%5B12.050883%2C%2062.616022%5D%2C%20%5B12.130183%2C%2062.751334%5D%2C%20%5B12.074434%2C%2062.903435%5D%2C%20%5B12.1962%2C%2062.995639%5D%2C%20%5B11.962305%2C%2063.26815%5D%2C%20%5B12.198054%2C%2063.470903%5D%2C%20%5B12.133106%2C%2063.584238%5D%2C%20%5B12.273086%2C%2063.659766%5D%2C%20%5B12.297209%2C%2063.714934%5D%2C%20%5B12.363616%2C%2063.752757%5D%2C%20%5B12.657924%2C%2063.971397%5D%2C%20%5B12.871677%2C%2064.049722%5D%2C%20%5B13.179891%2C%2064.095894%5D%2C%20%5B13.281162%2C%2064.086548%5D%2C%20%5B13.70626%2C%2064.048973%5D%2C%20%5B13.962507%2C%2064.014205%5D%2C%20%5B14.162523%2C%2064.201395%5D%2C%20%5B14.130003%2C%2064.406%5D%2C%20%5B14.123828%2C%2064.468206%5D%2C%20%5B14.078629%2C%2064.491602%5D%2C%20%5B13.915959%2C%2064.513937%5D%2C%20%5B13.663074%2C%2064.589792%5D%2C%20%5B14.210872%2C%2065.062247%5D%2C%20%5B14.330409%2C%2065.131043%5D%2C%20%5B14.620805%2C%2065.024379%5D%2C%20%5B14.674495%2C%2065.016749%5D%2C%20%5B14.720448%2C%2064.988942%5D%2C%20%5B14.791616%2C%2064.954046%5D%2C%20%5B14.786702%2C%2064.91632%5D%2C%20%5B14.865919%2C%2064.875005%5D%2C%20%5B14.950443%2C%2064.873165%5D%2C%20%5B15.031683%2C%2064.824446%5D%2C%20%5B15.046683%2C%2064.765941%5D%2C%20%5B15.231793%2C%2064.728705%5D%2C%20%5B15.332943%2C%2064.66257%5D%2C%20%5B15.264455%2C%2064.642234%5D%2C%20%5B15.335205%2C%2064.622689%5D%2C%20%5B15.361526%2C%2064.594345%5D%2C%20%5B15.422533%2C%2064.602329%5D%2C%20%5B15.424268%2C%2064.576922%5D%2C%20%5B15.542991%2C%2064.533292%5D%2C%20%5B15.573138%2C%2064.457665%5D%2C%20%5B15.639758%2C%2064.456239%5D%2C%20%5B15.626895%2C%2064.532844%5D%2C%20%5B15.703184%2C%2064.550821%5D%2C%20%5B15.749737%2C%2064.490632%5D%2C%20%5B15.757897%2C%2064.428699%5D%2C%20%5B16.028569%2C%2064.3498%5D%2C%20%5B16.033083%2C%2064.277145%5D%2C%20%5B16.205936%2C%2064.284373%5D%2C%20%5B16.724291%2C%2064.026835%5D%2C%20%5B16.587966%2C%2063.893795%5D%2C%20%5B16.574807%2C%2063.822034%5D%2C%20%5B16.613574%2C%2063.718331%5D%2C%20%5B16.371423%2C%2063.672135%5D%2C%20%5B16.302706%2C%2063.688617%5D%2C%20%5B16.251437%2C%2063.666061%5D%2C%20%5B16.097767%2C%2063.699727%5D%2C%20%5B15.988516%2C%2063.658453%5D%2C%20%5B15.878331%2C%2063.68775%5D%2C%20%5B15.797167%2C%2063.673845%5D%2C%20%5B15.991134%2C%2063.564156%5D%2C%20%5B15.972622%2C%2063.516247%5D%2C%20%5B15.983423%2C%2063.446879%5D%2C%20%5B16.05556%2C%2063.459322%5D%2C%20%5B16.135344%2C%2063.440536%5D%2C%20%5B16.126467%2C%2063.379445%5D%2C%20%5B16.602047%2C%2063.184227%5D%2C%20%5B17.011966%2C%2062.954213%5D%2C%20%5B16.660556%2C%2062.932433%5D%2C%20%5B16.472705%2C%2062.821948%5D%5D%2C%20%5B%5B14.591905%2C%2063.219426%5D%2C%20%5B14.478459%2C%2063.249619%5D%2C%20%5B14.412261%2C%2063.239798%5D%2C%20%5B14.308383%2C%2063.278458%5D%2C%20%5B14.173006%2C%2063.302077%5D%2C%20%5B14.00628%2C%2063.323769%5D%2C%20%5B14.149049%2C%2063.205559%5D%2C%20%5B14.048493%2C%2063.202377%5D%2C%20%5B14.129802%2C%2063.170237%5D%2C%20%5B14.249512%2C%2063.150898%5D%2C%20%5B14.346283%2C%2063.11799%5D%2C%20%5B14.369153%2C%2063.069463%5D%2C%20%5B14.422848%2C%2062.99194%5D%2C%20%5B14.423634%2C%2062.921472%5D%2C%20%5B14.35856%2C%2062.913408%5D%2C%20%5B14.417869%2C%2062.838646%5D%2C%20%5B14.48128%2C%2062.821445%5D%2C%20%5B14.525677%2C%2062.898988%5D%2C%20%5B14.48793%2C%2063.005385%5D%2C%20%5B14.457057%2C%2063.077156%5D%2C%20%5B14.441772%2C%2063.135595%5D%2C%20%5B14.516426%2C%2063.148648%5D%2C%20%5B14.575319%2C%2063.162352%5D%2C%20%5B14.525863%2C%2063.173525%5D%2C%20%5B14.45926%2C%2063.19806%5D%2C%20%5B14.473024%2C%2063.22457%5D%2C%20%5B14.591905%2C%2063.219426%5D%5D%5D%5D%2C%20%22type%22%3A%20%22MultiPolygon%22%7D%2C%20%22id%22%3A%20%224%22%2C%20%22properties%22%3A%20%7B%22Frequency%22%3A%202%2C%20%22cartodb_id%22%3A%2019%2C%20%22created_at%22%3A%20%222014-09-16T07%3A35%3A21%2B00%3A00%22%2C%20%22name%22%3A%20%22J%5Cu00e4mtland%22%2C%20%22poly_name%22%3A%20%22J%5Cu00e4mtland%22%2C%20%22updated_at%22%3A%20%222014-09-16T07%3A35%3A21%2B00%3A00%22%7D%2C%20%22type%22%3A%20%22Feature%22%7D%2C%20%7B%22bbox%22%3A%20%5B14.389346%2C%2055.999622%2C%2016.051779%2C%2056.515332%5D%2C%20%22geometry%22%3A%20%7B%22coordinates%22%3A%20%5B%5B%5B%5B14.571692%2C%2056.199631%5D%2C%20%5B14.549294%2C%2056.22433%5D%2C%20%5B14.493297%2C%2056.218306%5D%2C%20%5B14.440534%2C%2056.230139%5D%2C%20%5B14.432274%2C%2056.273924%5D%2C%20%5B14.410644%2C%2056.306663%5D%2C%20%5B14.389346%2C%2056.34119%5D%2C%20%5B14.411509%2C%2056.392395%5D%2C%20%5B14.468415%2C%2056.40204%5D%2C%20%5B14.524113%2C%2056.458071%5D%2C%20%5B14.596628%2C%2056.451776%5D%2C%20%5B14.668357%2C%2056.40091%5D%2C%20%5B14.709738%2C%2056.390819%5D%2C%20%5B14.802183%2C%2056.382091%5D%2C%20%5B14.879696%2C%2056.363295%5D%2C%20%5B14.920314%2C%2056.383279%5D%2C%20%5B14.965603%2C%2056.437939%5D%2C%20%5B15.018739%2C%2056.46021%5D%2C%20%5B15.1263%2C%2056.461223%5D%2C%20%5B15.134868%2C%2056.439024%5D%2C%20%5B15.193455%2C%2056.439219%5D%2C%20%5B15.202063%2C%2056.465826%5D%2C%20%5B15.251069%2C%2056.482822%5D%2C%20%5B15.295673%2C%2056.462098%5D%2C%20%5B15.335467%2C%2056.486835%5D%2C%20%5B15.397778%2C%2056.499377%5D%2C%20%5B15.481077%2C%2056.482255%5D%2C%20%5B15.492359%2C%2056.515332%5D%2C%20%5B15.56411%2C%2056.500064%5D%2C%20%5B15.590232%2C%2056.469506%5D%2C%20%5B15.639212%2C%2056.470076%5D%2C%20%5B15.655409%2C%2056.444331%5D%2C%20%5B15.677092%2C%2056.418851%5D%2C%20%5B15.730499%2C%2056.410058%5D%2C%20%5B15.793941%2C%2056.342689%5D%2C%20%5B15.850886%2C%2056.320939%5D%2C%20%5B15.945668%2C%2056.32385%5D%2C%20%5B15.987303%2C%2056.306643%5D%2C%20%5B16.051779%2C%2056.324125%5D%2C%20%5B16.010612%2C%2056.236313%5D%2C%20%5B15.954949%2C%2056.174791%5D%2C%20%5B15.912381%2C%2056.157663%5D%2C%20%5B15.851109%2C%2056.083813%5D%2C%20%5B15.787262%2C%2056.116888%5D%2C%20%5B15.71074%2C%2056.091014%5D%2C%20%5B15.664136%2C%2056.099394%5D%2C%20%5B15.726235%2C%2056.133452%5D%2C%20%5B15.742301%2C%2056.163198%5D%2C%20%5B15.69267%2C%2056.188067%5D%2C%20%5B15.593546%2C%2056.178012%5D%2C%20%5B15.560697%2C%2056.19091%5D%2C%20%5B15.495396%2C%2056.177472%5D%2C%20%5B15.456451%2C%2056.15575%5D%2C%20%5B15.410572%2C%2056.183893%5D%2C%20%5B15.385923%2C%2056.15826%5D%2C%20%5B15.317038%2C%2056.137108%5D%2C%20%5B15.293481%2C%2056.180122%5D%2C%20%5B15.253007%2C%2056.171703%5D%2C%20%5B15.163987%2C%2056.162516%5D%2C%20%5B15.09662%2C%2056.164662%5D%2C%20%5B15.060275%2C%2056.187871%5D%2C%20%5B15.022164%2C%2056.163574%5D%2C%20%5B14.950904%2C%2056.162249%5D%2C%20%5B14.850227%2C%2056.158942%5D%2C%20%5B14.774776%2C%2056.152336%5D%2C%20%5B14.732955%2C%2056.15286%5D%2C%20%5B14.679337%2C%2056.159433%5D%2C%20%5B14.684451%2C%2056.117607%5D%2C%20%5B14.721067%2C%2056.072208%5D%2C%20%5B14.781885%2C%2056.036298%5D%2C%20%5B14.726788%2C%2055.999622%5D%2C%20%5B14.662864%2C%2056.001363%5D%2C%20%5B14.607912%2C%2056.017027%5D%2C%20%5B14.545672%2C%2056.045697%5D%2C%20%5B14.55409%2C%2056.074148%5D%2C%20%5B14.594618%2C%2056.084594%5D%2C%20%5B14.571692%2C%2056.199631%5D%5D%5D%5D%2C%20%22type%22%3A%20%22MultiPolygon%22%7D%2C%20%22id%22%3A%20%225%22%2C%20%22properties%22%3A%20%7B%22Frequency%22%3A%207%2C%20%22cartodb_id%22%3A%209%2C%20%22created_at%22%3A%20%222014-09-16T07%3A35%3A21%2B00%3A00%22%2C%20%22name%22%3A%20%22Blekinge%22%2C%20%22poly_name%22%3A%20%22Blekinge%22%2C%20%22updated_at%22%3A%20%222014-09-16T07%3A35%3A21%2B00%3A00%22%7D%2C%20%22type%22%3A%20%22Feature%22%7D%2C%20%7B%22bbox%22%3A%20%5B16.691831%2C%2059.474315%2C%2018.600384%2C%2060.652299%5D%2C%20%22geometry%22%3A%20%7B%22coordinates%22%3A%20%5B%5B%5B%5B17.365944%2C%2059.612204%5D%2C%20%5B17.354637%2C%2059.602885%5D%2C%20%5B17.422739%2C%2059.527204%5D%2C%20%5B17.425629%2C%2059.474315%5D%2C%20%5B17.340654%2C%2059.47674%5D%2C%20%5B17.216958%2C%2059.532646%5D%2C%20%5B17.10309%2C%2059.560514%5D%2C%20%5B17.043533%2C%2059.551906%5D%2C%20%5B16.973619%2C%2059.531246%5D%2C%20%5B16.904703%2C%2059.567374%5D%2C%20%5B16.868926%2C%2059.674413%5D%2C%20%5B16.794534%2C%2059.731978%5D%2C%20%5B16.744107%2C%2059.781261%5D%2C%20%5B16.79965%2C%2059.818725%5D%2C%20%5B16.831155%2C%2059.860189%5D%2C%20%5B16.77806%2C%2059.899971%5D%2C%20%5B16.79845%2C%2059.922215%5D%2C%20%5B16.789547%2C%2059.969982%5D%2C%20%5B16.691831%2C%2060.010815%5D%2C%20%5B16.721706%2C%2060.041525%5D%2C%20%5B16.692888%2C%2060.110514%5D%2C%20%5B16.735034%2C%2060.118663%5D%2C%20%5B16.720361%2C%2060.199881%5D%2C%20%5B16.797354%2C%2060.20168%5D%2C%20%5B16.881085%2C%2060.241555%5D%2C%20%5B16.864918%2C%2060.262563%5D%2C%20%5B16.905685%2C%2060.287104%5D%2C%20%5B17.100329%2C%2060.268682%5D%2C%20%5B17.199449%2C%2060.30916%5D%2C%20%5B17.204033%2C%2060.428678%5D%2C%20%5B17.300719%2C%2060.471103%5D%2C%20%5B17.350723%2C%2060.652299%5D%2C%20%5B17.607619%2C%2060.649564%5D%2C%20%5B17.6027%2C%2060.59601%5D%2C%20%5B17.65509%2C%2060.524456%5D%2C%20%5B17.731006%2C%2060.531741%5D%2C%20%5B17.789452%2C%2060.578432%5D%2C%20%5B17.907688%2C%2060.60258%5D%2C%20%5B17.987809%2C%2060.574883%5D%2C%20%5B17.997374%2C%2060.510549%5D%2C%20%5B18.101741%2C%2060.43807%5D%2C%20%5B18.270508%2C%2060.360885%5D%2C%20%5B18.368631%2C%2060.346091%5D%2C%20%5B18.404703%2C%2060.36697%5D%2C%20%5B18.366341%2C%2060.45364%5D%2C%20%5B18.37286%2C%2060.496823%5D%2C%20%5B18.408685%2C%2060.504992%5D%2C%20%5B18.442838%2C%2060.416812%5D%2C%20%5B18.511639%2C%2060.356836%5D%2C%20%5B18.580964%2C%2060.344128%5D%2C%20%5B18.566944%2C%2060.312458%5D%2C%20%5B18.48179%2C%2060.310016%5D%2C%20%5B18.561962%2C%2060.27461%5D%2C%20%5B18.600384%2C%2060.235163%5D%2C%20%5B18.569724%2C%2060.208441%5D%2C%20%5B18.507949%2C%2060.20967%5D%2C%20%5B18.510938%2C%2060.154819%5D%2C%20%5B18.488981%2C%2060.105569%5D%2C%20%5B18.462378%2C%2060.056678%5D%2C%20%5B18.381651%2C%2060.045272%5D%2C%20%5B18.441823%2C%2060.003674%5D%2C%20%5B18.402974%2C%2059.995796%5D%2C%20%5B18.373688%2C%2059.868859%5D%2C%20%5B18.297296%2C%2059.832933%5D%2C%20%5B18.139746%2C%2059.814136%5D%2C%20%5B18.089003%2C%2059.736124%5D%2C%20%5B18.067611%2C%2059.736476%5D%2C%20%5B18.046224%2C%2059.733969%5D%2C%20%5B18.036655%2C%2059.736889%5D%2C%20%5B18.009106%2C%2059.726121%5D%2C%20%5B17.987989%2C%2059.725944%5D%2C%20%5B17.954933%2C%2059.712607%5D%2C%20%5B17.937252%2C%2059.707643%5D%2C%20%5B17.917439%2C%2059.707092%5D%2C%20%5B17.838109%2C%2059.69176%5D%2C%20%5B17.843324%2C%2059.684927%5D%2C%20%5B17.823724%2C%2059.679986%5D%2C%20%5B17.813047%2C%2059.684935%5D%2C%20%5B17.791375%2C%2059.685409%5D%2C%20%5B17.768353%2C%2059.679201%5D%2C%20%5B17.755084%2C%2059.665033%5D%2C%20%5B17.736142%2C%2059.666462%5D%2C%20%5B17.730847%2C%2059.679352%5D%2C%20%5B17.705425%2C%2059.681913%5D%2C%20%5B17.69249%2C%2059.690917%5D%2C%20%5B17.664943%2C%2059.692181%5D%2C%20%5B17.635471%2C%2059.694983%5D%2C%20%5B17.639668%2C%2059.675908%5D%2C%20%5B17.611378%2C%2059.669109%5D%2C%20%5B17.582479%2C%2059.655929%5D%2C%20%5B17.590883%2C%2059.649817%5D%2C%20%5B17.575552%2C%2059.638263%5D%2C%20%5B17.560992%2C%2059.637211%5D%2C%20%5B17.54506%2C%2059.628804%5D%2C%20%5B17.531076%2C%2059.612622%5D%2C%20%5B17.534039%2C%2059.595093%5D%2C%20%5B17.572272%2C%2059.575828%5D%2C%20%5B17.566803%2C%2059.56194%5D%2C%20%5B17.552448%2C%2059.560436%5D%2C%20%5B17.539902%2C%2059.545573%5D%2C%20%5B17.52639%2C%2059.534088%5D%2C%20%5B17.507355%2C%2059.533799%5D%2C%20%5B17.473833%2C%2059.546898%5D%2C%20%5B17.441631%2C%2059.568035%5D%2C%20%5B17.414038%2C%2059.589403%5D%2C%20%5B17.404097%2C%2059.603027%5D%2C%20%5B17.398345%2C%2059.619598%5D%2C%20%5B17.365944%2C%2059.612204%5D%5D%5D%5D%2C%20%22type%22%3A%20%22MultiPolygon%22%7D%2C%20%22id%22%3A%20%226%22%2C%20%22properties%22%3A%20%7B%22Frequency%22%3A%2028%2C%20%22cartodb_id%22%3A%202%2C%20%22created_at%22%3A%20%222014-09-16T07%3A35%3A21%2B00%3A00%22%2C%20%22name%22%3A%20%22Uppsala%22%2C%20%22poly_name%22%3A%20%22Uppsala%22%2C%20%22updated_at%22%3A%20%222014-09-16T07%3A35%3A21%2B00%3A00%22%7D%2C%20%22type%22%3A%20%22Feature%22%7D%2C%20%7B%22bbox%22%3A%20%5B15.60572%2C%2058.622002%2C%2017.618799%2C%2059.499396%5D%2C%20%22geometry%22%3A%20%7B%22coordinates%22%3A%20%5B%5B%5B%5B15.957998%2C%2058.964954%5D%2C%20%5B15.861152%2C%2058.998543%5D%2C%20%5B15.842913%2C%2059.024969%5D%2C%20%5B15.793686%2C%2059.038744%5D%2C%20%5B15.741645%2C%2058.980315%5D%2C%20%5B15.632189%2C%2059.003186%5D%2C%20%5B15.60572%2C%2059.024738%5D%2C%20%5B15.626191%2C%2059.068818%5D%2C%20%5B15.67838%2C%2059.112848%5D%2C%20%5B15.77157%2C%2059.120034%5D%2C%20%5B15.76967%2C%2059.150025%5D%2C%20%5B15.836473%2C%2059.146553%5D%2C%20%5B15.88547%2C%2059.17077%5D%2C%20%5B15.8928%2C%2059.206528%5D%2C%20%5B16.003208%2C%2059.227019%5D%2C%20%5B16.071096%2C%2059.240992%5D%2C%20%5B16.18053%2C%2059.246935%5D%2C%20%5B16.262136%2C%2059.263578%5D%2C%20%5B16.298367%2C%2059.295709%5D%2C%20%5B16.256686%2C%2059.29831%5D%2C%20%5B16.065614%2C%2059.266667%5D%2C%20%5B15.994806%2C%2059.294491%5D%2C%20%5B15.854282%2C%2059.299654%5D%2C%20%5B15.926026%2C%2059.342651%5D%2C%20%5B15.997484%2C%2059.374585%5D%2C%20%5B16.051708%2C%2059.364027%5D%2C%20%5B16.135169%2C%2059.357093%5D%2C%20%5B16.259268%2C%2059.37112%5D%2C%20%5B16.272445%2C%2059.395678%5D%2C%20%5B16.223928%2C%2059.415025%5D%2C%20%5B16.230719%2C%2059.442687%5D%2C%20%5B16.418483%2C%2059.449285%5D%2C%20%5B16.516766%2C%2059.459317%5D%2C%20%5B16.606516%2C%2059.449902%5D%2C%20%5B16.704018%2C%2059.465472%5D%2C%20%5B16.785448%2C%2059.467688%5D%2C%20%5B16.838723%2C%2059.480475%5D%2C%20%5B16.952543%2C%2059.452837%5D%2C%20%5B16.969108%2C%2059.487998%5D%2C%20%5B17.015002%2C%2059.499396%5D%2C%20%5B17.073235%2C%2059.477254%5D%2C%20%5B17.042047%2C%2059.441275%5D%2C%20%5B17.078064%2C%2059.377072%5D%2C%20%5B17.153305%2C%2059.379127%5D%2C%20%5B17.119961%2C%2059.439536%5D%2C%20%5B17.147294%2C%2059.461235%5D%2C%20%5B17.28126%2C%2059.442797%5D%2C%20%5B17.324243%2C%2059.39254%5D%2C%20%5B17.272472%2C%2059.359868%5D%2C%20%5B17.303352%2C%2059.355882%5D%2C%20%5B17.312383%2C%2059.324364%5D%2C%20%5B17.257208%2C%2059.304654%5D%2C%20%5B17.284619%2C%2059.267922%5D%2C%20%5B17.2402%2C%2059.242159%5D%2C%20%5B17.254024%2C%2059.1904%5D%2C%20%5B17.303785%2C%2059.141533%5D%2C%20%5B17.288877%2C%2059.050081%5D%2C%20%5B17.363874%2C%2058.992116%5D%2C%20%5B17.521423%2C%2058.991624%5D%2C%20%5B17.525158%2C%2058.967763%5D%2C%20%5B17.599992%2C%2058.947757%5D%2C%20%5B17.618799%2C%2058.904807%5D%2C%20%5B17.568235%2C%2058.878021%5D%2C%20%5B17.590801%2C%2058.850163%5D%2C%20%5B17.557265%2C%2058.83938%5D%2C%20%5B17.492754%2C%2058.867787%5D%2C%20%5B17.474671%2C%2058.804702%5D%2C%20%5B17.500854%2C%2058.788054%5D%2C%20%5B17.44982%2C%2058.785626%5D%2C%20%5B17.430488%2C%2058.787918%5D%2C%20%5B17.403733%2C%2058.791341%5D%2C%20%5B17.388204%2C%2058.746566%5D%2C%20%5B17.322767%2C%2058.754499%5D%2C%20%5B17.281343%2C%2058.729444%5D%2C%20%5B17.179821%2C%2058.742193%5D%2C%20%5B17.127679%2C%2058.742245%5D%2C%20%5B17.07932%2C%2058.769217%5D%2C%20%5B17.013081%2C%2058.755686%5D%2C%20%5B17.082624%2C%2058.721222%5D%2C%20%5B17.132711%2C%2058.696555%5D%2C%20%5B17.088578%2C%2058.661573%5D%2C%20%5B17.028652%2C%2058.683893%5D%2C%20%5B16.969577%2C%2058.687986%5D%2C%20%5B16.926079%2C%2058.676485%5D%2C%20%5B17.009309%2C%2058.663478%5D%2C%20%5B17.010452%2C%2058.641641%5D%2C%20%5B16.901324%2C%2058.622002%5D%2C%20%5B16.81966%2C%2058.627582%5D%2C%20%5B16.748196%2C%2058.632426%5D%2C%20%5B16.687673%2C%2058.679989%5D%2C%20%5B16.545128%2C%2058.705745%5D%2C%20%5B16.369292%2C%2058.709946%5D%2C%20%5B16.252765%2C%2058.829031%5D%2C%20%5B16.226436%2C%2058.849408%5D%2C%20%5B16.166874%2C%2058.857371%5D%2C%20%5B16.098733%2C%2058.897205%5D%2C%20%5B16.053636%2C%2058.941628%5D%2C%20%5B15.957998%2C%2058.964954%5D%5D%5D%5D%2C%20%22type%22%3A%20%22MultiPolygon%22%7D%2C%20%22id%22%3A%20%227%22%2C%20%22properties%22%3A%20%7B%22Frequency%22%3A%2065%2C%20%22cartodb_id%22%3A%203%2C%20%22created_at%22%3A%20%222014-09-16T07%3A35%3A21%2B00%3A00%22%2C%20%22name%22%3A%20%22S%5Cu00f6dermanland%22%2C%20%22poly_name%22%3A%20%22S%5Cu00f6dermanland%22%2C%20%22updated_at%22%3A%20%222014-09-16T07%3A35%3A21%2B00%3A00%22%7D%2C%20%22type%22%3A%20%22Feature%22%7D%2C%20%7B%22bbox%22%3A%20%5B14.537452%2C%2057.700903%2C%2016.902913%2C%2059.038744%5D%2C%20%22geometry%22%3A%20%7B%22coordinates%22%3A%20%5B%5B%5B%5B14.933493%2C%2058.131114%5D%2C%20%5B14.894522%2C%2058.089862%5D%2C%20%5B14.755391%2C%2058.073778%5D%2C%20%5B14.747946%2C%2058.104873%5D%2C%20%5B14.603931%2C%2058.092498%5D%2C%20%5B14.537452%2C%2058.106139%5D%2C%20%5B14.590567%2C%2058.205149%5D%2C%20%5B14.613906%2C%2058.272567%5D%2C%20%5B14.638739%2C%2058.294768%5D%2C%20%5B14.625658%2C%2058.315308%5D%2C%20%5B14.646079%2C%2058.349767%5D%2C%20%5B14.659641%2C%2058.38399%5D%2C%20%5B14.772442%2C%2058.434125%5D%2C%20%5B14.775502%2C%2058.466481%5D%2C%20%5B14.818804%2C%2058.47685%5D%2C%20%5B14.862041%2C%2058.45289%5D%2C%20%5B14.923453%2C%2058.467692%5D%2C%20%5B14.961297%2C%2058.518072%5D%2C%20%5B15.023965%2C%2058.538176%5D%2C%20%5B14.989468%2C%2058.55449%5D%2C%20%5B14.928881%2C%2058.561354%5D%2C%20%5B14.858994%2C%2058.590342%5D%2C%20%5B14.926516%2C%2058.633737%5D%2C%20%5B14.939411%2C%2058.699058%5D%2C%20%5B15.028138%2C%2058.727797%5D%2C%20%5B15.049677%2C%2058.764626%5D%2C%20%5B15.085787%2C%2058.80428%5D%2C%20%5B15.134257%2C%2058.83599%5D%2C%20%5B15.186749%2C%2058.836737%5D%2C%20%5B15.247245%2C%2058.874997%5D%2C%20%5B15.339033%2C%2058.847226%5D%2C%20%5B15.387174%2C%2058.859897%5D%2C%20%5B15.419244%2C%2058.83091%5D%2C%20%5B15.439796%2C%2058.876808%5D%2C%20%5B15.523369%2C%2058.875627%5D%2C%20%5B15.566239%2C%2058.911155%5D%2C%20%5B15.530518%2C%2058.944605%5D%2C%20%5B15.632189%2C%2059.003186%5D%2C%20%5B15.741645%2C%2058.980315%5D%2C%20%5B15.793686%2C%2059.038744%5D%2C%20%5B15.842913%2C%2059.024969%5D%2C%20%5B15.861152%2C%2058.998543%5D%2C%20%5B15.957998%2C%2058.964954%5D%2C%20%5B16.053636%2C%2058.941628%5D%2C%20%5B16.098733%2C%2058.897205%5D%2C%20%5B16.166874%2C%2058.857371%5D%2C%20%5B16.226436%2C%2058.849408%5D%2C%20%5B16.252765%2C%2058.829031%5D%2C%20%5B16.369292%2C%2058.709946%5D%2C%20%5B16.545128%2C%2058.705745%5D%2C%20%5B16.687673%2C%2058.679989%5D%2C%20%5B16.748196%2C%2058.632426%5D%2C%20%5B16.683062%2C%2058.634996%5D%2C%20%5B16.578406%2C%2058.645587%5D%2C%20%5B16.44436%2C%2058.663433%5D%2C%20%5B16.375294%2C%2058.664277%5D%2C%20%5B16.273429%2C%2058.672624%5D%2C%20%5B16.23412%2C%2058.653396%5D%2C%20%5B16.232669%2C%2058.619088%5D%2C%20%5B16.265422%2C%2058.611569%5D%2C%20%5B16.345581%2C%2058.628163%5D%2C%20%5B16.399362%2C%2058.593909%5D%2C%20%5B16.421109%2C%2058.639594%5D%2C%20%5B16.571834%2C%2058.633336%5D%2C%20%5B16.711804%2C%2058.598633%5D%2C%20%5B16.827392%2C%2058.550928%5D%2C%20%5B16.902913%2C%2058.509499%5D%2C%20%5B16.828129%2C%2058.447572%5D%2C%20%5B16.719703%2C%2058.427758%5D%2C%20%5B16.612306%2C%2058.438606%5D%2C%20%5B16.564746%2C%2058.441167%5D%2C%20%5B16.59629%2C%2058.416116%5D%2C%20%5B16.688751%2C%2058.400861%5D%2C%20%5B16.714378%2C%2058.36651%5D%2C%20%5B16.809403%2C%2058.361841%5D%2C%20%5B16.883508%2C%2058.329554%5D%2C%20%5B16.847424%2C%2058.283109%5D%2C%20%5B16.680798%2C%2058.266095%5D%2C%20%5B16.765867%2C%2058.232524%5D%2C%20%5B16.81971%2C%2058.188948%5D%2C%20%5B16.768808%2C%2058.123573%5D%2C%20%5B16.678904%2C%2058.14602%5D%2C%20%5B16.691381%2C%2058.114365%5D%2C%20%5B16.772402%2C%2058.070759%5D%2C%20%5B16.709123%2C%2058.049728%5D%2C%20%5B16.748618%2C%2058.004125%5D%2C%20%5B16.688696%2C%2057.98226%5D%2C%20%5B16.612264%2C%2057.989259%5D%2C%20%5B16.561449%2C%2058.099578%5D%2C%20%5B16.500808%2C%2058.116299%5D%2C%20%5B16.468973%2C%2058.084002%5D%2C%20%5B16.371791%2C%2058.151378%5D%2C%20%5B16.293527%2C%2058.133538%5D%2C%20%5B16.25165%2C%2058.157968%5D%2C%20%5B16.178839%2C%2058.124623%5D%2C%20%5B16.151071%2C%2058.108289%5D%2C%20%5B16.175307%2C%2058.066911%5D%2C%20%5B16.116604%2C%2058.063405%5D%2C%20%5B16.091884%2C%2058.088512%5D%2C%20%5B15.998622%2C%2058.087735%5D%2C%20%5B15.984207%2C%2058.035556%5D%2C%20%5B16.064651%2C%2057.972569%5D%2C%20%5B16.019522%2C%2057.95369%5D%2C%20%5B16.066557%2C%2057.864742%5D%2C%20%5B16.018421%2C%2057.861455%5D%2C%20%5B15.919418%2C%2057.813367%5D%2C%20%5B15.866439%2C%2057.832949%5D%2C%20%5B15.79452%2C%2057.813856%5D%2C%20%5B15.778024%2C%2057.845629%5D%2C%20%5B15.670724%2C%2057.86481%5D%2C%20%5B15.580388%2C%2057.853943%5D%2C%20%5B15.590788%2C%2057.824377%5D%2C%20%5B15.536255%2C%2057.796277%5D%2C%20%5B15.516402%2C%2057.761889%5D%2C%20%5B15.456846%2C%2057.767216%5D%2C%20%5B15.428928%2C%2057.747149%5D%2C%20%5B15.41564%2C%2057.700903%5D%2C%20%5B15.284171%2C%2057.715765%5D%2C%20%5B15.141132%2C%2057.707642%5D%2C%20%5B15.100044%2C%2057.758744%5D%2C%20%5B15.064367%2C%2057.825793%5D%2C%20%5B15.076171%2C%2057.850437%5D%2C%20%5B15.004374%2C%2057.895976%5D%2C%20%5B14.982904%2C%2057.934493%5D%2C%20%5B15.014114%2C%2057.976757%5D%2C%20%5B15.049417%2C%2058.000111%5D%2C%20%5B15.025449%2C%2058.032155%5D%2C%20%5B14.981789%2C%2058.117653%5D%2C%20%5B14.933493%2C%2058.131114%5D%5D%5D%5D%2C%20%22type%22%3A%20%22MultiPolygon%22%7D%2C%20%22id%22%3A%20%228%22%2C%20%22properties%22%3A%20%7B%22Frequency%22%3A%2023%2C%20%22cartodb_id%22%3A%204%2C%20%22created_at%22%3A%20%222014-09-16T07%3A35%3A21%2B00%3A00%22%2C%20%22name%22%3A%20%22%5Cu00d6sterg%5Cu00f6tland%22%2C%20%22poly_name%22%3A%20%22%5Cu00d6sterg%5Cu00f6tland%22%2C%20%22updated_at%22%3A%20%222014-09-16T07%3A35%3A21%2B00%3A00%22%7D%2C%20%22type%22%3A%20%22Feature%22%7D%2C%20%7B%22bbox%22%3A%20%5B18.082496%2C%2056.912849%2C%2019.305591%2C%2058.004495%5D%2C%20%22geometry%22%3A%20%7B%22coordinates%22%3A%20%5B%5B%5B%5B18.480172%2C%2057.836026%5D%2C%20%5B18.537503%2C%2057.845809%5D%2C%20%5B18.583853%2C%2057.852851%5D%2C%20%5B18.606794%2C%2057.894586%5D%2C%20%5B18.653701%2C%2057.914294%5D%2C%20%5B18.706205%2C%2057.929877%5D%2C%20%5B18.769997%2C%2057.849859%5D%2C%20%5B18.818016%2C%2057.916737%5D%2C%20%5B18.858981%2C%2057.938713%5D%2C%20%5B18.999512%2C%2057.9193%5D%2C%20%5B19.05443%2C%2057.941815%5D%2C%20%5B19.074086%2C%2057.981985%5D%2C%20%5B19.149663%2C%2058.004495%5D%2C%20%5B19.233224%2C%2057.98801%5D%2C%20%5B19.288693%2C%2057.990365%5D%2C%20%5B19.305591%2C%2057.968821%5D%2C%20%5B19.276005%2C%2057.951409%5D%2C%20%5B19.201245%2C%2057.952594%5D%2C%20%5B19.139685%2C%2057.941628%5D%2C%20%5B19.114657%2C%2057.927448%5D%2C%20%5B19.133809%2C%2057.902085%5D%2C%20%5B19.0937%2C%2057.861908%5D%2C%20%5B19.029497%2C%2057.842037%5D%2C%20%5B18.995214%2C%2057.83046%5D%2C%20%5B18.99725%2C%2057.793877%5D%2C%20%5B18.932737%2C%2057.794021%5D%2C%20%5B18.923207%2C%2057.731131%5D%2C%20%5B18.848347%2C%2057.73032%5D%2C%20%5B18.797142%2C%2057.751099%5D%2C%20%5B18.784006%2C%2057.69763%5D%2C%20%5B18.748418%2C%2057.62607%5D%2C%20%5B18.78192%2C%2057.614109%5D%2C%20%5B18.766681%2C%2057.553546%5D%2C%20%5B18.733893%2C%2057.523604%5D%2C%20%5B18.776123%2C%2057.474488%5D%2C%20%5B18.83897%2C%2057.449039%5D%2C%20%5B18.900144%2C%2057.440085%5D%2C%20%5B18.866809%2C%2057.397476%5D%2C%20%5B18.788828%2C%2057.384219%5D%2C%20%5B18.725619%2C%2057.375109%5D%2C%20%5B18.654512%2C%2057.317516%5D%2C%20%5B18.655202%2C%2057.286523%5D%2C%20%5B18.693879%2C%2057.270475%5D%2C%20%5B18.656563%2C%2057.235472%5D%2C%20%5B18.543236%2C%2057.214195%5D%2C%20%5B18.527126%2C%2057.19373%5D%2C%20%5B18.383553%2C%2057.136707%5D%2C%20%5B18.42376%2C%2057.126064%5D%2C%20%5B18.318219%2C%2057.083963%5D%2C%20%5B18.319697%2C%2057.020206%5D%2C%20%5B18.372248%2C%2057.006734%5D%2C%20%5B18.300193%2C%2056.952754%5D%2C%20%5B18.189322%2C%2056.912849%5D%2C%20%5B18.1241%2C%2056.916385%5D%2C%20%5B18.180456%2C%2056.986284%5D%2C%20%5B18.192137%2C%2057.027132%5D%2C%20%5B18.258213%2C%2057.048941%5D%2C%20%5B18.283161%2C%2057.077789%5D%2C%20%5B18.273599%2C%2057.102206%5D%2C%20%5B18.209135%2C%2057.074812%5D%2C%20%5B18.187907%2C%2057.081999%5D%2C%20%5B18.204725%2C%2057.140606%5D%2C%20%5B18.159964%2C%2057.158809%5D%2C%20%5B18.13094%2C%2057.173893%5D%2C%20%5B18.136495%2C%2057.251597%5D%2C%20%5B18.082496%2C%2057.261426%5D%2C%20%5B18.096924%2C%2057.300229%5D%2C%20%5B18.149644%2C%2057.332304%5D%2C%20%5B18.164789%2C%2057.396506%5D%2C%20%5B18.128801%2C%2057.423053%5D%2C%20%5B18.110283%2C%2057.475427%5D%2C%20%5B18.090705%2C%2057.524242%5D%2C%20%5B18.108547%2C%2057.562793%5D%2C%20%5B18.190922%2C%2057.614295%5D%2C%20%5B18.245067%2C%2057.626259%5D%2C%20%5B18.314049%2C%2057.676981%5D%2C%20%5B18.390109%2C%2057.750726%5D%2C%20%5B18.42577%2C%2057.81325%5D%2C%20%5B18.480172%2C%2057.836026%5D%5D%5D%5D%2C%20%22type%22%3A%20%22MultiPolygon%22%7D%2C%20%22id%22%3A%20%229%22%2C%20%22properties%22%3A%20%7B%22Frequency%22%3A%208%2C%20%22cartodb_id%22%3A%208%2C%20%22created_at%22%3A%20%222014-09-16T07%3A35%3A21%2B00%3A00%22%2C%20%22name%22%3A%20%22Gotland%22%2C%20%22poly_name%22%3A%20%22Gotland%22%2C%20%22updated_at%22%3A%20%222014-09-16T07%3A35%3A21%2B00%3A00%22%7D%2C%20%22type%22%3A%20%22Feature%22%7D%2C%20%7B%22bbox%22%3A%20%5B13.085785%2C%2056.882473%2C%2015.653016%2C%2058.151675%5D%2C%20%22geometry%22%3A%20%7B%22coordinates%22%3A%20%5B%5B%5B%5B14.982904%2C%2057.934493%5D%2C%20%5B15.004374%2C%2057.895976%5D%2C%20%5B15.076171%2C%2057.850437%5D%2C%20%5B15.064367%2C%2057.825793%5D%2C%20%5B15.100044%2C%2057.758744%5D%2C%20%5B15.141132%2C%2057.707642%5D%2C%20%5B15.284171%2C%2057.715765%5D%2C%20%5B15.41564%2C%2057.700903%5D%2C%20%5B15.440178%2C%2057.674156%5D%2C%20%5B15.512473%2C%2057.666273%5D%2C%20%5B15.653016%2C%2057.607188%5D%2C%20%5B15.577978%2C%2057.555643%5D%2C%20%5B15.621515%2C%2057.534937%5D%2C%20%5B15.635469%2C%2057.50695%5D%2C%20%5B15.605147%2C%2057.490698%5D%2C%20%5B15.602013%2C%2057.445663%5D%2C%20%5B15.546469%2C%2057.467093%5D%2C%20%5B15.498566%2C%2057.446449%5D%2C%20%5B15.50353%2C%2057.391894%5D%2C%20%5B15.489426%2C%2057.372841%5D%2C%20%5B15.506575%2C%2057.328408%5D%2C%20%5B15.459605%2C%2057.311317%5D%2C%20%5B15.465022%2C%2057.25855%5D%2C%20%5B15.498833%2C%2057.24568%5D%2C%20%5B15.529736%2C%2057.199947%5D%2C%20%5B15.376503%2C%2057.233055%5D%2C%20%5B15.217452%2C%2057.218833%5D%2C%20%5B15.171525%2C%2057.237745%5D%2C%20%5B15.111677%2C%2057.237554%5D%2C%20%5B15.154359%2C%2057.202582%5D%2C%20%5B15.085108%2C%2057.204718%5D%2C%20%5B15.067522%2C%2057.188847%5D%2C%20%5B15.025798%2C%2057.173733%5D%2C%20%5B14.984682%2C%2057.167005%5D%2C%20%5B14.966587%2C%2057.142711%5D%2C%20%5B14.90985%2C%2057.14045%5D%2C%20%5B14.893132%2C%2057.190151%5D%2C%20%5B14.851394%2C%2057.214141%5D%2C%20%5B14.787426%2C%2057.232074%5D%2C%20%5B14.728704%2C%2057.231638%5D%2C%20%5B14.672048%2C%2057.212999%5D%2C%20%5B14.607963%2C%2057.207366%5D%2C%20%5B14.592126%2C%2057.193761%5D%2C%20%5B14.553088%2C%2057.197626%5D%2C%20%5B14.543757%2C%2057.165607%5D%2C%20%5B14.487092%2C%2057.157714%5D%2C%20%5B14.387274%2C%2057.155035%5D%2C%20%5B14.339753%2C%2057.154452%5D%2C%20%5B14.339561%2C%2057.062396%5D%2C%20%5B14.319967%2C%2057.045335%5D%2C%20%5B14.330163%2C%2057.010519%5D%2C%20%5B14.391922%2C%2056.969435%5D%2C%20%5B14.339491%2C%2056.898104%5D%2C%20%5B14.291757%2C%2056.882473%5D%2C%20%5B14.246998%2C%2056.895574%5D%2C%20%5B14.203745%2C%2056.948287%5D%2C%20%5B14.194718%2C%2056.990266%5D%2C%20%5B14.134599%2C%2057.041974%5D%2C%20%5B14.113097%2C%2057.032209%5D%2C%20%5B14.074017%2C%2057.053976%5D%2C%20%5B14.019631%2C%2057.063828%5D%2C%20%5B13.931482%2C%2057.050019%5D%2C%20%5B13.920673%2C%2057.025265%5D%2C%20%5B13.861778%2C%2057.008223%5D%2C%20%5B13.818448%2C%2057.064372%5D%2C%20%5B13.746509%2C%2057.068311%5D%2C%20%5B13.704496%2C%2057.053413%5D%2C%20%5B13.684731%2C%2056.986377%5D%2C%20%5B13.619938%2C%2056.999543%5D%2C%20%5B13.592135%2C%2057.031454%5D%2C%20%5B13.608011%2C%2057.068616%5D%2C%20%5B13.52657%2C%2057.095698%5D%2C%20%5B13.496227%2C%2057.09163%5D%2C%20%5B13.484658%2C%2057.122793%5D%2C%20%5B13.45944%2C%2057.109478%5D%2C%20%5B13.358339%2C%2057.117461%5D%2C%20%5B13.269247%2C%2057.096025%5D%2C%20%5B13.227982%2C%2057.10678%5D%2C%20%5B13.22009%2C%2057.07646%5D%2C%20%5B13.130984%2C%2057.031503%5D%2C%20%5B13.089936%2C%2057.095662%5D%2C%20%5B13.085785%2C%2057.127078%5D%2C%20%5B13.133071%2C%2057.149162%5D%2C%20%5B13.180235%2C%2057.184467%5D%2C%20%5B13.197654%2C%2057.234212%5D%2C%20%5B13.227497%2C%2057.256397%5D%2C%20%5B13.272494%2C%2057.247305%5D%2C%20%5B13.293275%2C%2057.303508%5D%2C%20%5B13.36894%2C%2057.313522%5D%2C%20%5B13.385212%2C%2057.332655%5D%2C%20%5B13.429498%2C%2057.339761%5D%2C%20%5B13.429862%2C%2057.363185%5D%2C%20%5B13.485828%2C%2057.380595%5D%2C%20%5B13.508062%2C%2057.415684%5D%2C%20%5B13.62086%2C%2057.515298%5D%2C%20%5B13.667189%2C%2057.533059%5D%2C%20%5B13.681863%2C%2057.561258%5D%2C%20%5B13.672666%2C%2057.606756%5D%2C%20%5B13.676211%2C%2057.628246%5D%2C%20%5B13.721829%2C%2057.64062%5D%2C%20%5B13.736587%2C%2057.668812%5D%2C%20%5B13.707236%2C%2057.707407%5D%2C%20%5B13.710713%2C%2057.734912%5D%2C%20%5B13.742481%2C%2057.764137%5D%2C%20%5B13.74124%2C%2057.843556%5D%2C%20%5B13.748984%2C%2057.882884%5D%2C%20%5B13.70867%2C%2057.937584%5D%2C%20%5B13.70825%2C%2057.982097%5D%2C%20%5B13.757648%2C%2058.014156%5D%2C%20%5B13.776144%2C%2058.049999%5D%2C%20%5B13.798256%2C%2058.053807%5D%2C%20%5B13.846553%2C%2058.038987%5D%2C%20%5B13.875628%2C%2058.050289%5D%2C%20%5B13.950773%2C%2058.0342%5D%2C%20%5B13.959974%2C%2058.009422%5D%2C%20%5B14.068404%2C%2058.028694%5D%2C%20%5B14.071584%2C%2058.046581%5D%2C%20%5B14.114025%2C%2058.075251%5D%2C%20%5B14.113049%2C%2058.151675%5D%2C%20%5B14.212836%2C%2058.145696%5D%2C%20%5B14.193783%2C%2058.066012%5D%2C%20%5B14.157633%2C%2057.997373%5D%2C%20%5B14.116689%2C%2057.957826%5D%2C%20%5B14.113916%2C%2057.885777%5D%2C%20%5B14.141808%2C%2057.871813%5D%2C%20%5B14.158137%2C%2057.831319%5D%2C%20%5B14.150731%2C%2057.790164%5D%2C%20%5B14.17918%2C%2057.779765%5D%2C%20%5B14.208461%2C%2057.792782%5D%2C%20%5B14.259509%2C%2057.795696%5D%2C%20%5B14.266616%2C%2057.853102%5D%2C%20%5B14.285504%2C%2057.900915%5D%2C%20%5B14.351997%2C%2057.968027%5D%2C%20%5B14.449941%2C%2058.002837%5D%2C%20%5B14.468131%2C%2058.045251%5D%2C%20%5B14.537452%2C%2058.106139%5D%2C%20%5B14.603931%2C%2058.092498%5D%2C%20%5B14.747946%2C%2058.104873%5D%2C%20%5B14.755391%2C%2058.073778%5D%2C%20%5B14.894522%2C%2058.089862%5D%2C%20%5B14.933493%2C%2058.131114%5D%2C%20%5B14.981789%2C%2058.117653%5D%2C%20%5B15.025449%2C%2058.032155%5D%2C%20%5B15.049417%2C%2058.000111%5D%2C%20%5B15.014114%2C%2057.976757%5D%2C%20%5B14.982904%2C%2057.934493%5D%5D%5D%5D%2C%20%22type%22%3A%20%22MultiPolygon%22%7D%2C%20%22id%22%3A%20%2210%22%2C%20%22properties%22%3A%20%7B%22Frequency%22%3A%205%2C%20%22cartodb_id%22%3A%205%2C%20%22created_at%22%3A%20%222014-09-16T07%3A35%3A21%2B00%3A00%22%2C%20%22name%22%3A%20%22J%5Cu00f6nk%5Cu00f6ping%22%2C%20%22poly_name%22%3A%20%22J%5Cu00f6nk%5Cu00f6ping%22%2C%20%22updated_at%22%3A%20%222014-09-16T07%3A35%3A21%2B00%3A00%22%7D%2C%20%22type%22%3A%20%22Feature%22%7D%2C%20%7B%22bbox%22%3A%20%5B13.296026%2C%2056.363295%2C%2015.841191%2C%2057.237745%5D%2C%20%22geometry%22%3A%20%7B%22coordinates%22%3A%20%5B%5B%5B%5B15.067522%2C%2057.188847%5D%2C%20%5B15.085108%2C%2057.204718%5D%2C%20%5B15.154359%2C%2057.202582%5D%2C%20%5B15.111677%2C%2057.237554%5D%2C%20%5B15.171525%2C%2057.237745%5D%2C%20%5B15.217452%2C%2057.218833%5D%2C%20%5B15.376503%2C%2057.233055%5D%2C%20%5B15.529736%2C%2057.199947%5D%2C%20%5B15.555451%2C%2057.184385%5D%2C%20%5B15.535439%2C%2057.153032%5D%2C%20%5B15.626899%2C%2057.131195%5D%2C%20%5B15.66376%2C%2057.087323%5D%2C%20%5B15.73628%2C%2057.070772%5D%2C%20%5B15.798508%2C%2057.022857%5D%2C%20%5B15.841191%2C%2056.976732%5D%2C%20%5B15.809022%2C%2056.920846%5D%2C%20%5B15.692473%2C%2056.915478%5D%2C%20%5B15.651908%2C%2056.910756%5D%2C%20%5B15.553748%2C%2056.929436%5D%2C%20%5B15.511649%2C%2056.917527%5D%2C%20%5B15.509765%2C%2056.898341%5D%2C%20%5B15.551395%2C%2056.836111%5D%2C%20%5B15.540488%2C%2056.80543%5D%2C%20%5B15.436933%2C%2056.797228%5D%2C%20%5B15.357503%2C%2056.778477%5D%2C%20%5B15.419726%2C%2056.715069%5D%2C%20%5B15.40757%2C%2056.672401%5D%2C%20%5B15.418521%2C%2056.646428%5D%2C%20%5B15.361895%2C%2056.604605%5D%2C%20%5B15.370937%2C%2056.558855%5D%2C%20%5B15.341842%2C%2056.544326%5D%2C%20%5B15.335467%2C%2056.486835%5D%2C%20%5B15.295673%2C%2056.462098%5D%2C%20%5B15.251069%2C%2056.482822%5D%2C%20%5B15.202063%2C%2056.465826%5D%2C%20%5B15.193455%2C%2056.439219%5D%2C%20%5B15.134868%2C%2056.439024%5D%2C%20%5B15.1263%2C%2056.461223%5D%2C%20%5B15.018739%2C%2056.46021%5D%2C%20%5B14.965603%2C%2056.437939%5D%2C%20%5B14.920314%2C%2056.383279%5D%2C%20%5B14.879696%2C%2056.363295%5D%2C%20%5B14.802183%2C%2056.382091%5D%2C%20%5B14.709738%2C%2056.390819%5D%2C%20%5B14.668357%2C%2056.40091%5D%2C%20%5B14.596628%2C%2056.451776%5D%2C%20%5B14.524113%2C%2056.458071%5D%2C%20%5B14.414471%2C%2056.480728%5D%2C%20%5B14.2527%2C%2056.503536%5D%2C%20%5B14.237598%2C%2056.49167%5D%2C%20%5B14.133104%2C%2056.507785%5D%2C%20%5B14.101653%2C%2056.532822%5D%2C%20%5B14.062312%2C%2056.531162%5D%2C%20%5B14.05449%2C%2056.504483%5D%2C%20%5B14.01584%2C%2056.468487%5D%2C%20%5B13.927959%2C%2056.467359%5D%2C%20%5B13.869608%2C%2056.448524%5D%2C%20%5B13.788513%2C%2056.448777%5D%2C%20%5B13.704803%2C%2056.427904%5D%2C%20%5B13.576733%2C%2056.409336%5D%2C%20%5B13.496908%2C%2056.40995%5D%2C%20%5B13.456948%2C%2056.430976%5D%2C%20%5B13.471123%2C%2056.452579%5D%2C%20%5B13.448121%2C%2056.471648%5D%2C%20%5B13.474169%2C%2056.51376%5D%2C%20%5B13.443759%2C%2056.569216%5D%2C%20%5B13.416884%2C%2056.584827%5D%2C%20%5B13.401812%2C%2056.613742%5D%2C%20%5B13.373456%2C%2056.662475%5D%2C%20%5B13.325975%2C%2056.693385%5D%2C%20%5B13.321794%2C%2056.772887%5D%2C%20%5B13.296026%2C%2056.847312%5D%2C%20%5B13.340123%2C%2056.87126%5D%2C%20%5B13.371326%2C%2056.860895%5D%2C%20%5B13.469148%2C%2056.878251%5D%2C%20%5B13.486996%2C%2056.866637%5D%2C%20%5B13.533333%2C%2056.88982%5D%2C%20%5B13.612393%2C%2056.891674%5D%2C%20%5B13.621803%2C%2056.909283%5D%2C%20%5B13.660061%2C%2056.902122%5D%2C%20%5B13.692812%2C%2056.961956%5D%2C%20%5B13.684731%2C%2056.986377%5D%2C%20%5B13.704496%2C%2057.053413%5D%2C%20%5B13.746509%2C%2057.068311%5D%2C%20%5B13.818448%2C%2057.064372%5D%2C%20%5B13.861778%2C%2057.008223%5D%2C%20%5B13.920673%2C%2057.025265%5D%2C%20%5B13.931482%2C%2057.050019%5D%2C%20%5B14.019631%2C%2057.063828%5D%2C%20%5B14.074017%2C%2057.053976%5D%2C%20%5B14.113097%2C%2057.032209%5D%2C%20%5B14.134599%2C%2057.041974%5D%2C%20%5B14.194718%2C%2056.990266%5D%2C%20%5B14.203745%2C%2056.948287%5D%2C%20%5B14.246998%2C%2056.895574%5D%2C%20%5B14.291757%2C%2056.882473%5D%2C%20%5B14.339491%2C%2056.898104%5D%2C%20%5B14.391922%2C%2056.969435%5D%2C%20%5B14.330163%2C%2057.010519%5D%2C%20%5B14.319967%2C%2057.045335%5D%2C%20%5B14.339561%2C%2057.062396%5D%2C%20%5B14.339753%2C%2057.154452%5D%2C%20%5B14.387274%2C%2057.155035%5D%2C%20%5B14.487092%2C%2057.157714%5D%2C%20%5B14.543757%2C%2057.165607%5D%2C%20%5B14.553088%2C%2057.197626%5D%2C%20%5B14.592126%2C%2057.193761%5D%2C%20%5B14.607963%2C%2057.207366%5D%2C%20%5B14.672048%2C%2057.212999%5D%2C%20%5B14.728704%2C%2057.231638%5D%2C%20%5B14.787426%2C%2057.232074%5D%2C%20%5B14.851394%2C%2057.214141%5D%2C%20%5B14.893132%2C%2057.190151%5D%2C%20%5B14.90985%2C%2057.14045%5D%2C%20%5B14.966587%2C%2057.142711%5D%2C%20%5B14.984682%2C%2057.167005%5D%2C%20%5B15.025798%2C%2057.173733%5D%2C%20%5B15.067522%2C%2057.188847%5D%5D%5D%5D%2C%20%22type%22%3A%20%22MultiPolygon%22%7D%2C%20%22id%22%3A%20%2211%22%2C%20%22properties%22%3A%20%7B%22Frequency%22%3A%206%2C%20%22cartodb_id%22%3A%206%2C%20%22created_at%22%3A%20%222014-09-16T07%3A35%3A21%2B00%3A00%22%2C%20%22name%22%3A%20%22Kronoberg%22%2C%20%22poly_name%22%3A%20%22Kronoberg%22%2C%20%22updated_at%22%3A%20%222014-09-16T07%3A35%3A21%2B00%3A00%22%7D%2C%20%22type%22%3A%20%22Feature%22%7D%2C%20%7B%22bbox%22%3A%20%5B14.780401%2C%2062.147357%2C%2019.278277%2C%2064.026835%5D%2C%20%22geometry%22%3A%20%7B%22coordinates%22%3A%20%5B%5B%5B%5B16.240344%2C%2062.253612%5D%2C%20%5B16.060189%2C%2062.250909%5D%2C%20%5B16.021537%2C%2062.270777%5D%2C%20%5B15.620056%2C%2062.358247%5D%2C%20%5B15.478617%2C%2062.352934%5D%2C%20%5B15.324458%2C%2062.289022%5D%2C%20%5B15.273172%2C%2062.307283%5D%2C%20%5B15.159058%2C%2062.26774%5D%2C%20%5B14.947128%2C%2062.325005%5D%2C%20%5B14.868697%2C%2062.408254%5D%2C%20%5B14.805508%2C%2062.416016%5D%2C%20%5B14.780401%2C%2062.466586%5D%2C%20%5B14.835259%2C%2062.46766%5D%2C%20%5B14.801025%2C%2062.541527%5D%2C%20%5B14.794852%2C%2062.601458%5D%2C%20%5B14.916465%2C%2062.613257%5D%2C%20%5B15.077826%2C%2062.604382%5D%2C%20%5B15.141298%2C%2062.574191%5D%2C%20%5B15.256146%2C%2062.611961%5D%2C%20%5B15.595481%2C%2062.634596%5D%2C%20%5B15.963469%2C%2062.718241%5D%2C%20%5B16.128164%2C%2062.70015%5D%2C%20%5B16.252958%2C%2062.723953%5D%2C%20%5B16.368134%2C%2062.707739%5D%2C%20%5B16.397626%2C%2062.77552%5D%2C%20%5B16.472705%2C%2062.821948%5D%2C%20%5B16.660556%2C%2062.932433%5D%2C%20%5B17.011966%2C%2062.954213%5D%2C%20%5B16.602047%2C%2063.184227%5D%2C%20%5B16.126467%2C%2063.379445%5D%2C%20%5B16.135344%2C%2063.440536%5D%2C%20%5B16.05556%2C%2063.459322%5D%2C%20%5B15.983423%2C%2063.446879%5D%2C%20%5B15.972622%2C%2063.516247%5D%2C%20%5B15.991134%2C%2063.564156%5D%2C%20%5B15.797167%2C%2063.673845%5D%2C%20%5B15.878331%2C%2063.68775%5D%2C%20%5B15.988516%2C%2063.658453%5D%2C%20%5B16.097767%2C%2063.699727%5D%2C%20%5B16.251437%2C%2063.666061%5D%2C%20%5B16.302706%2C%2063.688617%5D%2C%20%5B16.371423%2C%2063.672135%5D%2C%20%5B16.613574%2C%2063.718331%5D%2C%20%5B16.574807%2C%2063.822034%5D%2C%20%5B16.587966%2C%2063.893795%5D%2C%20%5B16.724291%2C%2064.026835%5D%2C%20%5B16.845236%2C%2063.967878%5D%2C%20%5B17.260747%2C%2063.929773%5D%2C%20%5B17.707624%2C%2063.893245%5D%2C%20%5B18.381942%2C%2064.00829%5D%2C%20%5B18.473282%2C%2063.967387%5D%2C%20%5B18.424754%2C%2063.925266%5D%2C%20%5B18.487956%2C%2063.849883%5D%2C%20%5B18.6326%2C%2063.839684%5D%2C%20%5B18.751064%2C%2063.825746%5D%2C%20%5B18.800519%2C%2063.796672%5D%2C%20%5B18.902779%2C%2063.801993%5D%2C%20%5B18.964029%2C%2063.768351%5D%2C%20%5B19.181385%2C%2063.608157%5D%2C%20%5B19.177499%2C%2063.566526%5D%2C%20%5B19.278277%2C%2063.479233%5D%2C%20%5B19.228351%2C%2063.340229%5D%2C%20%5B19.114491%2C%2063.328837%5D%2C%20%5B19.099144%2C%2063.246162%5D%2C%20%5B19.018195%2C%2063.20307%5D%2C%20%5B18.935877%2C%2063.231118%5D%2C%20%5B18.719234%2C%2063.168825%5D%2C%20%5B18.608069%2C%2063.173271%5D%2C%20%5B18.501343%2C%2063.081461%5D%2C%20%5B18.485984%2C%2063.034639%5D%2C%20%5B18.401437%2C%2063.033415%5D%2C%20%5B18.379081%2C%2063.004073%5D%2C%20%5B18.542346%2C%2062.990531%5D%2C%20%5B18.489797%2C%2062.921514%5D%2C%20%5B18.382678%2C%2062.843678%5D%2C%20%5B18.26945%2C%2062.884483%5D%2C%20%5B18.218713%2C%2062.864419%5D%2C%20%5B18.276776%2C%2062.836662%5D%2C%20%5B18.135396%2C%2062.772037%5D%2C%20%5B18.007748%2C%2062.785754%5D%2C%20%5B18.021163%2C%2062.750897%5D%2C%20%5B18.157089%2C%2062.754154%5D%2C%20%5B18.048175%2C%2062.678104%5D%2C%20%5B17.976248%2C%2062.652173%5D%2C%20%5B18.062627%2C%2062.615273%5D%2C%20%5B17.906459%2C%2062.560644%5D%2C%20%5B17.846163%2C%2062.484796%5D%2C%20%5B17.74874%2C%2062.511415%5D%2C%20%5B17.676342%2C%2062.48178%5D%2C%20%5B17.696044%2C%2062.43321%5D%2C%20%5B17.548662%2C%2062.450342%5D%2C%20%5B17.477133%2C%2062.522269%5D%2C%20%5B17.388714%2C%2062.507458%5D%2C%20%5B17.389571%2C%2062.480786%5D%2C%20%5B17.493282%2C%2062.461272%5D%2C%20%5B17.511441%2C%2062.381976%5D%2C%20%5B17.434163%2C%2062.372535%5D%2C%20%5B17.414353%2C%2062.333888%5D%2C%20%5B17.492703%2C%2062.272416%5D%2C%20%5B17.641981%2C%2062.251532%5D%2C%20%5B17.612077%2C%2062.206312%5D%2C%20%5B17.52385%2C%2062.197695%5D%2C%20%5B17.479641%2C%2062.147357%5D%2C%20%5B17.328438%2C%2062.168828%5D%2C%20%5B17.237118%2C%2062.162065%5D%2C%20%5B17.142944%2C%2062.184445%5D%2C%20%5B17.092458%2C%2062.171327%5D%2C%20%5B16.969356%2C%2062.188173%5D%2C%20%5B16.905774%2C%2062.183075%5D%2C%20%5B16.794786%2C%2062.215318%5D%2C%20%5B16.512874%2C%2062.248643%5D%2C%20%5B16.240344%2C%2062.253612%5D%5D%5D%5D%2C%20%22type%22%3A%20%22MultiPolygon%22%7D%2C%20%22id%22%3A%20%2212%22%2C%20%22properties%22%3A%20%7B%22Frequency%22%3A%2015%2C%20%22cartodb_id%22%3A%2018%2C%20%22created_at%22%3A%20%222014-09-16T07%3A35%3A21%2B00%3A00%22%2C%20%22name%22%3A%20%22V%5Cu00e4sternorrland%22%2C%20%22poly_name%22%3A%20%22V%5Cu00e4sternorrland%22%2C%20%22updated_at%22%3A%20%222014-09-16T07%3A35%3A21%2B00%3A00%22%7D%2C%20%22type%22%3A%20%22Feature%22%7D%2C%20%7B%22bbox%22%3A%20%5B15.335467%2C%2056.202265%2C%2017.129441%2C%2058.157968%5D%2C%20%22geometry%22%3A%20%7B%22coordinates%22%3A%20%5B%5B%5B%5B15.73628%2C%2057.070772%5D%2C%20%5B15.66376%2C%2057.087323%5D%2C%20%5B15.626899%2C%2057.131195%5D%2C%20%5B15.535439%2C%2057.153032%5D%2C%20%5B15.555451%2C%2057.184385%5D%2C%20%5B15.529736%2C%2057.199947%5D%2C%20%5B15.498833%2C%2057.24568%5D%2C%20%5B15.465022%2C%2057.25855%5D%2C%20%5B15.459605%2C%2057.311317%5D%2C%20%5B15.506575%2C%2057.328408%5D%2C%20%5B15.489426%2C%2057.372841%5D%2C%20%5B15.50353%2C%2057.391894%5D%2C%20%5B15.498566%2C%2057.446449%5D%2C%20%5B15.546469%2C%2057.467093%5D%2C%20%5B15.602013%2C%2057.445663%5D%2C%20%5B15.605147%2C%2057.490698%5D%2C%20%5B15.635469%2C%2057.50695%5D%2C%20%5B15.621515%2C%2057.534937%5D%2C%20%5B15.577978%2C%2057.555643%5D%2C%20%5B15.653016%2C%2057.607188%5D%2C%20%5B15.512473%2C%2057.666273%5D%2C%20%5B15.440178%2C%2057.674156%5D%2C%20%5B15.41564%2C%2057.700903%5D%2C%20%5B15.428928%2C%2057.747149%5D%2C%20%5B15.456846%2C%2057.767216%5D%2C%20%5B15.516402%2C%2057.761889%5D%2C%20%5B15.536255%2C%2057.796277%5D%2C%20%5B15.590788%2C%2057.824377%5D%2C%20%5B15.580388%2C%2057.853943%5D%2C%20%5B15.670724%2C%2057.86481%5D%2C%20%5B15.778024%2C%2057.845629%5D%2C%20%5B15.79452%2C%2057.813856%5D%2C%20%5B15.866439%2C%2057.832949%5D%2C%20%5B15.919418%2C%2057.813367%5D%2C%20%5B16.018421%2C%2057.861455%5D%2C%20%5B16.066557%2C%2057.864742%5D%2C%20%5B16.019522%2C%2057.95369%5D%2C%20%5B16.064651%2C%2057.972569%5D%2C%20%5B15.984207%2C%2058.035556%5D%2C%20%5B15.998622%2C%2058.087735%5D%2C%20%5B16.091884%2C%2058.088512%5D%2C%20%5B16.116604%2C%2058.063405%5D%2C%20%5B16.175307%2C%2058.066911%5D%2C%20%5B16.151071%2C%2058.108289%5D%2C%20%5B16.178839%2C%2058.124623%5D%2C%20%5B16.25165%2C%2058.157968%5D%2C%20%5B16.293527%2C%2058.133538%5D%2C%20%5B16.371791%2C%2058.151378%5D%2C%20%5B16.468973%2C%2058.084002%5D%2C%20%5B16.500808%2C%2058.116299%5D%2C%20%5B16.561449%2C%2058.099578%5D%2C%20%5B16.612264%2C%2057.989259%5D%2C%20%5B16.688696%2C%2057.98226%5D%2C%20%5B16.748618%2C%2058.004125%5D%2C%20%5B16.76535%2C%2057.922632%5D%2C%20%5B16.743799%2C%2057.864294%5D%2C%20%5B16.685862%2C%2057.890021%5D%2C%20%5B16.600067%2C%2057.899484%5D%2C%20%5B16.533051%2C%2057.847835%5D%2C%20%5B16.617894%2C%2057.780498%5D%2C%20%5B16.69229%2C%2057.753673%5D%2C%20%5B16.693541%2C%2057.704646%5D%2C%20%5B16.635165%2C%2057.686904%5D%2C%20%5B16.605138%2C%2057.647274%5D%2C%20%5B16.639129%2C%2057.621401%5D%2C%20%5B16.706455%2C%2057.634893%5D%2C%20%5B16.705049%2C%2057.602371%5D%2C%20%5B16.670409%2C%2057.584824%5D%2C%20%5B16.578656%2C%2057.58083%5D%2C%20%5B16.668145%2C%2057.521552%5D%2C%20%5B16.689441%2C%2057.485649%5D%2C%20%5B16.654672%2C%2057.426424%5D%2C%20%5B16.618044%2C%2057.37277%5D%2C%20%5B16.547704%2C%2057.372153%5D%2C%20%5B16.557682%2C%2057.317111%5D%2C%20%5B16.480141%2C%2057.286166%5D%2C%20%5B16.498453%2C%2057.23781%5D%2C%20%5B16.462398%2C%2057.198591%5D%2C%20%5B16.497532%2C%2057.132787%5D%2C%20%5B16.58075%2C%2057.110784%5D%2C%20%5B16.490503%2C%2057.039056%5D%2C%20%5B16.454498%2C%2056.985349%5D%2C%20%5B16.460554%2C%2056.94145%5D%2C%20%5B16.435644%2C%2056.887589%5D%2C%20%5B16.406444%2C%2056.796592%5D%2C%20%5B16.442195%2C%2056.808637%5D%2C%20%5B16.469087%2C%2056.783244%5D%2C%20%5B16.438115%2C%2056.76363%5D%2C%20%5B16.39662%2C%2056.782773%5D%2C%20%5B16.353361%2C%2056.682444%5D%2C%20%5B16.279036%2C%2056.672977%5D%2C%20%5B16.23525%2C%2056.625207%5D%2C%20%5B16.221823%2C%2056.59532%5D%2C%20%5B16.224069%2C%2056.548075%5D%2C%20%5B16.186234%2C%2056.539746%5D%2C%20%5B16.162806%2C%2056.494221%5D%2C%20%5B16.119376%2C%2056.470539%5D%2C%20%5B16.083646%2C%2056.403502%5D%2C%20%5B16.051779%2C%2056.324125%5D%2C%20%5B15.987303%2C%2056.306643%5D%2C%20%5B15.945668%2C%2056.32385%5D%2C%20%5B15.850886%2C%2056.320939%5D%2C%20%5B15.793941%2C%2056.342689%5D%2C%20%5B15.730499%2C%2056.410058%5D%2C%20%5B15.677092%2C%2056.418851%5D%2C%20%5B15.655409%2C%2056.444331%5D%2C%20%5B15.639212%2C%2056.470076%5D%2C%20%5B15.590232%2C%2056.469506%5D%2C%20%5B15.56411%2C%2056.500064%5D%2C%20%5B15.492359%2C%2056.515332%5D%2C%20%5B15.481077%2C%2056.482255%5D%2C%20%5B15.397778%2C%2056.499377%5D%2C%20%5B15.335467%2C%2056.486835%5D%2C%20%5B15.341842%2C%2056.544326%5D%2C%20%5B15.370937%2C%2056.558855%5D%2C%20%5B15.361895%2C%2056.604605%5D%2C%20%5B15.418521%2C%2056.646428%5D%2C%20%5B15.40757%2C%2056.672401%5D%2C%20%5B15.419726%2C%2056.715069%5D%2C%20%5B15.357503%2C%2056.778477%5D%2C%20%5B15.436933%2C%2056.797228%5D%2C%20%5B15.540488%2C%2056.80543%5D%2C%20%5B15.551395%2C%2056.836111%5D%2C%20%5B15.509765%2C%2056.898341%5D%2C%20%5B15.511649%2C%2056.917527%5D%2C%20%5B15.553748%2C%2056.929436%5D%2C%20%5B15.651908%2C%2056.910756%5D%2C%20%5B15.692473%2C%2056.915478%5D%2C%20%5B15.809022%2C%2056.920846%5D%2C%20%5B15.841191%2C%2056.976732%5D%2C%20%5B15.798508%2C%2057.022857%5D%2C%20%5B15.73628%2C%2057.070772%5D%5D%5D%2C%20%5B%5B%5B16.520688%2C%2056.765196%5D%2C%20%5B16.574051%2C%2056.823108%5D%2C%20%5B16.608106%2C%2056.882362%5D%2C%20%5B16.648983%2C%2056.901258%5D%2C%20%5B16.708283%2C%2056.900727%5D%2C%20%5B16.739829%2C%2056.961948%5D%2C%20%5B16.771627%2C%2057.010453%5D%2C%20%5B16.81317%2C%2057.031077%5D%2C%20%5B16.843359%2C%2057.072445%5D%2C%20%5B16.889814%2C%2057.125333%5D%2C%20%5B16.915868%2C%2057.176059%5D%2C%20%5B16.904344%2C%2057.209513%5D%2C%20%5B16.944394%2C%2057.222977%5D%2C%20%5B16.955796%2C%2057.254789%5D%2C%20%5B16.965191%2C%2057.304893%5D%2C%20%5B17.019677%2C%2057.348122%5D%2C%20%5B17.061281%2C%2057.366878%5D%2C%20%5B17.083872%2C%2057.350729%5D%2C%20%5B17.112891%2C%2057.359501%5D%2C%20%5B17.129441%2C%2057.320201%5D%2C%20%5B17.078943%2C%2057.305742%5D%2C%20%5B17.053387%2C%2057.271325%5D%2C%20%5B17.067561%2C%2057.248536%5D%2C%20%5B17.065542%2C%2057.188827%5D%2C%20%5B17.038566%2C%2057.174466%5D%2C%20%5B16.987234%2C%2057.116532%5D%2C%20%5B16.950107%2C%2057.048481%5D%2C%20%5B16.910592%2C%2057.049519%5D%2C%20%5B16.935506%2C%2057.016895%5D%2C%20%5B16.879121%2C%2056.990126%5D%2C%20%5B16.87523%2C%2056.921503%5D%2C%20%5B16.853233%2C%2056.899507%5D%2C%20%5B16.855434%2C%2056.868532%5D%2C%20%5B16.826708%2C%2056.832515%5D%2C%20%5B16.778744%2C%2056.825049%5D%2C%20%5B16.702273%2C%2056.678204%5D%2C%20%5B16.683492%2C%2056.62334%5D%2C%20%5B16.691198%2C%2056.601058%5D%2C%20%5B16.638396%2C%2056.572153%5D%2C%20%5B16.630485%2C%2056.525587%5D%2C%20%5B16.599486%2C%2056.464341%5D%2C%20%5B16.557049%2C%2056.409318%5D%2C%20%5B16.571843%2C%2056.375665%5D%2C%20%5B16.506417%2C%2056.29145%5D%2C%20%5B16.473472%2C%2056.233946%5D%2C%20%5B16.407764%2C%2056.202265%5D%2C%20%5B16.416581%2C%2056.254205%5D%2C%20%5B16.397976%2C%2056.271791%5D%2C%20%5B16.405709%2C%2056.43069%5D%2C%20%5B16.384099%2C%2056.435795%5D%2C%20%5B16.378481%2C%2056.537627%5D%2C%20%5B16.388066%2C%2056.578642%5D%2C%20%5B16.438856%2C%2056.627706%5D%2C%20%5B16.45792%2C%2056.680746%5D%2C%20%5B16.520688%2C%2056.765196%5D%5D%5D%5D%2C%20%22type%22%3A%20%22MultiPolygon%22%7D%2C%20%22id%22%3A%20%2213%22%2C%20%22properties%22%3A%20%7B%22Frequency%22%3A%2017%2C%20%22cartodb_id%22%3A%207%2C%20%22created_at%22%3A%20%222014-09-16T07%3A35%3A21%2B00%3A00%22%2C%20%22name%22%3A%20%22Kalmar%22%2C%20%22poly_name%22%3A%20%22Kalmar%22%2C%20%22updated_at%22%3A%20%222014-09-16T07%3A35%3A21%2B00%3A00%22%7D%2C%20%22type%22%3A%20%22Feature%22%7D%2C%20%7B%22bbox%22%3A%20%5B12.459082%2C%2055.340044%2C%2014.594618%2C%2056.532822%5D%2C%20%22geometry%22%3A%20%7B%22coordinates%22%3A%20%5B%5B%5B%5B13.704803%2C%2056.427904%5D%2C%20%5B13.788513%2C%2056.448777%5D%2C%20%5B13.869608%2C%2056.448524%5D%2C%20%5B13.927959%2C%2056.467359%5D%2C%20%5B14.01584%2C%2056.468487%5D%2C%20%5B14.05449%2C%2056.504483%5D%2C%20%5B14.062312%2C%2056.531162%5D%2C%20%5B14.101653%2C%2056.532822%5D%2C%20%5B14.133104%2C%2056.507785%5D%2C%20%5B14.237598%2C%2056.49167%5D%2C%20%5B14.2527%2C%2056.503536%5D%2C%20%5B14.414471%2C%2056.480728%5D%2C%20%5B14.524113%2C%2056.458071%5D%2C%20%5B14.468415%2C%2056.40204%5D%2C%20%5B14.411509%2C%2056.392395%5D%2C%20%5B14.389346%2C%2056.34119%5D%2C%20%5B14.410644%2C%2056.306663%5D%2C%20%5B14.432274%2C%2056.273924%5D%2C%20%5B14.440534%2C%2056.230139%5D%2C%20%5B14.493297%2C%2056.218306%5D%2C%20%5B14.549294%2C%2056.22433%5D%2C%20%5B14.571692%2C%2056.199631%5D%2C%20%5B14.594618%2C%2056.084594%5D%2C%20%5B14.55409%2C%2056.074148%5D%2C%20%5B14.545672%2C%2056.045697%5D%2C%20%5B14.467821%2C%2056.030021%5D%2C%20%5B14.429347%2C%2055.988728%5D%2C%20%5B14.354007%2C%2055.96203%5D%2C%20%5B14.32357%2C%2055.916674%5D%2C%20%5B14.279805%2C%2055.904525%5D%2C%20%5B14.209043%2C%2055.828756%5D%2C%20%5B14.198599%2C%2055.758876%5D%2C%20%5B14.217529%2C%2055.692909%5D%2C%20%5B14.277534%2C%2055.671708%5D%2C%20%5B14.295962%2C%2055.612954%5D%2C%20%5B14.348581%2C%2055.586696%5D%2C%20%5B14.363047%2C%2055.542572%5D%2C%20%5B14.331026%2C%2055.504551%5D%2C%20%5B14.259872%2C%2055.459566%5D%2C%20%5B14.209366%2C%2055.405035%5D%2C%20%5B14.190251%2C%2055.385577%5D%2C%20%5B14.102839%2C%2055.391919%5D%2C%20%5B14.061222%2C%2055.388628%5D%2C%20%5B13.95773%2C%2055.431783%5D%2C%20%5B13.914987%2C%2055.441147%5D%2C%20%5B13.850202%2C%2055.431719%5D%2C%20%5B13.736974%2C%2055.435453%5D%2C%20%5B13.700214%2C%2055.422796%5D%2C%20%5B13.64868%2C%2055.421152%5D%2C%20%5B13.593587%2C%2055.381246%5D%2C%20%5B13.484584%2C%2055.382144%5D%2C%20%5B13.451594%2C%2055.374837%5D%2C%20%5B13.419997%2C%2055.359777%5D%2C%20%5B13.380004%2C%2055.356823%5D%2C%20%5B13.335422%2C%2055.340044%5D%2C%20%5B13.319586%2C%2055.350496%5D%2C%20%5B13.285192%2C%2055.347024%5D%2C%20%5B13.26192%2C%2055.352651%5D%2C%20%5B13.211635%2C%2055.367003%5D%2C%20%5B13.118506%2C%2055.37934%5D%2C%20%5B13.082277%2C%2055.374198%5D%2C%20%5B13.059933%2C%2055.373967%5D%2C%20%5B13.010637%2C%2055.391621%5D%2C%20%5B12.973969%2C%2055.404786%5D%2C%20%5B12.944233%2C%2055.401272%5D%2C%20%5B12.929407%2C%2055.39581%5D%2C%20%5B12.924851%2C%2055.388343%5D%2C%20%5B12.908101%2C%2055.388145%5D%2C%20%5B12.894024%2C%2055.396455%5D%2C%20%5B12.874441%2C%2055.398853%5D%2C%20%5B12.816009%2C%2055.385962%5D%2C%20%5B12.863454%2C%2055.447421%5D%2C%20%5B12.870093%2C%2055.440625%5D%2C%20%5B12.879738%2C%2055.419038%5D%2C%20%5B12.910534%2C%2055.41358%5D%2C%20%5B12.93291%2C%2055.411726%5D%2C%20%5B12.944868%2C%2055.423509%5D%2C%20%5B12.957595%2C%2055.446415%5D%2C%20%5B12.960098%2C%2055.470269%5D%2C%20%5B12.95056%2C%2055.487093%5D%2C%20%5B12.936791%2C%2055.504941%5D%2C%20%5B12.915426%2C%2055.531145%5D%2C%20%5B12.908531%2C%2055.555954%5D%2C%20%5B12.907326%2C%2055.574455%5D%2C%20%5B12.925854%2C%2055.586331%5D%2C%20%5B12.976143%2C%2055.6049%5D%2C%20%5B13.005933%2C%2055.617409%5D%2C%20%5B13.046103%2C%2055.624197%5D%2C%20%5B13.054254%2C%2055.636142%5D%2C%20%5B13.052877%2C%2055.646705%5D%2C%20%5B13.051403%2C%2055.653888%5D%2C%20%5B13.065254%2C%2055.674685%5D%2C%20%5B13.064222%2C%2055.682614%5D%2C%20%5B13.050888%2C%2055.702587%5D%2C%20%5B13.03394%2C%2055.708226%5D%2C%20%5B12.997595%2C%2055.724795%5D%2C%20%5B12.972754%2C%2055.723955%5D%2C%20%5B12.955803%2C%2055.726941%5D%2C%20%5B12.966938%2C%2055.73871%5D%2C%20%5B12.95454%2C%2055.752333%5D%2C%20%5B12.926462%2C%2055.744605%5D%2C%20%5B12.909361%2C%2055.758688%5D%2C%20%5B12.924224%2C%2055.769983%5D%2C%20%5B12.936385%2C%2055.775416%5D%2C%20%5B12.926168%2C%2055.826351%5D%2C%20%5B12.904456%2C%2055.863222%5D%2C%20%5B12.835021%2C%2055.871475%5D%2C%20%5B12.776238%2C%2055.961439%5D%2C%20%5B12.755568%2C%2056.010514%5D%2C%20%5B12.713062%2C%2056.051815%5D%2C%20%5B12.662877%2C%2056.084406%5D%2C%20%5B12.619252%2C%2056.118513%5D%2C%20%5B12.585542%2C%2056.139008%5D%2C%20%5B12.572806%2C%2056.156307%5D%2C%20%5B12.551969%2C%2056.218332%5D%2C%20%5B12.536479%2C%2056.247741%5D%2C%20%5B12.501946%2C%2056.279642%5D%2C%20%5B12.459082%2C%2056.297443%5D%2C%20%5B12.504727%2C%2056.301149%5D%2C%20%5B12.597509%2C%2056.270647%5D%2C%20%5B12.678047%2C%2056.245949%5D%2C%20%5B12.704247%2C%2056.225124%5D%2C%20%5B12.733341%2C%2056.225788%5D%2C%20%5B12.76797%2C%2056.219922%5D%2C%20%5B12.790147%2C%2056.217239%5D%2C%20%5B12.82775%2C%2056.232861%5D%2C%20%5B12.847986%2C%2056.262693%5D%2C%20%5B12.820131%2C%2056.294435%5D%2C%20%5B12.769041%2C%2056.322269%5D%2C%20%5B12.744681%2C%2056.356866%5D%2C%20%5B12.692902%2C%2056.380484%5D%2C%20%5B12.63893%2C%2056.387958%5D%2C%20%5B12.631311%2C%2056.427886%5D%2C%20%5B12.679777%2C%2056.45125%5D%2C%20%5B12.726867%2C%2056.463849%5D%2C%20%5B12.796072%2C%2056.448529%5D%2C%20%5B12.845413%2C%2056.430363%5D%2C%20%5B12.90351%2C%2056.444262%5D%2C%20%5B12.970531%2C%2056.421723%5D%2C%20%5B12.946641%2C%2056.367426%5D%2C%20%5B12.991069%2C%2056.361417%5D%2C%20%5B13.151296%2C%2056.351128%5D%2C%20%5B13.201848%2C%2056.328545%5D%2C%20%5B13.245562%2C%2056.354316%5D%2C%20%5B13.30239%2C%2056.38791%5D%2C%20%5B13.377822%2C%2056.415257%5D%2C%20%5B13.419671%2C%2056.413411%5D%2C%20%5B13.456948%2C%2056.430976%5D%2C%20%5B13.496908%2C%2056.40995%5D%2C%20%5B13.576733%2C%2056.409336%5D%2C%20%5B13.704803%2C%2056.427904%5D%5D%5D%5D%2C%20%22type%22%3A%20%22MultiPolygon%22%7D%2C%20%22id%22%3A%20%2214%22%2C%20%22properties%22%3A%20%7B%22Frequency%22%3A%2013%2C%20%22cartodb_id%22%3A%2010%2C%20%22created_at%22%3A%20%222014-09-16T07%3A35%3A21%2B00%3A00%22%2C%20%22name%22%3A%20%22Sk%5Cu00e5ne%22%2C%20%22poly_name%22%3A%20%22Sk%5Cu00e5ne%22%2C%20%22updated_at%22%3A%20%222014-09-16T07%3A35%3A21%2B00%3A00%22%7D%2C%20%22type%22%3A%20%22Feature%22%7D%2C%20%7B%22bbox%22%3A%20%5B11.926583%2C%2056.328545%2C%2013.692812%2C%2057.604219%5D%2C%20%22geometry%22%3A%20%7B%22coordinates%22%3A%20%5B%5B%5B%5B13.296026%2C%2056.847312%5D%2C%20%5B13.321794%2C%2056.772887%5D%2C%20%5B13.325975%2C%2056.693385%5D%2C%20%5B13.373456%2C%2056.662475%5D%2C%20%5B13.401812%2C%2056.613742%5D%2C%20%5B13.416884%2C%2056.584827%5D%2C%20%5B13.443759%2C%2056.569216%5D%2C%20%5B13.474169%2C%2056.51376%5D%2C%20%5B13.448121%2C%2056.471648%5D%2C%20%5B13.471123%2C%2056.452579%5D%2C%20%5B13.456948%2C%2056.430976%5D%2C%20%5B13.419671%2C%2056.413411%5D%2C%20%5B13.377822%2C%2056.415257%5D%2C%20%5B13.30239%2C%2056.38791%5D%2C%20%5B13.245562%2C%2056.354316%5D%2C%20%5B13.201848%2C%2056.328545%5D%2C%20%5B13.151296%2C%2056.351128%5D%2C%20%5B12.991069%2C%2056.361417%5D%2C%20%5B12.946641%2C%2056.367426%5D%2C%20%5B12.970531%2C%2056.421723%5D%2C%20%5B12.90351%2C%2056.444262%5D%2C%20%5B12.935497%2C%2056.471808%5D%2C%20%5B12.95273%2C%2056.501739%5D%2C%20%5B12.954111%2C%2056.549732%5D%2C%20%5B12.939851%2C%2056.594158%5D%2C%20%5B12.907849%2C%2056.6441%5D%2C%20%5B12.848533%2C%2056.662677%5D%2C%20%5B12.79345%2C%2056.641417%5D%2C%20%5B12.738123%2C%2056.641763%5D%2C%20%5B12.695595%2C%2056.688429%5D%2C%20%5B12.658728%2C%2056.729456%5D%2C%20%5B12.622124%2C%2056.781272%5D%2C%20%5B12.623209%2C%2056.829868%5D%2C%20%5B12.564654%2C%2056.857258%5D%2C%20%5B12.486918%2C%2056.888921%5D%2C%20%5B12.410002%2C%2056.902488%5D%2C%20%5B12.358411%2C%2056.934926%5D%2C%20%5B12.372324%2C%2056.966843%5D%2C%20%5B12.369216%2C%2056.993591%5D%2C%20%5B12.340646%2C%2057.028146%5D%2C%20%5B12.293082%2C%2057.044227%5D%2C%20%5B12.261487%2C%2057.083183%5D%2C%20%5B12.248511%2C%2057.139504%5D%2C%20%5B12.197422%2C%2057.182699%5D%2C%20%5B12.132524%2C%2057.22273%5D%2C%20%5B12.133919%2C%2057.262323%5D%2C%20%5B12.182224%2C%2057.27692%5D%2C%20%5B12.174475%2C%2057.303846%5D%2C%20%5B12.163444%2C%2057.337614%5D%2C%20%5B12.148925%2C%2057.346736%5D%2C%20%5B12.114319%2C%2057.341222%5D%2C%20%5B12.10071%2C%2057.350914%5D%2C%20%5B12.122603%2C%2057.387075%5D%2C%20%5B12.121925%2C%2057.43474%5D%2C%20%5B12.111085%2C%2057.455794%5D%2C%20%5B12.091944%2C%2057.46154%5D%2C%20%5B12.072513%2C%2057.450127%5D%2C%20%5B12.059222%2C%2057.426068%5D%2C%20%5B12.039651%2C%2057.376592%5D%2C%20%5B12.02846%2C%2057.361176%5D%2C%20%5B12.011443%2C%2057.355738%5D%2C%20%5B11.987485%2C%2057.361295%5D%2C%20%5B11.970097%2C%2057.378876%5D%2C%20%5B11.93306%2C%2057.426275%5D%2C%20%5B11.926583%2C%2057.442119%5D%2C%20%5B11.933512%2C%2057.460596%5D%2C%20%5B11.957738%2C%2057.501684%5D%2C%20%5B11.952149%2C%2057.52774%5D%2C%20%5B11.947128%2C%2057.561146%5D%2C%20%5B12.01304%2C%2057.56284%5D%2C%20%5B12.038235%2C%2057.549647%5D%2C%20%5B12.138047%2C%2057.562313%5D%2C%20%5B12.205408%2C%2057.576467%5D%2C%20%5B12.28382%2C%2057.604219%5D%2C%20%5B12.342632%2C%2057.567772%5D%2C%20%5B12.326534%2C%2057.529183%5D%2C%20%5B12.343708%2C%2057.512618%5D%2C%20%5B12.354384%2C%2057.492073%5D%2C%20%5B12.344697%2C%2057.469243%5D%2C%20%5B12.355498%2C%2057.457821%5D%2C%20%5B12.381394%2C%2057.452795%5D%2C%20%5B12.396931%2C%2057.443134%5D%2C%20%5B12.411514%2C%2057.410946%5D%2C%20%5B12.395482%2C%2057.341994%5D%2C%20%5B12.430555%2C%2057.320584%5D%2C%20%5B12.427689%2C%2057.272028%5D%2C%20%5B12.505214%2C%2057.280047%5D%2C%20%5B12.527399%2C%2057.32251%5D%2C%20%5B12.652677%2C%2057.337719%5D%2C%20%5B12.705254%2C%2057.332145%5D%2C%20%5B12.798433%2C%2057.289108%5D%2C%20%5B12.858092%2C%2057.267657%5D%2C%20%5B12.930822%2C%2057.266621%5D%2C%20%5B12.953051%2C%2057.236923%5D%2C%20%5B12.932%2C%2057.228743%5D%2C%20%5B12.940984%2C%2057.176131%5D%2C%20%5B13.011819%2C%2057.185922%5D%2C%20%5B13.057045%2C%2057.178701%5D%2C%20%5B13.047313%2C%2057.157465%5D%2C%20%5B13.072537%2C%2057.14924%5D%2C%20%5B13.100658%2C%2057.160712%5D%2C%20%5B13.133071%2C%2057.149162%5D%2C%20%5B13.085785%2C%2057.127078%5D%2C%20%5B13.089936%2C%2057.095662%5D%2C%20%5B13.130984%2C%2057.031503%5D%2C%20%5B13.22009%2C%2057.07646%5D%2C%20%5B13.227982%2C%2057.10678%5D%2C%20%5B13.269247%2C%2057.096025%5D%2C%20%5B13.358339%2C%2057.117461%5D%2C%20%5B13.45944%2C%2057.109478%5D%2C%20%5B13.484658%2C%2057.122793%5D%2C%20%5B13.496227%2C%2057.09163%5D%2C%20%5B13.52657%2C%2057.095698%5D%2C%20%5B13.608011%2C%2057.068616%5D%2C%20%5B13.592135%2C%2057.031454%5D%2C%20%5B13.619938%2C%2056.999543%5D%2C%20%5B13.684731%2C%2056.986377%5D%2C%20%5B13.692812%2C%2056.961956%5D%2C%20%5B13.660061%2C%2056.902122%5D%2C%20%5B13.621803%2C%2056.909283%5D%2C%20%5B13.612393%2C%2056.891674%5D%2C%20%5B13.533333%2C%2056.88982%5D%2C%20%5B13.486996%2C%2056.866637%5D%2C%20%5B13.469148%2C%2056.878251%5D%2C%20%5B13.371326%2C%2056.860895%5D%2C%20%5B13.340123%2C%2056.87126%5D%2C%20%5B13.296026%2C%2056.847312%5D%5D%5D%5D%2C%20%22type%22%3A%20%22MultiPolygon%22%7D%2C%20%22id%22%3A%20%2215%22%2C%20%22properties%22%3A%20%7B%22Frequency%22%3A%208%2C%20%22cartodb_id%22%3A%2011%2C%20%22created_at%22%3A%20%222014-09-16T07%3A35%3A21%2B00%3A00%22%2C%20%22name%22%3A%20%22Halland%22%2C%20%22poly_name%22%3A%20%22Halland%22%2C%20%22updated_at%22%3A%20%222014-09-16T07%3A35%3A21%2B00%3A00%22%7D%2C%20%22type%22%3A%20%22Feature%22%7D%2C%20%7B%22bbox%22%3A%20%5B14.500716%2C%2060.199881%2C%2017.507291%2C%2062.358247%5D%2C%20%22geometry%22%3A%20%7B%22coordinates%22%3A%20%5B%5B%5B%5B16.400903%2C%2060.787688%5D%2C%20%5B16.240161%2C%2060.878355%5D%2C%20%5B16.142542%2C%2061.000705%5D%2C%20%5B15.934091%2C%2061.012191%5D%2C%20%5B15.758098%2C%2061.060165%5D%2C%20%5B15.68075%2C%2061.131433%5D%2C%20%5B15.654308%2C%2061.223408%5D%2C%20%5B15.230175%2C%2061.512417%5D%2C%20%5B15.159007%2C%2061.604053%5D%2C%20%5B15.069327%2C%2061.492816%5D%2C%20%5B14.917187%2C%2061.505747%5D%2C%20%5B14.802598%2C%2061.500438%5D%2C%20%5B14.7484%2C%2061.512063%5D%2C%20%5B14.647643%2C%2061.500556%5D%2C%20%5B14.684107%2C%2061.547636%5D%2C%20%5B14.657637%2C%2061.601272%5D%2C%20%5B14.500716%2C%2061.630198%5D%2C%20%5B14.526671%2C%2061.791608%5D%2C%20%5B14.689947%2C%2061.912379%5D%2C%20%5B14.72885%2C%2061.879853%5D%2C%20%5B14.798338%2C%2061.900077%5D%2C%20%5B14.872821%2C%2061.838701%5D%2C%20%5B14.895676%2C%2061.890023%5D%2C%20%5B15.040013%2C%2061.884827%5D%2C%20%5B15.103666%2C%2061.861808%5D%2C%20%5B15.102949%2C%2061.908844%5D%2C%20%5B15.111489%2C%2061.962674%5D%2C%20%5B15.083342%2C%2062.007467%5D%2C%20%5B15.412374%2C%2062.128381%5D%2C%20%5B15.395662%2C%2062.203418%5D%2C%20%5B15.334493%2C%2062.222802%5D%2C%20%5B15.324458%2C%2062.289022%5D%2C%20%5B15.478617%2C%2062.352934%5D%2C%20%5B15.620056%2C%2062.358247%5D%2C%20%5B16.021537%2C%2062.270777%5D%2C%20%5B16.060189%2C%2062.250909%5D%2C%20%5B16.240344%2C%2062.253612%5D%2C%20%5B16.512874%2C%2062.248643%5D%2C%20%5B16.794786%2C%2062.215318%5D%2C%20%5B16.905774%2C%2062.183075%5D%2C%20%5B16.969356%2C%2062.188173%5D%2C%20%5B17.092458%2C%2062.171327%5D%2C%20%5B17.142944%2C%2062.184445%5D%2C%20%5B17.237118%2C%2062.162065%5D%2C%20%5B17.328438%2C%2062.168828%5D%2C%20%5B17.479641%2C%2062.147357%5D%2C%20%5B17.435511%2C%2062.012866%5D%2C%20%5B17.359166%2C%2061.952556%5D%2C%20%5B17.316862%2C%2061.863951%5D%2C%20%5B17.386407%2C%2061.82726%5D%2C%20%5B17.37985%2C%2061.767777%5D%2C%20%5B17.413586%2C%2061.740101%5D%2C%20%5B17.507291%2C%2061.721092%5D%2C%20%5B17.469909%2C%2061.636428%5D%2C%20%5B17.40851%2C%2061.647814%5D%2C%20%5B17.373822%2C%2061.684646%5D%2C%20%5B17.269431%2C%2061.706085%5D%2C%20%5B17.2246%2C%2061.658208%5D%2C%20%5B17.174063%2C%2061.60342%5D%2C%20%5B17.113034%2C%2061.551137%5D%2C%20%5B17.178911%2C%2061.477847%5D%2C%20%5B17.105967%2C%2061.418484%5D%2C%20%5B17.120133%2C%2061.367343%5D%2C%20%5B17.239516%2C%2061.297763%5D%2C%20%5B17.202239%2C%2061.234876%5D%2C%20%5B17.1323%2C%2061.201373%5D%2C%20%5B17.158032%2C%2061.056875%5D%2C%20%5B17.14333%2C%2061.031836%5D%2C%20%5B17.220497%2C%2061.001286%5D%2C%20%5B17.161579%2C%2060.952561%5D%2C%20%5B17.27052%2C%2060.852668%5D%2C%20%5B17.237354%2C%2060.802248%5D%2C%20%5B17.343995%2C%2060.747795%5D%2C%20%5B17.216431%2C%2060.691094%5D%2C%20%5B17.350723%2C%2060.652299%5D%2C%20%5B17.300719%2C%2060.471103%5D%2C%20%5B17.204033%2C%2060.428678%5D%2C%20%5B17.199449%2C%2060.30916%5D%2C%20%5B17.100329%2C%2060.268682%5D%2C%20%5B16.905685%2C%2060.287104%5D%2C%20%5B16.864918%2C%2060.262563%5D%2C%20%5B16.881085%2C%2060.241555%5D%2C%20%5B16.797354%2C%2060.20168%5D%2C%20%5B16.720361%2C%2060.199881%5D%2C%20%5B16.639214%2C%2060.237297%5D%2C%20%5B16.628302%2C%2060.292395%5D%2C%20%5B16.587553%2C%2060.304058%5D%2C%20%5B16.579017%2C%2060.340872%5D%2C%20%5B16.52059%2C%2060.364499%5D%2C%20%5B16.40304%2C%2060.381503%5D%2C%20%5B16.300985%2C%2060.483233%5D%2C%20%5B16.275301%2C%2060.511983%5D%2C%20%5B16.233247%2C%2060.519969%5D%2C%20%5B16.147161%2C%2060.604859%5D%2C%20%5B16.241252%2C%2060.618551%5D%2C%20%5B16.322127%2C%2060.679508%5D%2C%20%5B16.304972%2C%2060.713166%5D%2C%20%5B16.374772%2C%2060.73975%5D%2C%20%5B16.400903%2C%2060.787688%5D%5D%5D%5D%2C%20%22type%22%3A%20%22MultiPolygon%22%7D%2C%20%22id%22%3A%20%2216%22%2C%20%22properties%22%3A%20%7B%22Frequency%22%3A%2019%2C%20%22cartodb_id%22%3A%2017%2C%20%22created_at%22%3A%20%222014-09-16T07%3A35%3A21%2B00%3A00%22%2C%20%22name%22%3A%20%22G%5Cu00e4vleborg%22%2C%20%22poly_name%22%3A%20%22G%5Cu00e4vleborg%22%2C%20%22updated_at%22%3A%20%222014-09-16T07%3A35%3A21%2B00%3A00%22%7D%2C%20%22type%22%3A%20%22Feature%22%7D%2C%20%7B%22bbox%22%3A%20%5B11.131293%2C%2057.149162%2C%2014.721309%2C%2059.273605%5D%2C%20%22geometry%22%3A%20%7B%22coordinates%22%3A%20%5B%5B%5B%5B12.28382%2C%2057.604219%5D%2C%20%5B12.205408%2C%2057.576467%5D%2C%20%5B12.138047%2C%2057.562313%5D%2C%20%5B12.038235%2C%2057.549647%5D%2C%20%5B12.01304%2C%2057.56284%5D%2C%20%5B11.947128%2C%2057.561146%5D%2C%20%5B11.951252%2C%2057.585063%5D%2C%20%5B11.95174%2C%2057.628488%5D%2C%20%5B11.941955%2C%2057.637779%5D%2C%20%5B11.925858%2C%2057.622177%5D%2C%20%5B11.91307%2C%2057.622241%5D%2C%20%5B11.881982%2C%2057.666102%5D%2C%20%5B11.880221%2C%2057.673543%5D%2C%20%5B11.887225%2C%2057.68184%5D%2C%20%5B11.957646%2C%2057.70588%5D%2C%20%5B11.938011%2C%2057.705164%5D%2C%20%5B11.90815%2C%2057.698692%5D%2C%20%5B11.893788%2C%2057.704055%5D%2C%20%5B11.849106%2C%2057.698098%5D%2C%20%5B11.830715%2C%2057.713484%5D%2C%20%5B11.814672%2C%2057.716106%5D%2C%20%5B11.801218%2C%2057.712922%5D%2C%20%5B11.7967%2C%2057.69988%5D%2C%20%5B11.785194%2C%2057.696755%5D%2C%20%5B11.772456%2C%2057.696278%5D%2C%20%5B11.755433%2C%2057.698834%5D%2C%20%5B11.739093%2C%2057.71323%5D%2C%20%5B11.73149%2C%2057.719898%5D%2C%20%5B11.731252%2C%2057.728735%5D%2C%20%5B11.748637%2C%2057.743613%5D%2C%20%5B11.783166%2C%2057.752958%5D%2C%20%5B11.818884%2C%2057.760209%5D%2C%20%5B11.828031%2C%2057.792001%5D%2C%20%5B11.80768%2C%2057.791413%5D%2C%20%5B11.778343%2C%2057.788695%5D%2C%20%5B11.766144%2C%2057.791982%5D%2C%20%5B11.759913%2C%2057.813185%5D%2C%20%5B11.751147%2C%2057.820895%5D%2C%20%5B11.729207%2C%2057.83184%5D%2C%20%5B11.716338%2C%2057.840998%5D%2C%20%5B11.72179%2C%2057.854611%5D%2C%20%5B11.740914%2C%2057.869815%5D%2C%20%5B11.752337%2C%2057.883115%5D%2C%20%5B11.760183%2C%2057.902169%5D%2C%20%5B11.790193%2C%2057.936541%5D%2C%20%5B11.776086%2C%2057.947796%5D%2C%20%5B11.77563%2C%2057.961183%5D%2C%20%5B11.78147%2C%2057.971228%5D%2C%20%5B11.830825%2C%2058.001778%5D%2C%20%5B11.841445%2C%2058.026188%5D%2C%20%5B11.841733%2C%2058.048047%5D%2C%20%5B11.833854%2C%2058.070136%5D%2C%20%5B11.828889%2C%2058.092019%5D%2C%20%5B11.845925%2C%2058.104755%5D%2C%20%5B11.865616%2C%2058.11954%5D%2C%20%5B11.880358%2C%2058.137126%5D%2C%20%5B11.883465%2C%2058.162459%5D%2C%20%5B11.876274%2C%2058.185686%5D%2C%20%5B11.89552%2C%2058.189405%5D%2C%20%5B11.918856%2C%2058.204301%5D%2C%20%5B11.919807%2C%2058.220669%5D%2C%20%5B11.88959%2C%2058.219897%5D%2C%20%5B11.886804%2C%2058.241741%5D%2C%20%5B11.865851%2C%2058.262657%5D%2C%20%5B11.833171%2C%2058.289326%5D%2C%20%5B11.839332%2C%2058.302118%5D%2C%20%5B11.878747%2C%2058.326946%5D%2C%20%5B11.816703%2C%2058.324593%5D%2C%20%5B11.771208%2C%2058.331774%5D%2C%20%5B11.733538%2C%2058.328575%5D%2C%20%5B11.753517%2C%2058.317058%5D%2C%20%5B11.743979%2C%2058.30685%5D%2C%20%5B11.70483%2C%2058.306642%5D%2C%20%5B11.68391%2C%2058.283048%5D%2C%20%5B11.658211%2C%2058.267582%5D%2C%20%5B11.634091%2C%2058.257438%5D%2C%20%5B11.60329%2C%2058.253569%5D%2C%20%5B11.589573%2C%2058.233988%5D%2C%20%5B11.565505%2C%2058.216902%5D%2C%20%5B11.530363%2C%2058.207701%5D%2C%20%5B11.481945%2C%2058.200979%5D%2C%20%5B11.438972%2C%2058.198714%5D%2C%20%5B11.431412%2C%2058.204792%5D%2C%20%5B11.455638%2C%2058.229183%5D%2C%20%5B11.470954%2C%2058.241913%5D%2C%20%5B11.499673%2C%2058.24632%5D%2C%20%5B11.525143%2C%2058.256499%5D%2C%20%5B11.54892%2C%2058.272091%5D%2C%20%5B11.563354%2C%2058.28477%5D%2C%20%5B11.559542%2C%2058.311565%5D%2C%20%5B11.53676%2C%2058.301771%5D%2C%20%5B11.512772%2C%2058.28119%5D%2C%20%5B11.493368%2C%2058.269695%5D%2C%20%5B11.453017%2C%2058.265547%5D%2C%20%5B11.448132%2C%2058.273219%5D%2C%20%5B11.464362%2C%2058.282942%5D%2C%20%5B11.471228%2C%2058.300606%5D%2C%20%5B11.446979%2C%2058.302828%5D%2C%20%5B11.42899%2C%2058.308676%5D%2C%20%5B11.437189%2C%2058.326235%5D%2C%20%5B11.445232%2C%2058.347608%5D%2C%20%5B11.414529%2C%2058.342601%5D%2C%20%5B11.413625%2C%2058.373927%5D%2C%20%5B11.384347%2C%2058.35794%5D%2C%20%5B11.359483%2C%2058.361959%5D%2C%20%5B11.349293%2C%2058.371259%5D%2C%20%5B11.334611%2C%2058.372616%5D%2C%20%5B11.326014%2C%2058.360808%5D%2C%20%5B11.293368%2C%2058.349212%5D%2C%20%5B11.25874%2C%2058.348263%5D%2C%20%5B11.253238%2C%2058.357912%5D%2C%20%5B11.279146%2C%2058.375573%5D%2C%20%5B11.273666%2C%2058.387318%5D%2C%20%5B11.269261%2C%2058.401061%5D%2C%20%5B11.265779%2C%2058.418775%5D%2C%20%5B11.272819%2C%2058.432241%5D%2C%20%5B11.2919%2C%2058.435433%5D%2C%20%5B11.299707%2C%2058.421054%5D%2C%20%5B11.312036%2C%2058.420319%5D%2C%20%5B11.332528%2C%2058.427618%5D%2C%20%5B11.336929%2C%2058.439935%5D%2C%20%5B11.330107%2C%2058.453398%5D%2C%20%5B11.326823%2C%2058.46773%5D%2C%20%5B11.270949%2C%2058.562789%5D%2C%20%5B11.309444%2C%2058.5957%5D%2C%20%5B11.254891%2C%2058.683206%5D%2C%20%5B11.177406%2C%2058.747358%5D%2C%20%5B11.17934%2C%2058.834801%5D%2C%20%5B11.171769%2C%2058.858076%5D%2C%20%5B11.131452%2C%2058.90947%5D%2C%20%5B11.131539%2C%2058.924489%5D%2C%20%5B11.136189%2C%2058.927903%5D%2C%20%5B11.160145%2C%2058.924083%5D%2C%20%5B11.173121%2C%2058.926239%5D%2C%20%5B11.170864%2C%2058.935797%5D%2C%20%5B11.141765%2C%2058.955482%5D%2C%20%5B11.134045%2C%2058.967494%5D%2C%20%5B11.131293%2C%2059.011891%5D%2C%20%5B11.211269%2C%2059.089757%5D%2C%20%5B11.252596%2C%2059.095218%5D%2C%20%5B11.278303%2C%2059.102718%5D%2C%20%5B11.315514%2C%2059.116563%5D%2C%20%5B11.359249%2C%2059.111365%5D%2C%20%5B11.454773%2C%2059.018137%5D%2C%20%5B11.444851%2C%2058.923398%5D%2C%20%5B11.451974%2C%2058.898477%5D%2C%20%5B11.504781%2C%2058.881173%5D%2C%20%5B11.649788%2C%2058.918813%5D%2C%20%5B11.676187%2C%2058.960799%5D%2C%20%5B11.673254%2C%2058.994994%5D%2C%20%5B11.7063%2C%2059.045551%5D%2C%20%5B11.776201%2C%2059.106587%5D%2C%20%5B11.754602%2C%2059.125083%5D%2C%20%5B11.758427%2C%2059.208831%5D%2C%20%5B11.820183%2C%2059.235573%5D%2C%20%5B11.948192%2C%2059.262415%5D%2C%20%5B12.084338%2C%2059.197095%5D%2C%20%5B12.061838%2C%2059.271632%5D%2C%20%5B12.230906%2C%2059.273605%5D%2C%20%5B12.267497%2C%2059.20217%5D%2C%20%5B12.346281%2C%2059.187016%5D%2C%20%5B12.421316%2C%2059.19716%5D%2C%20%5B12.464286%2C%2059.144925%5D%2C%20%5B12.574241%2C%2059.134316%5D%2C%20%5B12.638742%2C%2059.195179%5D%2C%20%5B12.710107%2C%2059.178242%5D%2C%20%5B12.766164%2C%2059.152815%5D%2C%20%5B12.772443%2C%2059.070446%5D%2C%20%5B12.688351%2C%2058.986802%5D%2C%20%5B12.652686%2C%2058.955636%5D%2C%20%5B12.63839%2C%2058.878711%5D%2C%20%5B12.558393%2C%2058.809461%5D%2C%20%5B12.492763%2C%2058.750499%5D%2C%20%5B12.49869%2C%2058.692684%5D%2C%20%5B12.546692%2C%2058.665834%5D%2C%20%5B12.649465%2C%2058.662252%5D%2C%20%5B12.67118%2C%2058.645274%5D%2C%20%5B12.623171%2C%2058.621761%5D%2C%20%5B12.566165%2C%2058.582334%5D%2C%20%5B12.525799%2C%2058.538121%5D%2C%20%5B12.465242%2C%2058.495786%5D%2C%20%5B12.386182%2C%2058.467852%5D%2C%20%5B12.328986%2C%2058.42295%5D%2C%20%5B12.328423%2C%2058.392375%5D%2C%20%5B12.41974%2C%2058.385714%5D%2C%20%5B12.455889%2C%2058.400691%5D%2C%20%5B12.513214%2C%2058.395125%5D%2C%20%5B12.594494%2C%2058.464311%5D%2C%20%5B12.652406%2C%2058.462264%5D%2C%20%5B12.63377%2C%2058.40215%5D%2C%20%5B12.704497%2C%2058.418985%5D%2C%20%5B12.700731%2C%2058.440733%5D%2C%20%5B12.772562%2C%2058.488557%5D%2C%20%5B12.890811%2C%2058.5004%5D%2C%20%5B12.950172%2C%2058.554006%5D%2C%20%5B12.945991%2C%2058.572184%5D%2C%20%5B13.009982%2C%2058.609379%5D%2C%20%5B13.113446%2C%2058.700888%5D%2C%20%5B13.181431%2C%2058.694621%5D%2C%20%5B13.223476%2C%2058.676736%5D%2C%20%5B13.18945%2C%2058.613221%5D%2C%20%5B13.136942%2C%2058.517982%5D%2C%20%5B13.175926%2C%2058.503833%5D%2C%20%5B13.255062%2C%2058.498272%5D%2C%20%5B13.301454%2C%2058.516826%5D%2C%20%5B13.319078%2C%2058.562966%5D%2C%20%5B13.344444%2C%2058.614199%5D%2C%20%5B13.432596%2C%2058.648431%5D%2C%20%5B13.528538%2C%2058.666052%5D%2C%20%5B13.612691%2C%2058.694932%5D%2C%20%5B13.702671%2C%2058.69646%5D%2C%20%5B13.769925%2C%2058.706144%5D%2C%20%5B13.860304%2C%2058.749028%5D%2C%20%5B13.888718%2C%2058.773007%5D%2C%20%5B13.852538%2C%2058.783644%5D%2C%20%5B13.780747%2C%2058.768788%5D%2C%20%5B13.736479%2C%2058.752693%5D%2C%20%5B13.725446%2C%2058.789244%5D%2C%20%5B13.664751%2C%2058.818909%5D%2C%20%5B13.684298%2C%2058.852333%5D%2C%20%5B13.855077%2C%2058.837632%5D%2C%20%5B13.907244%2C%2058.819077%5D%2C%20%5B13.964893%2C%2058.850748%5D%2C%20%5B14.004635%2C%2058.898252%5D%2C%20%5B14.021771%2C%2058.954591%5D%2C%20%5B14.002573%2C%2059.002372%5D%2C%20%5B14.116709%2C%2059.041012%5D%2C%20%5B14.21002%2C%2059.042257%5D%2C%20%5B14.267813%2C%2058.999752%5D%2C%20%5B14.308242%2C%2058.893022%5D%2C%20%5B14.370254%2C%2058.87013%5D%2C%20%5B14.326612%2C%2058.834155%5D%2C%20%5B14.402287%2C%2058.799166%5D%2C%20%5B14.457483%2C%2058.797169%5D%2C%20%5B14.467983%2C%2058.724364%5D%2C%20%5B14.537479%2C%2058.724502%5D%2C%20%5B14.546088%2C%2058.696942%5D%2C%20%5B14.596271%2C%2058.705252%5D%2C%20%5B14.624916%2C%2058.745372%5D%2C%20%5B14.684126%2C%2058.745955%5D%2C%20%5B14.721309%2C%2058.701787%5D%2C%20%5B14.671165%2C%2058.668719%5D%2C%20%5B14.587619%2C%2058.647682%5D%2C%20%5B14.541718%2C%2058.624721%5D%2C%20%5B14.540202%2C%2058.581456%5D%2C%20%5B14.532587%2C%2058.542127%5D%2C%20%5B14.490209%2C%2058.482861%5D%2C%20%5B14.450056%2C%2058.470421%5D%2C%20%5B14.397493%2C%2058.404415%5D%2C%20%5B14.351322%2C%2058.347124%5D%2C%20%5B14.281005%2C%2058.300016%5D%2C%20%5B14.253929%2C%2058.227334%5D%2C%20%5B14.219037%2C%2058.185715%5D%2C%20%5B14.212836%2C%2058.145696%5D%2C%20%5B14.113049%2C%2058.151675%5D%2C%20%5B14.114025%2C%2058.075251%5D%2C%20%5B14.071584%2C%2058.046581%5D%2C%20%5B14.068404%2C%2058.028694%5D%2C%20%5B13.959974%2C%2058.009422%5D%2C%20%5B13.950773%2C%2058.0342%5D%2C%20%5B13.875628%2C%2058.050289%5D%2C%20%5B13.846553%2C%2058.038987%5D%2C%20%5B13.798256%2C%2058.053807%5D%2C%20%5B13.776144%2C%2058.049999%5D%2C%20%5B13.757648%2C%2058.014156%5D%2C%20%5B13.70825%2C%2057.982097%5D%2C%20%5B13.70867%2C%2057.937584%5D%2C%20%5B13.748984%2C%2057.882884%5D%2C%20%5B13.74124%2C%2057.843556%5D%2C%20%5B13.742481%2C%2057.764137%5D%2C%20%5B13.710713%2C%2057.734912%5D%2C%20%5B13.707236%2C%2057.707407%5D%2C%20%5B13.736587%2C%2057.668812%5D%2C%20%5B13.721829%2C%2057.64062%5D%2C%20%5B13.676211%2C%2057.628246%5D%2C%20%5B13.672666%2C%2057.606756%5D%2C%20%5B13.681863%2C%2057.561258%5D%2C%20%5B13.667189%2C%2057.533059%5D%2C%20%5B13.62086%2C%2057.515298%5D%2C%20%5B13.508062%2C%2057.415684%5D%2C%20%5B13.485828%2C%2057.380595%5D%2C%20%5B13.429862%2C%2057.363185%5D%2C%20%5B13.429498%2C%2057.339761%5D%2C%20%5B13.385212%2C%2057.332655%5D%2C%20%5B13.36894%2C%2057.313522%5D%2C%20%5B13.293275%2C%2057.303508%5D%2C%20%5B13.272494%2C%2057.247305%5D%2C%20%5B13.227497%2C%2057.256397%5D%2C%20%5B13.197654%2C%2057.234212%5D%2C%20%5B13.180235%2C%2057.184467%5D%2C%20%5B13.133071%2C%2057.149162%5D%2C%20%5B13.100658%2C%2057.160712%5D%2C%20%5B13.072537%2C%2057.14924%5D%2C%20%5B13.047313%2C%2057.157465%5D%2C%20%5B13.057045%2C%2057.178701%5D%2C%20%5B13.011819%2C%2057.185922%5D%2C%20%5B12.940984%2C%2057.176131%5D%2C%20%5B12.932%2C%2057.228743%5D%2C%20%5B12.953051%2C%2057.236923%5D%2C%20%5B12.930822%2C%2057.266621%5D%2C%20%5B12.858092%2C%2057.267657%5D%2C%20%5B12.798433%2C%2057.289108%5D%2C%20%5B12.705254%2C%2057.332145%5D%2C%20%5B12.652677%2C%2057.337719%5D%2C%20%5B12.527399%2C%2057.32251%5D%2C%20%5B12.505214%2C%2057.280047%5D%2C%20%5B12.427689%2C%2057.272028%5D%2C%20%5B12.430555%2C%2057.320584%5D%2C%20%5B12.395482%2C%2057.341994%5D%2C%20%5B12.411514%2C%2057.410946%5D%2C%20%5B12.396931%2C%2057.443134%5D%2C%20%5B12.381394%2C%2057.452795%5D%2C%20%5B12.355498%2C%2057.457821%5D%2C%20%5B12.344697%2C%2057.469243%5D%2C%20%5B12.354384%2C%2057.492073%5D%2C%20%5B12.343708%2C%2057.512618%5D%2C%20%5B12.326534%2C%2057.529183%5D%2C%20%5B12.342632%2C%2057.567772%5D%2C%20%5B12.28382%2C%2057.604219%5D%5D%5D%2C%20%5B%5B%5B11.844999%2C%2058.11997%5D%2C%20%5B11.809487%2C%2058.117035%5D%2C%20%5B11.780832%2C%2058.114344%5D%2C%20%5B11.770611%2C%2058.112816%5D%2C%20%5B11.750718%2C%2058.10555%5D%2C%20%5B11.732959%2C%2058.089775%5D%2C%20%5B11.709945%2C%2058.092434%5D%2C%20%5B11.71233%2C%2058.105373%5D%2C%20%5B11.695684%2C%2058.113079%5D%2C%20%5B11.665568%2C%2058.123491%5D%2C%20%5B11.64218%2C%2058.129551%5D%2C%20%5B11.609345%2C%2058.11791%5D%2C%20%5B11.596711%2C%2058.106077%5D%2C%20%5B11.590482%2C%2058.090536%5D%2C%20%5B11.575295%2C%2058.075182%5D%2C%20%5B11.554368%2C%2058.062699%5D%2C%20%5B11.535709%2C%2058.05988%5D%2C%20%5B11.519786%2C%2058.063533%5D%2C%20%5B11.507649%2C%2058.071214%5D%2C%20%5B11.489341%2C%2058.060705%5D%2C%20%5B11.473464%2C%2058.068688%5D%2C%20%5B11.483028%2C%2058.07349%5D%2C%20%5B11.497958%2C%2058.086429%5D%2C%20%5B11.502493%2C%2058.099626%5D%2C%20%5B11.487112%2C%2058.112509%5D%2C%20%5B11.464124%2C%2058.125525%5D%2C%20%5B11.444324%2C%2058.13569%5D%2C%20%5B11.439298%2C%2058.147016%5D%2C%20%5B11.41694%2C%2058.148252%5D%2C%20%5B11.404107%2C%2058.136661%5D%2C%20%5B11.391393%2C%2058.132409%5D%2C%20%5B11.408135%2C%2058.15772%5D%2C%20%5B11.435355%2C%2058.178291%5D%2C%20%5B11.461684%2C%2058.174643%5D%2C%20%5B11.486499%2C%2058.173608%5D%2C%20%5B11.504662%2C%2058.181558%5D%2C%20%5B11.520868%2C%2058.18872%5D%2C%20%5B11.55077%2C%2058.195017%5D%2C%20%5B11.569862%2C%2058.202376%5D%2C%20%5B11.595374%2C%2058.211815%5D%2C%20%5B11.614843%2C%2058.225508%5D%2C%20%5B11.636272%2C%2058.239335%5D%2C%20%5B11.658098%2C%2058.242752%5D%2C%20%5B11.682266%2C%2058.240587%5D%2C%20%5B11.696251%2C%2058.241101%5D%2C%20%5B11.701307%2C%2058.253093%5D%2C%20%5B11.696757%2C%2058.267777%5D%2C%20%5B11.701232%2C%2058.282303%5D%2C%20%5B11.732905%2C%2058.292979%5D%2C%20%5B11.752692%2C%2058.295191%5D%2C%20%5B11.790159%2C%2058.293553%5D%2C%20%5B11.791156%2C%2058.275132%5D%2C%20%5B11.800474%2C%2058.257898%5D%2C%20%5B11.819922%2C%2058.2504%5D%2C%20%5B11.839386%2C%2058.242666%5D%2C%20%5B11.858521%2C%2058.230318%5D%2C%20%5B11.866836%2C%2058.217264%5D%2C%20%5B11.856102%2C%2058.19999%5D%2C%20%5B11.849304%2C%2058.183224%5D%2C%20%5B11.855803%2C%2058.163015%5D%2C%20%5B11.853121%2C%2058.136939%5D%2C%20%5B11.844999%2C%2058.11997%5D%5D%5D%2C%20%5B%5B%5B11.700389%2C%2057.977603%5D%2C%20%5B11.702143%2C%2057.970702%5D%2C%20%5B11.685853%2C%2057.965258%5D%2C%20%5B11.663598%2C%2057.960102%5D%2C%20%5B11.652347%2C%2057.954305%5D%2C%20%5B11.642678%2C%2057.943202%5D%2C%20%5B11.634797%2C%2057.933784%5D%2C%20%5B11.602306%2C%2057.931704%5D%2C%20%5B11.595448%2C%2057.939747%5D%2C%20%5B11.594191%2C%2057.959535%5D%2C%20%5B11.574808%2C%2057.964131%5D%2C%20%5B11.567607%2C%2057.966525%5D%2C%20%5B11.561003%2C%2057.972156%5D%2C%20%5B11.557375%2C%2057.98649%5D%2C%20%5B11.560245%2C%2057.996258%5D%2C%20%5B11.571919%2C%2057.998329%5D%2C%20%5B11.598505%2C%2058.000444%5D%2C%20%5B11.60069%2C%2058.007501%5D%2C%20%5B11.596753%2C%2058.015919%5D%2C%20%5B11.556253%2C%2058.013779%5D%2C%20%5B11.539173%2C%2058.015248%5D%2C%20%5B11.530342%2C%2058.022951%5D%2C%20%5B11.529293%2C%2058.032013%5D%2C%20%5B11.540511%2C%2058.046935%5D%2C%20%5B11.551916%2C%2058.051677%5D%2C%20%5B11.567382%2C%2058.05551%5D%2C%20%5B11.6236%2C%2058.051278%5D%2C%20%5B11.643104%2C%2058.054722%5D%2C%20%5B11.654277%2C%2058.061587%5D%2C%20%5B11.672186%2C%2058.088552%5D%2C%20%5B11.680631%2C%2058.093167%5D%2C%20%5B11.698723%2C%2058.091712%5D%2C%20%5B11.720487%2C%2058.083973%5D%2C%20%5B11.717584%2C%2058.074208%5D%2C%20%5B11.705914%2C%2058.062516%5D%2C%20%5B11.724278%2C%2058.058388%5D%2C%20%5B11.753907%2C%2058.069708%5D%2C%20%5B11.77198%2C%2058.059128%5D%2C%20%5B11.775797%2C%2058.042127%5D%2C%20%5B11.775955%2C%2058.017873%5D%2C%20%5B11.768207%2C%2058.002176%5D%2C%20%5B11.753146%2C%2057.994632%5D%2C%20%5B11.740208%2C%2057.994677%5D%2C%20%5B11.733985%2C%2058.006234%5D%2C%20%5B11.714901%2C%2058.008174%5D%2C%20%5B11.707991%2C%2057.989686%5D%2C%20%5B11.700389%2C%2057.977603%5D%5D%5D%2C%20%5B%5B%5B11.686709%2C%2057.753961%5D%2C%20%5B11.705887%2C%2057.75862%5D%2C%20%5B11.72054%2C%2057.741755%5D%2C%20%5B11.707912%2C%2057.729041%5D%2C%20%5B11.697599%2C%2057.710208%5D%2C%20%5B11.698828%2C%2057.692854%5D%2C%20%5B11.694375%2C%2057.681501%5D%2C%20%5B11.68379%2C%2057.677335%5D%2C%20%5B11.632745%2C%2057.696155%5D%2C%20%5B11.630851%2C%2057.705162%5D%2C%20%5B11.654804%2C%2057.704513%5D%2C%20%5B11.65721%2C%2057.7143%5D%2C%20%5B11.650139%2C%2057.718248%5D%2C%20%5B11.649799%2C%2057.727935%5D%2C%20%5B11.667385%2C%2057.727254%5D%2C%20%5B11.66768%2C%2057.745394%5D%2C%20%5B11.686709%2C%2057.753961%5D%5D%5D%2C%20%5B%5B%5B11.669868%2C%2057.903525%5D%2C%20%5B11.713516%2C%2057.903062%5D%2C%20%5B11.701016%2C%2057.881679%5D%2C%20%5B11.629152%2C%2057.860122%5D%2C%20%5B11.598142%2C%2057.871771%5D%2C%20%5B11.630896%2C%2057.897717%5D%2C%20%5B11.669868%2C%2057.903525%5D%5D%5D%2C%20%5B%5B%5B11.601305%2C%2057.743411%5D%2C%20%5B11.622553%2C%2057.79397%5D%2C%20%5B11.658865%2C%2057.770948%5D%2C%20%5B11.618078%2C%2057.740103%5D%2C%20%5B11.601305%2C%2057.743411%5D%5D%5D%2C%20%5B%5B%5B11.77996%2C%2058.078454%5D%2C%20%5B11.783196%2C%2058.092038%5D%2C%20%5B11.785502%2C%2058.105764%5D%2C%20%5B11.802585%2C%2058.101215%5D%2C%20%5B11.803077%2C%2058.08987%5D%2C%20%5B11.791213%2C%2058.080526%5D%2C%20%5B11.77996%2C%2058.078454%5D%5D%5D%2C%20%5B%5B%5B11.751343%2C%2058.08363%5D%2C%20%5B11.765787%2C%2058.101284%5D%2C%20%5B11.772146%2C%2058.082889%5D%2C%20%5B11.751343%2C%2058.08363%5D%5D%5D%5D%2C%20%22type%22%3A%20%22MultiPolygon%22%7D%2C%20%22id%22%3A%20%2217%22%2C%20%22properties%22%3A%20%7B%22Frequency%22%3A%20105%2C%20%22cartodb_id%22%3A%2012%2C%20%22created_at%22%3A%20%222014-09-16T07%3A35%3A21%2B00%3A00%22%2C%20%22name%22%3A%20%22V%5Cu00e4stra%20G%5Cu00f6taland%22%2C%20%22poly_name%22%3A%20%22V%5Cu00e4stra%20G%5Cu00f6taland%22%2C%20%22updated_at%22%3A%20%222014-09-16T07%3A35%3A21%2B00%3A00%22%7D%2C%20%22type%22%3A%20%22Feature%22%7D%2C%20%7B%22bbox%22%3A%20%5B12.160884%2C%2059.86114%2C%2016.720361%2C%2062.261592%5D%2C%20%22geometry%22%3A%20%7B%22coordinates%22%3A%20%5B%5B%5B%5B13.949398%2C%2060.266798%5D%2C%20%5B13.967804%2C%2060.188652%5D%2C%20%5B13.848025%2C%2060.268447%5D%2C%20%5B13.692454%2C%2060.41757%5D%2C%20%5B13.567866%2C%2060.421451%5D%2C%20%5B13.496855%2C%2060.447148%5D%2C%20%5B13.437233%2C%2060.527082%5D%2C%20%5B13.305194%2C%2060.636806%5D%2C%20%5B13.260102%2C%2060.698038%5D%2C%20%5B13.204982%2C%2060.69829%5D%2C%20%5B13.175439%2C%2060.766119%5D%2C%20%5B12.702387%2C%2061.007994%5D%2C%20%5B12.67632%2C%2061.058109%5D%2C%20%5B12.697828%2C%2061.154121%5D%2C%20%5B12.781101%2C%2061.187406%5D%2C%20%5B12.827458%2C%2061.247131%5D%2C%20%5B12.86223%2C%2061.360709%5D%2C%20%5B12.582828%2C%2061.57406%5D%2C%20%5B12.434673%2C%2061.567841%5D%2C%20%5B12.160884%2C%2061.725341%5D%2C%20%5B12.302202%2C%2062.261592%5D%2C%20%5B12.616807%2C%2062.221612%5D%2C%20%5B12.795656%2C%2062.23038%5D%2C%20%5B12.940514%2C%2062.146344%5D%2C%20%5B13.038443%2C%2062.08537%5D%2C%20%5B13.159416%2C%2062.027092%5D%2C%20%5B13.295778%2C%2062.061914%5D%2C%20%5B13.322772%2C%2062.017658%5D%2C%20%5B13.371377%2C%2062.010471%5D%2C%20%5B13.20924%2C%2061.935186%5D%2C%20%5B13.416074%2C%2061.82666%5D%2C%20%5B13.514506%2C%2061.736383%5D%2C%20%5B13.506641%2C%2061.691581%5D%2C%20%5B13.56471%2C%2061.655073%5D%2C%20%5B13.613103%2C%2061.671244%5D%2C%20%5B13.89015%2C%2061.651166%5D%2C%20%5B13.983116%2C%2061.634682%5D%2C%20%5B14.201418%2C%2061.632642%5D%2C%20%5B14.356786%2C%2061.613177%5D%2C%20%5B14.41477%2C%2061.586199%5D%2C%20%5B14.500716%2C%2061.630198%5D%2C%20%5B14.657637%2C%2061.601272%5D%2C%20%5B14.684107%2C%2061.547636%5D%2C%20%5B14.647643%2C%2061.500556%5D%2C%20%5B14.7484%2C%2061.512063%5D%2C%20%5B14.802598%2C%2061.500438%5D%2C%20%5B14.917187%2C%2061.505747%5D%2C%20%5B15.069327%2C%2061.492816%5D%2C%20%5B15.159007%2C%2061.604053%5D%2C%20%5B15.230175%2C%2061.512417%5D%2C%20%5B15.654308%2C%2061.223408%5D%2C%20%5B15.68075%2C%2061.131433%5D%2C%20%5B15.758098%2C%2061.060165%5D%2C%20%5B15.934091%2C%2061.012191%5D%2C%20%5B16.142542%2C%2061.000705%5D%2C%20%5B16.240161%2C%2060.878355%5D%2C%20%5B16.400903%2C%2060.787688%5D%2C%20%5B16.374772%2C%2060.73975%5D%2C%20%5B16.304972%2C%2060.713166%5D%2C%20%5B16.322127%2C%2060.679508%5D%2C%20%5B16.241252%2C%2060.618551%5D%2C%20%5B16.147161%2C%2060.604859%5D%2C%20%5B16.233247%2C%2060.519969%5D%2C%20%5B16.275301%2C%2060.511983%5D%2C%20%5B16.300985%2C%2060.483233%5D%2C%20%5B16.40304%2C%2060.381503%5D%2C%20%5B16.52059%2C%2060.364499%5D%2C%20%5B16.579017%2C%2060.340872%5D%2C%20%5B16.587553%2C%2060.304058%5D%2C%20%5B16.628302%2C%2060.292395%5D%2C%20%5B16.639214%2C%2060.237297%5D%2C%20%5B16.720361%2C%2060.199881%5D%2C%20%5B16.5701%2C%2060.196362%5D%2C%20%5B16.516243%2C%2060.185271%5D%2C%20%5B16.515507%2C%2060.154497%5D%2C%20%5B16.420431%2C%2060.124212%5D%2C%20%5B16.377732%2C%2060.08517%5D%2C%20%5B16.191697%2C%2060.076077%5D%2C%20%5B16.153167%2C%2060.086272%5D%2C%20%5B16.170559%2C%2060.126903%5D%2C%20%5B16.10659%2C%2060.14707%5D%2C%20%5B16.052881%2C%2060.150286%5D%2C%20%5B16.019263%2C%2060.190922%5D%2C%20%5B15.966668%2C%2060.198868%5D%2C%20%5B15.893911%2C%2060.168725%5D%2C%20%5B15.779051%2C%2060.182169%5D%2C%20%5B15.754954%2C%2060.149599%5D%2C%20%5B15.715352%2C%2060.135576%5D%2C%20%5B15.71848%2C%2060.1028%5D%2C%20%5B15.662605%2C%2060.049858%5D%2C%20%5B15.709452%2C%2060.018217%5D%2C%20%5B15.67789%2C%2059.945182%5D%2C%20%5B15.608909%2C%2059.958767%5D%2C%20%5B15.530114%2C%2059.96139%5D%2C%20%5B15.481482%2C%2059.906177%5D%2C%20%5B15.401702%2C%2059.86114%5D%2C%20%5B15.324547%2C%2059.929304%5D%2C%20%5B15.21681%2C%2059.991204%5D%2C%20%5B15.12429%2C%2060.025065%5D%2C%20%5B15.066472%2C%2060.069705%5D%2C%20%5B15.018435%2C%2060.064976%5D%2C%20%5B14.993258%2C%2060.08256%5D%2C%20%5B14.923553%2C%2060.060822%5D%2C%20%5B14.852924%2C%2060.086111%5D%2C%20%5B14.846076%2C%2060.122621%5D%2C%20%5B14.791183%2C%2060.11995%5D%2C%20%5B14.717224%2C%2060.094704%5D%2C%20%5B14.745337%2C%2060.002925%5D%2C%20%5B14.438386%2C%2060.025714%5D%2C%20%5B14.215313%2C%2060.098742%5D%2C%20%5B14.186498%2C%2060.175911%5D%2C%20%5B14.137722%2C%2060.244332%5D%2C%20%5B14.038642%2C%2060.238516%5D%2C%20%5B14.018711%2C%2060.268288%5D%2C%20%5B13.949398%2C%2060.266798%5D%5D%2C%20%5B%5B14.6713%2C%2060.828977%5D%2C%20%5B14.735164%2C%2060.780703%5D%2C%20%5B14.907237%2C%2060.82466%5D%2C%20%5B14.965694%2C%2060.753031%5D%2C%20%5B14.98241%2C%2060.829943%5D%2C%20%5B15.057387%2C%2060.845433%5D%2C%20%5B15.119606%2C%2060.88083%5D%2C%20%5B15.036685%2C%2060.90858%5D%2C%20%5B14.983113%2C%2060.884147%5D%2C%20%5B14.90762%2C%2060.860805%5D%2C%20%5B14.746317%2C%2060.939222%5D%2C%20%5B14.686737%2C%2060.938489%5D%2C%20%5B14.602222%2C%2060.996719%5D%2C%20%5B14.552503%2C%2060.971952%5D%2C%20%5B14.567232%2C%2060.935127%5D%2C%20%5B14.640738%2C%2060.931646%5D%2C%20%5B14.691018%2C%2060.905747%5D%2C%20%5B14.643971%2C%2060.893537%5D%2C%20%5B14.566134%2C%2060.893615%5D%2C%20%5B14.6713%2C%2060.828977%5D%5D%5D%5D%2C%20%22type%22%3A%20%22MultiPolygon%22%7D%2C%20%22id%22%3A%20%2218%22%2C%20%22properties%22%3A%20%7B%22Frequency%22%3A%208%2C%20%22cartodb_id%22%3A%2016%2C%20%22created_at%22%3A%20%222014-09-16T07%3A35%3A21%2B00%3A00%22%2C%20%22name%22%3A%20%22Dalarna%22%2C%20%22poly_name%22%3A%20%22Dalarna%22%2C%20%22updated_at%22%3A%20%222014-09-16T07%3A35%3A21%2B00%3A00%22%7D%2C%20%22type%22%3A%20%22Feature%22%7D%2C%20%7B%22bbox%22%3A%20%5B14.330409%2C%2063.443113%2C%2021.568673%2C%2066.354476%5D%2C%20%22geometry%22%3A%20%7B%22coordinates%22%3A%20%5B%5B%5B%5B19.747503%2C%2063.542902%5D%2C%20%5B19.715459%2C%2063.521124%5D%2C%20%5B19.746751%2C%2063.467513%5D%2C%20%5B19.663447%2C%2063.443113%5D%2C%20%5B19.577247%2C%2063.522927%5D%2C%20%5B19.462651%2C%2063.573854%5D%2C%20%5B19.414282%2C%2063.544766%5D%2C%20%5B19.474985%2C%2063.48167%5D%2C%20%5B19.386767%2C%2063.464802%5D%2C%20%5B19.278277%2C%2063.479233%5D%2C%20%5B19.177499%2C%2063.566526%5D%2C%20%5B19.181385%2C%2063.608157%5D%2C%20%5B18.964029%2C%2063.768351%5D%2C%20%5B18.902779%2C%2063.801993%5D%2C%20%5B18.800519%2C%2063.796672%5D%2C%20%5B18.751064%2C%2063.825746%5D%2C%20%5B18.6326%2C%2063.839684%5D%2C%20%5B18.487956%2C%2063.849883%5D%2C%20%5B18.424754%2C%2063.925266%5D%2C%20%5B18.473282%2C%2063.967387%5D%2C%20%5B18.381942%2C%2064.00829%5D%2C%20%5B17.707624%2C%2063.893245%5D%2C%20%5B17.260747%2C%2063.929773%5D%2C%20%5B16.845236%2C%2063.967878%5D%2C%20%5B16.724291%2C%2064.026835%5D%2C%20%5B16.205936%2C%2064.284373%5D%2C%20%5B16.033083%2C%2064.277145%5D%2C%20%5B16.028569%2C%2064.3498%5D%2C%20%5B15.757897%2C%2064.428699%5D%2C%20%5B15.749737%2C%2064.490632%5D%2C%20%5B15.703184%2C%2064.550821%5D%2C%20%5B15.626895%2C%2064.532844%5D%2C%20%5B15.639758%2C%2064.456239%5D%2C%20%5B15.573138%2C%2064.457665%5D%2C%20%5B15.542991%2C%2064.533292%5D%2C%20%5B15.424268%2C%2064.576922%5D%2C%20%5B15.422533%2C%2064.602329%5D%2C%20%5B15.361526%2C%2064.594345%5D%2C%20%5B15.335205%2C%2064.622689%5D%2C%20%5B15.264455%2C%2064.642234%5D%2C%20%5B15.332943%2C%2064.66257%5D%2C%20%5B15.231793%2C%2064.728705%5D%2C%20%5B15.046683%2C%2064.765941%5D%2C%20%5B15.031683%2C%2064.824446%5D%2C%20%5B14.950443%2C%2064.873165%5D%2C%20%5B14.865919%2C%2064.875005%5D%2C%20%5B14.786702%2C%2064.91632%5D%2C%20%5B14.791616%2C%2064.954046%5D%2C%20%5B14.720448%2C%2064.988942%5D%2C%20%5B14.674495%2C%2065.016749%5D%2C%20%5B14.620805%2C%2065.024379%5D%2C%20%5B14.330409%2C%2065.131043%5D%2C%20%5B14.371274%2C%2065.260035%5D%2C%20%5B14.500314%2C%2065.314538%5D%2C%20%5B14.50226%2C%2065.457702%5D%2C%20%5B14.543711%2C%2065.699209%5D%2C%20%5B14.638823%2C%2065.820032%5D%2C%20%5B14.534875%2C%2066.138284%5D%2C%20%5B14.980546%2C%2066.149332%5D%2C%20%5B15.037858%2C%2066.152371%5D%2C%20%5B15.483404%2C%2066.29219%5D%2C%20%5B15.465048%2C%2066.354476%5D%2C%20%5B15.822678%2C%2066.300218%5D%2C%20%5B16.579049%2C%2066.054594%5D%2C%20%5B16.779193%2C%2066.053085%5D%2C%20%5B17.661291%2C%2065.670906%5D%2C%20%5B17.793266%2C%2065.646552%5D%2C%20%5B18.073337%2C%2065.607358%5D%2C%20%5B18.180348%2C%2065.592085%5D%2C%20%5B18.230943%2C%2065.548221%5D%2C%20%5B18.293836%2C%2065.52537%5D%2C%20%5B18.426727%2C%2065.510038%5D%2C%20%5B18.514454%2C%2065.487862%5D%2C%20%5B18.580069%2C%2065.454381%5D%2C%20%5B18.701512%2C%2065.451675%5D%2C%20%5B18.750524%2C%2065.442875%5D%2C%20%5B18.766815%2C%2065.418096%5D%2C%20%5B18.822811%2C%2065.405167%5D%2C%20%5B18.852481%2C%2065.381267%5D%2C%20%5B18.943659%2C%2065.358563%5D%2C%20%5B19.041098%2C%2065.340811%5D%2C%20%5B19.044366%2C%2065.316895%5D%2C%20%5B19.08963%2C%2065.320997%5D%2C%20%5B19.285443%2C%2065.257795%5D%2C%20%5B19.250513%2C%2065.2366%5D%2C%20%5B19.253559%2C%2065.212672%5D%2C%20%5B19.334676%2C%2065.188571%5D%2C%20%5B19.413849%2C%2065.149967%5D%2C%20%5B19.599065%2C%2065.191012%5D%2C%20%5B19.653998%2C%2065.214296%5D%2C%20%5B19.881292%2C%2065.394348%5D%2C%20%5B20.755287%2C%2065.213666%5D%2C%20%5B21.29237%2C%2065.170224%5D%2C%20%5B21.312535%2C%2065.131809%5D%2C%20%5B21.501578%2C%2065.080467%5D%2C%20%5B21.357536%2C%2064.968373%5D%2C%20%5B21.236689%2C%2064.95136%5D%2C%20%5B21.26735%2C%2064.899197%5D%2C%20%5B21.13049%2C%2064.830395%5D%2C%20%5B21.016441%2C%2064.843818%5D%2C%20%5B21.070464%2C%2064.786069%5D%2C%20%5B21.253581%2C%2064.773912%5D%2C%20%5B21.24312%2C%2064.690488%5D%2C%20%5B21.191743%2C%2064.663803%5D%2C%20%5B21.251692%2C%2064.610913%5D%2C%20%5B21.365504%2C%2064.599068%5D%2C%20%5B21.450557%2C%2064.554831%5D%2C%20%5B21.486995%2C%2064.472682%5D%2C%20%5B21.568673%2C%2064.474526%5D%2C%20%5B21.568534%2C%2064.439671%5D%2C%20%5B21.436043%2C%2064.350693%5D%2C%20%5B21.224596%2C%2064.285776%5D%2C%20%5B21.079606%2C%2064.213613%5D%2C%20%5B20.957981%2C%2064.150933%5D%2C%20%5B20.914119%2C%2064.055838%5D%2C%20%5B20.822494%2C%2063.946577%5D%2C%20%5B20.739672%2C%2063.870727%5D%2C%20%5B20.663084%2C%2063.813853%5D%2C%20%5B20.514855%2C%2063.806338%5D%2C%20%5B20.429416%2C%2063.762345%5D%2C%20%5B20.397913%2C%2063.690009%5D%2C%20%5B20.312154%2C%2063.691708%5D%2C%20%5B20.286565%2C%2063.660925%5D%2C%20%5B20.117641%2C%2063.660281%5D%2C%20%5B20.014995%2C%2063.670496%5D%2C%20%5B19.995018%2C%2063.622792%5D%2C%20%5B19.910152%2C%2063.626026%5D%2C%20%5B19.747503%2C%2063.542902%5D%5D%5D%5D%2C%20%22type%22%3A%20%22MultiPolygon%22%7D%2C%20%22id%22%3A%20%2219%22%2C%20%22properties%22%3A%20%7B%22Frequency%22%3A%202%2C%20%22cartodb_id%22%3A%2020%2C%20%22created_at%22%3A%20%222014-09-16T07%3A35%3A21%2B00%3A00%22%2C%20%22name%22%3A%20%22V%5Cu00e4sterbotten%22%2C%20%22poly_name%22%3A%20%22V%5Cu00e4sterbotten%22%2C%20%22updated_at%22%3A%20%222014-09-16T07%3A35%3A21%2B00%3A00%22%7D%2C%20%22type%22%3A%20%22Feature%22%7D%2C%20%7B%22bbox%22%3A%20%5B15.38887%2C%2065.080467%2C%2024.149845%2C%2069.04774%5D%2C%20%22geometry%22%3A%20%7B%22coordinates%22%3A%20%5B%5B%5B%5B18.180348%2C%2065.592085%5D%2C%20%5B18.073337%2C%2065.607358%5D%2C%20%5B17.793266%2C%2065.646552%5D%2C%20%5B17.661291%2C%2065.670906%5D%2C%20%5B16.779193%2C%2066.053085%5D%2C%20%5B16.579049%2C%2066.054594%5D%2C%20%5B15.822678%2C%2066.300218%5D%2C%20%5B15.465048%2C%2066.354476%5D%2C%20%5B15.38887%2C%2066.484402%5D%2C%20%5B15.634687%2C%2066.598284%5D%2C%20%5B15.998186%2C%2066.878322%5D%2C%20%5B16.106345%2C%2066.929347%5D%2C%20%5B16.375812%2C%2067.01959%5D%2C%20%5B16.425061%2C%2067.168708%5D%2C%20%5B16.390316%2C%2067.232602%5D%2C%20%5B16.11439%2C%2067.421335%5D%2C%20%5B16.199174%2C%2067.507901%5D%2C%20%5B16.416947%2C%2067.5229%5D%2C%20%5B16.529978%2C%2067.604381%5D%2C%20%5B16.71192%2C%2067.892611%5D%2C%20%5B16.770616%2C%2067.913277%5D%2C%20%5B17.201236%2C%2068.029221%5D%2C%20%5B17.299725%2C%2068.096648%5D%2C%20%5B17.659005%2C%2068.022929%5D%2C%20%5B17.917821%2C%2067.944926%5D%2C%20%5B17.945843%2C%2067.977861%5D%2C%20%5B18.166618%2C%2068.168816%5D%2C%20%5B18.090545%2C%2068.382224%5D%2C%20%5B18.112096%2C%2068.513696%5D%2C%20%5B18.399895%2C%2068.559038%5D%2C%20%5B18.601893%2C%2068.488934%5D%2C%20%5B18.981032%2C%2068.50418%5D%2C%20%5B19.913597%2C%2068.363445%5D%2C%20%5B20.245201%2C%2068.495962%5D%2C%20%5B19.95245%2C%2068.556251%5D%2C%20%5B20.083278%2C%2068.596674%5D%2C%20%5B20.234179%2C%2068.674053%5D%2C%20%5B20.342706%2C%2068.801838%5D%2C%20%5B20.320676%2C%2068.911248%5D%2C%20%5B20.114416%2C%2069.029481%5D%2C%20%5B20.594156%2C%2069.04774%5D%2C%20%5B20.803601%2C%2069.029251%5D%2C%20%5B20.882777%2C%2068.988769%5D%2C%20%5B20.942493%2C%2068.977135%5D%2C%20%5B20.91678%2C%2068.958847%5D%2C%20%5B20.863632%2C%2068.937048%5D%2C%20%5B20.939507%2C%2068.90042%5D%2C%20%5B21.022621%2C%2068.903519%5D%2C%20%5B21.244251%2C%2068.821142%5D%2C%20%5B21.305017%2C%2068.768896%5D%2C%20%5B21.366547%2C%2068.77892%5D%2C%20%5B21.424403%2C%2068.765366%5D%2C%20%5B21.432862%2C%2068.70234%5D%2C%20%5B21.513573%2C%2068.68515%5D%2C%20%5B21.625138%2C%2068.669193%5D%2C%20%5B21.729815%2C%2068.633483%5D%2C%20%5B21.715742%2C%2068.601533%5D%2C%20%5B21.849631%2C%2068.598333%5D%2C%20%5B22.01481%2C%2068.555748%5D%2C%20%5B22.011025%2C%2068.524798%5D%2C%20%5B22.030631%2C%2068.499327%5D%2C%20%5B22.126602%2C%2068.48419%5D%2C%20%5B22.234756%2C%2068.480874%5D%2C%20%5B22.317553%2C%2068.485107%5D%2C%20%5B22.353638%2C%2068.454519%5D%2C%20%5B22.403734%2C%2068.4706%5D%2C%20%5B22.58924%2C%2068.431128%5D%2C%20%5B22.625497%2C%2068.440967%5D%2C%20%5B22.661885%2C%2068.419449%5D%2C%20%5B22.763484%2C%2068.39052%5D%2C%20%5B22.793643%2C%2068.406365%5D%2C%20%5B22.843793%2C%2068.390991%5D%2C%20%5B22.836419%2C%2068.363979%5D%2C%20%5B22.940948%2C%2068.340175%5D%2C%20%5B22.973988%2C%2068.3373%5D%2C%20%5B23.07825%2C%2068.31342%5D%2C%20%5B23.084927%2C%2068.277766%5D%2C%20%5B23.164243%2C%2068.246777%5D%2C%20%5B23.161405%2C%2068.211962%5D%2C%20%5B23.145775%2C%2068.172757%5D%2C%20%5B23.181418%2C%2068.143756%5D%2C%20%5B23.280888%2C%2068.159462%5D%2C%20%5B23.340466%2C%2068.129484%5D%2C%20%5B23.397214%2C%2068.050462%5D%2C%20%5B23.46938%2C%2068.047587%5D%2C%20%5B23.481168%2C%2068.020641%5D%2C%20%5B23.542741%2C%2068.016844%5D%2C%20%5B23.561429%2C%2067.978162%5D%2C%20%5B23.644925%2C%2067.970447%5D%2C%20%5B23.655244%2C%2067.912172%5D%2C%20%5B23.536194%2C%2067.895488%5D%2C%20%5B23.488023%2C%2067.829721%5D%2C%20%5B23.506671%2C%2067.791055%5D%2C%20%5B23.483184%2C%2067.687922%5D%2C%20%5B23.556682%2C%2067.629351%5D%2C%20%5B23.51585%2C%2067.566645%5D%2C%20%5B23.469088%2C%2067.569153%5D%2C%20%5B23.494343%2C%2067.540943%5D%2C%20%5B23.415128%2C%2067.492912%5D%2C%20%5B23.507353%2C%2067.456597%5D%2C%20%5B23.541319%2C%2067.471877%5D%2C%20%5B23.685388%2C%2067.441635%5D%2C%20%5B23.723982%2C%2067.456445%5D%2C%20%5B23.786167%2C%2067.42649%5D%2C%20%5B23.749791%2C%2067.392979%5D%2C%20%5B23.746234%2C%2067.350789%5D%2C%20%5B23.793587%2C%2067.342555%5D%2C%20%5B23.740352%2C%2067.290335%5D%2C%20%5B23.613093%2C%2067.278464%5D%2C%20%5B23.580588%2C%2067.23535%5D%2C%20%5B23.606505%2C%2067.208858%5D%2C%20%5B23.576289%2C%2067.176627%5D%2C%20%5B23.678272%2C%2067.105875%5D%2C%20%5B23.68381%2C%2067.055441%5D%2C%20%5B23.770574%2C%2067.00637%5D%2C%20%5B23.82283%2C%2066.999432%5D%2C%20%5B23.831548%2C%2066.969006%5D%2C%20%5B23.888098%2C%2066.954212%5D%2C%20%5B23.88995%2C%2066.913332%5D%2C%20%5B23.981289%2C%2066.858066%5D%2C%20%5B24.013985%2C%2066.821521%5D%2C%20%5B23.99473%2C%2066.784578%5D%2C%20%5B23.935266%2C%2066.79418%5D%2C%20%5B23.917329%2C%2066.766357%5D%2C%20%5B23.917694%2C%2066.68677%5D%2C%20%5B23.891069%2C%2066.65242%5D%2C%20%5B23.889414%2C%2066.584147%5D%2C%20%5B23.820341%2C%2066.555871%5D%2C%20%5B23.819118%2C%2066.524553%5D%2C%20%5B23.739434%2C%2066.515791%5D%2C%20%5B23.728455%2C%2066.483593%5D%2C%20%5B23.654398%2C%2066.468712%5D%2C%20%5B23.646824%2C%2066.44173%5D%2C%20%5B23.696891%2C%2066.403541%5D%2C%20%5B23.634142%2C%2066.31733%5D%2C%20%5B23.72932%2C%2066.189608%5D%2C%20%5B23.861971%2C%2066.1652%5D%2C%20%5B23.939041%2C%2066.159275%5D%2C%20%5B23.928015%2C%2066.1271%5D%2C%20%5B23.953637%2C%2066.109698%5D%2C%20%5B23.946973%2C%2066.08448%5D%2C%20%5B24.021316%2C%2066.021395%5D%2C%20%5B24.041939%2C%2065.96007%5D%2C%20%5B24.149845%2C%2065.803639%5D%2C%20%5B23.839584%2C%2065.793967%5D%2C%20%5B23.755849%2C%2065.826502%5D%2C%20%5B23.686844%2C%2065.831624%5D%2C%20%5B23.666708%2C%2065.805934%5D%2C%20%5B23.59568%2C%2065.797666%5D%2C%20%5B23.488307%2C%2065.823769%5D%2C%20%5B23.430479%2C%2065.779655%5D%2C%20%5B23.284761%2C%2065.80694%5D%2C%20%5B23.220845%2C%2065.820573%5D%2C%20%5B23.173648%2C%2065.793808%5D%2C%20%5B23.110872%2C%2065.716916%5D%2C%20%5B23.014484%2C%2065.759423%5D%2C%20%5B22.834121%2C%2065.796941%5D%2C%20%5B22.782533%2C%2065.871838%5D%2C%20%5B22.701758%2C%2065.896009%5D%2C%20%5B22.667166%2C%2065.88268%5D%2C%20%5B22.686622%2C%2065.79798%5D%2C%20%5B22.7787%2C%2065.746936%5D%2C%20%5B22.777842%2C%2065.713854%5D%2C%20%5B22.705352%2C%2065.728067%5D%2C%20%5B22.619484%2C%2065.779714%5D%2C%20%5B22.506998%2C%2065.781598%5D%2C%20%5B22.513775%2C%2065.817787%5D%2C%20%5B22.439926%2C%2065.870609%5D%2C%20%5B22.336527%2C%2065.854331%5D%2C%20%5B22.29654%2C%2065.789927%5D%2C%20%5B22.293158%2C%2065.718505%5D%2C%20%5B22.305915%2C%2065.660308%5D%2C%20%5B22.322477%2C%2065.609123%5D%2C%20%5B22.373337%2C%2065.56397%5D%2C%20%5B22.324392%2C%2065.555611%5D%2C%20%5B22.202224%2C%2065.576018%5D%2C%20%5B22.143872%2C%2065.56663%5D%2C%20%5B22.139141%2C%2065.524776%5D%2C%20%5B22.029716%2C%2065.52734%5D%2C%20%5B21.862508%2C%2065.529475%5D%2C%20%5B21.984474%2C%2065.467102%5D%2C%20%5B21.910153%2C%2065.421118%5D%2C%20%5B21.797316%2C%2065.404889%5D%2C%20%5B21.635406%2C%2065.415531%5D%2C%20%5B21.484368%2C%2065.395696%5D%2C%20%5B21.435513%2C%2065.368748%5D%2C%20%5B21.6543%2C%2065.298221%5D%2C%20%5B21.634798%2C%2065.268751%5D%2C%20%5B21.54327%2C%2065.243771%5D%2C%20%5B21.577317%2C%2065.147188%5D%2C%20%5B21.501578%2C%2065.080467%5D%2C%20%5B21.312535%2C%2065.131809%5D%2C%20%5B21.29237%2C%2065.170224%5D%2C%20%5B20.755287%2C%2065.213666%5D%2C%20%5B19.881292%2C%2065.394348%5D%2C%20%5B19.653998%2C%2065.214296%5D%2C%20%5B19.599065%2C%2065.191012%5D%2C%20%5B19.413849%2C%2065.149967%5D%2C%20%5B19.334676%2C%2065.188571%5D%2C%20%5B19.253559%2C%2065.212672%5D%2C%20%5B19.250513%2C%2065.2366%5D%2C%20%5B19.285443%2C%2065.257795%5D%2C%20%5B19.08963%2C%2065.320997%5D%2C%20%5B19.044366%2C%2065.316895%5D%2C%20%5B19.041098%2C%2065.340811%5D%2C%20%5B18.943659%2C%2065.358563%5D%2C%20%5B18.852481%2C%2065.381267%5D%2C%20%5B18.822811%2C%2065.405167%5D%2C%20%5B18.766815%2C%2065.418096%5D%2C%20%5B18.750524%2C%2065.442875%5D%2C%20%5B18.701512%2C%2065.451675%5D%2C%20%5B18.580069%2C%2065.454381%5D%2C%20%5B18.514454%2C%2065.487862%5D%2C%20%5B18.426727%2C%2065.510038%5D%2C%20%5B18.293836%2C%2065.52537%5D%2C%20%5B18.230943%2C%2065.548221%5D%2C%20%5B18.180348%2C%2065.592085%5D%5D%2C%20%5B%5B18.407484%2C%2065.697488%5D%2C%20%5B18.355958%2C%2065.723872%5D%2C%20%5B18.376954%2C%2065.766183%5D%2C%20%5B18.30109%2C%2065.787443%5D%2C%20%5B18.173033%2C%2065.78833%5D%2C%20%5B17.922683%2C%2065.923909%5D%2C%20%5B17.969577%2C%2065.977377%5D%2C%20%5B17.926976%2C%2066.041788%5D%2C%20%5B18.073547%2C%2066.050945%5D%2C%20%5B18.109319%2C%2066.074165%5D%2C%20%5B18.053266%2C%2066.103094%5D%2C%20%5B17.961957%2C%2066.086899%5D%2C%20%5B17.868939%2C%2066.125268%5D%2C%20%5B17.815024%2C%2066.184849%5D%2C%20%5B17.657181%2C%2066.219667%5D%2C%20%5B17.550122%2C%2066.271322%5D%2C%20%5B17.428748%2C%2066.321892%5D%2C%20%5B17.322074%2C%2066.376957%5D%2C%20%5B17.08993%2C%2066.424326%5D%2C%20%5B17.062207%2C%2066.39682%5D%2C%20%5B17.319436%2C%2066.331739%5D%2C%20%5B17.451024%2C%2066.258903%5D%2C%20%5B17.461382%2C%2066.212911%5D%2C%20%5B17.616378%2C%2066.182113%5D%2C%20%5B17.738474%2C%2066.124029%5D%2C%20%5B17.850904%2C%2066.077303%5D%2C%20%5B17.765545%2C%2066.064271%5D%2C%20%5B17.645067%2C%2066.040572%5D%2C%20%5B17.75073%2C%2065.976144%5D%2C%20%5B17.760046%2C%2065.941073%5D%2C%20%5B17.720202%2C%2065.905321%5D%2C%20%5B17.737055%2C%2065.842552%5D%2C%20%5B17.821409%2C%2065.842874%5D%2C%20%5B17.873604%2C%2065.899662%5D%2C%20%5B18.024364%2C%2065.804951%5D%2C%20%5B18.117405%2C%2065.677295%5D%2C%20%5B18.209606%2C%2065.687813%5D%2C%20%5B18.27058%2C%2065.67057%5D%2C%20%5B18.498145%2C%2065.636357%5D%2C%20%5B18.50863%2C%2065.662961%5D%2C%20%5B18.407484%2C%2065.697488%5D%5D%5D%5D%2C%20%22type%22%3A%20%22MultiPolygon%22%7D%2C%20%22id%22%3A%20%2220%22%2C%20%22properties%22%3A%20%7B%22Frequency%22%3A%206%2C%20%22cartodb_id%22%3A%2021%2C%20%22created_at%22%3A%20%222014-09-16T07%3A35%3A21%2B00%3A00%22%2C%20%22name%22%3A%20%22Norrbotten%22%2C%20%22poly_name%22%3A%20%22Norrbotten%22%2C%20%22updated_at%22%3A%20%222014-09-16T07%3A35%3A21%2B00%3A00%22%7D%2C%20%22type%22%3A%20%22Feature%22%7D%5D%2C%20%22type%22%3A%20%22FeatureCollection%22%7D%29%3B%0A%0A%20%20%20%20%20%20%20%20%0A%20%20%20%20%0A%20%20%20%20geo_json_5c73c6f5eb6044b98f99154ade2270e2.bindTooltip%28%0A%20%20%20%20function%28layer%29%7B%0A%20%20%20%20let%20div%20%3D%20L.DomUtil.create%28%27div%27%29%3B%0A%20%20%20%20%0A%20%20%20%20let%20handleObject%20%3D%20feature%3D%3Etypeof%28feature%29%3D%3D%27object%27%20%3F%20JSON.stringify%28feature%29%20%3A%20feature%3B%0A%20%20%20%20let%20fields%20%3D%20%5B%22poly_name%22%2C%20%22Frequency%22%5D%3B%0A%20%20%20%20let%20aliases%20%3D%20%5B%22poly_name%22%2C%20%22Frequency%22%5D%3B%0A%20%20%20%20let%20table%20%3D%20%27%3Ctable%3E%27%20%2B%0A%20%20%20%20%20%20%20%20String%28%0A%20%20%20%20%20%20%20%20fields.map%28%0A%20%20%20%20%20%20%20%20%28v%2Ci%29%3D%3E%0A%20%20%20%20%20%20%20%20%60%3Ctr%3E%0A%20%20%20%20%20%20%20%20%20%20%20%20%3Cth%3E%24%7Baliases%5Bi%5D%7D%3C/th%3E%0A%20%20%20%20%20%20%20%20%20%20%20%20%0A%20%20%20%20%20%20%20%20%20%20%20%20%3Ctd%3E%24%7BhandleObject%28layer.feature.properties%5Bv%5D%29%7D%3C/td%3E%0A%20%20%20%20%20%20%20%20%3C/tr%3E%60%29.join%28%27%27%29%29%0A%20%20%20%20%2B%27%3C/table%3E%27%3B%0A%20%20%20%20div.innerHTML%3Dtable%3B%0A%20%20%20%20%0A%20%20%20%20return%20div%0A%20%20%20%20%7D%0A%20%20%20%20%2C%7B%22className%22%3A%20%22foliumtooltip%22%2C%20%22sticky%22%3A%20true%7D%29%3B%0A%20%20%20%20%20%20%20%20%20%20%20%20%20%20%20%20%20%20%20%20%20%0A%20%20%20%20%0A%20%20%20%20%20%20%20%20%20%20%20%20var%20layer_control_c72ab0041bbd4ca7a061f9f0ff70e777%20%3D%20%7B%0A%20%20%20%20%20%20%20%20%20%20%20%20%20%20%20%20base_layers%20%3A%20%7B%0A%20%20%20%20%20%20%20%20%20%20%20%20%20%20%20%20%7D%2C%0A%20%20%20%20%20%20%20%20%20%20%20%20%20%20%20%20overlays%20%3A%20%20%7B%0A%20%20%20%20%20%20%20%20%20%20%20%20%20%20%20%20%20%20%20%20%22Choropleth%22%20%3A%20choropleth_6866993382dd444797401057356798b2%2C%0A%20%20%20%20%20%20%20%20%20%20%20%20%20%20%20%20%7D%2C%0A%20%20%20%20%20%20%20%20%20%20%20%20%7D%3B%0A%20%20%20%20%20%20%20%20%20%20%20%20L.control.layers%28%0A%20%20%20%20%20%20%20%20%20%20%20%20%20%20%20%20layer_control_c72ab0041bbd4ca7a061f9f0ff70e777.base_layers%2C%0A%20%20%20%20%20%20%20%20%20%20%20%20%20%20%20%20layer_control_c72ab0041bbd4ca7a061f9f0ff70e777.overlays%2C%0A%20%20%20%20%20%20%20%20%20%20%20%20%20%20%20%20%7B%22autoZIndex%22%3A%20true%2C%20%22collapsed%22%3A%20true%2C%20%22position%22%3A%20%22topright%22%7D%0A%20%20%20%20%20%20%20%20%20%20%20%20%29.addTo%28map_a5b3333b31514985a21012c384d9dada%29%3B%0A%20%20%20%20%20%20%20%20%0A%3C/script%3E onload=\"this.contentDocument.open();this.contentDocument.write(    decodeURIComponent(this.getAttribute('data-html')));this.contentDocument.close();\" allowfullscreen webkitallowfullscreen mozallowfullscreen></iframe></div></div>"
      ],
      "text/plain": [
       "<folium.folium.Map at 0x7fa686cd6820>"
      ]
     },
     "execution_count": 35,
     "metadata": {},
     "output_type": "execute_result"
    }
   ],
   "source": [
    "map_polygons_html(merge_geoNdata(Json_data,\"name\",create_Subdata(events,[\"poly_name\"]),\"poly_name\"),\"poly_name\",FREQUENCY)"
   ]
  },
  {
   "cell_type": "code",
   "execution_count": null,
   "metadata": {},
   "outputs": [],
   "source": []
  }
 ],
 "metadata": {
  "interpreter": {
   "hash": "8b6bec4769f20d18331cae5abd161f039a3180e9f9b4f88d5a08832f26fb866a"
  },
  "kernelspec": {
   "display_name": "Python 3.9.8 64-bit ('test': venv)",
   "language": "python",
   "name": "python3"
  },
  "language_info": {
   "codemirror_mode": {
    "name": "ipython",
    "version": 3
   },
   "file_extension": ".py",
   "mimetype": "text/x-python",
   "name": "python",
   "nbconvert_exporter": "python",
   "pygments_lexer": "ipython3",
   "version": "3.9.7"
  },
  "orig_nbformat": 4
 },
 "nbformat": 4,
 "nbformat_minor": 2
}
